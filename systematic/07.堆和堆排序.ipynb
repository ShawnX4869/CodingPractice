{
 "cells": [
  {
   "cell_type": "code",
   "execution_count": 1,
   "metadata": {
    "collapsed": true
   },
   "outputs": [],
   "source": [
    "#import heapq\n",
    "# from functools import __cmp_to_key__\n",
    "\n",
    "#如果想让heapq自定义排序，即让传入对象自定义__lt__和__eq__即可"
   ]
  },
  {
   "cell_type": "markdown",
   "metadata": {},
   "source": [
    "## 1.堆结构\n",
    "优先级队列(priorityQueue) 就是 堆(heap)。\n",
    "在python中为heapq\n",
    "* 堆是完全二叉树。大根堆，树的每一颗子树，最大值都为头节点。\n",
    "* 用数组实现完全二叉树：左孩子 = 2i + 1，右孩子 = 2i + 2，父 = (i - 1)//2 (0的是0)"
   ]
  },
  {
   "cell_type": "code",
   "execution_count": null,
   "metadata": {
    "collapsed": true
   },
   "outputs": [],
   "source": [
    "'''功能实现：大根堆\n",
    "1. heapInsert，根据heapSize放入位置，然后根据上述对应公式找到父亲pk，若>父交换，再往上pk，直到到顶或不大于父\n",
    "2. heapify：最顶往下沉，当前和左右两个孩子较大的pk，如果孩子大，则该孩子与当前交换，继续pk下层孩子（直到不被pk或到heapSize停)\n",
    "3. \n",
    "'''"
   ]
  },
  {
   "cell_type": "code",
   "execution_count": 14,
   "metadata": {
    "collapsed": true
   },
   "outputs": [],
   "source": [
    "def swap(arr, i, j):\n",
    "    temp = arr[i]\n",
    "    arr[i] = arr[j]\n",
    "    arr[j] = temp\n",
    "    return\n",
    "\n",
    "class bigPQ:\n",
    "    def __init__(self, maxlen=100):\n",
    "        self.arr = [None] * maxlen\n",
    "        self.heapSize = 0\n",
    "        self.maxLen = maxlen\n",
    "    #新加入的数，放到了index，依次往上和父比较\n",
    "    def heapInsert(self,index):\n",
    "        while index > 0 and self.arr[index] > self.arr[(index - 1)//2]:\n",
    "            swap(self.arr, index, (index-1)//2)\n",
    "            index = (index - 1) // 2\n",
    "    \n",
    "    #从index位置开始，往下沉；停止条件为不被孩子pk掉或已经没孩子了(heapSize)       \n",
    "    def heapify(self,index):\n",
    "        left = index * 2 + 1\n",
    "        while left < self.heapSize:\n",
    "            if left + 1 < self.heapSize and self.arr[left+1] > self.arr[left]:\n",
    "                largest = left+1\n",
    "            else:\n",
    "                largest = left\n",
    "            if self.arr[largest] <= self.arr[index]:\n",
    "                break\n",
    "            else:\n",
    "                swap(self.arr, largest, index)\n",
    "                index = largest\n",
    "                left = index * 2 + 1\n",
    "            \n",
    "    def peek(self):\n",
    "        if self.heapSize==0:\n",
    "            raise Exception(\"Wrong operation. The heap is empty.\")\n",
    "        return self.arr[0]\n",
    "    # 顶与heapSize-1位置交换；heapSize-1；[0]位置开始heapify\n",
    "    def poll(self):\n",
    "        if self.heapSize==0:\n",
    "            raise Exception(\"Wrong operation. The heap is empty.\")\n",
    "        ans = self.arr[0]\n",
    "        self.arr[0] = self.arr[self.heapSize-1]\n",
    "        self.heapSize -= 1\n",
    "        self.heapify(0)\n",
    "        return ans\n",
    "    \n",
    "    def add(self, num):\n",
    "        if self.heapSize == self.maxLen:\n",
    "            raise Exception(\"Wrong operation. The heap is full.\")\n",
    "        self.arr[self.heapSize-1] = num\n",
    "        self.heapInsert(self.heapSize-1)\n",
    "        return \n",
    "        \n",
    "    "
   ]
  },
  {
   "cell_type": "markdown",
   "metadata": {},
   "source": [
    "## 2.堆排序O(N*logN)\n",
    "1. 假设数组中的每个数为新加入的数，通过heapInsert(logN)加入\n",
    "2. 全部加入后，0位置与N-1位置交换，N-1位置固定(最大值确定，通过heapSize-1实现，后面的堆调整不再考虑N-1位置)\n",
    "3. 此时0位置为新的值，调用heapify重新调整堆。然后就能依次确定N-2...0从大到小直至heapSize=1,排序完成\n",
    "* 注意：第一步的建堆过程，从上往下heapInsert建堆，O(N*logN)；从下往上建堆，先从叶节点(N-1)...0开始heapify，可优化为O(N)。\n",
    "https://blog.csdn.net/USTCsunyue/article/details/111428684"
   ]
  },
  {
   "cell_type": "code",
   "execution_count": 16,
   "metadata": {
    "collapsed": true
   },
   "outputs": [],
   "source": [
    "def swap(arr, i, j):\n",
    "    temp = arr[i]\n",
    "    arr[i] = arr[j]\n",
    "    arr[j] = temp\n",
    "    return\n",
    "\n",
    "def heapInsert(arr, index):\n",
    "    while index > 0 and arr[index] > arr[(index - 1)//2]:\n",
    "        swap(arr, index, (index-1)//2)\n",
    "        index = (index - 1) // 2\n",
    "        \n",
    "def heapify(arr, index, heapSize):\n",
    "        left = index * 2 + 1\n",
    "        while left < heapSize:\n",
    "            if left + 1 < heapSize and arr[left+1] > arr[left]:\n",
    "                largest = left+1\n",
    "            else:\n",
    "                largest = left\n",
    "            if arr[largest] <= arr[index]:\n",
    "                break\n",
    "            else:\n",
    "                swap(arr, largest, index)\n",
    "                index = largest\n",
    "                left = index * 2 + 1\n",
    "\n",
    "def heapSort(arr):\n",
    "    if not arr or len(arr) < 2:\n",
    "        return\n",
    "    for i in range(len(arr)):\n",
    "        heapInsert(arr, i)\n",
    "    heapSize = len(arr)\n",
    "    swap(arr, 0, heapSize-1)\n",
    "    heapSize -= 1\n",
    "    while heapSize > 0:\n",
    "        heapify(arr, 0, heapSize)\n",
    "        swap(arr, 0, heapSize-1)\n",
    "        heapSize -= 1\n",
    "    return "
   ]
  },
  {
   "cell_type": "code",
   "execution_count": null,
   "metadata": {
    "collapsed": true
   },
   "outputs": [],
   "source": []
  }
 ],
 "metadata": {
  "kernelspec": {
   "display_name": "Python 3 (ipykernel)",
   "language": "python",
   "name": "python3"
  },
  "language_info": {
   "codemirror_mode": {
    "name": "ipython",
    "version": 3
   },
   "file_extension": ".py",
   "mimetype": "text/x-python",
   "name": "python",
   "nbconvert_exporter": "python",
   "pygments_lexer": "ipython3",
   "version": "3.9.12"
  },
  "toc": {
   "base_numbering": 1,
   "nav_menu": {},
   "number_sections": true,
   "sideBar": true,
   "skip_h1_title": false,
   "title_cell": "Table of Contents",
   "title_sidebar": "Contents",
   "toc_cell": false,
   "toc_position": {},
   "toc_section_display": true,
   "toc_window_display": false
  }
 },
 "nbformat": 4,
 "nbformat_minor": 2
}
