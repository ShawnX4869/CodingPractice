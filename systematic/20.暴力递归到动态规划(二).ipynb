{
 "cells": [
  {
   "cell_type": "markdown",
   "metadata": {},
   "source": [
    "## 1.背包问题\n",
    "* W数组：物件重量，V数组：物件价值，bag整数：背包总大小.\n",
    "* 返回不超过背包大小下的最大价值"
   ]
  },
  {
   "cell_type": "code",
   "execution_count": 4,
   "metadata": {
    "collapsed": true
   },
   "outputs": [],
   "source": [
    "import numpy as np"
   ]
  },
  {
   "cell_type": "code",
   "execution_count": 5,
   "metadata": {
    "collapsed": true
   },
   "outputs": [],
   "source": [
    "def maxValue(w, v, bag):\n",
    "    if not w or not v or len(w)!=len(v):\n",
    "        return 0\n",
    "    return process(w,v,0,bag)\n",
    "#考虑到了index号货物，index...最后一个货物可以自由选择\n",
    "#做的选择不超过背包容量，返回最大价值\n",
    "def process(w, v, index, res):\n",
    "    if res < 0: #w可能有0\n",
    "        return -1\n",
    "    if index == len(w): #没货了\n",
    "        return 0\n",
    "    #有货，index位置的货；背包有地，>=0\n",
    "    p1 = process(w, v, index+1, res) #没要index\n",
    "    p2 = 0\n",
    "    next_value = process(w, v, index+1, res-w[index]) #要了index\n",
    "    if next_value != -1: #basecase调整，后续返回-1，告知无效\n",
    "        p2 = v[index] + next_value\n",
    "    \n",
    "    return max(p1,p2)\n",
    "    "
   ]
  },
  {
   "cell_type": "code",
   "execution_count": 6,
   "metadata": {
    "collapsed": true
   },
   "outputs": [],
   "source": [
    "def dp(w,v, bag):\n",
    "    if not w or not v or len(w)!=len(v):\n",
    "        return 0\n",
    "    N = len(w)\n",
    "    dp = np.ones((N+1, bag+1)) * (-1)\n",
    "    #对应if index == len(w): return 0 #没货了\n",
    "    for i in range(bag+1):\n",
    "        dp[N][i] = 0\n",
    "    for index in range(N-1, -1, -1):\n",
    "        for rest in range(bag+1):\n",
    "#       对应p1 = process(w, v, index+1, res) #没要index\n",
    "            p1 = dp[index+1][rest]\n",
    "         #对应p2 = 0\n",
    "#          next_value = process(w, v, index+1, res-w[index]) #要了index\n",
    "#          if next_value != -1: #basecase调整，后续返回-1，告知无效\n",
    "#          p2 = v[index] + next_value\n",
    "            p2 = 0\n",
    "            if rest-w[index] >=0:\n",
    "                p2 = dp[index+1][rest-w[index]] + v[index]\n",
    "            dp[index][rest] = max(p1,p2)\n",
    "    return dp[0][bag]"
   ]
  },
  {
   "cell_type": "code",
   "execution_count": 7,
   "metadata": {},
   "outputs": [
    {
     "name": "stdout",
     "output_type": "stream",
     "text": [
      "42\n",
      "42.0\n"
     ]
    }
   ],
   "source": [
    "w = [3,2,4, 7, 3,1,7]\n",
    "v = [5,6,3,19,12,4,2]\n",
    "bag = 15\n",
    "print(maxValue(w,v,bag))\n",
    "print(dp(w,v,bag))"
   ]
  },
  {
   "cell_type": "markdown",
   "metadata": {},
   "source": [
    "## 2. 数字转换字符串\n",
    "* 1对应A，2对应B，3对应C...26对应Z\n",
    "* 那么一个数字字符串比如“111”可以转化为“AAA”、“KA”和”AK“\n",
    "* 给定一个数组的字符串，返回有多少转化结果"
   ]
  },
  {
   "cell_type": "code",
   "execution_count": 35,
   "metadata": {
    "collapsed": true
   },
   "outputs": [],
   "source": [
    "# string[0...i-1]已转化\n",
    "# string[i,....]转化问题\n",
    "def process(listString, i):\n",
    "    if i == len(listString):\n",
    "        return 1\n",
    "    #i没到最后，说明有字符\n",
    "    #如果i位置上是0，则前面转化决策有问题：0不对应字符，只能在前面是10转化\n",
    "    if listString[i] == \"0\":\n",
    "        return 0\n",
    "    #i不是0，总有决定可以单独转化\n",
    "    ways = process(listString, i+1)\n",
    "    #i不是0，i+1不越界且i、i+1两个组成的不能>26\n",
    "    if i + 1 < len(listString) and ((ord(listString[i]) - ord(\"0\")) * 10 + (ord(listString[i+1]) - ord(\"0\"))) <= 26:\n",
    "        ways += process(listString, i+2)\n",
    "    return ways\n",
    "def numberTrans(string):\n",
    "    if not string:\n",
    "        return 0\n",
    "    return process(list(string), 0)"
   ]
  },
  {
   "cell_type": "code",
   "execution_count": 41,
   "metadata": {},
   "outputs": [
    {
     "name": "stdout",
     "output_type": "stream",
     "text": [
      "0\n",
      "8\n",
      "3\n"
     ]
    }
   ],
   "source": [
    "print(numberTrans(\"7230231231232031203123\"))\n",
    "print(numberTrans(\"11111\"))\n",
    "print(numberTrans(\"111\"))"
   ]
  },
  {
   "cell_type": "code",
   "execution_count": 44,
   "metadata": {
    "collapsed": true
   },
   "outputs": [],
   "source": [
    "def dp(string):\n",
    "    if not string:\n",
    "        return 0\n",
    "    listString = list(string)\n",
    "    N = len(listString)\n",
    "    dp = [-1] * (N+1)\n",
    "    dp[N] = 1\n",
    "    for i in range(N-1, -1, -1):\n",
    "        if listString[i] == \"0\":\n",
    "            dp[i] = 0\n",
    "        else:\n",
    "            ways = dp[i+1]\n",
    "            if i + 1 < len(listString) and ((ord(listString[i]) - ord(\"0\")) * 10 + (ord(listString[i+1]) - ord(\"0\"))) <= 26:\n",
    "                ways += dp[i+2]\n",
    "            dp[i] = ways\n",
    "    return dp[0]"
   ]
  },
  {
   "cell_type": "code",
   "execution_count": 46,
   "metadata": {},
   "outputs": [
    {
     "name": "stdout",
     "output_type": "stream",
     "text": [
      "0\n",
      "8\n",
      "3\n"
     ]
    }
   ],
   "source": [
    "print(dp(\"7230231231232031203123\"))\n",
    "print(dp(\"11111\"))\n",
    "print(dp(\"111\"))"
   ]
  },
  {
   "cell_type": "markdown",
   "metadata": {},
   "source": [
    "## 3. 贴纸拼字符\n",
    "* 给定一个字符串str，一个字符串类型的数组arr，出现的字符都是小写英文。\n",
    "* arr的每一个字符串代表一张贴纸，这张贴纸可以把每个字符剪开使用，目的是拼出str。给的某一种贴纸有无穷张。\n",
    "* 返回至少多少张贴纸可以完成这个任务。\n",
    "* 例如 str=babac， arr=[ba, c, abcd]\n",
    "* 返回 2. 因为需要ba、abcd，单独剪开后获得2个a、2个b、1个c，可以拼出str\n",
    "* 链接：https://leetcode.com/problems/stickers-to-spell-word/"
   ]
  },
  {
   "cell_type": "code",
   "execution_count": 59,
   "metadata": {
    "collapsed": true
   },
   "outputs": [],
   "source": [
    "#所有贴纸stickers，每一种贴纸有无穷张\n",
    "#目标拼出target\n",
    "#返回最少张数\n",
    "def process1(stickers, target):\n",
    "    #目标不剩了\n",
    "    if len(target)==0:\n",
    "        return 0\n",
    "    min_old = None\n",
    "    for first in stickers:\n",
    "        rest = minus(target, first)\n",
    "        #可以有效减去>0个字符\n",
    "        if len(rest) != len(target):\n",
    "            min_new = process1(stickers, rest)\n",
    "            if min_old is None:\n",
    "                min_old = min_new\n",
    "            if min_new is not None:\n",
    "                min_old = min(min_old, min_new)\n",
    "    if min_old is None:\n",
    "        return None\n",
    "    return min_old + 1\n",
    "\n",
    "def minus(target, sticker):\n",
    "    t = list(target)\n",
    "    s = list(sticker)\n",
    "    count = [0] * 26\n",
    "    for cha in t:\n",
    "        count[ord(cha) - ord(\"a\")] += 1\n",
    "    for cha in s:\n",
    "        count[ord(cha) - ord(\"a\")] -= 1\n",
    "    res = \"\"\n",
    "    for i in range(26):\n",
    "        if count[i] > 0:\n",
    "            for j in range(count[i]):\n",
    "                res += chr(i+ord(\"a\"))\n",
    "    return res\n",
    "\n",
    "def minStickers(stickers, target):\n",
    "    ans = process1(stickers, target)\n",
    "    if ans is None:\n",
    "        ans = -1\n",
    "    return ans"
   ]
  },
  {
   "cell_type": "code",
   "execution_count": 79,
   "metadata": {
    "collapsed": true
   },
   "outputs": [],
   "source": [
    "#仍然超时！\n",
    "#所有贴纸stickers[][]，每一种贴纸有无穷张: stickers[i]代表i号贴纸的字符频统计\n",
    "#目标拼出target\n",
    "#返回最少张数\n",
    "def process2(stickers, target):\n",
    "    #目标不剩了\n",
    "    if len(target)==0:\n",
    "        return 0\n",
    "    #target字符频统计\n",
    "    tcounts = [0] * 26\n",
    "    for cha in target:\n",
    "        tcounts[ord(cha)-ord(\"a\")]+=1\n",
    "    \n",
    "    N = len(stickers)\n",
    "    min_old = None\n",
    "    for i in range(N):\n",
    "        #逐个让target的字符频减去当前贴纸字符频\n",
    "        sticker = stickers[i]\n",
    "        #关键优化，只有贴纸里存在target第一个字符的试， 剪枝\n",
    "        if sticker[ord(target[0]) - ord(\"a\")] > 0:\n",
    "            rest = \"\"\n",
    "            for j in range(26):\n",
    "                if tcounts[j] > 0:\n",
    "                    nums = tcounts[j] - sticker[j]\n",
    "                    for k in range(int(nums)):\n",
    "                        rest += chr(j + ord(\"a\"))\n",
    "            min_new = process2(stickers, rest)\n",
    "            if min_old is None:\n",
    "                min_old = min_new\n",
    "            if min_new is not None:\n",
    "                min_old = min(min_old, min_new) \n",
    "    if min_old is None:\n",
    "        return None\n",
    "    return min_old + 1\n",
    "\n",
    "\n",
    "\n",
    "def minStickers2(stickers, target):\n",
    "    N = len(stickers)\n",
    "    counts = np.zeros((N, 26))\n",
    "    for i in range(N):\n",
    "        stick = stickers[i]\n",
    "        for c in stick:\n",
    "            counts[i][ord(c)-ord(\"a\")]+=1\n",
    "    ans = process2(counts, target)\n",
    "    if ans is None:\n",
    "        ans = -1\n",
    "    return ans"
   ]
  },
  {
   "cell_type": "code",
   "execution_count": 102,
   "metadata": {
    "collapsed": true
   },
   "outputs": [],
   "source": [
    "#如果超时，可能是哪里没有加缓存！\n",
    "#只需要改傻缓存法，因为可变参数是字符串，很难用下标范围搞定\n",
    "def process3(stickers, target, dp):\n",
    "    if target in dp:\n",
    "        return dp[target]\n",
    "    #没算过\n",
    "    #目标不剩了\n",
    "    if len(target)==0:\n",
    "        dp[target] = 0\n",
    "        return 0\n",
    "    #target字符频统计\n",
    "    tcounts = [0] * 26\n",
    "    for cha in target:\n",
    "        tcounts[ord(cha)-ord(\"a\")]+=1\n",
    "    N = len(stickers)\n",
    "    min_old = -1\n",
    "    for i in range(N):\n",
    "        #逐个让target的字符频减去当前贴纸字符频\n",
    "        sticker = stickers[i]\n",
    "        #关键优化，只有贴纸里存在target第一个字符的试， 剪枝\n",
    "        if sticker[ord(target[0]) - ord(\"a\")] > 0:\n",
    "            rest = \"\"\n",
    "            for j in range(26):\n",
    "                if tcounts[j] > 0:\n",
    "                    nums = tcounts[j] - sticker[j]\n",
    "                    if nums > 0:\n",
    "                        rest += chr(int(j + ord(\"a\"))) * nums\n",
    "            min_new = process3(stickers, rest, dp)\n",
    "            if min_old == -1:\n",
    "                min_old = min_new\n",
    "            if min_new != -1:\n",
    "                min_old = min(min_old, min_new) \n",
    "    if min_old == -1:\n",
    "        dp[target] = -1\n",
    "        return -1\n",
    "    dp[target] = min_old + 1 #别忘了赋值！！！\n",
    "    return min_old + 1\n",
    "    \n",
    "    \n",
    "def minStickers3(stickers, target):\n",
    "    N = len(stickers)\n",
    "    counts = np.zeros((N, 26))\n",
    "    for i in range(N):\n",
    "        stick = stickers[i]\n",
    "        for c in stick:\n",
    "            counts[i][ord(c)-ord(\"a\")]+=1\n",
    "    dp = dict()\n",
    "    ans = process3(counts, target, dp)\n",
    "    return ans"
   ]
  },
  {
   "cell_type": "markdown",
   "metadata": {},
   "source": [
    "## 4.最长公共子序列\n",
    "* 子序列可以不连续\n",
    "* 链接：https://leetcode.com/problems/longest-common-subsequence/"
   ]
  },
  {
   "cell_type": "code",
   "execution_count": 111,
   "metadata": {
    "collapsed": true
   },
   "outputs": [],
   "source": [
    "#str1[0...i]\n",
    "#str2[0...j] 最长多少？\n",
    "def process1(str1, str2, i, j):\n",
    "    if i == 0 and j == 0:\n",
    "        return 1 if str1[i] == str2[j] else 0\n",
    "    elif i == 0:\n",
    "        if str1[i] == str2[j]:\n",
    "            return 1\n",
    "        else:\n",
    "            return process1(str1, str2, i, j-1)\n",
    "    elif j == 0:\n",
    "        if str1[i] == str2[j]:\n",
    "            return 1\n",
    "        else:\n",
    "            return process1(str1, str2, i-1, j)\n",
    "    else: #i,j都不是0\n",
    "        #如果考虑必须以i结尾、不以j结尾，就需要遍历j中有没有[i]，增加了要求。（可以自己尝试\n",
    "        #所以”考虑“可能是结尾，让递归方便进入下一级\n",
    "        #情况1， 公共子序列不以i结尾，可能是j结尾\n",
    "        p1 = process1(str1, str2, i-1, j)\n",
    "        #情况2， 公共子序列可能是i结尾，不以j结尾\n",
    "        p2 = process1(str1, str2, i, j-1)\n",
    "        #情况1、2有重叠，即不以i、j结尾，无所谓，考虑的是最长的\n",
    "        #情况3， 必须以i、j结尾，要求[i]=[j]\n",
    "        if str1[i] == str2[j]:\n",
    "            p3 = process1(str1, str2, i-1, j-1) + 1\n",
    "        else:\n",
    "            p3 = 0\n",
    "        return max([p1,p2,p3])\n",
    "        \n",
    "\n",
    "def longestCommonSubsequence1(s1, s2):\n",
    "    if not s1 or not s2:\n",
    "        return 0\n",
    "    str1 = list(s1)\n",
    "    str2 = list(s2)\n",
    "    return process1(str1, str2, len(str1)-1, len(str2)-1)"
   ]
  },
  {
   "cell_type": "code",
   "execution_count": 115,
   "metadata": {
    "collapsed": true
   },
   "outputs": [],
   "source": [
    "#str1[0...i]\n",
    "#str2[0...j] 最长多少？\n",
    "def process1_1(str1, str2, i, j):\n",
    "    if i == 0 and j == 0:\n",
    "        return 1 if str1[i] == str2[j] else 0\n",
    "    elif i == 0:\n",
    "        if str1[i] == str2[j]:\n",
    "            return 1\n",
    "        else:\n",
    "            return process1_1(str1, str2, i, j-1)\n",
    "    elif j == 0:\n",
    "        if str1[i] == str2[j]:\n",
    "            return 1\n",
    "        else:\n",
    "            return process1_1(str1, str2, i-1, j)\n",
    "    else: #i,j都不是0\n",
    "        #如果考虑必须以i结尾、不以j结尾，就需要遍历j中有没有[i]，增加了要求。（可以自己尝试\n",
    "        #（自己尝试发现，实际可以不判断是否存在中，因为每次有循环j-1或i-1，如果减到0且不等，会返回0\n",
    "        #情况1， 公共子序列以i结尾，不以j结尾\n",
    "        if str1[i] in str2[:j]:\n",
    "            p1 = process1_1(str1, str2, i, j-1)\n",
    "        else:\n",
    "            p1 = 0\n",
    "        #情况2， 公共子序列不以i结尾，以j结尾\n",
    "        if str2[j] in str1[:i]:\n",
    "            p2 = process1_1(str1, str2, i-1, j)\n",
    "        else:\n",
    "            p2 = 0\n",
    "        #情况3， 必须以i、j结尾，要求[i]=[j]\n",
    "        if str1[i] == str2[j]:\n",
    "            p3 = process1_1(str1, str2, i-1, j-1) + 1\n",
    "        else:\n",
    "            p3 = 0\n",
    "        #情况4，不以i、j结尾：\n",
    "        p4 = process1_1(str1, str2, i-1, j-1)\n",
    "        return max([p1,p2,p3,p4])\n",
    "        \n",
    "\n",
    "def longestCommonSubsequence1_1(s1, s2):\n",
    "    if not s1 or not s2:\n",
    "        return 0\n",
    "    str1 = list(s1)\n",
    "    str2 = list(s2)\n",
    "    return process1_1(str1, str2, len(str1)-1, len(str2)-1)"
   ]
  },
  {
   "cell_type": "code",
   "execution_count": 116,
   "metadata": {},
   "outputs": [
    {
     "name": "stdout",
     "output_type": "stream",
     "text": [
      "3\n",
      "3\n"
     ]
    }
   ],
   "source": [
    "a = \"abcde\"\n",
    "b = \"ace\"\n",
    "print(longestCommonSubsequence1(a,b))\n",
    "print(longestCommonSubsequence1_1(a,b))"
   ]
  },
  {
   "cell_type": "code",
   "execution_count": 123,
   "metadata": {
    "collapsed": true
   },
   "outputs": [],
   "source": [
    "def longestCommonSubsequence2(s1, s2):\n",
    "    if not s1 or not s2:\n",
    "        return 0\n",
    "    str1 = list(s1)\n",
    "    str2 = list(s2)\n",
    "    N = len(str1)\n",
    "    M = len(str2)\n",
    "    dp = np.zeros((N,M))\n",
    "    dp[0][0] = 1 if str1[0] == str2[0] else 0\n",
    "    for j in range(1, M):\n",
    "        dp[0][j] = 1 if str1[0] == str2[j] else dp[0][j-1]\n",
    "    for i in range(1, N):\n",
    "        dp[i][0] = 1 if str1[i] == str2[0] else dp[i-1][0]\n",
    "    for i in range(1, N):\n",
    "        for j in range(1, M):\n",
    "            p1 = dp[i-1][j]\n",
    "        #情况2， 公共子序列可能是i结尾，不以j结尾\n",
    "            p2 = dp[i][j-1]\n",
    "        #情况1、2有重叠，即不以i、j结尾，无所谓，考虑的是最长的\n",
    "        #情况3， 必须以i、j结尾，要求[i]=[j]\n",
    "            if str1[i] == str2[j]:\n",
    "                p3 = dp[i-1][j-1] + 1\n",
    "            else:\n",
    "                p3 = 0\n",
    "            dp[i][j] = max([p1,p2,p3])\n",
    "    return int(dp[N-1][M-1])"
   ]
  },
  {
   "cell_type": "code",
   "execution_count": 125,
   "metadata": {
    "collapsed": true
   },
   "outputs": [],
   "source": [
    "\n",
    "def longestCommonSubsequence2_1(s1, s2):\n",
    "    if not s1 or not s2:\n",
    "        return 0\n",
    "    str1 = list(s1)\n",
    "    str2 = list(s2)\n",
    "    N = len(str1)\n",
    "    M = len(str2)\n",
    "    dp = np.zeros((N,M))\n",
    "    dp[0][0] = 1 if str1[0] == str2[0] else 0\n",
    "    for j in range(1, M):\n",
    "        dp[0][j] = 1 if str1[0] == str2[j] else dp[0][j-1]\n",
    "    for i in range(1, N):\n",
    "        dp[i][0] = 1 if str1[i] == str2[0] else dp[i-1][0]\n",
    "    for i in range(1, N):\n",
    "        for j in range(1, M):\n",
    "            p1 = dp[i][j-1]\n",
    "            p2 = dp[i-1][j]\n",
    "            if str1[i] == str2[j]:\n",
    "                p3 = dp[i-1][j-1] + 1\n",
    "            else:\n",
    "                p3 = 0\n",
    "            p4 = dp[i-1][j-1]\n",
    "            dp[i][j] = max([p1,p2,p3,p4])\n",
    "        \n",
    "    return dp[N-1][M-1]"
   ]
  },
  {
   "cell_type": "code",
   "execution_count": null,
   "metadata": {
    "collapsed": true
   },
   "outputs": [],
   "source": []
  },
  {
   "cell_type": "code",
   "execution_count": 126,
   "metadata": {},
   "outputs": [
    {
     "data": {
      "text/plain": [
       "3"
      ]
     },
     "execution_count": 126,
     "metadata": {},
     "output_type": "execute_result"
    }
   ],
   "source": [
    "longestCommonSubsequence2(a,b)"
   ]
  },
  {
   "cell_type": "code",
   "execution_count": 105,
   "metadata": {},
   "outputs": [
    {
     "data": {
      "text/plain": [
       "3"
      ]
     },
     "execution_count": 105,
     "metadata": {},
     "output_type": "execute_result"
    }
   ],
   "source": [
    "max([1,2,3])"
   ]
  },
  {
   "cell_type": "code",
   "execution_count": 96,
   "metadata": {},
   "outputs": [
    {
     "data": {
      "text/plain": [
       "3"
      ]
     },
     "execution_count": 96,
     "metadata": {},
     "output_type": "execute_result"
    }
   ],
   "source": [
    "stickers = [\"with\",\"example\",\"science\"]\n",
    "target = \"thehat\"\n",
    "minStickers3(stickers, target)"
   ]
  },
  {
   "cell_type": "code",
   "execution_count": 100,
   "metadata": {},
   "outputs": [
    {
     "name": "stdout",
     "output_type": "stream",
     "text": [
      "a\n"
     ]
    }
   ],
   "source": [
    "for i in \"a\":\n",
    "    print(i)"
   ]
  },
  {
   "cell_type": "code",
   "execution_count": 101,
   "metadata": {
    "collapsed": true
   },
   "outputs": [],
   "source": [
    "res = \"\"\n",
    "res+=\"abbb\"\n",
    "a = dict()"
   ]
  },
  {
   "cell_type": "code",
   "execution_count": 83,
   "metadata": {
    "collapsed": true
   },
   "outputs": [],
   "source": [
    "a[\"1\"] = 1"
   ]
  },
  {
   "cell_type": "code",
   "execution_count": 85,
   "metadata": {
    "collapsed": true
   },
   "outputs": [],
   "source": [
    "a[\"\"] = 1"
   ]
  },
  {
   "cell_type": "code",
   "execution_count": 87,
   "metadata": {},
   "outputs": [
    {
     "data": {
      "text/plain": [
       "0"
      ]
     },
     "execution_count": 87,
     "metadata": {},
     "output_type": "execute_result"
    }
   ],
   "source": [
    "len(\"\")"
   ]
  },
  {
   "cell_type": "code",
   "execution_count": 48,
   "metadata": {
    "collapsed": true
   },
   "outputs": [],
   "source": [
    "l = [\"a\",\"b\"]"
   ]
  },
  {
   "cell_type": "code",
   "execution_count": null,
   "metadata": {
    "collapsed": true
   },
   "outputs": [],
   "source": []
  },
  {
   "cell_type": "code",
   "execution_count": 49,
   "metadata": {},
   "outputs": [
    {
     "ename": "ValueError",
     "evalue": "list.remove(x): x not in list",
     "output_type": "error",
     "traceback": [
      "\u001b[0;31m---------------------------------------------------------------------------\u001b[0m",
      "\u001b[0;31mValueError\u001b[0m                                Traceback (most recent call last)",
      "\u001b[0;32m<ipython-input-49-9f9202e7fa60>\u001b[0m in \u001b[0;36m<module>\u001b[0;34m()\u001b[0m\n\u001b[0;32m----> 1\u001b[0;31m \u001b[0ml\u001b[0m\u001b[0;34m.\u001b[0m\u001b[0mremove\u001b[0m\u001b[0;34m(\u001b[0m\u001b[0;36m0\u001b[0m\u001b[0;34m)\u001b[0m\u001b[0;34m\u001b[0m\u001b[0m\n\u001b[0m",
      "\u001b[0;31mValueError\u001b[0m: list.remove(x): x not in list"
     ]
    }
   ],
   "source": [
    "l.remove(0)"
   ]
  },
  {
   "cell_type": "code",
   "execution_count": 51,
   "metadata": {},
   "outputs": [
    {
     "data": {
      "text/plain": [
       "97"
      ]
     },
     "execution_count": 51,
     "metadata": {},
     "output_type": "execute_result"
    }
   ],
   "source": [
    "ord(\"a\")"
   ]
  },
  {
   "cell_type": "code",
   "execution_count": 54,
   "metadata": {},
   "outputs": [
    {
     "data": {
      "text/plain": [
       "'a'"
      ]
     },
     "execution_count": 54,
     "metadata": {},
     "output_type": "execute_result"
    }
   ],
   "source": [
    "chr(97)"
   ]
  },
  {
   "cell_type": "code",
   "execution_count": null,
   "metadata": {
    "collapsed": true
   },
   "outputs": [],
   "source": []
  }
 ],
 "metadata": {
  "kernelspec": {
   "display_name": "Python 3",
   "language": "python",
   "name": "python3"
  },
  "language_info": {
   "codemirror_mode": {
    "name": "ipython",
    "version": 3
   },
   "file_extension": ".py",
   "mimetype": "text/x-python",
   "name": "python",
   "nbconvert_exporter": "python",
   "pygments_lexer": "ipython3",
   "version": "3.6.1"
  }
 },
 "nbformat": 4,
 "nbformat_minor": 2
}
