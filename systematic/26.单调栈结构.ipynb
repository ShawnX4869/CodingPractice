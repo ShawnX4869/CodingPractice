{
 "cells": [
  {
   "cell_type": "markdown",
   "id": "dcef24b9",
   "metadata": {},
   "source": [
    "### 单调栈结构monotonousStack"
   ]
  },
  {
   "cell_type": "markdown",
   "id": "4dd07d68",
   "metadata": {},
   "source": [
    "#### 生成arr(无重复值)中的每个值左右两边离自己最近且比自己小的索引列表\n",
    "使用单调栈结构，栈中储存由小到大数组，遍历arr中所有值，每次尝试压入栈：\n",
    "1. 栈空或栈顶比当前数小，可以压入，压入在arr的位置\n",
    "2. 栈顶比当前数大，此时弹出栈顶，记录信息对于栈顶数(左侧最近为栈顶下面的数，右侧最近为当前数）。弹到满足条件的栈顶时，压入当前数\n",
    "3. 重复直到所有数压入栈后，若栈中仍有数，依次弹出，弹出值的没有右侧，左侧是下面压着的，若下面没压则为空。\n",
    "\n",
    "    时间复杂度O(N)，因为每个数最多进一次出一次栈"
   ]
  },
  {
   "cell_type": "code",
   "execution_count": 6,
   "id": "2b0405b3",
   "metadata": {},
   "outputs": [],
   "source": [
    "def getNearLessNoRepeat(arr):\n",
    "    res = [[-1] * 2 for _ in range(len(arr))]\n",
    "    stack = list()\n",
    "    for i in range(len(arr)):\n",
    "        while stack and arr[stack[-1]] > arr[i]: #当前数落不上\n",
    "            j = stack.pop()\n",
    "            leftLessIndex = -1 if not stack else stack[-1]\n",
    "            res[j][0] = leftLessIndex\n",
    "            res[j][1] = i\n",
    "        stack.append(i)\n",
    "    while stack:\n",
    "        j = stack.pop()\n",
    "        leftLessIndex = -1 if not stack else stack[-1]\n",
    "        res[j][0] = leftLessIndex\n",
    "        res[j][1] = -1\n",
    "    return res"
   ]
  },
  {
   "cell_type": "markdown",
   "id": "d1fcc078",
   "metadata": {},
   "source": [
    "#### 生成arr(有重复值)中的每个值左右两边离自己最近且比自己小的索引列表\n",
    "使用单调栈结构，栈中储存由小到大数组，遍历arr中所有值，每次尝试压入栈：压入索引(链表或列表储存)，索引指向值\n",
    "1. 栈空或栈顶比当前数小，可以压入\n",
    "2. 栈顶比当前数大，此时弹出栈顶，记录信息对于栈顶数(左侧最近为栈顶下面的索引中的最后一个位置，右侧最近为当前数）\n",
    "3. 栈顶与当前数相同时，把当前数压入栈顶索引列表中的最后位置\n",
    "3. 重复直到所有数压入栈后，若栈中仍有数，依次弹出，弹出值的没有右侧，左侧是下面压着的索引最后一个位置，若下面没压则为空。"
   ]
  },
  {
   "cell_type": "code",
   "execution_count": 7,
   "id": "50dc24d3",
   "metadata": {},
   "outputs": [],
   "source": [
    "def getNearLessWithRepeat(arr):\n",
    "    res = [[-1] * 2 for _ in range(len(arr))]\n",
    "    stack = list()\n",
    "    for i in range(len(arr)):\n",
    "        while stack and arr[stack[-1][0]] > arr[i]: #当前数落不上\n",
    "            js = stack.pop()\n",
    "            leftLessIndex = -1 if not stack else stack[-1][-1] #最后一个位置\n",
    "            for each in js:\n",
    "                res[each][0] = leftLessIndex\n",
    "                res[each][1] = i\n",
    "        #当前数 与栈顶相等\n",
    "        if stack and arr[stack[-1][0]] == arr[i]:\n",
    "            stack[-1].append(i)\n",
    "        # 可以压入，作为一个新列表头部\n",
    "        else:\n",
    "            stack.append([i])\n",
    "    while stack:\n",
    "        js = stack.pop()\n",
    "        leftLessIndex = -1 if not stack else stack[-1]\n",
    "        for each in js:\n",
    "            res[each][0] = leftLessIndex\n",
    "            res[each][1] = -1\n",
    "    return res"
   ]
  },
  {
   "cell_type": "markdown",
   "id": "1da5eff9",
   "metadata": {},
   "source": [
    "### 单调栈实际应用"
   ]
  },
  {
   "cell_type": "markdown",
   "id": "e0279c7d",
   "metadata": {},
   "source": [
    "#### <span class=\"mark\">正数</span>数组中子数组累加和乘最小值的最大值\n",
    "给定一个只包含正数的数组arr，arr中任何一个子数组sub。一定可以计算出A = (sub累加和)*(sub中最小值)。求所有sub中的A最大值\n"
   ]
  },
  {
   "cell_type": "code",
   "execution_count": 10,
   "id": "fe41fc74",
   "metadata": {},
   "outputs": [],
   "source": [
    "'''\n",
    "思路：\n",
    "从0位置开始，以当前位置做最小值时，满足条件的子数组都有哪些，计算出最大值A？\n",
    "1.因为当前位置相同，那么A最大，即累加和最大。那么就是找到向左、向右找到最近的比当前数小的两个位置，两位置间所有值累加和一定最大。\n",
    "2.剩下的问题就是 求i...j的累加和最大的那个值即A最大值。（求i...j的累加和 使用一个预处理的前缀和数组，O(1)计算出）\n",
    "3.可以使用无重复值算法，当栈弹出时，相等也弹出。虽然弹出的相等值会计算错，但有招一日当前数(或最后一个相等数)可以算对。\n",
    "'''\n",
    "def getPreSum(arr):\n",
    "    preSum = [None] * len(arr)\n",
    "    pre = 0\n",
    "    for i in range(len(arr)):\n",
    "        pre += arr[i]\n",
    "        preSum[i] = pre\n",
    "    return preSum\n",
    "def getCertainSum(arr, i, j):\n",
    "    if i == -1:\n",
    "        return arr[j]\n",
    "    else:\n",
    "        return arr[j] - arr[i]\n",
    "def maxSubSumMultiMin(arr):\n",
    "    if not arr:\n",
    "        return 0\n",
    "    stack = list()\n",
    "    N = len(arr)\n",
    "    rangeList = [[None] * 2 for _ in range(N)]\n",
    "    for index in range(N):\n",
    "        while stack and arr[stack[-1]] >= arr[index]:\n",
    "            popIndex = stack.pop()\n",
    "            rangeList[popIndex][1] = index\n",
    "            if stack:\n",
    "                rangeList[popIndex][0] = stack[-1]\n",
    "            else:\n",
    "                rangeList[popIndex][0] = -1\n",
    "        stack.append(index)\n",
    "    while stack:\n",
    "        popIndex = stack.pop()\n",
    "        rangeList[popIndex][1] = N\n",
    "        if stack:\n",
    "            rangeList[popIndex][0] = stack[-1]\n",
    "        else:\n",
    "            rangeList[popIndex][0] = -1\n",
    "    preSum = getPreSum(arr)\n",
    "    maxAns = [None] * N\n",
    "    for i in range(N):\n",
    "        rangeL, rangeR = rangeList[i][0], rangeList[i][1] - 1\n",
    "        maxAns[i] = arr[i] * getCertainSum(preSum, rangeL, rangeR)\n",
    "    ans = 0\n",
    "    for i in range(N):\n",
    "        ans = max(maxAns[i], ans)\n",
    "    return ans\n",
    "        "
   ]
  },
  {
   "cell_type": "code",
   "execution_count": 11,
   "id": "4630a00d",
   "metadata": {},
   "outputs": [],
   "source": [
    "def maxSubSumMultiMin_test(arr):\n",
    "    if not arr:\n",
    "        return 0\n",
    "    N = len(arr)\n",
    "    ans = 0\n",
    "    for i in range(N):\n",
    "        for j in range(i, N):\n",
    "            sub = arr[i:j+1]\n",
    "            min_ = min(sub)\n",
    "            sum_ = sum(sub)\n",
    "            ans = max(min_ * sum_, ans)\n",
    "    return ans"
   ]
  },
  {
   "cell_type": "code",
   "execution_count": 14,
   "id": "b15c18fe",
   "metadata": {},
   "outputs": [
    {
     "name": "stdout",
     "output_type": "stream",
     "text": [
      "succeed.\n"
     ]
    }
   ],
   "source": [
    "import random\n",
    "def generateRandomPosArr(maxLen, maxValue):\n",
    "    arr = list()\n",
    "    for i in range(maxLen):\n",
    "        arr.append(random.randint(1, maxValue))\n",
    "    return arr\n",
    "\n",
    "testTime = 10000\n",
    "maxValue = 100\n",
    "maxLen = 100\n",
    "succeed=True\n",
    "for _ in range(testTime):\n",
    "    value = random.randint(1, maxValue)\n",
    "    length = random.randint(0, maxLen)\n",
    "    arr = generateRandomPosArr(length, value)\n",
    "    ans1 = maxSubSumMultiMin_test(arr)\n",
    "    ans2 = maxSubSumMultiMin(arr)\n",
    "    if ans1 != ans2:\n",
    "        print(n, ans1, ans2)\n",
    "        print(\"something wrong.\")\n",
    "        succeed = False\n",
    "        break\n",
    "if succeed:\n",
    "    print(\"succeed.\")"
   ]
  },
  {
   "cell_type": "markdown",
   "id": "0cd20c33",
   "metadata": {},
   "source": [
    "#### 柱状图中最大的矩形\n",
    "非负数组，代表直方图。返回拼成的长方形最大面积。\n",
    "https://leetcode.cn/problems/largest-rectangle-in-histogram/"
   ]
  },
  {
   "cell_type": "code",
   "execution_count": 19,
   "id": "b36ecf80",
   "metadata": {},
   "outputs": [],
   "source": [
    "'''\n",
    "1.从0位置开始，必须以当前位置为高时，能组成的最大长方形。\n",
    "2.找到比当前位置小的左右位置。长(i...j多少个数)*高即长方形面积。\n",
    "3.仍然可以忽略相等值的错误信息。\n",
    "'''\n",
    "\n",
    "def largestRectangleArea(heights) -> int:\n",
    "    if not heights:\n",
    "        return 0\n",
    "\n",
    "    stack = list()\n",
    "    N = len(heights)\n",
    "    rangeList = [[None] * 2 for _ in range(N)]\n",
    "    for index in range(N):\n",
    "        while stack and heights[stack[-1]] >= heights[index]:\n",
    "            popIndex = stack.pop()\n",
    "            rangeList[popIndex][1] = index\n",
    "            if stack:\n",
    "                rangeList[popIndex][0] = stack[-1]\n",
    "            else:\n",
    "                rangeList[popIndex][0] = -1\n",
    "        stack.append(index)\n",
    "    while stack:\n",
    "        popIndex = stack.pop()\n",
    "        rangeList[popIndex][1] = N\n",
    "        if stack:\n",
    "            rangeList[popIndex][0] = stack[-1]\n",
    "        else:\n",
    "            rangeList[popIndex][0] = -1\n",
    "    ans = 0\n",
    "    for i in range(N):\n",
    "        rangeL, rangeR = rangeList[i][0], rangeList[i][1] - 1\n",
    "        ans = max((rangeR - rangeL) * heights[i], ans)\n",
    "    return ans"
   ]
  },
  {
   "cell_type": "markdown",
   "id": "0036924f",
   "metadata": {},
   "source": [
    "#### 全是1的最大子矩形面积\n",
    "二维数组matrix，不是0就是1. 返回最大子矩形面积。\n",
    "https://leetcode.cn/problems/maximal-rectangle/"
   ]
  },
  {
   "cell_type": "code",
   "execution_count": 29,
   "id": "840402de",
   "metadata": {},
   "outputs": [],
   "source": [
    "'''\n",
    "暴力解，遍历所有子矩阵为N^4。 随便点一个点，有N^2个点。点两个点就可以形成一个矩形。每个子矩阵查看是否是矩形，n^2。\n",
    "所以暴力解的总代价O(N^6)\n",
    "\n",
    "\n",
    "最优解O(N^2)：\n",
    "[[1,1,1,1,1]   index = 0\n",
    " [1,0,1,1,1]   index = 1\n",
    " [1,1,1,0,1]   index = 2\n",
    " [1,1,1,1,1]]  index = 3\n",
    "从上至下\n",
    "先求第0行做地基，求哪个子矩阵1最多。[1,1,1,1,1], 这个list用单调栈处理一遍。O(N)\n",
    "再求第一行做地基，求哪个子矩阵1最多 [2,0,2,2,2]\n",
    "再求第二行做地基，求哪个子矩阵1最多 [3,1,3,0,3]\n",
    "再求第三行做地基，求哪个子矩阵1最多 [4,2,4,1,4], 一共N行，所以说N*N\n",
    "'''\n",
    "def maximalRectangle(arr):\n",
    "    if not arr or not arr[0]:\n",
    "        return 0\n",
    "    N = len(arr)\n",
    "    M = len(arr[0])\n",
    "    base = [int(i) for i in arr[0]]\n",
    "    print(base)\n",
    "    maxAns = getMaxRect(base)\n",
    "    for i in range(1, N):\n",
    "        base = getBase(base, arr[i])\n",
    "        print(base)\n",
    "        maxAns = max(maxAns, getMaxRect(base))\n",
    "    return maxAns\n",
    "        \n",
    "def getMaxRect(arr):\n",
    "    N = len(arr)\n",
    "    stack = list()\n",
    "    rangeList = [[None]*2 for _ in range(N)]\n",
    "    for i in range(N):\n",
    "        while stack and arr[stack[-1]] >= arr[i]:\n",
    "            popIndex = stack.pop()\n",
    "            if stack:\n",
    "                rangeList[popIndex][0] = stack[-1]\n",
    "            else:\n",
    "                rangeList[popIndex][0] = -1\n",
    "            rangeList[popIndex][1] = i\n",
    "        stack.append(i)\n",
    "    while stack:\n",
    "        popIndex = stack.pop()\n",
    "        if stack:\n",
    "            rangeList[popIndex][0] = stack[-1]\n",
    "        else:\n",
    "            rangeList[popIndex][0] = -1\n",
    "        rangeList[popIndex][1] = N\n",
    "    ans = 0\n",
    "    for i in range(N):\n",
    "        rangeL,rangeR = rangeList[i][0], rangeList[i][1] - 1\n",
    "        ans = max(arr[i] * (rangeR - rangeL), ans)\n",
    "    return ans\n",
    "        \n",
    "def getBase(base, arr):\n",
    "    for i in range(len(base)):\n",
    "        if int(arr[i]) == 0:\n",
    "            base[i] = 0\n",
    "        else:\n",
    "            base[i] += int(arr[i])\n",
    "    return base\n",
    "            \n",
    "        "
   ]
  },
  {
   "cell_type": "code",
   "execution_count": 30,
   "id": "98549697",
   "metadata": {},
   "outputs": [
    {
     "name": "stdout",
     "output_type": "stream",
     "text": [
      "[0, 1]\n",
      "[1, 0]\n"
     ]
    },
    {
     "data": {
      "text/plain": [
       "1"
      ]
     },
     "execution_count": 30,
     "metadata": {},
     "output_type": "execute_result"
    }
   ],
   "source": [
    "# arr = [[\"1\",\"0\",\"1\",\"0\",\"0\"],[\"1\",\"0\",\"1\",\"1\",\"1\"],[\"1\",\"1\",\"1\",\"1\",\"1\"],[\"1\",\"0\",\"0\",\"1\",\"0\"]]\n",
    "arr = [[\"0\",\"1\"],[\"1\",\"0\"]]\n",
    "maximalRectangle(arr)"
   ]
  },
  {
   "cell_type": "markdown",
   "id": "517a56d9",
   "metadata": {},
   "source": [
    "#### 全是1的子矩阵数量\n",
    "二维数组matrix，不是0就是1. 返回内部全是1的子矩阵数量。"
   ]
  },
  {
   "cell_type": "code",
   "execution_count": 75,
   "id": "b5d866ea",
   "metadata": {},
   "outputs": [],
   "source": [
    "'''\n",
    "最优解O(N^2)：\n",
    "[[1,1,1,1,1]   index = 0\n",
    " [1,0,1,1,1]   index = 1\n",
    " [1,1,1,0,1]   index = 2\n",
    " [1,1,1,1,1]]  index = 3\n",
    "从上至下\n",
    "先求第0行做地基，求哪个子矩阵内部全是1有多少个。 [1,1,1,1,1], 这个list用单调栈处理一遍。\n",
    "                                                      求得某一个位置x的左右最近比他小的位置i、j，可以计算出(j-i+1)=m范围都可以以x做高\n",
    "                                                      那么以x为高的子矩阵有 m*(m+1)/2 个。 x-1..x-2..都是这个值。直到算到 x左右最近的值较大的那个(留着他自己算)\n",
    "再求第1行做地基，求哪个子矩阵内部全是1有多少个。 [2,0,2,2,2]\n",
    "再求第2行做地基，求哪个子矩阵内部全是1有多少个。 [3,1,3,0,3]\n",
    "再求第3行做地基，求哪个子矩阵内部全是1有多少个。 [4,2,4,1,4], 一共N行，所以说N*N\n",
    "'''\n",
    "\n",
    "def sizeRectangle(arr):\n",
    "    if not arr or not arr[0]:\n",
    "        return 0\n",
    "    N = len(arr)\n",
    "    M = len(arr[0])\n",
    "    base = [int(i) for i in arr[0]]\n",
    "#     print(\"======== base 0 ========\")\n",
    "    ans = getRectSize(base)\n",
    "    for i in range(1, N):\n",
    "        base = getBase(base, arr[i])\n",
    "#         print(\"======== base {} ========\".format(i))\n",
    "        ans += getRectSize(base)\n",
    "    return ans\n",
    "        \n",
    "def getRectSize(arr):\n",
    "    N = len(arr)\n",
    "    stack = list()\n",
    "    rangeList = [[None]*2 for _ in range(N)]\n",
    "    for i in range(N):\n",
    "        while stack and arr[stack[-1]] >= arr[i]:\n",
    "            popIndex = stack.pop()\n",
    "            if stack:\n",
    "                rangeList[popIndex][0] = stack[-1]\n",
    "            else:\n",
    "                rangeList[popIndex][0] = -1\n",
    "            rangeList[popIndex][1] = i\n",
    "        stack.append(i)\n",
    "    while stack:\n",
    "        popIndex = stack.pop()\n",
    "        if stack:\n",
    "            rangeList[popIndex][0] = stack[-1]\n",
    "        else:\n",
    "            rangeList[popIndex][0] = -1\n",
    "        rangeList[popIndex][1] = N\n",
    "    ans = 0\n",
    "    for i in range(N):\n",
    "        rangeL,rangeR = rangeList[i][0], rangeList[i][1]\n",
    "        left = 0\n",
    "        right = 0\n",
    "        if rangeL >= 0:\n",
    "            left = arr[rangeL]\n",
    "        if rangeR <= N - 1:\n",
    "            right = arr[rangeR]\n",
    "        maxSize = max(left, right)\n",
    "        rangeLtoR = (rangeR - rangeL - 1)\n",
    "        size = arr[i] - maxSize\n",
    "#         print(\"{} x {} x {} = {}\".format(size, leftSide, rightSide, size * leftSide * rightSide))\n",
    "        ans += size * (rangeLtoR * (rangeLtoR+1) / 2)\n",
    "            \n",
    "\n",
    "    return ans\n",
    "        \n",
    "def getBase(base, arr):\n",
    "    for i in range(len(base)):\n",
    "        if int(arr[i]) == 0:\n",
    "            base[i] = 0\n",
    "        else:\n",
    "            base[i] += int(arr[i])\n",
    "    return base\n",
    "            \n"
   ]
  },
  {
   "cell_type": "code",
   "execution_count": 74,
   "id": "25c1fd51",
   "metadata": {},
   "outputs": [
    {
     "name": "stdout",
     "output_type": "stream",
     "text": [
      "======== base 0 ========\n",
      "======== base 1 ========\n",
      "======== base 2 ========\n"
     ]
    },
    {
     "data": {
      "text/plain": [
       "17.0"
      ]
     },
     "execution_count": 74,
     "metadata": {},
     "output_type": "execute_result"
    }
   ],
   "source": [
    "# arr = [[\"1\",\"0\",\"1\",\"0\",\"0\"],[\"1\",\"0\",\"1\",\"1\",\"1\"],[\"1\",\"1\",\"1\",\"1\",\"1\"],[\"1\",\"0\",\"0\",\"1\",\"0\"]]\n",
    "arr = [[\"1\",\"0\",\"1\",],[\"1\",\"1\",\"1\"],[\"1\",\"1\",\"0\"]]\n",
    "\n",
    "# arr = [[\"0\",\"1\"],[\"1\",\"0\"]]\n",
    "sizeRectangle(arr)"
   ]
  },
  {
   "cell_type": "code",
   "execution_count": null,
   "id": "3f6698e4",
   "metadata": {},
   "outputs": [],
   "source": []
  },
  {
   "cell_type": "code",
   "execution_count": null,
   "id": "11e3d14c",
   "metadata": {},
   "outputs": [],
   "source": []
  },
  {
   "cell_type": "code",
   "execution_count": null,
   "id": "fae84c0b",
   "metadata": {},
   "outputs": [],
   "source": []
  }
 ],
 "metadata": {
  "kernelspec": {
   "display_name": "Python 3 (ipykernel)",
   "language": "python",
   "name": "python3"
  },
  "language_info": {
   "codemirror_mode": {
    "name": "ipython",
    "version": 3
   },
   "file_extension": ".py",
   "mimetype": "text/x-python",
   "name": "python",
   "nbconvert_exporter": "python",
   "pygments_lexer": "ipython3",
   "version": "3.8.13"
  },
  "toc": {
   "base_numbering": 1,
   "nav_menu": {},
   "number_sections": true,
   "sideBar": true,
   "skip_h1_title": false,
   "title_cell": "Table of Contents",
   "title_sidebar": "Contents",
   "toc_cell": false,
   "toc_position": {},
   "toc_section_display": true,
   "toc_window_display": false
  }
 },
 "nbformat": 4,
 "nbformat_minor": 5
}
