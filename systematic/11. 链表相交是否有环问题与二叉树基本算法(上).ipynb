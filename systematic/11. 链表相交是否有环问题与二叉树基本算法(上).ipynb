{
 "cells": [
  {
   "cell_type": "markdown",
   "metadata": {},
   "source": [
    "## 1.链表环问题\n",
    "给定两个可能有环也可能无环的单链表，头节点head1、head2。实现函数返回相交的第一个节点或不相交返回None\n",
    "* 要求时间O(N)，空间O(1)\n",
    "* 情况1：链表1无环、 链表2无环。见1.2\n",
    "* 情况2：链表1有环、 链表2无环。一定不相交\n",
    "* 情况3：链表1无环、 链表2有环。一定不相交\n",
    "* 情况4：链表1有环、 链表2有环。见1.3"
   ]
  },
  {
   "cell_type": "markdown",
   "metadata": {},
   "source": [
    "### 1.1 单链表返回环的第一个节点或无环返回None\n",
    "* 快走2，慢走1；快前面空了，无环\n",
    "* 有环，快慢一定相遇，但相遇处不一定为入环节点；\n",
    "* 相遇后，快节点回到head，快慢此后同时走一步，最终会在环交点相遇"
   ]
  },
  {
   "cell_type": "code",
   "execution_count": 1,
   "metadata": {
    "collapsed": true
   },
   "outputs": [],
   "source": [
    "#找到入环节点\n",
    "def getLoopNode(head):\n",
    "    if not head or not head.next or not head.next.next:\n",
    "        return None\n",
    "    n1 = head.next\n",
    "    n2 = head.next.next\n",
    "    while n1 != n2:\n",
    "        if not n2.next or not n2.next.next:\n",
    "            return None\n",
    "        n2 = n2.next.next\n",
    "        n1 = n1.next\n",
    "    n2 = head\n",
    "    while n1 != n2:\n",
    "        n1 = n1.next\n",
    "        n2 = n2.next\n",
    "    return n1"
   ]
  },
  {
   "cell_type": "markdown",
   "metadata": {},
   "source": [
    "### 1.2 两个无环单链表，判断是否相交\n",
    "* 分别找到两个单链表的最后一个节点，如果这两个节点不是一个节点（地址不同），一定不相交\n",
    "* 长链表长度a，短链表长度b。让短链表先走a-b，然后长短一起走，第一个相同的节点相遇"
   ]
  },
  {
   "cell_type": "code",
   "execution_count": 3,
   "metadata": {
    "collapsed": true
   },
   "outputs": [],
   "source": [
    "def noLoop(head1, head2):\n",
    "    if not head1 or not head2:\n",
    "        return None\n",
    "    cur1 = head1\n",
    "    cur2 = head2\n",
    "    n = 0\n",
    "    while cur1.next:\n",
    "        n += 1\n",
    "        cur1 = cur1.next\n",
    "    #此时cur1走到最后节点\n",
    "    while cur2.next:\n",
    "        n -= 1\n",
    "        cur2 = cur2.next\n",
    "    if cur1 != cur2:\n",
    "        return None\n",
    "    #一定存在交点\n",
    "    if n > 0: #谁长cur1\n",
    "        cur1 = head1 \n",
    "        cur2 = head2\n",
    "    else:\n",
    "        cur1 = head2\n",
    "        cur2 = head1\n",
    "    n = abs(n)\n",
    "    while n != 0:\n",
    "        n -= 1\n",
    "        cur1 = cur1.next\n",
    "    while cur1 != cur2:\n",
    "        cur1 = cur1.next\n",
    "        cur2 = cur2.next\n",
    "    return cur1"
   ]
  },
  {
   "cell_type": "markdown",
   "metadata": {},
   "source": [
    "### 1.3 两个都有环的单链表，判断是否相交\n",
    "* 情况4.1： 不相交，各自成环。\n",
    "* 情况4.2： 相交，相交后成环（入环节点同一个）。 == 两个链表的getLoopNode的两个入环点相同。 == 两个无环链表(入环节点为截止)相交问题\n",
    "* 情况4.3： 相交，先成环，后相交（入环节点非同一个节点）（脑袋上俩犄角）\n",
    "* 如果两个入环点不相同！命中情况1、情况3：从一个入环节点开始走，如果遇到自己前没遇到另一个入环节点，命中情况4.1；反之情况4.3"
   ]
  },
  {
   "cell_type": "code",
   "execution_count": 2,
   "metadata": {
    "collapsed": true
   },
   "outputs": [],
   "source": [
    "def bothLoop(head1, loop1, head2, loop2):\n",
    "    cur1 = None\n",
    "    cur2 = None\n",
    "    #情况2\n",
    "    if loop1 == loop2:\n",
    "        cur1 = head1\n",
    "        cur2 = head2\n",
    "        n = 0\n",
    "        while cur1 != loop1:\n",
    "            n += 1\n",
    "            cur1 = cur1.next\n",
    "        while cur2 != loop2:\n",
    "            n -= 1\n",
    "            cur2 = cur2.next\n",
    "        if n > 0:\n",
    "            cur1 = head1\n",
    "            cur2 = head2\n",
    "        else:\n",
    "            cur1 = head2\n",
    "            cur2 = head1\n",
    "        n = abs(n)\n",
    "        while n!=0:\n",
    "            n -= 1\n",
    "            cur1 = cur1.next\n",
    "        while cur1 != cur2:\n",
    "            cur1 = cur1.next\n",
    "            cur2 = cur2.next\n",
    "        return cur1\n",
    "    else:\n",
    "        cur1 = loop1.next\n",
    "        while cur1 != loop1:\n",
    "            #情况3\n",
    "            if cur1 == loop2:\n",
    "                return loop1\n",
    "            cur1 = cur1.next\n",
    "        #情况1 cur1 == loop1\n",
    "        return None"
   ]
  },
  {
   "cell_type": "code",
   "execution_count": 4,
   "metadata": {
    "collapsed": true
   },
   "outputs": [],
   "source": [
    "# 主函数\n",
    "def getIntersectNode(head1, head2):\n",
    "    if not head1 or not head2:\n",
    "        return None\n",
    "    loop1 = getLoopNode(head1)\n",
    "    loop2 = getLoopNode(head2)\n",
    "    if not loop1 and not loop2:\n",
    "        return noLoop(head1, head2)\n",
    "    if loop1 and loop2:\n",
    "        return bothLoop(head1, loop1, head2, loop2)\n",
    "    return None"
   ]
  },
  {
   "cell_type": "markdown",
   "metadata": {},
   "source": [
    "## 2.二叉树\n",
    "* 先序：中左右\n",
    "* 中序：左中右\n",
    "* 后序：左右中"
   ]
  },
  {
   "cell_type": "markdown",
   "metadata": {},
   "source": [
    "### 2.1 求x的所有祖先节点\n",
    "已知先序、后序数组。x在先序的所有左节点 ∩ x在后序的所有右节点 = x的所有祖先节点\n",
    "* 证明：\n",
    "    1. 先序是头左右，那么x的祖先一定在左； 后序是左右头，x的祖先一定在x的右侧。所以左+右一定包含所有祖先\n",
    "    2. 为什么交集一定是祖先节点且不包括其他节点：(3~5)\n",
    "    3. x的所有孩子只会出现在先序的右侧，所以不包含所有子节点\n",
    "    4. x挂在祖先的左子树上，祖先下面的右子树所有节点，只会出现在先序x的右侧，不会出现在先序x的左侧\n",
    "    5. x挂在祖先的右子树上，祖先下面的左子树所有节点，虽然会出现在先序x的左侧，但不会出现在后序x的右侧"
   ]
  },
  {
   "cell_type": "markdown",
   "metadata": {},
   "source": [
    "### 2.2非递归方式实现二叉树的先序、中序、后序遍历"
   ]
  },
  {
   "cell_type": "markdown",
   "metadata": {},
   "source": [
    "#### 2.2.1 先序\n",
    "* 栈顶弹出cur\n",
    "* 有右压右，有左压左"
   ]
  },
  {
   "cell_type": "code",
   "execution_count": 5,
   "metadata": {
    "collapsed": true
   },
   "outputs": [],
   "source": [
    "def preOrder(head):\n",
    "    print(\"pre-order: \")\n",
    "    if head:\n",
    "        stack = list()\n",
    "        stack.append(head)\n",
    "        while stack:\n",
    "            cur = stack.pop()\n",
    "            print(cur.val, end=\" \")\n",
    "            if cur.right:\n",
    "                stack.append(cur.right)\n",
    "            if cur.left:\n",
    "                stack.append(cur.left)\n",
    "    print(\"done.\")"
   ]
  },
  {
   "cell_type": "markdown",
   "metadata": {},
   "source": [
    "#### 2.2.2 后序\n",
    "* 栈顶弹出cur\n",
    "* 有左压左，有右压右\n",
    "* 相对先序，得到中、右、左。弹出时不打印，压入另一个打印栈，从打印栈依次弹出时打印"
   ]
  },
  {
   "cell_type": "code",
   "execution_count": 6,
   "metadata": {
    "collapsed": true
   },
   "outputs": [],
   "source": [
    "def postOrder(head):\n",
    "    print(\"post-order: \")\n",
    "    if head:\n",
    "        stack = list()\n",
    "        stack.append(head)\n",
    "        printStack = list()\n",
    "        while stack:\n",
    "            cur = stack.pop()\n",
    "            printStack.append(cur)#压入另一个打印栈\n",
    "            if cur.left:\n",
    "                stack.append(cur.left)\n",
    "            if cur.right:\n",
    "                stack.append(cur.right)\n",
    "    #从打印栈依次弹出时打印\n",
    "    while printStack:\n",
    "        print(printStack.pop().val, end=\" \")\n",
    "    print(\"done.\")"
   ]
  },
  {
   "cell_type": "code",
   "execution_count": 1,
   "metadata": {
    "collapsed": true
   },
   "outputs": [],
   "source": [
    "#只用一个栈实现\n",
    "def postOrder2(head):\n",
    "    print(\"post-order: \")\n",
    "    if not head:\n",
    "        stack = list()\n",
    "        stack.append(head)\n",
    "        cur = None\n",
    "        while stack:\n",
    "            cur = stack[-1]\n",
    "            if cur.left and head != cur.left and head != cur.right:\n",
    "                stack.append(cur.left)\n",
    "            elif cur.right and head != cur.right:\n",
    "                stack.append(cur.right)\n",
    "            else:\n",
    "                print(stack.pop().val, end=\" \")\n",
    "                head = cur\n",
    "    print(\"done.\")"
   ]
  },
  {
   "cell_type": "markdown",
   "metadata": {},
   "source": [
    "#### 2.2.3 中序\n",
    "* 当前节点cur，cur为头的数，整条左边界进栈（cur压入，cur=cur.left，till cur==None)\n",
    "* 从栈中弹出节点打印，打印后将弹出的节点的右孩子设为cur。重复上面过程"
   ]
  },
  {
   "cell_type": "code",
   "execution_count": 7,
   "metadata": {
    "collapsed": true
   },
   "outputs": [],
   "source": [
    "def inOrder(head):\n",
    "    print(\"in-order: \")\n",
    "    if not head:\n",
    "        stack = list()\n",
    "        cur = head\n",
    "        while stack or cur:\n",
    "            if cur:\n",
    "                stack.append(cur)\n",
    "                cur = cur.left\n",
    "            else:\n",
    "                cur = stack.pop()\n",
    "                print(cur.val, end=\" \")\n",
    "                cur = cur.right\n",
    "                \n",
    "    print(\"done.\")"
   ]
  },
  {
   "cell_type": "code",
   "execution_count": null,
   "metadata": {
    "collapsed": true
   },
   "outputs": [],
   "source": []
  }
 ],
 "metadata": {
  "kernelspec": {
   "display_name": "Python 3",
   "language": "python",
   "name": "python3"
  },
  "language_info": {
   "codemirror_mode": {
    "name": "ipython",
    "version": 3
   },
   "file_extension": ".py",
   "mimetype": "text/x-python",
   "name": "python",
   "nbconvert_exporter": "python",
   "pygments_lexer": "ipython3",
   "version": "3.6.1"
  }
 },
 "nbformat": 4,
 "nbformat_minor": 2
}
