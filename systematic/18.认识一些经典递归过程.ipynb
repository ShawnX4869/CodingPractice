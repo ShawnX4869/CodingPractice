{
 "cells": [
  {
   "cell_type": "markdown",
   "metadata": {},
   "source": [
    "## 1.汉诺塔问题\n",
    "1. 左中右三个堆，不能违反小压大的规则。\n",
    "2. 给定N层圆盘(从上到下依次变大)，返回需要的步数"
   ]
  },
  {
   "cell_type": "code",
   "execution_count": 8,
   "metadata": {
    "collapsed": true
   },
   "outputs": [],
   "source": [
    "def leftToRight(n):\n",
    "    if n == 1:\n",
    "        print(\"Move 1 from left to right.\")\n",
    "        return \n",
    "    leftToMid(n-1)\n",
    "    print(\"Move \" + str(n) + \" from left to right.\")\n",
    "    midToRight(n-1)\n",
    "    return \n",
    "\n",
    "def leftToMid(n):\n",
    "    if n == 1:\n",
    "        print(\"Move 1 from left to mid.\")\n",
    "        return \n",
    "    leftToRight(n-1)\n",
    "    print(\"Move \" + str(n) + \" from left to mid.\")\n",
    "    rightToMid(n-1)\n",
    "    return \n",
    "    \n",
    "def midToRight(n):\n",
    "    if n == 1:\n",
    "        print(\"Move 1 from mid to right.\")\n",
    "        return \n",
    "    midToLeft(n-1)\n",
    "    print(\"Move \" + str(n) + \" from mid to right.\")\n",
    "    leftToRight(n-1)\n",
    "    return \n",
    "    \n",
    "def midToLeft(n):\n",
    "    if n == 1:\n",
    "        print(\"Move 1 from mid to left.\")\n",
    "        return \n",
    "    midToRight(n-1)\n",
    "    print(\"Move \" + str(n) + \" from mid to left.\")\n",
    "    rightToLeft(n-1)\n",
    "    return \n",
    "\n",
    "def rightToLeft(n):\n",
    "    if n == 1:\n",
    "        print(\"Move 1 from right to left.\")\n",
    "        return \n",
    "    rightToMid(n-1)\n",
    "    print(\"Move \" + str(n) + \" from right to left.\")\n",
    "    midToLeft(n-1)\n",
    "    return \n",
    "\n",
    "def rightToMid(n):\n",
    "    if n == 1:\n",
    "        print(\"Move 1 from right to mid.\")\n",
    "        return \n",
    "    rightToLeft(n-1)\n",
    "    print(\"Move \" + str(n) + \" from right to mid.\")\n",
    "    leftToMid(n-1)"
   ]
  },
  {
   "cell_type": "code",
   "execution_count": 20,
   "metadata": {},
   "outputs": [
    {
     "name": "stdout",
     "output_type": "stream",
     "text": [
      "Move 1 from left to mid.\n",
      "Move 2 from left to right.\n",
      "Move 1 from mid to right.\n",
      "Move 3 from left to mid.\n",
      "Move 1 from right to left.\n",
      "Move 2 from right to mid.\n",
      "Move 1 from left to mid.\n",
      "Move 4 from left to right.\n",
      "Move 1 from mid to right.\n",
      "Move 2 from mid to left.\n",
      "Move 1 from right to left.\n",
      "Move 3 from mid to right.\n",
      "Move 1 from left to mid.\n",
      "Move 2 from left to right.\n",
      "Move 1 from mid to right.\n",
      "Move 5 from left to mid.\n",
      "Move 1 from right to left.\n",
      "Move 2 from right to mid.\n",
      "Move 1 from left to mid.\n",
      "Move 3 from right to left.\n",
      "Move 1 from mid to right.\n",
      "Move 2 from mid to left.\n",
      "Move 1 from right to left.\n",
      "Move 4 from right to mid.\n",
      "Move 1 from left to mid.\n",
      "Move 2 from left to right.\n",
      "Move 1 from mid to right.\n",
      "Move 3 from left to mid.\n",
      "Move 1 from right to left.\n",
      "Move 2 from right to mid.\n",
      "Move 1 from left to mid.\n",
      "Move 6 from left to right.\n",
      "Move 1 from mid to right.\n",
      "Move 2 from mid to left.\n",
      "Move 1 from right to left.\n",
      "Move 3 from mid to right.\n",
      "Move 1 from left to mid.\n",
      "Move 2 from left to right.\n",
      "Move 1 from mid to right.\n",
      "Move 4 from mid to left.\n",
      "Move 1 from right to left.\n",
      "Move 2 from right to mid.\n",
      "Move 1 from left to mid.\n",
      "Move 3 from right to left.\n",
      "Move 1 from mid to right.\n",
      "Move 2 from mid to left.\n",
      "Move 1 from right to left.\n",
      "Move 5 from mid to right.\n",
      "Move 1 from left to mid.\n",
      "Move 2 from left to right.\n",
      "Move 1 from mid to right.\n",
      "Move 3 from left to mid.\n",
      "Move 1 from right to left.\n",
      "Move 2 from right to mid.\n",
      "Move 1 from left to mid.\n",
      "Move 4 from left to right.\n",
      "Move 1 from mid to right.\n",
      "Move 2 from mid to left.\n",
      "Move 1 from right to left.\n",
      "Move 3 from mid to right.\n",
      "Move 1 from left to mid.\n",
      "Move 2 from left to right.\n",
      "Move 1 from mid to right.\n"
     ]
    }
   ],
   "source": [
    "leftToRight(6)"
   ]
  },
  {
   "cell_type": "code",
   "execution_count": 17,
   "metadata": {},
   "outputs": [],
   "source": [
    "def fromTo(n, from_, to_, other_):\n",
    "    if n == 1:\n",
    "        print(\"Move 1 from {} to {}.\".format(from_, to_))\n",
    "        return \n",
    "    fromTo(n-1, from_, other_, to_)\n",
    "    print(\"Move {} from {} to {}.\".format(n, from_, to_))\n",
    "    fromTo(n-1, other_, to_, from_)\n",
    "    return "
   ]
  },
  {
   "cell_type": "code",
   "execution_count": 21,
   "metadata": {},
   "outputs": [
    {
     "name": "stdout",
     "output_type": "stream",
     "text": [
      "Move 1 from left to mid.\n",
      "Move 2 from left to right.\n",
      "Move 1 from mid to right.\n",
      "Move 3 from left to mid.\n",
      "Move 1 from right to left.\n",
      "Move 2 from right to mid.\n",
      "Move 1 from left to mid.\n",
      "Move 4 from left to right.\n",
      "Move 1 from mid to right.\n",
      "Move 2 from mid to left.\n",
      "Move 1 from right to left.\n",
      "Move 3 from mid to right.\n",
      "Move 1 from left to mid.\n",
      "Move 2 from left to right.\n",
      "Move 1 from mid to right.\n",
      "Move 5 from left to mid.\n",
      "Move 1 from right to left.\n",
      "Move 2 from right to mid.\n",
      "Move 1 from left to mid.\n",
      "Move 3 from right to left.\n",
      "Move 1 from mid to right.\n",
      "Move 2 from mid to left.\n",
      "Move 1 from right to left.\n",
      "Move 4 from right to mid.\n",
      "Move 1 from left to mid.\n",
      "Move 2 from left to right.\n",
      "Move 1 from mid to right.\n",
      "Move 3 from left to mid.\n",
      "Move 1 from right to left.\n",
      "Move 2 from right to mid.\n",
      "Move 1 from left to mid.\n",
      "Move 6 from left to right.\n",
      "Move 1 from mid to right.\n",
      "Move 2 from mid to left.\n",
      "Move 1 from right to left.\n",
      "Move 3 from mid to right.\n",
      "Move 1 from left to mid.\n",
      "Move 2 from left to right.\n",
      "Move 1 from mid to right.\n",
      "Move 4 from mid to left.\n",
      "Move 1 from right to left.\n",
      "Move 2 from right to mid.\n",
      "Move 1 from left to mid.\n",
      "Move 3 from right to left.\n",
      "Move 1 from mid to right.\n",
      "Move 2 from mid to left.\n",
      "Move 1 from right to left.\n",
      "Move 5 from mid to right.\n",
      "Move 1 from left to mid.\n",
      "Move 2 from left to right.\n",
      "Move 1 from mid to right.\n",
      "Move 3 from left to mid.\n",
      "Move 1 from right to left.\n",
      "Move 2 from right to mid.\n",
      "Move 1 from left to mid.\n",
      "Move 4 from left to right.\n",
      "Move 1 from mid to right.\n",
      "Move 2 from mid to left.\n",
      "Move 1 from right to left.\n",
      "Move 3 from mid to right.\n",
      "Move 1 from left to mid.\n",
      "Move 2 from left to right.\n",
      "Move 1 from mid to right.\n"
     ]
    }
   ],
   "source": [
    "fromTo(6, \"left\", \"right\", \"mid\")"
   ]
  },
  {
   "cell_type": "markdown",
   "metadata": {},
   "source": [
    "## 2.打印所有子序列"
   ]
  },
  {
   "cell_type": "code",
   "execution_count": 62,
   "metadata": {
    "collapsed": true
   },
   "outputs": [],
   "source": [
    "def printAllSubsquences(string):\n",
    "    ans = set([\"\"])\n",
    "    if not str:\n",
    "        return ans\n",
    "    pre = \"\"\n",
    "    printSub(string, 0, pre, ans)\n",
    "#     ansSet = set()\n",
    "#     for a in ans:\n",
    "#         ansSet.add(a)\n",
    "    return ans\n",
    "    \n",
    "\n",
    "def printSub(string, index, pre, ans):\n",
    "    if index == len(string):\n",
    "        ans.add(pre)\n",
    "        return \n",
    "    visited = dict()\n",
    "    for i in range(index, len(string)):\n",
    "        if string[i] not in visited:\n",
    "            visited[string[i]] = True\n",
    "            printSub(string, i+1, pre+string[i], ans)\n",
    "            printSub(string, i+1, pre, ans)\n",
    "#         else:\n",
    "#             print(\"skip {} at{}, pre={}\".format(string[i], i ,pre))\n",
    "    return"
   ]
  },
  {
   "cell_type": "code",
   "execution_count": 64,
   "metadata": {
    "scrolled": true
   },
   "outputs": [
    {
     "data": {
      "text/plain": [
       "{'', 'a', 'ab', 'abc', 'ac', 'b', 'bc', 'c'}"
      ]
     },
     "execution_count": 64,
     "metadata": {},
     "output_type": "execute_result"
    }
   ],
   "source": [
    "printAllSubsquences(\"abc\")"
   ]
  },
  {
   "cell_type": "markdown",
   "metadata": {},
   "source": [
    "## 3.打印全排列"
   ]
  },
  {
   "cell_type": "code",
   "execution_count": 75,
   "metadata": {
    "collapsed": true
   },
   "outputs": [],
   "source": [
    "def printAllPermutation(string):\n",
    "    ans = list()\n",
    "    if not string:\n",
    "        return ans\n",
    "    printPermutation(0, list(string),ans)\n",
    "    return ans\n",
    "def swap(string, i, j):\n",
    "    temp = string[i]\n",
    "    string[i] = string[j]\n",
    "    string[j] = temp\n",
    "    return\n",
    "def printPermutation(i, string, ans):\n",
    "    if i == len(string):\n",
    "        ans.append(str.join(\"\",string))\n",
    "        return\n",
    "    visited = dict()\n",
    "    for index in range(i, len(string)):\n",
    "        if string[index] not in visited:\n",
    "            visited[string[index]] = True\n",
    "            swap(string, i, index)\n",
    "            printPermutation(i+1, string, ans)\n",
    "            swap(string, i, index)\n",
    "    return \n"
   ]
  },
  {
   "cell_type": "code",
   "execution_count": 77,
   "metadata": {},
   "outputs": [
    {
     "data": {
      "text/plain": [
       "['acc', 'cac', 'cca']"
      ]
     },
     "execution_count": 77,
     "metadata": {},
     "output_type": "execute_result"
    }
   ],
   "source": [
    "printAllPermutation(\"acc\")"
   ]
  },
  {
   "cell_type": "markdown",
   "metadata": {},
   "source": [
    "## 4.逆序栈（不用辅助栈、只用递归）"
   ]
  },
  {
   "cell_type": "code",
   "execution_count": 95,
   "metadata": {},
   "outputs": [],
   "source": [
    "#申请栈做法\n",
    "'''\n",
    "stack=[1,2,3] ==> first = 3, helpStack = [2,1] ==> stack =[3,1,2], 保持3不动 ==> 重复[1,2]reverse\n",
    "'''\n",
    "def reverseStack(stack, num):\n",
    "    if num == len(stack):\n",
    "        return\n",
    "    helpStack = list()\n",
    "    first = stack.pop()\n",
    "    while len(stack) > num:\n",
    "        helpStack.append(stack.pop())\n",
    "    stack.append(first)\n",
    "    while helpStack:\n",
    "        stack.append(helpStack.pop())\n",
    "    reverseStack(stack, num+1)\n",
    "    return\n"
   ]
  },
  {
   "cell_type": "code",
   "execution_count": 89,
   "metadata": {
    "collapsed": true
   },
   "outputs": [],
   "source": [
    "\n",
    "# 移除栈底，上面的数盖下来，返回移除的栈底\n",
    "'''\n",
    "stack=[1,2,3] ==> stack=[1,2], result=3, last=f([1,2])? ==> \n",
    "stack=[1,2]   ==> stack=[1],   result=2, last=f([1])?   ==>\n",
    "stack=[1]     ==> stack=[],    result=1,                ==>\n",
    "\n",
    "stack=[]   ==> stack=[2],   result=2, last=1            ==>\n",
    "stack=[2]   ==> stack=[2,3],   result=3, last=1            ==>\n",
    "此时stack=[2,3], return last=1\n",
    "'''\n",
    "def getLast(stack):\n",
    "    result = stack.pop()\n",
    "    if not stack:\n",
    "        return result\n",
    "    else:\n",
    "        last = getLast(stack)\n",
    "        stack.append(result)\n",
    "        return last\n",
    "\n",
    "def reverse(stack):\n",
    "    if not stack:\n",
    "        return\n",
    "    i = getLast(stack) #每个栈底都被变量记住，直到stack为空\n",
    "    reverse(stack)     #除栈底，保证其他都已经reverse，最后加入栈底到栈顶，排序完成。\n",
    "    stack.append(i)\n",
    "    \n",
    "        "
   ]
  },
  {
   "cell_type": "code",
   "execution_count": 94,
   "metadata": {},
   "outputs": [
    {
     "name": "stdout",
     "output_type": "stream",
     "text": [
      "[5, 4, 3, 2, 1]\n"
     ]
    }
   ],
   "source": [
    "arr = [1,2,3,4,5]\n",
    "reverseStack(arr, 0)\n",
    "print(arr)"
   ]
  },
  {
   "cell_type": "code",
   "execution_count": 90,
   "metadata": {},
   "outputs": [
    {
     "name": "stdout",
     "output_type": "stream",
     "text": [
      "[3, 2, 1]\n"
     ]
    }
   ],
   "source": [
    "arr = [1,2,3]\n",
    "reverse(arr)\n",
    "print(arr)"
   ]
  },
  {
   "cell_type": "code",
   "execution_count": null,
   "metadata": {
    "collapsed": true
   },
   "outputs": [],
   "source": []
  }
 ],
 "metadata": {
  "kernelspec": {
   "display_name": "Python 3",
   "language": "python",
   "name": "python3"
  },
  "language_info": {
   "codemirror_mode": {
    "name": "ipython",
    "version": 3
   },
   "file_extension": ".py",
   "mimetype": "text/x-python",
   "name": "python",
   "nbconvert_exporter": "python",
   "pygments_lexer": "ipython3",
   "version": "3.6.1"
  }
 },
 "nbformat": 4,
 "nbformat_minor": 2
}
