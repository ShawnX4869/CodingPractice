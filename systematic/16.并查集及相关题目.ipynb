{
 "cells": [
  {
   "cell_type": "markdown",
   "metadata": {},
   "source": [
    "## 1.朋友圈问题\n",
    "* N*N二维数组，认识=1，任何人和自己认识m[i][i]=1，互相认识m[i][j]=1则m[j][i]=1.\n",
    "* 0认识2,0认识4，所以024是一个朋友圈（即使2不认识4）\n",
    "* 链接：https://leetcode.com/problems/number-of-provinces/"
   ]
  },
  {
   "cell_type": "code",
   "execution_count": 4,
   "metadata": {},
   "outputs": [],
   "source": [
    "\n",
    "def findCircleNum(isConnected):\n",
    "    N = len(isConnected)\n",
    "    unionFind = UnionFind(N)\n",
    "    for i in range(N): #只遍历右上半区\n",
    "        for j in range(i+1, N):\n",
    "            if isConnected[i][j] == 1:\n",
    "                unionFind.union(i,j)\n",
    "    return unionFind.sets\n",
    "\n",
    "class UnionFind:\n",
    "    def __init__(self, N):\n",
    "        #parent[i]=k： i的父亲是k\n",
    "        self.parent = [-1] * N \n",
    "        #size[i]=k：  如果i是代表节点，size[i]才有意义，表示以i为代表节点的集合大小\n",
    "        self.size = [1] * N    \n",
    "        self.help = [-1] * N\n",
    "        #一共多少集合\n",
    "        self.sets = N\n",
    "        for i in range(N):\n",
    "            self.parent[i] = i\n",
    "    #从i开始一直往上，往上到不能再往上，代表节点返回。此过程完成路径压缩\n",
    "    def find(self, i):\n",
    "        hi = 0\n",
    "        while i != self.parent[i]:\n",
    "            self.help[hi] = i #help数组记录沿途经过的i\n",
    "            i = self.parent[i] #往上查\n",
    "            hi += 1\n",
    "        #跳出while时刻，i为代表节点\n",
    "        hi -= 1\n",
    "        while hi >= 0:\n",
    "            self.parent[self.help[hi]] = i #路径压缩\n",
    "            hi -= 1\n",
    "        return i\n",
    "    \n",
    "    def union(self, i, j):\n",
    "        f1 = self.find(i)\n",
    "        f2 = self.find(j)\n",
    "        if f1!=f2:\n",
    "            if self.size[f1] >= self.size[f2]:\n",
    "                self.size[f1] += self.size[f2]\n",
    "                self.parent[f2] = f1\n",
    "            else:\n",
    "                self.size[f2] += self.size[f1]\n",
    "                self.parent[f1] = f2\n",
    "            self.sets -= 1\n",
    "        "
   ]
  },
  {
   "cell_type": "markdown",
   "metadata": {},
   "source": [
    "## 2.岛问题\n",
    "* 给定一个二维数组matrix，相邻的1认为是一个岛，问有多少个岛\n",
    "* 链接：https://leetcode.com/problems/number-of-islands/"
   ]
  },
  {
   "cell_type": "code",
   "execution_count": 6,
   "metadata": {
    "collapsed": true
   },
   "outputs": [],
   "source": [
    "#递归版本\n",
    "#从i,j出发，将相邻1的所到之处\"1\"变成\"2\"\n",
    "def numIslands(grid):\n",
    "    islands = 0\n",
    "    for i in range(len(grid)):\n",
    "        for j in range(len(grid[0])):\n",
    "            if grid[i][j] == \"1\":\n",
    "                islands += 1\n",
    "                infects(grid, i, j)\n",
    "    return islands\n",
    "\n",
    "def infects(board, i, j):\n",
    "    if i < 0 or i == len(board) or j < 0 or j == len(board[0]) or board[i][j] != \"1\":\n",
    "        return \n",
    "    board[i][j] = 2\n",
    "    infects(board, i-1, j)\n",
    "    infects(board, i+1, j)\n",
    "    infects(board, i, j-1)\n",
    "    infects(board, i, j+1)\n",
    "    "
   ]
  },
  {
   "cell_type": "code",
   "execution_count": 7,
   "metadata": {
    "collapsed": true
   },
   "outputs": [],
   "source": [
    "#并查集版本\n",
    "#从i,j出发，只查自己的左上，有1合并"
   ]
  },
  {
   "cell_type": "code",
   "execution_count": 22,
   "metadata": {},
   "outputs": [],
   "source": [
    "class UnionFind2:\n",
    "    def __init__(self, grid):\n",
    "        self.N = len(grid)\n",
    "        self.M = len(grid[0])\n",
    "        self.parent = [-1]*(self.N*self.M) \n",
    "        self.size = [1]*(self.N*self.M)\n",
    "        self.help = [-1]*(self.N*self.M) \n",
    "        self.sets = 0\n",
    "        for i in range(self.N):\n",
    "            for j in range(self.M):\n",
    "                if grid[i][j] == \"1\":\n",
    "                    index = self.__getIndex__(i,j)\n",
    "                    self.parent[index] = index\n",
    "                    self.sets +=1\n",
    "    def __getIndex__(self, x, y):\n",
    "        return int(x * self.M + y)\n",
    "    def find(self, x, y):\n",
    "        hi = 0\n",
    "        index = self.__getIndex__(x,y)\n",
    "        while index != self.parent[index]:\n",
    "            self.help[hi] = index\n",
    "            hi += 1\n",
    "            index = self.parent[index]\n",
    "        #index == self.parent[index]代表节点\n",
    "        hi -= 1\n",
    "        for i in range(0, hi):\n",
    "            self.parent[self.help[i]] = index\n",
    "        return index\n",
    "    def union(self, x1, y1, x2, y2):\n",
    "        f1 = self.find(x1, y1)\n",
    "        f2 = self.find(x2, y2)\n",
    "        if f1 != f2:\n",
    "            if self.size[f1] >= self.size[f2]:\n",
    "                self.parent[f2] = f1\n",
    "                self.size[f1] = self.size[f1] + self.size[f2]\n",
    "            else:\n",
    "                self.parent[f1] = f2\n",
    "                self.size[f2] = self.size[f1] + self.size[f2]\n",
    "            self.sets -= 1\n",
    "        return\n",
    "    \n",
    "def numIslands2(grid):\n",
    "    unf = UnionFind2(grid)\n",
    "    N = len(grid)\n",
    "    M = len(grid[0])\n",
    "    for j in range(1, N):\n",
    "        if grid[0][j] == \"1\" and grid[0][j-1] == \"1\":\n",
    "            unf.union(0, j-1, 0, j)\n",
    "    for i in range(1, M):\n",
    "        if grid[i][0] == \"1\" and grid[i-1][0] == \"1\":\n",
    "            unf.union(i-1, 0, i, 0)\n",
    "    for i in range(1, N):\n",
    "        for j in range(1, M):\n",
    "            if grid[i][j] == \"1\":\n",
    "                if grid[i][j-1] == \"1\":\n",
    "                    unf.union(i, j-1, i, j)\n",
    "                if grid[i-1][j] == \"1\":\n",
    "                    unf.union(i-1, j, i, j)\n",
    "    return unf.sets\n",
    "                \n",
    "        "
   ]
  },
  {
   "cell_type": "markdown",
   "metadata": {},
   "source": [
    "## 3.岛位置2\n",
    "* 给定N,M大小的范围，初始都是0.每次给一个位置，返回岛数。\n",
    "* 输入为 m,n,positions. m、n为正整数，position为[(x,y), (x2,y2)...]\n",
    "* https://leetcode.com/problems/number-of-islands-ii/ （有锁）"
   ]
  },
  {
   "cell_type": "code",
   "execution_count": 21,
   "metadata": {
    "collapsed": true
   },
   "outputs": [],
   "source": [
    "#涉及动态感染(合并)过程\n",
    "#用size==0表示没被初始化，当没被初始化，此时空降了一个点，再初始化这个点的状态(parent,size,sets).\n",
    "#初始化完成后，尝试上下左右union，形成当前时刻的岛状态。\n",
    "\n",
    "class UnionFind3:\n",
    "    def __init__(self, N, M):\n",
    "        self.N = N\n",
    "        self.M = M\n",
    "        self.parent = [-1]*(N*M) \n",
    "        self.size = [0]*(N*M)\n",
    "        self.help = [-1]*(N*M) \n",
    "        self.sets = 0\n",
    "        #每次的parent初始化通过connect完成\n",
    "    def __getIndex__(self, x, y):\n",
    "        return int(x * self.M + y)\n",
    "    def find(self, x, y):\n",
    "        hi = 0\n",
    "        index = self.__getIndex__(x,y)\n",
    "        while index != self.parent[index]:\n",
    "            self.help[hi] = index\n",
    "            hi += 1\n",
    "            index = self.parent[index]\n",
    "        #index == self.parent[index]代表节点\n",
    "        hi -= 1\n",
    "        for i in range(0, hi):\n",
    "            self.parent[self.help[i]] = index\n",
    "        return index\n",
    "    \n",
    "    def union(self, x1, y1, x2, y2):\n",
    "        if x1 < 0 or x1 == self.N or x2 < 0 or x2 == self.N or  \\\n",
    "            y1 < 0 or y1 == self.M or y2 < 0 or y2 == self.M:\n",
    "                return\n",
    "        i1 = self.__getIndex__(x1,y1)\n",
    "        i2 = self.__getIndex__(x2,y2)\n",
    "        #如果有一个还未初始化，直接跳过\n",
    "        if size[i1] == 0 or size[i2] == 0:\n",
    "            return \n",
    "        f1 = self.find(x1, y1)\n",
    "        f2 = self.find(x2, y2)\n",
    "\n",
    "        if f1 != f2:\n",
    "            if self.size[f1] >= self.size[f2]:\n",
    "                self.parent[f2] = f1\n",
    "                self.size[f1] = self.size[f1] + self.size[f2]\n",
    "            else:\n",
    "                self.parent[f1] = f2\n",
    "                self.size[f2] = self.size[f1] + self.size[f2]\n",
    "            self.sets -= 1\n",
    "        return\n",
    "    \n",
    "    def connect(self, x, y):\n",
    "        index = self.__getIndex__(x,y)\n",
    "        #如果重复空降，直接跳过\n",
    "        if self.size[index] == 0:\n",
    "            self.parent[index] = index\n",
    "            self.size[index] = 1\n",
    "            self.sets += 1\n",
    "            self.union(x-1, y, x, y)\n",
    "            self.union(x+1, y, x, y)\n",
    "            self.union(x, y-1, x, y)\n",
    "            self.union(x, y+1, x, y)\n",
    "        return self.sets\n",
    "def numIslands3(m, n, positions):\n",
    "    uf = UnionFind3(m, n)\n",
    "    ans = list()\n",
    "    for position in positions:\n",
    "        ans.append(uf.connect(position[0],position[1]))\n",
    "    return ans\n",
    "#上面的初始化是O(N*M)，每次connect的是O(1)。如果N*M很大，那么可以用hashmap"
   ]
  },
  {
   "cell_type": "markdown",
   "metadata": {},
   "source": [
    "## 4.岛问题(扩展)\n",
    "如果matrix很大，要求设计并行的方案"
   ]
  },
  {
   "cell_type": "code",
   "execution_count": 23,
   "metadata": {},
   "outputs": [
    {
     "data": {
      "text/plain": [
       "'\\n思路：\\n1. 并行 分别感染两边的岛，并记录每个岛的代表节点，返回各自岛数，求和整体岛数\\n2. 考虑岛边界左右两侧的节点，如果两侧都被感染成了“2”，且两侧的节点代表节点不是同一个，合并(并查集),整体岛数-1\\n'"
      ]
     },
     "execution_count": 23,
     "metadata": {},
     "output_type": "execute_result"
    }
   ],
   "source": [
    "'''\n",
    "思路：\n",
    "1. 并行 分别感染两边的岛，并记录每个岛的代表节点，返回各自岛数，求和整体岛数\n",
    "2. 考虑岛边界(上下左右四个)左右两侧的节点，如果两侧都被感染成了“2”，且两侧的节点代表节点不是同一个，合并(并查集),整体岛数-1\n",
    "'''"
   ]
  },
  {
   "cell_type": "code",
   "execution_count": null,
   "metadata": {
    "collapsed": true
   },
   "outputs": [],
   "source": []
  }
 ],
 "metadata": {
  "kernelspec": {
   "display_name": "Python 3",
   "language": "python",
   "name": "python3"
  },
  "language_info": {
   "codemirror_mode": {
    "name": "ipython",
    "version": 3
   },
   "file_extension": ".py",
   "mimetype": "text/x-python",
   "name": "python",
   "nbconvert_exporter": "python",
   "pygments_lexer": "ipython3",
   "version": "3.6.1"
  }
 },
 "nbformat": 4,
 "nbformat_minor": 2
}
