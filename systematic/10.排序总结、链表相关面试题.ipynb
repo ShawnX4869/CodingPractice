{
 "cells": [
  {
   "cell_type": "markdown",
   "metadata": {},
   "source": [
    "## 1.排序算法总结"
   ]
  },
  {
   "cell_type": "code",
   "execution_count": 9,
   "metadata": {},
   "outputs": [
    {
     "data": {
      "text/html": [
       "<div>\n",
       "<style scoped>\n",
       "    .dataframe tbody tr th:only-of-type {\n",
       "        vertical-align: middle;\n",
       "    }\n",
       "\n",
       "    .dataframe tbody tr th {\n",
       "        vertical-align: top;\n",
       "    }\n",
       "\n",
       "    .dataframe thead th {\n",
       "        text-align: right;\n",
       "    }\n",
       "</style>\n",
       "<table border=\"1\" class=\"dataframe\">\n",
       "  <thead>\n",
       "    <tr style=\"text-align: right;\">\n",
       "      <th></th>\n",
       "      <th>时间复杂度</th>\n",
       "      <th>额外空间复杂度</th>\n",
       "      <th>稳定性</th>\n",
       "    </tr>\n",
       "  </thead>\n",
       "  <tbody>\n",
       "    <tr>\n",
       "      <th>选择排序</th>\n",
       "      <td>O(N^2)</td>\n",
       "      <td>O(1)</td>\n",
       "      <td>False</td>\n",
       "    </tr>\n",
       "    <tr>\n",
       "      <th>冒泡排序</th>\n",
       "      <td>O(N^2)</td>\n",
       "      <td>O(1)</td>\n",
       "      <td>True</td>\n",
       "    </tr>\n",
       "    <tr>\n",
       "      <th>插入排序</th>\n",
       "      <td>O(N^2)</td>\n",
       "      <td>O(1)</td>\n",
       "      <td>True</td>\n",
       "    </tr>\n",
       "    <tr>\n",
       "      <th>归并排序</th>\n",
       "      <td>O(N*logN)</td>\n",
       "      <td>O(N)</td>\n",
       "      <td>True</td>\n",
       "    </tr>\n",
       "    <tr>\n",
       "      <th>随机快排</th>\n",
       "      <td>O(N*logN)</td>\n",
       "      <td>O(logN)</td>\n",
       "      <td>False</td>\n",
       "    </tr>\n",
       "    <tr>\n",
       "      <th>堆排序</th>\n",
       "      <td>O(N*logN)</td>\n",
       "      <td>O(1)</td>\n",
       "      <td>False</td>\n",
       "    </tr>\n",
       "    <tr>\n",
       "      <th>计数排序</th>\n",
       "      <td>O(N)</td>\n",
       "      <td>O(M)</td>\n",
       "      <td>True</td>\n",
       "    </tr>\n",
       "    <tr>\n",
       "      <th>基数排序</th>\n",
       "      <td>O(N)</td>\n",
       "      <td>O(M)</td>\n",
       "      <td>True</td>\n",
       "    </tr>\n",
       "  </tbody>\n",
       "</table>\n",
       "</div>"
      ],
      "text/plain": [
       "          时间复杂度  额外空间复杂度    稳定性\n",
       "选择排序     O(N^2)     O(1)  False\n",
       "冒泡排序     O(N^2)     O(1)   True\n",
       "插入排序     O(N^2)     O(1)   True\n",
       "归并排序  O(N*logN)     O(N)   True\n",
       "随机快排  O(N*logN)  O(logN)  False\n",
       "堆排序   O(N*logN)     O(1)  False\n",
       "计数排序       O(N)     O(M)   True\n",
       "基数排序       O(N)     O(M)   True"
      ]
     },
     "execution_count": 9,
     "metadata": {},
     "output_type": "execute_result"
    }
   ],
   "source": [
    "import pandas as pd\n",
    "import numpy as np\n",
    "index = ['选择排序','冒泡排序','插入排序','归并排序','随机快排','堆排序','计数排序','基数排序']\n",
    "columns = ['时间复杂度','额外空间复杂度','稳定性']\n",
    "col1 = ['O(N^2)','O(N^2)','O(N^2)','O(N*logN)','O(N*logN)','O(N*logN)','O(N)','O(N)']\n",
    "col2 = ['O(1)','O(1)','O(1)','O(N)','O(logN)','O(1)','O(M)','O(M)']\n",
    "col3 = [False, True, True, True, False, False, True, True]\n",
    "data = list()\n",
    "for i in range(len(col1)):\n",
    "    data.append([col1[i],col2[i],col3[i]])\n",
    "overall = pd.DataFrame(data, columns=columns, index=index)\n",
    "overall"
   ]
  },
  {
   "cell_type": "markdown",
   "metadata": {},
   "source": [
    "* 快排的额外空间占用发生在递归过程中的中间变量保存\n",
    "* 追求速度：随机快排（常数最低）\n",
    "* 追求稳定：归并排序\n",
    "* 追求空间：堆排序"
   ]
  },
  {
   "cell_type": "markdown",
   "metadata": {},
   "source": [
    "## 2.链表面试"
   ]
  },
  {
   "cell_type": "markdown",
   "metadata": {},
   "source": [
    "### 2.1 快慢指针\n",
    "1. 奇数返回中点，偶数返回上中点。 快1，慢1；快有下两个，快慢都跳。\n",
    "2. 奇数返回中点，偶数返回下中点。 快2，慢2；快有下两个，快慢都跳。\n",
    "3. 奇数返回中点前一个，偶数返回上中点前一个\n",
    "4. 奇数返回中点前一个，偶数返回下中点前一个"
   ]
  },
  {
   "cell_type": "markdown",
   "metadata": {},
   "source": [
    "### 2.2 给定一个单链表的头节点，返回该链表是否回文结构\n",
    "* 使用容器：准备栈，依次把节点放入，然后弹出与第一个开始对比\n",
    "* 要求不使用容器：找到中点，中点(偶数上中点)指向空，中点右侧链表逆序。找到原开始、结尾节点，依次比对，跳一下一个。结束时将逆序调回。"
   ]
  },
  {
   "cell_type": "code",
   "execution_count": null,
   "metadata": {
    "collapsed": true
   },
   "outputs": [],
   "source": [
    "#不使用容器\n",
    "def isPalindrome(head):\n",
    "    if not head or not head.next:\n",
    "        return True\n",
    "    n1 = head\n",
    "    n2 = head\n",
    "    while n2.next and n2.next.next:\n",
    "        n1 = n1.next\n",
    "        n2 = n2.next.next \n",
    "    #n1上中点\n",
    "    n2 = n1.next\n",
    "    n1.next = None\n",
    "    n3 = None\n",
    "    while n2:\n",
    "        n3 = n2.next #记住下一个\n",
    "        n2.next = n1 #指回前一个\n",
    "        n1 = n2\n",
    "        n2 = n3\n",
    "    n3 = n1 #n1此时是结尾\n",
    "    n2 = head #n2此时是开始\n",
    "    res = True\n",
    "    while n1 and n2:\n",
    "        if n1.val != n2.val:\n",
    "            res = False\n",
    "            break #不能return，要先把原链表变回\n",
    "        n1 = n1.next\n",
    "        n2 = n2.next\n",
    "    \n",
    "    n1 = n3.next\n",
    "    n3.next = None\n",
    "    while n1:\n",
    "        n2 = n1.next\n",
    "        n1.next = n3\n",
    "        n3 = n1\n",
    "        n1 = n2\n",
    "    return res\n",
    "        "
   ]
  },
  {
   "cell_type": "markdown",
   "metadata": {},
   "source": [
    "### 2.3 将单向链表按某值，划分为左小，中等，右大的形式\n",
    "* 申请变量：小头、小尾；中头、中尾；右头、右尾\n",
    "* 在原始链表跳下一节点时，先记住下节点，然后当前节点断连，再放到该放的地方去！"
   ]
  },
  {
   "cell_type": "code",
   "execution_count": null,
   "metadata": {
    "collapsed": true
   },
   "outputs": [],
   "source": [
    "def listNodePartiton(head, pivot):\n",
    "    sH = None\n",
    "    sT = None    \n",
    "    eH = None    \n",
    "    eT = None    \n",
    "    mH = None    \n",
    "    mT = None    \n",
    "    nxt = None   \n",
    "    while head:\n",
    "        nxt = head.next\n",
    "        head.next = None\n",
    "        if head.val < pivot:\n",
    "            if not sH:\n",
    "                sH = head\n",
    "                sT = head\n",
    "            else:\n",
    "                sT.next = head\n",
    "                sT = head\n",
    "        elif head.val == pivot:\n",
    "            if not eH:\n",
    "                eH = head\n",
    "                eT = head\n",
    "            else:\n",
    "                eT.next = head\n",
    "                eT = head \n",
    "        else:\n",
    "            if not mH:\n",
    "                mH = head\n",
    "                mT = head\n",
    "            else:\n",
    "                mT.next = head\n",
    "                mT = head \n",
    "        head = nxt\n",
    "    if sT: #有小于区域\n",
    "        sT.next = eH\n",
    "        if not eT:\n",
    "            eT = sT\n",
    "    #eT接大于的头\n",
    "    #此时eT尽量不为空：如果有eT维持，如果没有eT，也没有sT，此时才为空，否则是sT\n",
    "    if eT:\n",
    "        eT.next = mH\n",
    "    if sH:\n",
    "        ans = sH\n",
    "    elif eH:\n",
    "        ans = eH\n",
    "    else:\n",
    "        ans = mH\n",
    "    return ans"
   ]
  },
  {
   "cell_type": "markdown",
   "metadata": {},
   "source": [
    "### 2.4 拷贝带random跳转的链表\n",
    "普通单链表的节点，存在一个random跳转，可能指向空也可能指向任意一个节点。要求拷贝这个单链表\n",
    "* 使用容器map：记录node->映射的node\n",
    "* 不使用容器：每个节点的next连新节点；让旧节点的next的random，指向旧节点的random的next；把新旧链表拆离"
   ]
  },
  {
   "cell_type": "code",
   "execution_count": 12,
   "metadata": {},
   "outputs": [],
   "source": [
    "def copyListWithRandom(head):\n",
    "    if not head:\n",
    "        return None\n",
    "    cur = head\n",
    "    nxt = None\n",
    "    #增加新节点\n",
    "    while cur:\n",
    "        nxt = cur.next\n",
    "        cur.next = Node(cur.val)\n",
    "        cur.next.next = nxt\n",
    "        cur = nxt\n",
    "    cur = head\n",
    "    curCopy = None\n",
    "    #连random\n",
    "    while cur:\n",
    "        nxt = cur.next.next\n",
    "        curCopy = cur.next\n",
    "        if cur.rand:\n",
    "            curCopy.rand = cur.rand.next\n",
    "        else:\n",
    "            curCopy.rand = None\n",
    "    res = head.next\n",
    "    cur = head\n",
    "    #拆离\n",
    "    while cur:\n",
    "        nxt = cur.next.next\n",
    "        curCopy = cur.next\n",
    "        cur.next = nxt\n",
    "        if nxt:\n",
    "            curCopy.next = nxt.next\n",
    "        else:\n",
    "            curCopy.next = None\n",
    "        cur = nxt\n",
    "    return res"
   ]
  },
  {
   "cell_type": "code",
   "execution_count": null,
   "metadata": {
    "collapsed": true
   },
   "outputs": [],
   "source": []
  }
 ],
 "metadata": {
  "kernelspec": {
   "display_name": "Python 3 (ipykernel)",
   "language": "python",
   "name": "python3"
  },
  "language_info": {
   "codemirror_mode": {
    "name": "ipython",
    "version": 3
   },
   "file_extension": ".py",
   "mimetype": "text/x-python",
   "name": "python",
   "nbconvert_exporter": "python",
   "pygments_lexer": "ipython3",
   "version": "3.9.12"
  },
  "toc": {
   "base_numbering": 1,
   "nav_menu": {},
   "number_sections": true,
   "sideBar": true,
   "skip_h1_title": false,
   "title_cell": "Table of Contents",
   "title_sidebar": "Contents",
   "toc_cell": false,
   "toc_position": {},
   "toc_section_display": true,
   "toc_window_display": false
  }
 },
 "nbformat": 4,
 "nbformat_minor": 2
}
