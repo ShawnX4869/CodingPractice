{
 "cells": [
  {
   "cell_type": "markdown",
   "metadata": {},
   "source": [
    "## 1.归并排序附加题\n",
    "给定一个数组arr，两个整数lower和upper，返回arr中有多少个子数组累加和在[lower,upper]范围"
   ]
  },
  {
   "cell_type": "code",
   "execution_count": 2,
   "metadata": {
    "collapsed": true
   },
   "outputs": [],
   "source": [
    "#https://leetcode.com/problems/count-of-range-sum/\n",
    "# 暴力解\n",
    "# 遍历所有子数组O(N2)，如果子数组和每次遍历O(N)，整体为O(N3)\n",
    "# 子数组和通过两个前缀和计算，优化为O(N2)\n",
    "\n",
    "# 归并思路:O(N*logN)\n",
    "# ======================================================================\n",
    "# 任何一个子数组，以x为结尾的子数组达标的有几个，所有x凑齐，即为答案。\n",
    "# 0结尾: 0-0\n",
    "# 1结尾: 0-1,1-1\n",
    "# 2结尾: 0-2,1-2,2-2\n",
    "# 求以x为结尾的子数组，落在[L,U]上，若[0,x]的累加和为S，则可以转化为找到从0开始、以y为结尾的[0,y]累加和在[S-U,S-L]上\n",
    "# 例如 已知[0,17] = 100， 要求落在[10,40]上：转化为求[0,y]上的累加和落在[60,90]上。\n",
    "# 因为y一定小于x！ 题意转化为 已知从0出发的累计和preSum数组，数组中的每一个x，求左侧有多少个y能达标(在[S-U,S-L]上)\n",
    "# 左侧的范围要求[S-U,S-L]，随着右侧递增，同时增大不回退\n",
    "\n",
    "\n",
    "def getPreSum(arr):\n",
    "    preSum = [None] * len(arr)\n",
    "    s = 0\n",
    "    for i in range(len(arr)):\n",
    "        s += arr[i]\n",
    "        preSum[i] = s\n",
    "    return preSum\n",
    "\n",
    "def merge(arr, L, M, R, lower, upper):\n",
    "    #arr保证最少俩数\n",
    "    #L...M有序；M+1...R有序\n",
    "    ans = 0\n",
    "    windowL = L\n",
    "    windowR = L\n",
    "    # lower <= x-y <= upper\n",
    "    # min_y <= y <= max_y\n",
    "    for x in arr[M+1:R+1]:#右侧\n",
    "        min_y = x - upper\n",
    "        max_y = x - lower\n",
    "        # 保障左侧窗口[windowL, windowR)\n",
    "        # 当仅有一个数y时，\n",
    "        # 当 y < min_y,            windowL右滑、windowR右滑，windowR-windowL=0\n",
    "        # 当 max_y < y,            windowL不动，windowR不动，windowR-windowL=0\n",
    "        # 当 min_y <= y <= max_y,  windowL不动，windowR右滑，windowR-windowL=1\n",
    "        while windowR <= M and arr[windowR] <= max_y:\n",
    "            windowR += 1\n",
    "        while windowL <= M and arr[windowL] < min_y:\n",
    "            windowL += 1\n",
    "        ans += (windowR - windowL)\n",
    "    #正常mergeSort过程\n",
    "    index = 0\n",
    "    helpArr = [None] * (R-L+1)\n",
    "    P1 = L\n",
    "    P2 = M+1\n",
    "    while P1 <= M and P2 <= R:\n",
    "        if arr[P1] <= arr[P2]:\n",
    "            helpArr[index] = arr[P1]\n",
    "            index += 1\n",
    "            P1 += 1\n",
    "        else:\n",
    "            helpArr[index] = arr[P2]\n",
    "            index += 1\n",
    "            P2 += 1\n",
    "    while P1 <= M: \n",
    "        helpArr[index] = arr[P1]\n",
    "        index += 1\n",
    "        P1 += 1\n",
    "    while P2 <= R: \n",
    "        helpArr[index] = arr[P2]\n",
    "        index += 1\n",
    "        P2 += 1\n",
    "    for i in range(R-L+1):\n",
    "        arr[i+L] = helpArr[i]\n",
    "    return ans\n",
    "\n",
    "# arr[L...R]变为preSum;求在原始的arr[L...R]中，有多少个子数组累加和在[lower,upper]上\n",
    "def count(preSum, L, R, lower, upper):\n",
    "    #代表只有一个preSum(L)，则只判断这个数是否在[lower, upper]上即可\n",
    "    if L == R:\n",
    "        if preSum[L] >= lower and preSum[L] <= upper:\n",
    "            return 1\n",
    "        else:\n",
    "            return 0\n",
    "    #L!=R，上不止一个数\n",
    "    mid = L + ((R-L)>>1)\n",
    "    leftPart = count(preSum, L, mid, lower, upper)\n",
    "    rightPart = count(preSum, mid+1, R, lower, upper)\n",
    "    mergeRes = merge(preSum, L, mid, R, lower, upper)\n",
    "    return leftPart+rightPart+mergeRes\n",
    "\n",
    "def countRangeSum(nums, lower, upper):\n",
    "    if not nums:\n",
    "        return 0\n",
    "    preSum = getPreSum(nums)\n",
    "    return count(preSum, 0, len(nums)-1, lower, upper)"
   ]
  },
  {
   "cell_type": "code",
   "execution_count": 4,
   "metadata": {
    "collapsed": true
   },
   "outputs": [],
   "source": [
    "#leetcode solution：一样的方法\n",
    "def countRangeSum(nums, lower, upper):\n",
    "    first = [0]\n",
    "    for num in nums:\n",
    "        first.append(first[-1] + num)\n",
    "    def sorting(lo, hi):\n",
    "        mid = (lo + hi) // 2\n",
    "        if mid == lo: #保障至少俩数\n",
    "            return 0\n",
    "        count = sorting(lo, mid) + sorting(mid, hi)\n",
    "        i = j = mid #右侧第一个数\n",
    "        for left in first[lo:mid]:\n",
    "            while i < hi and first[i] - left <  lower: i += 1\n",
    "            while j < hi and first[j] - left <= upper: j += 1\n",
    "            count += j - i\n",
    "        first[lo:hi] = sorted(first[lo:hi])\n",
    "        return count\n",
    "    return sorting(0, len(first))\n"
   ]
  },
  {
   "cell_type": "markdown",
   "metadata": {},
   "source": [
    "## 2.快速排序"
   ]
  },
  {
   "cell_type": "markdown",
   "metadata": {},
   "source": [
    "### 2.1 荷兰国旗问题O(N)\n",
    "给定一个数x和数组arr，让数组的左侧<x，中间=x，右侧>x，返回中间的边界"
   ]
  },
  {
   "cell_type": "code",
   "execution_count": 5,
   "metadata": {
    "collapsed": true
   },
   "outputs": [],
   "source": [
    "#分为小于区，大于区内可以无序\n",
    "# 当前数<目标，当前数与小于区下一个交换，小于区右扩，当前数跳下一个\n",
    "# 当前数=目标，当前数跳下一个\n",
    "# 当前数>目标，当前数与大于区前一个交换，大于区左扩，当前数不跳！\n",
    "\n",
    "def swap(arr, i, j):\n",
    "    temp = arr[i]\n",
    "    arr[i] = arr[j]\n",
    "    arr[j] = temp\n",
    "    \n",
    "def netherlandsFlag(arr, L, R):\n",
    "    if L > R:\n",
    "        return -1,-1\n",
    "    if L == R:\n",
    "        return L,R\n",
    "    less = L -1\n",
    "    more = R #直接把R放入大于区域\n",
    "    index = L\n",
    "    while index < more:\n",
    "        if arr[index] == arr[R]:\n",
    "            index += 1\n",
    "        elif arr[index] < arr[R]:\n",
    "            swap(arr, index, less+1)\n",
    "            index += 1\n",
    "            less += 1\n",
    "        else:\n",
    "            swap(arr, index, more-1)\n",
    "            more -= 1\n",
    "    swap(arr, more, R) #最后把大于区域的R取出来与大于区域的第一个数交换\n",
    "    return less+1, more"
   ]
  },
  {
   "cell_type": "markdown",
   "metadata": {},
   "source": [
    "### 2.2快速排序O(N*logN)"
   ]
  },
  {
   "cell_type": "code",
   "execution_count": 7,
   "metadata": {
    "collapsed": true
   },
   "outputs": [],
   "source": [
    "#以arr[N-1]做为荷兰国旗的x，做排序后，把arr[N-1]与大于区的前一个交换\n",
    "import random\n",
    "\n",
    "def process(arr, L, R):\n",
    "    if L >= R:\n",
    "        return \n",
    "    swap(arr, L+random.randint(0, R-L), R) #随机取一个数作为R\n",
    "    equalL, equalR = netherlandsFlag(arr, L, R)\n",
    "    process(arr, L, equalL - 1)\n",
    "    process(arr, equalR+1, R)\n",
    "    \n",
    "def quickSort(arr):\n",
    "    if not arr or len(arr) < 2:\n",
    "        return\n",
    "    process(arr, 0, len(arr)-1)\n",
    "    return"
   ]
  },
  {
   "cell_type": "code",
   "execution_count": 8,
   "metadata": {},
   "outputs": [],
   "source": [
    "#快排非递归版本\n",
    "def quickSort2(arr):\n",
    "    if not arr or len(arr) < 2:\n",
    "        return\n",
    "    N = len(arr) - 1\n",
    "    jobs = list()\n",
    "    jobs.append((0, N))\n",
    "    while jobs:\n",
    "        jobL, jobR = jobs.pop()\n",
    "        if jobL < jobR: #有效\n",
    "            swap(arr, jobL+random.randint(0, jobR-jobL), jobR)\n",
    "            equalL, equalR = netherlandsFlag(arr, jobL, jobR)\n",
    "            jobs.extends([(jobL, equalL-1), (equalR+1, jobR)])\n",
    "    return\n",
    "         "
   ]
  },
  {
   "cell_type": "code",
   "execution_count": null,
   "metadata": {
    "collapsed": true
   },
   "outputs": [],
   "source": []
  }
 ],
 "metadata": {
  "kernelspec": {
   "display_name": "Python 3 (ipykernel)",
   "language": "python",
   "name": "python3"
  },
  "language_info": {
   "codemirror_mode": {
    "name": "ipython",
    "version": 3
   },
   "file_extension": ".py",
   "mimetype": "text/x-python",
   "name": "python",
   "nbconvert_exporter": "python",
   "pygments_lexer": "ipython3",
   "version": "3.9.12"
  },
  "toc": {
   "base_numbering": 1,
   "nav_menu": {},
   "number_sections": true,
   "sideBar": true,
   "skip_h1_title": false,
   "title_cell": "Table of Contents",
   "title_sidebar": "Contents",
   "toc_cell": false,
   "toc_position": {},
   "toc_section_display": true,
   "toc_window_display": false
  }
 },
 "nbformat": 4,
 "nbformat_minor": 2
}
