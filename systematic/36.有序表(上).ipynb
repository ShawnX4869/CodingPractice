{
 "cells": [
  {
   "cell_type": "markdown",
   "id": "bb0643b3",
   "metadata": {},
   "source": [
    "### 有序表\n",
    "* 现实使用中需要进行类似14～27这种范围的查询，相比哈希表，有序表更实用\n",
    "* 增删改查(logN)\n",
    "* 包括AVL、SB树、红黑树，只是平衡限制不同。AVL的最严"
   ]
  },
  {
   "cell_type": "markdown",
   "id": "54c1b091",
   "metadata": {},
   "source": [
    "#### 左旋"
   ]
  },
  {
   "cell_type": "code",
   "execution_count": null,
   "id": "866eaeb7",
   "metadata": {},
   "outputs": [],
   "source": [
    "'''\n",
    "\n",
    "    A                             B\n",
    "T       B        左旋A==>      A       D\n",
    "      C   D                 T    C\n",
    "\n",
    "A变A右子树的左子树\n",
    "A右子树的左子树变A的右子树\n",
    "'''"
   ]
  },
  {
   "cell_type": "markdown",
   "id": "88a64405",
   "metadata": {},
   "source": [
    "#### 右旋"
   ]
  },
  {
   "cell_type": "code",
   "execution_count": null,
   "id": "cb4451f3",
   "metadata": {},
   "outputs": [],
   "source": [
    "'''\n",
    "      A                             B\n",
    "  B       T      右旋A==>        C       A\n",
    "C   D                                 D    T\n",
    "A变左子树的右子树\n",
    "A左子树的右子树变A的左子树\n",
    "'''"
   ]
  },
  {
   "cell_type": "markdown",
   "id": "b5306767",
   "metadata": {},
   "source": [
    "### AVL\n",
    "任何一个节点，|左高-右高|<2"
   ]
  },
  {
   "cell_type": "markdown",
   "id": "cbdbadaa",
   "metadata": {},
   "source": [
    "#### 删除一个节点\n",
    "* 情况1: 无左无右，直接删\n",
    "* 情况2: 有左无右 或 有右无左， 用唯有的子树代替当前节点\n",
    "* 情况3: 有左有右，用右树的左边界最后一个节点代替。右树的左边界最后一个节点一定没有左孩子，如果它有右孩子，放到它的位置(情况2)"
   ]
  },
  {
   "cell_type": "markdown",
   "id": "c457b027",
   "metadata": {},
   "source": [
    "#### 破坏平衡性的四种类型\n",
    "1. 位置说明：父 -> 子 -> 孙；调整代价为O(1)\n",
    "2. 加入节点：沿途往上节点每个都检查，尝试调整。 所以代价为logN\n",
    "3. 删除节点：无左无右，删除后，沿途往上节点每个都检查； 有右无左或有左无右，替代节点位置沿途往上；既有左又有右，从左边界最后一个节点沿途往上查\n",
    "\n",
    "    * LL型：父右旋\n",
    "    * LR型：子左旋，父右旋(即想办法将孙换到父位置)   判断：左树-右树高度>=2，且左树的右树比 左树的左树 高\n",
    "    * RR型：父左旋\n",
    "    * RL型：子右旋，父左旋\n",
    "    * 既是LL型又是LR型：按照LL型调整，直接父右旋   （因为按LL调总有效，而LR不一定）\n"
   ]
  },
  {
   "cell_type": "markdown",
   "id": "a994d965",
   "metadata": {},
   "source": [
    "#### 代码实现"
   ]
  },
  {
   "cell_type": "code",
   "execution_count": null,
   "id": "26a5a4fc",
   "metadata": {},
   "outputs": [],
   "source": [
    "class AVLNode:\n",
    "    def __init__(self, key, value, l=None, r=None, h=1):\n",
    "        self.key = key\n",
    "        self.value = value\n",
    "        self.l = l\n",
    "        self.r = r\n",
    "        self.h = h\n",
    "        \n",
    "class AVLTreeMap:\n",
    "    def __init__(self, root=None, size=0):\n",
    "        self.root = root\n",
    "        self.size = size\n",
    "        \n",
    "    def rightRotate(self, cur):\n",
    "        left = cur.l\n",
    "        cur.l = left.r \n",
    "        \n",
    "        left.r = cur\n",
    "        \n",
    "        cur_left_h = 0 if cur.l is None else cur.l.h\n",
    "        cur_right_h = 0 if cur.r is None else cur.r.h\n",
    "        cur.h = max(cur_left_h, cur_right_h) + 1\n",
    "        \n",
    "        l_left_h = 0 if left.l is None else left.l.h\n",
    "        l_right_h = 0 if left.r is None else left.r.h\n",
    "        left.h = max(l_left_h, l_right_h) + 1\n",
    "        return left\n",
    "    \n",
    "    def leftRotate(self, cur):\n",
    "        right = cur.r\n",
    "        cur.r = right.l\n",
    "        right.l = cur\n",
    "        \n",
    "        cur_left_h = 0 if cur.l is None else cur.l.h\n",
    "        cur_right_h = 0 if cur.r is None else cur.r.h\n",
    "        cur.h = max(cur_left_h, cur_right_h) + 1\n",
    "        \n",
    "        r_left_h = if right.l is None else right.l.h\n",
    "        r_right_h = 0 if right.r is None else right.r.h\n",
    "        right.h = max(r_left_h, r_right_h) + 1\n",
    "        return right\n",
    "    \n",
    "    def add(self, cur, key, value): #不接受重复key！\n",
    "        if cur is None:\n",
    "            return AVLNode(key, value)\n",
    "        else:\n",
    "            if key < cur.k:\n",
    "                cur.l = self.add(cur.l, key, value) #有可能换头\n",
    "            else:\n",
    "                cur.r = self.add(cur.r, key, value)\n",
    "            left_h = 0 if cur.l is None else cur.l.h\n",
    "            right_h = 0 if cur.r is None else cur.r.h\n",
    "            cur.h = max(left_h, right_h) + 1\n",
    "            return self.maintain(cur) #调整平衡\n",
    "        \n",
    "    def delete(self, cur, key): #需要保证key一定出现在当前树上！\n",
    "        if key < cur.k:\n",
    "            cur.l = self.delete(cur.l, key)\n",
    "        elif key > cur.k:\n",
    "            cur.r = self.delete(cur.r, key)\n",
    "        else:\n",
    "            if cur.l is None and cur.r is None:\n",
    "                cur = None\n",
    "            elif cur.l is None and cur.r is not None:\n",
    "                cur = cur.r\n",
    "            elif cur.l is not None and cur.r is None:\n",
    "                cur = cur.l\n",
    "            else:\n",
    "                des = cur.r\n",
    "                while des.l is not None:\n",
    "                    des = des.l\n",
    "                cur.r = self.delete(cur.r, des.k)\n",
    "                des.l = cur.l\n",
    "                des.r = cur.r\n",
    "                cur = des\n",
    "        if cur is not None:\n",
    "            left_h = 0 if cur.l is None else cur.l.h\n",
    "            right_h = 0 if cur.r is None else cur.r.h\n",
    "            cur.h = max(left_h, right_h) + 1\n",
    "        return self.maintain(cur)\n",
    "    \n",
    "    def maintain(cur):\n",
    "        if cur is None:\n",
    "            return None\n",
    "        \n",
    "        left_h = 0 if cur.l is None else cur.l.h\n",
    "        right_h = 0 if cur.r is None else cur.r.h\n",
    "        \n",
    "        if abs(left_h - right_h) > 1:\n",
    "            if left_h > right_h:\n",
    "                left_left_h = cur.l.l.h if cur.l is not None and cur.l.l is not None else 0\n",
    "                left_right_h = cur.l.r.h if cur.l is not None and cur.l.r is not None else 0\n",
    "                if left_left_h >= left_right_h:\n",
    "                    cur = self.rightRotate(cur)\n",
    "                else:\n",
    "                    cur.l = self.leftRotate(cur.l)\n",
    "                    cur = self.rightRotate(cur)\n",
    "            else:\n",
    "                right_left_h = cur.r.l.h if cur.r is not None and cur.r.l is not None else 0\n",
    "                right_right_h = cur.r.r.h if cur.l is not None and cur.r.r is not None else 0\n",
    "                if right_right_h >= right_left_h:\n",
    "                    cur = self.leftRotate(cur)\n",
    "                else:\n",
    "                    cur.r = self.rightRotate(cur.r)\n",
    "                    cur = self.leftRotate(cur)\n",
    "            return cur\n",
    "                    \n",
    "        \n",
    "                    \n",
    "                \n",
    "                \n",
    "        "
   ]
  }
 ],
 "metadata": {
  "kernelspec": {
   "display_name": "Python 3 (ipykernel)",
   "language": "python",
   "name": "python3"
  },
  "language_info": {
   "codemirror_mode": {
    "name": "ipython",
    "version": 3
   },
   "file_extension": ".py",
   "mimetype": "text/x-python",
   "name": "python",
   "nbconvert_exporter": "python",
   "pygments_lexer": "ipython3",
   "version": "3.9.12"
  },
  "toc": {
   "base_numbering": 1,
   "nav_menu": {},
   "number_sections": true,
   "sideBar": true,
   "skip_h1_title": false,
   "title_cell": "Table of Contents",
   "title_sidebar": "Contents",
   "toc_cell": false,
   "toc_position": {},
   "toc_section_display": true,
   "toc_window_display": false
  }
 },
 "nbformat": 4,
 "nbformat_minor": 5
}
