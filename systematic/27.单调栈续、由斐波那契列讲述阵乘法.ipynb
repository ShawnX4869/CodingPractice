{
 "cells": [
  {
   "cell_type": "markdown",
   "id": "e0ecd595",
   "metadata": {},
   "source": [
    "### 所有子数组最小值的累加和\n",
    "https://leetcode.cn/problems/sum-of-subarray-minimums/"
   ]
  },
  {
   "cell_type": "code",
   "execution_count": 14,
   "id": "29c5db1d",
   "metadata": {},
   "outputs": [],
   "source": [
    "'''\n",
    "思路：\n",
    "以x位置为最小值，左右找到临界边界。\n",
    "左边界(不包含)到当前值(包含)有m个，右边界(不包含)到当前值(包含)有n个数，\n",
    "所以有m*n个数以x位置为最小值。所以产生m*n*arr[x]累加和\n",
    "\n",
    "当有重复值时，右边界为全局临界，左边界从上一个相等数的位置开始。（为了去重）\n",
    "或者：       左边界为全局邻居，右边界只停到相等数的位置。\n",
    "'''\n",
    "\n",
    "def subArrayMinSum(arr):\n",
    "    #left[i] = x: arr[i]左边离arr[i]最近，比arr[i]小或等于的数，位置为x。没有这样的数为-1\n",
    "    left = leftNearLessEqual(arr)\n",
    "    #right[i] = x: arr[i]右边离arr[i]最近，比arr[i]小的数，位置为x。没有这样的数为-1\n",
    "    right = rightNearLess(arr)\n",
    "    ans = 0\n",
    "    print(left)\n",
    "    print(right)\n",
    "    for i in range(len(arr)):\n",
    "        start = i - left[i]\n",
    "        end = right[i] - i\n",
    "        ans += start * end * arr[i]\n",
    "    return ans\n",
    "def leftNearLessEqual(arr):\n",
    "    stack = list()\n",
    "    N = len(arr)\n",
    "    rangeList = [None for _ in range(N)]\n",
    "    for i in range(N-1,-1,-1):\n",
    "        while stack and  arr[i] <= arr[stack[-1]]:\n",
    "            popIndex = stack.pop()\n",
    "            rangeList[popIndex] = i\n",
    "        stack.append(i)\n",
    "    while stack:\n",
    "        popIndex = stack.pop()\n",
    "        rangeList[popIndex] = -1\n",
    "    return rangeList\n",
    "\n",
    "def rightNearLess(arr):\n",
    "    stack = list()\n",
    "    N = len(arr)\n",
    "    rangeList = [None for _ in range(N)]\n",
    "    for i in range(N):\n",
    "        while stack and arr[stack[-1]] > arr[i]:\n",
    "            popIndex = stack.pop()\n",
    "            rangeList[popIndex] = i\n",
    "        stack.append(i)\n",
    "    while stack:\n",
    "        popIndex = stack.pop()\n",
    "        rangeList[popIndex] = N\n",
    "    return rangeList"
   ]
  },
  {
   "cell_type": "code",
   "execution_count": 15,
   "id": "e9fffde9",
   "metadata": {},
   "outputs": [
    {
     "name": "stdout",
     "output_type": "stream",
     "text": [
      "[-1, -1, 1, 1]\n",
      "[1, 4, 3, 4]\n"
     ]
    },
    {
     "data": {
      "text/plain": [
       "593"
      ]
     },
     "execution_count": 15,
     "metadata": {},
     "output_type": "execute_result"
    }
   ],
   "source": [
    "subArrayMinSum([71,55,82,55])"
   ]
  },
  {
   "cell_type": "markdown",
   "id": "2c9d1c6c",
   "metadata": {},
   "source": [
    "<span class=\"burk\">错误答案：两侧都是卡等于的话会少算</span>\n",
    "* [2,4,5,3,6,6,6,3,7,2]\n",
    "* -0,1,2,3,4,5,6,7,8,9-\n",
    "* .....i..............j\n",
    "* 第一个3的左右两边索引是1(4)、6(6)，此时会计算1-3 x 3-6；\n",
    "*    1..3, 2..3, 3..3,\n",
    "*    1..4, 2..4, 3..4,\n",
    "*    1..5, 2..5, 3..5,\n",
    "*    1..6, 2..6, 3..6,\n",
    "* 第二个3的左右两边索引是4(6)、8(7)，此时会计算4-7 x 7-8.\n",
    "*    4..7, 5..7, 6..7, 7..7 \n",
    "*    4..8, 5..8, 6..8, 7..8\n",
    "* 可以看到\n",
    "*    1..7, 2..7, 3..7,\n",
    "*    1..8, 2..8, 3..8 \n",
    "* <span class=\"burk\">没有考虑！</span>\n",
    "<span class=\"girk\">而如果都不卡等于则会算重</span>"
   ]
  },
  {
   "cell_type": "code",
   "execution_count": 21,
   "id": "9365ba52",
   "metadata": {},
   "outputs": [],
   "source": [
    "'''\n",
    "1. 从左到右遍历arr， 当栈顶>=当前值(索引i)， 栈顶弹出[1]=i， [0]=新栈顶或-1. \n",
    "   这样得出的答案， 左侧[0]是全局边界，右侧[1]是相等边界。\n",
    "2. 从右到左遍历arr， 当栈顶>=当前值(索引i)， 栈顶弹出[0]=i， [1]=新栈顶或N.  \n",
    "   这样得出的答案， 右侧[1]是全局边界，左侧[0]是相等边界\n",
    "*** 因为与当前值相等的都被弹出，那么当前值的在栈中记录的下面那一侧永远是全局边界，不会有相等值压在下面， \n",
    "*** 而因为当前值相等弹出时，下面的是全局边界，记录的另一侧则为相等边界\n",
    "正好都可以满足去重条件。\n",
    "\n",
    "\n",
    "如果栈顶判断使用>，一侧相等的可能变成相反侧。\n",
    "上面说的错误答案是 左右遍历两遍，每次遍历只记一侧答案且都为相等或都为全局时，会少算或多算\n",
    "'''\n",
    "def sumSubarrayMins(arr) -> int:\n",
    "    if not arr:\n",
    "        return 0\n",
    "    stack = list()\n",
    "    N = len(arr)\n",
    "    rangeList = [[None]*2 for _ in range(N)]\n",
    "    for i in range(N):\n",
    "        while stack and arr[stack[-1]] >= arr[i]:\n",
    "            popIndex = stack.pop()\n",
    "            if stack:\n",
    "                rangeList[popIndex][0] = stack[-1] #右侧可能相等。 如果while是>， 那么则左侧可能相等\n",
    "            else:\n",
    "                rangeList[popIndex][0] = -1\n",
    "            rangeList[popIndex][1] = i\n",
    "        stack.append(i)\n",
    "    while stack:\n",
    "        popIndex = stack.pop()\n",
    "        if stack:\n",
    "            rangeList[popIndex][0] = stack[-1]\n",
    "        else:\n",
    "            rangeList[popIndex][0] = -1\n",
    "        rangeList[popIndex][1] = N\n",
    "    ans = 0\n",
    "    \n",
    "    for i in range(N):\n",
    "        ans += (arr[i] * (i - rangeList[i][0]) * (rangeList[i][1] - i))\n",
    "    return ans\n",
    "                "
   ]
  },
  {
   "cell_type": "code",
   "execution_count": 22,
   "id": "f006fa29",
   "metadata": {},
   "outputs": [
    {
     "data": {
      "text/plain": [
       "593"
      ]
     },
     "execution_count": 22,
     "metadata": {},
     "output_type": "execute_result"
    }
   ],
   "source": [
    "sumSubarrayMins([71,55,82,55])"
   ]
  },
  {
   "cell_type": "markdown",
   "id": "907af55b",
   "metadata": {},
   "source": [
    "### 求斐波那契数列矩阵乘法的方法\n",
    "1. F(N) = F(N-1) + F(N-2), 严格依赖前两项递推，线性求解O(N)\n",
    "2. F(N) = ... 严格依赖前项且没有条件转移，都有O(logN)的最优解法。 斐波那契数为二阶递\n",
    "3. |F(N), F(N-1)| = |F(2), F(1)| * (某个矩阵)^{n-2}, ==> 矩阵的n次方怎么算最快 ==> n的x次方怎么算最快\n"
   ]
  },
  {
   "cell_type": "code",
   "execution_count": 13,
   "id": "e2f0c1c7",
   "metadata": {},
   "outputs": [],
   "source": [
    "'''\n",
    "思路：\n",
    "一个数n的x次方，x拆成2进制。每次x都乘自己，那么就会得到x,x^2,x^4...。\n",
    "观察x的2进制都需要哪些次方，从base=1开始，每次乘上前面得到的x次方。\n",
    "实际是利用2进制，进行二分法。\n",
    "================\n",
    "一个矩阵的x次方，从base=单位矩阵开始，每次乘上得到的矩阵次方。\n",
    "'''\n",
    "#O(logN)\n",
    "import numpy as np\n",
    "def f(n):\n",
    "    if n < 1:\n",
    "        return 0\n",
    "    if n == 1 or n == 2:\n",
    "        return 1\n",
    "    base = np.array([[1,1],[1,0]]) #|a,b|\n",
    "                                   #|c,d| 由推导得出\n",
    "    res = matrixPower(base, n-2)\n",
    "    return res[0][0] + res[1][0] #|Fn,Fn-1| = |F2,F1| * |a,b| ^ (n-2)\n",
    "                                 #                      |c,d|\n",
    "                                 #相当于     = |1,1|   * |a,b| ^ (n-2)\n",
    "                                 #                      |c,d|\n",
    "                                 #只要Fn时，即只要a+c部分\n",
    "                \n",
    "def matrixPower(m, power):\n",
    "    res = [[0] * len(m[0]) for _ in range(len(m))]\n",
    "    for i in range(len(res)):\n",
    "        res[i][i] = 1   #单位矩阵\n",
    "    t = m #矩阵1次方\n",
    "    while power != 0:\n",
    "        if power & 1 != 0:\n",
    "            res = multiMatrix(res, t)\n",
    "        t = multiMatrix(t, t)\n",
    "        power >>= 1\n",
    "    return res\n",
    "\n",
    "def multiMatrix(m1, m2):\n",
    "    res = [[0] * len(m1) for _ in range(len(m2[0]))]\n",
    "    for i in range(len(m1)):\n",
    "        for j in range(len(m2[0])):\n",
    "            for k in range(len(m2)):\n",
    "                res[i][j] += m1[i][k] * m2[k][j]\n",
    "    return res"
   ]
  },
  {
   "cell_type": "code",
   "execution_count": 18,
   "id": "5c0c1279",
   "metadata": {},
   "outputs": [
    {
     "data": {
      "text/plain": [
       "13"
      ]
     },
     "execution_count": 18,
     "metadata": {},
     "output_type": "execute_result"
    }
   ],
   "source": [
    "f(7)"
   ]
  },
  {
   "cell_type": "code",
   "execution_count": 7,
   "id": "4976b266",
   "metadata": {},
   "outputs": [
    {
     "data": {
      "text/plain": [
       "array([[1, 1],\n",
       "       [1, 0]])"
      ]
     },
     "execution_count": 7,
     "metadata": {},
     "output_type": "execute_result"
    }
   ],
   "source": [
    "base"
   ]
  },
  {
   "cell_type": "code",
   "execution_count": 9,
   "id": "dfc2e518",
   "metadata": {},
   "outputs": [
    {
     "data": {
      "text/plain": [
       "array([[5, 5],\n",
       "       [3, 2]])"
      ]
     },
     "execution_count": 9,
     "metadata": {},
     "output_type": "execute_result"
    }
   ],
   "source": [
    "np.dot(base, np.array([[3,2],[2,3]]))"
   ]
  },
  {
   "cell_type": "code",
   "execution_count": 11,
   "id": "98f52fba",
   "metadata": {
    "scrolled": true
   },
   "outputs": [
    {
     "data": {
      "text/plain": [
       "[[5, 5], [3, 2]]"
      ]
     },
     "execution_count": 11,
     "metadata": {},
     "output_type": "execute_result"
    }
   ],
   "source": [
    "multiMatrix(base, np.array([[3,2],[2,3]]))"
   ]
  },
  {
   "cell_type": "markdown",
   "id": "e33c8ca1",
   "metadata": {},
   "source": [
    "### 递推公式推广\n",
    "Fn = a*Fn-1 + b*Fn-2.. + k*F(n-i) 都有O(logN)的解法"
   ]
  },
  {
   "cell_type": "code",
   "execution_count": 19,
   "id": "28065689",
   "metadata": {},
   "outputs": [],
   "source": [
    "'''\n",
    "F(n) = 7*F(n-1) - 3*F(n-2) + 4*F(n-3) #三阶递推公式(n-3,最末尾的依赖n-i，i是几就是几阶)\n",
    "|F4,F3,F2| = |F3,F2,F1| * | 3*3 | \n",
    "|Fn,Fn-1,Fn-2| = |F3,F2,F1| * | 3*3 | ^ (n-3)\n",
    "\n",
    "==> 推广\n",
    "\n",
    "|Fn,...Fn-i| = |Fi...F1| * |i*i| ^ (n-i)\n",
    "'''"
   ]
  },
  {
   "cell_type": "markdown",
   "id": "c4bd164f",
   "metadata": {},
   "source": [
    "#### 母牛生小牛, N年后牛的数量\n",
    "第一年农场有1只成熟的母牛A，往后的每年：\n",
    "1. 每年成熟的母牛都会生一只母牛\n",
    "2. 每一只新出生的母牛都会在出生的第三年成熟\n",
    "3. 每一只母牛永远不会死\n",
    "4. 返回N年后的牛的数量"
   ]
  },
  {
   "cell_type": "code",
   "execution_count": 20,
   "id": "dd0efaa5",
   "metadata": {},
   "outputs": [],
   "source": [
    "'''\n",
    "第一年：A(1) = 1\n",
    "第二年：A(2),B(0->A) = 2\n",
    "第三年：A(3),B(1),C(0->A) = 3\n",
    "第四年：A(4),B(2),C(1),D(0->A) = 4\n",
    "第五年：A(5),B(3),C(2),D(1),E(0->A),F(0->B) = 6\n",
    "第六年：A(6),B(4),C(3),D(2),E(1),F(1),G(0->A),H(0->B),I(0->C) = 9\n",
    "==> Fn = Fn-1 + Fn-3\n",
    "\n",
    "|F4F3F2| = |F3F2F1| * |abc|\n",
    "                      |def|\n",
    "                      |ghi|\n",
    "                      \n",
    "=> |4,3,2| = |3,2,1|*|abc| ==> 3a+2d+g=4; 3b+2e+h=3; 3g+2h+i = 2\n",
    "                     |def|\n",
    "                     |ghi|\n",
    "=> |6,4,3| = |4,3,2|*|abc| ==> 4a+3d+2g=6; 4b+3e+2h=4; 4g+3h+2i = 3\n",
    "                     |def|\n",
    "                     |ghi|\n",
    "=> |9,6,4| = |6,4,3|*|abc| ==> 6a+4d+3g=9; 6b+4e+3h=6; 6g+4h+3i = 4\n",
    "                     |def|\n",
    "                     |ghi|\n",
    "==> |abc| = |110|\n",
    "    |def|   |001|\n",
    "    |ghi|   |100|\n",
    "    \n",
    "所以 |FnFn-1Fn-2| = |321| * |3*3| ==> Fn = 3a+2d+g\n",
    "'''\n",
    "def c3(n):\n",
    "    if n < 1:\n",
    "        return 0\n",
    "    if n == 1 or n==2 or n==3:\n",
    "        return n\n",
    "    base = np.array([[1,1,0],[0,0,1],[1,0,0]])\n",
    "    res = matrixPower(base, n-3)\n",
    "    return 3 * res[0][0] + 2 * res[1][0] + res[2][0]"
   ]
  },
  {
   "cell_type": "code",
   "execution_count": 21,
   "id": "ae549b04",
   "metadata": {},
   "outputs": [
    {
     "data": {
      "text/plain": [
       "1278"
      ]
     },
     "execution_count": 21,
     "metadata": {},
     "output_type": "execute_result"
    }
   ],
   "source": [
    "c3(19)"
   ]
  },
  {
   "cell_type": "markdown",
   "id": "9dc0a4cb",
   "metadata": {},
   "source": [
    "#### 由0和1两种字符构成的达标字符串\n",
    "* 给定一个数N，想象为只有01两种字符组成，长度为N字符串。如果某个字符串，任何0字符的左边都有1紧挨着，认为这个字符串达标。\n",
    "* 返回有多少达标的字符串"
   ]
  },
  {
   "cell_type": "code",
   "execution_count": 27,
   "id": "57e1777d",
   "metadata": {},
   "outputs": [],
   "source": [
    "'''\n",
    "N = 1, 0❌,1✅ ==> 1个\n",
    "N = 2, 00❌,01❌,10✅,11✅ = 2个\n",
    "N = 3, 000❌, 001❌, 010❌, 100❌, 011❌, 101✅, 110✅, 111✅ = 3个\n",
    "方法1:观察得到 1，2，3，5，8，13 ==> F1=1，F2=2，Fn=Fn-1+Fn-2\n",
    "=======\n",
    "方法2:\n",
    "定义f(i)-> 第一个数为1，后续有i个数要填，能有多少种达标。如果后续第一个格子填1，则满足f(i-1)。如果填0，则需要跟一个1，所以满足f(i-2)\n",
    "所以f(i) = f(i-1) + f(i-2)\n",
    "所以N=6时，调f(5)。\n",
    "\n",
    "方法2改矩阵乘法。\n",
    "'''\n",
    "import numpy as np\n",
    "def matrixPower(m, power):\n",
    "    res = [[0] * len(m[0]) for _ in range(len(m))]\n",
    "    for i in range(len(m)):\n",
    "        res[i][i] = 1\n",
    "    base = m\n",
    "    while power != 0:\n",
    "        if power & 1 != 0:\n",
    "            res = multiMat(res, base)\n",
    "        base = multiMat(base, base)\n",
    "        power >>= 1\n",
    "    return res\n",
    "\n",
    "def multiMat(m1, m2):\n",
    "    res = [[0] * len(m1) for _ in range(len(m2[0]))]\n",
    "    for i in range(len(m1)):\n",
    "        for j in range(len(m2[0])):\n",
    "            for k in range(len(m1[0])):\n",
    "                res[i][j] += m1[i][k] * m2[k][j]     \n",
    "    return res\n",
    "                    \n",
    "def stringNum(N):\n",
    "    if N <= 0:\n",
    "        return 0\n",
    "    if N == 1 or N == 2 or N == 3:\n",
    "        return N\n",
    "    base = np.array([[1,1],[1,0]])\n",
    "    res = matrixPower(base, N-2)\n",
    "    return 2 * res[0][0] + res[1][0]\n"
   ]
  },
  {
   "cell_type": "code",
   "execution_count": 31,
   "id": "9148ea96",
   "metadata": {},
   "outputs": [
    {
     "data": {
      "text/plain": [
       "21"
      ]
     },
     "execution_count": 31,
     "metadata": {},
     "output_type": "execute_result"
    }
   ],
   "source": [
    "stringNum(7)"
   ]
  },
  {
   "cell_type": "markdown",
   "id": "27dfcecb",
   "metadata": {},
   "source": [
    "#### 铺瓷砖\n",
    "给定N，有2 x N的区域铺瓷砖，一块瓷砖为1 x 2. 问需要多少种摆法"
   ]
  },
  {
   "cell_type": "code",
   "execution_count": 34,
   "id": "bb24585a",
   "metadata": {},
   "outputs": [],
   "source": [
    "'''\n",
    "f(n) 代表2*n区域要摆。\n",
    "如果第一列，竖着摆，则fn变为f(n-1)问题；\n",
    "如果前两列，横着摆，则变成f(n-2)问题\n",
    "'''\n",
    "\n",
    "def bricks(N):\n",
    "    if N <= 0:\n",
    "        return 0\n",
    "    if N == 1 or N == 2 or N == 3:\n",
    "        return N\n",
    "    base = np.array([[1,1],[1,0]])\n",
    "    res = matrixP(base, N - 2)\n",
    "    return 2*res[0][0] + 1*res[1][0]\n",
    "\n",
    "def mult(m1,m2):\n",
    "    res = [[0]*len(m1) for _ in range(len(m2[0]))]\n",
    "    for i in range(len(m1)):\n",
    "        for j in range(len(m2[0])):\n",
    "            for k in range(len(m1[0])):\n",
    "                res[i][j] += m1[i][k] * m2[k][j]\n",
    "    return res\n",
    "\n",
    "def matrixP(m, power):\n",
    "    res = [[0] * len(m) for _ in range(len(m[0]))]\n",
    "    for i in range(len(m)):\n",
    "        res[i][i] = 1\n",
    "    base = m\n",
    "    while power != 0:\n",
    "        if power & 1 != 0:\n",
    "            res = mult(res, base)\n",
    "        base = mult(base, base)\n",
    "        power >>= 1\n",
    "    return res"
   ]
  },
  {
   "cell_type": "code",
   "execution_count": 37,
   "id": "b2b91626",
   "metadata": {},
   "outputs": [
    {
     "data": {
      "text/plain": [
       "377"
      ]
     },
     "execution_count": 37,
     "metadata": {},
     "output_type": "execute_result"
    }
   ],
   "source": [
    "bricks(13)"
   ]
  },
  {
   "cell_type": "code",
   "execution_count": null,
   "id": "7fb0b6dd",
   "metadata": {},
   "outputs": [],
   "source": []
  }
 ],
 "metadata": {
  "kernelspec": {
   "display_name": "Python 3 (ipykernel)",
   "language": "python",
   "name": "python3"
  },
  "language_info": {
   "codemirror_mode": {
    "name": "ipython",
    "version": 3
   },
   "file_extension": ".py",
   "mimetype": "text/x-python",
   "name": "python",
   "nbconvert_exporter": "python",
   "pygments_lexer": "ipython3",
   "version": "3.8.13"
  },
  "toc": {
   "base_numbering": 1,
   "nav_menu": {},
   "number_sections": true,
   "sideBar": true,
   "skip_h1_title": false,
   "title_cell": "Table of Contents",
   "title_sidebar": "Contents",
   "toc_cell": false,
   "toc_position": {},
   "toc_section_display": true,
   "toc_window_display": false
  }
 },
 "nbformat": 4,
 "nbformat_minor": 5
}
