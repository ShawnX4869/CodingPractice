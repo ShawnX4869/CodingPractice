{
 "cells": [
  {
   "cell_type": "markdown",
   "id": "9c3a2b30",
   "metadata": {},
   "source": [
    "### 1. 滑动窗口最大值\n",
    "双端队列：保存窗口内最大值，头为最大值，尾cur进入时pop掉<=cur的所有数。左侧缩窗口保证窗口内不过期。\n",
    "    窗口内所有值，最多进一次、出一次。更新总代价O(N)，平均每次最大值查询O(1)"
   ]
  },
  {
   "cell_type": "markdown",
   "id": "71d09461",
   "metadata": {},
   "source": [
    "#### 1.1 固定大小W的窗口，依次划过arr。返回每次划出状况的最大值\n",
    "* arr = [4,3,5,4,3,3,6,7]，W=3\n",
    "* 返回:  [5,5,5,4,6,7]"
   ]
  },
  {
   "cell_type": "code",
   "execution_count": 1,
   "id": "a688f349",
   "metadata": {},
   "outputs": [],
   "source": [
    "def right(arr, W):\n",
    "    if not arr or len(arr) < W or W < 1:\n",
    "        return None\n",
    "    N = len(arr)\n",
    "    res = [None] * (N-W+1)\n",
    "    index = 0\n",
    "    L = 0\n",
    "    R = W - 1\n",
    "    while R <= N - 1:\n",
    "        m = arr[L]\n",
    "        for i in range(L+1, R+1):\n",
    "            m = max(m, arr[i])\n",
    "        res[index] = m\n",
    "        index += 1\n",
    "        L += 1\n",
    "        R += 1\n",
    "    return res\n",
    "        "
   ]
  },
  {
   "cell_type": "code",
   "execution_count": 8,
   "id": "da47a06e",
   "metadata": {},
   "outputs": [],
   "source": [
    "from collections import deque\n",
    "def getMaxWindow(arr, W):\n",
    "    if not arr or len(arr) < W or W < 1:\n",
    "        return None\n",
    "    #qmax放下标\n",
    "    qmax = deque()\n",
    "    N = len(arr)\n",
    "    res = [None] * (N-W+1)\n",
    "    index = 0\n",
    "    #R代表窗口右边界\n",
    "    for R in range(0,N):\n",
    "        while qmax and arr[qmax[-1]] <= arr[R]:\n",
    "            qmax.pop()\n",
    "        qmax.append(R)\n",
    "        if qmax[0] == R - W: #弹出过期左\n",
    "            qmax.popleft()\n",
    "        if R >= W - 1:       #判断是否够W个数\n",
    "            res[index] = arr[qmax[0]]\n",
    "            index += 1\n",
    "    return res"
   ]
  },
  {
   "cell_type": "code",
   "execution_count": 9,
   "id": "ac4b4a65",
   "metadata": {},
   "outputs": [
    {
     "name": "stdout",
     "output_type": "stream",
     "text": [
      "succeed.\n"
     ]
    }
   ],
   "source": [
    "testTime = 10000\n",
    "maxValue = 100\n",
    "maxLen = 100\n",
    "maxW = 30\n",
    "succeed=True\n",
    "for _ in range(testTime):\n",
    "    value = random.randint(0, maxValue)\n",
    "    length = random.randint(0, maxLen)\n",
    "    W = random.randint(1, maxW)\n",
    "    arr = generateRandomArr(length, value)\n",
    "    ans1 = right(arr, W)\n",
    "    ans2 = getMaxWindow(arr, W)\n",
    "    if ans1 != ans2:\n",
    "        print(ans1, ans2)\n",
    "        print(\"something wrong.\")\n",
    "        succeed = False\n",
    "        break\n",
    "if succeed:\n",
    "    print(\"succeed.\")"
   ]
  },
  {
   "cell_type": "code",
   "execution_count": 3,
   "id": "6a0ece5d",
   "metadata": {},
   "outputs": [],
   "source": [
    "import random\n",
    "def generateRandomArr(maxLen, maxValue):\n",
    "    arr = list()\n",
    "    for i in range(maxLen):\n",
    "        arr.append(random.randint(-maxValue, maxValue))\n",
    "    return arr"
   ]
  },
  {
   "cell_type": "markdown",
   "id": "4b3894de",
   "metadata": {},
   "source": [
    "#### 1.2 最大值-最小值达标窗口\n",
    "给定一个arr，和一个整数num，问有多个子数组满足：最大值-最小值<= num"
   ]
  },
  {
   "cell_type": "code",
   "execution_count": null,
   "id": "2ac77c79",
   "metadata": {},
   "outputs": [],
   "source": [
    "'''\n",
    "1.已知L...R的数组达标：L...R的任意子数组都达标\n",
    "2.已知L...R的数组不达标，那么L往左扩或者R往右扩，都不达标。\n",
    "求解思路：\n",
    "准备一个qmax；一个qmin。\n",
    "从0作为L开始把右边界往右扩，每次更新qmax、qmin，右扩到R不达标停止。此时以0开头的子数组达标数量为R-L。\n",
    "然后左侧左滑一个，L=1，右侧从R开始继续看能不能右扩。重复过程一直到L到N-1或\n",
    "'''\n",
    "def sizes(arr, num):\n",
    "    if not arr or num <0:\n",
    "        return 0\n",
    "    N = len(arr)\n",
    "    count = 0\n",
    "    maxWindow = deque()\n",
    "    minWindow = deque()\n",
    "    R = 0\n",
    "    for L in range(N):\n",
    "        #窗口[L,R), 当L=R，说明窗口里没数\n",
    "        while R < N:\n",
    "            while maxWindow and arr[maxWindow[-1]] <= arr[R]:\n",
    "                maxWindow.pop()\n",
    "            maxWindow.append(R)\n",
    "            while minWindow and arr[minWindow[-1]] >= arr[R]:\n",
    "                minWindow.pop()\n",
    "            minWindow.append(R)\n",
    "            #初次不达标，停\n",
    "            if arr[maxWindow[-1]] - arr[minWindow[-1]] > num:\n",
    "                break\n",
    "            else:\n",
    "                R += 1\n",
    "        count += R - L\n",
    "        #L即将+1，L过期\n",
    "        if maxWindow[0] == L:\n",
    "            maxWindow.popleft()\n",
    "        if minWindow[0] == L:\n",
    "            minWindow.popleft()\n",
    "    return count"
   ]
  },
  {
   "cell_type": "markdown",
   "id": "b86d4bfe",
   "metadata": {},
   "source": [
    "#### 1.3 加油站良好出发问题\n",
    "给定两个数组gas、cost，gas[i]、cost[i]代表 i号加油站有gas[i]的油，需要cost[i]的油才能到i+1号加油站。问从哪个加油站开始可以转完一圈，返回每个加油站是否可以转完一圈的arr"
   ]
  },
  {
   "cell_type": "code",
   "execution_count": 49,
   "id": "68643c48",
   "metadata": {},
   "outputs": [],
   "source": [
    "'''\n",
    "思路：\n",
    "1. 先合并gas、cost => arr，每次途径arr[i]时，加上arr[i]现有的油不能掉到0以下。 等同于 arr[i]的累加和不能出现0\n",
    "2. 准备两倍长arr，计算累和\n",
    "例如：arr[-2,-3,4,-2,6,-1]\n",
    "累加和。 [-2,-5,-1,-3,3,2,0,-3,1,-1, 5,4]\n",
    "相当于下标 0, 1, 2, 3,4,5,6, 7,8, 9,10,11] 为的是以x(0~5)作为出发点时，累加和都通过sum(x～x+len(arr)-1) - (x-1)可以加出来。\n",
    "当 以 1节点出发，那么1~6 减去 0 即为累加和.\n",
    "3. 准备长度为len(arr)的窗口，窗口内添加累加和，窗口内最小值(需要减去前一个值还原)<0，则L不是有效出发点/\n",
    "'''\n",
    "def getNextOne(arr, index):\n",
    "    return arr[index % (len(arr))]\n",
    "def gasCycle(gas, cost):\n",
    "    if not gas or not cost or len(gas) != len(cost):\n",
    "        return None\n",
    "    N = len(gas)\n",
    "    arr = [gas[i] - cost[i] for i in range(N)]\n",
    "    arrSum = [None] * (N * 2 - 1)\n",
    "    arrSum[0] = arr[0]\n",
    "    for i in range(1, len(arrSum)):\n",
    "        arrSum[i] = arrSum[i-1] + getNextOne(arr, i)\n",
    "    L = 0\n",
    "    R = 0\n",
    "    ans = [None] * N\n",
    "    queue = deque()\n",
    "    while L <= N - 1:\n",
    "        while queue and arrSum[queue[-1]] >= arrSum[R]:\n",
    "            queue.pop()\n",
    "        queue.append(R)\n",
    "        \n",
    "        if R - L + 1 == N:\n",
    "#             print(queue[0])\n",
    "            minV = arrSum[queue[0]]\n",
    "            if L >= 1:\n",
    "                minV -= arrSum[L-1]\n",
    "            if minV < 0:\n",
    "                ans[L] = False\n",
    "            else:\n",
    "                ans[L] = True\n",
    "            if queue[0] == L:\n",
    "                queue.popleft()\n",
    "            L += 1 \n",
    "        R += 1\n",
    "    return ans\n"
   ]
  },
  {
   "cell_type": "code",
   "execution_count": 50,
   "id": "c8d987cd",
   "metadata": {},
   "outputs": [
    {
     "data": {
      "text/plain": [
       "[False, False, True, False, True, False]"
      ]
     },
     "execution_count": 50,
     "metadata": {},
     "output_type": "execute_result"
    }
   ],
   "source": [
    "gas = [1, 4, 5, 2, 9, 2]\n",
    "cost= [3, 7, 1, 4, 3, 3]\n",
    "#[-2,-3,4,-2,6,-1]\n",
    "gasCycle(gas, cost)"
   ]
  },
  {
   "cell_type": "markdown",
   "id": "3aec59a7",
   "metadata": {},
   "source": [
    "#### arr货币，返回组成aim的最少货币数\n"
   ]
  },
  {
   "cell_type": "code",
   "execution_count": 14,
   "id": "dcd3278e",
   "metadata": {},
   "outputs": [],
   "source": [
    "#最小值时，不能根据位置依赖计算出， 因为不知道某个数出去后的最小值是多少\n",
    "#使用窗口内最小值结构，位置进出，返回最小值；每次pk、取最小值时，要补齐当前数(x)和尾巴(y)差几张(尾巴实际=y + (x-y)/面值)"
   ]
  },
  {
   "cell_type": "code",
   "execution_count": 52,
   "id": "3ce62aa2",
   "metadata": {
    "scrolled": true
   },
   "outputs": [
    {
     "data": {
      "text/plain": [
       "9223372036854775807"
      ]
     },
     "execution_count": 52,
     "metadata": {},
     "output_type": "execute_result"
    }
   ],
   "source": [
    "import sys\n",
    "sys.maxsize"
   ]
  },
  {
   "cell_type": "code",
   "execution_count": 136,
   "id": "5cf99f1a",
   "metadata": {},
   "outputs": [],
   "source": [
    "import random\n",
    "def generateRandomPosArr(maxLen, maxValue):\n",
    "    arr = list()\n",
    "    for i in range(maxLen):\n",
    "        arr.append(random.randint(1, maxValue))\n",
    "    return arr"
   ]
  },
  {
   "cell_type": "code",
   "execution_count": 92,
   "id": "85e194ae",
   "metadata": {},
   "outputs": [],
   "source": [
    "def minMoneyPre(arr, aim):\n",
    "    if not arr or aim <= 0:\n",
    "        return -1\n",
    "    count = dict()\n",
    "    for i in arr:\n",
    "        if i in count:\n",
    "            count[i] += 1\n",
    "        else:\n",
    "            count[i] = 1\n",
    "    money = sorted(count.keys())\n",
    "    ans = process(money, count, aim, 0)\n",
    "    return ans\n",
    "\n",
    "def process(money, count, rest, index):\n",
    "    if index == len(money):\n",
    "        return -1 if rest != 0 else 0\n",
    "    if rest == 0:\n",
    "        return 0\n",
    "    ans = -1\n",
    "    for i in range(count[money[index]]+1):\n",
    "#         print(i, money[index])\n",
    "        if rest - i * money[index] >= 0:\n",
    "            nxt = process(money, count, rest - i * money[index], index+1)\n",
    "            if nxt != -1:\n",
    "                nxt += i\n",
    "            else:\n",
    "                continue\n",
    "            if ans == -1:\n",
    "                ans = nxt\n",
    "            else:\n",
    "                ans = min(ans, nxt)\n",
    "    return ans\n",
    "\n",
    "def dp(arr, aim):\n",
    "    if not arr or aim <= 0:\n",
    "        return -1\n",
    "    count = dict()\n",
    "    for i in arr:\n",
    "        if i in count:\n",
    "            count[i] += 1\n",
    "        else:\n",
    "            count[i] = 1\n",
    "    money = sorted(count.keys())\n",
    "    M = len(money)\n",
    "    dp = [[-1] * (aim+1) for _ in range(M+1)]\n",
    "    for i in range(M+1):\n",
    "        dp[i][0] = 0\n",
    "    for i in range(M-1, -1, -1):\n",
    "        for rest in range(1, aim+1):\n",
    "            dp[i][rest] = dp[i+1][rest]\n",
    "            for num in range(1, count[money[i]]+1):\n",
    "                if rest - num * money[i] >= 0:\n",
    "                    nxt = dp[i+1][rest - num * money[i]]\n",
    "                    if nxt != -1:\n",
    "                        nxt += num\n",
    "                    else:\n",
    "                        continue\n",
    "                    if dp[i][rest] == -1:\n",
    "                        dp[i][rest] = nxt\n",
    "                    else:\n",
    "                        dp[i][rest] = min(dp[i][rest], nxt)\n",
    "    return dp[0][aim]"
   ]
  },
  {
   "cell_type": "code",
   "execution_count": 279,
   "id": "f58606c5",
   "metadata": {},
   "outputs": [],
   "source": [
    "def dp2(arr, aim):\n",
    "    if aim == 0:\n",
    "        return 0\n",
    "    count = dict()\n",
    "    for i in arr:\n",
    "        if i in count:\n",
    "            count[i] += 1\n",
    "        else:\n",
    "            count[i] = 1\n",
    "    money = sorted(count.keys())\n",
    "    N = len(money)\n",
    "    dp = [[-1] * (aim+1) for _ in range(N+1)]\n",
    "    dp[N][0] = 0\n",
    "    for index in range(N-1,-1,-1):\n",
    "        for start in range(0, min(aim+1, money[index])):\n",
    "            queue = deque()\n",
    "            queue.append(start)\n",
    "            dp[index][start] = dp[index+1][start]\n",
    "            step = money[index]\n",
    "            window = money[index] * (count[money[index]]+1)\n",
    "            R = start + step\n",
    "            while R <= aim:\n",
    "                while queue and (dp[index+1][queue[-1]] == -1 or \\\n",
    "                                 (dp[index+1][R] != -1 and dp[index+1][queue[-1]] + (R-queue[-1]) / step >= dp[index+1][R])\n",
    "                                ):\n",
    "                    queue.pop()\n",
    "                queue.append(R)\n",
    "                if R - window == queue[0]:\n",
    "                    queue.popleft()\n",
    "                dp[index][R] = -1 if dp[index+1][queue[0]] == -1 else dp[index+1][queue[0]] + (R-queue[0]) / step\n",
    "                R += step\n",
    "    return dp[0][aim]\n",
    "                "
   ]
  },
  {
   "cell_type": "code",
   "execution_count": 280,
   "id": "8234af54",
   "metadata": {},
   "outputs": [],
   "source": [
    "def dp3(arr, aim):\n",
    "    if aim == 0:\n",
    "        return 0\n",
    "    count = dict()\n",
    "    for i in arr:\n",
    "        if i in count:\n",
    "            count[i] += 1\n",
    "        else:\n",
    "            count[i] = 1\n",
    "    money = sorted(count.keys())\n",
    "    N = len(money)\n",
    "    dp = [[-1] * (aim+1) for _ in range(N+1)]\n",
    "    dp[N][0] = 0\n",
    "    for j in range(1, aim+1):\n",
    "        dp[N][j] = sys.maxsize;\n",
    "    for i in range(N-1, -1, -1):\n",
    "        for mod in range(0, min(aim+1, money[i])):\n",
    "            w = deque()\n",
    "            w.append(mod)\n",
    "            dp[i][mod] = dp[i + 1][mod]\n",
    "            for r in range(mod+money[i], aim+1, money[i]):\n",
    "                while w and ((dp[i+1][w[-1]] == sys.maxsize) or \\\n",
    "                (dp[i+1][w[-1]] + compensate(w[-1], r, money[i]) >= dp[i+1][r])):\n",
    "                    w.pop()\n",
    "                w.append(r)\n",
    "                overdue = r - money[i] * (count[money[i]] + 1)\n",
    "                if w[0] == overdue:\n",
    "                    w.popleft()\n",
    "#                 if dp[i + 1][w[0]] == -1:\n",
    "#                     dp[i][r] = -1\n",
    "#                 else:\n",
    "#                     dp[i][r] = dp[i + 1][w[0]] + compensate(w[0], r, money[i])\n",
    "                dp[i][r] = dp[i + 1][w[0]] + compensate(w[0], r, money[i])\n",
    "    if dp[0][aim] >= sys.maxsize:\n",
    "        return -1\n",
    "    else:\n",
    "        return dp[0][aim]\n",
    "\n",
    "def compensate(pre, cur, coin):\n",
    "    return (cur - pre) / coin"
   ]
  },
  {
   "cell_type": "code",
   "execution_count": 282,
   "id": "4ee6a79d",
   "metadata": {
    "scrolled": true
   },
   "outputs": [
    {
     "name": "stdout",
     "output_type": "stream",
     "text": [
      "succeed.\n"
     ]
    }
   ],
   "source": [
    "testTime = 10000\n",
    "maxValue = 100\n",
    "maxLen = 30\n",
    "maxAim = 100\n",
    "succeed=True\n",
    "for _ in range(testTime):\n",
    "    value = random.randint(1, maxValue)\n",
    "    length = random.randint(0, maxLen)\n",
    "    aim = random.randint(1, maxAim)\n",
    "    arr = generateRandomPosArr(length, value)\n",
    "    ans1 = dp2(arr, aim)\n",
    "    ans2 = dp3(arr, aim)\n",
    "    if ans1 != ans2:\n",
    "        print(ans1, ans2)\n",
    "        print(\"something wrong.\")\n",
    "        succeed = False\n",
    "        break\n",
    "if succeed:\n",
    "    print(\"succeed.\")"
   ]
  },
  {
   "cell_type": "code",
   "execution_count": 276,
   "id": "ed0f8d46",
   "metadata": {},
   "outputs": [
    {
     "data": {
      "text/plain": [
       "([2, 6, 9], 6)"
      ]
     },
     "execution_count": 276,
     "metadata": {},
     "output_type": "execute_result"
    }
   ],
   "source": [
    "arr, aim"
   ]
  },
  {
   "cell_type": "code",
   "execution_count": null,
   "id": "962a67b7",
   "metadata": {},
   "outputs": [],
   "source": []
  },
  {
   "cell_type": "code",
   "execution_count": 88,
   "id": "893739ee",
   "metadata": {},
   "outputs": [
    {
     "data": {
      "text/plain": [
       "2"
      ]
     },
     "execution_count": 88,
     "metadata": {},
     "output_type": "execute_result"
    }
   ],
   "source": [
    "minMoneyPre(arr, maxAim)"
   ]
  },
  {
   "cell_type": "code",
   "execution_count": 75,
   "id": "aec858c9",
   "metadata": {
    "scrolled": true
   },
   "outputs": [
    {
     "data": {
      "text/plain": [
       "17"
      ]
     },
     "execution_count": 75,
     "metadata": {},
     "output_type": "execute_result"
    }
   ],
   "source": [
    "maxAim"
   ]
  }
 ],
 "metadata": {
  "kernelspec": {
   "display_name": "Python 3 (ipykernel)",
   "language": "python",
   "name": "python3"
  },
  "language_info": {
   "codemirror_mode": {
    "name": "ipython",
    "version": 3
   },
   "file_extension": ".py",
   "mimetype": "text/x-python",
   "name": "python",
   "nbconvert_exporter": "python",
   "pygments_lexer": "ipython3",
   "version": "3.8.13"
  },
  "toc": {
   "base_numbering": 1,
   "nav_menu": {},
   "number_sections": true,
   "sideBar": true,
   "skip_h1_title": false,
   "title_cell": "Table of Contents",
   "title_sidebar": "Contents",
   "toc_cell": false,
   "toc_position": {},
   "toc_section_display": true,
   "toc_window_display": false
  }
 },
 "nbformat": 4,
 "nbformat_minor": 5
}
