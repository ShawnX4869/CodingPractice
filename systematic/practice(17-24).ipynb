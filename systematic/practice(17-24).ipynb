{
 "cells": [
  {
   "cell_type": "markdown",
   "metadata": {},
   "source": [
    "### 图的拓扑排序算法"
   ]
  },
  {
   "cell_type": "code",
   "execution_count": 3,
   "metadata": {},
   "outputs": [],
   "source": [
    "\"\"\"\n",
    "class DirectedGraphNode:\n",
    "     def __init__(self, x):\n",
    "         self.label = x\n",
    "         self.neighbors = []\n",
    "\"\"\"\n",
    "\n",
    "class Solution:\n",
    "    \"\"\"\n",
    "    @param graph: A list of Directed graph node\n",
    "    @return: Any topological order for the given graph.\n",
    "    \"\"\"\n",
    "    def topSort(self, graph):\n",
    "        # write your code here\n",
    "        from collections import deque\n",
    "        if not graph:\n",
    "            return \n",
    "        count = dict()\n",
    "        for node in graph:\n",
    "            self.dfs(node, count)\n",
    "        ans = sorted(count.items(), key=lambda x:x[1], reverse=True)\n",
    "        res = [i[0] for i in ans]\n",
    "        return res\n",
    "    def dfs(self, node, count):\n",
    "        if node in count:\n",
    "            return count[node]\n",
    "        val = 0\n",
    "        if node.neighbors is not None:\n",
    "            for c in node.neighbors:\n",
    "                val += self.dfs(c, count)\n",
    "        count[node] = val + 1\n",
    "        return val + 1"
   ]
  },
  {
   "cell_type": "code",
   "execution_count": null,
   "metadata": {
    "collapsed": true
   },
   "outputs": [],
   "source": []
  },
  {
   "cell_type": "markdown",
   "metadata": {},
   "source": [
    "### 深度遍历"
   ]
  },
  {
   "cell_type": "code",
   "execution_count": null,
   "metadata": {
    "collapsed": true
   },
   "outputs": [],
   "source": [
    "def dfs(node):\n",
    "    if not node:\n",
    "        return \n",
    "    stack = list()\n",
    "    stack.append(node)\n",
    "    print(node.val)\n",
    "    set_ = set()\n",
    "    set_.add(node)\n",
    "    while stack:\n",
    "        cur = stack.pop()\n",
    "        for nxt in cur.nexts:\n",
    "            if nxt not in set_:\n",
    "                stack.append(cur)\n",
    "                stack.append(nxt)\n",
    "                set_.add(nxt)\n",
    "                print(nxt.val)\n",
    "                break\n",
    "    return "
   ]
  },
  {
   "cell_type": "markdown",
   "metadata": {},
   "source": [
    "### 最小生成树算法之Prim"
   ]
  },
  {
   "cell_type": "markdown",
   "metadata": {},
   "source": [
    "### 最小生成树算法之Kruskal"
   ]
  },
  {
   "cell_type": "markdown",
   "metadata": {},
   "source": [
    "### Djkstra算法"
   ]
  },
  {
   "cell_type": "markdown",
   "metadata": {},
   "source": [
    "### 逆序栈（不用辅助栈、只用递归）"
   ]
  },
  {
   "cell_type": "code",
   "execution_count": 4,
   "metadata": {
    "collapsed": true
   },
   "outputs": [],
   "source": [
    "def getLast(stack):\n",
    "    cur = stack.pop()\n",
    "    if not stack:\n",
    "        return cur\n",
    "    else:\n",
    "        last = getLast(stack)\n",
    "        stack.append(cur)\n",
    "        return last\n",
    "def reverseStack(stack):\n",
    "    if not stack:\n",
    "        return \n",
    "    last = getLast(stack)\n",
    "    reverseStack(stack)\n",
    "    stack.append(last)\n",
    "    return "
   ]
  },
  {
   "cell_type": "code",
   "execution_count": 5,
   "metadata": {},
   "outputs": [
    {
     "data": {
      "text/plain": [
       "[5, 4, 3, 2, 1]"
      ]
     },
     "execution_count": 5,
     "metadata": {},
     "output_type": "execute_result"
    }
   ],
   "source": [
    "a = [1,2,3,4,5]\n",
    "reverseStack(a)\n",
    "a"
   ]
  },
  {
   "cell_type": "markdown",
   "metadata": {},
   "source": [
    "### 机器人必须走 K 步，最终能来到P位置的方法有多少种"
   ]
  },
  {
   "cell_type": "code",
   "execution_count": 17,
   "metadata": {},
   "outputs": [],
   "source": [
    "def rob(arr, P, k, start):\n",
    "    if not arr or P > len(arr)-1 or k <= 0 or start < 0:\n",
    "        return 0\n",
    "    return Kstep(arr, P, start, k)\n",
    "def Kstep(arr, P, cur, rest):\n",
    "#     if cur < 0 or cur > len(arr) - 1:\n",
    "#         return 0\n",
    "    if rest == 0:\n",
    "        return 1 if cur == P else 0 \n",
    "    if cur == len(arr) - 1:\n",
    "        return Kstep(arr, P, cur-1, rest-1)\n",
    "    elif cur == 0:\n",
    "        return Kstep(arr, P, cur+1, rest-1)\n",
    "    else:\n",
    "        ways = Kstep(arr, P, cur-1,  rest-1)\n",
    "        ways += Kstep(arr,P, cur+1, rest -1)\n",
    "        return ways\n",
    "    "
   ]
  },
  {
   "cell_type": "code",
   "execution_count": 32,
   "metadata": {},
   "outputs": [
    {
     "data": {
      "text/plain": [
       "40"
      ]
     },
     "execution_count": 32,
     "metadata": {},
     "output_type": "execute_result"
    }
   ],
   "source": [
    "rob([0,1,2,3,4],4, 10, 0)"
   ]
  },
  {
   "cell_type": "code",
   "execution_count": 25,
   "metadata": {},
   "outputs": [],
   "source": [
    "def rob2(arr, P, k, start):\n",
    "    if not arr or P > len(arr)-1 or k <= 0 or start < 0:\n",
    "        return 0\n",
    "    N = len(arr)\n",
    "    dp = [[0] * N for _ in range(k+1)]\n",
    "    dp[0][P] = 1\n",
    "\n",
    "    for k in range(1, k+1):\n",
    "        dp[k][N-1] = dp[k-1][N-2]\n",
    "        dp[k][0] = dp[k-1][1]\n",
    "        for cur in range(1, N-1):\n",
    "            dp[k][cur] = dp[k-1][cur-1] + dp[k-1][cur+1]\n",
    "    return dp[k][0]"
   ]
  },
  {
   "cell_type": "code",
   "execution_count": 33,
   "metadata": {},
   "outputs": [
    {
     "data": {
      "text/plain": [
       "40"
      ]
     },
     "execution_count": 33,
     "metadata": {},
     "output_type": "execute_result"
    }
   ],
   "source": [
    "rob2([0,1,2,3,4], 4, 10, 0)"
   ]
  },
  {
   "cell_type": "markdown",
   "metadata": {},
   "source": [
    "### A,B玩家从左右两边拿纸牌,返回最后获胜者的分数"
   ]
  },
  {
   "cell_type": "code",
   "execution_count": 58,
   "metadata": {
    "collapsed": true
   },
   "outputs": [],
   "source": [
    "def cards(arr):\n",
    "    if not arr:\n",
    "        return 0\n",
    "    first = f(arr, 0, len(arr)-1)\n",
    "    last = g(arr, 0, len(arr)-1)\n",
    "    return max(first, last)\n",
    "\n",
    "def f(arr, i, j):\n",
    "    if i > j:\n",
    "        return 0\n",
    "    scorei = arr[i] + g(arr,i+1,j)\n",
    "    scorej = arr[j] + g(arr,i, j-1)\n",
    "    return max(scorei,scorej)\n",
    "\n",
    "def g(arr, i, j):\n",
    "    if i > j:\n",
    "        return 0\n",
    "    scorei = f(arr, i+1, j)\n",
    "    scorej = f(arr, i, j-1)\n",
    "    return min(scorei, scorej)"
   ]
  },
  {
   "cell_type": "code",
   "execution_count": 51,
   "metadata": {},
   "outputs": [
    {
     "data": {
      "text/plain": [
       "100"
      ]
     },
     "execution_count": 51,
     "metadata": {},
     "output_type": "execute_result"
    }
   ],
   "source": [
    "cards([10,100,10])"
   ]
  },
  {
   "cell_type": "code",
   "execution_count": 52,
   "metadata": {
    "collapsed": true
   },
   "outputs": [],
   "source": [
    "#根据规则返回获胜者的分数\n",
    "def win1(arr):\n",
    "    if not arr:\n",
    "        return 0\n",
    "    first = f1(arr,0,len(arr)-1)\n",
    "    second = g1(arr,0,len(arr)-1)\n",
    "    return max(first, second)\n",
    "\n",
    "#先手\n",
    "def f1(arr, L, R):\n",
    "    if L==R:\n",
    "        return arr[L]\n",
    "    p1 = arr[L] + g1(arr, L+1, R) #拿走L位置\n",
    "    p2 = arr[R] + g1(arr, L, R-1) #拿走R位置\n",
    "    return max(p1,p2)\n",
    "\n",
    "#后手\n",
    "def g1(arr, L, R):\n",
    "    if L==R:\n",
    "        return 0\n",
    "    p1 = f1(arr, L+1, R) #对手做完决定，拿到最好\n",
    "    p2 = f1(arr, L, R-1)\n",
    "    return min(p1,p2) #对手做决定，只能拿小的那个。两种可能里的最小能拿到最好的那个！\n",
    "        "
   ]
  },
  {
   "cell_type": "code",
   "execution_count": 53,
   "metadata": {},
   "outputs": [
    {
     "data": {
      "text/plain": [
       "100"
      ]
     },
     "execution_count": 53,
     "metadata": {},
     "output_type": "execute_result"
    }
   ],
   "source": [
    "win1([10,100,10])"
   ]
  },
  {
   "cell_type": "code",
   "execution_count": 71,
   "metadata": {},
   "outputs": [
    {
     "name": "stdout",
     "output_type": "stream",
     "text": [
      "succeed.\n"
     ]
    }
   ],
   "source": [
    "import random\n",
    "def generateRandomArr(maxLen, maxValue):\n",
    "    arr = list()\n",
    "    for i in range(maxLen):\n",
    "        arr.append(random.randint(-maxValue, maxValue))\n",
    "    return arr\n",
    "\n",
    "testTime = 100\n",
    "maxValue = 50\n",
    "maxLen = 15\n",
    "succeed=True\n",
    "for _ in range(testTime):\n",
    "    value = random.randint(0, maxValue)\n",
    "    length = random.randint(0, maxLen)\n",
    "    arr = generateRandomArr(length, value)\n",
    "    ans1 = win2(arr)\n",
    "    ans2 = win1(arr)\n",
    "    if ans1 != ans2:\n",
    "        print(ans1, ans2)\n",
    "        print(\"something wrong.\")\n",
    "        succeed = False\n",
    "        break\n",
    "if succeed:\n",
    "    print(\"succeed.\")"
   ]
  },
  {
   "cell_type": "code",
   "execution_count": null,
   "metadata": {
    "collapsed": true
   },
   "outputs": [],
   "source": [
    "#根据规则返回获胜者的分数\n",
    "def win1(arr):\n",
    "    if not arr:\n",
    "        return 0\n",
    "    first = f1(arr,0,len(arr)-1)\n",
    "    second = g1(arr,0,len(arr)-1)\n",
    "    return max(first, second)\n",
    "\n",
    "#先手\n",
    "def f1(arr, L, R):\n",
    "    if L==R:\n",
    "        return arr[L]\n",
    "    p1 = arr[L] + g1(arr, L+1, R) #拿走L位置\n",
    "    p2 = arr[R] + g1(arr, L, R-1) #拿走R位置\n",
    "    return max(p1,p2)\n",
    "\n",
    "#后手\n",
    "def g1(arr, L, R):\n",
    "    if L==R:\n",
    "        return 0\n",
    "    p1 = f1(arr, L+1, R) #对手做完决定，拿到最好\n",
    "    p2 = f1(arr, L, R-1)\n",
    "    return min(p1,p2) #对手做决定，只能拿小的那个。两种可能里的最小能拿到最好的那个！\n",
    "        "
   ]
  },
  {
   "cell_type": "code",
   "execution_count": 68,
   "metadata": {},
   "outputs": [],
   "source": [
    "def win2(arr):\n",
    "    if not arr:\n",
    "        return 0\n",
    "    N = len(arr)\n",
    "    f = [[None] * N for _ in range(N)]\n",
    "    g = [[None] * N for _ in range(N)]\n",
    "    for i in range(N):\n",
    "        f[i][i] = arr[i]\n",
    "        g[i][i] = 0\n",
    "    for i in range(N-2, -1, -1):\n",
    "        for j in range(i+1, N):\n",
    "            if i == j:\n",
    "                continue\n",
    "            f[i][j] = max(arr[i] + g[i+1][j], arr[j] + g[i][j-1])\n",
    "            g[i][j] = min(f[i+1][j], f[i][j-1])\n",
    "    return max(f[0][N-1],g[0][N-1])"
   ]
  },
  {
   "cell_type": "markdown",
   "metadata": {},
   "source": [
    "### 背包能装下最多的价值"
   ]
  },
  {
   "cell_type": "code",
   "execution_count": 84,
   "metadata": {
    "collapsed": true
   },
   "outputs": [],
   "source": [
    "def packVal(arr, M):\n",
    "    if not arr:\n",
    "        return 0\n",
    "    return pack(arr, 0, 0, M)\n",
    "\n",
    "def pack(arr, i, cur, M):\n",
    "    if cur > M:\n",
    "        return -1\n",
    "    if cur == M:\n",
    "        return cur\n",
    "    \n",
    "    if i == len(arr):\n",
    "        return cur\n",
    "    \n",
    "    p1 = pack(arr, i+1, cur+arr[i],M)\n",
    "    p2 = pack(arr, i+1, cur,M)\n",
    "    return max(p1,p2)\n",
    "    "
   ]
  },
  {
   "cell_type": "code",
   "execution_count": 83,
   "metadata": {},
   "outputs": [
    {
     "data": {
      "text/plain": [
       "0"
      ]
     },
     "execution_count": 83,
     "metadata": {},
     "output_type": "execute_result"
    }
   ],
   "source": [
    "a = [12,12]\n",
    "packVal(a, 11)"
   ]
  },
  {
   "cell_type": "code",
   "execution_count": 86,
   "metadata": {},
   "outputs": [],
   "source": [
    "def packVal2(arr,M):\n",
    "    if not arr:\n",
    "        return 0\n",
    "    N = len(arr)\n",
    "    dp = [[0] * (M+1) for _ in range(N+1)]\n",
    "    for i in range(N+1):\n",
    "        dp[i][M] = M\n",
    "    for i in range(M+1):\n",
    "        dp[N][i] = i\n",
    "    for i in range(N-1, -1, -1):\n",
    "        for cur in range(M):\n",
    "            p2 = dp[i+1][cur]\n",
    "            p1 = -1\n",
    "            if cur + arr[i] <= M:\n",
    "                p1 = dp[i+1][cur + arr[i]]\n",
    "            dp[i][cur] = max(p1,p2)\n",
    "    return dp[0][0]\n",
    "                \n",
    "            \n",
    "    "
   ]
  },
  {
   "cell_type": "code",
   "execution_count": 87,
   "metadata": {},
   "outputs": [
    {
     "data": {
      "text/plain": [
       "0"
      ]
     },
     "execution_count": 87,
     "metadata": {},
     "output_type": "execute_result"
    }
   ],
   "source": [
    "packVal2(a, 11)"
   ]
  },
  {
   "cell_type": "code",
   "execution_count": 88,
   "metadata": {},
   "outputs": [
    {
     "name": "stdout",
     "output_type": "stream",
     "text": [
      "succeed.\n"
     ]
    }
   ],
   "source": [
    "import random\n",
    "def generatePosRandomArr(maxLen, maxValue):\n",
    "    arr = list()\n",
    "    for i in range(maxLen):\n",
    "        arr.append(random.randint(0, maxValue))\n",
    "    return arr\n",
    "testTime = 100\n",
    "maxValue = 50\n",
    "maxM = 200\n",
    "maxLen = 15\n",
    "succeed=True\n",
    "for _ in range(testTime):\n",
    "    value = random.randint(0, maxValue)\n",
    "    length = random.randint(0, maxLen)\n",
    "    arr = generatePosRandomArr(length, value)\n",
    "    M = random.randint(0, maxM)\n",
    "    ans1 = packVal(arr, M)\n",
    "    ans2 = packVal2(arr, M)\n",
    "    if ans1 != ans2:\n",
    "        print(ans1, ans2)\n",
    "        print(\"something wrong.\")\n",
    "        succeed = False\n",
    "        break\n",
    "if succeed:\n",
    "    print(\"succeed.\")"
   ]
  },
  {
   "cell_type": "code",
   "execution_count": null,
   "metadata": {
    "collapsed": true
   },
   "outputs": [],
   "source": []
  },
  {
   "cell_type": "code",
   "execution_count": 91,
   "metadata": {
    "collapsed": true
   },
   "outputs": [],
   "source": [
    "def maxValue(w, v, bag):\n",
    "    if not w or not v or bag <= 0:\n",
    "        return 0\n",
    "    return maxV(w,v,0,bag)\n",
    "\n",
    "def maxV(w, v, i, rest):\n",
    "    if i == len(w):\n",
    "        return 0\n",
    "    if w[i] > rest:\n",
    "        return maxV(w, v, i+1, rest)\n",
    "    p1 = maxV(w,v,i+1,rest-w[i]) + v[i]\n",
    "    p2 = maxV(w,v,i+1,rest)\n",
    "    return max(p1,p2)"
   ]
  },
  {
   "cell_type": "code",
   "execution_count": 92,
   "metadata": {},
   "outputs": [
    {
     "data": {
      "text/plain": [
       "42"
      ]
     },
     "execution_count": 92,
     "metadata": {},
     "output_type": "execute_result"
    }
   ],
   "source": [
    "w = [3,2,4, 7, 3,1,7]\n",
    "v = [5,6,3,19,12,4,2]\n",
    "bag = 15\n",
    "maxValue(w,v,bag)"
   ]
  },
  {
   "cell_type": "code",
   "execution_count": 95,
   "metadata": {
    "collapsed": true
   },
   "outputs": [],
   "source": [
    "def maxValue2(w,v,bag):\n",
    "    if not w or not v or bag <= 0:\n",
    "        return 0\n",
    "    N = len(w)\n",
    "    dp = [[None] * (bag+1) for _ in range(N+1)]\n",
    "    for rest in range(bag+1):\n",
    "        dp[N][rest] = 0\n",
    "    for i in range(N-1, -1, -1):\n",
    "        for rest in range(bag+1):\n",
    "            if w[i] > rest:\n",
    "                dp[i][rest] = dp[i+1][rest]\n",
    "            else:\n",
    "                dp[i][rest] = max(dp[i+1][rest], dp[i+1][rest-w[i]] + v[i])\n",
    "    return dp[0][bag]"
   ]
  },
  {
   "cell_type": "code",
   "execution_count": 96,
   "metadata": {},
   "outputs": [
    {
     "data": {
      "text/plain": [
       "42"
      ]
     },
     "execution_count": 96,
     "metadata": {},
     "output_type": "execute_result"
    }
   ],
   "source": [
    "w = [3,2,4, 7, 3,1,7]\n",
    "v = [5,6,3,19,12,4,2]\n",
    "bag = 15\n",
    "maxValue2(w,v,bag)"
   ]
  },
  {
   "cell_type": "markdown",
   "metadata": {},
   "source": [
    "### 数字转换字符串\n",
    "1对应A，2对应B，3对应C...26对应Z\n",
    "那么一个数字字符串比如“111”可以转化为“AAA”、“KA”和”AK“\n",
    "给定一个数组的字符串，返回有多少转化结果"
   ]
  },
  {
   "cell_type": "code",
   "execution_count": 111,
   "metadata": {
    "collapsed": true
   },
   "outputs": [],
   "source": [
    "def transferKinds(string):\n",
    "    if not string:\n",
    "        return 0\n",
    "    return transfer(string, 0)\n",
    "\n",
    "def transfer(string, i):\n",
    "    if i == len(string):\n",
    "        return 1\n",
    "    if string[i] == \"0\":\n",
    "        return 0\n",
    "    else:\n",
    "        ways = transfer(string, i+1) #i自己\n",
    "        if i < len(string) - 1 and 1 <= int(string[i:i+2]) <= 26:\n",
    "            ways += transfer(string, i+2)\n",
    "        return ways"
   ]
  },
  {
   "cell_type": "code",
   "execution_count": 112,
   "metadata": {},
   "outputs": [
    {
     "name": "stdout",
     "output_type": "stream",
     "text": [
      "0\n",
      "8\n",
      "3\n"
     ]
    }
   ],
   "source": [
    "print(transferKinds(\"7230231231232031203123\"))\n",
    "print(transferKinds(\"11111\"))\n",
    "print(transferKinds(\"111\"))"
   ]
  },
  {
   "cell_type": "code",
   "execution_count": 113,
   "metadata": {
    "collapsed": true
   },
   "outputs": [],
   "source": [
    "def transferKinds2(string):\n",
    "    if not string:\n",
    "        return 0\n",
    "    N = len(string)\n",
    "    dp = [0] * (N+1)\n",
    "    dp[N] = 1            \n",
    "    for i in range(N-1, -1, -1):\n",
    "        if string[i] == \"0\":\n",
    "            dp[i] = 0\n",
    "            continue\n",
    "        dp[i] = dp[i+1]\n",
    "        if i < N - 1 and 1 <= int(string[i:i+2]) <= 26:\n",
    "            dp[i] += dp[i+2]\n",
    "    return dp[0]\n",
    "    "
   ]
  },
  {
   "cell_type": "code",
   "execution_count": 114,
   "metadata": {},
   "outputs": [
    {
     "name": "stdout",
     "output_type": "stream",
     "text": [
      "0\n",
      "8\n",
      "3\n"
     ]
    }
   ],
   "source": [
    "print(transferKinds2(\"7230231231232031203123\"))\n",
    "print(transferKinds2(\"11111\"))\n",
    "print(transferKinds2(\"111\"))"
   ]
  },
  {
   "cell_type": "code",
   "execution_count": 139,
   "metadata": {},
   "outputs": [],
   "source": [
    "def stickersNum(stickers, target):\n",
    "    if not stickers:\n",
    "        return -1\n",
    "    sticker_list = list()\n",
    "    for st in stickers:\n",
    "        st_dict = dict()\n",
    "        for i in st:\n",
    "            if i not in st_dict:\n",
    "                st_dict[i] = 1\n",
    "            else:\n",
    "                st_dict[i] += 1\n",
    "        sticker_list.append(st_dict)\n",
    "    target_dict = dict()\n",
    "    for tar in target:\n",
    "        if tar not in target_dict:\n",
    "                target_dict[tar] = 1\n",
    "        else:\n",
    "            target_dict[tar] += 1\n",
    "    return s(sticker_list, 0, target_dict)\n",
    "def removeChar(sticker, times, rest):\n",
    "    now = rest.copy()\n",
    "    for char in sticker:\n",
    "        if char in now:\n",
    "            now[char] -= sticker[char] * times\n",
    "            if now[char] <= 0:\n",
    "                now.pop(char)\n",
    "    return now\n",
    "\n",
    "def s(stickers, i, rest):\n",
    "\n",
    "    if i == len(stickers):\n",
    "        return 0 if not rest else -1\n",
    "    if not rest:\n",
    "        return 0\n",
    "    p = s(stickers, i+1, rest)\n",
    "    maxNum = max(rest.values())\n",
    "    for nums in range(1, maxNum+1):\n",
    "        p2 = s(stickers, i+1, removeChar(stickers[i], nums, rest)) \n",
    "        if p2 != -1:\n",
    "            p2 += nums\n",
    "        if p == -1:\n",
    "            p = p2 \n",
    "        else:\n",
    "            if p2 == -1:\n",
    "                continue\n",
    "            else: \n",
    "                p = min(p, p2)\n",
    "    return p\n",
    "        \n",
    "       \n",
    "        "
   ]
  },
  {
   "cell_type": "code",
   "execution_count": 152,
   "metadata": {
    "collapsed": true
   },
   "outputs": [],
   "source": [
    "def stickersNum(stickers, target):\n",
    "    if not stickers:\n",
    "        return -1\n",
    "    dp = dict()\n",
    "    return s(stickers, 0, target, dp)\n",
    "\n",
    "def removeChar(sticker, times, rest):\n",
    "    count = [0] * 26\n",
    "    for i in rest:\n",
    "        count[ord(i)-ord(\"a\")] += 1\n",
    "    \n",
    "    for _ in range(times):\n",
    "        for a in sticker:\n",
    "            count[ord(a)-ord(\"a\")] -= 1\n",
    "    now = \"\"\n",
    "    for i in range(26):\n",
    "        if count[i] > 0:\n",
    "            now += (count[i] * chr(ord(\"a\") +i))\n",
    "    return now\n",
    "\n",
    "def s(stickers, i, rest, dp):\n",
    "    if (i,rest) in dp:\n",
    "        return dp[(i,rest)]\n",
    "    if i == len(stickers):\n",
    "        return 0 if not rest else -1\n",
    "    if not rest:\n",
    "        return 0\n",
    "    p = s(stickers, i+1, rest, dp)\n",
    "    maxNum = len(rest)\n",
    "    for nums in range(1, maxNum+1):\n",
    "        p2 = s(stickers, i+1, removeChar(stickers[i], nums, rest), dp) \n",
    "        if p2 != -1:\n",
    "            p2 += nums\n",
    "        if p == -1:\n",
    "            p = p2 \n",
    "        else:\n",
    "            if p2 == -1:\n",
    "                continue\n",
    "            else: \n",
    "                p = min(p, p2)\n",
    "    dp[(i,rest)] = p\n",
    "    return p\n",
    "        \n",
    "       \n",
    "        "
   ]
  },
  {
   "cell_type": "code",
   "execution_count": 154,
   "metadata": {},
   "outputs": [
    {
     "data": {
      "text/plain": [
       "4"
      ]
     },
     "execution_count": 154,
     "metadata": {},
     "output_type": "execute_result"
    }
   ],
   "source": [
    "stickers =[\"square\",\"human\",\"deal\",\"wall\",\"them\",\"brother\",\"high\",\"ring\",\"want\",\"family\",\"seem\",\"continent\",\"silent\",\"area\",\"ice\",\"arm\",\"to\",\"behind\",\"branch\",\"suit\",\"locate\",\"town\",\"we\",\"finish\",\"joy\",\"grand\",\"else\",\"quart\",\"small\",\"part\",\"every\",\"blood\",\"decide\",\"front\",\"copy\",\"class\",\"after\",\"count\",\"these\",\"ride\",\"dog\",\"bed\",\"keep\",\"edge\",\"iron\",\"wild\",\"problem\",\"my\",\"age\",\"came\"]\n",
    "target =\"spendneck\"\n",
    "\n",
    "stickersNum(stickers, target)"
   ]
  },
  {
   "cell_type": "code",
   "execution_count": 148,
   "metadata": {
    "collapsed": true
   },
   "outputs": [],
   "source": [
    "a = dict()"
   ]
  },
  {
   "cell_type": "code",
   "execution_count": 121,
   "metadata": {
    "collapsed": true
   },
   "outputs": [],
   "source": [
    "b =a.copy()"
   ]
  },
  {
   "cell_type": "code",
   "execution_count": 122,
   "metadata": {},
   "outputs": [
    {
     "data": {
      "text/plain": [
       "{}"
      ]
     },
     "execution_count": 122,
     "metadata": {},
     "output_type": "execute_result"
    }
   ],
   "source": [
    "b"
   ]
  },
  {
   "cell_type": "code",
   "execution_count": 141,
   "metadata": {},
   "outputs": [
    {
     "data": {
      "text/plain": [
       "'aaa'"
      ]
     },
     "execution_count": 141,
     "metadata": {},
     "output_type": "execute_result"
    }
   ],
   "source": [
    "\"a\" * 3"
   ]
  },
  {
   "cell_type": "markdown",
   "metadata": {},
   "source": [
    "### 最长公共子序列"
   ]
  },
  {
   "cell_type": "code",
   "execution_count": 156,
   "metadata": {
    "collapsed": true
   },
   "outputs": [],
   "source": [
    "def largerstM(string1, string2):\n",
    "    if not string1 or not string2:\n",
    "        return 0\n",
    "    return largerst(string1, string2, len(string1)-1, len(string2)-1)\n",
    "#从0...i,j 最长公共子序列\n",
    "def largerst(string1, string2, i, j):\n",
    "    if i == 0 and j == 0:\n",
    "        return 1 if string1[i] == string2[j] else 0\n",
    "    if i == 0:\n",
    "        if string1[i] == string2[j]:\n",
    "            return 1\n",
    "        else:\n",
    "            return largerst(string1, string2, i, j-1)\n",
    "    if j == 0:\n",
    "        if string1[i] == string2[j]:\n",
    "            return 1\n",
    "        else:\n",
    "            return largerst(string1, string2, i-1, j)\n",
    "    else:\n",
    "        p1 = largerst(string1, string2, i, j-1)\n",
    "        p2 = largerst(string1, string2, i-1, j)\n",
    "        p3 = largerst(string1, string2, i-1, j-1) if string1[i] == string2[j] else 0\n",
    "        return max([p1,p2,p3])"
   ]
  },
  {
   "cell_type": "code",
   "execution_count": 159,
   "metadata": {},
   "outputs": [],
   "source": [
    "def largerstCommon(string1, string2):\n",
    "    if not string1 or not string2:\n",
    "        return 0\n",
    "    N = len(string1)\n",
    "    M = len(string2)\n",
    "    dp = [[0]*(M) for _ in range(N)]\n",
    "    dp[0][0] = 1 if string1[0] == string2[0] else 0\n",
    "    for i in range(1, N):\n",
    "        j = 0\n",
    "        if string1[i] == string2[j]:\n",
    "            dp[i][j] = 1\n",
    "        else:\n",
    "            dp[i][j] = string[i-1][j]\n",
    "    for j in range(1, M):\n",
    "        i = 0\n",
    "        if string1[i] == string2[j]:\n",
    "            dp[i][j] = 1\n",
    "        else:\n",
    "            dp[i][j] = string[i][j-1]\n",
    "    for i in range(1, N):\n",
    "        for j in range(1, M):\n",
    "            p1 = dp[i][j-1]\n",
    "            p2 = dp[i-1][j]\n",
    "            p3 = dp[i-1][j-1] if string1[i] == string2[j] else 0\n",
    "            dp[i][j] = max([p1,p2,p3])\n",
    "    return dp[N-1][M-1]"
   ]
  },
  {
   "cell_type": "markdown",
   "metadata": {},
   "source": [
    "### 最长回文子序列长度"
   ]
  },
  {
   "cell_type": "code",
   "execution_count": 163,
   "metadata": {},
   "outputs": [],
   "source": [
    "def largestPalindrome(string):\n",
    "    if not string:\n",
    "        return 0\n",
    "    return largestP(string, 0, len(string)-1)\n",
    "def largestP(string, i, j):\n",
    "    if i > j:\n",
    "        return 0\n",
    "    if i == j:\n",
    "        return 1\n",
    "    if i == j-1:\n",
    "        return 2 if string[i] == string[j] else 0\n",
    "    p1 = largestP(string, i+1, j)\n",
    "    p2 = largestP(string, i, j-1)\n",
    "    p3 = largestP(string, i+1, j-1)\n",
    "    if string[i] == string[j]:\n",
    "        p4 = largestP(string, i+1, j-1) + 2\n",
    "    else:\n",
    "        p4 = 0\n",
    "    return max([p1,p2,p3,p4])"
   ]
  },
  {
   "cell_type": "code",
   "execution_count": 164,
   "metadata": {
    "collapsed": true
   },
   "outputs": [],
   "source": [
    "def largestPalindrome2(string):\n",
    "    if not string:\n",
    "        return 0\n",
    "    N = len(string)\n",
    "    dp = [[0]*(N) for _ in range(N)]\n",
    "    for i in range(N):\n",
    "        dp[i][i] = 1\n",
    "    for i in range(N-1):\n",
    "        dp[i][i+1] = 2 if string[i] == string[i+1] else 0\n",
    "    for i in range(N-3, -1, -1):\n",
    "        for j in range(i+2, N):\n",
    "            p1 = dp[i+1][j]\n",
    "            p2 = dp[i][j-1]\n",
    "            p3 = dp[i+1][j-1]\n",
    "            if string[i] == string[j]:\n",
    "                p4 = dp[i+1][j-1] + 2\n",
    "            else:\n",
    "                p4 = 0\n",
    "            dp[i][j] = max([p1,p2,p3,p4])\n",
    "    \n",
    "    return dp[0][len(string)-1]"
   ]
  },
  {
   "cell_type": "markdown",
   "metadata": {},
   "source": [
    "### 棋盘\n",
    "马走日，从(0,0)出发，步数=k，返回方法数。棋盘(10,9)"
   ]
  },
  {
   "cell_type": "code",
   "execution_count": 167,
   "metadata": {},
   "outputs": [],
   "source": [
    "def chess(a, b, k):\n",
    "    if a < 0 or b < 0 or a > 9 or b > 8 or k <= 0: \n",
    "        return 0\n",
    "    return ch(a,b,k,0,0)\n",
    "\n",
    "def ch(a,b,k,x,y):\n",
    "    if x < 0 or y < 0 or x > 9 or y > 8:\n",
    "        return 0\n",
    "    if k == 0:\n",
    "        return 1 if a == x and b == y else 0\n",
    "    p = ch(a,b,k-1,x - 2, y + 1)\n",
    "    p += ch(a,b,k-1,x + 2, y + 1)    \n",
    "    p += ch(a,b,k-1,x - 2, y - 1)    \n",
    "    p += ch(a,b,k-1,x + 2, y - 1)    \n",
    "    p += ch(a,b,k-1,x - 1, y + 2)    \n",
    "    p += ch(a,b,k-1,x - 1, y - 2)    \n",
    "    p += ch(a,b,k-1,x + 1, y + 2)    \n",
    "    p += ch(a,b,k-1,x + 1, y - 2)\n",
    "    return p\n",
    "    "
   ]
  },
  {
   "cell_type": "code",
   "execution_count": 168,
   "metadata": {
    "collapsed": true
   },
   "outputs": [],
   "source": [
    "def chess2(a,b,k):\n",
    "    if a < 0 or b < 0 or a > 9 or b > 8 or k <= 0: \n",
    "        return 0\n",
    "    dp = [[[0] * (k+1) for _ in range(9)] for _ in range(10)]\n",
    "    dp[a][b][0] = 1\n",
    "    for i in range(10):\n",
    "        for j in range(9):\n",
    "            for step in range(1, k):\n",
    "                dp[i][j][step] =  getNum(dp, x+2, y+1, step-1)\n",
    "                dp[i][j][step] += getNum(dp, x+2, y-1, step-1)\n",
    "                dp[i][j][step] += getNum(dp, x-2, y+1, step-1)\n",
    "                dp[i][j][step] += getNum(dp, x-2, y-1, step-1)\n",
    "                dp[i][j][step] += getNum(dp, x+1, y+2, step-1)\n",
    "                dp[i][j][step] += getNum(dp, x+1, y-2, step-1)\n",
    "                dp[i][j][step] += getNum(dp, x-1, y+2, step-1)\n",
    "                dp[i][j][step] += getNum(dp, x-1, y-2, step-1)\n",
    "    return dp[0][0][k]\n",
    "\n",
    "def getNum(dp, a, b, step):\n",
    "    if a < 0 or b < 0 or a > 9 or b > 8:\n",
    "        return 0\n",
    "    else:\n",
    "        return dp[a][b][step]"
   ]
  },
  {
   "cell_type": "code",
   "execution_count": null,
   "metadata": {},
   "outputs": [],
   "source": []
  },
  {
   "cell_type": "markdown",
   "metadata": {},
   "source": [
    "### 喝咖啡洗咖啡杯问题\n",
    "* 给定一个数组，arr[i]代表第i号咖啡机泡一杯咖啡的时间\n",
    "* 给定一个正数N，表示N个人在等咖啡，每台咖啡机只能同时泡一杯咖啡，咖啡机可以并行泡\n",
    "* 只有一台洗杯机，一次只能洗一个杯子，耗时a，洗完才能洗下一杯\n",
    "* 每个杯子也可以自己挥发干净，耗时b，咖啡杯可以并行挥发\n",
    "* 假设所有人拿到咖啡立刻喝干净，不耗时。返回从开始到所有咖啡机变干净的最短时间。\n",
    "* 四个参数arr，N，a，b"
   ]
  },
  {
   "cell_type": "code",
   "execution_count": 17,
   "metadata": {},
   "outputs": [],
   "source": [
    "class WashMachine:\n",
    "    def __init__(self, timePoint=None, workTime=None):\n",
    "        self.timePoint = timePoint\n",
    "        self.workTime = workTime\n",
    "    def __lt__(self, other):\n",
    "        return self.timePoint + self.workTime < other.timePoint + other.workTime\n",
    "    def __eq__(self, other):\n",
    "        return self.timePoint + self.workTime == other.timePoint + other.workTime\n",
    "    def __str__(self):\n",
    "        return \"timePoint: {}, workTime: {}\".format(self.timePoint, self.workTime)\n",
    "import heapq\n",
    "def fishTime(arr, N, a, b):\n",
    "    drinks = [None] * N\n",
    "    heap = list()\n",
    "    for m in arr:\n",
    "        heapq.heappush(heap, WashMachine(0, m))\n",
    "    for i in range(N):\n",
    "        curMachine = heapq.heappop(heap)\n",
    "        finishTime = curMachine.timePoint + curMachine.workTime\n",
    "        drinks[i] = finishTime\n",
    "        curMachine.timePoint = finishTime\n",
    "        heapq.heappush(heap, curMachine)\n",
    "    print(drinks)\n",
    "    return bestWashTime(drinks, a, b, 0, 0)\n",
    "    \n",
    "def bestWashTime(drinks, wash, air, index, freeTime):\n",
    "    if index == len(drinks):\n",
    "        return 0\n",
    "    #当前杯wash\n",
    "    selfTime1 = max(drinks[index], freeTime) + wash\n",
    "    otherTime1 = bestWashTime(drinks, wash, air, index+1, selfTime1)\n",
    "    maxTime1 = max(selfTime1, otherTime1)\n",
    "    \n",
    "    #当前杯air\n",
    "    selfTime2 = drinks[index] + air\n",
    "    otherTime2 = bestWashTime(drinks, wash, air, index+1, freeTime)\n",
    "    maxTime2 = max(selfTime2, otherTime2)\n",
    "    \n",
    "    return min(maxTime1, maxTime2)\n",
    "    \n",
    "def bestWashTimeDP(drinks, wash, air):\n",
    "    maxTime = 0\n",
    "    for d in drinks:\n",
    "        maxTime = max(d, maxTime) + wash\n",
    "    N = len(drinks)\n",
    "    dp = [[None] * (maxTime+1) for _ in range(N+1)]\n",
    "    for time in range(maxTime+1):\n",
    "        dp[N][time] = 0\n",
    "    for index in range(N-1, -1, -1):\n",
    "        for time in range(maxTime+1):\n",
    "            maxTime1 = max(drinks[index], time) + wash\n",
    "            if maxTime1 > maxTime:\n",
    "                continue #防止越界，且如果超时，说明已经无效解([index]][time]不会被最优解用到)\n",
    "            maxTime1 = max(maxTime1, dp[index+1][maxTime1])\n",
    "            maxTime2 = drinks[index] + air\n",
    "            maxTime2 = max(maxTime2, dp[index+1][time])\n",
    "            dp[index][time] = min(maxTime1,maxTime2)\n",
    "    return dp[0][0]\n",
    "                               "
   ]
  },
  {
   "cell_type": "code",
   "execution_count": 18,
   "metadata": {},
   "outputs": [
    {
     "name": "stdout",
     "output_type": "stream",
     "text": [
      "[1, 2, 3, 3, 4, 5, 6, 6, 7, 7]\n"
     ]
    },
    {
     "data": {
      "text/plain": [
       "7"
      ]
     },
     "execution_count": 18,
     "metadata": {},
     "output_type": "execute_result"
    }
   ],
   "source": [
    "fishTime([3,1,7],10,0,0)"
   ]
  },
  {
   "cell_type": "markdown",
   "metadata": {},
   "source": [
    "### 二维数组最小路径和\n",
    "二维数组matrix，一个人从左上角出发，到达右下角。沿途可以向下或向右，沿途遇到的数字累加就是距离累加和\n",
    "返回最小距离累加和"
   ]
  },
  {
   "cell_type": "code",
   "execution_count": 2,
   "metadata": {},
   "outputs": [],
   "source": [
    "def minPathSum(matrix):\n",
    "    if not matrix or not matrix[0]:\n",
    "        return 0\n",
    "    N = len(matrix)\n",
    "    M = len(matrix[0])\n",
    "    dp = [[0] * M for _ in range(N)]\n",
    "    dp[0][0] = matrix[0][0]\n",
    "    for j in range(1, M):\n",
    "        dp[0][j] = dp[0][j-1] + matrix[0][j]\n",
    "    for i in range(1, N):\n",
    "        dp[i][0] = dp[i-1][0] + matrix[i][0]\n",
    "    for i in range(1, N):\n",
    "        for j in range(1, M):\n",
    "            dp[i][j] = min(dp[i-1][j], dp[i][j-1]) + matrix[i][j]\n",
    "    return dp[N-1][M-1]"
   ]
  },
  {
   "cell_type": "code",
   "execution_count": 3,
   "metadata": {},
   "outputs": [],
   "source": [
    "def minPathSum2(matrix):\n",
    "    if not matrix or not matrix[0]:\n",
    "        return 0\n",
    "    N = len(matrix)\n",
    "    M = len(matrix[0])\n",
    "    dp = [0] * M\n",
    "    dp[0] = matrix[0][0]\n",
    "    for j in range(1, M):\n",
    "        dp[j] = dp[j-1] + matrix[0][j]\n",
    "    for i in range(1, N):\n",
    "        dp[0] = dp[0] + matrix[i][0]\n",
    "        for j in range(1, M):\n",
    "            dp[j] = min(dp[j], [j-1]) + matrix[i][j]\n",
    "    return dp[M-1]"
   ]
  },
  {
   "cell_type": "markdown",
   "metadata": {},
   "source": [
    "### 凑钱\n",
    "给定一个货币数组，其中的值都是正数。再给定一个正数aim。\n",
    "每个值都认为是一张货币，即使面值相同，也认为不同张。返回组成aim的方法数\n",
    "例如arr = [1,1,1]，aim是2， 返回3(第0、1；第1、2；第0、2)"
   ]
  },
  {
   "cell_type": "code",
   "execution_count": 9,
   "metadata": {},
   "outputs": [],
   "source": [
    "def process(arr, index, res):\n",
    "    if index == len(arr):\n",
    "        return 1 if res == 0 else 0\n",
    "    ways = process(arr, index+1, res-arr[index])\n",
    "    ways += process(arr, index+1, res)\n",
    "    return ways\n",
    "\n",
    "def kindsMoney(arr, aim):\n",
    "    if not arr or aim <= 0:\n",
    "        return 0\n",
    "    return process(arr, 0, aim)\n",
    "\n",
    "def kindsMoneyDp(arr, aim):\n",
    "    if not arr or aim <= 0:\n",
    "        return 0\n",
    "    N = len(arr)\n",
    "    dp = [[0] * (aim+1) for _ in range(N+1)]\n",
    "    dp[N][0] = 1\n",
    "    for index in range(N-1, -1, -1):\n",
    "        for rest in range(aim+1):\n",
    "            dp[index][rest] = dp[index+1][rest]\n",
    "            if rest - arr[index] >= 0:\n",
    "                dp[index][rest] += dp[index][rest-arr[index]]\n",
    "    return dp[0][aim]\n",
    "\n",
    "def kindsMoneyDp2(arr, aim):\n",
    "    if not arr or aim <= 0:\n",
    "        return 0\n",
    "    N = len(arr)\n",
    "    dp = [0] * (aim+1)\n",
    "    dp[0] = 1\n",
    "    for i in range(N-1, -1, -1):\n",
    "        for j in range(aim, -1, -1):\n",
    "            if j - arr[i] >= 0:\n",
    "                dp[j] += dp[j - arr[i]] \n",
    "    return dp[aim]"
   ]
  },
  {
   "cell_type": "markdown",
   "metadata": {},
   "source": [
    "### 面值数组组成面值的方法数-张数不限"
   ]
  },
  {
   "cell_type": "code",
   "execution_count": 36,
   "metadata": {},
   "outputs": [],
   "source": [
    "def process(arr, index, res):\n",
    "    if index == len(arr):\n",
    "        return 1 if res == 0 else 0\n",
    "    ways = 0\n",
    "    for j in range(0, res // arr[index]):\n",
    "        ways += process(arr, index+1, res - j * arr[index])\n",
    "    return ways\n",
    "\n",
    "def kindsMoney(arr, aim):\n",
    "    if not arr or aim <= 0:\n",
    "        return 0\n",
    "    return process(arr, 0, aim)\n",
    "\n",
    "def kindsMoneyDp(arr, aim):\n",
    "    if not arr or aim <= 0:\n",
    "        return 0\n",
    "    N = len(arr)\n",
    "    dp = [0] * (aim+1)\n",
    "    dp[0] = 1\n",
    "    for i in range(N-1, -1, -1):\n",
    "        for j in range(aim,-1,-1):\n",
    "            if j - arr[i] >= 0:\n",
    "                dp[j] += dp[j - arr[i]]\n"
   ]
  },
  {
   "cell_type": "markdown",
   "metadata": {},
   "source": [
    "### 货币数组组成面值的方法数-同值无差别(张数限定)"
   ]
  },
  {
   "cell_type": "code",
   "execution_count": 37,
   "metadata": {},
   "outputs": [],
   "source": [
    "def process(arr, index, res, count):\n",
    "    if index == len(arr):\n",
    "        return 1 if res == 0 else 0\n",
    "    ways = 0\n",
    "    for j in range(0, min(res // arr[index], count[index])+1):\n",
    "        ways += process(arr, index+1, res - j * arr[index])\n",
    "    return ways\n",
    "\n",
    "def kindsMoney(arr, aim):\n",
    "    if not arr or aim <= 0:\n",
    "        return 0\n",
    "    count = dict()\n",
    "    for i in arr:\n",
    "        if i in count:\n",
    "            count[i] += 1\n",
    "        else:\n",
    "            count[i] = 1\n",
    "    return process(sorted(count.keys()), 0, aim, count)\n",
    "\n",
    "\n",
    "def kindsMoneyDp(arr, aim):\n",
    "    if not arr or aim <= 0:\n",
    "        return 0\n",
    "    count = dict()\n",
    "    for i in arr:\n",
    "        if i in count:\n",
    "            count[i] += 1\n",
    "        else:\n",
    "            count[i] = 1\n",
    "    arr = sorted(count.keys())\n",
    "    dp = [0] * (aim + 1)\n",
    "    dp[0] = 1\n",
    "    for i in range(N-1, -1, -1):\n",
    "        last = dp[:]\n",
    "        for j in range(aim+1):\n",
    "            if j - arr[i] >= 0:\n",
    "                dp[j] += dp[j - arr[i]]\n",
    "            if j - (count[i]+1) * arr[i] >= 0:\n",
    "                dp[j] -= last[j - (count[i]+1) * arr[i]]\n",
    "    return dp[aim]"
   ]
  },
  {
   "cell_type": "markdown",
   "metadata": {},
   "source": [
    "### 醉汉问题\n",
    "给定5个参数，N、M、row、col，k 表示在NM区域上，醉汉bob初始在(row,col)位置 bob一共要迈出k步，每步都等概率向上、下、左、右四个方向走一个单位。任何时候bob离开NM区域，就立即死亡 返回k步之后，bob还活着的概率"
   ]
  },
  {
   "cell_type": "code",
   "execution_count": 21,
   "metadata": {},
   "outputs": [],
   "source": [
    "#4^k\n",
    "def process(N,M,x,y,rest):\n",
    "    if rest == 0:\n",
    "        return 0 if 0 <= x < N and 0 <= y < M else 1\n",
    "    if x < 0 or y < 0 or x >= N or y >= M:\n",
    "        return 4 ** rest\n",
    "    death = 0\n",
    "    death += process(N,M,x+1,y,rest-1)\n",
    "    death += process(N,M,x-1,y,rest-1)\n",
    "    death += process(N,M,x,y+1,rest-1)\n",
    "    death += process(N,M,x,y-1,rest-1)\n",
    "    return death\n",
    "\n",
    "def bob(N,M,row,col,K):\n",
    "    if N < 0 or M <0 or row <0 or row >= N or col >= M or K < 0:\n",
    "        return 0\n",
    "    base = 4 ** K\n",
    "    dead = process(N,M,row,col,K)\n",
    "    return 1 - dead * 1.0 / base"
   ]
  },
  {
   "cell_type": "code",
   "execution_count": 28,
   "metadata": {},
   "outputs": [],
   "source": [
    "def bob2(N,M,row,col,K):\n",
    "    if N < 0 or M <0 or row <0 or row >= N or col < 0 or col >= M or K < 0:\n",
    "        return 0\n",
    "    base = 4 ** K\n",
    "    dp = [[[0] * (K+1) for _ in range(M)] for _ in range(N)]\n",
    "\n",
    "    for rest in range(1, K+1):\n",
    "        for i in range(N):\n",
    "            for j in range(M):\n",
    "                dp[i][j][rest] = 0\n",
    "                dp[i][j][rest] += step(N,M,i+1,j,rest-1,dp)\n",
    "                dp[i][j][rest] += step(N,M,i-1,j,rest-1,dp)\n",
    "                dp[i][j][rest] += step(N,M,i,j+1,rest-1,dp)\n",
    "                dp[i][j][rest] += step(N,M,i,j-1,rest-1,dp)\n",
    "               \n",
    "    return 1 - dp[row][col][K] * 1.0 / base\n",
    "\n",
    "def step(N,M,row,col,rest,dp):\n",
    "    if row <0 or row >= N or col < 0 or col >= M:\n",
    "        return 4 ** rest\n",
    "    return dp[row][col][rest]"
   ]
  },
  {
   "cell_type": "code",
   "execution_count": 29,
   "metadata": {},
   "outputs": [
    {
     "data": {
      "text/plain": [
       "0.7300376892089844"
      ]
     },
     "execution_count": 29,
     "metadata": {},
     "output_type": "execute_result"
    }
   ],
   "source": [
    "#2,3,10,8,9\n",
    "bob2(8,9,2,3,10)"
   ]
  },
  {
   "cell_type": "code",
   "execution_count": 27,
   "metadata": {},
   "outputs": [
    {
     "data": {
      "text/plain": [
       "0.7300376892089844"
      ]
     },
     "execution_count": 27,
     "metadata": {},
     "output_type": "execute_result"
    }
   ],
   "source": [
    "bob(8,9,2,3,10)"
   ]
  },
  {
   "cell_type": "markdown",
   "metadata": {},
   "source": [
    "### 英雄砍死怪兽的概率\n",
    "* 给定三个参数，N，M，K。怪兽有N滴血，等着英雄来砍。\n",
    "* 英雄每打一次，都会让怪兽流失[0,M]的血量，到底流多少？每次在[0,M]上等概率获得一个值。\n",
    "* 问K次打击后，英雄把怪兽砍死的概率（没到k次也算砍死了）"
   ]
  },
  {
   "cell_type": "code",
   "execution_count": 34,
   "metadata": {},
   "outputs": [],
   "source": [
    "def monster(N,M,K):\n",
    "    if N <= 0:\n",
    "        return 1.0\n",
    "    if M <= 0 or K <= 0:\n",
    "        return 0.0\n",
    "    base = (M+1) ** K\n",
    "    death = process(N, M, K)\n",
    "    return death * 1.0 / base\n",
    "def process(hp, M, rest):\n",
    "    if hp <= 0:\n",
    "        return (M+1) ** rest\n",
    "    if rest == 0:\n",
    "        return 0\n",
    "    #hp > 0:\n",
    "    death = 0\n",
    "    for i in range(M+1):\n",
    "        death += process(hp-i, M, rest-1)\n",
    "    return death"
   ]
  },
  {
   "cell_type": "code",
   "execution_count": 35,
   "metadata": {},
   "outputs": [
    {
     "data": {
      "text/plain": [
       "0.7785493827160493"
      ]
     },
     "execution_count": 35,
     "metadata": {},
     "output_type": "execute_result"
    }
   ],
   "source": [
    "monster(10,5,5)"
   ]
  },
  {
   "cell_type": "code",
   "execution_count": 56,
   "metadata": {},
   "outputs": [],
   "source": [
    "def monsterDp(N,M,K):\n",
    "    if N <= 0:\n",
    "        return 1.0\n",
    "    if M <= 0 or K <= 0:\n",
    "        return 0.0\n",
    "    base = (M+1) ** K\n",
    "    dp = [0] * (N+1)\n",
    "    dp[0] = 1\n",
    "    for rest in range(1, K+1):\n",
    "        last = dp[:]\n",
    "        dp[0] = (M+1) ** rest\n",
    "        for hp in range(1,N+1):\n",
    "            if hp - 1 >= 0:\n",
    "                dp[hp] += dp[hp-1]\n",
    "            if hp - 1 - M >= 0:\n",
    "                dp[hp] -= last[hp-1-M]\n",
    "            else:\n",
    "                dp[hp] -= last[0]\n",
    "        \n",
    "    death = dp[N]\n",
    "    print(base)\n",
    "    return death * 1.0 / base\n",
    "    \n",
    "def hit(dp, M, hp, m, rest):\n",
    "    if hp < 0:\n",
    "        return (M+1) ** rest\n",
    "    else:\n",
    "        return dp[hp][m][rest]\n",
    "    "
   ]
  },
  {
   "cell_type": "code",
   "execution_count": 55,
   "metadata": {},
   "outputs": [
    {
     "name": "stdout",
     "output_type": "stream",
     "text": [
      "[6, 5, 4, 3, 2, 1, 0, 0, 0, 0, 0]\n",
      "[36, 35, 33, 30, 26, 21, 15, 10, 6, 3, 1]\n",
      "[216, 215, 212, 206, 196, 181, 160, 135, 108, 81, 56]\n",
      "[1296, 1295, 1291, 1281, 1261, 1226, 1170, 1090, 986, 861, 721]\n",
      "[7776, 7775, 7770, 7755, 7720, 7650, 7524, 7319, 7014, 6594, 6054]\n",
      "7776\n"
     ]
    },
    {
     "data": {
      "text/plain": [
       "0.7785493827160493"
      ]
     },
     "execution_count": 55,
     "metadata": {},
     "output_type": "execute_result"
    }
   ],
   "source": [
    "monsterDp(10,5,5)"
   ]
  },
  {
   "cell_type": "markdown",
   "metadata": {},
   "source": [
    "### 货币数\n",
    "一个面值数组，里面的每种面值无限张。返回组成aim的最少货币张数。"
   ]
  },
  {
   "cell_type": "code",
   "execution_count": 64,
   "metadata": {},
   "outputs": [],
   "source": [
    "def minMoney(arr, aim):\n",
    "    if not arr or aim < 0:\n",
    "        return -1\n",
    "    if aim == 0:\n",
    "        return 0\n",
    "    return process(arr, 0, aim)\n",
    "def process(arr, index, rest):\n",
    "    if index == len(arr):\n",
    "        return 0 if rest == 0 else -1\n",
    "    ans = -1\n",
    "    for num in range(rest // arr[index] + 1):\n",
    "        p = process(arr, index+1, rest-arr[index]*num)\n",
    "        if p != -1:\n",
    "            p = p + num\n",
    "            if ans != -1:\n",
    "                ans = min(ans, p)\n",
    "            else:\n",
    "                ans = p\n",
    "    return ans"
   ]
  },
  {
   "cell_type": "code",
   "execution_count": 74,
   "metadata": {},
   "outputs": [],
   "source": [
    "def minMoneyDp(arr, aim):\n",
    "    if not arr or aim < 0:\n",
    "        return -1\n",
    "    if aim == 0:\n",
    "        return 0\n",
    "    N = len(arr)\n",
    "    dp = [-1] * (aim+1)\n",
    "    dp[0] = 0\n",
    "    for index in range(N-1, -1, -1):\n",
    "        for rest in range(0, aim+1):\n",
    "            if rest - arr[index] >= 0 and dp[rest-arr[index]] != -1:\n",
    "                if dp[rest] == -1:\n",
    "                    dp[rest] = dp[rest-arr[index]] + 1\n",
    "                else:\n",
    "                    dp[rest] = min(dp[rest], dp[rest-arr[index]] + 1)\n",
    "    return dp[aim]"
   ]
  },
  {
   "cell_type": "code",
   "execution_count": 75,
   "metadata": {},
   "outputs": [
    {
     "data": {
      "text/plain": [
       "2"
      ]
     },
     "execution_count": 75,
     "metadata": {},
     "output_type": "execute_result"
    }
   ],
   "source": [
    "minMoney([1,23,200], 223)"
   ]
  },
  {
   "cell_type": "code",
   "execution_count": 76,
   "metadata": {},
   "outputs": [
    {
     "data": {
      "text/plain": [
       "2"
      ]
     },
     "execution_count": 76,
     "metadata": {},
     "output_type": "execute_result"
    }
   ],
   "source": [
    "minMoneyDp([1,23,200], 223)"
   ]
  },
  {
   "cell_type": "markdown",
   "metadata": {},
   "source": [
    "### 裂开数字的方法数\n",
    "* 给定一个正数1，裂开的方法有一种；\n",
    "* 给定一个正数2，裂开的方法有两种，{1和1}、{2}；\n",
    "* 给定一个正数3，裂开的方法有三种，{1,1,1}、{1,2}、{3}；\n",
    "* 给定一个正数4，裂开的方法有五种，{1,1,1,1}、{1,1,2}、{1,3}、{2,2}、{4}\n",
    "* 求正数n的裂开方法数"
   ]
  },
  {
   "cell_type": "code",
   "execution_count": 77,
   "metadata": {},
   "outputs": [],
   "source": [
    "def splitnum(N):\n",
    "    if N < 1:\n",
    "        return -1\n",
    "    return process(1, N)\n",
    "\n",
    "def process(pre, rest):\n",
    "    if rest < 0:\n",
    "        return 0\n",
    "    if rest == 0:\n",
    "        return 1\n",
    "    ways = 0\n",
    "    for num in range(pre, rest+1):\n",
    "        ways += process(num, rest - num)\n",
    "    return ways"
   ]
  },
  {
   "cell_type": "code",
   "execution_count": 82,
   "metadata": {},
   "outputs": [],
   "source": [
    "def splitDp(N):\n",
    "    if N < 1:\n",
    "        return -1\n",
    "    dp = [[0] * (N+1) for _ in range(N+1)]\n",
    "    for pre in range(N+1):\n",
    "        dp[pre][0] = 1\n",
    "    for rest in range(1, N+1):\n",
    "        for pre in range(1, N+1):\n",
    "            for num in range(pre, rest+1):\n",
    "                dp[pre][rest] += dp[num][rest-num]\n",
    "    return dp[1][N]\n",
    "            "
   ]
  },
  {
   "cell_type": "code",
   "execution_count": 87,
   "metadata": {},
   "outputs": [
    {
     "data": {
      "text/plain": [
       "101"
      ]
     },
     "execution_count": 87,
     "metadata": {},
     "output_type": "execute_result"
    }
   ],
   "source": [
    "splitDp(13)"
   ]
  },
  {
   "cell_type": "markdown",
   "metadata": {},
   "source": [
    "### 正数数组分割为累加和接近的两个集合\n",
    "给定一个正数数组arr，请把arr中的所有数分成两个集合，尽可能让两个集合的累加和接近。\n",
    "在最接近的情况下，返回较小的那个集合的累加和"
   ]
  },
  {
   "cell_type": "code",
   "execution_count": 108,
   "metadata": {},
   "outputs": [],
   "source": [
    "def splitSum(arr):\n",
    "    if not arr:\n",
    "        return list()\n",
    "    S = sum(arr)\n",
    "    ans = process2(arr, 0, int(S * 1.0 / 2), 0)\n",
    "    return ans\n",
    "\n",
    "def process2(arr, index, aim, cur):\n",
    "    if cur > aim:\n",
    "        return None\n",
    "    if index == len(arr):\n",
    "        return cur\n",
    "    ans = process2(arr, index+1, aim, cur+arr[index])\n",
    "    skip = process2(arr, index+1, aim, cur)\n",
    "    if ans is None:\n",
    "        ans = skip\n",
    "    if skip is not None:\n",
    "        ans = max(ans, skip)\n",
    "    return ans  "
   ]
  },
  {
   "cell_type": "code",
   "execution_count": 109,
   "metadata": {},
   "outputs": [
    {
     "data": {
      "text/plain": [
       "7"
      ]
     },
     "execution_count": 109,
     "metadata": {},
     "output_type": "execute_result"
    }
   ],
   "source": [
    "splitSum([1,2,3,4,5])"
   ]
  },
  {
   "cell_type": "code",
   "execution_count": 110,
   "metadata": {},
   "outputs": [],
   "source": [
    "def splitDp(arr):\n",
    "    if not arr:\n",
    "        return list()\n",
    "    S = sum(arr)\n",
    "    aim = int(S*1.0 / 2)\n",
    "    N = len(arr)\n",
    "    dp = [[None] * (aim+1) for _ in range(N+1)]\n",
    "    for cur in range(aim+1):\n",
    "        dp[N][cur] = cur\n",
    "    for index in range(N-1, -1, -1):\n",
    "        for cur in range(aim+1):\n",
    "            dp[index][cur] = dp[index+1][cur]\n",
    "            if cur + arr[index] <= aim and dp[index+1][cur + arr[index]] is not None:\n",
    "                if dp[index][cur] is None:\n",
    "                    dp[index][cur] = dp[index+1][cur + arr[index]]\n",
    "                else:\n",
    "                    dp[index][cur] = max(dp[index][cur], dp[index+1][cur + arr[index]])\n",
    "    return dp[0][0]\n",
    "            "
   ]
  },
  {
   "cell_type": "code",
   "execution_count": 111,
   "metadata": {},
   "outputs": [
    {
     "data": {
      "text/plain": [
       "7"
      ]
     },
     "execution_count": 111,
     "metadata": {},
     "output_type": "execute_result"
    }
   ],
   "source": [
    "splitDp([1,2,3,4,5])"
   ]
  },
  {
   "cell_type": "code",
   "execution_count": 136,
   "metadata": {},
   "outputs": [],
   "source": [
    "def splitDp2(arr):\n",
    "    if not arr:\n",
    "        return 0\n",
    "    S = sum(arr)\n",
    "    aim = int(S*1.0 / 2)\n",
    "    N = len(arr)\n",
    "    dp = [None] * (aim+1)\n",
    "    for cur in range(aim+1):\n",
    "        dp[cur] = cur\n",
    "    for index in range(N-1, -1, -1):\n",
    "        for cur in range(aim+1):\n",
    "            if cur + arr[index] <= aim and dp[cur + arr[index]] is not None:\n",
    "                if dp[cur] is None:\n",
    "                    dp[cur] = dp[cur + arr[index]]\n",
    "                else:\n",
    "                    dp[cur] = max(dp[cur], dp[cur + arr[index]])\n",
    "    return dp[0]\n",
    "            "
   ]
  },
  {
   "cell_type": "code",
   "execution_count": 121,
   "metadata": {},
   "outputs": [
    {
     "data": {
      "text/plain": [
       "7"
      ]
     },
     "execution_count": 121,
     "metadata": {},
     "output_type": "execute_result"
    }
   ],
   "source": [
    "splitDp2([1,2,3,4,5])"
   ]
  },
  {
   "cell_type": "code",
   "execution_count": 306,
   "metadata": {},
   "outputs": [],
   "source": [
    "def splitSumClosed(arr):\n",
    "    if not arr or len(arr) < 2:\n",
    "        return 0\n",
    "    s = 0\n",
    "    for i in arr:\n",
    "        s += i \n",
    "    return process(arr, 0, int(s / 2)) #，s >> 2 不行，因为s = -1时， s>>2=-1\n",
    "\n",
    "#arr[i,...]自由选择，返回尽量接近rest但不能超过rest的情况下，最接近的累加和是多少\n",
    "\n",
    "def process(arr, i, rest):\n",
    "    if rest < 0:\n",
    "        return 0\n",
    "    if i == len(arr):\n",
    "        return 0\n",
    "    else:\n",
    "        p1 = process(arr, i+1, rest)\n",
    "        p2 = 0 if rest - arr[i] < 0 else process(arr, i+1, rest - arr[i]) + arr[i]\n",
    "        return max(p1,p2)\n",
    "    \n",
    "def dp(arr):\n",
    "    if not arr or len(arr) < 2:\n",
    "        return 0\n",
    "    s = 0\n",
    "    for i in arr:\n",
    "        s += i \n",
    "    aim = int(s / 2)\n",
    "    N = len(arr)\n",
    "    dp = [[0]*(aim+1) for _ in range(N+1)]\n",
    "    #dp[N][rest] = 0\n",
    "    for index in range(N-1, -1, -1):\n",
    "        for rest in range(aim + 1):\n",
    "            dp[index][rest] = dp[index+1][rest]\n",
    "            if rest - arr[index] >= 0:\n",
    "                dp[index][rest] = max(dp[index][rest], dp[index+1][rest - arr[index]] + arr[index])\n",
    "    return dp[0][aim]"
   ]
  },
  {
   "cell_type": "code",
   "execution_count": 307,
   "metadata": {},
   "outputs": [
    {
     "name": "stdout",
     "output_type": "stream",
     "text": [
      "succeed.\n"
     ]
    }
   ],
   "source": [
    "import random\n",
    "def generateRandomArr(maxLen, maxValue):\n",
    "    arr = list()\n",
    "    for i in range(maxLen):\n",
    "        arr.append(random.randint(0, maxValue))\n",
    "    return arr\n",
    "\n",
    "testTime = 10000\n",
    "maxValue = 30\n",
    "maxLen = 20\n",
    "succeed=True\n",
    "for _ in range(testTime):\n",
    "    value = random.randint(0, maxValue)\n",
    "    length = random.randint(0, maxLen)\n",
    "    arr = generateRandomArr(length, value)\n",
    "    ans1 = splitDp2(arr)\n",
    "    ans2 = dp(arr)\n",
    "    if ans1 != ans2:\n",
    "        print(ans1, ans2)\n",
    "        print(\"something wrong.\")\n",
    "        succeed = False\n",
    "        break\n",
    "if succeed:\n",
    "    print(\"succeed.\")"
   ]
  },
  {
   "cell_type": "markdown",
   "metadata": {},
   "source": [
    "### <span class=\"burk\">给定一个正数数组arr，请把arr中的所有数分成两个集合，尽可能让两个集合的累加和接近。</span>\n",
    "\n",
    "要求arr长度为偶数，两个集合个数一样多；长度为奇数，两个集合的个数只差一个\n",
    "在最接近的情况下，返回较小的那个集合的累加和"
   ]
  },
  {
   "cell_type": "code",
   "execution_count": 312,
   "metadata": {},
   "outputs": [],
   "source": [
    "def process(arr, i, picks, rest):\n",
    "    if i == len(arr):\n",
    "        return 0 if picks == 0 else -1\n",
    "    else:\n",
    "        p1 = process(arr, i+1, picks, rest)\n",
    "        p2 = -1\n",
    "        if rest - arr[i]>= 0:\n",
    "            nxt = process(arr, i+1, picks - 1, rest - arr[i])\n",
    "            if nxt != -1:\n",
    "                p2 = nxt + arr[i]\n",
    "        return max(p1,p2)\n",
    "        \n",
    "    \n",
    "def splitNumClosedLimit(arr):\n",
    "    if not arr or len(arr) < 2:\n",
    "        return 0\n",
    "    s = 0\n",
    "    for i in arr:\n",
    "        s+= i\n",
    "    aim = int(s / 2)\n",
    "    if len(arr) & 1 == 0:\n",
    "        return process(arr, 0, length//2, aim)\n",
    "    else:\n",
    "        p1 = process(arr, 0, length//2, aim)\n",
    "        p2 = process(arr, 0, length//2 + 1, aim)\n",
    "        return max(p1,p2)"
   ]
  },
  {
   "cell_type": "code",
   "execution_count": 409,
   "metadata": {},
   "outputs": [],
   "source": [
    "def dpZuo(arr):\n",
    "    if not arr or len(arr) < 2:\n",
    "        return 0\n",
    "    s = 0\n",
    "    for i in arr:\n",
    "        s+= i\n",
    "    aim = int(s / 2)\n",
    "    N = len(arr)\n",
    "    M = N // 2 + 1 #picks向上取整\n",
    "    dp = [[[-1] * (aim+1) for _ in range(M+1)] for _ in range(N+1)]\n",
    "    for rest in range(aim+1):\n",
    "        dp[N][0][rest] = 0\n",
    "    for index in range(N-1, -1, -1):\n",
    "        for picks in range(0, M+1):\n",
    "            for rest in range(aim+1):\n",
    "\n",
    "                p1 = dp[index+1][picks][rest]\n",
    "                p2 = -1\n",
    "                nxt = -1\n",
    "                if arr[index] <= rest and picks > 0:\n",
    "                    nxt = dp[index+1][picks-1][rest - arr[index]]\n",
    "                if nxt != -1:\n",
    "                    p2 = arr[index] + nxt\n",
    "                dp[index][picks][rest] = max(p1,p2)\n",
    "    if len(arr) & 1 == 0:\n",
    "        return dp[0][length//2][aim]\n",
    "    else:\n",
    "        p1 = dp[0][length//2][aim]\n",
    "        p2 = dp[0][length//2 + 1][aim]\n",
    "        return max(p1,p2) \n",
    "    \n",
    "    "
   ]
  },
  {
   "cell_type": "code",
   "execution_count": 410,
   "metadata": {},
   "outputs": [
    {
     "name": "stdout",
     "output_type": "stream",
     "text": [
      "succeed.\n"
     ]
    }
   ],
   "source": [
    "import random\n",
    "def generateRandomArr(maxLen, maxValue):\n",
    "    arr = list()\n",
    "    for i in range(maxLen):\n",
    "        arr.append(random.randint(0, maxValue))\n",
    "    return arr\n",
    "\n",
    "testTime = 10000\n",
    "maxValue = 100\n",
    "maxLen = 10\n",
    "succeed=True\n",
    "for _ in range(testTime):\n",
    "    value = random.randint(0, maxValue)\n",
    "    length = random.randint(0, maxLen)\n",
    "    arr = generateRandomArr(length, value)\n",
    "    ans1 = splitSum(arr)\n",
    "    ans2 = dpZuo(arr)\n",
    "    if ans1 != ans2:\n",
    "        print(ans1)\n",
    "        print(ans2)\n",
    "        print(\"something wrong.\")\n",
    "        succeed = False\n",
    "        break\n",
    "if succeed:\n",
    "    print(\"succeed.\")"
   ]
  },
  {
   "cell_type": "code",
   "execution_count": 393,
   "metadata": {},
   "outputs": [
    {
     "data": {
      "text/plain": [
       "[0, 1]"
      ]
     },
     "execution_count": 393,
     "metadata": {},
     "output_type": "execute_result"
    }
   ],
   "source": [
    "arr"
   ]
  },
  {
   "cell_type": "code",
   "execution_count": 380,
   "metadata": {},
   "outputs": [
    {
     "data": {
      "text/plain": [
       "3"
      ]
     },
     "execution_count": 380,
     "metadata": {},
     "output_type": "execute_result"
    }
   ],
   "source": [
    "sum(arr)"
   ]
  },
  {
   "cell_type": "code",
   "execution_count": 309,
   "metadata": {},
   "outputs": [],
   "source": [
    "def splitSum(arr):\n",
    "    if not arr:\n",
    "        return 0\n",
    "    S = sum(arr)\n",
    "    N = len(arr)\n",
    "    if N % 2 == 0:\n",
    "        rest= int(N/2)\n",
    "        ans = process2(arr, 0, int(S * 1.0 / 2), rest, 0)\n",
    "        \n",
    "    else:\n",
    "        rest= int(N/2)\n",
    "        ans = process2(arr, 0, int(S * 1.0 / 2), rest, 0)\n",
    "        ans2 = process2(arr, 0, int(S * 1.0 / 2), rest+1, 0)\n",
    "        ans = max(ans,ans2)\n",
    "    return ans\n",
    "\n",
    "def process2(arr, index, aim, rest, cur):\n",
    "    if rest < 0:\n",
    "        return 0\n",
    "    if aim < cur:\n",
    "        return 0\n",
    "    if index == len(arr):\n",
    "        if rest == 0:\n",
    "            return cur\n",
    "        else:\n",
    "            return 0\n",
    "    ans = process2(arr, index+1, aim, rest-1, cur+arr[index]) #隐含条件， rest-1>= 0\n",
    "    skip = process2(arr, index+1, aim,  rest, cur)            #所以上述如果rest=0，那么=index+1\n",
    "    return max(ans,skip) "
   ]
  },
  {
   "cell_type": "code",
   "execution_count": 412,
   "metadata": {},
   "outputs": [],
   "source": [
    "def splitDpCertainCount2(arr):\n",
    "    if not arr:\n",
    "        return 0\n",
    "    S = sum(arr)\n",
    "    aim = int(S*1.0 / 2)\n",
    "    N = len(arr)\n",
    "    if N % 2 == 0:\n",
    "        rest= int(N/2)\n",
    "    else:\n",
    "        rest= int(N/2) + 1\n",
    "\n",
    "    dp = [[[0] * (aim+1) for _ in range(rest+1)] for _ in range(N+1)]\n",
    "    \n",
    "    for cur in range(aim+1):\n",
    "        dp[N][0][cur] = cur #这里只做了index=N，而当rest=0，index！=N时，其实也没有填。所以下面r in range时要加上从0遍历\n",
    "        \n",
    "    for index in range(N-1, -1, -1):\n",
    "        for r in range(0, rest+1):\n",
    "            for cur in range(aim+1):\n",
    "                dp[index][r][cur] = dp[index+1][r][cur]\n",
    "                if cur+arr[index] <= aim and r > 0:\n",
    "                    dp[index][r][cur] = max(dp[index][r][cur], dp[index+1][r-1][cur+arr[index]])\n",
    "    import numpy as np\n",
    "    if N % 2 == 0:\n",
    "        return dp[0][rest][0]\n",
    "    else:\n",
    "        p1 = dp[0][rest][0]\n",
    "        p2 = dp[0][rest-1][0]\n",
    "        return max(p1,p2)"
   ]
  },
  {
   "cell_type": "code",
   "execution_count": 399,
   "metadata": {
    "scrolled": true
   },
   "outputs": [
    {
     "data": {
      "text/plain": [
       "[12, 25, 11]"
      ]
     },
     "execution_count": 399,
     "metadata": {},
     "output_type": "execute_result"
    }
   ],
   "source": [
    "arr"
   ]
  },
  {
   "cell_type": "code",
   "execution_count": 400,
   "metadata": {},
   "outputs": [
    {
     "name": "stdout",
     "output_type": "stream",
     "text": [
      "24 2 3\n",
      "[[[0, 1, 2, 3, 4, 5, 6, 7, 8, 9, 10, 11, 12, 13, 14, 15, 16, 17, 18, 19, 20, 21, 22, 23, 24], [12, 13, 14, 15, 16, 17, 18, 19, 20, 21, 22, 23, 24, 24, 0, 0, 0, 0, 0, 0, 0, 0, 0, 0, 0], [23, 24, 0, 0, 0, 0, 0, 0, 0, 0, 0, 0, 0, 0, 0, 0, 0, 0, 0, 0, 0, 0, 0, 0, 0]], [[0, 1, 2, 3, 4, 5, 6, 7, 8, 9, 10, 11, 12, 13, 14, 15, 16, 17, 18, 19, 20, 21, 22, 23, 24], [11, 12, 13, 14, 15, 16, 17, 18, 19, 20, 21, 22, 23, 24, 0, 0, 0, 0, 0, 0, 0, 0, 0, 0, 0], [0, 0, 0, 0, 0, 0, 0, 0, 0, 0, 0, 0, 0, 0, 0, 0, 0, 0, 0, 0, 0, 0, 0, 0, 0]], [[0, 1, 2, 3, 4, 5, 6, 7, 8, 9, 10, 11, 12, 13, 14, 15, 16, 17, 18, 19, 20, 21, 22, 23, 24], [11, 12, 13, 14, 15, 16, 17, 18, 19, 20, 21, 22, 23, 24, 0, 0, 0, 0, 0, 0, 0, 0, 0, 0, 0], [0, 0, 0, 0, 0, 0, 0, 0, 0, 0, 0, 0, 0, 0, 0, 0, 0, 0, 0, 0, 0, 0, 0, 0, 0]], [[0, 1, 2, 3, 4, 5, 6, 7, 8, 9, 10, 11, 12, 13, 14, 15, 16, 17, 18, 19, 20, 21, 22, 23, 24], [0, 0, 0, 0, 0, 0, 0, 0, 0, 0, 0, 0, 0, 0, 0, 0, 0, 0, 0, 0, 0, 0, 0, 0, 0], [0, 0, 0, 0, 0, 0, 0, 0, 0, 0, 0, 0, 0, 0, 0, 0, 0, 0, 0, 0, 0, 0, 0, 0, 0]]]\n",
      "(4, 3, 25)\n",
      "\n"
     ]
    },
    {
     "data": {
      "text/plain": [
       "23"
      ]
     },
     "execution_count": 400,
     "metadata": {},
     "output_type": "execute_result"
    }
   ],
   "source": [
    "splitDpCertainCount2(arr)"
   ]
  },
  {
   "cell_type": "code",
   "execution_count": 337,
   "metadata": {},
   "outputs": [],
   "source": [
    "def splitDpCertainCount(arr):\n",
    "    if not arr:\n",
    "        return 0\n",
    "    S = sum(arr)\n",
    "    aim = int(S*1.0 / 2)\n",
    "    N = len(arr)\n",
    "    if N % 2 == 0:\n",
    "        rest= int(N/2)\n",
    "    else:\n",
    "        rest= int(N/2) + 1\n",
    "\n",
    "    dp = [[None] * (aim+1) for _ in range(rest+1)]\n",
    "    for cur in range(aim+1):\n",
    "        dp[0][cur] = cur\n",
    "    for index in range(N-1, -1, -1):\n",
    "        for r in range(1, rest+1):\n",
    "            for cur in range(aim, -1, -1):\n",
    "                if cur + arr[index] <= aim and dp[r-1][cur + arr[index]] is not None:\n",
    "                    if dp[r][cur] is None:\n",
    "                        dp[r][cur] = dp[r-1][cur + arr[index]]\n",
    "                    else:\n",
    "                        dp[r][cur] = max(dp[r][cur], dp[r-1][cur + arr[index]])\n",
    "    print(rest)\n",
    "    print(dp)\n",
    "    if N % 2 == 0:\n",
    "        return dp[rest][0]\n",
    "    else:\n",
    "        p1 = 0 if dp[rest-1][0] is None else dp[rest-1][0]\n",
    "        p2 = 0 if dp[rest][0] is None else dp[rest][0]\n",
    "        print(p1,p2)\n",
    "        return max(p1,p2)"
   ]
  },
  {
   "cell_type": "code",
   "execution_count": 338,
   "metadata": {
    "scrolled": true
   },
   "outputs": [
    {
     "name": "stdout",
     "output_type": "stream",
     "text": [
      "2\n",
      "[[0, 1, 2, 3, 4, 5, 6, 7, 8], [7, 8, 8, 7, 8, None, None, None, None], [8, None, None, None, None, None, None, None, None]]\n",
      "7 8\n"
     ]
    },
    {
     "data": {
      "text/plain": [
       "8"
      ]
     },
     "execution_count": 338,
     "metadata": {},
     "output_type": "execute_result"
    }
   ],
   "source": [
    "splitDpCertainCount(arr)"
   ]
  },
  {
   "cell_type": "code",
   "execution_count": 328,
   "metadata": {},
   "outputs": [
    {
     "data": {
      "text/plain": [
       "[7, 6, 4]"
      ]
     },
     "execution_count": 328,
     "metadata": {},
     "output_type": "execute_result"
    }
   ],
   "source": [
    "arr"
   ]
  },
  {
   "cell_type": "code",
   "execution_count": null,
   "metadata": {},
   "outputs": [],
   "source": []
  },
  {
   "cell_type": "code",
   "execution_count": 291,
   "metadata": {},
   "outputs": [
    {
     "data": {
      "text/plain": [
       "[1, 23]"
      ]
     },
     "execution_count": 291,
     "metadata": {},
     "output_type": "execute_result"
    }
   ],
   "source": [
    "arr"
   ]
  },
  {
   "cell_type": "code",
   "execution_count": 285,
   "metadata": {},
   "outputs": [
    {
     "data": {
      "text/plain": [
       "17"
      ]
     },
     "execution_count": 285,
     "metadata": {},
     "output_type": "execute_result"
    }
   ],
   "source": [
    "splitDpCertainCount2(arr)"
   ]
  },
  {
   "cell_type": "markdown",
   "metadata": {},
   "source": [
    "### N皇后问题"
   ]
  },
  {
   "cell_type": "code",
   "execution_count": 34,
   "metadata": {},
   "outputs": [],
   "source": [
    "def N_Queens(N):\n",
    "    if N < 0 or N > 31:\n",
    "        return -1\n",
    "    if N == 1:\n",
    "        return 1\n",
    "    if N == 2 or N == 3:\n",
    "        return 0\n",
    "    final_status = 2 ** N - 1\n",
    "    left_diag_limit = 0\n",
    "    right_diag_limit = 0\n",
    "    column_limit = 0\n",
    "    ans = process(final_status, column_limit, left_diag_limit, right_diag_limit)\n",
    "    return ans\n",
    "\n",
    "def process(final_status, column_limit, left_diag_limit, right_diag_limit):\n",
    "    if final_status == column_limit:\n",
    "        return 1\n",
    "    ans = 0\n",
    "    candidate_cols = (~(column_limit|left_diag_limit|right_diag_limit)) & final_status\n",
    "    while candidate_cols != 0:\n",
    "        right_one = candidate_cols & (~candidate_cols + 1)\n",
    "        cur_attempt = column_limit | right_one\n",
    "        left_diag_attempt = left_diag_limit | right_one\n",
    "        left_diag_attempt <<= 1\n",
    "        right_diag_attempt = right_diag_limit | right_one\n",
    "        right_diag_attempt >>= 1\n",
    "        ans += process(final_status, cur_attempt, left_diag_attempt, right_diag_attempt)\n",
    "        candidate_cols -= right_one\n",
    "    return ans\n",
    "                \n",
    "        \n"
   ]
  },
  {
   "cell_type": "code",
   "execution_count": 39,
   "metadata": {},
   "outputs": [
    {
     "data": {
      "text/plain": [
       "724"
      ]
     },
     "execution_count": 39,
     "metadata": {},
     "output_type": "execute_result"
    }
   ],
   "source": [
    "N_Queens(10)"
   ]
  },
  {
   "cell_type": "code",
   "execution_count": 24,
   "metadata": {},
   "outputs": [
    {
     "data": {
      "text/plain": [
       "1"
      ]
     },
     "execution_count": 24,
     "metadata": {},
     "output_type": "execute_result"
    }
   ],
   "source": [
    "a  = 2\n",
    "a >>= 1\n",
    "a"
   ]
  },
  {
   "cell_type": "code",
   "execution_count": null,
   "metadata": {},
   "outputs": [],
   "source": []
  }
 ],
 "metadata": {
  "kernelspec": {
   "display_name": "Python 3 (ipykernel)",
   "language": "python",
   "name": "python3"
  },
  "language_info": {
   "codemirror_mode": {
    "name": "ipython",
    "version": 3
   },
   "file_extension": ".py",
   "mimetype": "text/x-python",
   "name": "python",
   "nbconvert_exporter": "python",
   "pygments_lexer": "ipython3",
   "version": "3.9.12"
  },
  "toc": {
   "base_numbering": 1,
   "nav_menu": {},
   "number_sections": true,
   "sideBar": true,
   "skip_h1_title": false,
   "title_cell": "Table of Contents",
   "title_sidebar": "Contents",
   "toc_cell": false,
   "toc_position": {
    "height": "calc(100% - 180px)",
    "left": "10px",
    "top": "150px",
    "width": "165px"
   },
   "toc_section_display": true,
   "toc_window_display": true
  }
 },
 "nbformat": 4,
 "nbformat_minor": 2
}
