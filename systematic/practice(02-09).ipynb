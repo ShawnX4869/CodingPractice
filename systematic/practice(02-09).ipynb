{
 "cells": [
  {
   "cell_type": "markdown",
   "metadata": {},
   "source": [
    "### 阶乘计算"
   ]
  },
  {
   "cell_type": "code",
   "execution_count": 1,
   "metadata": {
    "collapsed": true
   },
   "outputs": [],
   "source": [
    "# n * n-1 * n2...*2 * 1"
   ]
  },
  {
   "cell_type": "code",
   "execution_count": 14,
   "metadata": {},
   "outputs": [
    {
     "name": "stdout",
     "output_type": "stream",
     "text": [
      "succeed.\n"
     ]
    }
   ],
   "source": [
    "import random\n",
    "def factorial(n):\n",
    "    if n == 1:\n",
    "        return 1\n",
    "    ans = [0] * (n+1)\n",
    "    ans[1] = 1\n",
    "    for i in range(2, n+1):\n",
    "        ans[i] = ans[i-1] * i\n",
    "    return ans[n]\n",
    "\n",
    "def factorialTest(n):\n",
    "    if n == 1:\n",
    "        return 1\n",
    "    return n * factorialTest(n-1)\n",
    "\n",
    "testTime = 10000\n",
    "maxValue = 100\n",
    "succeed=True\n",
    "for _ in range(testTime):\n",
    "    n = random.randint(1, maxValue)\n",
    "    ans1 = factorial(n)\n",
    "    ans2 = factorialTest(n)\n",
    "    if ans1 != ans2:\n",
    "        print(n, ans1, ans2)\n",
    "        print(\"something wrong.\")\n",
    "        succeed = False\n",
    "        break\n",
    "if succeed:\n",
    "    print(\"succeed.\")"
   ]
  },
  {
   "cell_type": "markdown",
   "metadata": {},
   "source": [
    "### 前缀和数组"
   ]
  },
  {
   "cell_type": "code",
   "execution_count": 23,
   "metadata": {},
   "outputs": [
    {
     "name": "stdout",
     "output_type": "stream",
     "text": [
      "succeed.\n"
     ]
    }
   ],
   "source": [
    "def preSum(arr):\n",
    "    if not arr:\n",
    "        return list()\n",
    "    ans = 0\n",
    "    preSum = list()\n",
    "    for i in range(len(arr)):\n",
    "        ans+= arr[i]\n",
    "        preSum.append(ans)\n",
    "    return preSum\n",
    "\n",
    "def preSumTest(arr):\n",
    "    ans = list()\n",
    "    for i in range(1, len(arr)+1):\n",
    "        ans.append(sum(arr[:i]))\n",
    "    return ans\n",
    "\n",
    "def generateRandomArr(maxLen, maxValue):\n",
    "    arr = list()\n",
    "    for i in range(maxLen):\n",
    "        arr.append(random.randint(-maxValue, maxValue))\n",
    "    return arr\n",
    "\n",
    "testTime = 10000\n",
    "maxValue = 100\n",
    "maxLen = 20\n",
    "succeed=True\n",
    "for _ in range(testTime):\n",
    "    value = random.randint(0, maxValue)\n",
    "    length = random.randint(0, maxLen)\n",
    "    arr = generateRandomArr(length, value)\n",
    "    ans1 = preSum(arr)\n",
    "    ans2 = preSumTest(arr)\n",
    "    if ans1 != ans2:\n",
    "        print(n, ans1, ans2)\n",
    "        print(\"something wrong.\")\n",
    "        succeed = False\n",
    "        break\n",
    "if succeed:\n",
    "    print(\"succeed.\")"
   ]
  },
  {
   "cell_type": "code",
   "execution_count": 18,
   "metadata": {},
   "outputs": [
    {
     "data": {
      "text/plain": [
       "[1, 3, 7, 13, 18, 24, 31]"
      ]
     },
     "execution_count": 18,
     "metadata": {},
     "output_type": "execute_result"
    }
   ],
   "source": [
    "preSum([1,2,4,6,5,6,7])"
   ]
  },
  {
   "cell_type": "markdown",
   "metadata": {},
   "source": [
    "### 调整数出现的概率从x调整为x^2"
   ]
  },
  {
   "cell_type": "code",
   "execution_count": 25,
   "metadata": {},
   "outputs": [
    {
     "name": "stdout",
     "output_type": "stream",
     "text": [
      "0.0 0.0\n",
      "0.5 0.25\n",
      "0.8 0.64\n",
      "0.9 0.81\n",
      "0.8 0.64\n",
      "0.2 0.04\n",
      "0.2 0.04\n",
      "0.8 0.64\n",
      "0.7 0.49\n",
      "0.9 0.81\n"
     ]
    }
   ],
   "source": [
    "def f(x):\n",
    "    return random.random() <= x\n",
    "\n",
    "def f2(x):\n",
    "    return f(x) and f(x)\n",
    "\n",
    "testTime = 100000\n",
    "for _ in range(10):\n",
    "    countTrue = 0\n",
    "    countFalse = 0\n",
    "    x = round(random.random(),1)\n",
    "    for _ in range(testTime):\n",
    "        if f2(x):\n",
    "            countTrue += 1\n",
    "        else:\n",
    "            countFalse += 1\n",
    "    print(x, round(countTrue * 1.0 / (countTrue+countFalse),2))"
   ]
  },
  {
   "cell_type": "markdown",
   "metadata": {},
   "source": [
    "### 01不等概率随机到01等概率随机"
   ]
  },
  {
   "cell_type": "code",
   "execution_count": 41,
   "metadata": {
    "collapsed": true
   },
   "outputs": [],
   "source": [
    "def noEqual():\n",
    "    n = random.random()\n",
    "    if n <= 0.1: #0.1\n",
    "        return 1\n",
    "    elif n <= 0.8: #0.7\n",
    "        return 2 #0.2\n",
    "    else: \n",
    "        return 3\n",
    "def equal():\n",
    "    ans = noEqual() <= 2 #True 0.8 False 0.2\n",
    "    while (noEqual() <= 2) == ans:\n",
    "        ans = noEqual() <= 2\n",
    "    return ans"
   ]
  },
  {
   "cell_type": "code",
   "execution_count": 44,
   "metadata": {},
   "outputs": [
    {
     "name": "stdout",
     "output_type": "stream",
     "text": [
      "0.50021\n"
     ]
    }
   ],
   "source": [
    "\n",
    "testTime = 100000\n",
    "countTrue = 0\n",
    "for _ in range(testTime):\n",
    "    if equal()==True:\n",
    "        countTrue+=1\n",
    "print(countTrue*1.0/testTime)"
   ]
  },
  {
   "cell_type": "markdown",
   "metadata": {},
   "source": [
    "### 有序数组中找到num"
   ]
  },
  {
   "cell_type": "code",
   "execution_count": 64,
   "metadata": {},
   "outputs": [
    {
     "name": "stdout",
     "output_type": "stream",
     "text": [
      "succeed.\n"
     ]
    }
   ],
   "source": [
    "def binarySearch(arr, num):\n",
    "    if not arr:\n",
    "        return False\n",
    "    L = 0\n",
    "    R = len(arr)-1\n",
    "    arrSorted = sorted(arr)\n",
    "    while L <= R:\n",
    "        mid = L + ((R-L) >> 1)\n",
    "        if arrSorted[mid] == num:\n",
    "            return True\n",
    "        elif arrSorted[mid] < num:\n",
    "            L = mid + 1\n",
    "        else:\n",
    "            R = mid - 1\n",
    "    return False\n",
    "\n",
    "def binarySearchTest(arr, num):\n",
    "    if not arr:\n",
    "        return False\n",
    "    for i in range(len(arr)):\n",
    "        if arr[i] == num:\n",
    "            return True\n",
    "    return False\n",
    "\n",
    "testTime = 10000\n",
    "maxValue = 50\n",
    "maxLen = 200\n",
    "succeed=True\n",
    "for _ in range(testTime):\n",
    "    value = random.randint(0, maxValue)\n",
    "    length = random.randint(0, maxLen)\n",
    "    arr = generateRandomArr(length, value)\n",
    "    num = random.randint(-maxValue, maxValue)\n",
    "    ans1 = binarySearch(arr, num)\n",
    "    ans2 = binarySearchTest(arr, num)\n",
    "    if ans1 != ans2:\n",
    "        print(num, arr, ans1, ans2)\n",
    "        print(\"something wrong.\")\n",
    "        succeed = False\n",
    "        break\n",
    "if succeed:\n",
    "    print(\"succeed.\")"
   ]
  },
  {
   "cell_type": "markdown",
   "metadata": {},
   "source": [
    "### 有序数组中找到＞=num最左的位置"
   ]
  },
  {
   "cell_type": "code",
   "execution_count": 75,
   "metadata": {},
   "outputs": [
    {
     "name": "stdout",
     "output_type": "stream",
     "text": [
      "succeed.\n"
     ]
    }
   ],
   "source": [
    "def findMostLeftGE(arr, num):\n",
    "    if not arr:\n",
    "        return False\n",
    "    L = 0\n",
    "    R = len(arr)-1\n",
    "    ans = -1\n",
    "    while L <= R:\n",
    "        mid = L + ((R-L) >> 1)\n",
    "        if arr[mid] >= num:\n",
    "            ans = mid\n",
    "            R = mid - 1\n",
    "        else:\n",
    "            L = mid + 1\n",
    "    return ans\n",
    "\n",
    "def findMostLeftGETest(arr, num):\n",
    "    if not arr:\n",
    "        return False\n",
    "    index = len(arr)\n",
    "    while index-1 >= 0 and arr[index-1] >= num:\n",
    "        index -= 1\n",
    "    if index == len(arr):\n",
    "        return -1\n",
    "    return index\n",
    "\n",
    "testTime = 10000\n",
    "maxValue = 50\n",
    "maxLen = 200\n",
    "succeed=True\n",
    "for _ in range(testTime):\n",
    "    value = random.randint(0, maxValue)\n",
    "    length = random.randint(0, maxLen)\n",
    "    arr = sorted(generateRandomArr(length, value))\n",
    "    num = random.randint(-maxValue, maxValue)\n",
    "    ans1 = findMostLeftGE(arr, num)\n",
    "    ans2 = findMostLeftGETest(arr, num)\n",
    "    if ans1 != ans2:\n",
    "        print(num, arr, ans1, ans2)\n",
    "        print(\"something wrong.\")\n",
    "        succeed = False\n",
    "        break\n",
    "if succeed:\n",
    "    print(\"succeed.\")"
   ]
  },
  {
   "cell_type": "markdown",
   "metadata": {},
   "source": [
    "### 有序数组中找到<=num最右的位置¶"
   ]
  },
  {
   "cell_type": "code",
   "execution_count": 77,
   "metadata": {},
   "outputs": [
    {
     "name": "stdout",
     "output_type": "stream",
     "text": [
      "succeed.\n"
     ]
    }
   ],
   "source": [
    "def findMostRightLE(arr, num):\n",
    "    if not arr:\n",
    "        return -1\n",
    "    L = 0\n",
    "    R = len(arr) - 1\n",
    "    ans = -1\n",
    "    while L <= R:\n",
    "        mid = L +((R-L)>>1)\n",
    "        if arr[mid] <= num:\n",
    "            ans = mid\n",
    "            L = mid+1\n",
    "        else:\n",
    "            R = mid-1\n",
    "    return ans\n",
    "def findMostRightLETest(arr, num):\n",
    "    if not arr:\n",
    "        return -1\n",
    "    index = -1\n",
    "    while index + 1 <= len(arr)-1 and arr[index+1] <= num:\n",
    "        index += 1\n",
    "    return index\n",
    "\n",
    "testTime = 10000\n",
    "maxValue = 50\n",
    "maxLen = 200\n",
    "succeed=True\n",
    "for _ in range(testTime):\n",
    "    value = random.randint(0, maxValue)\n",
    "    length = random.randint(0, maxLen)\n",
    "    arr = sorted(generateRandomArr(length, value))\n",
    "    num = random.randint(-maxValue, maxValue)\n",
    "    ans1 = findMostRightLE(arr, num)\n",
    "    ans2 = findMostRightLETest(arr, num)\n",
    "    if ans1 != ans2:\n",
    "        print(num, arr, ans1, ans2)\n",
    "        print(\"something wrong.\")\n",
    "        succeed = False\n",
    "        break\n",
    "if succeed:\n",
    "    print(\"succeed.\")"
   ]
  },
  {
   "cell_type": "markdown",
   "metadata": {},
   "source": [
    "### 用单链表结构实现队列跟栈结构"
   ]
  },
  {
   "cell_type": "code",
   "execution_count": 78,
   "metadata": {
    "collapsed": true
   },
   "outputs": [],
   "source": [
    "class Node:\n",
    "    def __init__(self, val, nxt=None):\n",
    "        self.val = val\n",
    "        self.next = nxt"
   ]
  },
  {
   "cell_type": "code",
   "execution_count": 79,
   "metadata": {
    "collapsed": true
   },
   "outputs": [],
   "source": [
    "class NodeStack:\n",
    "    def __init__(self):\n",
    "        self.head = None\n",
    "        self.tail = None\n",
    "    def add(self, node):\n",
    "        if not self.head:\n",
    "            self.head = node\n",
    "            self.tail = node\n",
    "        else:\n",
    "            node.next = self.head\n",
    "            self.head = node\n",
    "    def pop(self):\n",
    "        if not self.head:\n",
    "            raise Exception(\"no node to pop.\")\n",
    "        else:\n",
    "            if self.tail == self.head:\n",
    "                node = self.tail\n",
    "                self.tail = None\n",
    "                self.head = None\n",
    "                return node\n",
    "            else:\n",
    "                new_head = self.head.next\n",
    "                node = self.head\n",
    "                node.next = None\n",
    "                self.head = new_head\n",
    "                if not self.head:\n",
    "                    self.tail = None\n",
    "                return node\n",
    "    def peek(self):\n",
    "        return self.head\n",
    "        \n",
    "                "
   ]
  },
  {
   "cell_type": "code",
   "execution_count": 80,
   "metadata": {
    "collapsed": true
   },
   "outputs": [],
   "source": [
    "class NodeQueue:\n",
    "    def __init__(self):\n",
    "        self.head = None\n",
    "        self.tail = None\n",
    "    def add(self, node):\n",
    "        if not self.head:\n",
    "            self.head = node\n",
    "            self.tail = node\n",
    "        else:\n",
    "            self.tail.next = node\n",
    "            self.tail = node\n",
    "    def pop(self):\n",
    "        if not self.head:\n",
    "            raise Exception(\"no node to pop.\")\n",
    "        else:\n",
    "            if self.tail == self.head:\n",
    "                node = self.tail\n",
    "                self.tail = None\n",
    "                self.head = None\n",
    "                return node\n",
    "            else:\n",
    "                new_head = self.head.next\n",
    "                node = self.head\n",
    "                node.next = None\n",
    "                self.head = new_head\n",
    "                return node\n",
    "    def peek(self):\n",
    "        return self.head\n",
    "        \n",
    "             "
   ]
  },
  {
   "cell_type": "markdown",
   "metadata": {},
   "source": [
    "### 用双链表实现双端队列"
   ]
  },
  {
   "cell_type": "code",
   "execution_count": 82,
   "metadata": {
    "collapsed": true
   },
   "outputs": [],
   "source": [
    "class DoubleLinkedNode:\n",
    "    def __init__(self, val, nxt=None, last=None):\n",
    "        self.val = val\n",
    "        self.next = nxt\n",
    "        self.last = last"
   ]
  },
  {
   "cell_type": "code",
   "execution_count": 83,
   "metadata": {
    "collapsed": true
   },
   "outputs": [],
   "source": [
    "class NodeDeque:\n",
    "    def __init__(self):\n",
    "        self.head = None\n",
    "        self.tail = None\n",
    "    def appendleft(self, node):\n",
    "        if not self.head:\n",
    "            self.head = node\n",
    "            self.tail = node\n",
    "        else:\n",
    "            node.next = self.head\n",
    "            self.head.last = node\n",
    "            self.head = node\n",
    "    def popleft(self, node):\n",
    "        if not self.head:\n",
    "            raise Exception(\"no node to pop.\")\n",
    "        else:\n",
    "            if self.head == self.tail:\n",
    "                node = self.head\n",
    "                self.head = None\n",
    "                self.tail = None\n",
    "                return node\n",
    "            else:\n",
    "                new_head = self.head.next\n",
    "                new_head.last = None\n",
    "                node = self.head\n",
    "                node.next = None\n",
    "                self.head = new_head\n",
    "                return node\n",
    "    def appendright(self, node):\n",
    "        if not self.tail:\n",
    "            self.head = node\n",
    "            self.tail = node\n",
    "        else:\n",
    "            self.tail.next = node\n",
    "            node.last = self.tail\n",
    "            self.tail = node\n",
    "    def popright(self):\n",
    "        if not self.tail:\n",
    "            raise Exception(\"no node to pop.\")\n",
    "        else:\n",
    "            if self.tail == self.head:\n",
    "                node = self.tail\n",
    "                self.tail = None\n",
    "                self.head = None\n",
    "                return node\n",
    "            else:\n",
    "                new_tail = self.tail.last\n",
    "                new_tail.next = None\n",
    "                node = self.tail\n",
    "                node.last = None\n",
    "                self.tail = new_tail\n",
    "                return node"
   ]
  },
  {
   "cell_type": "markdown",
   "metadata": {},
   "source": [
    "### 单链表和双链表如何反转"
   ]
  },
  {
   "cell_type": "code",
   "execution_count": 85,
   "metadata": {
    "collapsed": true
   },
   "outputs": [],
   "source": [
    "def reverseNode(head):\n",
    "    if not head:\n",
    "        return head\n",
    "    pre = None\n",
    "    cur = head\n",
    "    while cur:\n",
    "        nxt = cur.next\n",
    "        cur.next = pre\n",
    "        pre = cur\n",
    "        cur = nxt\n",
    "    return pre\n",
    "\n",
    "def printNode(head):\n",
    "    if not head:\n",
    "        return\n",
    "    cur = head\n",
    "    while cur:\n",
    "        print(cur.val, end=\"->\")\n",
    "        cur = cur.next\n",
    "    return \n",
    "        "
   ]
  },
  {
   "cell_type": "code",
   "execution_count": 98,
   "metadata": {
    "collapsed": true
   },
   "outputs": [],
   "source": [
    "head = Node(1)\n",
    "head.next = Node(2)\n",
    "head.next.next = Node(3)\n",
    "head.next.next.next = Node(4)\n",
    "head.next.next.next.next = Node(5)\n",
    "head.next.next.next.next.next = Node(6)\n",
    "head.next.next.next.next.next.next = Node(7)"
   ]
  },
  {
   "cell_type": "code",
   "execution_count": 96,
   "metadata": {},
   "outputs": [
    {
     "name": "stdout",
     "output_type": "stream",
     "text": [
      "1->2->3->4->5->6->7->\n",
      "7->6->5->4->3->2->1->"
     ]
    }
   ],
   "source": [
    "printNode(head)\n",
    "re = reverseNode(head)\n",
    "print()\n",
    "printNode(re)"
   ]
  },
  {
   "cell_type": "code",
   "execution_count": 97,
   "metadata": {
    "collapsed": true
   },
   "outputs": [],
   "source": [
    "def reverseDoubleNode(head):\n",
    "    if not head:\n",
    "        return head\n",
    "    pre = None\n",
    "    cur = head\n",
    "    while cur:\n",
    "        nxt = cur.next\n",
    "        cur.next = pre\n",
    "        cur.last = nxt\n",
    "        pre = cur\n",
    "        cur = nxt\n",
    "    return pre"
   ]
  },
  {
   "cell_type": "code",
   "execution_count": 100,
   "metadata": {
    "collapsed": true
   },
   "outputs": [],
   "source": [
    "def printNodeBack(head):\n",
    "    if not head:\n",
    "        return\n",
    "    cur = head\n",
    "    while cur.next:\n",
    "        cur = cur.next\n",
    "    while cur:\n",
    "        print(cur.val, end=\"->\")\n",
    "        cur = cur.last\n",
    "    return"
   ]
  },
  {
   "cell_type": "code",
   "execution_count": 106,
   "metadata": {
    "collapsed": true
   },
   "outputs": [],
   "source": [
    "head = DoubleLinkedNode(1)\n",
    "\n",
    "head.next = DoubleLinkedNode(2)\n",
    "head.next.last = head\n",
    "\n",
    "head.next.next = DoubleLinkedNode(3)\n",
    "head.next.next.last = head.next\n",
    "\n",
    "head.next.next.next = DoubleLinkedNode(4)\n",
    "head.next.next.next.last = head.next.next\n",
    "\n",
    "head.next.next.next.next = DoubleLinkedNode(5)\n",
    "head.next.next.next.next.last =  head.next.next.next\n",
    "\n",
    "head.next.next.next.next.next = DoubleLinkedNode(6)\n",
    "head.next.next.next.next.next.last = head.next.next.next.next\n",
    "\n",
    "head.next.next.next.next.next.next = DoubleLinkedNode(7)\n",
    "head.next.next.next.next.next.next.last = head.next.next.next.next.next"
   ]
  },
  {
   "cell_type": "code",
   "execution_count": 107,
   "metadata": {},
   "outputs": [
    {
     "name": "stdout",
     "output_type": "stream",
     "text": [
      "1->2->3->4->5->6->7->\n",
      "7->6->5->4->3->2->1->\n",
      "7->6->5->4->3->2->1->\n",
      "1->2->3->4->5->6->7->"
     ]
    }
   ],
   "source": [
    "printNode(head)\n",
    "print()\n",
    "printNodeBack(head)\n",
    "\n",
    "re = reverseDoubleNode(head)\n",
    "print()\n",
    "printNode(re)\n",
    "print()\n",
    "printNodeBack(re)"
   ]
  },
  {
   "cell_type": "markdown",
   "metadata": {},
   "source": [
    "### K个节点的组内逆序调整"
   ]
  },
  {
   "cell_type": "code",
   "execution_count": 123,
   "metadata": {
    "collapsed": true
   },
   "outputs": [],
   "source": [
    "#return k end node\n",
    "def getKgroup(head, k):\n",
    "    #make sure head is not None\n",
    "    while k > 1 and head:  #head is the last one\n",
    "        k -= 1\n",
    "        head = head.next\n",
    "    return head\n",
    "def reverseTillEnd(head, end):\n",
    "    pre = None\n",
    "    cur = head\n",
    "    while cur != end:\n",
    "        nxt = cur.next\n",
    "        cur.next = pre\n",
    "        pre = cur\n",
    "        cur = nxt\n",
    "    #cur == end\n",
    "    return pre\n",
    "def getKReverse(head, k):\n",
    "    if not head:\n",
    "        return head\n",
    "    end = getKgroup(head, k)\n",
    "    if not end: #不足一组\n",
    "        return head\n",
    "    \n",
    "    nxt = end.next\n",
    "    pre = head\n",
    "    head = reverseTillEnd(head, nxt)\n",
    "    pre.next = nxt\n",
    "    while nxt:\n",
    "        end = getKgroup(nxt, k)#不足\n",
    "        if not end:\n",
    "            return head\n",
    "        else:\n",
    "            end = end.next\n",
    "            pre.next = reverseTillEnd(nxt, end)\n",
    "            nxt.next = end\n",
    "            pre = nxt\n",
    "            nxt = end   \n",
    "    return head"
   ]
  },
  {
   "cell_type": "code",
   "execution_count": 138,
   "metadata": {
    "collapsed": true
   },
   "outputs": [],
   "source": [
    "#return k end node\n",
    "def getKgroup(head, k):\n",
    "    #make sure head is not None\n",
    "    while k > 1 and head:  #head is the last one\n",
    "        k -= 1\n",
    "        head = head.next\n",
    "    return head\n",
    "def reverseTillEnd2(head, end):\n",
    "    pre = None\n",
    "    cur = head\n",
    "    end = end.next\n",
    "    while cur != end:\n",
    "        nxt = cur.next\n",
    "        cur.next = pre\n",
    "        pre = cur\n",
    "        cur = nxt\n",
    "    head.next = end #连好end再返回\n",
    "    #cur == end\n",
    "    return\n",
    "def getKReverse2(head, k):\n",
    "    if not head:\n",
    "        return head\n",
    "    end = getKgroup(head, k)\n",
    "    if not end: #不足一组\n",
    "        return head  \n",
    "    \n",
    "    start = head\n",
    "    reverseTillEnd2(start, end) #start已和end.next连好， 且end已知为头\n",
    "    head = end\n",
    "    \n",
    "    lastEnd = start\n",
    "    while lastEnd.next:\n",
    "        start = lastEnd.next\n",
    "        end = getKgroup(start, k)#不足\n",
    "        if not end:\n",
    "            return head\n",
    "        else:\n",
    "            \n",
    "            reverseTillEnd2(start, end)\n",
    "            lastEnd.next = end\n",
    "            lastEnd = start\n",
    "    return head"
   ]
  },
  {
   "cell_type": "code",
   "execution_count": 139,
   "metadata": {},
   "outputs": [
    {
     "name": "stdout",
     "output_type": "stream",
     "text": [
      "1->2->3->4->5->6->7->"
     ]
    }
   ],
   "source": [
    "head = Node(1)\n",
    "head.next = Node(2)\n",
    "head.next.next = Node(3)\n",
    "head.next.next.next = Node(4)\n",
    "head.next.next.next.next = Node(5)\n",
    "head.next.next.next.next.next = Node(6)\n",
    "head.next.next.next.next.next.next = Node(7)\n",
    "cur = getKReverse2(head,1)\n",
    "printNode(cur)"
   ]
  },
  {
   "cell_type": "code",
   "execution_count": 126,
   "metadata": {},
   "outputs": [
    {
     "name": "stdout",
     "output_type": "stream",
     "text": [
      "1->2->3->4->5->6->7->"
     ]
    }
   ],
   "source": [
    "head = Node(1)\n",
    "head.next = Node(2)\n",
    "head.next.next = Node(3)\n",
    "head.next.next.next = Node(4)\n",
    "head.next.next.next.next = Node(5)\n",
    "head.next.next.next.next.next = Node(6)\n",
    "head.next.next.next.next.next.next = Node(7)\n",
    "cur = getKReverse(head,1)\n",
    "printNode(cur)"
   ]
  },
  {
   "cell_type": "markdown",
   "metadata": {},
   "source": [
    "### 两个有序链表的合并"
   ]
  },
  {
   "cell_type": "code",
   "execution_count": 143,
   "metadata": {
    "collapsed": true
   },
   "outputs": [],
   "source": [
    "import time\n",
    "start_time = time.time()"
   ]
  },
  {
   "cell_type": "code",
   "execution_count": 140,
   "metadata": {
    "collapsed": true
   },
   "outputs": [],
   "source": [
    "def mergeTwoNodeList(node1, node2):\n",
    "    if not node1:\n",
    "        return node2\n",
    "    if not node2:\n",
    "        return node1\n",
    "    head = node1 if node1.val <= node2.val else node2\n",
    "    if head == node1:\n",
    "        node1 = node1.next\n",
    "    else:\n",
    "        node2 = node2.next\n",
    "    cur = head\n",
    "    while node1 and node2:\n",
    "        if node1.val <= node2.val:\n",
    "            cur.next = node1\n",
    "            node1 = node1.next\n",
    "        else:\n",
    "            cur.next = node2\n",
    "            node2 = node2.next\n",
    "        cur = cur.next\n",
    "    while node1:\n",
    "        cur.next = node1\n",
    "        node1 = node1.next\n",
    "        cur = cur.next\n",
    "    while node2:\n",
    "        cur.next = node2\n",
    "        node2 = node2.next\n",
    "        cur = cur.next\n",
    "    return head"
   ]
  },
  {
   "cell_type": "code",
   "execution_count": 141,
   "metadata": {},
   "outputs": [
    {
     "name": "stdout",
     "output_type": "stream",
     "text": [
      "1->2->3->4->6->7->8->8->9->11->14->14->15->20->"
     ]
    }
   ],
   "source": [
    "head1 = Node(1)\n",
    "head1.next = Node(4)\n",
    "head1.next.next = Node(6)\n",
    "head1.next.next.next = Node(8)\n",
    "head1.next.next.next.next = Node(9)\n",
    "head1.next.next.next.next.next = Node(11)\n",
    "head1.next.next.next.next.next.next = Node(15)\n",
    "\n",
    "head2 = Node(2)\n",
    "head2.next = Node(3)\n",
    "head2.next.next = Node(7)\n",
    "head2.next.next.next = Node(8)\n",
    "head2.next.next.next.next = Node(14)\n",
    "head2.next.next.next.next.next = Node(14)\n",
    "head2.next.next.next.next.next.next = Node(20)\n",
    "\n",
    "ans = mergeTwoNodeList(head1, head2)\n",
    "printNode(ans)"
   ]
  },
  {
   "cell_type": "code",
   "execution_count": 149,
   "metadata": {},
   "outputs": [
    {
     "name": "stdout",
     "output_type": "stream",
     "text": [
      "used time: 0.09\n"
     ]
    }
   ],
   "source": [
    "finish_time = time.time()\n",
    "print(\"used time: {}\".format(round((finish_time - start_time) / 60.0,2)))\n",
    "start_time = finish_time"
   ]
  },
  {
   "cell_type": "markdown",
   "metadata": {},
   "source": [
    "### 用位运算实现加减乘除\n",
    "* 链接 ：https://blog.csdn.net/xtj332/article/details/6639009?spm=1001.2101.3001.6650.11&utm_medium=distribute.pc_relevant.none-task-blog-2%7Edefault%7EBlogCommendFromBaidu%7Edefault-11-6639009-blog-104592314.pc_relevant_default&depth_1-utm_source=distribute.pc_relevant.none-task-blog-2%7Edefault%7EBlogCommendFromBaidu%7Edefault-11-6639009-blog-104592314.pc_relevant_default&utm_relevant_index=16"
   ]
  },
  {
   "cell_type": "code",
   "execution_count": 168,
   "metadata": {
    "scrolled": true
   },
   "outputs": [
    {
     "name": "stdout",
     "output_type": "stream",
     "text": [
      "33\n"
     ]
    }
   ],
   "source": [
    "a = 0x100000000\n",
    "count = 0\n",
    "while a != 0:\n",
    "    a = a // 2\n",
    "    count+=1\n",
    "print(count)\n"
   ]
  },
  {
   "cell_type": "code",
   "execution_count": null,
   "metadata": {
    "collapsed": true
   },
   "outputs": [],
   "source": [
    "15\n",
    "#        0x7FFFFFFF   #4*7=28 + 3 = 31位\n",
    "# 1111 = 8 + 4 + 2 + 1 = 15 = F\n",
    "#  111 = 4 + 2 + 1     = 7  = 7"
   ]
  },
  {
   "cell_type": "code",
   "execution_count": 167,
   "metadata": {},
   "outputs": [
    {
     "data": {
      "text/plain": [
       "4294967296"
      ]
     },
     "execution_count": 167,
     "metadata": {},
     "output_type": "execute_result"
    }
   ],
   "source": [
    "0x100000000 # 2^32"
   ]
  },
  {
   "cell_type": "code",
   "execution_count": 169,
   "metadata": {
    "scrolled": true
   },
   "outputs": [
    {
     "data": {
      "text/plain": [
       "-2"
      ]
     },
     "execution_count": 169,
     "metadata": {},
     "output_type": "execute_result"
    }
   ],
   "source": [
    "~1"
   ]
  },
  {
   "cell_type": "code",
   "execution_count": 188,
   "metadata": {
    "collapsed": true
   },
   "outputs": [],
   "source": [
    "# 0000011   3\n",
    "# 0000111   7\n",
    "# -------\n",
    "# 0000100\n",
    "# 0000110\n",
    "# -------\n",
    "# 0000010\n",
    "# 0001000\n",
    "# -------\n",
    "# 0001010\n",
    "# 0000000\n",
    "\n",
    "\n",
    "def add(a, b):\n",
    "    #非负\n",
    "    MASK = 0x100000000  #2 ^ 32\n",
    "    MAX_INT = 0x7FFFFFFF\n",
    "    MIN_INT = 0x7FFFFFFF + 1\n",
    "\n",
    "    while b != 0:\n",
    "        carry = (a & b) << 1 \n",
    "        a = (a ^ b) % MASK\n",
    "        b = carry % MASK\n",
    "        \n",
    "    return a if a <= MAX_INT else ~(a ^ MASK)"
   ]
  },
  {
   "cell_type": "code",
   "execution_count": 190,
   "metadata": {},
   "outputs": [
    {
     "data": {
      "text/plain": [
       "113"
      ]
     },
     "execution_count": 190,
     "metadata": {},
     "output_type": "execute_result"
    }
   ],
   "source": [
    "add(104,9)"
   ]
  },
  {
   "cell_type": "code",
   "execution_count": null,
   "metadata": {
    "collapsed": true
   },
   "outputs": [],
   "source": []
  },
  {
   "cell_type": "code",
   "execution_count": 191,
   "metadata": {},
   "outputs": [
    {
     "name": "stdout",
     "output_type": "stream",
     "text": [
      "used time: 48.26\n"
     ]
    }
   ],
   "source": [
    "finish_time = time.time()\n",
    "print(\"used time: {}\".format(round((finish_time - start_time) / 60.0,2)))\n",
    "start_time = finish_time"
   ]
  },
  {
   "cell_type": "markdown",
   "metadata": {},
   "source": [
    "### 合并多个有序链表"
   ]
  },
  {
   "cell_type": "code",
   "execution_count": 203,
   "metadata": {
    "collapsed": true
   },
   "outputs": [],
   "source": [
    "# Definition for singly-linked list.\n",
    "# class ListNode:\n",
    "#     def __init__(self, val=0, next=None):\n",
    "#         self.val = val\n",
    "#         self.next = next\n",
    "class Solution:\n",
    "    def mergeKLists(self, lists):\n",
    "    \n",
    "        class NodeExtension:\n",
    "            def __lt__(self, other):\n",
    "                return self.val <= other.val\n",
    "\n",
    "        import heapq\n",
    "    \n",
    "        ListNode.__lt__ = NodeExtension.__lt__\n",
    "        ListNode.__eq__ = NodeExtension.__eq__\n",
    "    \n",
    "        if not lists:\n",
    "            return None\n",
    "        wait = list()\n",
    "        for node in lists:\n",
    "            if node: #坑，有可能是[[], [1]]\n",
    "                heapq.heappush(wait, node)\n",
    "        if not wait: #坑，有可能是[[], []] 没有head\n",
    "            return None\n",
    "        head = heapq.heappop(wait)\n",
    "        if head.next is not None:\n",
    "            heapq.heappush(wait, head.next)\n",
    "        cur = head\n",
    "        while wait:\n",
    "            node = heapq.heappop(wait)\n",
    "            cur.next = node\n",
    "            cur = cur.next\n",
    "            if node.next:     \n",
    "                heapq.heappush(wait, node.next)\n",
    "        return head"
   ]
  },
  {
   "cell_type": "code",
   "execution_count": 204,
   "metadata": {},
   "outputs": [
    {
     "name": "stdout",
     "output_type": "stream",
     "text": [
      "used time: 25.52\n"
     ]
    }
   ],
   "source": [
    "finish_time = time.time()\n",
    "print(\"used time: {}\".format(round((finish_time - start_time) / 60.0,2)))\n",
    "start_time = finish_time"
   ]
  },
  {
   "cell_type": "code",
   "execution_count": 208,
   "metadata": {
    "collapsed": true
   },
   "outputs": [],
   "source": [
    "# Definition for a binary tree node.\n",
    "#超时\n",
    "class TreeNode:\n",
    "    def __init__(self, val=0, left=None, right=None):\n",
    "        self.val = val\n",
    "        self.left = left\n",
    "        self.right = right\n",
    "        \n",
    "class Solution:\n",
    "    def isSameTree(self, p: TreeNode, q: TreeNode) -> bool:\n",
    "        def preOrder(node, pre):\n",
    "            if not node:\n",
    "                return pre\n",
    "            pre += str(node.val)\n",
    "            pre += preOrder(node.left, pre)\n",
    "            pre += preOrder(node.right, pre)\n",
    "            return pre\n",
    "        preP = preOrder(p, \"\")\n",
    "        preQ = preOrder(q, \"\")\n",
    "        return preP==preQ\n",
    "            "
   ]
  },
  {
   "cell_type": "code",
   "execution_count": 209,
   "metadata": {
    "collapsed": true
   },
   "outputs": [],
   "source": [
    "# Definition for a binary tree node.\n",
    "# class TreeNode:\n",
    "#     def __init__(self, val=0, left=None, right=None):\n",
    "#         self.val = val\n",
    "#         self.left = left\n",
    "#         self.right = right\n",
    "class Solution:\n",
    "    def isSameTree(self, p: TreeNode, q: TreeNode) -> bool:\n",
    "        if not p and not q:\n",
    "            return True\n",
    "        if not p or not q:\n",
    "            return False\n",
    "        if p.val != q.val:\n",
    "            return False\n",
    "        return self.isSameTree(p.left, q.left) and self.isSameTree(p.right, q.right)"
   ]
  },
  {
   "cell_type": "code",
   "execution_count": 210,
   "metadata": {},
   "outputs": [
    {
     "name": "stdout",
     "output_type": "stream",
     "text": [
      "used time: 12.99\n"
     ]
    }
   ],
   "source": [
    "finish_time = time.time()\n",
    "print(\"used time: {}\".format(round((finish_time - start_time) / 60.0,2)))\n",
    "start_time = finish_time"
   ]
  },
  {
   "cell_type": "markdown",
   "metadata": {},
   "source": [
    "### 判断两树是否镜面"
   ]
  },
  {
   "cell_type": "code",
   "execution_count": 215,
   "metadata": {
    "collapsed": true
   },
   "outputs": [],
   "source": [
    "# Definition for a binary tree node.\n",
    "# class TreeNode:\n",
    "#     def __init__(self, val=0, left=None, right=None):\n",
    "#         self.val = val\n",
    "#         self.left = left\n",
    "#         self.right = right\n",
    "class Solution:\n",
    "    def isSymmetric(self, root: Optional[TreeNode]) -> bool:\n",
    "\n",
    "        if not root:\n",
    "            return True\n",
    "        return self.isMirror(root.left, root.right)\n",
    "    \n",
    "    def isMirror(self, left, right):\n",
    "        if not left and not right:\n",
    "            return True\n",
    "        if not left or not right:\n",
    "            return False\n",
    "        return left.val == right.val and self.isMirror(left.left, right.right) and self.isMirror(left.right, right.left)"
   ]
  },
  {
   "cell_type": "code",
   "execution_count": 219,
   "metadata": {
    "collapsed": true
   },
   "outputs": [],
   "source": [
    "#方法二 层遍历\n",
    "# Definition for a binary tree node.\n",
    "# class TreeNode:\n",
    "#     def __init__(self, val=0, left=None, right=None):\n",
    "#         self.val = val\n",
    "#         self.left = left\n",
    "#         self.right = right\n",
    "class Solution:\n",
    "    def isSymmetric(self, root: TreeNode) -> bool:\n",
    "\n",
    "        if not root:\n",
    "            return True\n",
    "        allNode = list()\n",
    "        if not root.left and not root.right:\n",
    "            return True\n",
    "        if not root.left or not root.right:\n",
    "            return False\n",
    "        return self.isMirror2(root.left, root.right)\n",
    "    \n",
    "    def isMirror2(self, left, right):\n",
    "        leftlist = [left]\n",
    "        rightlist = [right]\n",
    "        while leftlist and rightlist:\n",
    "            curL = leftlist.pop(0)\n",
    "            curR = rightlist.pop(0)\n",
    "            if curL is None and curR is None:\n",
    "                continue\n",
    "            if curL is None and curR is not None:\n",
    "                return False\n",
    "            if curR is None and curL is not None:\n",
    "                return False\n",
    "            if curL.val != curR.val:\n",
    "                return False\n",
    "            if curL.left:\n",
    "                leftlist.append(curL.left)\n",
    "            else:\n",
    "                leftlist.append(None)\n",
    "            if curL.right:\n",
    "                leftlist.append(curL.right)\n",
    "            else:\n",
    "                leftlist.append(None)\n",
    "            if curR.right:\n",
    "                rightlist.append(curR.right)\n",
    "            else:\n",
    "                rightlist.append(None)\n",
    "            if curR.left:\n",
    "                rightlist.append(curR.left)\n",
    "            else:\n",
    "                rightlist.append(None)\n",
    "        if leftlist:\n",
    "            return False\n",
    "        if rightlist:\n",
    "            return False\n",
    "        return True"
   ]
  },
  {
   "cell_type": "code",
   "execution_count": 218,
   "metadata": {},
   "outputs": [
    {
     "name": "stdout",
     "output_type": "stream",
     "text": [
      "used time: 19.75\n"
     ]
    }
   ],
   "source": [
    "finish_time = time.time()\n",
    "print(\"used time: {}\".format(round((finish_time - start_time) / 60.0,2)))\n",
    "start_time = finish_time"
   ]
  },
  {
   "cell_type": "markdown",
   "metadata": {},
   "source": [
    "### 返回一棵树的最大深度"
   ]
  },
  {
   "cell_type": "code",
   "execution_count": 221,
   "metadata": {
    "collapsed": true
   },
   "outputs": [],
   "source": [
    "# Definition for a binary tree node.\n",
    "# class TreeNode:\n",
    "#     def __init__(self, val=0, left=None, right=None):\n",
    "#         self.val = val\n",
    "#         self.left = left\n",
    "#         self.right = right\n",
    "class Solution:\n",
    "    def maxDepth(self, root: TreeNode) -> int:\n",
    "        if not root:\n",
    "            return 0\n",
    "        return max(self.maxDepth(root.left), self.maxDepth(root.right)) + 1"
   ]
  },
  {
   "cell_type": "code",
   "execution_count": 222,
   "metadata": {},
   "outputs": [
    {
     "name": "stdout",
     "output_type": "stream",
     "text": [
      "used time: 2.22\n"
     ]
    }
   ],
   "source": [
    "finish_time = time.time()\n",
    "print(\"used time: {}\".format(round((finish_time - start_time) / 60.0,2)))\n",
    "start_time = finish_time"
   ]
  },
  {
   "cell_type": "markdown",
   "metadata": {},
   "source": [
    "### 从前序与中序遍历序列构造二叉树"
   ]
  },
  {
   "cell_type": "code",
   "execution_count": 228,
   "metadata": {
    "collapsed": true
   },
   "outputs": [],
   "source": [
    "# Definition for a binary tree node.\n",
    "# class TreeNode:\n",
    "#     def __init__(self, val=0, left=None, right=None):\n",
    "#         self.val = val\n",
    "#         self.left = left\n",
    "#         self.right = right\n",
    "class Solution:\n",
    "    def buildTree(self, preorder, inorder) -> TreeNode:\n",
    "        if not preorder or not inorder:\n",
    "            return None\n",
    "        head = self.build(preorder, inorder, 0, len(preorder)-1, 0, len(inorder)-1)\n",
    "        return head\n",
    "    def build(self, preorder, inorder, L1, R1, L2, R2):\n",
    "        if L1 > R1:\n",
    "            return None\n",
    "        head = TreeNode(preorder[L1])\n",
    "        if L1 == R1:\n",
    "            return head\n",
    "        mid = inorder.index(preorder[L1])\n",
    "        head.left = self.build(preorder, inorder, L1+1, L1+mid-L2, L2, mid-1)\n",
    "        head.right = self.build(preorder, inorder, L1+mid-L2+1, R1, mid+1, R2)\n",
    "        return head\n",
    "        "
   ]
  },
  {
   "cell_type": "markdown",
   "metadata": {},
   "source": [
    "### 二叉树按层遍历"
   ]
  },
  {
   "cell_type": "markdown",
   "metadata": {},
   "source": [
    "### 从下到上添加"
   ]
  },
  {
   "cell_type": "code",
   "execution_count": 232,
   "metadata": {},
   "outputs": [
    {
     "name": "stdout",
     "output_type": "stream",
     "text": [
      "used time: 43.09\n"
     ]
    }
   ],
   "source": [
    "finish_time = time.time()\n",
    "print(\"used time: {}\".format(round((finish_time - start_time) / 60.0,2)))\n",
    "start_time = finish_time"
   ]
  },
  {
   "cell_type": "code",
   "execution_count": 244,
   "metadata": {
    "collapsed": true
   },
   "outputs": [],
   "source": [
    "# Definition for a binary tree node.\n",
    "# class TreeNode:\n",
    "#     def __init__(self, val=0, left=None, right=None):\n",
    "#         self.val = val\n",
    "#         self.left = left\n",
    "#         self.right = right\n",
    "from collections import deque\n",
    "class Solution:\n",
    "    def levelOrderBottom(self, root: TreeNode):\n",
    "        if not root:\n",
    "            return list()\n",
    "        ans = list()\n",
    "        queue = deque()\n",
    "        queue.append(root)\n",
    "        last_node = root\n",
    "        next_node = None\n",
    "        cur_level = list()\n",
    "        while queue:\n",
    "            cur = queue.popleft()\n",
    "            cur_level.append(cur.val)\n",
    "            if cur.left:\n",
    "                queue.append(cur.left)\n",
    "                next_node = cur.left\n",
    "            if cur.right:\n",
    "                queue.append(cur.right)\n",
    "                next_node = cur.right\n",
    "            if cur == last_node:\n",
    "                ans.append(cur_level[:])\n",
    "                cur_level = list()\n",
    "                last_node = next_node\n",
    "            \n",
    "        ans.reverse()\n",
    "        return ans\n",
    "            \n",
    "            \n",
    "        "
   ]
  },
  {
   "cell_type": "code",
   "execution_count": 248,
   "metadata": {},
   "outputs": [
    {
     "name": "stdout",
     "output_type": "stream",
     "text": [
      "used time: 28.49\n"
     ]
    }
   ],
   "source": [
    "finish_time = time.time()\n",
    "print(\"used time: {}\".format(round((finish_time - start_time) / 60.0,2)))\n",
    "start_time = finish_time"
   ]
  },
  {
   "cell_type": "code",
   "execution_count": null,
   "metadata": {
    "collapsed": true
   },
   "outputs": [],
   "source": [
    "# Definition for a binary tree node.\n",
    "# class TreeNode:\n",
    "#     def __init__(self, val=0, left=None, right=None):\n",
    "#         self.val = val\n",
    "#         self.left = left\n",
    "#         self.right = right\n",
    "from collections import deque\n",
    "class Solution:\n",
    "    def levelOrderBottom(self, root: TreeNode):\n",
    "        if not root:\n",
    "            return list()\n",
    "        ans = list()\n",
    "        self.dfs(root, 0, ans)\n",
    "        return ans\n",
    "    def dfs(self, root, depth, ans):\n",
    "        if not root:\n",
    "            return \n",
    "        if depth == len(ans):\n",
    "            ans.insert(0, list())\n",
    "        ans[len(ans) - depth -1].append(root.val)\n",
    "        self.dfs(root.left, depth+1, ans)\n",
    "        self.dfs(root.right, depth+1, ans)        \n",
    "            \n",
    "            \n",
    "        "
   ]
  },
  {
   "cell_type": "code",
   "execution_count": 249,
   "metadata": {},
   "outputs": [
    {
     "name": "stdout",
     "output_type": "stream",
     "text": [
      "used time: 19.98\n"
     ]
    }
   ],
   "source": [
    "finish_time = time.time()\n",
    "print(\"used time: {}\".format(round((finish_time - start_time) / 60.0,2)))\n",
    "start_time = finish_time"
   ]
  },
  {
   "cell_type": "markdown",
   "metadata": {},
   "source": [
    "### 是否平衡二叉树 "
   ]
  },
  {
   "cell_type": "code",
   "execution_count": 251,
   "metadata": {
    "collapsed": true
   },
   "outputs": [],
   "source": [
    "# Definition for a binary tree node.\n",
    "# class TreeNode:\n",
    "#     def __init__(self, val=0, left=None, right=None):\n",
    "#         self.val = val\n",
    "#         self.left = left\n",
    "#         self.right = right\n",
    "class Solution:\n",
    "    def isBalanced(self, root: TreeNode) -> bool:\n",
    "        if not root:\n",
    "            return True\n",
    "        ans,_ = self.isB(root)\n",
    "        return ans\n",
    "    def isB(self, root):\n",
    "        if not root:\n",
    "            return True, 0\n",
    "        left, leftD = self.isB(root.left)\n",
    "        right, rightD = self.isB(root.right)\n",
    "        if not left or not right:\n",
    "            return False, 0 #skip\n",
    "        if abs(leftD - rightD) > 1:\n",
    "            return False, 0 #skip\n",
    "        depth = max(leftD, rightD) + 1\n",
    "        return True, depth"
   ]
  },
  {
   "cell_type": "code",
   "execution_count": 252,
   "metadata": {},
   "outputs": [
    {
     "name": "stdout",
     "output_type": "stream",
     "text": [
      "used time: 5.21\n"
     ]
    }
   ],
   "source": [
    "finish_time = time.time()\n",
    "print(\"used time: {}\".format(round((finish_time - start_time) / 60.0,2)))\n",
    "start_time = finish_time"
   ]
  },
  {
   "cell_type": "markdown",
   "metadata": {},
   "source": [
    "### 能否组成路径和\n",
    "给你二叉树的根节点 root 和一个表示目标和的整数 targetSum 。\n",
    "判断该树中是否存在 根节点到叶子节点 的路径"
   ]
  },
  {
   "cell_type": "code",
   "execution_count": 255,
   "metadata": {
    "collapsed": true
   },
   "outputs": [],
   "source": [
    "# Definition for a binary tree node.\n",
    "# class TreeNode:\n",
    "#     def __init__(self, val=0, left=None, right=None):\n",
    "#         self.val = val\n",
    "#         self.left = left\n",
    "#         self.right = right\n",
    "class Solution:\n",
    "    def hasPathSum(self, root: TreeNode, targetSum: int) -> bool:\n",
    "        return self.pathSum(root, targetSum)\n",
    "    \n",
    "    def pathSum(self, root, rest):\n",
    "        if not root:\n",
    "            return False\n",
    "        rest -= root.val\n",
    "        if not root.left and not root.right:\n",
    "            return rest == 0\n",
    "        left = self.pathSum(root.left, rest)\n",
    "        right = self.pathSum(root.right, rest)\n",
    "        return left or right"
   ]
  },
  {
   "cell_type": "code",
   "execution_count": 256,
   "metadata": {},
   "outputs": [
    {
     "name": "stdout",
     "output_type": "stream",
     "text": [
      "used time: 17.23\n"
     ]
    }
   ],
   "source": [
    "finish_time = time.time()\n",
    "print(\"used time: {}\".format(round((finish_time - start_time) / 60.0,2)))\n",
    "start_time = finish_time"
   ]
  },
  {
   "cell_type": "markdown",
   "metadata": {},
   "source": [
    "### 返回达标路径和的所有路径\n",
    "给你二叉树的根节点 root 和一个整数目标和 targetSum ，找出所有 从根节点到叶子节点 路径总和等于给定目标和的路径。"
   ]
  },
  {
   "cell_type": "code",
   "execution_count": 98,
   "metadata": {
    "collapsed": true
   },
   "outputs": [],
   "source": [
    "class Solution:\n",
    "    def pathSum(self, root, targetSum):\n",
    "        ans = list()\n",
    "        if not root:\n",
    "            return ans\n",
    "        self.path(root, [], targetSum, ans)\n",
    "        return ans\n",
    "    def path(self, node, pre, rest, ans):\n",
    "        if not node:\n",
    "            return \n",
    "        if not node.left and not node.right and node.val == rest:\n",
    "            ans.append(pre+[node.val]) #这里实际新建了list()\n",
    "        self.path(node.left, pre+[node.val], rest-node.val, ans)\n",
    "        self.path(node.right, pre+[node.val], rest-node.val, ans)\n",
    "        return\n",
    "            "
   ]
  },
  {
   "cell_type": "code",
   "execution_count": null,
   "metadata": {
    "collapsed": true
   },
   "outputs": [],
   "source": [
    "#练习回溯\n",
    "\n",
    "class Solution:\n",
    "    def pathSum(self, root, targetSum):\n",
    "        ans = list()\n",
    "        if not root:\n",
    "            return ans\n",
    "        self.path(root, [], targetSum, ans)\n",
    "        return ans\n",
    "    def path(self, node, pre, rest, ans):\n",
    "        if not node:\n",
    "            return \n",
    "        if not node.left and not node.right and node.val == rest:\n",
    "            ans.append(pre+[node.val]) #这里实际新建了list()\n",
    "        pre += [node.val]\n",
    "        self.path(node.left, pre, rest-node.val, ans)\n",
    "        self.path(node.right, pre, rest-node.val, ans)\n",
    "        pre.pop()\n",
    "        return\n",
    "            "
   ]
  },
  {
   "cell_type": "code",
   "execution_count": 257,
   "metadata": {},
   "outputs": [
    {
     "name": "stdout",
     "output_type": "stream",
     "text": [
      "used time: 32.32\n"
     ]
    }
   ],
   "source": [
    "finish_time = time.time()\n",
    "print(\"used time: {}\".format(round((finish_time - start_time) / 60.0,2)))\n",
    "start_time = finish_time"
   ]
  },
  {
   "cell_type": "markdown",
   "metadata": {},
   "source": [
    "### 排序"
   ]
  },
  {
   "cell_type": "code",
   "execution_count": 264,
   "metadata": {},
   "outputs": [
    {
     "name": "stdout",
     "output_type": "stream",
     "text": [
      "succeed.\n"
     ]
    }
   ],
   "source": [
    "def swap(arr, i, j):\n",
    "    t = arr[i]\n",
    "    arr[i] = arr[j]\n",
    "    arr[j] = t\n",
    "    return\n",
    "def selectionSort(arr):\n",
    "    if not arr:\n",
    "        return \n",
    "    for index in range(len(arr)):\n",
    "        min_index = index\n",
    "        for move in range(index + 1, len(arr)):\n",
    "            if arr[min_index] > arr[move]:\n",
    "                min_index = move\n",
    "        swap(arr, index, min_index)\n",
    "    return \n",
    "\n",
    "def bubbleSort(arr):\n",
    "    if not arr:\n",
    "        return arr\n",
    "    for i in range(len(arr), -1, -1):\n",
    "        for j in range(1, i):\n",
    "            if arr[j-1] > arr[j]:\n",
    "                swap(arr, j-1, j)\n",
    "    return\n",
    "\n",
    "def insertSort(arr):\n",
    "    if not arr:\n",
    "        return arr\n",
    "    for i in range(1, len(arr)):\n",
    "        for j in range(i, 0, -1):\n",
    "            if arr[j-1] > arr[j]:\n",
    "                swap(arr, j-1, j)\n",
    "    return \n",
    "\n",
    "testTime = 10000\n",
    "maxValue = 50\n",
    "maxLen = 5\n",
    "succeed=True\n",
    "for _ in range(testTime):\n",
    "    value = random.randint(0, maxValue)\n",
    "    length = random.randint(0, maxLen)\n",
    "    arr = generateRandomArr(length, value)\n",
    "    arr1 = arr[:]\n",
    "    arr2 = arr[:]\n",
    "    arr3 = arr[:]\n",
    "    selectionSort(arr1)\n",
    "    bubbleSort(arr2)\n",
    "    insertSort(arr3) \n",
    "    if arr1 != arr2 or arr2 != arr3:\n",
    "        print(arr1, arr2,arr3)\n",
    "        print(\"something wrong.\")\n",
    "        succeed = False\n",
    "        break\n",
    "if succeed:\n",
    "    print(\"succeed.\")"
   ]
  },
  {
   "cell_type": "code",
   "execution_count": 265,
   "metadata": {},
   "outputs": [
    {
     "name": "stdout",
     "output_type": "stream",
     "text": [
      "used time: 151.34\n"
     ]
    }
   ],
   "source": [
    "finish_time = time.time()\n",
    "print(\"used time: {}\".format(round((finish_time - start_time) / 60.0,2)))\n",
    "start_time = finish_time"
   ]
  },
  {
   "cell_type": "markdown",
   "metadata": {},
   "source": [
    "### 局部最小值问题"
   ]
  },
  {
   "cell_type": "code",
   "execution_count": null,
   "metadata": {
    "collapsed": true
   },
   "outputs": [],
   "source": [
    "def findMin(arr):\n",
    "    if not arr:\n",
    "        return -1\n",
    "    if len(arr) == 1:\n",
    "        return 0\n",
    "    if arr[0] < arr[1]:\n",
    "        return 0\n",
    "    if arr[-1] < arr[-2]:\n",
    "        return len(arr)-1\n",
    "    L = 1\n",
    "    R = len(arr)-2\n",
    "    mid = L+((R-L)>>1)\n",
    "    while L < R:\n",
    "        if arr[mid] < arr[mid-1] and arr[mid] < arr[mid+1]:\n",
    "            return mid\n",
    "        elif arr[mid] > arr[mid-1]:\n",
    "            R = mid-1\n",
    "        elif arr[mid] > arr[mid+1]\n",
    "            L = mid+1\n",
    "    return left\n",
    "        "
   ]
  },
  {
   "cell_type": "code",
   "execution_count": 266,
   "metadata": {},
   "outputs": [
    {
     "name": "stdout",
     "output_type": "stream",
     "text": [
      "used time: 21.36\n"
     ]
    }
   ],
   "source": [
    "finish_time = time.time()\n",
    "print(\"used time: {}\".format(round((finish_time - start_time) / 60.0,2)))\n",
    "start_time = finish_time"
   ]
  },
  {
   "cell_type": "markdown",
   "metadata": {},
   "source": [
    "### 一个数组中出现了奇数次的数"
   ]
  },
  {
   "cell_type": "code",
   "execution_count": 267,
   "metadata": {
    "collapsed": true
   },
   "outputs": [],
   "source": [
    "def findSingle(arr):\n",
    "    if not arr:\n",
    "        return None\n",
    "    if len(arr) == 1:\n",
    "        return arr[0]\n",
    "    if len(arr) % 2 == 0:\n",
    "        return None\n",
    "    exor = 0\n",
    "    for i in arr:\n",
    "        exor ^= i\n",
    "    return exor"
   ]
  },
  {
   "cell_type": "code",
   "execution_count": 268,
   "metadata": {},
   "outputs": [
    {
     "name": "stdout",
     "output_type": "stream",
     "text": [
      "used time: 2.8\n"
     ]
    }
   ],
   "source": [
    "finish_time = time.time()\n",
    "print(\"used time: {}\".format(round((finish_time - start_time) / 60.0,2)))\n",
    "start_time = finish_time"
   ]
  },
  {
   "cell_type": "markdown",
   "metadata": {},
   "source": [
    "### 一个数组中出现奇数次的两个数"
   ]
  },
  {
   "cell_type": "code",
   "execution_count": 271,
   "metadata": {
    "collapsed": true
   },
   "outputs": [],
   "source": [
    "def findTwo(arr):\n",
    "    if not arr:\n",
    "        return None\n",
    "    if len(arr) == 1:\n",
    "        return arr[0]\n",
    "    if len(arr) % 2 == 1:\n",
    "        return None\n",
    "    exor = 0\n",
    "    for i in arr:\n",
    "        exor ^= i\n",
    "    mostRight = exor&(-exor)\n",
    "    exor1 = 0\n",
    "    for i in arr:\n",
    "        if i & mostRight == mostRight:\n",
    "            exor1 ^= i\n",
    "    return exor1, exor1^exor"
   ]
  },
  {
   "cell_type": "code",
   "execution_count": 270,
   "metadata": {},
   "outputs": [
    {
     "name": "stdout",
     "output_type": "stream",
     "text": [
      "used time: 2.19\n"
     ]
    }
   ],
   "source": [
    "finish_time = time.time()\n",
    "print(\"used time: {}\".format(round((finish_time - start_time) / 60.0,2)))\n",
    "start_time = finish_time"
   ]
  },
  {
   "cell_type": "markdown",
   "metadata": {},
   "source": [
    "### 一个数组有一个数出现了K次，其他数都出现了M次，找到K次的数\n"
   ]
  },
  {
   "cell_type": "code",
   "execution_count": 273,
   "metadata": {
    "collapsed": true
   },
   "outputs": [],
   "source": [
    "def findKtimes(arr, k, m):\n",
    "    if not arr:\n",
    "        return None\n",
    "    l = [0] * 32\n",
    "    for i in range(31):\n",
    "        rightOne = 1 << i\n",
    "        for num in arr:\n",
    "            if num < 0:\n",
    "                num = -num\n",
    "                times[31] += 1\n",
    "            if num & rightOne == rightOne:\n",
    "                l[i] += 1\n",
    "    ans = 0\n",
    "    for i in range(31):\n",
    "        if l[i] % m != 0:\n",
    "            ans |= 1 << i\n",
    "    if l[i] % m != 0:\n",
    "        ans = -ans\n",
    "    return ans\n",
    "            "
   ]
  },
  {
   "cell_type": "code",
   "execution_count": 274,
   "metadata": {},
   "outputs": [
    {
     "name": "stdout",
     "output_type": "stream",
     "text": [
      "used time: 708.46\n"
     ]
    }
   ],
   "source": [
    "finish_time = time.time()\n",
    "print(\"used time: {}\".format(round((finish_time - start_time) / 60.0,2)))\n",
    "start_time = finish_time"
   ]
  },
  {
   "cell_type": "markdown",
   "metadata": {},
   "source": [
    "### 把链表中的给定值都删除"
   ]
  },
  {
   "cell_type": "code",
   "execution_count": 275,
   "metadata": {
    "collapsed": true
   },
   "outputs": [],
   "source": [
    "def deleteNode(head, val):\n",
    "    if not head:\n",
    "        return head\n",
    "    while head.val == val:\n",
    "        head = head.next\n",
    "    #head != val\n",
    "    cur = head\n",
    "    pre = None\n",
    "    while cur:\n",
    "        if cur.val == val:\n",
    "            nxt = cur.next\n",
    "            cur.next = None\n",
    "            pre.next = nxt\n",
    "            cur = nxt\n",
    "        else:\n",
    "            pre = cur\n",
    "            cur = cur.next\n",
    "    return head"
   ]
  },
  {
   "cell_type": "code",
   "execution_count": 276,
   "metadata": {},
   "outputs": [
    {
     "name": "stdout",
     "output_type": "stream",
     "text": [
      "used time: 9.09\n"
     ]
    }
   ],
   "source": [
    "finish_time = time.time()\n",
    "print(\"used time: {}\".format(round((finish_time - start_time) / 60.0,2)))\n",
    "start_time = finish_time"
   ]
  },
  {
   "cell_type": "markdown",
   "metadata": {},
   "source": [
    "### 最小栈实现\n"
   ]
  },
  {
   "cell_type": "code",
   "execution_count": null,
   "metadata": {
    "collapsed": true
   },
   "outputs": [],
   "source": [
    "class MinStack:\n",
    "\n",
    "    def __init__(self):\n",
    "        sef.min = list()\n",
    "        self.val = list()\n",
    "        self.size = 0\n",
    "\n",
    "    def push(self, val: int) -> None:\n",
    "        self.val.append(val)\n",
    "        if self.size == 0:\n",
    "            self.min.append(val)\n",
    "        else:\n",
    "            self.min.append(min(self.min[self.size-1], val))\n",
    "        self.size+=1\n",
    "\n",
    "    def pop(self) -> None:\n",
    "        if self.size == 0:\n",
    "            raise Exception(\"no node.\")\n",
    "        else:\n",
    "            self.min.pop()\n",
    "            return self.val.pop()\n",
    "\n",
    "    def top(self) -> int:\n",
    "        if self.size == 0:\n",
    "            raise Exception(\"empty.\")\n",
    "        else:\n",
    "            return self.val[self.size-1]\n",
    "        \n",
    "    def getMin(self) -> int:\n",
    "        if self.size == 0:\n",
    "            raise Exception(\"empty.\")\n",
    "        \n",
    "         else:\n",
    "            return self.min[self.size-1]\n",
    "\n",
    "\n",
    "# Your MinStack object will be instantiated and called as such:\n",
    "# obj = MinStack()\n",
    "# obj.push(val)\n",
    "# obj.pop()\n",
    "# param_3 = obj.top()\n",
    "# param_4 = obj.getMin()"
   ]
  },
  {
   "cell_type": "code",
   "execution_count": 277,
   "metadata": {},
   "outputs": [
    {
     "name": "stdout",
     "output_type": "stream",
     "text": [
      "used time: 9.25\n"
     ]
    }
   ],
   "source": [
    "finish_time = time.time()\n",
    "print(\"used time: {}\".format(round((finish_time - start_time) / 60.0,2)))\n",
    "start_time = finish_time"
   ]
  },
  {
   "cell_type": "markdown",
   "metadata": {},
   "source": [
    "### 如何用栈结构实现队列结构"
   ]
  },
  {
   "cell_type": "code",
   "execution_count": 278,
   "metadata": {
    "collapsed": true
   },
   "outputs": [],
   "source": [
    "class myQueue:\n",
    "    def __init__(self):\n",
    "        self.stack = list()\n",
    "        self.help = list()\n",
    "        \n",
    "    def add(self, val):\n",
    "        self.stack.append(val)\n",
    "    \n",
    "    def pop(self):\n",
    "        if self.help:\n",
    "            return self.help.pop()\n",
    "        else:\n",
    "            while self.stack:\n",
    "                self.help.append(self.stack.pop())\n",
    "            return self.help.pop()\n",
    "    def top(self):\n",
    "        if self.help:\n",
    "            return self.help[-1]\n",
    "        else:\n",
    "            while self.stack:\n",
    "                self.help.append(self.stack.pop())\n",
    "            return self.help[-1]\n",
    "    "
   ]
  },
  {
   "cell_type": "code",
   "execution_count": 285,
   "metadata": {
    "collapsed": true
   },
   "outputs": [],
   "source": [
    "class MyStack:\n",
    "    def __init__(self):\n",
    "        self.queue = deque()\n",
    "        self.help = deque()\n",
    "        \n",
    "    def add(self, val):\n",
    "        self.queue.append(val)\n",
    "        \n",
    "        \n",
    "    \n",
    "    def pop(self):\n",
    "        if not self.queue:\n",
    "            raise Exception(\"empty\")\n",
    "        while len(self.queue) > 1:\n",
    "            self.help.append(self.queue.popleft())\n",
    "        ans = self.queue.popleft()\n",
    "        temp = self.help\n",
    "        self.help = self.queue\n",
    "        self.queue = temp\n",
    "        return ans\n",
    "        \n",
    "    def peek(self):\n",
    "        if not self.queue:\n",
    "            raise Exception(\"empty\")\n",
    "        while len(self.queue) > 1:\n",
    "            self.help.append(self.queue.popleft())\n",
    "        ans = self.queue.popleft()\n",
    "        self.help.append(ans)\n",
    "        temp = self.help\n",
    "        self.help = self.queue\n",
    "        self.queue = temp\n",
    "        return ans"
   ]
  },
  {
   "cell_type": "code",
   "execution_count": 286,
   "metadata": {},
   "outputs": [
    {
     "name": "stdout",
     "output_type": "stream",
     "text": [
      "used time: 27.67\n"
     ]
    }
   ],
   "source": [
    "finish_time = time.time()\n",
    "print(\"used time: {}\".format(round((finish_time - start_time) / 60.0,2)))\n",
    "start_time = finish_time"
   ]
  },
  {
   "cell_type": "markdown",
   "metadata": {},
   "source": [
    "### 用递归方法求数组中的最大值"
   ]
  },
  {
   "cell_type": "code",
   "execution_count": 287,
   "metadata": {
    "collapsed": true
   },
   "outputs": [],
   "source": [
    "def maxArr(arr):\n",
    "    if not arr:\n",
    "        return None\n",
    "    N = len(arr)\n",
    "    return f(arr, 0, None, N)\n",
    "def f(arr, index, maxV, N):\n",
    "    if index == N:\n",
    "        return maxV\n",
    "    if maxV is None:\n",
    "        maxV = arr[index]\n",
    "    maxV = max(maxV, arr[index])\n",
    "    ans = f(arr, index+1, maxV, N)\n",
    "    return ans\n",
    "        "
   ]
  },
  {
   "cell_type": "code",
   "execution_count": 288,
   "metadata": {},
   "outputs": [
    {
     "data": {
      "text/plain": [
       "10"
      ]
     },
     "execution_count": 288,
     "metadata": {},
     "output_type": "execute_result"
    }
   ],
   "source": [
    "arr = [1,5,3,6,7,2,4,10]\n",
    "maxArr(arr)"
   ]
  },
  {
   "cell_type": "markdown",
   "metadata": {},
   "source": [
    "### 归并排序"
   ]
  },
  {
   "cell_type": "code",
   "execution_count": 330,
   "metadata": {
    "collapsed": true
   },
   "outputs": [],
   "source": [
    "def swap(arr, i, j):\n",
    "    temp = arr[i]\n",
    "    arr[i] = arr[j]\n",
    "    arr[j] = temp\n",
    "    \n",
    "def merge(arr, L, M, R):\n",
    "    L1 = L \n",
    "    L2 = M+1 \n",
    "    sortedArr = list()\n",
    "    while L1 <= M and L2 <= R:\n",
    "        if arr[L1] <= arr[L2]:\n",
    "            sortedArr.append(arr[L1])\n",
    "            L1+=1\n",
    "        else:\n",
    "            sortedArr.append(arr[L2])\n",
    "            L2+=1\n",
    "    while L1 <= M:\n",
    "        sortedArr.append(arr[L1])\n",
    "        L1+=1\n",
    "        \n",
    "    while L2 <= R:\n",
    "        sortedArr.append(arr[L2])\n",
    "        L2+=1\n",
    "    \n",
    "    for i in range(len(sortedArr)):\n",
    "        arr[L+i] = sortedArr[i]\n",
    "        \n",
    "    return \n",
    "def process(arr, L, R):\n",
    "    if L >= R:\n",
    "        return \n",
    "    M = L+((R-L)>>1)\n",
    "    process(arr, L, M)\n",
    "    process(arr, M+1, R)\n",
    "    merge(arr, L, M, R)\n",
    "    return \n",
    "\n",
    "def mergeSort(arr):\n",
    "    if not arr or len(arr) < 2:\n",
    "        return\n",
    "    process(arr, 0, len(arr)-1)\n",
    "    return"
   ]
  },
  {
   "cell_type": "code",
   "execution_count": 336,
   "metadata": {
    "collapsed": true
   },
   "outputs": [],
   "source": [
    "def mergeSort2(arr):\n",
    "    if not arr or len(arr) < 2:\n",
    "        return\n",
    "    mergeStep=1\n",
    "    while mergeStep < len(arr):\n",
    "        L = 0\n",
    "        R = len(arr)-1\n",
    "        while R <= len(arr) - 1:\n",
    "            if len(arr) - L - mergeStep+1 <= 0: # [L +mergeStep - 1 , len(arr)-1] > mergeStep ==> \n",
    "                break\n",
    "            M = L + mergeStep - 1\n",
    "            if len(arr) - L - mergeStep <= mergeStep:# [L +mergeStep, len(arr)-1] > mergeStep ==> \n",
    "                R = len(arr) - 1\n",
    "            else:\n",
    "                R = L + 2 * mergeStep - 1\n",
    "            merge(arr, L, M, R)\n",
    "            L = R+1\n",
    "        if len(arr) * 1.0 / mergeStep < 2:\n",
    "            break\n",
    "        mergeStep = mergeStep * 2\n",
    "    return"
   ]
  },
  {
   "cell_type": "markdown",
   "metadata": {},
   "source": [
    "### 快速排序"
   ]
  },
  {
   "cell_type": "code",
   "execution_count": 327,
   "metadata": {
    "collapsed": true
   },
   "outputs": [],
   "source": [
    "#小于，lt+1换，跳\n",
    "#等于，       跳\n",
    "#大于，R-1换\n",
    "def partition(arr, L, R):\n",
    "    if L == R:\n",
    "        return L, R\n",
    "    lt = L-1\n",
    "    gt = R\n",
    "    index = L\n",
    "    while index < gt:\n",
    "        if arr[index] < arr[R]:\n",
    "            swap(arr, lt+1, index)\n",
    "            lt += 1\n",
    "            index += 1\n",
    "        elif arr[index] == arr[R]:\n",
    "            index += 1\n",
    "        else:\n",
    "            swap(arr, gt-1, index)\n",
    "            gt -= 1\n",
    "    swap(arr, gt, R)\n",
    "    #此时gt第一个数与R交换，\n",
    "    return lt+1, gt\n",
    "            \n",
    "            \n",
    "    \n",
    "def process(arr, L, R):\n",
    "    if L >= R:\n",
    "        return\n",
    "    index = random.randint(L, R)\n",
    "    swap(arr, index, R)\n",
    "    equalL, equalR = partition(arr, L, R)\n",
    "    process(arr, L, equalL-1)\n",
    "    process(arr, equalR+1, R)\n",
    "    return\n",
    "\n",
    "\n",
    "def quickSort(arr):\n",
    "    if not arr or len(arr) < 2:\n",
    "        return \n",
    "    process(arr, 0, len(arr)-1)\n",
    "    return\n",
    "    \n",
    "    \n",
    "    "
   ]
  },
  {
   "cell_type": "code",
   "execution_count": 339,
   "metadata": {},
   "outputs": [
    {
     "name": "stdout",
     "output_type": "stream",
     "text": [
      "succeed.\n"
     ]
    }
   ],
   "source": [
    "testTime = 10000\n",
    "maxValue = 20\n",
    "maxLen = 100\n",
    "succeed=True\n",
    "for _ in range(testTime):\n",
    "    value = random.randint(0, maxValue)\n",
    "    length = random.randint(0, maxLen)\n",
    "    arr = generateRandomArr(length, value)\n",
    "    arr1 = arr[:]\n",
    "#     arr2 = arr[:]\n",
    "    arr3 = arr[:]\n",
    "    mergeSort2(arr1)  \n",
    "#     quickSort(arr2)\n",
    "\n",
    "    arr3.sort()\n",
    "    if arr1 != arr3:\n",
    "        print(arr1, arr3)\n",
    "        print(\"something wrong.\")\n",
    "        succeed = False\n",
    "        break\n",
    "if succeed:\n",
    "    print(\"succeed.\")"
   ]
  },
  {
   "cell_type": "code",
   "execution_count": 340,
   "metadata": {},
   "outputs": [
    {
     "name": "stdout",
     "output_type": "stream",
     "text": [
      "used time: 88.75\n"
     ]
    }
   ],
   "source": [
    "finish_time = time.time()\n",
    "print(\"used time: {}\".format(round((finish_time - start_time) / 60.0,2)))\n",
    "start_time = finish_time"
   ]
  },
  {
   "cell_type": "markdown",
   "metadata": {},
   "source": [
    "### 求数组小和 "
   ]
  },
  {
   "cell_type": "code",
   "execution_count": 360,
   "metadata": {
    "collapsed": true
   },
   "outputs": [],
   "source": [
    "def mergeSmallSum(arr, L, M, R):\n",
    "    ans = 0\n",
    "    if L == R:\n",
    "        return ans\n",
    "    \n",
    "    helpArr = [None] * (R-L+1)\n",
    "    p1 = L\n",
    "    p2 = M+1\n",
    "    index = 0\n",
    "    \n",
    "    while p1 <= M and p2<= R:\n",
    "        if arr[p1] < arr[p2]:\n",
    "            helpArr[index] = arr[p1]\n",
    "            ans += (arr[p1] * (R-p2+1))\n",
    "            p1 += 1\n",
    "        else:\n",
    "            helpArr[index] = arr[p2]\n",
    "            p2 += 1\n",
    "        index+=1\n",
    "    \n",
    "    while p1 <= M:\n",
    "        helpArr[index] = arr[p1]\n",
    "        p1 += 1\n",
    "        index+=1\n",
    "    while p2 <= R:\n",
    "        helpArr[index] = arr[p2]\n",
    "        p2 += 1\n",
    "        index+=1\n",
    "    \n",
    "    for i in range(R-L+1):\n",
    "        arr[L+i]=helpArr[i]\n",
    "    return ans\n",
    "\n",
    "def processSmallSum(arr, L, R):\n",
    "    if L >= R:\n",
    "        return 0\n",
    "    M = L+((R-L)>>1)\n",
    "    ans = processSmallSum(arr, L, M)\n",
    "    ans += processSmallSum(arr, M+1, R)\n",
    "    ans += mergeSmallSum(arr, L, M, R)\n",
    "    return ans\n",
    "\n",
    "def smallSum(arr):\n",
    "    if not arr or len(arr) < 2:\n",
    "        return 0\n",
    "    ans = processSmallSum(arr, 0, len(arr)-1)\n",
    "    return ans\n",
    "    \n",
    "    \n",
    "def smallTest(arr):\n",
    "    if not arr or len(arr) < 2:\n",
    "        return 0\n",
    "    ans = 0\n",
    "    for i in range(len(arr)):\n",
    "        for j in range(i-1, -1, -1):\n",
    "            if arr[j] < arr[i]:\n",
    "                ans += arr[j]\n",
    "    return ans"
   ]
  },
  {
   "cell_type": "code",
   "execution_count": 361,
   "metadata": {
    "collapsed": true
   },
   "outputs": [],
   "source": [
    "def generateWithoutNegRandomArr(maxLen, maxValue):\n",
    "    arr = list()\n",
    "    for i in range(maxLen):\n",
    "        arr.append(random.randint(0, maxValue))\n",
    "    return arr"
   ]
  },
  {
   "cell_type": "code",
   "execution_count": 363,
   "metadata": {},
   "outputs": [
    {
     "name": "stdout",
     "output_type": "stream",
     "text": [
      "succeed.\n"
     ]
    }
   ],
   "source": [
    "testTime = 10000\n",
    "maxValue = 100\n",
    "maxLen = 100\n",
    "succeed=True\n",
    "for _ in range(testTime):\n",
    "    value = random.randint(0, maxValue)\n",
    "    length = random.randint(0, maxLen)\n",
    "    arr = generateWithoutNegRandomArr(length, value)\n",
    "    arr1 = arr[:]\n",
    "    arr2 = arr[:]\n",
    "    ans1 = smallTest(arr1)\n",
    "    ans2 = smallSum(arr2)\n",
    "    if ans1 != ans2:\n",
    "        print(ans1, ans2, arr)\n",
    "        print(\"something wrong.\")\n",
    "        succeed = False\n",
    "        break\n",
    "if succeed:\n",
    "    print(\"succeed.\")"
   ]
  },
  {
   "cell_type": "markdown",
   "metadata": {},
   "source": [
    "### 求数组中的逆序对数量"
   ]
  },
  {
   "cell_type": "code",
   "execution_count": 388,
   "metadata": {
    "collapsed": true
   },
   "outputs": [],
   "source": [
    "def mergeRev(arr, L, M, R):\n",
    "    ans = 0\n",
    "    if L >= R:\n",
    "        return ans\n",
    "    helpArr = [None] * (R-L+1)\n",
    "    p1 = M\n",
    "    p2 = R\n",
    "    index = R-L\n",
    "    while p1 >= L and  p2>=M+1:\n",
    "        if arr[p1] < arr[p2]:\n",
    "            ans += (1 * (p1-L+1))\n",
    "            helpArr[index] = arr[p2]\n",
    "            p2 -= 1\n",
    "        else:\n",
    "            helpArr[index] = arr[p1]\n",
    "            p1 -= 1\n",
    "        index-=1\n",
    "    \n",
    "    while p1 >= L:\n",
    "        helpArr[index] = arr[p1]\n",
    "        p1 -= 1\n",
    "        index-=1\n",
    "    while p2 >= M+1:\n",
    "        helpArr[index] = arr[p2]\n",
    "        p2 -= 1\n",
    "        index-=1\n",
    "    \n",
    "    for i in range(R-L+1):\n",
    "        arr[L+i]=helpArr[i]\n",
    "    return ans\n",
    "\n",
    "def processRev(arr, L, R):\n",
    "    if L >= R:\n",
    "        return 0\n",
    "    M = L+((R-L)>>1)\n",
    "    ans = processRev(arr, L, M)\n",
    "    ans += processRev(arr, M+1, R)\n",
    "    ans += mergeRev(arr, L, M, R)\n",
    "    return ans\n",
    "\n",
    "def reversePairs(arr):\n",
    "    if not arr or len(arr) < 2:\n",
    "        return 0\n",
    "    ans = processRev(arr, 0, len(arr)-1)\n",
    "    return ans\n",
    "    \n",
    "    \n",
    "def reversePairsTest(arr):\n",
    "    if not arr or len(arr) < 2:\n",
    "        return 0\n",
    "    ans = 0\n",
    "    for i in range(len(arr)-1):\n",
    "        for j in range(i+1, len(arr)):\n",
    "            if arr[j] > arr[i]:\n",
    "                ans += 1\n",
    "    return ans"
   ]
  },
  {
   "cell_type": "code",
   "execution_count": 390,
   "metadata": {},
   "outputs": [
    {
     "name": "stdout",
     "output_type": "stream",
     "text": [
      "succeed.\n"
     ]
    }
   ],
   "source": [
    "testTime = 10000\n",
    "maxValue = 100\n",
    "maxLen = 100\n",
    "succeed=True\n",
    "for _ in range(testTime):\n",
    "    value = random.randint(0, maxValue)\n",
    "    length = random.randint(0, maxLen)\n",
    "    arr = generateWithoutNegRandomArr(length, value)\n",
    "    arr1 = arr[:]\n",
    "    arr2 = arr[:]\n",
    "    ans1 = reversePairsTest(arr1)\n",
    "    ans2 = reversePairs(arr2)\n",
    "    if ans1 != ans2:\n",
    "        print(ans1, ans2, arr)\n",
    "        print(\"something wrong.\")\n",
    "        succeed = False\n",
    "        break\n",
    "if succeed:\n",
    "    print(\"succeed.\")"
   ]
  },
  {
   "cell_type": "code",
   "execution_count": 391,
   "metadata": {},
   "outputs": [
    {
     "name": "stdout",
     "output_type": "stream",
     "text": [
      "used time: 40.32\n"
     ]
    }
   ],
   "source": [
    "finish_time = time.time()\n",
    "print(\"used time: {}\".format(round((finish_time - start_time) / 60.0,2)))\n",
    "start_time = finish_time"
   ]
  },
  {
   "cell_type": "markdown",
   "metadata": {},
   "source": [
    "### 求数组中的左大右两倍数对数量"
   ]
  },
  {
   "cell_type": "code",
   "execution_count": 397,
   "metadata": {
    "collapsed": true
   },
   "outputs": [],
   "source": [
    "def mergeTwice(arr, L, M, R):\n",
    "    ans = 0\n",
    "    if L >= R:\n",
    "        return ans\n",
    "    l1 = L\n",
    "    l2 = M\n",
    "    while l1 <= M:\n",
    "        while l2+1 <= R and arr[l2+1] * 2 < arr[l1]:\n",
    "            l2 += 1\n",
    "        ans += max(l2 - M,0)\n",
    "        l1 += 1\n",
    "    \n",
    "    helpArr = [None] * (R-L+1)\n",
    "    p1 = M\n",
    "    p2 = R\n",
    "    index = R-L\n",
    "    while p1 >= L and  p2>=M+1:\n",
    "        if arr[p1] < arr[p2]:\n",
    "            helpArr[index] = arr[p2]\n",
    "            p2 -= 1\n",
    "        else:\n",
    "            helpArr[index] = arr[p1]\n",
    "            p1 -= 1\n",
    "        index-=1\n",
    "    \n",
    "    while p1 >= L:\n",
    "        helpArr[index] = arr[p1]\n",
    "        p1 -= 1\n",
    "        index-=1\n",
    "    while p2 >= M+1:\n",
    "        helpArr[index] = arr[p2]\n",
    "        p2 -= 1\n",
    "        index-=1\n",
    "    \n",
    "    for i in range(R-L+1):\n",
    "        arr[L+i]=helpArr[i]\n",
    "    return ans\n",
    "\n",
    "def processTwice(arr, L, R):\n",
    "    if L >= R:\n",
    "        return 0\n",
    "    M = L+((R-L)>>1)\n",
    "    ans = processTwice(arr, L, M)\n",
    "    ans += processTwice(arr, M+1, R)\n",
    "    ans += mergeTwice(arr, L, M, R)\n",
    "    return ans\n",
    "\n",
    "def reverseTwice(arr):\n",
    "    if not arr or len(arr) < 2:\n",
    "        return 0\n",
    "    ans = processTwice(arr, 0, len(arr)-1)\n",
    "    return ans\n",
    "    \n",
    "    \n",
    "def reverseTwiceTest(arr):\n",
    "    if not arr or len(arr) < 2:\n",
    "        return 0\n",
    "    ans = 0\n",
    "    for i in range(1, len(arr)):\n",
    "        for j in range(i-1, -1, - 1):\n",
    "            if arr[j] > arr[i] * 2:\n",
    "                ans += 1\n",
    "    return ans"
   ]
  },
  {
   "cell_type": "code",
   "execution_count": 399,
   "metadata": {},
   "outputs": [
    {
     "name": "stdout",
     "output_type": "stream",
     "text": [
      "succeed.\n"
     ]
    }
   ],
   "source": [
    "testTime = 10000\n",
    "maxValue = 100\n",
    "maxLen = 100\n",
    "succeed=True\n",
    "for _ in range(testTime):\n",
    "    value = random.randint(0, maxValue)\n",
    "    length = random.randint(0, maxLen)\n",
    "    arr = generateWithoutNegRandomArr(length, value)\n",
    "    arr1 = arr[:]\n",
    "    arr2 = arr[:]\n",
    "    ans1 = reverseTwiceTest(arr1)\n",
    "    ans2 = reverseTwice(arr2)\n",
    "    if ans1 != ans2:\n",
    "        print(ans1, ans2, arr)\n",
    "        print(\"something wrong.\")\n",
    "        succeed = False\n",
    "        break\n",
    "if succeed:\n",
    "    print(\"succeed.\")"
   ]
  },
  {
   "cell_type": "code",
   "execution_count": 403,
   "metadata": {},
   "outputs": [
    {
     "name": "stdout",
     "output_type": "stream",
     "text": [
      "used time: 106.89\n"
     ]
    }
   ],
   "source": [
    "finish_time = time.time()\n",
    "print(\"used time: {}\".format(round((finish_time - start_time) / 60.0,2)))\n",
    "start_time = finish_time"
   ]
  },
  {
   "cell_type": "markdown",
   "metadata": {},
   "source": [
    "### 区间和达标的子数组数量"
   ]
  },
  {
   "cell_type": "code",
   "execution_count": 515,
   "metadata": {
    "collapsed": true
   },
   "outputs": [],
   "source": [
    "# class Solution:\n",
    "#     def countRangeSum(self, nums: List[int], lower: int, upper: int) -> int:\n",
    "\n",
    "def getPreSum(arr):\n",
    "    if not arr:\n",
    "        return list()\n",
    "    pre = [0] * (len(arr))\n",
    "    ans = 0\n",
    "    for index in range(0, len(arr)):\n",
    "        ans += arr[index]\n",
    "        pre[index] = ans\n",
    "    return pre\n",
    "\n",
    "\n",
    "\n",
    "def mergeNum(arr, L, M, R, lower, upper):\n",
    "    if L >= R:\n",
    "        return 0\n",
    "    ans = 0\n",
    "    l1 = L \n",
    "    r1 = L\n",
    "    for i in range(M+1, R+1):\n",
    "        cur = arr[i]\n",
    "        cur_max = cur - lower\n",
    "        cur_min = cur - upper\n",
    "        #情况1 arr[l1] > cur_max, l1 stay, r1 stay , ans += 0\n",
    "        #情况2 cur_min <= arr[l1] <= cur_max, l1 stay, r1 jumpy, ans+=1\n",
    "        #情况3 cur_min > arr[l1], l1 jump, r1 jump ans+=1\n",
    "        while l1 <= M and arr[l1] < cur_min: \n",
    "            l1 += 1\n",
    "        while r1 <= M and arr[r1] <= cur_max:\n",
    "            r1 += 1\n",
    "        if r1 > l1:\n",
    "            ans += (r1 - l1)\n",
    "\n",
    "    p1 = L\n",
    "    p2 = M+1\n",
    "    helpArr = [None] * (R-L+1)\n",
    "    index = 0\n",
    "    while p1 <= M and p2 <= R:\n",
    "        if arr[p1] <= arr[p2]:\n",
    "            helpArr[index] = arr[p1]\n",
    "            p1+=1\n",
    "        else:\n",
    "            helpArr[index] = arr[p2]\n",
    "            p2+=1\n",
    "        index += 1\n",
    "\n",
    "    while p1 <= M:\n",
    "        helpArr[index] = arr[p1]\n",
    "        p1+=1\n",
    "        index+=1\n",
    "    while p2 <= R:\n",
    "        helpArr[index] = arr[p2]\n",
    "        p2+=1\n",
    "        index+=1\n",
    "\n",
    "    for i in range(len(helpArr)):\n",
    "        arr[i+L] = helpArr[i]\n",
    "    return ans\n",
    "    \n",
    "def processNum(arr, L, R, lower, upper):\n",
    "    if L > R:\n",
    "        return 0\n",
    "    if L == R:\n",
    "        return 1 if arr[L] >= lower and arr[L] <= upper else 0\n",
    "    M = L + ((R-L)>>1)\n",
    "    ans = processNum(arr, L, M, lower, upper)\n",
    "    ans += processNum(arr, M+1, R, lower, upper)\n",
    "    ans += mergeNum(arr, L, M, R, lower, upper)\n",
    "    return ans\n",
    "\n",
    "def countRangeSum(nums: int, lower: int, upper: int) -> int:\n",
    "    if not nums:\n",
    "        return -1\n",
    "    pre = getPreSum(nums)\n",
    "    ans = processNum(pre, 0, len(nums)-1, lower, upper)\n",
    "    return ans\n",
    "    \n",
    "def countRangeSumTest(nums, lower, upper):\n",
    "    if not nums:\n",
    "        return -1\n",
    "    ans = 0\n",
    "    interval = list()\n",
    "    for i in range(len(nums)):\n",
    "        for j in range(len(nums)-1, i-1, -1):\n",
    "            interval.append(sum(nums[i:j+1]))\n",
    "    for i in interval:\n",
    "        if lower<=i<=upper:\n",
    "            ans+=1\n",
    "    return ans"
   ]
  },
  {
   "cell_type": "code",
   "execution_count": 516,
   "metadata": {},
   "outputs": [
    {
     "data": {
      "text/plain": [
       "1"
      ]
     },
     "execution_count": 516,
     "metadata": {},
     "output_type": "execute_result"
    }
   ],
   "source": [
    "countRangeSum([0], 0,0)"
   ]
  },
  {
   "cell_type": "code",
   "execution_count": 518,
   "metadata": {},
   "outputs": [
    {
     "name": "stdout",
     "output_type": "stream",
     "text": [
      "succeed.\n"
     ]
    }
   ],
   "source": [
    "testTime = 10000\n",
    "maxValue = 100\n",
    "maxLen = 20\n",
    "succeed=True\n",
    "for _ in range(testTime):\n",
    "    value = random.randint(0, maxValue)\n",
    "    length = random.randint(0, maxLen)\n",
    "    arr = generateRandomArr(length, value)\n",
    "    lower = random.randint(-maxValue * 2, maxValue * 2)\n",
    "    upper = lower + random.randint(0, maxValue * 2)\n",
    "    arr1 = arr[:]\n",
    "    arr2 = arr[:]\n",
    "    ans1 = countRangeSum(arr1,lower,upper)\n",
    "    ans2 = countRangeSumTest(arr2,lower,upper)\n",
    "    if ans1 != ans2:\n",
    "        print(ans1, ans2, arr)\n",
    "        print(\"something wrong.\")\n",
    "        succeed = False\n",
    "        break\n",
    "if succeed:\n",
    "    print(\"succeed.\")"
   ]
  },
  {
   "cell_type": "code",
   "execution_count": 519,
   "metadata": {},
   "outputs": [
    {
     "name": "stdout",
     "output_type": "stream",
     "text": [
      "used time: 205.79\n"
     ]
    }
   ],
   "source": [
    "finish_time = time.time()\n",
    "print(\"used time: {}\".format(round((finish_time - start_time) / 60.0,2)))\n",
    "start_time = finish_time"
   ]
  },
  {
   "cell_type": "markdown",
   "metadata": {},
   "source": [
    "### 手写堆"
   ]
  },
  {
   "cell_type": "code",
   "execution_count": 564,
   "metadata": {
    "collapsed": true
   },
   "outputs": [],
   "source": [
    "class Heap:\n",
    "    def __init__(self, flag=False):\n",
    "        self.heap = list()\n",
    "        self.indexMap = dict()\n",
    "        self.size = 0\n",
    "        self.flag = flag #true 大根堆\n",
    "        \n",
    "    def heapify(self, index):\n",
    "        left = index * 2 + 1\n",
    "        while left < self.size:\n",
    "            if self.flag:\n",
    "                largest = left\n",
    "                if left + 1 < self.size and self.heap[left] < self.heap[left+1]:\n",
    "                    largest = left+1\n",
    "                if self.heap[index] < self.heap[largest]:\n",
    "                    self.swap(index, largest)\n",
    "                    index = largest\n",
    "                    left = index * 2 + 1\n",
    "                else:\n",
    "                    break\n",
    "            else:\n",
    "                smallest = left\n",
    "                if left + 1 < self.size and self.heap[left] > self.heap[left+1]:\n",
    "                    smallest = left+1\n",
    "                if self.heap[index] > self.heap[smallest]:\n",
    "                    self.swap(index, smallest)\n",
    "                    index = smallest\n",
    "                    left = index * 2 + 1\n",
    "                else:\n",
    "                    break \n",
    "        return\n",
    "    def heapInsert(self, index):\n",
    "        parent = int((index - 1) * 1.0 / 2) \n",
    "        while index > 0:\n",
    "            if self.flag:\n",
    "                if self.heap[index] > self.heap[parent]:\n",
    "                    self.swap(index, parent)\n",
    "                    index = parent\n",
    "                    parent = int((index - 1) * 1.0 / 2) \n",
    "                else:\n",
    "                    break\n",
    "            else:\n",
    "                if self.heap[index] < self.heap[parent]:\n",
    "                    self.swap(index, parent)\n",
    "                    index = parent\n",
    "                    parent = int((index - 1) * 1.0 / 2) \n",
    "                else:\n",
    "                    break\n",
    "        return\n",
    "    \n",
    "    def add(self, value):\n",
    "        if value not in self.indexMap:\n",
    "            self.heap.append(value)\n",
    "            self.indexMap[value] = self.size\n",
    "            self.heapInsert(self.size)\n",
    "            self.size += 1\n",
    "        else:\n",
    "            index = self.indexMap[value]\n",
    "            self.update(index)\n",
    "        return \n",
    "    \n",
    "    def update(self, index):\n",
    "        self.heapInsert(index)\n",
    "        self.heapify(index)\n",
    "        return \n",
    "    \n",
    "    def pop(self):\n",
    "        if self.size == 0:\n",
    "            raise Exception(\"Empty.\")\n",
    "        else:\n",
    "            if self.size == 1:\n",
    "                ans = self.heap[0]\n",
    "                self.size -= 1\n",
    "                self.heap = list()\n",
    "                self.indexMap.pop(ans)\n",
    "                return ans\n",
    "            else:\n",
    "                self.swap(0, self.size-1)\n",
    "                ans = self.heap.pop()\n",
    "                self.indexMap.pop(ans)\n",
    "                self.size -= 1\n",
    "                self.heapify(0)\n",
    "                return ans\n",
    "                 \n",
    "    def peek(self):\n",
    "        if self.size == 0:\n",
    "            raise Exception(\"Empty.\")\n",
    "        else:\n",
    "            return self.heap[0]\n",
    "    \n",
    "    def swap(self, i, j):\n",
    "        \n",
    "        temp = self.heap[i]\n",
    "        self.heap[i] = self.heap[j]\n",
    "        self.indexMap[self.heap[i]] = i\n",
    "        self.heap[j] = temp\n",
    "        self.indexMap[self.heap[j]] = j\n",
    "        return\n",
    "    \n",
    "    def getAll(self):\n",
    "        return self.heap"
   ]
  },
  {
   "cell_type": "code",
   "execution_count": 565,
   "metadata": {
    "collapsed": true
   },
   "outputs": [],
   "source": [
    "test = Heap()"
   ]
  },
  {
   "cell_type": "code",
   "execution_count": 566,
   "metadata": {
    "collapsed": true
   },
   "outputs": [],
   "source": [
    "test.add(5)"
   ]
  },
  {
   "cell_type": "code",
   "execution_count": 567,
   "metadata": {},
   "outputs": [
    {
     "data": {
      "text/plain": [
       "5"
      ]
     },
     "execution_count": 567,
     "metadata": {},
     "output_type": "execute_result"
    }
   ],
   "source": [
    "test.pop()"
   ]
  },
  {
   "cell_type": "code",
   "execution_count": 568,
   "metadata": {
    "collapsed": true
   },
   "outputs": [],
   "source": [
    "test.add(1)"
   ]
  },
  {
   "cell_type": "code",
   "execution_count": 569,
   "metadata": {
    "collapsed": true
   },
   "outputs": [],
   "source": [
    "test.add(5)"
   ]
  },
  {
   "cell_type": "code",
   "execution_count": 570,
   "metadata": {
    "collapsed": true
   },
   "outputs": [],
   "source": [
    "test.add(6)"
   ]
  },
  {
   "cell_type": "code",
   "execution_count": 571,
   "metadata": {
    "collapsed": true
   },
   "outputs": [],
   "source": [
    "test.add(2)"
   ]
  },
  {
   "cell_type": "code",
   "execution_count": 572,
   "metadata": {},
   "outputs": [
    {
     "data": {
      "text/plain": [
       "[1, 2, 6, 5]"
      ]
     },
     "execution_count": 572,
     "metadata": {},
     "output_type": "execute_result"
    }
   ],
   "source": [
    "test.getAll()"
   ]
  },
  {
   "cell_type": "code",
   "execution_count": 573,
   "metadata": {
    "collapsed": true
   },
   "outputs": [],
   "source": [
    "test.add(0)"
   ]
  },
  {
   "cell_type": "code",
   "execution_count": 574,
   "metadata": {
    "collapsed": true
   },
   "outputs": [],
   "source": [
    "test.add(10)"
   ]
  },
  {
   "cell_type": "code",
   "execution_count": 575,
   "metadata": {},
   "outputs": [
    {
     "data": {
      "text/plain": [
       "[0, 1, 6, 5, 2, 10]"
      ]
     },
     "execution_count": 575,
     "metadata": {},
     "output_type": "execute_result"
    }
   ],
   "source": [
    "test.getAll()"
   ]
  },
  {
   "cell_type": "code",
   "execution_count": 520,
   "metadata": {},
   "outputs": [
    {
     "data": {
      "text/plain": [
       "0"
      ]
     },
     "execution_count": 520,
     "metadata": {},
     "output_type": "execute_result"
    }
   ],
   "source": [
    "int(1 * 1.0 / 2) "
   ]
  },
  {
   "cell_type": "code",
   "execution_count": 583,
   "metadata": {},
   "outputs": [
    {
     "name": "stdout",
     "output_type": "stream",
     "text": [
      "used time: 47.59\n"
     ]
    }
   ],
   "source": [
    "finish_time = time.time()\n",
    "print(\"used time: {}\".format(round((finish_time - start_time) / 60.0,2)))\n",
    "start_time = finish_time"
   ]
  },
  {
   "cell_type": "markdown",
   "metadata": {},
   "source": [
    "### 堆排序"
   ]
  },
  {
   "cell_type": "code",
   "execution_count": 588,
   "metadata": {
    "collapsed": true
   },
   "outputs": [],
   "source": [
    "\n",
    "def heapInsert(arr, index):\n",
    "    while index > 0:\n",
    "        parent = int((index - 1)*1.0 / 2)\n",
    "        if arr[parent] < arr[index]:\n",
    "            swap(arr, parent, index)\n",
    "            index = parent\n",
    "        else:\n",
    "            break\n",
    "    return\n",
    "\n",
    "def heapSort(arr):\n",
    "    if not arr or len(arr) < 2:\n",
    "        return \n",
    "    for i in range(len(arr)-1, -1, -1):\n",
    "        for j in range(0, i+1):\n",
    "            heapInsert(arr, j)\n",
    "        swap(arr, 0, i)\n",
    "    return "
   ]
  },
  {
   "cell_type": "code",
   "execution_count": 590,
   "metadata": {},
   "outputs": [
    {
     "name": "stdout",
     "output_type": "stream",
     "text": [
      "succeed.\n"
     ]
    }
   ],
   "source": [
    "testTime = 10000\n",
    "maxValue = 100\n",
    "maxLen = 100\n",
    "succeed=True\n",
    "for _ in range(testTime):\n",
    "    value = random.randint(0, maxValue)\n",
    "    length = random.randint(0, maxLen)\n",
    "    arr = generateRandomArr(length, value)\n",
    "    arr1 = arr[:]\n",
    "    arr2 = arr[:]\n",
    "    heapSort(arr1)\n",
    "    arr2.sort()\n",
    "    if arr1 != arr2:\n",
    "        print(arr1, arr2)\n",
    "        print(\"something wrong.\")\n",
    "        succeed = False\n",
    "        break\n",
    "if succeed:\n",
    "    print(\"succeed.\")"
   ]
  },
  {
   "cell_type": "code",
   "execution_count": 591,
   "metadata": {},
   "outputs": [
    {
     "name": "stdout",
     "output_type": "stream",
     "text": [
      "used time: 12.17\n"
     ]
    }
   ],
   "source": [
    "finish_time = time.time()\n",
    "print(\"used time: {}\".format(round((finish_time - start_time) / 60.0,2)))\n",
    "start_time = finish_time"
   ]
  },
  {
   "cell_type": "markdown",
   "metadata": {},
   "source": [
    "### 最大线段重合问题"
   ]
  },
  {
   "cell_type": "code",
   "execution_count": 593,
   "metadata": {
    "collapsed": true
   },
   "outputs": [],
   "source": [
    "import heapq\n",
    "def mostCommonLine(arr):\n",
    "    ans = 0\n",
    "    if not arr:\n",
    "        return 0\n",
    "    cross = list()\n",
    "    lines = sorted(arr, key=lambda x: x[0])\n",
    "    ans = 0\n",
    "    for i in range(len(lines)):\n",
    "        cur = lines[i]\n",
    "        while cross and cross[0] <= cur[0]: #堆内的结束位置早于当前线段的开始结点，不能穿过，弹出\n",
    "            heapq.heappop(cross)\n",
    "        heapq.heappush(cross, cur[1])\n",
    "        ans = max(ans, len(cross))\n",
    "    return ans\n",
    "            "
   ]
  },
  {
   "cell_type": "code",
   "execution_count": 594,
   "metadata": {},
   "outputs": [
    {
     "name": "stdout",
     "output_type": "stream",
     "text": [
      "used time: 26.84\n"
     ]
    }
   ],
   "source": [
    "finish_time = time.time()\n",
    "print(\"used time: {}\".format(round((finish_time - start_time) / 60.0,2)))\n",
    "start_time = finish_time"
   ]
  },
  {
   "cell_type": "markdown",
   "metadata": {},
   "source": [
    "### 固定数组实现前缀树"
   ]
  },
  {
   "cell_type": "code",
   "execution_count": 598,
   "metadata": {
    "collapsed": true
   },
   "outputs": [],
   "source": [
    "class TrieNode:\n",
    "    def __init__(self, maxlen):\n",
    "        self.pass_ = 0\n",
    "        self.end = 0\n",
    "        self.nexts = [None] * maxlen\n",
    "class Trie:\n",
    "    def __init__(self):\n",
    "        self.root = TrieNode(26)\n",
    "    def insert(self, word):\n",
    "        if not word:\n",
    "            return\n",
    "        words = list(word)\n",
    "        root = self.root\n",
    "        root.pass_ += 1\n",
    "        for i in range(len(words)):\n",
    "            path = ord(words[i]) - ord(\"a\")\n",
    "            if root.nexts[path] is None:\n",
    "                root.nexts[path] = TrieNode(26)\n",
    "            root = root.nexts[path]\n",
    "            root.pass_ += 1\n",
    "        root.end += 1\n",
    "        return\n",
    "             \n",
    "    def delete(self, word):\n",
    "        if not word:\n",
    "            return \n",
    "        if self.count(word) != 0:\n",
    "            words = list(word)\n",
    "            root = self.root\n",
    "            root.pass_ -= 1\n",
    "            for i in range(len(words)):\n",
    "                path = ord(words[i]) - ord(\"a\")\n",
    "                if root.nexts[path].pass_ == 1:\n",
    "                    root.nexts[path] = None\n",
    "                    return\n",
    "                else:\n",
    "                    root = root.nexts[path]\n",
    "                    root.pass_ -= 1\n",
    "            root.end -= 1\n",
    "            return\n",
    "        \n",
    "    def count(self, word):\n",
    "        if not word:\n",
    "            return 0\n",
    "        words = list(word)\n",
    "        root = self.root\n",
    "        for i in range(len(words)):\n",
    "            path = ord(words[i]) - ord(\"a\")\n",
    "            if root.nexts[path] is None:\n",
    "                return 0\n",
    "            root = root.nexts[path]\n",
    "        return root.end\n",
    "    def preNumber(self, word):\n",
    "        if not word:\n",
    "            return 0\n",
    "        words = list(word)\n",
    "        root = self.root\n",
    "        for i in range(len(words)):\n",
    "            path = ord(words[i]) - ord(\"a\")\n",
    "            if root.nexts[path] is None:\n",
    "                return 0\n",
    "            else:\n",
    "                root = root.nexts[path]\n",
    "        return root.pass_\n",
    "        "
   ]
  },
  {
   "cell_type": "code",
   "execution_count": 599,
   "metadata": {},
   "outputs": [
    {
     "name": "stdout",
     "output_type": "stream",
     "text": [
      "used time: 22.16\n"
     ]
    }
   ],
   "source": [
    "finish_time = time.time()\n",
    "print(\"used time: {}\".format(round((finish_time - start_time) / 60.0,2)))\n",
    "start_time = finish_time"
   ]
  },
  {
   "cell_type": "markdown",
   "metadata": {},
   "source": [
    "### 计数排序"
   ]
  },
  {
   "cell_type": "code",
   "execution_count": 610,
   "metadata": {
    "collapsed": true
   },
   "outputs": [],
   "source": [
    "def countSort(arr):\n",
    "    counts = [0] * 200\n",
    "    for a in arr:\n",
    "        counts[a] += 1\n",
    "    ans = list()\n",
    "    for i in range(len(counts)):\n",
    "        if counts[i] > 0:\n",
    "            ans.extend([i] * counts[i])\n",
    "    return ans"
   ]
  },
  {
   "cell_type": "code",
   "execution_count": 611,
   "metadata": {},
   "outputs": [
    {
     "data": {
      "text/plain": [
       "[1, 1, 2, 2, 3, 3, 4, 5, 5, 7]"
      ]
     },
     "execution_count": 611,
     "metadata": {},
     "output_type": "execute_result"
    }
   ],
   "source": [
    "countSort([1,2,3,3,5,1,2,4,5,7])"
   ]
  },
  {
   "cell_type": "markdown",
   "metadata": {},
   "source": [
    "### 基数排序something wrong"
   ]
  },
  {
   "cell_type": "code",
   "execution_count": 638,
   "metadata": {
    "collapsed": true
   },
   "outputs": [],
   "source": [
    "# def getDigit(num, d):\n",
    "#     return (num // (10 ** (d-1))) % 10\n",
    "# def radixSort(arr):\n",
    "#     if not arr:\n",
    "#         return\n",
    "#     maxV = arr[0]\n",
    "#     minV = arr[0]\n",
    "#     for i in range(1, len(arr)):\n",
    "#         maxV = max(maxV, arr[i])\n",
    "#         minV = min(minV, arr[i])\n",
    "#     if minV < 0:\n",
    "#         for i in range(0, len(arr)):\n",
    "#             arr[i] = arr[i] - minV\n",
    "#     digit = 0\n",
    "#     while maxV!=0:\n",
    "#         maxV = maxV // 10\n",
    "#         digit+=1\n",
    "#     helpArr = [None] * len(arr)\n",
    "#     for d in range(1, digit+1):\n",
    "#         count = [0] * 10\n",
    "#         for num in arr:\n",
    "#             count[getDigit(num ,d)] += 1\n",
    "#         for i in range(1, 10):\n",
    "#             count[i] = count[i] + count[i-1]\n",
    "#         for i in range(len(helpArr)-1, -1, -1):\n",
    "#             num = arr[i]\n",
    "#             remainder = getDigit(num ,d)\n",
    "#             index = count[remainder] - 1\n",
    "#             count[remainder] -= 1\n",
    "#             helpArr[index] = num\n",
    "#         for i in range(len(helpArr)):\n",
    "#             arr[i] = helpArr[i]\n",
    "            \n",
    "#     if minV < 0:\n",
    "#         for i in range(0, len(arr)):\n",
    "#             arr[i] = arr[i] + minV\n",
    "#     return\n",
    "\n",
    "    "
   ]
  },
  {
   "cell_type": "code",
   "execution_count": 639,
   "metadata": {
    "collapsed": true
   },
   "outputs": [],
   "source": [
    "# getDigit(96, 3)"
   ]
  },
  {
   "cell_type": "code",
   "execution_count": 640,
   "metadata": {
    "collapsed": true
   },
   "outputs": [],
   "source": [
    "# testTime = 100\n",
    "# maxValue = 100\n",
    "# maxLen = 5\n",
    "# succeed=True\n",
    "# for _ in range(testTime):\n",
    "#     value = random.randint(0, maxValue)\n",
    "#     length = random.randint(0, maxLen)\n",
    "#     arr = generateRandomArr(length, value)\n",
    "#     arr1 = arr[:]\n",
    "#     arr2 = arr[:]\n",
    "#     radixSort(arr1)\n",
    "#     arr2.sort()\n",
    "#     if arr1 != arr2:\n",
    "#         print(arr1, arr2)\n",
    "#         print(\"something wrong.\")\n",
    "#         succeed = False\n",
    "#         break\n",
    "# if succeed:\n",
    "#     print(\"succeed.\")"
   ]
  },
  {
   "cell_type": "code",
   "execution_count": null,
   "metadata": {
    "collapsed": true
   },
   "outputs": [],
   "source": []
  }
 ],
 "metadata": {
  "kernelspec": {
   "display_name": "Python 3 (ipykernel)",
   "language": "python",
   "name": "python3"
  },
  "language_info": {
   "codemirror_mode": {
    "name": "ipython",
    "version": 3
   },
   "file_extension": ".py",
   "mimetype": "text/x-python",
   "name": "python",
   "nbconvert_exporter": "python",
   "pygments_lexer": "ipython3",
   "version": "3.9.12"
  },
  "toc": {
   "base_numbering": 1,
   "nav_menu": {},
   "number_sections": true,
   "sideBar": true,
   "skip_h1_title": false,
   "title_cell": "Table of Contents",
   "title_sidebar": "Contents",
   "toc_cell": false,
   "toc_position": {},
   "toc_section_display": true,
   "toc_window_display": false
  }
 },
 "nbformat": 4,
 "nbformat_minor": 2
}
