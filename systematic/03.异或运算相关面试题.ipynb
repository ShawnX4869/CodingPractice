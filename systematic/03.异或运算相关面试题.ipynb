{
 "cells": [
  {
   "cell_type": "code",
   "execution_count": null,
   "metadata": {
    "collapsed": true
   },
   "outputs": [],
   "source": [
    "# 异或：相同为0，不同为1。 =不进位相加\n",
    "# 同或：相同为1，不同为0。"
   ]
  },
  {
   "cell_type": "markdown",
   "metadata": {},
   "source": [
    "### 3.1 异或性质"
   ]
  },
  {
   "cell_type": "code",
   "execution_count": 2,
   "metadata": {},
   "outputs": [
    {
     "data": {
      "text/plain": [
       "'\\n1. 0^N = N\\n2. N^N = 0\\n3. 满足交换律、结合律（因为无进位相加，变化位置，不会改变01的个数）\\n'"
      ]
     },
     "execution_count": 2,
     "metadata": {},
     "output_type": "execute_result"
    }
   ],
   "source": [
    "'''\n",
    "1. 0^N = N\n",
    "2. N^N = 0\n",
    "3. 满足交换律、结合律（因为无进位相加，变化位置，不会改变01的个数）\n",
    "'''"
   ]
  },
  {
   "cell_type": "markdown",
   "metadata": {},
   "source": [
    "### 3.2 不用额外变量交换两个变量的值"
   ]
  },
  {
   "cell_type": "code",
   "execution_count": null,
   "metadata": {
    "collapsed": true
   },
   "outputs": [],
   "source": [
    "#要求 a不等于b\n",
    "a = 2\n",
    "b = 3\n",
    "a = a^b\n",
    "b = a^b\n",
    "a = a^b"
   ]
  },
  {
   "cell_type": "markdown",
   "metadata": {},
   "source": [
    "### 3.3 一个数组有一种数出现了奇数次，其他数都出现了偶数次，找到这个数"
   ]
  },
  {
   "cell_type": "code",
   "execution_count": 3,
   "metadata": {
    "collapsed": true
   },
   "outputs": [],
   "source": [
    "def findUnique(arr):\n",
    "    if not arr:\n",
    "        return None\n",
    "    eor = 0\n",
    "    for i in range(len(arr)):\n",
    "        eor ^= arr[i]\n",
    "    return eor"
   ]
  },
  {
   "cell_type": "markdown",
   "metadata": {},
   "source": [
    "### 3.4 怎么把一个int的最右侧1取出来"
   ]
  },
  {
   "cell_type": "code",
   "execution_count": 4,
   "metadata": {
    "collapsed": true
   },
   "outputs": [],
   "source": [
    "def mostRightOne(num):\n",
    "    return num & (-num) #-num 等同 取反+1"
   ]
  },
  {
   "cell_type": "markdown",
   "metadata": {},
   "source": [
    "### 3.5 一个数组有两种数出现了奇数次，其他数都出现了偶数次，找到两个数"
   ]
  },
  {
   "cell_type": "code",
   "execution_count": 13,
   "metadata": {
    "collapsed": true
   },
   "outputs": [],
   "source": [
    "# 1. 假设这两个数为a、b，且a!=b。 eor所有arr后，得到即a^b\n",
    "# 2. eor上最右侧为1的位数x，那么a、b在这x位上一定一个是1一个是0\n",
    "# 3. 那么arr可以分为两类，一类是x位上是1；一类是0\n",
    "# 4. 可以得到某一类的eor'\n",
    "# 5. 所以 a = eor ^ eor', b = eor ^ a\n",
    "def findTwoUnique(arr):\n",
    "    eor = 0\n",
    "    for i in range(len(arr)):\n",
    "        eor ^= arr[i]\n",
    "    rightOne = eor & (-eor)\n",
    "    hasOne = 0\n",
    "    for i in range(len(arr)):\n",
    "        if rightOne & arr[i] == rightOne:\n",
    "            hasOne ^= arr[i]\n",
    "    return hasOne, eor^hasOne"
   ]
  },
  {
   "cell_type": "markdown",
   "metadata": {},
   "source": [
    "### 3.6 一个数组有一个数出现了K次，其他数都出现了M次，找到K次的数\n",
    "（M>1，M > K，要求额外空间O(1)，时间O(0)）"
   ]
  },
  {
   "cell_type": "code",
   "execution_count": 30,
   "metadata": {},
   "outputs": [
    {
     "name": "stdout",
     "output_type": "stream",
     "text": [
      "test done\n"
     ]
    }
   ],
   "source": [
    "# 准备长度为32的数组（满足条件，固定长度；将arr出现的数挨个转为2进制，出现的1都累加在前面的数组上。\n",
    "# 例如 M=5，K=2\n",
    "# arr[32] ==>    [0,0,0,0...5,15,32,...2,12,5,0,5]\n",
    "#如果某一位%M==0,  则该出现K次的数，在该位上不为1，为0\n",
    "#反之，某一位%M有余数，则该出现K次的数，在该位上一定为1。\n",
    "\n",
    "\n",
    "def onlyKTimes(arr, k, m):\n",
    "# 需要保证arr中，只有一种数出现了K次，其他数都出现了M次\n",
    "    times = [0] * 32\n",
    "    #times[0]：0位置的1出现了几次\n",
    "    for num in arr:\n",
    "        if num < 0:\n",
    "            num = -num\n",
    "            times[31] += 1\n",
    "        for i in range(31): #前31位\n",
    "            times[i] += (num >> i) & 1\n",
    "    ans = 0 ##注意！！ 这种数是0的时候，需要单独处理，这里没有考虑\n",
    "    for i in range(31):  #前31位\n",
    "        #k次数在这位上为1\n",
    "        if times[i] % m != 0:\n",
    "            ans |= (1 << i)\n",
    "    if times[31] % m != 0:\n",
    "        ans = -ans\n",
    "    return ans\n",
    "\n",
    "#对数器\n",
    "def test(arr, k, m):\n",
    "    hashMap = dict()\n",
    "    for i in arr:\n",
    "        if i not in hashMap.keys():\n",
    "            hashMap[i] = 1\n",
    "        else:\n",
    "            hashMap[i] += 1\n",
    "    for (key,value) in hashMap.items():\n",
    "        if value == k:\n",
    "            return key\n",
    "    return None\n",
    "\n",
    "import random\n",
    "\n",
    "def randomArray(maxKinds, maxRange, k, m):\n",
    "    numKinds = max(int(random.random() * maxKinds) + 1, 2) #一定有两种或两种以上的数\n",
    "    kTimeNum = random.randint(-maxRange, maxRange)\n",
    "    arr = [kTimeNum] * k\n",
    "    records = set()\n",
    "    records.add(kTimeNum)\n",
    "    numKinds -= 1\n",
    "    while numKinds:\n",
    "        cur = random.randint(-maxRange, maxRange)\n",
    "        while cur in records:\n",
    "            cur = random.randint(-maxRange, maxRange)\n",
    "        records.add(cur)\n",
    "        numKinds -= 1\n",
    "        arr += [cur] * m\n",
    "    #打乱顺序可以直接用random.shuffle(arr)\n",
    "    for i in range(len(arr)):\n",
    "        j = int(random.random() * len(arr))\n",
    "        tmp = arr[i]\n",
    "        arr[i] = arr[j]\n",
    "        arr[j] = tmp\n",
    "    return arr\n",
    "        \n",
    "\n",
    "\n",
    "maxKinds = 3\n",
    "maxRange = 200\n",
    "testTime = 10000\n",
    "maxTime = 9\n",
    "for _ in range(testTime):\n",
    "    a = int(random.random() * maxTime) + 1  #1~9\n",
    "    b = int(random.random() * maxTime) + 1\n",
    "    k = min(a,b)\n",
    "    m = max(a,b)\n",
    "    if k == m:\n",
    "        m+= 1\n",
    "    arr = randomArray(maxKinds,maxRange,k,m)\n",
    "    ans1 = test(arr, k, m)\n",
    "    ans2 = onlyKTimes(arr, k, m)\n",
    "    if ans1 != ans2:\n",
    "        print(\"something wrong:\")\n",
    "        print(arr)\n",
    "        print(ans1)\n",
    "        print(ans2)\n",
    "        break\n",
    "print(\"test done\")"
   ]
  },
  {
   "cell_type": "code",
   "execution_count": null,
   "metadata": {
    "collapsed": true
   },
   "outputs": [],
   "source": []
  }
 ],
 "metadata": {
  "kernelspec": {
   "display_name": "Python 3 (ipykernel)",
   "language": "python",
   "name": "python3"
  },
  "language_info": {
   "codemirror_mode": {
    "name": "ipython",
    "version": 3
   },
   "file_extension": ".py",
   "mimetype": "text/x-python",
   "name": "python",
   "nbconvert_exporter": "python",
   "pygments_lexer": "ipython3",
   "version": "3.9.12"
  },
  "toc": {
   "base_numbering": 1,
   "nav_menu": {},
   "number_sections": true,
   "sideBar": true,
   "skip_h1_title": false,
   "title_cell": "Table of Contents",
   "title_sidebar": "Contents",
   "toc_cell": false,
   "toc_position": {},
   "toc_section_display": true,
   "toc_window_display": false
  }
 },
 "nbformat": 4,
 "nbformat_minor": 2
}
