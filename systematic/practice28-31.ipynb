{
 "cells": [
  {
   "cell_type": "markdown",
   "id": "29ba6177",
   "metadata": {},
   "source": [
    "### KMP"
   ]
  },
  {
   "cell_type": "code",
   "execution_count": 15,
   "id": "50f55fff",
   "metadata": {},
   "outputs": [],
   "source": [
    "# s1, s2字符串匹配\n",
    "def KMP(s1, s2):\n",
    "    if not s1 or not s2 or len(s2) > len(s1):\n",
    "        return -1\n",
    "    str1 = list(s1)\n",
    "    str2 = list(s2)\n",
    "    nexts = getNextsArray(str2)\n",
    "#     print(nexts)\n",
    "    x = 0\n",
    "    y = 0\n",
    "    while x < len(str1) and y < len(str2):\n",
    "        if str1[x] == str2[y]:\n",
    "            x += 1\n",
    "            y += 1\n",
    "        elif nexts[y] >= 0:  \n",
    "            y = nexts[y]\n",
    "        else:   #此时y=0，nexts[y] = -1, 即x与y的第一个数也没碰上\n",
    "            x += 1\n",
    "    return x - y if y == len(str2) else -1\n",
    "            \n",
    "    \n",
    "def getNextsArray(arr):\n",
    "    if len(arr) == 1:\n",
    "        return [-1]\n",
    "    nexts = [None] * len(arr)\n",
    "    nexts[0] = -1\n",
    "    nexts[1] = 0\n",
    "    index = 2\n",
    "    pointer = 0\n",
    "    while index < len(arr):\n",
    "        if arr[index - 1] == arr[pointer]:\n",
    "            pointer += 1\n",
    "            nexts[index] = pointer\n",
    "            index += 1\n",
    "        elif pointer > 0:\n",
    "            pointer = nexts[pointer]\n",
    "        else:\n",
    "            nexts[index] = 0\n",
    "            index += 1\n",
    "    return nexts\n",
    "            "
   ]
  },
  {
   "cell_type": "code",
   "execution_count": 16,
   "id": "914d2ab4",
   "metadata": {},
   "outputs": [],
   "source": [
    "#利用i位置之前的位置信息加速\n",
    "def getNextArray(s):\n",
    "    if len(s) == 1:\n",
    "        return [-1]\n",
    "    nexts = [None] * len(s)\n",
    "    nexts[0] = -1\n",
    "    nexts[1] = 0\n",
    "    index = 2 #当前填到哪，利用index-1跳步\n",
    "    cn = 0   # 当前是哪个位置，和index-1位置字符比对\n",
    "    while index < len(s):\n",
    "        if s[index - 1] == s[cn]:\n",
    "            nexts[index] = cn + 1\n",
    "            cn += 1 #index的cn，给index+1使用\n",
    "            index += 1\n",
    "        elif cn > 0: #继续跳 #cn没对上，但查看cn-1当时对到了哪个cn\n",
    "            cn = nexts[cn]\n",
    "        else:\n",
    "            nexts[index] = 0 #此时cn已经跳到了0，不用再动了\n",
    "            index += 1\n",
    "    return nexts\n",
    "    \n",
    "def getIndexOf(s1, s2):\n",
    "    if not s1 or not s2 or len(s1) < len(s2):\n",
    "        return -1\n",
    "    str1 = list(s1)\n",
    "    str2 = list(s2)\n",
    "    #比对到的位置\n",
    "    x = 0\n",
    "    y = 0\n",
    "    nexts = getNextArray(str2)\n",
    "    #O(N)\n",
    "    #证明：(做差评估浮动幅度)\n",
    "    #x的最大值是N，y的最大值也是N。X-Y的最大值也是N\n",
    "    #分支一if时， x++，y++ ==> x变大， x-y不变。\n",
    "    #分支二elif时，x++     ==> x变大， x-y变大。\n",
    "    #分支三else时，y变小，  ==> x不变， x-y变大。\n",
    "    #所以三个分支的浮动，<=2N\n",
    "    while x < len(str1) and y < len(str2):\n",
    "        if str1[x] == str2[y]:\n",
    "            x += 1\n",
    "            y += 1\n",
    "        elif nexts[y] == -1: # y=0\n",
    "            x += 1\n",
    "        else:\n",
    "            y = nexts[y]\n",
    "    return x - y if y == len(str2) else -1 #只有x=y,y++,所以y来到越界，一定y遍历了整个s2.\n",
    "   \n"
   ]
  },
  {
   "cell_type": "code",
   "execution_count": 97,
   "id": "80822bde",
   "metadata": {},
   "outputs": [
    {
     "name": "stdout",
     "output_type": "stream",
     "text": [
      "succeed.\n"
     ]
    }
   ],
   "source": [
    "import random\n",
    "def generateRandomString(maxLen, maxValue=25):\n",
    "    string = \"\"\n",
    "    for i in range(maxLen):\n",
    "        string += (chr(random.randint(0, maxValue) + ord(\"a\")))\n",
    "    return string\n",
    "\n",
    "testTime = 10000\n",
    "maxValue = 3\n",
    "maxLen = 6\n",
    "succeed=True\n",
    "for _ in range(testTime):\n",
    "    value = random.randint(1, maxValue)\n",
    "    length = random.randint(0, maxLen)\n",
    "    s1 = generateRandomString(length * 10, value)\n",
    "    s2 = generateRandomString(length - random.randint(0, length), value - random.randint(0, value))\n",
    "    ans1 = getIndexOf(s1,s2)\n",
    "    ans2 = KMP(s1,s2)\n",
    "    if ans1 != ans2:\n",
    "        print(ans1, ans2)\n",
    "        print(\"something wrong.\")\n",
    "        succeed = False\n",
    "        break\n",
    "if succeed:\n",
    "    print(\"succeed.\")"
   ]
  },
  {
   "cell_type": "markdown",
   "id": "6cf48d81",
   "metadata": {},
   "source": [
    "### Manacher\n",
    "https://leetcode.cn/problems/longest-palindromic-subsequence/"
   ]
  },
  {
   "cell_type": "code",
   "execution_count": 133,
   "id": "4b5a713d",
   "metadata": {},
   "outputs": [],
   "source": [
    "def manacher(string):\n",
    "    if not string:\n",
    "        return 0\n",
    "    s = manacherString(string)\n",
    "    R = -1\n",
    "    C = -1\n",
    "    index = 0\n",
    "    N = len(s)\n",
    "    pArr = [None] * N\n",
    "    while index < N:\n",
    "        if index < R:\n",
    "            pArr[index] = min(R - index, pArr[2*C-index])\n",
    "        else:\n",
    "            pArr[index] = 1\n",
    "        while index - pArr[index] >= 0 and index + pArr[index] < N and s[index - pArr[index]] == s[index + pArr[index]]:\n",
    "            pArr[index] += 1\n",
    "        if index + pArr[index] > R:\n",
    "            R = index + pArr[index]\n",
    "            C = index\n",
    "        index += 1\n",
    "    p = 0\n",
    "    start = 0\n",
    "    for i in range(N):\n",
    "        if pArr[i] > p:\n",
    "            p = pArr[i]\n",
    "            if i % 2 == 0:\n",
    "                start = i // 2 - (p - 1)//2\n",
    "            else:\n",
    "                start = (i // 2 - (p - 2) // 2)\n",
    "    return string[start:start+p-1] #返回最长子串\n",
    "         \n",
    "    \n",
    "def manacherString(string):\n",
    "    stringCopy = \"\"\n",
    "    for i in string:\n",
    "        stringCopy += str(i)\n",
    "    s = [\"#\"]\n",
    "    for i in stringCopy:\n",
    "        s.append(i)\n",
    "        s.append(\"#\")\n",
    "    return s"
   ]
  },
  {
   "cell_type": "code",
   "execution_count": 139,
   "id": "5d8669a7",
   "metadata": {},
   "outputs": [
    {
     "name": "stdout",
     "output_type": "stream",
     "text": [
      "['#', 'a', '#', 'a', '#', 'b', '#', 'c', '#', 'b', '#']\n",
      "[1, 2, 3, 2, 1, 2, 1, 4, 1, 2, 1]\n"
     ]
    },
    {
     "data": {
      "text/plain": [
       "'bcb'"
      ]
     },
     "execution_count": 139,
     "metadata": {},
     "output_type": "execute_result"
    }
   ],
   "source": [
    "manacher(\"aabcb\")"
   ]
  },
  {
   "cell_type": "markdown",
   "id": "44fb9348",
   "metadata": {},
   "source": [
    "### 无序数组中求第K小的数"
   ]
  },
  {
   "cell_type": "markdown",
   "id": "25587ed5",
   "metadata": {},
   "source": [
    "#### 方法一：改写快排"
   ]
  },
  {
   "cell_type": "code",
   "execution_count": 167,
   "id": "f5d3404c",
   "metadata": {},
   "outputs": [],
   "source": [
    "import random\n",
    "def topK(arr, k):\n",
    "    if not arr or k > len(arr):\n",
    "        return None\n",
    "    N = len(arr)\n",
    "    r = random.randint(0, N-1)\n",
    "    swap(arr, r, N-1)\n",
    "    equalL, equalR = partition(arr, 0, N-1)\n",
    "    while not (equalL <= k - 1 <= equalR):\n",
    "        if k < equalL:\n",
    "            L = 0\n",
    "            R = equalL - 1\n",
    "        elif k > equalR:\n",
    "            L = equalR\n",
    "            R = N - 1\n",
    "        r = random.randint(L, R)\n",
    "        swap(arr, r, R)\n",
    "        equalL, equalR = partition(arr, L, R)\n",
    "    return arr[equalL]\n",
    "def partition(arr, L, R):\n",
    "    p1 = L - 1\n",
    "    p2 = R\n",
    "    index = L\n",
    "    while index < p2:\n",
    "        if arr[index] < arr[R]:\n",
    "            p1 += 1\n",
    "            swap(arr, index, p1)\n",
    "            index += 1\n",
    "        elif arr[index] == arr[R]:\n",
    "            index += 1\n",
    "        else:\n",
    "            p2 -= 1\n",
    "            swap(arr, index, p2)\n",
    "    swap(arr, index, R)\n",
    "    return p1+1, p2\n",
    "\n",
    "def swap(arr, i, j):\n",
    "    temp = arr[i]\n",
    "    arr[i] = arr[j]\n",
    "    arr[j] = temp\n",
    "    return"
   ]
  },
  {
   "cell_type": "code",
   "execution_count": 169,
   "id": "5bcef82e",
   "metadata": {
    "scrolled": false
   },
   "outputs": [],
   "source": [
    "def bfprt(arr, L, R, index):\n",
    "    pass"
   ]
  },
  {
   "cell_type": "markdown",
   "id": "1ae102e0",
   "metadata": {},
   "source": [
    "#### 无序数组topK个最大的数¶"
   ]
  },
  {
   "cell_type": "markdown",
   "id": "a6ed869a",
   "metadata": {},
   "source": [
    "### Morris遍历"
   ]
  },
  {
   "cell_type": "markdown",
   "id": "eb22662b",
   "metadata": {},
   "source": [
    "#### 先序遍历"
   ]
  },
  {
   "cell_type": "code",
   "execution_count": 291,
   "id": "6c1d110d",
   "metadata": {},
   "outputs": [],
   "source": [
    "class Node:\n",
    "    def __init__(self, val, left=None, right=None):\n",
    "        self.val = val\n",
    "        self.left = left\n",
    "        self.right = right\n",
    "\n",
    "def morrisPre(head):\n",
    "    if not head:\n",
    "        return None\n",
    "    cur = head\n",
    "    while cur:\n",
    "        mostRight = cur.left\n",
    "        if mostRight:\n",
    "            while mostRight.right and mostRight.right != cur:\n",
    "                mostRight = mostRight.right\n",
    "            if not mostRight.right:\n",
    "                mostRight.right = cur #once\n",
    "                print(cur.val, end=\",\")\n",
    "                cur = cur.left\n",
    "                continue\n",
    "            else:\n",
    "                mostRight.right = None # twice\n",
    "        else:\n",
    "            print(cur.val, end=\",\")\n",
    "        cur = cur.right\n",
    "    return None"
   ]
  },
  {
   "cell_type": "markdown",
   "id": "c01c7e9c",
   "metadata": {},
   "source": [
    "#### 中序遍历"
   ]
  },
  {
   "cell_type": "code",
   "execution_count": 292,
   "id": "5e6f83fd",
   "metadata": {},
   "outputs": [],
   "source": [
    "def morrisIn(head):\n",
    "    if not head:\n",
    "        return None\n",
    "    cur = head\n",
    "    while cur:\n",
    "        mostRight = cur.left\n",
    "        if mostRight:\n",
    "            while mostRight.right and mostRight.right != cur:\n",
    "                mostRight = mostRight.right\n",
    "            if not mostRight.right:\n",
    "                mostRight.right = cur #once\n",
    "                cur = cur.left\n",
    "                continue\n",
    "            else:\n",
    "                mostRight.right = None # twice\n",
    "        \n",
    "        print(cur.val, end=\",\")\n",
    "        cur = cur.right\n",
    "    return None"
   ]
  },
  {
   "cell_type": "markdown",
   "id": "1b5311e4",
   "metadata": {},
   "source": [
    "#### 后序遍历"
   ]
  },
  {
   "cell_type": "code",
   "execution_count": 245,
   "id": "fbe053a8",
   "metadata": {},
   "outputs": [],
   "source": [
    "def morrisPosPrac(head):\n",
    "    if not head:\n",
    "        return None\n",
    "    cur = head\n",
    "    while cur:\n",
    "        left = cur.left\n",
    "        mostRight = cur.left\n",
    "        if mostRight:\n",
    "            while mostRight.right and mostRight.right != cur:\n",
    "                mostRight = mostRight.right\n",
    "            if not mostRight.right:\n",
    "#                 print(\"connect\", cur.val)\n",
    "                mostRight.right = cur #once\n",
    "                cur = cur.left\n",
    "                continue\n",
    "            else:\n",
    "                mostRight.right = None # twice\n",
    "#                 print(\"now\",cur.val)\n",
    "                reversePrac(left)\n",
    "                printEdgePrac(mostRight)\n",
    "                reversePrac(mostRight)\n",
    "                cur.left = left\n",
    "        cur = cur.right\n",
    "    end = reverse(head)\n",
    "    printEdgePrac(end)\n",
    "    head = reverse(end)\n",
    "    return None\n",
    "\n",
    "def reversePrac(head):\n",
    "    if not head:\n",
    "        return None\n",
    "    pre = None\n",
    "    nxt = None\n",
    "    cur = head\n",
    "    while cur:\n",
    "        nxt = cur.right\n",
    "        cur.right = pre\n",
    "        pre = cur\n",
    "        cur = nxt\n",
    "    return pre\n",
    "\n",
    "def printEdgePrac(head):\n",
    "    if not head:\n",
    "        return None\n",
    "    cur = head\n",
    "    while cur:\n",
    "        print(cur.val, end=\",\")\n",
    "        cur = cur.right\n",
    "    return None\n",
    "\n"
   ]
  },
  {
   "cell_type": "code",
   "execution_count": 242,
   "id": "989b2f80",
   "metadata": {},
   "outputs": [],
   "source": [
    "def morrisPos(head):\n",
    "    if not head:\n",
    "        return None\n",
    "    cur = head\n",
    "    mostRight = None\n",
    "    while cur:\n",
    "        mostRight = cur.left\n",
    "        if mostRight:\n",
    "            while mostRight.right and mostRight.right != cur:\n",
    "                mostRight = mostRight.right\n",
    "            if not mostRight.right:\n",
    "                mostRight.right = cur\n",
    "                cur = cur.left\n",
    "                continue\n",
    "            else:\n",
    "                mostRight.right = None\n",
    "                printEdge(cur.left)\n",
    "        cur = cur.right\n",
    "    printEdge(head)\n",
    "    return None\n",
    "\n",
    "def printEdge(head):\n",
    "    tail = reverseEdge(head)\n",
    "    cur = tail\n",
    "    while cur:\n",
    "        print(cur.val, end=\",\")\n",
    "        cur = cur.right\n",
    "    reverseEdge(tail)\n",
    "    return None\n",
    "\n",
    "def reverseEdge(head):\n",
    "    pre = None\n",
    "    nxt = None\n",
    "    while head:\n",
    "        nxt = head.right\n",
    "        head.right = pre\n",
    "        pre = head\n",
    "        head = nxt\n",
    "    return pre"
   ]
  },
  {
   "cell_type": "code",
   "execution_count": 404,
   "id": "0382e317",
   "metadata": {},
   "outputs": [],
   "source": [
    "import random\n",
    "from collections import deque\n",
    "def generateRandBT(depth, maxValue):\n",
    "    if depth == 1:\n",
    "        return Node(random.randint(-maxValue, maxValue))\n",
    "\n",
    "    head = Node(random.randint(-maxValue, maxValue))\n",
    "    cur_last = head\n",
    "    next_last = None\n",
    "    queue = deque()\n",
    "    queue.append(head)\n",
    "    while queue and depth > 0:\n",
    "        cur = queue.popleft()\n",
    "        rand = random.random()\n",
    "        if rand > 0.3:\n",
    "            cur.left = Node(random.randint(-maxValue, maxValue))\n",
    "            queue.append(cur.left)\n",
    "            next_last = cur.left\n",
    "        rand = random.random()\n",
    "        if rand > 0.3:\n",
    "            cur.right = Node(random.randint(-maxValue, maxValue))\n",
    "            queue.append(cur.right)\n",
    "            next_last = cur.right\n",
    "        if cur == cur_last:\n",
    "            depth -= 1\n",
    "            cur_last = next_last\n",
    "    return head"
   ]
  },
  {
   "cell_type": "code",
   "execution_count": 209,
   "id": "789cf1ba",
   "metadata": {},
   "outputs": [],
   "source": [
    "def getSpace(num):\n",
    "    space = \"\"\n",
    "    for i in range(num):\n",
    "        space+= \" \"\n",
    "    return space\n",
    "    \n",
    "\n",
    "def printInOrder(head, height, to, length):\n",
    "    if head is None:\n",
    "        return \n",
    "    printInOrder(head.right, height+1, \"↓\", length)\n",
    "    val = to + str(head.val) + to\n",
    "    lenM= len(str(head.val))\n",
    "    lenL = (length - lenM) // 2\n",
    "    lenR = length - lenM - lenL\n",
    "    val = getSpace(lenL) + val + getSpace(lenR)\n",
    "    print(getSpace(height * length) + val)\n",
    "    printInOrder(head.left, height+1, \"↑\", length)\n",
    "def printBinaryTree(head):\n",
    "    print(\"Binary Tree: \")\n",
    "    printInOrder(head, 0, \"H\", 17)\n",
    "    print()"
   ]
  },
  {
   "cell_type": "code",
   "execution_count": 371,
   "id": "de444c97",
   "metadata": {},
   "outputs": [],
   "source": [
    "t = generateRandBT(3, 10)"
   ]
  },
  {
   "cell_type": "code",
   "execution_count": 372,
   "id": "e90ca87d",
   "metadata": {},
   "outputs": [
    {
     "name": "stdout",
     "output_type": "stream",
     "text": [
      "Binary Tree: \n",
      "                                                           ↓2↓        \n",
      "                                         ↓-7↓        \n",
      "                                                           ↑0↑        \n",
      "                        ↓-2↓        \n",
      "                                                           ↓0↓        \n",
      "                                         ↑-6↑        \n",
      "                                                          ↑-4↑        \n",
      "        H0H        \n",
      "                                                          ↓-7↓        \n",
      "                                         ↓-10↓       \n",
      "                                                          ↑-3↑        \n",
      "                        ↑-8↑        \n",
      "                                                          ↓-1↓        \n",
      "                                          ↑0↑        \n",
      "                                                           ↑5↑        \n",
      "\n"
     ]
    }
   ],
   "source": [
    "printBinaryTree(t)"
   ]
  },
  {
   "cell_type": "code",
   "execution_count": 246,
   "id": "98b7a58f",
   "metadata": {},
   "outputs": [
    {
     "name": "stdout",
     "output_type": "stream",
     "text": [
      "-9,-9,1,0,-4,4,7,2,"
     ]
    }
   ],
   "source": [
    "morrisPos(t)"
   ]
  },
  {
   "cell_type": "code",
   "execution_count": 247,
   "id": "b521350f",
   "metadata": {},
   "outputs": [
    {
     "name": "stdout",
     "output_type": "stream",
     "text": [
      "-9,-9,1,0,-4,4,7,2,"
     ]
    }
   ],
   "source": [
    "morrisPosPrac(t)"
   ]
  },
  {
   "cell_type": "markdown",
   "id": "1358a282",
   "metadata": {},
   "source": [
    "#### 判断一棵树是否是搜索二叉树"
   ]
  },
  {
   "cell_type": "code",
   "execution_count": 249,
   "id": "8df0b647",
   "metadata": {},
   "outputs": [],
   "source": [
    "def morrisIn(head):\n",
    "    if not head:\n",
    "        return None\n",
    "    cur = head\n",
    "    preVal = None\n",
    "    flag = True\n",
    "    while cur:\n",
    "        mostRight = cur.left\n",
    "        if mostRight:\n",
    "            while mostRight.right or mostRight.right != cur:\n",
    "                mostRight = mostRight.right\n",
    "            if not mostRight.right:\n",
    "                mostRight.right = cur #once\n",
    "                cur = cur.left\n",
    "                continue\n",
    "            else:\n",
    "                mostRight.right = None # twice\n",
    "        \n",
    "        if pre is not None and pre.val > cur.val:\n",
    "            flag = False\n",
    "        preVal = cur.val\n",
    "        cur = cur.right\n",
    "    return flag"
   ]
  },
  {
   "cell_type": "markdown",
   "id": "18a9e485",
   "metadata": {},
   "source": [
    "#### 求以head为头的二叉树树中，最小深度是多少"
   ]
  },
  {
   "cell_type": "code",
   "execution_count": 254,
   "id": "a24205ee",
   "metadata": {},
   "outputs": [],
   "source": [
    "import sys\n",
    "def minHeight(head):\n",
    "    if not head:\n",
    "        return 0\n",
    "    cur = head\n",
    "    curLevel = 0\n",
    "    minDepth = sys.maxsize\n",
    "    while cur:\n",
    "        mostRight = cur.left\n",
    "        if mostRight:\n",
    "            leftCount = 1\n",
    "            while mostRight.right and mostRight.right != cur:\n",
    "                leftCount += 1\n",
    "                mostRight = mostRight.right\n",
    "            if not mostRight.right:\n",
    "                curLevel += 1\n",
    "                mostRight.right = cur\n",
    "                cur = cur.left\n",
    "                continue\n",
    "            else:\n",
    "                if not mostRight.left: #mostRight.right == cur:\n",
    "                    minDepth = min(minDepth, curLevel)#此时curLevel仍然是左树右边界的深度\n",
    "                mostRight.right = None\n",
    "                curLevel -= leftCount\n",
    "                cur = cur.right  \n",
    "        else:\n",
    "            curLevel += 1\n",
    "            cur = cur.right\n",
    "    cur = head\n",
    "    depth = 1\n",
    "    while cur.right:\n",
    "        cur = cur.right\n",
    "        depth += 1\n",
    "    if not cur.left:\n",
    "        minDepth = min(minDepth, depth)\n",
    "    return minDepth\n",
    "    "
   ]
  },
  {
   "cell_type": "code",
   "execution_count": 255,
   "id": "f4df09c8",
   "metadata": {},
   "outputs": [
    {
     "data": {
      "text/plain": [
       "4"
      ]
     },
     "execution_count": 255,
     "metadata": {},
     "output_type": "execute_result"
    }
   ],
   "source": [
    "minHeight(t)"
   ]
  },
  {
   "cell_type": "code",
   "execution_count": 396,
   "id": "ba0e6a65",
   "metadata": {},
   "outputs": [],
   "source": [
    "'''\n",
    "思路：\n",
    "问题1. 要搞定当前节点在第几层\n",
    "问题2. 判断是否是叶节点 + 每次尝试更新最低的层数\n",
    "\n",
    "解决问题1:\n",
    "情况1. X的层数为7，当Y为X的左孩子，则Y的层数一定为7+1=8；\n",
    "情况2.           当Y为X的右孩子，不一定！因为Y有可能是X向上指回去时的右孩子(要第二次回到Y的时候)：\n",
    "情况2.1          当Y的左树的最右节点不是X时，层数为7+1=8\n",
    "情况2.2          当Y的左树的最右节点是X时，X的左树所在右边界有几个节点(Z)，7-Z即为层数。\n",
    "\n",
    "解决问题2:因为改过节点，无法通过无双子判断是否叶节点\n",
    "对于能回到两次的节点，在第二次恢复左树最右节点的右节点后，再看其是否是叶节点。\n",
    "最后单独检查整棵树的最右边界是否是叶节点\n",
    "\n",
    "'''\n",
    "import sys\n",
    "def minDepth(head):\n",
    "    if not head:\n",
    "        return 0\n",
    "    cur = head\n",
    "    mostRight = None\n",
    "    curLevel = 0\n",
    "    minHeight = sys.maxsize\n",
    "    while cur:\n",
    "        mostRight = cur.left\n",
    "        if mostRight:\n",
    "            rightBoardSize = 1\n",
    "            while mostRight.right and mostRight.right != cur:\n",
    "                rightBoardSize += 1\n",
    "                mostRight = mostRight.right\n",
    "            if not mostRight.right:\n",
    "                curLevel += 1\n",
    "                mostRight.right = cur\n",
    "                cur = cur.left\n",
    "                continue\n",
    "            else:\n",
    "                if not mostRight.left:\n",
    "                    minHeight = min(minHeight, curLevel)\n",
    "                curLevel -= rightBoardSize\n",
    "                mostRight.right = None\n",
    "        else:\n",
    "            curLevel += 1\n",
    "        cur = cur.right\n",
    "    finalRight = 1\n",
    "    cur = head\n",
    "    while cur.right:\n",
    "        finalRight += 1\n",
    "        cur = cur.right\n",
    "    if not cur.left and not cur.right:\n",
    "        minHeight = min(minHeight, finalRight)\n",
    "    return minHeight"
   ]
  },
  {
   "cell_type": "code",
   "execution_count": 405,
   "id": "307cdbb6",
   "metadata": {},
   "outputs": [
    {
     "name": "stdout",
     "output_type": "stream",
     "text": [
      "success.\n"
     ]
    }
   ],
   "source": [
    "testTime = 10000\n",
    "maxValue = 100\n",
    "maxDepth = 20\n",
    "succeed = True\n",
    "for _ in range(testTime):\n",
    "    value = random.randint(1, maxValue)\n",
    "    depth = random.randint(1, maxDepth)\n",
    "#     print(depth)\n",
    "    tree = generateRandBT(depth, value)\n",
    "    ans1 = minHeight(tree)\n",
    "    ans2 = minDepth(tree)  \n",
    "    if ans1 != ans2:\n",
    "        print(ans1, ans2)\n",
    "        printBinaryTree(tree)\n",
    "        succeed = False\n",
    "        break\n",
    "if succeed:\n",
    "    print(\"success.\")"
   ]
  },
  {
   "cell_type": "code",
   "execution_count": 406,
   "id": "96d88ec6",
   "metadata": {},
   "outputs": [
    {
     "name": "stdout",
     "output_type": "stream",
     "text": [
      "Binary Tree: \n",
      "                        ↓-15↓       \n",
      "                                          ↑8↑        \n",
      "                                                           ↑5↑        \n",
      "        H7H        \n",
      "\n"
     ]
    }
   ],
   "source": [
    "printBinaryTree(tree)"
   ]
  },
  {
   "cell_type": "code",
   "execution_count": 409,
   "id": "7f1e57b0",
   "metadata": {},
   "outputs": [
    {
     "name": "stdout",
     "output_type": "stream",
     "text": [
      "5,-1,0,-3,-7,-10,-8,-4,0,-6,0,2,-7,-2,0,"
     ]
    }
   ],
   "source": [
    "morrisPos(t)"
   ]
  },
  {
   "cell_type": "code",
   "execution_count": 411,
   "id": "81ed4879",
   "metadata": {},
   "outputs": [
    {
     "name": "stdout",
     "output_type": "stream",
     "text": [
      "5,0,-1,-8,-3,-10,-7,0,-4,-6,0,-2,0,-7,2,"
     ]
    }
   ],
   "source": [
    "morrisIn(t)"
   ]
  },
  {
   "cell_type": "code",
   "execution_count": null,
   "id": "e94a9434",
   "metadata": {},
   "outputs": [],
   "source": []
  }
 ],
 "metadata": {
  "kernelspec": {
   "display_name": "Python 3 (ipykernel)",
   "language": "python",
   "name": "python3"
  },
  "language_info": {
   "codemirror_mode": {
    "name": "ipython",
    "version": 3
   },
   "file_extension": ".py",
   "mimetype": "text/x-python",
   "name": "python",
   "nbconvert_exporter": "python",
   "pygments_lexer": "ipython3",
   "version": "3.9.12"
  },
  "toc": {
   "base_numbering": 1,
   "nav_menu": {},
   "number_sections": true,
   "sideBar": true,
   "skip_h1_title": false,
   "title_cell": "Table of Contents",
   "title_sidebar": "Contents",
   "toc_cell": false,
   "toc_position": {},
   "toc_section_display": true,
   "toc_window_display": false
  }
 },
 "nbformat": 4,
 "nbformat_minor": 5
}
