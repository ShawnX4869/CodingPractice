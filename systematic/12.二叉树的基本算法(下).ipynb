{
 "cells": [
  {
   "cell_type": "code",
   "execution_count": 18,
   "metadata": {
    "collapsed": true
   },
   "outputs": [],
   "source": [
    "class Node:\n",
    "    def __init__(self, val, left=None, right=None):\n",
    "        self.val = val\n",
    "        self.left = left\n",
    "        self.right = right\n",
    "def generateNode(val):\n",
    "    if not val:\n",
    "        return None\n",
    "    return Node(val)"
   ]
  },
  {
   "cell_type": "markdown",
   "metadata": {},
   "source": [
    "## 1.二叉树按层遍历\n",
    "队列完成,有左入左；有右入右"
   ]
  },
  {
   "cell_type": "code",
   "execution_count": 19,
   "metadata": {
    "collapsed": true
   },
   "outputs": [],
   "source": [
    "from collections import deque\n",
    "#deque读取为O(N)，操作头尾为O(1)\n",
    "#list读取为O(1)，操作头尾为O(N)\n",
    "def BFS(head):\n",
    "    if not head:\n",
    "        return\n",
    "    queue = deque()\n",
    "    queue.append(head)\n",
    "    while queue:\n",
    "        cur = queue.popleft()\n",
    "        print(cur.val, end=\" \")\n",
    "        if cur.left:\n",
    "            queue.append(cur.left)\n",
    "        if cur.right:\n",
    "            queue.append(cur.right)\n",
    "    return\n",
    "    "
   ]
  },
  {
   "cell_type": "markdown",
   "metadata": {},
   "source": [
    "## 2.二叉树的序列化和反序列化\n",
    "* 序列化：结构转字符串存储\n",
    "* 反序列化：由字符串转回二叉树结构\n",
    "* 树和字符串一一对应，节点间打分隔符\n",
    "* 先序、后序都可以作为序列化标准，但中序不可以"
   ]
  },
  {
   "cell_type": "markdown",
   "metadata": {},
   "source": [
    "### 2.1 先序"
   ]
  },
  {
   "cell_type": "code",
   "execution_count": 20,
   "metadata": {
    "collapsed": true
   },
   "outputs": [],
   "source": [
    "# 先序 递归版 序列化\n",
    "def pres(head, ans):\n",
    "    if not head:\n",
    "        ans.append(None) #字符串可以用特殊符号定义空子树\n",
    "    else:\n",
    "        ans.append(head.val)\n",
    "        pres(head.left, ans)\n",
    "        pres(head.right, ans)\n",
    "    \n",
    "def preSerial(head):\n",
    "    ans = deque()\n",
    "    pres(head, ans)\n",
    "    return ans\n",
    "\n",
    "# 先序 递归版 反序列化\n",
    "def preb(preList):\n",
    "    val = preList.popleft()\n",
    "    if not val:\n",
    "        return None\n",
    "    head = generateNode(val)\n",
    "    head.left = preb(preList)\n",
    "    head.right = preb(preList)\n",
    "    return head\n",
    "    \n",
    "def buildByPreSerial(preList):\n",
    "    if not preList:\n",
    "        return None\n",
    "    return preb(preList)\n"
   ]
  },
  {
   "cell_type": "markdown",
   "metadata": {},
   "source": [
    "### 2.2 后序"
   ]
  },
  {
   "cell_type": "code",
   "execution_count": 21,
   "metadata": {
    "collapsed": true
   },
   "outputs": [],
   "source": [
    "# 后序 递归版 序列化\n",
    "def poss(head, ans):\n",
    "    if not head:\n",
    "        ans.append(None) #字符串可以用特殊符号定义空子树\n",
    "    else:\n",
    "        poss(head.left, ans)\n",
    "        poss(head.right, ans)\n",
    "        ans.append(head.val)\n",
    "    \n",
    "def posSerial(head):\n",
    "    ans = deque()\n",
    "    poss(head, ans)\n",
    "    return ans\n",
    "\n",
    "# 后序 递归版 反序列化\n",
    "def posb(posList):\n",
    "# 左右中 --> 中右左\n",
    "    val = posList.pop()\n",
    "    if not val:\n",
    "        return None\n",
    "    head = generateNode(val)\n",
    "    head.right = preb(posList)\n",
    "    head.left = preb(posList)\n",
    "    return head\n",
    "        \n",
    "def buildByPosSerial(posList):\n",
    "    if not posList:\n",
    "        return None\n",
    "#     stack = deque()\n",
    "#     while posList:\n",
    "#         stack.append(posList.popleft())\n",
    "    return posb(posList)"
   ]
  },
  {
   "cell_type": "markdown",
   "metadata": {},
   "source": [
    "### 2.3 按层"
   ]
  },
  {
   "cell_type": "code",
   "execution_count": 17,
   "metadata": {
    "collapsed": true
   },
   "outputs": [],
   "source": [
    "#序列化\n",
    "def levelSerial(head):\n",
    "    ans = deque()\n",
    "    if not head:\n",
    "        ans.append(None)\n",
    "    else:\n",
    "        ans.append(head.val)\n",
    "        queue = deque()\n",
    "        queue.append(head)\n",
    "        while queue:\n",
    "            head = queue.popleft() #父弹出的时候，序列化左右孩子。因为左右孩子可能为空！ 弹出再序列化会缺失\n",
    "            if head.left:\n",
    "                ans.append(head.left.val)\n",
    "                queue.append(head.left)\n",
    "            else:\n",
    "                ans.append(None)\n",
    "            if head.right:\n",
    "                ans.append(head.right.val)\n",
    "                queue.append(head.right)\n",
    "            else:\n",
    "                ans.append(None)\n",
    "    return ans\n",
    "\n",
    "#反序列化\n",
    "def buildByLevelSerial(levelList):\n",
    "    if not levelList:\n",
    "        return None\n",
    "    head = generateNode(levelList.popleft())\n",
    "    queue = deque()\n",
    "    if head:\n",
    "        queue.append(head)\n",
    "    while queue:\n",
    "        node = queue.popleft()\n",
    "        node.left = generateNode(levelList.popleft())\n",
    "        node.right = generateNode(levelList.popleft())\n",
    "        if not node.left:\n",
    "            queue.append(node.left)\n",
    "        if not node.right:\n",
    "            queue.append(node.right)\n",
    "    return head"
   ]
  },
  {
   "cell_type": "markdown",
   "metadata": {},
   "source": [
    "### 2.4 多叉树转为二叉树"
   ]
  },
  {
   "cell_type": "code",
   "execution_count": 22,
   "metadata": {
    "collapsed": true
   },
   "outputs": [],
   "source": [
    "# 思路：把所有孩子，放在左树右边界上。右树完全不用。\n",
    "class MultiNode:\n",
    "    def __init__(self, val, children):\n",
    "        self.val = val\n",
    "        self.children = children #list\n",
    "        \n",
    "class TreeNode:\n",
    "    def __init__(self, val, left=None, right=None):\n",
    "        self.val = val\n",
    "        self.left = left\n",
    "        self.right = right\n",
    "        \n",
    "def enc(children):\n",
    "    head = None\n",
    "    cur = None\n",
    "    for child in children:\n",
    "        tNode = TreeNode(child.val)\n",
    "        if not head:\n",
    "            head = tNode\n",
    "        else:\n",
    "            cur.right = tNode\n",
    "        cur = tNode\n",
    "        cur.left = enc(child.children) #深度优先遍历\n",
    "    return head\n",
    "        \n",
    "def encode(root):\n",
    "    if not root:\n",
    "        return None\n",
    "    head = TreeNode(root.val)\n",
    "    head.left = enc(root.children)\n",
    "    return head\n",
    "\n",
    "def dec(root):\n",
    "    children = list()\n",
    "    while root:\n",
    "        cur = TreeNode(root.val, dec(root.left))\n",
    "        children.append(cur)\n",
    "        root = root.right\n",
    "    return children\n",
    "\n",
    "def decode(root):\n",
    "    if not root:\n",
    "        return None\n",
    "    return MultiNode(root.val, dec(root.left))\n",
    "        "
   ]
  },
  {
   "cell_type": "markdown",
   "metadata": {},
   "source": [
    "### 2.5 打印二叉树\n",
    "https://github.com/algorithmzuo/algorithmbasic2020/blob/master/src/class11/Code04_PrintBinaryTree.java"
   ]
  },
  {
   "cell_type": "code",
   "execution_count": 1,
   "metadata": {
    "collapsed": true
   },
   "outputs": [],
   "source": [
    "def getSpace(num):\n",
    "    space = \"\"\n",
    "    for i in range(num):\n",
    "        space+= \" \"\n",
    "    return space\n",
    "    \n",
    "\n",
    "def printInOrder(head, height, to, length):\n",
    "    if head is None:\n",
    "        return \n",
    "    printInOrder(head.right, height+1, \"↓\", length)\n",
    "    val = to + str(head.val) + to\n",
    "    lenM= len(str(head.val))\n",
    "    lenL = (length - lenM) // 2\n",
    "    lenR = length - lenM - lenL\n",
    "    val = getSpace(lenL) + val + getSpace(lenR)\n",
    "    print(getSpace(height * length) + val)\n",
    "    printInOrder(head.left, height+1, \"↑\", length)\n",
    "def printBinaryTree(head):\n",
    "    print(\"Binary Tree: \")\n",
    "    printInOrder(head, 0, \"H\", 15)\n",
    "    print()"
   ]
  },
  {
   "cell_type": "markdown",
   "metadata": {},
   "source": [
    "### 2.6 求二叉树最宽的层\n",
    "* 添加【当前层结束】、【下层结束】两个变量记录两个节点\n",
    "* 当前层没有遇到【当前层结束】的节点时，每次从队列中弹出子孩子，赋值到【下层结束】，并且计数\n",
    "* 当前层遇到【当前层结束】的节点时，从队列中弹出子孩子，赋值到【下层结束】，结束计数，更新最大层数\n",
    "* 核心思路是当前层，就为下一层做准备，告诉下一层的截止位置。"
   ]
  },
  {
   "cell_type": "code",
   "execution_count": 24,
   "metadata": {
    "collapsed": true
   },
   "outputs": [],
   "source": [
    "# 简单版本用map记录层数对应节点数, 当前层时，把孩子记录map(孩子，curlevel+1)\n",
    "# 优化版本，只用几个有限变量\n",
    "def maxWidthNoMap(head):\n",
    "    if not head:\n",
    "        return 0\n",
    "    queue = deque()\n",
    "    queue.append(head)\n",
    "    curEnd = head\n",
    "    nextEnd = None\n",
    "    max_width = 0\n",
    "    curLevelNodes = 0\n",
    "    while queue:\n",
    "        cur = queue.popleft()\n",
    "        if cur.left:\n",
    "            queue.append(cur.left)\n",
    "            nextEnd = cur.left\n",
    "        if cur.right:\n",
    "            queue.append(cur.right)\n",
    "            nextEnd = cur.right\n",
    "        curLevelNodes += 1\n",
    "        if cur == curEnd:\n",
    "            max_width = max(max_width, curLevelNodes)\n",
    "            curLevelNodes = 0\n",
    "            curEnd = nextEnd\n",
    "    return max_width\n",
    "    "
   ]
  },
  {
   "cell_type": "markdown",
   "metadata": {},
   "source": [
    "### 2.7 返回中序序列上节点X的后继节点\n",
    "* 题意Node定义增加一个父指针\n",
    "* 某种(先中后序)序列化，查询x的后继节点\n",
    "    1. 情况1：有右树，后继节点为右树左边界最左孩子\n",
    "    2. 情况2：没有右树，找到x的父节点，如果此时x是父节点y的左孩子，停止，y即后继；否则继续往上找父节点。\n",
    "             因为此时y的左孩子的右树刚刚完成，该完成y本身了（左中右顺序，左完了，该中了）\n",
    "    3. 情况3：没有右树，没有找到y，本身节点为最后一个节点，没有后继节点"
   ]
  },
  {
   "cell_type": "code",
   "execution_count": 26,
   "metadata": {
    "collapsed": true
   },
   "outputs": [],
   "source": [
    "#题意给的Node类\n",
    "class Node:\n",
    "    def __init__(self, val, p=None, left=None, right=None):\n",
    "        self.val = val\n",
    "        self.left = left\n",
    "        self.right = right\n",
    "        self.parent = p"
   ]
  },
  {
   "cell_type": "code",
   "execution_count": 28,
   "metadata": {
    "collapsed": true
   },
   "outputs": [],
   "source": [
    "def getLeftMost(node):\n",
    "    if not node:\n",
    "        return node\n",
    "    while node.left:\n",
    "        node = node.left\n",
    "    return node\n",
    "\n",
    "def getSuccessorNode(node):\n",
    "    if not node:\n",
    "        return node\n",
    "    if node.right:\n",
    "        return getLeftMost(node.right)\n",
    "    else:\n",
    "        parent = node.parent\n",
    "        while parent and parent.right == node:\n",
    "            node = parent\n",
    "            parent = node.parent\n",
    "        return parent"
   ]
  },
  {
   "cell_type": "markdown",
   "metadata": {},
   "source": [
    "## 3.对折纸条\n",
    "1. 对折一次：凹\n",
    "2. 对折两次：凹凹凸\n",
    "3. 对折三次：凹凹凸凹凹凸凸\n",
    "       求对折N次的折痕\n",
    "        "
   ]
  },
  {
   "cell_type": "code",
   "execution_count": 29,
   "metadata": {},
   "outputs": [
    {
     "data": {
      "text/plain": [
       "'\\n思路：\\n一次对折:        1凹\\n二次对折:   2凹  1凹   2凸\\n三次对折:3凹2凹3凸1凹3凹2凸3凸\\n每次对折，在中间折痕上下出现 凹、凸\\n'"
      ]
     },
     "execution_count": 29,
     "metadata": {},
     "output_type": "execute_result"
    }
   ],
   "source": [
    "'''\n",
    "思路：\n",
    "一次对折:        1凹\n",
    "二次对折:   2凹  1凹   2凸\n",
    "三次对折:3凹2凹3凸1凹3凹2凸3凸\n",
    "\n",
    "规律：每次对折，在中间折痕上下出现 凹、凸。 打印顺序即二叉树的中序遍历\n",
    "'''"
   ]
  },
  {
   "cell_type": "code",
   "execution_count": 30,
   "metadata": {
    "collapsed": true
   },
   "outputs": [],
   "source": [
    "#第一次凹\n",
    "#所有左子树凹\n",
    "#所有右子树凸\n",
    "\n",
    "#来到一个节点，节点在i层，一共有N层，如果节点是凹convex=True，凸convex=False。\n",
    "#函数功能，中序打印以这个节点为头的整棵树\n",
    "def process(i, N, convex):\n",
    "    if i > N:\n",
    "        return \n",
    "    process(i+1, N, True)\n",
    "    if convex:\n",
    "        print(\"凹\", end=\"\")\n",
    "    else:\n",
    "        print(\"凸\", end=\"\")\n",
    "    process(i+1, N, False)\n",
    "    \n",
    "def printAllFolds(N):\n",
    "    process(1, N, True)"
   ]
  },
  {
   "cell_type": "code",
   "execution_count": null,
   "metadata": {
    "collapsed": true
   },
   "outputs": [],
   "source": []
  }
 ],
 "metadata": {
  "kernelspec": {
   "display_name": "Python 3",
   "language": "python",
   "name": "python3"
  },
  "language_info": {
   "codemirror_mode": {
    "name": "ipython",
    "version": 3
   },
   "file_extension": ".py",
   "mimetype": "text/x-python",
   "name": "python",
   "nbconvert_exporter": "python",
   "pygments_lexer": "ipython3",
   "version": "3.6.1"
  }
 },
 "nbformat": 4,
 "nbformat_minor": 2
}
