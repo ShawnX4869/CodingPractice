{
 "cells": [
  {
   "cell_type": "markdown",
   "metadata": {},
   "source": [
    "## 1.前缀树(prefixTree/Trie)\n",
    "* 如果是字符串，哈希表的代价是O(K)，K为字符串长度。 如果是32位整数，代价是O(1)。\n",
    "* 那么，字符串的查询更好的是用前缀树查询，建树代价O(N*K)，查询也是O(K)，但还能告诉出现过几次、作为多少次前缀"
   ]
  },
  {
   "cell_type": "code",
   "execution_count": 1,
   "metadata": {},
   "outputs": [
    {
     "ename": "SyntaxError",
     "evalue": "invalid syntax (<ipython-input-1-c7ca1ff8656a>, line 3)",
     "output_type": "error",
     "traceback": [
      "\u001b[0;36m  File \u001b[0;32m\"<ipython-input-1-c7ca1ff8656a>\"\u001b[0;36m, line \u001b[0;32m3\u001b[0m\n\u001b[0;31m    self.pass = 0\u001b[0m\n\u001b[0m            ^\u001b[0m\n\u001b[0;31mSyntaxError\u001b[0m\u001b[0;31m:\u001b[0m invalid syntax\n"
     ]
    }
   ],
   "source": [
    "class Node: #前缀树节点类\n",
    "    def __init__(self, maxlen):\n",
    "        self.pass = 0\n",
    "        self.end = 0\n",
    "        self.nexts = [None] * maxlen #用数组表示路径最多有几条(如果是小写字符串，maxlen=26即可)\n",
    "                                     #用数组索引位置是否为None判断是否有空\n",
    "                                     #如果字符种类很多，换用dict()存储路径\n",
    "            \n",
    "class Trie:\n",
    "    def __init__(self):\n",
    "        self.root = Node(26)\n",
    "    def insert(self, word):\n",
    "        if not word:\n",
    "            return\n",
    "        strList = list(word)\n",
    "        node = self.root\n",
    "        node.pass += 1\n",
    "        for i in range(len(strList)):\n",
    "            path = ord(strList[i]) - ord(\"a\") #计算路径索引\n",
    "            if not node.nexts[path]:\n",
    "                node.nexts[path] = Node(26)\n",
    "            node = node.nexts[path]\n",
    "            node.pass += 1\n",
    "        node.end += 1\n",
    "        return \n",
    "    \n",
    "    def delete(self, word): #防止内存泄露：无用节点(pass=0&end=0)删除\n",
    "        if self.search(word) != 0:\n",
    "            strList = list(word)\n",
    "            node = self.root\n",
    "            node.pass -= 1\n",
    "            for i in range(len(strList)):\n",
    "                path = ord(strList[i]) - ord(\"a\") #计算路径索引\n",
    "                if node.nexts[path].pass == 1:# 截断判断\n",
    "                    node.nexts[path] = None #整个node删除，end/pass也不用改了\n",
    "                    return\n",
    "                # pass > 1\n",
    "                node.nexts[path].pass -= 1\n",
    "                node = node.nexts[path]\n",
    "            #如果结尾pass=0已经在if中删除并return，这里不用担心最后一个node.pass=0还做end-1\n",
    "            node.end -= 1\n",
    "                \n",
    "    def search(self, word): #word出现过几次\n",
    "        if not word:\n",
    "            return 0\n",
    "        strList = list(word)\n",
    "        node = self.root\n",
    "        for i in range(len(strList)):\n",
    "            path = ord(strList[i]) - ord(\"a\")\n",
    "            if not node.nexts[path]:\n",
    "                return 0\n",
    "            else:\n",
    "                node = node.nexts[path]\n",
    "        return node.end\n",
    "            \n",
    "    def prefixNumber(self, pre):\n",
    "        if not pre:\n",
    "            return 0\n",
    "        strList = list(word)\n",
    "        node = self.root\n",
    "        for i in range(len(strList)):\n",
    "            path = ord(strList[i]) - ord(\"a\")\n",
    "            if not node.nexts[path]:\n",
    "                return 0\n",
    "            else:\n",
    "                node = node.nexts[path]\n",
    "        return node.pass"
   ]
  },
  {
   "cell_type": "code",
   "execution_count": 8,
   "metadata": {},
   "outputs": [
    {
     "data": {
      "text/plain": [
       "97"
      ]
     },
     "execution_count": 8,
     "metadata": {},
     "output_type": "execute_result"
    }
   ],
   "source": [
    "# 获取字符的ascii码\n",
    "ord('a')"
   ]
  },
  {
   "cell_type": "code",
   "execution_count": 19,
   "metadata": {},
   "outputs": [
    {
     "data": {
      "text/plain": [
       "['a', 'b', 'c']"
      ]
     },
     "execution_count": 19,
     "metadata": {},
     "output_type": "execute_result"
    }
   ],
   "source": [
    "#split不接受”“空分隔符，str转char list\n",
    "list(\"abc\")"
   ]
  },
  {
   "cell_type": "markdown",
   "metadata": {},
   "source": [
    "## 2.桶排序O(N)\n",
    "使用范围窄\n",
    "1. 计数排序\n",
    "2. 基数排序"
   ]
  },
  {
   "cell_type": "markdown",
   "metadata": {},
   "source": [
    "### 2.1计数排序"
   ]
  },
  {
   "cell_type": "code",
   "execution_count": 21,
   "metadata": {
    "collapsed": true
   },
   "outputs": [],
   "source": [
    "def countSort(arr): #arr整数，且范围有限，比如age=[0,200)\n",
    "    count = [0] * 200\n",
    "    ans = list()\n",
    "    for i in arr:\n",
    "        count[i] += 1\n",
    "    for num in range(len(count)):\n",
    "        ans.extend([num] * count[i])\n",
    "    arr[:] = ans[:]\n",
    "    return \n",
    "    "
   ]
  },
  {
   "cell_type": "code",
   "execution_count": 20,
   "metadata": {},
   "outputs": [
    {
     "data": {
      "text/plain": [
       "[]"
      ]
     },
     "execution_count": 20,
     "metadata": {},
     "output_type": "execute_result"
    }
   ],
   "source": [
    "[3] * 0"
   ]
  },
  {
   "cell_type": "markdown",
   "metadata": {},
   "source": [
    "### 2.2 基数排序\n",
    "* 限制：非负，十进制数（可改写支持负数,+abs(最小负数)）\n",
    "* 找到最大值的位数，其他值不足0左补齐\n",
    "* 所有数从左往右遍历arr放入0-9的桶，依次0-9倒出来。\n",
    "* 按个位、十位、百位。。。进桶。。再依次倒出来"
   ]
  },
  {
   "cell_type": "code",
   "execution_count": null,
   "metadata": {
    "collapsed": true
   },
   "outputs": [],
   "source": [
    "'''\n",
    "代码还有问题，有时间再补\n",
    "https://github.com/algorithmzuo/algorithmbasic2020/blob/master/src/class08/Code04_RadixSort.java\n",
    "'''\n",
    "# def maxbits(arr):\n",
    "#     if not arr:\n",
    "#         return None\n",
    "#     max_v = arr[0]\n",
    "#     for i in range(1, len(arr)):\n",
    "#         max_v = max(max_v, arr[i])\n",
    "#     res = 0\n",
    "#     while max_v != 0:\n",
    "#         res += 1\n",
    "#         max_v = max_v // 10\n",
    "#     return res\n",
    "# # arr[L...R]排序，最大值的十进制位数digit\n",
    "# def radixSort(arr, L, R, digit):\n",
    "#     radix = 10\n",
    "#     helpArr = [None] * (R-L+1)\n",
    "#     for d in (1, digit+1): #有多少位，每个数进出桶多少次\n",
    "#         count = [0] * 10\n",
    "#         for num in arr:\n",
    "#             count[num % (10 ** d)] += 1\n",
    "#         for i in range(1, 10):\n",
    "#             count[i] = count[i-1] + count[i] #出现次数前缀和\n",
    "#         for i in range(len(arr)-1, -1, -1): #从右往左填，当前数一定应该填在count[remainder]-1上。\n",
    "#             num = arr[i]\n",
    "#             remainder = num % (10 ** d)\n",
    "#             index = count[remainder] - 1\n",
    "#             count[remainder] -= 1\n",
    "#             helpArr[index] = num\n",
    "#         for i in range(len(arr)):\n",
    "#             arr[i] = helpArr[i]"
   ]
  },
  {
   "cell_type": "markdown",
   "metadata": {},
   "source": [
    "## 3.排序稳定性\n",
    "同样的值，排序完相对顺序是否改变\n",
    "* 对于基础类型，稳定性无意义；非基础类型，稳定性有意义（Excel）\n",
    "* 无稳定性排序：选择排序、快速排序(partition过程)、堆排序、\n",
    "* 稳定排序：冒泡排序(相等时不交换)、插入排序(相等时不交换)、归并排序(相等时拷贝左侧)"
   ]
  },
  {
   "cell_type": "code",
   "execution_count": null,
   "metadata": {
    "collapsed": true
   },
   "outputs": [],
   "source": []
  }
 ],
 "metadata": {
  "kernelspec": {
   "display_name": "Python 3",
   "language": "python",
   "name": "python3"
  },
  "language_info": {
   "codemirror_mode": {
    "name": "ipython",
    "version": 3
   },
   "file_extension": ".py",
   "mimetype": "text/x-python",
   "name": "python",
   "nbconvert_exporter": "python",
   "pygments_lexer": "ipython3",
   "version": "3.6.1"
  }
 },
 "nbformat": 4,
 "nbformat_minor": 2
}
