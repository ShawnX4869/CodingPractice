{
 "cells": [
  {
   "cell_type": "code",
   "execution_count": 2,
   "metadata": {
    "collapsed": true
   },
   "outputs": [],
   "source": [
    "import numpy as np\n",
    "import sys"
   ]
  },
  {
   "cell_type": "code",
   "execution_count": 4,
   "metadata": {
    "collapsed": true
   },
   "outputs": [],
   "source": [
    "a = sys.maxsize"
   ]
  },
  {
   "cell_type": "code",
   "execution_count": 15,
   "metadata": {
    "collapsed": true,
    "scrolled": true
   },
   "outputs": [],
   "source": [
    "# a 64位，二进制63个1"
   ]
  },
  {
   "cell_type": "code",
   "execution_count": 22,
   "metadata": {},
   "outputs": [
    {
     "data": {
      "text/plain": [
       "-1"
      ]
     },
     "execution_count": 22,
     "metadata": {},
     "output_type": "execute_result"
    }
   ],
   "source": [
    "#-a >> 65 仍然是-1"
   ]
  },
  {
   "cell_type": "markdown",
   "metadata": {},
   "source": [
    "## 1. 最长回文子序列长度\n",
    "* 可以不连续，正反一样\n",
    "* 例如：a12b3c43def2ghi1kpm，最长为1234321或123c123，返回7\n",
    "* 链接：https://leetcode.com/problems/longest-palindromic-subsequence/\n",
    "* 思路1：一个字符串和他的逆序的最长公共子序列，就是最长回文子序列\n",
    "* 思路2：以下"
   ]
  },
  {
   "cell_type": "code",
   "execution_count": 25,
   "metadata": {
    "collapsed": true
   },
   "outputs": [],
   "source": [
    "#递归，从L到R的最长回文子序列长度\n",
    "def process(stringList, L, R):\n",
    "    #只有一个字符，本身就是回文\n",
    "    if L == R:\n",
    "        return 1\n",
    "    if L == R-1:\n",
    "        return 2 if stringList[L] == stringList[R] else 1\n",
    "    #情况1，不以L开头，也不以R结尾\n",
    "    #情况2，以L开头，不以R结尾\n",
    "    #情况3，不以L开头，以R结尾\n",
    "    #情况4，以L开头，也以R结尾\n",
    "    p1 = process(stringList, L+1, R-1)\n",
    "    p2 = process(stringList, L, R-1)\n",
    "    p3 = process(stringList, L+1, R)\n",
    "    p4 = process(stringList, L+1, R-1) + 2 if stringList[L] == stringList[R] else 0\n",
    "    return max([p1,p2,p3,p4])\n",
    "    \n",
    "def longestPalindromeSubseq(string):\n",
    "    if not string:\n",
    "        return 0\n",
    "    ans = process(list(string), 0, len(string)-1)\n",
    "    return ans"
   ]
  },
  {
   "cell_type": "code",
   "execution_count": 32,
   "metadata": {
    "collapsed": true
   },
   "outputs": [],
   "source": [
    "def longestPalindromeSubseq2(s):\n",
    "    if not s:\n",
    "        return 0\n",
    "    stringList = list(s)\n",
    "    N = len(s)\n",
    "    dp = [[0] * N for _ in range(N)]\n",
    "    for i in range(N):\n",
    "        dp[i][i] = 1\n",
    "    for i in range(1, N):\n",
    "        dp[i-1][i] = 2 if stringList[i-1] == stringList[i] else 1\n",
    "    for L in range(N-3, -1, -1):\n",
    "        for R in range(L+2, N):\n",
    "            p1 = dp[L+1][R-1]\n",
    "            if stringList[L] == stringList[R]:\n",
    "                p1 += 2 #p4改\n",
    "            p2 = dp[L][R-1]\n",
    "            p3 = dp[L+1][R]\n",
    "            dp[L][R] = max([p1,p2,p3])\n",
    "    return dp[0][N-1]"
   ]
  },
  {
   "cell_type": "code",
   "execution_count": 34,
   "metadata": {
    "collapsed": true
   },
   "outputs": [],
   "source": [
    "# 继续优化\n",
    "# [i]依赖三个变量\n",
    "# 左 <- [i]\n",
    "# 左下↙ ↓     ==> i不可能比三个方向的小，所以左不可能比左下的小、下也不可能比左下的小。所以左下可以省略\n",
    "#       下\n",
    "def longestPalindromeSubseq3(s):\n",
    "    if not s:\n",
    "        return 0\n",
    "    stringList = list(s)\n",
    "    N = len(s)\n",
    "    dp = [[0] * N for _ in range(N)]\n",
    "    for i in range(N):\n",
    "        dp[i][i] = 1\n",
    "    for i in range(1, N):\n",
    "        dp[i-1][i] = 2 if stringList[i-1] == stringList[i] else 1\n",
    "    for L in range(N-3, -1, -1):\n",
    "        for R in range(L+2, N):\n",
    "            #优化\n",
    "            dp[L][R] = max(dp[L][R-1], dp[L+1,R])\n",
    "            if stringList[L] == stringList[R]:\n",
    "                dp[L][R] = max(dp[L][R], 2+dp[L+1][R-1])\n",
    "    return dp[0][N-1]"
   ]
  },
  {
   "cell_type": "markdown",
   "metadata": {},
   "source": [
    "## 2. 棋盘\n",
    "* 马走日，从(0,0)出发，步数=k，返回方法数\n",
    "* 棋盘大小10*9"
   ]
  },
  {
   "cell_type": "code",
   "execution_count": 36,
   "metadata": {
    "collapsed": true
   },
   "outputs": [],
   "source": [
    "# 当前来到x,y\n",
    "# 还剩rest步，返回正好跳到a,b的方法数是多少？\n",
    "def process(x, y, rest, a, b):\n",
    "    if x < 0 or x > 9 or y < 0 or y > 8:\n",
    "        return 0\n",
    "    if rest == 0:\n",
    "        return 1 if x==a and y==b else 0\n",
    "    #8种蹦法\n",
    "    ways =  process(x+2,y+1,rest-1,a,b)\n",
    "    ways += process(x+1,y+2,rest-1,a,b)    \n",
    "    ways += process(x-1,y+2,rest-1,a,b)    \n",
    "    ways += process(x-2,y+1,rest-1,a,b)    \n",
    "    ways += process(x-2,y-1,rest-1,a,b)    \n",
    "    ways += process(x-1,y-2,rest-1,a,b)    \n",
    "    ways += process(x+1,y-2,rest-1,a,b)    \n",
    "    ways += process(x+2,y-1,rest-1,a,b) \n",
    "    return ways\n",
    "\n",
    "def jump(a, b, k):\n",
    "    return process(0,0,k,a,b)"
   ]
  },
  {
   "cell_type": "code",
   "execution_count": 37,
   "metadata": {
    "collapsed": true
   },
   "outputs": [],
   "source": [
    "#防越界小技巧\n",
    "def pick(dp, x, y, rest):\n",
    "    if x < 0 or x > 9 or y < 0 or y > 8:\n",
    "        return 0\n",
    "    else:\n",
    "        return dp[x][y][rest]\n",
    "\n",
    "def jump2(a,b,k):\n",
    "    dp = [[[0] * (k+1) for _ in range(9)] for _ in range(10)]\n",
    "    dp[a][b][0] = 1\n",
    "    #8种蹦法，只依赖下一层！\n",
    "    for rest in range(1, k+1):\n",
    "        for x in range(10):\n",
    "            for y in range(9):\n",
    "                ways = pick(dp, x+2,y+1,rest-1)\n",
    "                ways += pick(dp,x+1,y+2,rest-1)    \n",
    "                ways += pick(dp,x-1,y+2,rest-1)    \n",
    "                ways += pick(dp,x-2,y+1,rest-1)    \n",
    "                ways += pick(dp,x-2,y-1,rest-1)    \n",
    "                ways += pick(dp,x-1,y-2,rest-1)    \n",
    "                ways += pick(dp,x+1,y-2,rest-1)    \n",
    "                ways += pick(dp,x+2,y-1,rest-1)\n",
    "                dp[x][y][res] = ways\n",
    "    return dp[0][0][k]"
   ]
  },
  {
   "cell_type": "markdown",
   "metadata": {},
   "source": [
    "## 3. 煮咖啡\n",
    "* 给定一个数组，arr[i]代表第i号咖啡机泡一杯咖啡的时间\n",
    "* 给定一个正数N，表示N个人在等咖啡，每台咖啡机只能同时泡一杯咖啡，咖啡机可以并行泡\n",
    "* 只有一台洗杯机，一次只能洗一个杯子，耗时a，洗完才能洗下一杯\n",
    "* 每个杯子也可以自己挥发干净，耗时b，咖啡杯可以并行挥发\n",
    "* 假设所有人拿到咖啡立刻喝干净，不耗时。返回从开始到所有咖啡机变干净的最短时间。\n",
    "* 四个参数arr，N，a，b"
   ]
  },
  {
   "cell_type": "code",
   "execution_count": 63,
   "metadata": {
    "collapsed": true
   },
   "outputs": [],
   "source": [
    "'''\n",
    "简化问题：所有人拿到咖啡的时间尽量小\n",
    "思路： 小根堆作为选择咖啡机的标准，存储的对象为(咖啡机拿来使用的时间节点，泡咖啡需要多久)，排序标准为使用时间节点+泡多久\n",
    "      实际是用小根堆弹压操作，模拟所有人一块排队的过程\n",
    "'''\n",
    "import heapq\n",
    "class Machine:\n",
    "    def __init__(self, timePoint = None, workTime=None):\n",
    "        self.timePoint = timePoint\n",
    "        self.workTime = workTime\n",
    "    def __lt__(self, other):\n",
    "        return (self.timePoint+self.workTime) < (other.timePoint+other.workTime)\n",
    "    \n",
    "    def __eq__(self, other):\n",
    "        return (self.timePoint+self.workTime) == (other.timePoint+other.workTime)\n",
    "    \n",
    "    def __le__(self, other):\n",
    "        return (self.timePoint+self.workTime) <= (other.timePoint+other.workTime)\n",
    "    \n",
    "    def __str__(self):\n",
    "        return \"timePoint: {}, workTime: {}\".format(self.timePoint, self.workTime)\n",
    "    \n",
    "def minTime(arr, n, a, b):\n",
    "    heap = list()\n",
    "    for i in range(len(arr)):\n",
    "        heapq.heappush(heap, Machine(0, arr[i]))\n",
    "    drinks = [0] * n\n",
    "    for i in range(n):\n",
    "        cur = heapq.heappop(heap)\n",
    "        cur.timePoint += cur.workTime\n",
    "        drinks[i] = cur.timePoint\n",
    "        heapq.heappush(heap,cur)\n",
    "#     print(drinks) 喝完的最优数组\n",
    "    #怎么洗\n",
    "#     ans = bestWashTime(drinks, wash, air, 0, 0) 递归调用。所以dp返回[0][0]\n",
    "    ans = bestWashTimeDp(drinks, wash, air)\n",
    "    return ans\n",
    "    \n",
    "# 暴力洗\n",
    "# drinks待洗的杯子时间点；wash洗杯子所需时间，air晾干所需时间，洗到第index个杯子，洗机下次可用时间\n",
    "# 返回drinks内所有杯子都变干净的时间\n",
    "def bestWashTime(drinks, wash, air, index, free):\n",
    "    if index == len(drinks):\n",
    "        return 0\n",
    "    # index号杯子 决定洗\n",
    "    #index 依赖 index + 1， 改dp时从下往上填\n",
    "    selfClean1 = max(drinks[index], free) + wash #max(喝完的时间、洗机空闲时间)=开始洗的时间 + 洗的时间\n",
    "    restClean1 = bestWashTime(drinks, wash, air, index+1, selfClean1) #selfClean1传入，前面洗的影响后面的时间\n",
    "    p1 = max(selfClean1, restClean1)\n",
    "    #index号杯子 决定挥发\n",
    "    selfClean2 = drinks[index] + air\n",
    "    restClean2 = bestWashTime(drinks, wash, air, index+1, free)\n",
    "    p2 = max(selfClean2, restClean2)\n",
    "    return min(p1,p2)\n",
    "\n",
    "\n",
    "#当某一个变量不知道范围，人为靠业务知识限制范围。这里free的最大值，是所有杯子都去洗\n",
    "def bestWashTimeDp(drinks, wash, air):\n",
    "    N = len(drinks)\n",
    "    maxFree = 0\n",
    "    for i in drinks:\n",
    "        maxFree = max(i, maxFree) + wash\n",
    "    dp = [[0] * (maxFree+1) for _ in range(N+1)]\n",
    "    #dp[N][...] = 0 对应 index == len(drinks): return 0\n",
    "    for index in range(N-1, -1, -1):\n",
    "        for free in range(maxFree+1):\n",
    "            # index号杯子 决定洗\n",
    "            #index 依赖 index + 1， 改dp时从下往上填\n",
    "            selfClean1 = max(drinks[index], free) + wash #max(喝完的时间、洗机空闲时间)=开始洗的时间 + 洗的时间\n",
    "            if selfClean1 > maxFree: #防止dp越界\n",
    "                continue \n",
    "            restClean1 = dp[index+1][selfClean1]\n",
    "            p1 = max(selfClean1, restClean1)\n",
    "            \n",
    "            #index号杯子 决定挥发\n",
    "            selfClean2 = drinks[index] + air\n",
    "            restClean2 = dp[index+1][free]\n",
    "            p2 = max(selfClean2, restClean2)\n",
    "            dp[index][free] = min(p1,p2)\n",
    "            \n",
    "    return dp[0][0] #0位置出发，最早的时间是0"
   ]
  },
  {
   "cell_type": "code",
   "execution_count": 64,
   "metadata": {},
   "outputs": [
    {
     "name": "stdout",
     "output_type": "stream",
     "text": [
      "[1, 2, 3, 3, 4, 5, 6, 6, 7, 7]\n"
     ]
    }
   ],
   "source": [
    "minTime([3,1,7],10,0,0)"
   ]
  },
  {
   "cell_type": "code",
   "execution_count": null,
   "metadata": {
    "collapsed": true
   },
   "outputs": [],
   "source": []
  }
 ],
 "metadata": {
  "kernelspec": {
   "display_name": "Python 3 (ipykernel)",
   "language": "python",
   "name": "python3"
  },
  "language_info": {
   "codemirror_mode": {
    "name": "ipython",
    "version": 3
   },
   "file_extension": ".py",
   "mimetype": "text/x-python",
   "name": "python",
   "nbconvert_exporter": "python",
   "pygments_lexer": "ipython3",
   "version": "3.9.12"
  }
 },
 "nbformat": 4,
 "nbformat_minor": 2
}
