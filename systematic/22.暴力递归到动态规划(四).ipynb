{
 "cells": [
  {
   "cell_type": "markdown",
   "metadata": {},
   "source": [
    "## 1. 路径最小距离累加和\n",
    "* 二维数组matrix，一个人从左上角出发，到达右下角。沿途可以向下或向右，沿途遇到的数字累加就是距离累加和\n",
    "* 返回最小距离累加和"
   ]
  },
  {
   "cell_type": "code",
   "execution_count": 6,
   "metadata": {},
   "outputs": [],
   "source": [
    "#想象有个递归方法，从0,0出发到达x,y，返回最小值\n",
    "def dp(arr):\n",
    "    N = len(arr)\n",
    "    M = len(arr[0])\n",
    "    dp = [[0] * M for _ in range(N)]\n",
    "    dp[0][0] = arr[0][0]\n",
    "    for i in range(1, M):\n",
    "        dp[0][i] = dp[0][i-1] + arr[0][i]\n",
    "    for i in range(1, N):\n",
    "        dp[i][0] = dp[i-1][0] + arr[i][0]\n",
    "    for x in range(1, N):\n",
    "        for y in range(1, M):\n",
    "            dp[x][y] = min(dp[x-1][y], dp[x][y-1]) + arr[x][y]\n",
    "    return dp[N-1][M-1]\n",
    "def minDistance(arr):\n",
    "    if not arr or not arr[0]:\n",
    "        return 0\n",
    "    ans = dp(arr)\n",
    "    return ans\n",
    "\n",
    "#优化空间\n",
    "# i,j 只依赖 i-1,j 和 i,j-1. 只用一个数组足以完成更新\n",
    "\n",
    "def dp2(arr):\n",
    "    N = len(arr)\n",
    "    M = len(arr[0])\n",
    "    dp = [0] * M\n",
    "    dp[0] = arr[0][0]\n",
    "    # 首行\n",
    "    for i in range(1, M):\n",
    "        dp[i] = dp[i-1] + arr[0][i]\n",
    "    \n",
    "    for i in range(1, N):\n",
    "        dp[0] += arr[i][0]\n",
    "        for j in range(1, M):\n",
    "            dp[j] = min(dp[j-1] , dp[j]) + arr[i][j]\n",
    "    return dp[M-1]\n",
    "\n",
    "#如果 i、j依赖于左上和上面的值，从右往左填，对于i,j，此时左上(i-1,j-1)、上(i-1,j)都没更新\n",
    "\n",
    "#如果 i、j依赖于左上、上、左的三个值，从左往右填，左先更新，但更新时把旧值用一个变量记住。\n",
    "\n",
    "#如果可以省数组，用短的宽度作为唯一数组，滚动更新"
   ]
  },
  {
   "cell_type": "markdown",
   "metadata": {},
   "source": [
    "## 2.凑钱\n",
    "* 给定一个货币数组，其中的值都是正数。再给定一个正数aim。\n",
    "* 每个值都认为是一张货币，即使面值相同，也认为不同张。返回组成aim的方法数\n",
    "* 例如arr = [1,1,1]，aim是2， 返回3(第0、1；第1、2；第0、2)\n"
   ]
  },
  {
   "cell_type": "code",
   "execution_count": 7,
   "metadata": {
    "collapsed": true
   },
   "outputs": [],
   "source": [
    "#从左往右模型\n",
    "def process(arr, index, res):\n",
    "    if rest < 0:\n",
    "        return 0\n",
    "    if index == len(arr):\n",
    "        return 1 if rest == 0 else 0\n",
    "    return process(arr, index+1, rest) + process(arr, index+1, res-arr[index])\n",
    "\n",
    "\n",
    "def coinWays(arr, aim):\n",
    "    return process(arr, 0, aim)\n",
    "\n",
    "\n",
    "#从左往右模型\n",
    "def pick(arr, i, j):\n",
    "    if i < 0 or i > len(arr) - 1 or j < 0 or j > len(arr[0]):\n",
    "        return 0\n",
    "    else:\n",
    "        return arr[i][j]\n",
    "def dp(arr, aim):\n",
    "    if aim == 0:\n",
    "        return 1\n",
    "    N = len(arr)\n",
    "    dp = [[0] * (aim+1) for _ in range(N+1)]\n",
    "    dp[N][0] = 1\n",
    "    for index in range(N-1, -1, -1):\n",
    "        for rest in range(aim+1):\n",
    "            dp[index][rest] = pick(dp, index+1, rest) + pick(dp, index+1, res - arr[index])\n",
    "    return dp[0][aim]\n",
    "\n",
    "\n",
    "def coinWays(arr, aim):\n",
    "    return process(arr, 0, aim)"
   ]
  },
  {
   "cell_type": "markdown",
   "metadata": {},
   "source": [
    "## 2.凑钱(张数无限版本)\n",
    "* 给定一个货币数组，其中的值都是正数。再给定一个正数aim。\n",
    "* 每个值都认为是一张面值，提供无限张。返回组成aim的方法数\n",
    "* 例如arr = [1,2]，aim是4， 返回3(1+1+1+1,1+1+2,2+2)"
   ]
  },
  {
   "cell_type": "code",
   "execution_count": 10,
   "metadata": {
    "collapsed": true
   },
   "outputs": [],
   "source": [
    "#arr[index...]所有的面值，每个面值任意选择，组成正好rest，返回方法数。\n",
    "def process(arr, index, rest):\n",
    "    if index == len(arr):\n",
    "        return 1 if rest == 0 else 0\n",
    "    ways = 0\n",
    "    for nums in range(rest // arr[index] + 1): #nums<= rest // arr[index]\n",
    "        ways += process(arr, index+1, rest - (nums * arr[index]))\n",
    "    return ways\n",
    "\n",
    "def coinWays(arr, aim):\n",
    "    if not arr or aim < 0:\n",
    "        return 0\n",
    "    return process(arr, 0, aim)"
   ]
  },
  {
   "cell_type": "code",
   "execution_count": 13,
   "metadata": {
    "collapsed": true
   },
   "outputs": [],
   "source": [
    "def dp(arr, aim):\n",
    "    if not arr or aim < 0:\n",
    "        return 0\n",
    "    N = len(arr)\n",
    "    dp = [[0]*(aim+1) for _ in range(N+1)]\n",
    "    dp[N][0] = 1\n",
    "    for index in range(N-1,-1,-1):\n",
    "        for rest in range(aim+1):\n",
    "            ways = 0\n",
    "            for nums in range(rest // arr[index] + 1): #nums<= rest // arr[index]\n",
    "                ways += dp[index+1][rest - (nums * arr[index])]\n",
    "                \n",
    "            dp[index][rest] = ways\n",
    "    \n",
    "    return dp[0][aim]\n",
    "\n",
    "\n",
    "def coinWays(arr, aim):\n",
    "    if not arr or aim < 0:\n",
    "        return 0\n",
    "    return dp(arr, aim)"
   ]
  },
  {
   "cell_type": "markdown",
   "metadata": {},
   "source": [
    "* 当每个格子只用O(1)时间计算出，则记忆化搜索和严格表结构同样效率\n",
    "* 当每个格子需要for循环计算出，则严格表结构可以继续优化"
   ]
  },
  {
   "cell_type": "code",
   "execution_count": 12,
   "metadata": {},
   "outputs": [],
   "source": [
    "'''\n",
    "             # √\n",
    "[i] ...e d c b a\n",
    "\n",
    "假设想求   √位置，根据for循环可知需要计算a+b+c+d(...可能更多)。\n",
    "但如果已知 #位置，则√位置只需要计算 # + a有限步数（如果已知只3次for循环，则减去e）\n",
    "\n",
    "'''"
   ]
  },
  {
   "cell_type": "code",
   "execution_count": 15,
   "metadata": {},
   "outputs": [],
   "source": [
    "\n",
    "def dp2(arr, aim):\n",
    "    if not arr or aim < 0:\n",
    "        return 0\n",
    "    N = len(arr)\n",
    "    dp = [[0]*(aim+1) for _ in range(N+1)]\n",
    "    dp[N][0] = 1\n",
    "    for index in range(N-1,-1,-1):\n",
    "        for rest in range(aim+1):\n",
    "            dp[index][rest] = dp[index+1][rest]\n",
    "            if rest - arr[index] >= 0:\n",
    "                dp[index][rest] += dp[index][rest - arr[index]] #省去for循环\n",
    "    \n",
    "    return dp[0][aim]\n",
    "\n",
    "\n",
    "def coinWays(arr, aim):\n",
    "    if not arr or aim < 0:\n",
    "        return 0\n",
    "    return dp(arr, aim)"
   ]
  },
  {
   "cell_type": "markdown",
   "metadata": {},
   "source": [
    "## 3.凑钱(同面值无不同)\n",
    "* 给定一个货币数组，其中的值都是正数。再给定一个正数aim。\n",
    "* 每个值都认为是一张面值，同一面值的钱无不同。返回组成aim的方法数\n",
    "* 例如arr = [1,2,1,1,2,1,2]，aim是4， 返回3(1+1+1+1,1+1+2,2+2)"
   ]
  },
  {
   "cell_type": "code",
   "execution_count": 16,
   "metadata": {
    "collapsed": true
   },
   "outputs": [],
   "source": [
    "#思路：将数组遍历，记录面值频次"
   ]
  },
  {
   "cell_type": "code",
   "execution_count": 18,
   "metadata": {
    "collapsed": true
   },
   "outputs": [],
   "source": [
    "\n",
    "\n",
    "def coinWays(arr, aim):\n",
    "    count = dict()\n",
    "    for value in arr:\n",
    "        if value not in count:\n",
    "            count[value] = 1\n",
    "        else:\n",
    "            count[value] += 1\n",
    "    coins = list()\n",
    "    nums = list()\n",
    "    for (v, c) in count.items():\n",
    "        coins.append(v)\n",
    "        nums.append(c)\n",
    "    return process(coins, nums, 0, aim)\n",
    "# coins 面值数组，正数且去重\n",
    "# nums 面值对应的张数\n",
    "def process(coins, nums, index, rest):\n",
    "    if index == len(coins):\n",
    "        return 1 if rest == 0 else 0\n",
    "    ways = 0\n",
    "    for n in range( min(rest // coins[index], nums[index]) + 1 ):\n",
    "        ways += process(coins, nums, index+1, rest - n*coins[index])\n",
    "    return ways"
   ]
  },
  {
   "cell_type": "code",
   "execution_count": 19,
   "metadata": {
    "collapsed": true
   },
   "outputs": [],
   "source": [
    "\n",
    "\n",
    "def coinWays(arr, aim):\n",
    "    count = dict()\n",
    "    for value in arr:\n",
    "        if value not in count:\n",
    "            count[value] = 1\n",
    "        else:\n",
    "            count[value] += 1\n",
    "    coins = list()\n",
    "    nums = list()\n",
    "    for (v, c) in count.items():\n",
    "        coins.append(v)\n",
    "        nums.append(c)\n",
    "    return dp(coins, nums, 0, aim)\n",
    "# coins 面值数组，正数且去重\n",
    "# nums 面值对应的张数\n",
    "\n",
    "def dp(coins, nums, aim):\n",
    "    if not coins or not nums or aim < 0:\n",
    "        return 0\n",
    "    N = len(coins)\n",
    "    dp = [[0]*(aim+1) for _ in range(N+1)]  \n",
    "    dp[N][0] = 1\n",
    "    for index in range(N-1, -1, -1):\n",
    "        for rest in range(aim+1):\n",
    "            dp[index][rest] = dp[index+1][rest]\n",
    "            if rest - coins[index] >= 0:\n",
    "                dp[index][rest] += dp[index][rest-coins[index]]\n",
    "            if rest - coins[index] * (nums[index]+1) >= 0:\n",
    "                dp[index][rest] -= dp[index+1][rest - coins[index] * (nums[index] + 1)]\n",
    "\n",
    "    \n",
    "    return dp[0][aim]"
   ]
  },
  {
   "cell_type": "markdown",
   "metadata": {},
   "source": [
    "## 4.醉汉问题\n",
    "给定5个参数，N、M、row、col，k\n",
    "表示在N*M区域上，醉汉bob初始在(row,col)位置\n",
    "bob一共要迈出k步，每步都等概率向上、下、左、右四个方向走一个单位。任何时候bob离开N*M区域，就立即死亡\n",
    "返回k步之后，bob还活着的概率"
   ]
  },
  {
   "cell_type": "code",
   "execution_count": 21,
   "metadata": {
    "collapsed": true
   },
   "outputs": [],
   "source": [
    "# 如果N*M无限大，那k步的可能就是4^k种可能\n",
    "# 计算出k步后bob在区域内的可能，除以上面4^k就是答案概率"
   ]
  },
  {
   "cell_type": "code",
   "execution_count": 23,
   "metadata": {
    "collapsed": true
   },
   "outputs": [],
   "source": [
    "def livePosibility(row, col, k, N, M):\n",
    "    return process(row,col,k,N,M) * 1.0 / (4 ** k)\n",
    "\n",
    "#目前在row,col位置，还剩rest步走，走完如果还在N*M中就获得1点生存，返回总的生存点数\n",
    "def process(row,col,rest,N,M):\n",
    "    if row < 0 or row == N or col < 0 or col == N:\n",
    "        return 0 #死了\n",
    "    #还在区域内\n",
    "    if rest == 0:\n",
    "        return 1\n",
    "    \n",
    "    up = process(row - 1, col, res -1, N, M)\n",
    "    down = process(row + 1, col, res -1, N, M)\n",
    "    left = process(row, col - 1, res -1, N, M)\n",
    "    right = process(row, col+1, res -1, N, M)\n",
    "    return up + down + left + right\n"
   ]
  },
  {
   "cell_type": "code",
   "execution_count": 24,
   "metadata": {
    "collapsed": true
   },
   "outputs": [],
   "source": [
    "def livePosibility2(row, col, k, N, M):\n",
    "    return dp(row, col, k, N, M) * 1.0 / (4 ** k)\n",
    "\n",
    "def pick(dp, row,col,rest,N,M):\n",
    "    if row < 0 or row == N or col < 0 or col == M:\n",
    "        return 0\n",
    "    return dp[row][col][rest]\n",
    "\n",
    "def dp(row, col, k, N, M):\n",
    "    if row < 0 or row >= N or col < 0 or col >= N:\n",
    "        return 0 #上来就死了，没有后续\n",
    "    dp = [[[0] * (k+1) for _ in range(M)] for _ in range(N)]\n",
    "    #k=0层，0<=col<M ==>1; 0<=row<N ==>1; \n",
    "    for x in range(0, N):\n",
    "        for y in range(0, M):\n",
    "            dp[x][y][0] = 1\n",
    "    for rest in range(1, k+1):\n",
    "        for x in range(0, N):\n",
    "            #这里改成用pk，边界更保险。不能用range(M-1)，让M-1上无结果了就，实际上虽然不能往右走，但还可以上下左，3个值相加\n",
    "            for y in range(0,M):\n",
    "                up = pick(dp, row-1, col, rest -1)\n",
    "                down = pick(dp, row+1, col, rest -1)\n",
    "                left = pick(dp, row, col-1, rest -1)\n",
    "                right = pick(dp, row, col+1, rest -1)\n",
    "                dp[x][y][rest] = up+down+left+right\n",
    "    return dp[row][col][k]"
   ]
  },
  {
   "cell_type": "code",
   "execution_count": null,
   "metadata": {
    "collapsed": true
   },
   "outputs": [],
   "source": []
  }
 ],
 "metadata": {
  "kernelspec": {
   "display_name": "Python 3",
   "language": "python",
   "name": "python3"
  },
  "language_info": {
   "codemirror_mode": {
    "name": "ipython",
    "version": 3
   },
   "file_extension": ".py",
   "mimetype": "text/x-python",
   "name": "python",
   "nbconvert_exporter": "python",
   "pygments_lexer": "ipython3",
   "version": "3.6.1"
  }
 },
 "nbformat": 4,
 "nbformat_minor": 2
}
