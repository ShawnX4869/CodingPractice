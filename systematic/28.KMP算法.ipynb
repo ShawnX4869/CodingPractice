{
 "cells": [
  {
   "cell_type": "markdown",
   "id": "3e622f34",
   "metadata": {},
   "source": [
    "### KMP算法\n",
    "字符串匹配/查找，暴力解O(N*M),kmp=O(N)"
   ]
  },
  {
   "cell_type": "code",
   "execution_count": 1,
   "id": "f60f0f38",
   "metadata": {},
   "outputs": [
    {
     "data": {
      "text/plain": [
       "'\\n前缀串与后缀串的最长匹配长度\\n\\nabcabck\\n      ⬆️\\n储存信息为3 => 字符k前的所有字符串，在不能等于全部长度下，前缀串与后缀串相同的最长匹配长度。0位置规定为-1，1位置0(因为不能取整体).\\n长度1时，a      对应    c，不相同\\n长度2时，ab     对应   bc，不相同\\n长度3时，abc    对应  abc，相同✅\\n长度4时，abca   对应 cabc，不相同\\n长度5时，abcab  对应bcabc，不相同 \\n\\n\\n字符:  a,a,b,a,a,b,s,a,a,b,t\\n索引:  0,1,2,3,4,5,6,7,8,9,10\\n信息: -1,0,1,0,1,2,3.........\\n\\n\\n<span class=\"mark\">acdbstacd</span>txeacdbstacdbk\\n                     ?\\n\\n\\n'"
      ]
     },
     "execution_count": 1,
     "metadata": {},
     "output_type": "execute_result"
    }
   ],
   "source": [
    "#利用i位置之前的位置信息加速\n",
    "def getNextArray(s):\n",
    "    if len(s) == 1:\n",
    "        return [-1]\n",
    "    nexts = [None] * len(s)\n",
    "    nexts[0] = -1\n",
    "    nexts[1] = 0\n",
    "    index = 2 #当前填到哪，利用index-1跳步\n",
    "    cn = 0   # 当前是哪个位置，和index-1位置字符比对\n",
    "    while index < len(s):\n",
    "        if s[index - 1] == s[cn]:\n",
    "            nexts[index] = cn + 1\n",
    "            cn += 1 #index的cn，给index+1使用\n",
    "            index += 1\n",
    "        elif cn > 0: #继续跳\n",
    "            cn = nexts[cn]\n",
    "        else:\n",
    "            nexts[index] = 0\n",
    "            index += 1\n",
    "    return nexts\n",
    "    \n",
    "    \n",
    "\n",
    "\n",
    "\n",
    "'''\n",
    "前缀串与后缀串的最长匹配长度\n",
    "\n",
    "abcabck\n",
    "      ⬆️\n",
    "储存信息为3 => 字符k前的所有字符串，在不能等于全部长度下，前缀串与后缀串相同的最长匹配长度。0位置规定为-1，1位置0(因为不能取整体).\n",
    "长度1时，a      对应    c，不相同\n",
    "长度2时，ab     对应   bc，不相同\n",
    "长度3时，abc    对应  abc，相同✅\n",
    "长度4时，abca   对应 cabc，不相同\n",
    "长度5时，abcab  对应bcabc，不相同 \n",
    "\n",
    "\n",
    "字符:  a,a,b,a,a,b,s,a,a,b,t\n",
    "索引:  0,1,2,3,4,5,6,7,8,9,10\n",
    "信息: -1,0,1,0,1,2,3.........\n",
    "\n",
    "\n",
    "[acdbstacd]txe[acdbstacd]bk\n",
    "                         9?\n",
    "           ? =>如果这个t=b，那k就是9+1=10\n",
    "               明显t!=b，所以继续往前跳\n",
    "[acd]bst[acd]txeacdbstacdbk         \n",
    "             3            ?\n",
    "     ?       => b=b,那k就是3+1 = 4\n",
    "\n",
    "\n",
    "'''\n",
    "\n",
    "\n"
   ]
  },
  {
   "cell_type": "code",
   "execution_count": 2,
   "id": "c1aedaec",
   "metadata": {},
   "outputs": [
    {
     "data": {
      "text/plain": [
       "\"\\nS1:  从i位置直到...j... x-1位置都相等，直到x!=y。 利用s2信息将i推到j位置，此时判断x与j'的下一个匹配\\nS2:  从0位置直到...j'z..y-1位置都相等，直到x!=y。 s2对应s1已匹配上0...j'，下一位z与x重新检查匹配\\n\\n\\nS1: aabaat\\nS2: aabaab        s2信息aabaab，信息储存即s2指针跳动位置\\n                      -101012\\n1.  aabaat\\n    aabaab\\n        ⬆️ 这里t存了2，所以i右移到j\\n    aabaat\\n    i..j\\n       aabaab\\n         ⬆️ 这里b存了1，所以j右移到k\\n    aabaat\\n    i..j.k\\n        aabaab\\n         ⬆️ 这里a存了0，所以a没法加速了，只能从s2开头开始\\n    aabaat...\\n    i..j.k\\n         aabaab\\n         ⬆️ 这里a存了-1，说明第一个数就对不上了。只能从s1的t下一个字符重新开始匹配s2的0位置\\n    \\n\\n\""
      ]
     },
     "execution_count": 2,
     "metadata": {},
     "output_type": "execute_result"
    }
   ],
   "source": [
    "#返回第一个匹配的开始位置(严格子串)\n",
    "def getIndexOf(s1, s2):\n",
    "    if not s1 or not s2 or len(s1) < len(s2):\n",
    "        return -1\n",
    "    str1 = list(s1)\n",
    "    str2 = list(s2)\n",
    "    #比对到的位置\n",
    "    x = 0\n",
    "    y = 0\n",
    "    nexts = getNextArray(str2)\n",
    "    #O(N)\n",
    "    #证明：(做差评估浮动幅度)\n",
    "    #x的最大值是N，y的最大值也是N。X-Y的最大值也是N\n",
    "    #分支一if时， x++，y++ ==> x变大， x-y不变。\n",
    "    #分支二elif时，x++     ==> x变大， x-y变大。\n",
    "    #分支三else时，y变小，  ==> x不变， x-y变大。\n",
    "    #所以三个分支的浮动，<=2N\n",
    "    while x < len(str1) and y < len(str2):\n",
    "        if str1[x] == str2[y]:\n",
    "            x += 1\n",
    "            y += 1\n",
    "        elif nexts[y] == -1: # y=0\n",
    "            x += 1\n",
    "        else:\n",
    "            y = nexts[y]\n",
    "    return x - y if y == len(str2) else -1 #只有x=y,y++,所以y来到越界，一定y遍历了整个s2.\n",
    "\n",
    "\n",
    "'''\n",
    "S1:  从i位置直到...j... x-1位置都相等，直到x!=y。 利用s2信息将i推到j位置，此时判断x与j'的下一个匹配\n",
    "S2:  从0位置直到...j'z..y-1位置都相等，直到x!=y。 s2对应s1已匹配上0...j'，下一位z与x重新检查匹配\n",
    "\n",
    "\n",
    "S1: aabaat\n",
    "S2: aabaab        s2信息aabaab，信息储存即s2指针跳动位置\n",
    "                      -101012\n",
    "1.  aabaat\n",
    "    aabaab\n",
    "        ⬆️ 这里t存了2，所以i右移到j\n",
    "    aabaat\n",
    "    i..j\n",
    "       aabaab\n",
    "         ⬆️ 这里b存了1，所以j右移到k\n",
    "    aabaat\n",
    "    i..j.k\n",
    "        aabaab\n",
    "         ⬆️ 这里a存了0，所以a没法加速了，只能从s2开头开始\n",
    "    aabaat...\n",
    "    i..j.k\n",
    "         aabaab\n",
    "         ⬆️ 这里a存了-1，说明第一个数就对不上了。只能从s1的t下一个字符重新开始匹配s2的0位置\n",
    "    \n",
    "\n",
    "'''"
   ]
  },
  {
   "cell_type": "code",
   "execution_count": null,
   "id": "2fb65b65",
   "metadata": {},
   "outputs": [],
   "source": []
  }
 ],
 "metadata": {
  "kernelspec": {
   "display_name": "Python 3 (ipykernel)",
   "language": "python",
   "name": "python3"
  },
  "language_info": {
   "codemirror_mode": {
    "name": "ipython",
    "version": 3
   },
   "file_extension": ".py",
   "mimetype": "text/x-python",
   "name": "python",
   "nbconvert_exporter": "python",
   "pygments_lexer": "ipython3",
   "version": "3.9.12"
  },
  "toc": {
   "base_numbering": 1,
   "nav_menu": {},
   "number_sections": true,
   "sideBar": true,
   "skip_h1_title": false,
   "title_cell": "Table of Contents",
   "title_sidebar": "Contents",
   "toc_cell": false,
   "toc_position": {},
   "toc_section_display": true,
   "toc_window_display": false
  }
 },
 "nbformat": 4,
 "nbformat_minor": 5
}
