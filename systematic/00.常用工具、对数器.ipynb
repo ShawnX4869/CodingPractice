{
 "cells": [
  {
   "cell_type": "markdown",
   "metadata": {},
   "source": [
    "# 1. 二叉树相关"
   ]
  },
  {
   "cell_type": "markdown",
   "metadata": {},
   "source": [
    "## 1.1 打印二叉树"
   ]
  },
  {
   "cell_type": "code",
   "execution_count": 1,
   "metadata": {
    "collapsed": true
   },
   "outputs": [],
   "source": [
    "def getSpace(num):\n",
    "    space = \"\"\n",
    "    for i in range(num):\n",
    "        space+= \" \"\n",
    "    return space\n",
    "    \n",
    "\n",
    "def printInOrder(head, height, to, length):\n",
    "    if head is None:\n",
    "        return \n",
    "    printInOrder(head.right, height+1, \"↓\", length)\n",
    "    val = to + str(head.val) + to\n",
    "    lenM= len(str(head.val))\n",
    "    lenL = (length - lenM) // 2\n",
    "    lenR = length - lenM - lenL\n",
    "    val = getSpace(lenL) + val + getSpace(lenR)\n",
    "    print(getSpace(height * length) + val)\n",
    "    printInOrder(head.left, height+1, \"↑\", length)\n",
    "def printBinaryTree(head):\n",
    "    print(\"Binary Tree: \")\n",
    "    printInOrder(head, 0, \"H\", 17)\n",
    "    print()"
   ]
  },
  {
   "cell_type": "markdown",
   "metadata": {},
   "source": [
    "## 1.2 生成随机二叉树"
   ]
  },
  {
   "cell_type": "code",
   "execution_count": 2,
   "metadata": {
    "collapsed": true
   },
   "outputs": [],
   "source": [
    "import random\n",
    "def generateRandomNode(curLevel, maxLevel, maxValue):\n",
    "    if curLevel > maxLevel or random.random() < 0.5:\n",
    "        return None\n",
    "    node = Node(random.randint(0, maxValue))\n",
    "    node.left = generateRandomNode(curLevel+1, maxLevel, maxValue)\n",
    "    node.right = generateRandomNode(curLevel+1, maxLevel, maxValue)\n",
    "    return node\n",
    "def generateRandomBT(maxLevel, maxValue):\n",
    "    return generateRandomNode(1, maxLevel, maxValue)"
   ]
  },
  {
   "cell_type": "code",
   "execution_count": null,
   "metadata": {
    "collapsed": true
   },
   "outputs": [],
   "source": []
  }
 ],
 "metadata": {
  "kernelspec": {
   "display_name": "Python 3",
   "language": "python",
   "name": "python3"
  },
  "language_info": {
   "codemirror_mode": {
    "name": "ipython",
    "version": 3
   },
   "file_extension": ".py",
   "mimetype": "text/x-python",
   "name": "python",
   "nbconvert_exporter": "python",
   "pygments_lexer": "ipython3",
   "version": "3.6.1"
  }
 },
 "nbformat": 4,
 "nbformat_minor": 2
}
