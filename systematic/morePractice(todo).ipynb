{
 "cells": [
  {
   "cell_type": "markdown",
   "metadata": {},
   "source": [
    "### 01不等概率随机到01等概率随机"
   ]
  },
  {
   "cell_type": "code",
   "execution_count": 3,
   "metadata": {
    "collapsed": true
   },
   "outputs": [],
   "source": [
    "def noEqual():\n",
    "    n = random.random()\n",
    "    if n <= 0.1: #0.1\n",
    "        return 1\n",
    "    elif n <= 0.8: #0.7\n",
    "        return 2 #0.2\n",
    "    else: \n",
    "        return 3\n",
    "def equal():\n",
    "    pass"
   ]
  },
  {
   "cell_type": "markdown",
   "metadata": {},
   "source": [
    "### 有序数组找到>=value的最左端"
   ]
  },
  {
   "cell_type": "markdown",
   "metadata": {},
   "source": [
    "### K个节点的组内逆序调整"
   ]
  },
  {
   "cell_type": "markdown",
   "metadata": {},
   "source": [
    "### 用位运算实现加减乘除"
   ]
  },
  {
   "cell_type": "markdown",
   "metadata": {},
   "source": [
    "### 合并多个有序链表"
   ]
  },
  {
   "cell_type": "markdown",
   "metadata": {},
   "source": [
    "### 从前序与中序遍历序列构造二叉树"
   ]
  },
  {
   "cell_type": "markdown",
   "metadata": {},
   "source": [
    "### 一个数组有一个数出现了K次，其他数都出现了M次，找到K次的数"
   ]
  },
  {
   "cell_type": "markdown",
   "metadata": {},
   "source": [
    "### 归并排序+快速排序"
   ]
  },
  {
   "cell_type": "markdown",
   "metadata": {},
   "source": [
    "### 区间和达标的子数组数量"
   ]
  },
  {
   "cell_type": "markdown",
   "metadata": {},
   "source": [
    "### 堆排序O(N*logN)"
   ]
  },
  {
   "cell_type": "markdown",
   "metadata": {},
   "source": [
    "### 最大线段重合问题"
   ]
  },
  {
   "cell_type": "markdown",
   "metadata": {
    "collapsed": true
   },
   "source": [
    "### 判断链表是否为回文结构"
   ]
  },
  {
   "cell_type": "markdown",
   "metadata": {},
   "source": [
    "### 二叉树中序遍历"
   ]
  },
  {
   "cell_type": "markdown",
   "metadata": {},
   "source": [
    "### 二叉树的序列化和反序列化"
   ]
  },
  {
   "cell_type": "markdown",
   "metadata": {},
   "source": [
    "### 按层序列化.反序列化"
   ]
  },
  {
   "cell_type": "markdown",
   "metadata": {},
   "source": [
    "### 二叉树的最大距离"
   ]
  },
  {
   "cell_type": "markdown",
   "metadata": {},
   "source": [
    "### 最低公共祖先"
   ]
  },
  {
   "cell_type": "markdown",
   "metadata": {},
   "source": [
    "### 逆序栈（不用辅助栈、只用递归）"
   ]
  },
  {
   "cell_type": "markdown",
   "metadata": {},
   "source": [
    "### 最长公共子序列"
   ]
  },
  {
   "cell_type": "markdown",
   "metadata": {},
   "source": [
    "### 最长回文子序列长度"
   ]
  },
  {
   "cell_type": "markdown",
   "metadata": {},
   "source": [
    "### 煮咖啡\n",
    "给定一个数组，arr[i]代表第i号咖啡机泡一杯咖啡的时间\n",
    "给定一个正数N，表示N个人在等咖啡，每台咖啡机只能同时泡一杯咖啡，咖啡机可以并行泡\n",
    "只有一台洗杯机，一次只能洗一个杯子，耗时a，洗完才能洗下一杯\n",
    "每个杯子也可以自己挥发干净，耗时b，咖啡杯可以并行挥发\n",
    "假设所有人拿到咖啡立刻喝干净，不耗时。返回从开始到所有咖啡机变干净的最短时间。\n",
    "四个参数arr，N，a，b"
   ]
  },
  {
   "cell_type": "markdown",
   "metadata": {
    "collapsed": true
   },
   "source": [
    "### 货币数组组成面值的方法数-同值无差别(张数限定)"
   ]
  },
  {
   "cell_type": "markdown",
   "metadata": {},
   "source": [
    "### 裂开数字的方法数\n",
    "给定一个正数1，裂开的方法有一种；\n",
    "给定一个正数2，裂开的方法有两种，{1和1}、{2}；\n",
    "给定一个正数3，裂开的方法有三种，{1,1,1}、{1,2}、{3}；\n",
    "给定一个正数4，裂开的方法有五种，{1,1,1,1}、{1,1,2}、{1,3}、{2,2}、{4}\n",
    "求正数n的裂开方法数"
   ]
  },
  {
   "cell_type": "markdown",
   "metadata": {},
   "source": [
    "### 给定一个正数数组arr，请把arr中的所有数分成两个集合，尽可能让两个集合的累加和接近。\n",
    "递归base写的不好（老老实实把base分详细，有助于dp分条件填数）会导致dp出现纰漏"
   ]
  },
  {
   "cell_type": "code",
   "execution_count": null,
   "metadata": {},
   "outputs": [],
   "source": []
  }
 ],
 "metadata": {
  "kernelspec": {
   "display_name": "Python 3 (ipykernel)",
   "language": "python",
   "name": "python3"
  },
  "language_info": {
   "codemirror_mode": {
    "name": "ipython",
    "version": 3
   },
   "file_extension": ".py",
   "mimetype": "text/x-python",
   "name": "python",
   "nbconvert_exporter": "python",
   "pygments_lexer": "ipython3",
   "version": "3.9.12"
  },
  "toc": {
   "base_numbering": 1,
   "nav_menu": {},
   "number_sections": true,
   "sideBar": true,
   "skip_h1_title": false,
   "title_cell": "Table of Contents",
   "title_sidebar": "Contents",
   "toc_cell": false,
   "toc_position": {},
   "toc_section_display": true,
   "toc_window_display": false
  }
 },
 "nbformat": 4,
 "nbformat_minor": 2
}
