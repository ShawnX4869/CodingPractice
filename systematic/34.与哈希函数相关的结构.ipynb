{
 "cells": [
  {
   "cell_type": "markdown",
   "id": "46ad760f",
   "metadata": {},
   "source": [
    "### 哈希表\n",
    "1. 哈希表内储存元素的桶均匀增长，即每个桶内有相似链长度的节点（相同hash值存放相同桶内）\n",
    "2. 当一个桶内的链长度增长到一定长度，哈希表开始扩容，即增加桶的个数。目的使哈希表查询保持O(1)增删改查\n",
    "3. x2扩容，每次扩容代价为O(N)，插入N个数，扩容整体代价趋近O(2N),平均下来是O(1)。"
   ]
  },
  {
   "cell_type": "markdown",
   "id": "b6affb26",
   "metadata": {},
   "source": [
    "### 布隆过滤器(类黑名单系统，一定存在失误率(假阳性)，通过设计调节降低)\n",
    "1. 利用哈希函数的性质\n",
    "2. 每一条数据提取特征(多个哈希函数映射）\n",
    "3. 加入描黑库\n",
    "4. (HDFS、redis中有应用) HDFS每个存储块存一个自己的布隆过滤器"
   ]
  },
  {
   "cell_type": "code",
   "execution_count": 1,
   "id": "bd8c7aff",
   "metadata": {},
   "outputs": [
    {
     "data": {
      "text/plain": [
       "'\\n1. 将所有非法url通过K个哈希函数，映射到M长度的位图上，将每个哈希输出描黑。 ==> 创建\\n2. 需要检测的一个新的url，通过相同K个哈希函数，将哈希输出的状态取出，这K个结结果中有一个未描黑即可判断不是非法url。 ==> 检索\\n\\n巧妙点是 确定 K、M的大小：M为bit的个数\\n1. M的大小考虑相关：样本量N、失误率P。 M越大失误率越低，通过失误率P找到满足条件的M即可，无需无止境的扩大M，因为失误率无法=0，只能趋近。\\nM =  -(N * lnP)\\n    -----------\\n       (ln2)^2\\n2. K个函数的个数相关：样本量、M空间。初始K=1，P很大，随着K增大P会先变小，然后增大。增大是因为K增加使M的利用率增加，使失误率增加。\\n所以是个凹函数，取拐点即可获得最佳K值。\\nK = ln2 * M/N = 0.7 * M/N\\n\\n3. 真实P的计算方式：\\nP = (1-e^(-N*K/M))^K\\n\\n4.通过2个哈希函数造K个：任意整数i * f1 + f2即可\\n\\n'"
      ]
     },
     "execution_count": 1,
     "metadata": {},
     "output_type": "execute_result"
    }
   ],
   "source": [
    "'''\n",
    "1. 将所有非法url通过K个哈希函数，映射到M长度的位图上，将每个哈希输出描黑。 ==> 创建\n",
    "2. 需要检测的一个新的url，通过相同K个哈希函数，将哈希输出的状态取出，这K个结结果中有一个未描黑即可判断不是非法url。 ==> 检索\n",
    "\n",
    "巧妙点是 确定 K、M的大小：M为bit的个数\n",
    "1. M的大小考虑相关：样本量N、失误率P。 M越大失误率越低，通过失误率P找到满足条件的M即可，无需无止境的扩大M，因为失误率无法=0，只能趋近。\n",
    "M =  -(N * lnP)\n",
    "    -----------\n",
    "       (ln2)^2\n",
    "2. K个函数的个数相关：样本量、M空间。初始K=1，P很大，随着K增大P会先变小，然后增大。增大是因为K增加使M的利用率增加，使失误率增加。\n",
    "所以是个凹函数，取拐点即可获得最佳K值。\n",
    "K = ln2 * M/N = 0.7 * M/N\n",
    "\n",
    "3. 真实P的计算方式：\n",
    "P = (1-e^(-N*K/M))^K\n",
    "\n",
    "4.通过2个哈希函数造K个：任意整数i * f1 + f2即可\n",
    "\n",
    "'''"
   ]
  },
  {
   "cell_type": "markdown",
   "id": "9da1d113",
   "metadata": {},
   "source": [
    "### 一致性哈希\n",
    "分布式存储结构最常见的结构\n",
    "1. 哈希域变成环的设计\n",
    "2. 虚拟节点技术"
   ]
  },
  {
   "cell_type": "code",
   "execution_count": null,
   "id": "623f1fe3",
   "metadata": {},
   "outputs": [],
   "source": [
    "'''\n",
    "1. 想象哈希函数的返回值(哈希值)组成一个环，将机器的某种特征通过这个哈希函数上环。比如3台机器的ip地址，哈希后，落到了环上三个点\n",
    "2. 新的数据到来，通过哈希函数上环，存储到顺时针遇到的第一台机器。（每台机器存储一个有序数组即可）\n",
    "3. 新添加一台机器，可以通过上环的位置，向老机器要到需要属于自己的分摊数据。\n",
    "4. 这样对比所有数据的哈希值通过mod机器数，决定存储那台机器的方法：新加入机器需要重新哈希分配。而上面的方法不需要。\n",
    "\n",
    "问题1:\n",
    "负载可能不均：因为哈希均匀性是指一定数量的数据通过哈希hash后，命中每个桶的数量差不多；而不是会将几个点均匀地分布在环上。\n",
    "            所以有可能存在某个机器负载很低，有的却很高。\n",
    "解决方法：虚拟节点技术\n",
    "1. 使用虚拟节点去上环抢数据！实际是通过虚拟节点数代替机器数上环，让环的分配更均衡。\n",
    "2. 通过机器的性能调整，每台机器的虚拟节点个数。所以不光能解决负载不均，也可以解决性能管理。\n",
    "'''"
   ]
  }
 ],
 "metadata": {
  "kernelspec": {
   "display_name": "Python 3 (ipykernel)",
   "language": "python",
   "name": "python3"
  },
  "language_info": {
   "codemirror_mode": {
    "name": "ipython",
    "version": 3
   },
   "file_extension": ".py",
   "mimetype": "text/x-python",
   "name": "python",
   "nbconvert_exporter": "python",
   "pygments_lexer": "ipython3",
   "version": "3.8.13"
  },
  "toc": {
   "base_numbering": 1,
   "nav_menu": {},
   "number_sections": true,
   "sideBar": true,
   "skip_h1_title": false,
   "title_cell": "Table of Contents",
   "title_sidebar": "Contents",
   "toc_cell": false,
   "toc_position": {},
   "toc_section_display": true,
   "toc_window_display": false
  }
 },
 "nbformat": 4,
 "nbformat_minor": 5
}
