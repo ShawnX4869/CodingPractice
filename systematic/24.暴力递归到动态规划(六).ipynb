{
 "cells": [
  {
   "cell_type": "markdown",
   "metadata": {},
   "source": [
    "## 1. 拆分集合\n",
    "* 给定一个正数数组arr，请把arr中的所有数分成两个集合，尽可能让两个集合的累加和接近。\n",
    "* 在最接近的情况下，返回较小的那个集合的累加和"
   ]
  },
  {
   "cell_type": "code",
   "execution_count": 10,
   "metadata": {
    "collapsed": true
   },
   "outputs": [],
   "source": [
    "def splitSumClosed(arr):\n",
    "    if not arr or len(arr) < 2:\n",
    "        return 0\n",
    "    s = 0\n",
    "    for i in arr:\n",
    "        s += i \n",
    "    return process(arr, 0, int(s / 2)) #，s >> 2 不行，因为s = -1时， s>>2=-1\n",
    "\n",
    "#arr[i,...]自由选择，返回尽量接近rest但不能超过rest的情况下，最接近的累加和是多少\n",
    "\n",
    "def process(arr, i, rest):\n",
    "    if i == len(arr):\n",
    "        return 0\n",
    "    else:\n",
    "        p1 = process(arr, i+1, rest)\n",
    "        p2 = 0 if res - arr[i] < 0 else process(arr, i+1, rest - arr[i]) + arr[i]\n",
    "        return max(p1,p2)\n",
    "    \n",
    "def dp(arr):\n",
    "    if not arr or len(arr) < 2:\n",
    "        return 0\n",
    "    s = 0\n",
    "    for i in arr:\n",
    "        s += i \n",
    "    aim = int(s / 2)\n",
    "    N = len(arr)\n",
    "    dp = [[0]*(aim+1) for _ in range(N+1)]\n",
    "    #dp[N][rest] = 0\n",
    "    for index in range(N-1, -1, 0):\n",
    "        for rest in range(aim + 1):\n",
    "            dp[index][rest] = dp[index+1][rest]\n",
    "            if rest - arr[i] >= 0:\n",
    "                dp[index][rest] = max(dp[index][rest], dp[index+1][rest - arr[i]] + arr[i])\n",
    "    return dp[0][aim]"
   ]
  },
  {
   "cell_type": "markdown",
   "metadata": {},
   "source": [
    "## 2.拆分集合(要求个数接近)\n",
    "给定一个正数数组arr，请把arr中的所有数分成两个集合，尽可能让两个集合的累加和接近。\n",
    "* 要求arr长度为偶数，两个集合个数一样多；长度为奇数，两个集合的个数只差一个\n",
    "* 在最接近的情况下，返回较小的那个集合的累加和"
   ]
  },
  {
   "cell_type": "code",
   "execution_count": 1,
   "metadata": {},
   "outputs": [],
   "source": [
    "#第一题加上最多挑x个的限制\n",
    "def process(arr, i, picks, rest):\n",
    "    if i == len(arr):\n",
    "        return 0 if picks == 0 else -1\n",
    "    else:\n",
    "        p1 = process(arr, i+1, picks, rest)\n",
    "        p2 = -1\n",
    "        if rest - arr[i]>= 0:\n",
    "            nxt = process(arr, i+1, picks - 1, rest - arr[i])\n",
    "            if nxt != -1:\n",
    "                p2 = nxt + arr[i]\n",
    "        return max(p1,p2)\n",
    "        \n",
    "    \n",
    "def splitNumClosedLimit(arr):\n",
    "    if not arr or len(arr) < 2:\n",
    "        return 0\n",
    "    s = 0\n",
    "    for i in arr:\n",
    "        s+= i\n",
    "    aim = int(s / 2)\n",
    "    if len(arr) & 1 == 0:\n",
    "        return process(arr, 0, length//2, aim)\n",
    "    else:\n",
    "        p1 = process(arr, 0, length//2, aim)\n",
    "        p2 = process(arr, 0, length//2 + 1, aim)\n",
    "        return max(p1,p2)\n",
    "    \n",
    "def dp(arr):\n",
    "    if not arr or len(arr) < 2:\n",
    "        return 0\n",
    "    s = 0\n",
    "    for i in arr:\n",
    "        s+= i\n",
    "    aim = int(s / 2)\n",
    "    N = len(arr)\n",
    "    M = N // 2 + 1 #picks向上取整\n",
    "    dp = [[-1] * (aim+1) for _ in range(M+1) for _ in range(N+1)]\n",
    "    for rest in range(aim+1):\n",
    "        dp[N][0][rest] = 0\n",
    "    for index in range(N-1, -1, -1):\n",
    "        for picks in range(1, M+1):\n",
    "            for rest in range(aim+1):\n",
    "                p1 = dp[index+1][picks][rest]\n",
    "                p2 = -1\n",
    "                nxt = -1\n",
    "                if arr[index] <= rest:\n",
    "                    nxt = dp[index+1][picks-1][rest - arr[index]]\n",
    "                if nxt != -1:\n",
    "                    p2 = arr[index] + nxt\n",
    "                dp[index][picks][rest] = max(p1,p2)\n",
    "    if len(arr) & 1 == 0:\n",
    "        return dp[0][length//2][aim]\n",
    "    else:\n",
    "        p1 = dp[0][length//2][aim]\n",
    "        p2 = dp[0][length//2 + 1][aim]\n",
    "        return max(p1,p2) "
   ]
  },
  {
   "cell_type": "markdown",
   "metadata": {},
   "source": [
    "尝试模型\n",
    "1. 从左到右：要或不要，背包问题\n",
    "2. 范围尝试：掐L...R一起往中间,共同组成情况1、2、3...最长回文子序列问题\n",
    "3. 样本对应：[0...i][0...j] i、j分别怎样，最长公共子序列问题\n",
    "4. 业务限制:咖啡机"
   ]
  },
  {
   "cell_type": "markdown",
   "metadata": {},
   "source": [
    "## 3.N皇后问题\n",
    "* N*N的棋盘上摆N个皇后，要求任何两个皇后不同行、不同列、也不在同一条写线上。\n",
    "* 给定一个整数n，返回n皇后的摆法有多少种。\n",
    "* n=1返回1；n=2、n=3返回0；n=8返回92\n",
    "* 复杂度n^n"
   ]
  },
  {
   "cell_type": "code",
   "execution_count": 7,
   "metadata": {
    "collapsed": true
   },
   "outputs": [],
   "source": [
    "'''\n",
    "(X,Y) ? (甲,乙)\n",
    "1. 假定每行填一个皇后，一定满足行限制；\n",
    "2. 还需要满足列限制&斜线限制：(Y!=乙 and |X-甲|!=|Y-乙|)\n",
    "'''\n",
    "def isValid(record, i, j):\n",
    "    for k in range(i):\n",
    "        #遍历之前的决定(k,record[k]),检测与(i,j)是否冲突\n",
    "        if (j == record[k]) or (abs(i - k)==(abs(record[k]-j))):\n",
    "            return False\n",
    "    return True"
   ]
  },
  {
   "cell_type": "code",
   "execution_count": 22,
   "metadata": {
    "collapsed": true
   },
   "outputs": [],
   "source": [
    "#当前来到i行，一共是0~N-1行\n",
    "#在i行上放皇后，所有列都尝试\n",
    "#必须要保证跟之前所有的皇后不打架\n",
    "#int[] record=[1,7,3...] = 0行1列、1行7列、2行3列...,record[x] = y,之前的第x行，放在了y列上\n",
    "#返回不关心i之前发生了什么，i...后续有多少合成方法数\n",
    "def process(i, record, n):\n",
    "    if i == n:\n",
    "        return 1\n",
    "    res = 0\n",
    "    for j in range(n):\n",
    "        if isValid(record, i, j):\n",
    "            record[i] = j   #下一次做决定会覆盖i，可以不回溯\n",
    "            res += process(i+1, record,n)\n",
    "    return res\n",
    "def NQueens(num):\n",
    "    if num < 1 or num > 32:\n",
    "        return 0\n",
    "    records = [0] * num\n",
    "    return process(0,records,num)"
   ]
  },
  {
   "cell_type": "code",
   "execution_count": 20,
   "metadata": {},
   "outputs": [
    {
     "data": {
      "text/plain": [
       "352"
      ]
     },
     "execution_count": 20,
     "metadata": {},
     "output_type": "execute_result"
    }
   ],
   "source": [
    "NQueens(9)"
   ]
  },
  {
   "cell_type": "code",
   "execution_count": 1,
   "metadata": {
    "collapsed": true
   },
   "outputs": [],
   "source": [
    "#位运算优化,时间复杂度没有变化，优化常数时间\n",
    "'''\n",
    "使用位图的方式替代records数组：(遍历行，行的限制仍然可以省略)\n",
    "对于第0行，如果放在第0列，    表示为  = 1,0,0,0,0,0...N-1\n",
    "                那么此时的列限制为  = 1,0,0,0,0,0...N-1\n",
    "                   左下斜线的限制  = 0,0,0,0,0,0...N-1   (因为没有左下角)\n",
    "                   右下斜线的限制  = 0,1,0,0,0,0...N-1\n",
    "                此时可以放皇后的位置即 以上四行取”或“后仍为0的点\n",
    "\n",
    "对于下一个位置时，行、列限制不变，但斜线限制使原限制左移1位、右移一位，所以需要limit_new = limit | limit << 1 | limit >> 1\n",
    "'''"
   ]
  },
  {
   "cell_type": "code",
   "execution_count": 29,
   "metadata": {
    "collapsed": true
   },
   "outputs": [],
   "source": [
    "def NQueens2(num):\n",
    "    if num < 1 or num > 32: #32以上算不了\n",
    "        return 0\n",
    "    final_status = (1 << num) - 1 if num < 32 else -1 \n",
    "    #final_status为终态，如果要求3皇后那么就是0...111, 7皇后就是0...1111111\n",
    "    return process2(final_status, 0, 0, 0)\n",
    "\n",
    "#7皇后问题\n",
    "#final_status: 00...0,1,1,1,1,1,1,1\n",
    "#之前皇后的列影响: colLim\n",
    "#之前皇后的左下对角线影响:leftDiaLim\n",
    "#之前皇后的右下对角线影响:rightDiaLim\n",
    "def process2(final_status, colLim, leftDiaLim, rightDiaLim):\n",
    "    if colLim == final_status:\n",
    "        return 1\n",
    "    #pos中所有1的位置，是可以去尝试皇后的位置\n",
    "    pos = final_status & (~ (colLim | leftDiaLim | rightDiaLim))\n",
    "    mostRight = 0\n",
    "    res = 0\n",
    "    while pos !=0:\n",
    "        mostRight = pos & (~pos + 1)\n",
    "        pos = pos - mostRight\n",
    "        res += process2(final_status, \n",
    "                        colLim | mostRight,\n",
    "                        (leftDiaLim | mostRight) << 1,\n",
    "                        (rightDiaLim | mostRight) >> 1, #无符号右移，如果是java需要用>>>\n",
    "                       )\n",
    "    return res"
   ]
  },
  {
   "cell_type": "code",
   "execution_count": 33,
   "metadata": {},
   "outputs": [
    {
     "data": {
      "text/plain": [
       "2279184"
      ]
     },
     "execution_count": 33,
     "metadata": {},
     "output_type": "execute_result"
    }
   ],
   "source": [
    "NQueens2(15)"
   ]
  },
  {
   "cell_type": "code",
   "execution_count": null,
   "metadata": {
    "collapsed": true
   },
   "outputs": [],
   "source": []
  }
 ],
 "metadata": {
  "kernelspec": {
   "display_name": "Python 3 (ipykernel)",
   "language": "python",
   "name": "python3"
  },
  "language_info": {
   "codemirror_mode": {
    "name": "ipython",
    "version": 3
   },
   "file_extension": ".py",
   "mimetype": "text/x-python",
   "name": "python",
   "nbconvert_exporter": "python",
   "pygments_lexer": "ipython3",
   "version": "3.9.12"
  },
  "toc": {
   "base_numbering": 1,
   "nav_menu": {},
   "number_sections": true,
   "sideBar": true,
   "skip_h1_title": false,
   "title_cell": "Table of Contents",
   "title_sidebar": "Contents",
   "toc_cell": false,
   "toc_position": {},
   "toc_section_display": true,
   "toc_window_display": false
  }
 },
 "nbformat": 4,
 "nbformat_minor": 2
}
