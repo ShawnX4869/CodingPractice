{
 "cells": [
  {
   "cell_type": "markdown",
   "metadata": {},
   "source": [
    "## 1.最大线段重合问题\n",
    "给定很多线段，每个线段都有两个数组[start,end]，表示线段开始、结束位置，且闭区间。\n",
    "* 规定1：线段的开始和结束位置一定都是整数值\n",
    "* 规定2：线段重合区域的长度必须≥1\n",
    "* 返回：线段最多重合区域中，包含了几条线段"
   ]
  },
  {
   "cell_type": "code",
   "execution_count": 2,
   "metadata": {
    "collapsed": true
   },
   "outputs": [],
   "source": [
    "# 笨办法：找到开始的最小值min，结束的最大值max。所有重合区域必在[min,max]\n",
    "# 分别计算 min+0.5, min+1.5 ... ,max - 0.5 出现在多少重合区域内。\n",
    "# 时间复杂度O((max-min)*N)\n",
    "\n",
    "def maxCover1(lines):\n",
    "    if not lines or not len(lines[0]):\n",
    "        return 0\n",
    "    min_start = lines[0][0]\n",
    "    max_end = lines[0][1]\n",
    "    for i in range(1, len(lines)):\n",
    "        min_start = min(min_start, lines[i][0])\n",
    "        max_end = min(max_end, lines[i][1])\n",
    "    cover = 0\n",
    "    for p in range(min_start, max_end):\n",
    "        p += 0.5\n",
    "        cur = 0\n",
    "        for i in range(len(lines)):\n",
    "            if lines[i][0] < p and lines[i][1] > p:\n",
    "                cur += 1\n",
    "        cover = max(cover, cur)\n",
    "    return cover"
   ]
  },
  {
   "cell_type": "code",
   "execution_count": 14,
   "metadata": {
    "collapsed": true
   },
   "outputs": [],
   "source": [
    "'''\n",
    "思路：重合区域的左边界，必是线段的左边界。O(N*logN)\n",
    "所以遍历线段，假设当前线段的开始位置为重合区域的左边界，求有多少线段穿过了这个左边界\n",
    "1.线段按开始位置，从小到大排序（只按开始位置排序，当开始位置相同时，结束位置先遇到的是大是小不一定）\n",
    "2.准备一个小根堆。一个线段[min,max]，先将小根堆内≤min的数全部弹出，然后把max压入，此时小根堆剩余数即为【以开始位置作为重合区域，有几条线段可以穿过(包括自己)】\n",
    "3.遍历(排好序后的)所有线段，重复2操作，选取答案最大的。\n",
    "''' \n",
    "import heapq\n",
    "def maxCover2(m):\n",
    "    if not m or not len(m[0]):\n",
    "        return 0 \n",
    "    lines = sorted(m, key=lambda x: x[0])\n",
    "    heap = list()\n",
    "    ans = 0\n",
    "    for i in range(len(lines)):\n",
    "        while heap and heap[0] <= lines[i][0]:\n",
    "            heapq.heappop(heap)\n",
    "        heapq.heappush(heap, lines[i][1])\n",
    "        ans = max(ans, len(heap))\n",
    "    return ans\n",
    "\n"
   ]
  },
  {
   "cell_type": "code",
   "execution_count": 18,
   "metadata": {},
   "outputs": [
    {
     "data": {
      "text/plain": [
       "4"
      ]
     },
     "execution_count": 18,
     "metadata": {},
     "output_type": "execute_result"
    }
   ],
   "source": [
    "arr = [[1,4],[2,5],[6,9],[3,4],[4,5],[1,9]]\n",
    "maxCover1(arr)"
   ]
  },
  {
   "cell_type": "markdown",
   "metadata": {},
   "source": [
    "## 2.增强堆"
   ]
  },
  {
   "cell_type": "code",
   "execution_count": 58,
   "metadata": {
    "collapsed": true
   },
   "outputs": [],
   "source": [
    "''' 为什么要手写堆：自带heap内部没有反向索引表,即各个对象放在了哪里。\n",
    "\n",
    "1. 如果改了某一个对象，需要heapify或heapInsert重新调整堆结构\n",
    "2. 在调整前， 需要经过O(N)代价找到这个对象， ！！因为没有反向索引表！！\n",
    "'''\n",
    "class HeapEnhanced: #小根堆\n",
    "    def __init__(self): #若heap里存的是非基础类型，在对象类里自定义比较函数__lt__,__le__,__eq__\n",
    "        self.heap = list()\n",
    "        self.indexMap = dict()\n",
    "        self.heapSize = 0\n",
    "        \n",
    "    def isEmpty(self):\n",
    "        return self.heapSize == 0\n",
    "    \n",
    "    def size(self):\n",
    "        return self.heapSize\n",
    "    \n",
    "    def contains(self, obj):\n",
    "        return obj in self.indexMap\n",
    "    \n",
    "    def peek(self):\n",
    "        return heap[0] #报错为操作问题\n",
    "    \n",
    "    def swap(self, i, j): #indexMap也要换\n",
    "        oi = self.heap[i]\n",
    "        oj = self.head[j]\n",
    "        self.heap[j] = oi\n",
    "        self.heap[i] = oj\n",
    "        self.indexMap[oi] = j\n",
    "        self.indexMap[oj] = j\n",
    "        \n",
    "    def heapInsert(self, index):\n",
    "        while index > 0 and self.heap[index] < self.heap[(index - 1)//2]:\n",
    "            self.swap(index, (index-1)//2)\n",
    "            index = (index-1)//2\n",
    "            \n",
    "    def heapify(self, index):\n",
    "        left = index * 2 + 1\n",
    "        while left < self.heapSize:\n",
    "            best = left\n",
    "            if (left + 1) < self.heapSize and self.heap[left] > self.heap[left+1]:\n",
    "                best = left + 1\n",
    "            if self.heap[best] >= self.heap[index]:\n",
    "                break\n",
    "            else:\n",
    "                self.swap(best, index)\n",
    "                index = best\n",
    "                left = index * 2 + 1\n",
    "    \n",
    "    def push(self, obj):\n",
    "        #如果有重复值，加入必须非基础类型；不然indexMap中会覆盖。\n",
    "        self.heap.append(obj)\n",
    "        self.indexMap[obj] = self.heapSize\n",
    "        self.heapInsert(self.heapSize)\n",
    "        self.heapSize += 1\n",
    "        \n",
    "    def pop(self):\n",
    "        ans = self.heap[0] #可能报错\n",
    "        self.swap(0, self.heapSize - 1)\n",
    "        self.indexMap.pop(ans)\n",
    "        self.heap.pop() #remove last one \n",
    "        self.heapSize -= 1\n",
    "        self.heapify(0)\n",
    "        return ans\n",
    "        \n",
    "    def remove(self, obj): #自定义的好处，通过indexMap快速查询到obj位置\n",
    "        if obj in self.indexMap:\n",
    "            index = self.indexMap.pop(obj)\n",
    "            replace = self.heap.pop()\n",
    "            self.heapSize -= 1\n",
    "            if obj != replace:\n",
    "                self.heap[index] = replace\n",
    "                self.indexMap[replace] = index\n",
    "                self.resign(replace)\n",
    "    \n",
    "    def resign(self, obj):\n",
    "        if obj in self.indexMap:\n",
    "            index = self.indexMap[obj]\n",
    "            self.heapInsert(index)\n",
    "            self.heapify(index)\n",
    "            \n",
    "        "
   ]
  },
  {
   "cell_type": "code",
   "execution_count": 49,
   "metadata": {
    "collapsed": true
   },
   "outputs": [],
   "source": [
    "class Obj:\n",
    "    def __init__(self, id, score):\n",
    "        self.id = id\n",
    "        self.score = score\n",
    "    \n",
    "    def __lt__(self, other):\n",
    "        return self.id < other.id if self.score == other.score else self.score < other.score\n",
    "    \n",
    "    def __le__(self,other):\n",
    "        return self.score <= other.score\n",
    "    \n",
    "    def __eq__(self, other):\n",
    "        return self.id == other.id and self.score == other.score\n",
    "    \n",
    "    def __hash__(self):\n",
    "        return hash(id(self))"
   ]
  },
  {
   "cell_type": "code",
   "execution_count": 50,
   "metadata": {
    "collapsed": true
   },
   "outputs": [],
   "source": [
    "a = Obj(1,2)\n",
    "b = Obj(1,2)"
   ]
  },
  {
   "cell_type": "code",
   "execution_count": 51,
   "metadata": {
    "collapsed": true
   },
   "outputs": [],
   "source": [
    "c = dict()"
   ]
  },
  {
   "cell_type": "code",
   "execution_count": 52,
   "metadata": {
    "collapsed": true
   },
   "outputs": [],
   "source": [
    "c[a] = 1\n",
    "c[b] = 25"
   ]
  },
  {
   "cell_type": "code",
   "execution_count": 53,
   "metadata": {},
   "outputs": [
    {
     "data": {
      "text/plain": [
       "{<__main__.Obj at 0x105f150f0>: 1, <__main__.Obj at 0x105f15be0>: 25}"
      ]
     },
     "execution_count": 53,
     "metadata": {},
     "output_type": "execute_result"
    }
   ],
   "source": [
    "c"
   ]
  },
  {
   "cell_type": "code",
   "execution_count": 56,
   "metadata": {},
   "outputs": [
    {
     "data": {
      "text/plain": [
       "1"
      ]
     },
     "execution_count": 56,
     "metadata": {},
     "output_type": "execute_result"
    }
   ],
   "source": [
    "c.pop(a)"
   ]
  },
  {
   "cell_type": "code",
   "execution_count": 57,
   "metadata": {},
   "outputs": [
    {
     "data": {
      "text/plain": [
       "{<__main__.Obj at 0x105f15be0>: 25}"
      ]
     },
     "execution_count": 57,
     "metadata": {},
     "output_type": "execute_result"
    }
   ],
   "source": [
    "c"
   ]
  },
  {
   "cell_type": "markdown",
   "metadata": {},
   "source": [
    "## 3.手写堆练习\n",
    "3.1 整数数组arr，布尔数组op。两个数组一定等长，假设长度为N，arr[i]表示客户编号，op[i]表示客户操作。op[i]==T代表用户购买了一件商品，op[i]==False代表用户退了一件商品。\n",
    "* arr = [3,3,1,2,1,2,5...]\n",
    "* op  = [T,T,T,T,F,T,F...]\n",
    "* 表示为 3用户购买一件商品，3用户购买一件商品，1用户购买一件商品，2用户购买一件商品，1用户退货一件商品，2用户购买一件商品，5用户退货一件商品"
   ]
  },
  {
   "cell_type": "markdown",
   "metadata": {},
   "source": [
    "3.2 作为电商负责人，想在每个事件到来的时候，都给购买次数最多的前K用户颁奖。所以在每个事件发生后，都需要一个得奖名单\n",
    "* 如果某个时间点，用户购买量为0，而又发生了退货事件，忽略(失效操作)\n",
    "* 购买+1，退货-1\n",
    "* 每次都是最多K个用户得奖，K也为传入参数；如果不够K个人，那以不够的情况输出结果\n",
    "* 得奖系统分为得奖区和候选区，任何用户购买数>0，那用户一定在这两个区域中的一个\n",
    "* 购买数最大的前K个用户进入得奖区，如果没有K个用户在得奖区，那么新购买的用户直接进入得奖区\n",
    "* 如果购买数不足以进入得奖区的用户，进入候选区(购买数并未超过第K个用户，或购买数相等，但进入时间点晚于他)\n",
    "* 如果候选区用户购买数超过(严格大于)得奖区购买数最少的用户，则进入得奖区(替换原来购买最少的那个)\n",
    "* 如果得奖区购买数最少的用户有多个，此时最早进入得奖区的被替换\n",
    "* 如果候选区购买数最多的用户有多个，此时最早进入候选区的用户替换进入得奖区"
   ]
  },
  {
   "cell_type": "markdown",
   "metadata": {},
   "source": [
    "3.3 候选区和得奖区是两套时间，因为用户只会进入其中一个区域，所以只会有一个区域的时间\n",
    "* 从得奖区出来进入候选区的用户，得奖时间删除，进入候选区的时间就是当前事件的时间(可以理解为arr[i]和op[i]的i)\n",
    "* 从候选区进入得奖区的用户，候选区时间删除，进入得奖区的时间就是当前事件的时间(可以理解为arr[i]和op[i]的i)\n",
    "* 如果某用户购买数=0，不管在哪个区域都会离开，区域时间删除。再次发生购买行为，回到某个区域，进入区域的时间重记"
   ]
  },
  {
   "cell_type": "code",
   "execution_count": null,
   "metadata": {
    "collapsed": true
   },
   "outputs": [],
   "source": [
    "# 暴力解\n",
    "\n",
    "from functools import cmp_to_key\n",
    "def compareCands(x, y): #定义谁先从候选区弹出\n",
    "    if x.buy == y.buy:\n",
    "        return x.enterTime - y.enterTime #谁早谁放前面\n",
    "    else:\n",
    "        return y.buy - x.buy #x多于y时放前面，即谁多谁放前面\n",
    "    \n",
    "def compareDaddy(x, y): #定义谁先从得奖区弹出\n",
    "    if x.buy == y.buy:\n",
    "        return x.enterTime - y.enterTime #谁早谁放前面\n",
    "    else:\n",
    "        return x.buy - y.buy #y多于x时放前面，即谁少谁放前面\n",
    "\n",
    "class Customer:\n",
    "    def __init__(self, id, buy, enterTime=0):\n",
    "        self.id = id\n",
    "        self.buy = buy\n",
    "        self.enterTime = enterTime\n",
    "\n",
    "def move(cands, daddy, k, time):\n",
    "    #候选区空，不牵扯替换问题\n",
    "    if not cands:\n",
    "        return\n",
    "    #候选区不为空，得奖区小于k（即发生的是退货行为，得奖区刚刚被删掉一个且只删了一个）\n",
    "    if len(daddy) < k:\n",
    "        c = cands.pop(0) #候选区拿出第一个用户\n",
    "        c.enterTime = time\n",
    "        daddy.append(c) #放入得奖区\n",
    "    #得奖区满的，候选区有用户\n",
    "    else:\n",
    "        if cands[0].buy > daddy[0].buy: #因为严格大于得奖区的最少的用户才替换\n",
    "            oldDaddy = daddy.pop(0) #得奖区移除第一个用户\n",
    "            newDaddy = cands.pop(0) #候选区拿出第一个用户\n",
    "            oldDaddy.enterTime = time\n",
    "            newDaddy.enterTime = time\n",
    "            daddy.append(newDaddy)\n",
    "            cands.append(oldDaddy)\n",
    "            #排序放在下一个事件发生时\n",
    "    return\n",
    "\n",
    "def cleanZeroBuy(arr):\n",
    "    noZero = list()\n",
    "    for c in arr:\n",
    "        if c.buy != 0:\n",
    "            noZero.append(c)\n",
    "    arr[:] = noZero[:]\n",
    "    return\n",
    "            \n",
    "def getCurAns(daddy):\n",
    "    ans = list()\n",
    "    for c in daddy:\n",
    "        ans.append(c.id)\n",
    "    return ans\n",
    "    \n",
    "def compareTest(arr, op, k):\n",
    "    customer_map = dict()\n",
    "    cands = list()\n",
    "    daddy = list()\n",
    "    ans = list()\n",
    "    for i in range(len(arr)):\n",
    "        customer = arr[i]\n",
    "        buyOrRefund = op[i]\n",
    "        #发生的是退货，且用户不在map里(0购买数)，记为失效\n",
    "        if not buyOrRefund and customer not in customer_map: \n",
    "            ans.append(getCurAns(daddy))\n",
    "            continue\n",
    "        #要么购买数是0，发生的是购买事件；要么购买数>0，发生的是购买事件；要么购买数>0，发生的是退货事件\n",
    "        #如果购买数是0，先加入map（因为购买数、事件时间后面都要重记）\n",
    "        if customer not in customer_map:\n",
    "            customer_map[customer] = Customer(customer, 0, 0)\n",
    "        # 用户一定在map里，更新购买数\n",
    "        c = customer_map[customer]\n",
    "        if buyOrRefund:\n",
    "            c.buy += 1\n",
    "        else:\n",
    "            c.buy -= 1\n",
    "        # 用户购买数为0，先从map中删除\n",
    "        if c.buy == 0:\n",
    "            customer_map.pop(customer)\n",
    "        \n",
    "        #新用户，且发生购买（购买数不为0）\n",
    "        if c not in cands and c not in daddy:\n",
    "            #得奖区不满k个，直接进入得奖区\n",
    "            if len(daddy) < k:\n",
    "                c.enterTime = i\n",
    "                daddy.append(c)\n",
    "            #得奖区满了，进入候选区，是否进入得奖区后面再说\n",
    "            else:\n",
    "                c.enterTime = i\n",
    "                cands.append(C)\n",
    "        cleanZeroBuy(cands)\n",
    "        cleanZeroBuy(daddy)\n",
    "        candsKey = cmp_to_key(compareCands)\n",
    "        daddyKey = cmp_to_key(compareDaddy)\n",
    "        cands = sorted(cands, key=candsKey) #购买数多且早的放前面\n",
    "        daddy = sorted(daddy, key=daddyKey) #购买数少且早的放前面\n",
    "        move(cands, daddy, k, i)\n",
    "        ans.append(getCurAns(daddy))\n",
    "    return ans\n",
    "        \n",
    "        "
   ]
  },
  {
   "cell_type": "code",
   "execution_count": null,
   "metadata": {
    "collapsed": true
   },
   "outputs": [],
   "source": [
    "# 优化版本, 待重写。重点在于使用小根堆(自定义)增、删、重排用户！\n",
    "class WhosYourDaddy:\n",
    "    def __init__(self, limit):\n",
    "        self.limit = limit\n",
    "        self.customers = dict()\n",
    "        self.candsHeap = HeapEnhanced() #python需要在自定义类(Customer)中自定义排序方式\n",
    "        self.daddyHeap = HeapEnhanced()\n",
    "    \n",
    "    def operate(time, id, buyOrRefund):\n",
    "        \n",
    "\n",
    "def topK(arr, op, k):\n",
    "    ans = list()\n",
    "    whoDaddies = WhosYourDaddy(k)\n",
    "    for i in range(len(arr)):\n",
    "        whoDaddies.operate(i, arr[i], op[i])\n",
    "        ans.append(whoDaddies.getDaddies())\n",
    "    return ans\n",
    "\n"
   ]
  },
  {
   "cell_type": "code",
   "execution_count": 83,
   "metadata": {
    "scrolled": true
   },
   "outputs": [
    {
     "data": {
      "text/plain": [
       "[4, 3]"
      ]
     },
     "execution_count": 83,
     "metadata": {},
     "output_type": "execute_result"
    }
   ],
   "source": [
    "a = [3,4]\n",
    "from functools import cmp_to_key\n",
    "def compare(a, b):\n",
    "    return ~(a > b)\n",
    "k = cmp_to_key(compare)\n",
    "sorted(a, key=k)"
   ]
  },
  {
   "cell_type": "code",
   "execution_count": 76,
   "metadata": {
    "collapsed": true
   },
   "outputs": [],
   "source": [
    "test = lambda x,y: x-y"
   ]
  },
  {
   "cell_type": "code",
   "execution_count": 65,
   "metadata": {
    "collapsed": true
   },
   "outputs": [],
   "source": [
    "a = T(2)\n",
    "b = T(1)"
   ]
  },
  {
   "cell_type": "code",
   "execution_count": 66,
   "metadata": {},
   "outputs": [
    {
     "data": {
      "text/plain": [
       "True"
      ]
     },
     "execution_count": 66,
     "metadata": {},
     "output_type": "execute_result"
    }
   ],
   "source": [
    "a > b"
   ]
  },
  {
   "cell_type": "code",
   "execution_count": 70,
   "metadata": {},
   "outputs": [
    {
     "data": {
      "text/plain": [
       "True"
      ]
     },
     "execution_count": 70,
     "metadata": {},
     "output_type": "execute_result"
    }
   ],
   "source": [
    "not 0"
   ]
  },
  {
   "cell_type": "code",
   "execution_count": null,
   "metadata": {
    "collapsed": true
   },
   "outputs": [],
   "source": []
  }
 ],
 "metadata": {
  "kernelspec": {
   "display_name": "Python 3",
   "language": "python",
   "name": "python3"
  },
  "language_info": {
   "codemirror_mode": {
    "name": "ipython",
    "version": 3
   },
   "file_extension": ".py",
   "mimetype": "text/x-python",
   "name": "python",
   "nbconvert_exporter": "python",
   "pygments_lexer": "ipython3",
   "version": "3.6.1"
  }
 },
 "nbformat": 4,
 "nbformat_minor": 2
}
