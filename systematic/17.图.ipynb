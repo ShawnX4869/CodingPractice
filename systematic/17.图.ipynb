{
 "cells": [
  {
   "cell_type": "markdown",
   "metadata": {},
   "source": [
    "## 1. 三种常见类创建图"
   ]
  },
  {
   "cell_type": "code",
   "execution_count": 12,
   "metadata": {
    "collapsed": true
   },
   "outputs": [],
   "source": [
    "class Node:\n",
    "    def __init__(self, val, insize=0, outsize=0, nexts=None, edges=None):\n",
    "        self.val = val\n",
    "        self.insize = insize\n",
    "        self.outsize = outsize\n",
    "        if nexts is None:\n",
    "            self.nexts = list()\n",
    "        else:\n",
    "            self.nexts = nexts\n",
    "        if edges is None:\n",
    "            self.edges = list()\n",
    "        else:\n",
    "            self.edges = edges"
   ]
  },
  {
   "cell_type": "code",
   "execution_count": 15,
   "metadata": {
    "collapsed": true
   },
   "outputs": [],
   "source": [
    "class Graph:\n",
    "    def __init__(self, nodes=None, edges=None):\n",
    "        if nodes is None:\n",
    "            self.nodes = dict()\n",
    "        else:\n",
    "            self.nodes = nodes\n",
    "        if edges is None:\n",
    "            self.edges = set()\n",
    "        else:\n",
    "            self.edges = edges"
   ]
  },
  {
   "cell_type": "code",
   "execution_count": 14,
   "metadata": {
    "collapsed": true
   },
   "outputs": [],
   "source": [
    "class Edge:\n",
    "    def __init__(self, weight, from_node=None, to_node=None):\n",
    "        self.weight = weight\n",
    "        self.from_node = from_node\n",
    "        self.to_node = to_node"
   ]
  },
  {
   "cell_type": "code",
   "execution_count": 17,
   "metadata": {
    "collapsed": true
   },
   "outputs": [],
   "source": [
    "#matrix : [[5,0,8], [3,2,1], ...]\n",
    "def createGraph(matrix):\n",
    "    graph = Graph()\n",
    "    for  i in range(len(matrix)):\n",
    "        weight = matrix[i][0]\n",
    "        from_v = matrix[i][1]\n",
    "        to_v = matrix[i][2]\n",
    "        \n",
    "        if from_node not in graph.nodes:\n",
    "            graph.nodes[from_v] = Node(from_v)\n",
    "        if to_node not in graph.nodes:\n",
    "            graph.nodes[to_v] = Node(to_v)\n",
    "            \n",
    "        from_node = graph.nodes[from_v]\n",
    "        to_node = graph.nodes[to_v]\n",
    "        new_edge = Edge(weight, from_node, to_node)\n",
    "        \n",
    "        from_node.nexts.append(to_node)\n",
    "        from_node.outsize += 1\n",
    "        to_node.insize += 1\n",
    "        from_node.edges.append(new_edge)\n",
    "        graph.edges.add(new_edge)\n",
    "    return graph"
   ]
  },
  {
   "cell_type": "markdown",
   "metadata": {},
   "source": [
    "## 2.图的宽度、深度优先遍历\n",
    "使用set()避免重复遍历node"
   ]
  },
  {
   "cell_type": "code",
   "execution_count": 18,
   "metadata": {
    "collapsed": true
   },
   "outputs": [],
   "source": [
    "from collections import deque\n",
    "def bfs(start):\n",
    "    if not start:\n",
    "        return\n",
    "    queue = deque()\n",
    "    set_ = set()\n",
    "    queue.append(start)\n",
    "    set_.add(start)\n",
    "    while queue:\n",
    "        cur = queue.popleft() #出队列打印\n",
    "        print(cur.val)\n",
    "        for nxt in cur.nexts:\n",
    "            if nxt not in set_:\n",
    "                set_.add(nxt)\n",
    "                queue.append(nxt)\n",
    "                \n",
    "def dfs(start):\n",
    "    if not start:\n",
    "        return\n",
    "    stack = list() #栈中记录的是当前路径\n",
    "    set_ = set()\n",
    "    stack.append(start)\n",
    "    set_.add(start)\n",
    "    print(start.val) #入栈就打印\n",
    "    while stack:\n",
    "        cur = stack.pop()\n",
    "        for nxt in cur.nexts:\n",
    "            if nxt not in set_:\n",
    "                stack.append(cur) #重新压入栈\n",
    "                stack.append(nxt) #邻居压入栈\n",
    "                set_.add(nxt)     #入栈就打印\n",
    "                print(nxt.val)     \n",
    "                break"
   ]
  },
  {
   "cell_type": "markdown",
   "metadata": {},
   "source": [
    "## 3. 图的拓扑排序算法\n",
    "1. 在图中找到所有入度为0的点输出\n",
    "2. 把所有入度为0的点从图中删除，继续找入度为0的点输出，周而复始\n",
    "3. 图的所有点都被删除后，依次输出的顺序就是拓扑排序\n",
    "    * 要求：有向图且无环\n",
    "    * 应用：事件安排、编译顺序\n",
    "    * 拓扑顺序不唯一"
   ]
  },
  {
   "cell_type": "code",
   "execution_count": 19,
   "metadata": {
    "collapsed": true
   },
   "outputs": [],
   "source": [
    "#返回从左到右依次输出的拓扑序\n",
    "def sortedTopology(graph):\n",
    "    #key为节点，value为剩余入度\n",
    "    inMap = dict()\n",
    "    #只有某个节点入度为0，才进入这个队列\n",
    "    zeroQueue = deque()\n",
    "    for node in graph.node.values():\n",
    "        inMap[node] = node.insize\n",
    "        if node.insize == 0:\n",
    "            zeroQueue.append(node)\n",
    "    result = list()\n",
    "    while zeroQueue:\n",
    "        cur = zeroQueue.popleft()\n",
    "        result.append(cur.val)\n",
    "        for nxt in cur.nexts:\n",
    "            inMap[nxt] = inMap.get(nxt)- 1\n",
    "            if inMap.get(nxt) == 0:\n",
    "                zeroQueue.append(mxt)\n",
    "    return result"
   ]
  },
  {
   "cell_type": "markdown",
   "metadata": {},
   "source": [
    "### BFS、DFS生成拓扑序\n",
    "* 链接：https://www.lintcode.com/problem/127/"
   ]
  },
  {
   "cell_type": "code",
   "execution_count": 22,
   "metadata": {},
   "outputs": [
    {
     "data": {
      "text/plain": [
       "'\\n思路：\\n假设有X，Y两个节点，从X出发一共遍历100个点，从Y出发一共遍历80个点，\\n那么X的拓扑序一定在Y前面(或等于)。因为如果X在Y的“子树”上，那么Y遍历的点不可能比X小。\\n'"
      ]
     },
     "execution_count": 22,
     "metadata": {},
     "output_type": "execute_result"
    }
   ],
   "source": [
    "'''\n",
    "思路1：点次比较\n",
    "如果一个点经过另一个点(自身为1)，就加上另一个点的点次。\n",
    "举例:\n",
    "a -> b -> c\n",
    "  ↘  e ↗\n",
    "\n",
    "所以点次：c=1，b、e=2，a=5\n",
    "假设有X，Y两个节点，从X出发，点次为100，从Y出发点次为80。\n",
    "如果X在Y的“子树”上，那么Y深度遍历的点次不可能比X小。那么X的拓扑序一定在Y前面(或等于)。\n",
    "\n",
    "\n",
    "思路：2.深度比较\n",
    "同理深度大的拓扑序一定在前\n",
    "\n",
    "'''"
   ]
  },
  {
   "cell_type": "code",
   "execution_count": 25,
   "metadata": {
    "collapsed": true
   },
   "outputs": [],
   "source": [
    "'''\n",
    "题目规定grap的定义形式\n",
    "'''\n",
    "class DirectedGraphNode:\n",
    "    def __init__(self, x):\n",
    "        self.label = x\n",
    "        self.neighbors = []\n",
    "        \n",
    "class Solution:\n",
    "    \"\"\"\n",
    "    @param graph: A list of Directed graph node\n",
    "    @return: Any topological order for the given graph.\n",
    "    \"\"\"\n",
    "    def topSort(self, graph):\n",
    "        order = dict()\n",
    "        for cur in graph:\n",
    "            self.f(cur, order)\n",
    "        recordArr = list()\n",
    "        for r in sorted(order.items(), key=lambda x: x[1], reverse=True):\n",
    "            recordArr.append(r[0])\n",
    "        return recordArr\n",
    "    #return (node, 后续多少个nodes);\n",
    "    #order为缓存，key代表某一个点已经算过，value为点次是多少\n",
    "    def f(self, cur, order): #实际上是深度优先递归\n",
    "        if cur in order:\n",
    "            return order[cur]\n",
    "        nodes = 0\n",
    "        for nxt in cur.neighbors:\n",
    "            nodes += self.f(nxt, order)\n",
    "        order[cur] = nodes + 1\n",
    "        return nodes + 1"
   ]
  },
  {
   "cell_type": "code",
   "execution_count": 29,
   "metadata": {
    "collapsed": true
   },
   "outputs": [],
   "source": [
    "'''\n",
    "题目规定grap的定义形式\n",
    "'''\n",
    "class DirectedGraphNode:\n",
    "    def __init__(self, x):\n",
    "        self.label = x\n",
    "        self.neighbors = []\n",
    "        \n",
    "class Solution2:\n",
    "    \"\"\"\n",
    "    @param graph: A list of Directed graph node\n",
    "    @return: Any topological order for the given graph.\n",
    "    \"\"\"\n",
    "    def topSort2(self, graph):\n",
    "        order = dict()\n",
    "        for cur in graph:\n",
    "            self.f2(cur, order)\n",
    "        recordArr = list()\n",
    "        for r in sorted(order.items(), key=lambda x: x[1], reverse=True):\n",
    "            recordArr.append(r[0])\n",
    "        return recordArr\n",
    "    #return (node, 后续多少个nodes);\n",
    "    #order为缓存，key代表某一个点已经算过，value为点次是多少\n",
    "    def f2(self, cur, order): #实际上是深度优先递归\n",
    "        if cur in order:\n",
    "            return order[cur]\n",
    "        deep = 0\n",
    "        for nxt in cur.neighbors:\n",
    "            deep = max(self.f2(nxt, order), deep)\n",
    "        order[cur] = deep + 1\n",
    "        return deep + 1"
   ]
  },
  {
   "cell_type": "markdown",
   "metadata": {},
   "source": [
    "## 4.最小生成树算法之Kruskal（无向图，保证所有边的权重和最小且所有点都是连接状态）\n",
    "1. 总是从权值最小的边开始考虑，依次考察权值依次变大的边\n",
    "2. 当前的边要么进入最小生成树的集合，要么舍弃\n",
    "3. 如果当前的边进入最小生成树的集合中不会形成环，就要当前边\n",
    "4. 如果当前的边进入最小生成树的集合中会形成环，就舍弃当前边\n",
    "5. 考察完所有边之后，最小生成树的集合也就得到了\n",
    "    * 实际是贪心算法\n",
    "    * 并查集记录所有点，添加边时查看是否两端点是否是一个集合"
   ]
  },
  {
   "cell_type": "code",
   "execution_count": 34,
   "metadata": {
    "collapsed": true
   },
   "outputs": [],
   "source": [
    "class UnionFind:\n",
    "    def __init__(self):\n",
    "        self.parent = dict()\n",
    "        self.size = dict()\n",
    "        self.sets = 0\n",
    "    def find(self, x):\n",
    "        cur = x\n",
    "        change = list()\n",
    "        while self.parent[cur] != cur:\n",
    "            change.append(cur)\n",
    "            cur = self.parent[cur]\n",
    "        while change:\n",
    "            self.parent[change.pop()] = cur\n",
    "        return cur\n",
    "    def makeSets(self, values):\n",
    "        for v in values:\n",
    "            self.parent[v] = v\n",
    "            self.size[v] = 1\n",
    "            self.sets += 1\n",
    "        return \n",
    "    def isSameSet(self, x, y):\n",
    "        f1 = self.find(x)\n",
    "        f2 = self.find(y)\n",
    "        return f1 == f2\n",
    "    def union(self, x, y):\n",
    "        f1 = self.find(x)\n",
    "        f2 = self.find(y)\n",
    "        if f1 != f2:\n",
    "            if self.size[f1] >= self.size[f2]:\n",
    "                self.parent[f2] = f1\n",
    "                self.size[f1] += self.size[f2]\n",
    "            else:\n",
    "                self.parent[f1] = f2\n",
    "                self.size[f2] += self.size[f1]\n",
    "            self.sets -= 1\n",
    "        return \n",
    "    "
   ]
  },
  {
   "cell_type": "code",
   "execution_count": 35,
   "metadata": {
    "collapsed": true
   },
   "outputs": [],
   "source": [
    "def kruskalMST(graph):\n",
    "    uf = UnionFind()\n",
    "    uf.makeSets(graph.nodes.values())\n",
    "    sortedList = list()\n",
    "    for edge in graph.edges:\n",
    "        sortedList.append(edge)\n",
    "    sortedList = sorted(sortedList, key=lambda x: x.weight, reverse=True)\n",
    "    result = set()\n",
    "    while sortedList:\n",
    "        edge = sortedList.pop()\n",
    "        if not uf.isSameSet(edge.from_node, edge.to_node):\n",
    "            result.append(edge)\n",
    "            uf.union(edge.from_node, edge.to_node)\n",
    "    return result"
   ]
  },
  {
   "cell_type": "markdown",
   "metadata": {},
   "source": [
    "## 5.最小生成树算法之Prim（无向图）\n",
    "1. 可以从任意节点出发来寻找最小生成树\n",
    "2. 某个点加入到被选取的点中后，解锁这个点出发的所有新的边\n",
    "3. 在所有解锁的边中选最小的边，然后看看这个点会不会形成环\n",
    "4. 如果会，不要当前边，继续考察剩下解锁的边中最小的边，重复3\n",
    "5. 如果不会，要当前边，将该边的指向点加入到被选取的点中，重复2\n",
    "6. 当所有点都被选取，最小生成树就得到了"
   ]
  },
  {
   "cell_type": "code",
   "execution_count": 46,
   "metadata": {
    "collapsed": true
   },
   "outputs": [],
   "source": [
    "class Edge:\n",
    "    def __init__(self, weight, from_node=None, to_node=None):\n",
    "        self.weight = weight\n",
    "        self.from_node = from_node\n",
    "        self.to_node = to_node\n",
    "class EdgeExtension(Edge):\n",
    "    def __lt__(self, other):\n",
    "        return self.weight < other.weight\n",
    "    def __eq__(self, other):\n",
    "        return self.weight == other.weight\n",
    "import heapq    \n",
    "def primMST(graph):\n",
    "    #外部重写edge的比较\n",
    "    Edge.__lt__ = EdgeExtension.__lt__\n",
    "    Edge.__eq__ = EdgeExtension.__eq__\n",
    "    \n",
    "    smallPQ = list() #解锁的边进入小根堆\n",
    "    nodeSet = set() #哪些点被解锁出来\n",
    "    \n",
    "    result = set() #依次挑选的边进入result\n",
    "    for node in graph.node.values():\n",
    "        #node为开始点\n",
    "        if node not in nodeSet:\n",
    "            nodeSet.add(node)\n",
    "            for edge in node.edges: #解锁这个点的所有边，压入小根堆\n",
    "                heapq.heappush(smallPQ, node)\n",
    "            while smallPQ: #如果小根堆有东西，取出第一个（权重最小的边\n",
    "                edge = heapq.heappop(smallPQ)\n",
    "                toNode = edge.to_node\n",
    "                if toNode not in nodeSet: #不在nodeSet里，新点（因为每次解锁的边都相连，所以在nodeSet的点都是已经到了的\n",
    "                    nodeSet.add(toNode)   # 又因为本身解锁的点已经在nodeSet，所以不在nodeSet才是新点，才要\n",
    "                    result.add(edge)\n",
    "                    for nextEdge in toNode.edges:\n",
    "                        heapq.heappush(smallPQ,nextEdge)\n",
    "    "
   ]
  },
  {
   "cell_type": "code",
   "execution_count": null,
   "metadata": {
    "collapsed": true
   },
   "outputs": [],
   "source": [
    "'''\n",
    "最小生成树 一定是无向图； 如果有向图一定要给初始点（且是头结点）\n",
    "\n",
    "Prim比Kruskal快，因为当所有点收集够可以停止。但Kruskal可能会略过所有边才能停止。】】\n",
    "'''"
   ]
  },
  {
   "cell_type": "markdown",
   "metadata": {},
   "source": [
    "## 6. Djkstra算法（有向图、可有环但环路的累加和不能为负，返回到达所有点的各自最小距离）\n",
    "1. 初始化map结构，map中存储到达所有点的距离（起始点为0，其他点都是系统最大值）\n",
    "2. 从起始点出发，解锁边，权重为到当前点的距离+边的距离 =新距离，用这个新距离去跟 map表PK\n",
    "3. 如果PK赢了，即新距离更短，更新map中的距离；否则舍弃；遍历完当前点解锁的所有边，此点锁住，以表中距离最短的点重复2.\n",
    "4. 直到map中所有的点被遍历过，返回（可能有点不会到达仍然是最大值，或者不出现在map中）"
   ]
  },
  {
   "cell_type": "code",
   "execution_count": 1,
   "metadata": {
    "collapsed": true
   },
   "outputs": [],
   "source": [
    "def djkstra(start):\n",
    "    #到达点距离的表\n",
    "    distanceMap = dict()\n",
    "    distanceMap[start] = 0\n",
    "    #已经遍历过的可到达的点\n",
    "    selectedNodes = set()\n",
    "    #返回除去已遍历过的点、在distanceMap中最短距离的点\n",
    "    minNode = getMinDistanceAndUnselectedNode(distanceMap, selectedNodes)\n",
    "    while minNode is not None:\n",
    "        dis = distanceMap[minNode]\n",
    "        for edge in minNode.edges:\n",
    "            toNode = edge.to_node\n",
    "            if toNode not in distanceMap: #判断是否在表中（没在直接加，在的话PK\n",
    "                distanceMap[toNode] = dis + edge.weight\n",
    "            else:\n",
    "                distanceMap[toNode] = min(distanceMap[toNode], dis + edge.weight)\n",
    "        selectedNodes.add(minNode)\n",
    "        minNode = getMinDistanceAndUnselectedNode(distanceMap, selectedNodes)\n",
    "    return distanceMap\n",
    "\n",
    "def getMinDistanceAndUnselectedNode(distanceMap, selectedNodes): #可优化遍历过程\n",
    "    sortedList = sorted(list(distanceMap.items()), key=lambda x: x[1])\n",
    "    for node in sortedList:\n",
    "        if node not in selectedNodes:\n",
    "            return node\n",
    "    return None"
   ]
  },
  {
   "cell_type": "code",
   "execution_count": 3,
   "metadata": {
    "collapsed": true
   },
   "outputs": [],
   "source": [
    "#使用加强堆替换distanceMap，利用indexMap查找指定node，PK其旧距离和 新计算出来的距离。\n",
    "#如果需要更新，也需要用到indexMap找到node，更新其距离，然后heapinsert\n",
    "\n",
    "def djkstra2(start,size): #size是所有节点\n",
    "    nodeHeap = NodeHeap(size) #手写加强堆\n",
    "    nodeHeap.addOrUpdateOrIgnore(head, 0)\n",
    "    result = dict()\n",
    "    while not nodeHeap.isEmpty():\n",
    "        record = nodeHeap.pop() #record封装为对象，有node和distance\n",
    "        cur = record.node\n",
    "        distance = record.distance\n",
    "        for edge in cur.edges:\n",
    "            nodeHeap.addOrUpdateOrIgnore(edge.to_node, edge.weight + distance)\n",
    "        result[cur] = distance\n",
    "    return result"
   ]
  },
  {
   "cell_type": "code",
   "execution_count": 4,
   "metadata": {
    "collapsed": true
   },
   "outputs": [],
   "source": [
    "class NodeHeap:\n",
    "    def __init__(self, size):\n",
    "        self.nodes = [None] * size\n",
    "        #反向索引表：node->位置， 如果被弹出，位置=-1，表示进过。\n",
    "        self.indexMap = dict()\n",
    "        self.distanceMap = dict()\n",
    "        self.size = 0\n",
    "    def isEmpty(self):\n",
    "        return self.size == 0\n",
    "    \n",
    "    def isEntered(self, node):\n",
    "        return node in self.indexMap\n",
    "    \n",
    "    def inHeap(self, node):\n",
    "        return self.isEntered(node) and self.indexMap[node] != -1\n",
    "    \n",
    "    def swap(self, index1, index2):\n",
    "        #交换indexMap\n",
    "        self.indexMap[self.nodes[index1]] = index2\n",
    "        self.indexMap[self.nodes[index2]] = index1\n",
    "        #交换nodes\n",
    "        tmp = self.nodes[index1]\n",
    "        self.nodes[index1] = self.nodes[index2]\n",
    "        self.nodes[index2] = tmp\n",
    "        \n",
    "    def heapInsert(self, node, index):\n",
    "        while index > 0 and self.distanceMap[self.nodes[index]] < self.distanceMap[self.nodes[int((index - 1)//2)]]:\n",
    "            self.swap(index, int((index - 1)//2))\n",
    "            index = int((index - 1)//2)\n",
    "            \n",
    "    def heapify(self, index, size):#传入的size是指针到不了的位置\n",
    "        left = index * 2 + 1 \n",
    "        while left < size:\n",
    "            smallest = left + 1 if left + 1 and \\\n",
    "            self.distanceMap[self.nodes[left+1]] < self.distanceMap[self.nodes[left]] else left\n",
    "            smallest = smallest if self.distanceMap[self.nodes[smallest]] < self.distanceMap[self.nodes[index]] else index\n",
    "            if smallest == index:\n",
    "                break\n",
    "            self.swap(smallest, index)\n",
    "            index = smallest\n",
    "            left = index * 2 + 1\n",
    "            \n",
    "    def addOrUpdateOrIgnore(self, node, distance):\n",
    "        #update\n",
    "        if self.inHeap(node):\n",
    "            self.distanceMap[node] = min(self.distanceMap[node], distance)\n",
    "            #更新\n",
    "            self.heapInsert(node, self.indexMap[node])\n",
    "\n",
    "        #add：    没进来过；如果进来过就跳过\n",
    "        if not self.isEntered(node):\n",
    "            self.nodes[self.size] = node\n",
    "            self.indexMap[node] = self.size\n",
    "            self.distanceMap[node] = distance\n",
    "            self.heapInsert(node, self.size)\n",
    "            self.size += 1\n",
    "        #ignore\n",
    "        \n",
    "                \n",
    "    def pop(self):\n",
    "        nodeRecord = NodeRecord(self.nodes[0], self.distanceMap[self.nodes[0]])\n",
    "        self.swap(0, self.size - 1)\n",
    "        self.indexMap[self.nodes[self.size-1]] = -1 #更新distance，表示已经进来过\n",
    "        self.distanceMap.pop(self.nodes[self.size-1]) #更新map\n",
    "        self.nodes[self.size -1] = None\n",
    "        self.size -= 1\n",
    "        self.heapify(0, self.size)\n",
    "        return nodeRecord\n",
    "    \n",
    "class NodeRecord:\n",
    "    def __init__(self, node, distance):\n",
    "        self.node = node\n",
    "        self.distance = distance\n",
    "    \n",
    "    def __lt__(self, other):\n",
    "         return self.distance < other.distance\n",
    "    \n",
    "    def __eq__(self, other):\n",
    "        return self.distance == other.distance\n",
    "            \n",
    "        "
   ]
  },
  {
   "cell_type": "code",
   "execution_count": null,
   "metadata": {
    "collapsed": true
   },
   "outputs": [],
   "source": []
  }
 ],
 "metadata": {
  "kernelspec": {
   "display_name": "Python 3",
   "language": "python",
   "name": "python3"
  },
  "language_info": {
   "codemirror_mode": {
    "name": "ipython",
    "version": 3
   },
   "file_extension": ".py",
   "mimetype": "text/x-python",
   "name": "python",
   "nbconvert_exporter": "python",
   "pygments_lexer": "ipython3",
   "version": "3.6.1"
  }
 },
 "nbformat": 4,
 "nbformat_minor": 2
}
