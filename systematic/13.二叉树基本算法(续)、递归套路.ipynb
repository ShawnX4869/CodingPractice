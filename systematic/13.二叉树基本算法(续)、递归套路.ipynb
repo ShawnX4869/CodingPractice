{
 "cells": [
  {
   "cell_type": "code",
   "execution_count": 1,
   "metadata": {
    "collapsed": true
   },
   "outputs": [],
   "source": [
    "class Node:\n",
    "    def __init__(self, val, left=None, right=None):\n",
    "        self.val = val\n",
    "        self.left = left\n",
    "        self.right = right"
   ]
  },
  {
   "cell_type": "markdown",
   "metadata": {},
   "source": [
    "## 1.判断是否完全二叉树\n",
    "* 有右无左，False\n",
    "* 第一次遇到左右不双全，剩下都必须是叶节点"
   ]
  },
  {
   "cell_type": "code",
   "execution_count": 1,
   "metadata": {
    "collapsed": true
   },
   "outputs": [],
   "source": [
    "from collections import deque\n",
    "def isComplete(head):\n",
    "    if not head:\n",
    "        return True\n",
    "    queue = deque()\n",
    "    leaf = False\n",
    "    left = None\n",
    "    right = None    \n",
    "    queue.append(head)\n",
    "    while queue:\n",
    "        head = queue.popleft()\n",
    "        left = head.left\n",
    "        right = head.right\n",
    "        if (leaf and (left or right)) or (not left and right):\n",
    "            return False\n",
    "        if left:\n",
    "            queue.append(left)\n",
    "        if right:\n",
    "            queue.append(right)\n",
    "        if not left or not right:\n",
    "            leaf = True\n",
    "    return True"
   ]
  },
  {
   "cell_type": "markdown",
   "metadata": {},
   "source": [
    "## 2.二叉树的递归套路\n",
    "树型DP：整合信息，玩后序遍历\n",
    "* 以X为头生成信息\n",
    "* 向左右要信息\n",
    "* 叶节点抠边界"
   ]
  },
  {
   "cell_type": "markdown",
   "metadata": {},
   "source": [
    "### 2.1 判断是否平衡二叉树\n",
    "左树的最大深度 与 右树的最大深度 差值不超过1"
   ]
  },
  {
   "cell_type": "code",
   "execution_count": 5,
   "metadata": {
    "collapsed": true
   },
   "outputs": [],
   "source": [
    "def isBT(head):\n",
    "    if not head:\n",
    "        return True,0\n",
    "    left_flag, left_depth = isBT(head.left)\n",
    "    right_flag, right_depth = isBT(head.right)\n",
    "    if (not left_flag) or (not right_flag) or (abs(left_depth - right_depth) > 1):\n",
    "        return False, max(left_depth,right_depth)+1\n",
    "    return True, max(left_depth,right_depth)+1\n",
    "\n",
    "def isBalanceTree(head):\n",
    "    flag, max_depth = isBT(head)\n",
    "    return flag"
   ]
  },
  {
   "cell_type": "markdown",
   "metadata": {},
   "source": [
    "### 2.2 判断是否搜索二叉树\n",
    "左树都比头小，右树都比头大。没有重复值"
   ]
  },
  {
   "cell_type": "code",
   "execution_count": 8,
   "metadata": {
    "collapsed": true
   },
   "outputs": [],
   "source": [
    "def isBST(head):\n",
    "    if not head:\n",
    "        return True,None,None\n",
    "    left_flag, left_max, left_min = isBST(head.left)\n",
    "    right_flag, right_max, right_min = isBST(head.left)\n",
    "    if left_max is None:\n",
    "        left_max = head.val\n",
    "    if left_min is None:\n",
    "        left_min = head.val\n",
    "    if right_max is None:\n",
    "        right_max = head.val\n",
    "    if right_min is None:\n",
    "        right_min = head.val\n",
    "    if (not left_flag) or (not right_flag) or (left_max > head.val) or (right_min < head.val):\n",
    "        return False, max(max(left_max, right_max),head.val), min(min(left_min, right_min),head.val)\n",
    "    return True,max(max(left_max, right_max),head.val), min(min(left_min, right_min),head.val)\n",
    "\n",
    "def isSearchTree(head):\n",
    "    flag, maxV, minV = isBST(head)\n",
    "    return flag"
   ]
  },
  {
   "cell_type": "markdown",
   "metadata": {},
   "source": [
    "### 2.3 二叉树的最大距离\n",
    "给定二叉树头节点，任何两个节点间都存在距离(父子节点分别为1，距离为2)，返回最大距离\n",
    "* 判断X为头节点的整棵树是否与x有关：\n",
    "    1. 与x有关：路径经过X，即X的左树最远(左树高度)+X的右树最远(右树高度)+1\n",
    "    2. 与x无关：1) 最大距离为X左树最大距离；2)最大距离为X右树最大距离\n",
    "* 所以遍历每棵树要返回：树的最大距离、树的高度"
   ]
  },
  {
   "cell_type": "code",
   "execution_count": 11,
   "metadata": {
    "collapsed": true
   },
   "outputs": [],
   "source": [
    "def maxDistance(head):\n",
    "    if not head:\n",
    "        return 0,0\n",
    "    left_max, left_depth = maxDistance(head.left)\n",
    "    right_max, right_depth = maxDistance(head.right)    \n",
    "    depth = max(left_depth, right_depth) + 1\n",
    "    return max(max(left_max, right_max),left_depth+right_depth+1), depth"
   ]
  },
  {
   "cell_type": "markdown",
   "metadata": {},
   "source": [
    "### 2.4判断是否满二叉树\n",
    "* 高度为h，节点数必须为2^h - 1"
   ]
  },
  {
   "cell_type": "code",
   "execution_count": 12,
   "metadata": {
    "collapsed": true
   },
   "outputs": [],
   "source": [
    "def isFull(head):\n",
    "    if not head:\n",
    "        return 0,0\n",
    "    left_nodes, left_depth = maxDistance(head.left)\n",
    "    right_nodes, right_depth = maxDistance(head.right) \n",
    "    depth = max(left_depth,right_depth) + 1\n",
    "    nodes = left_nodes + right_nodes + 1\n",
    "    return nodes,depth"
   ]
  },
  {
   "cell_type": "markdown",
   "metadata": {},
   "source": [
    "### 2.5 返回子树中最大节点个数的子搜索二叉树\n",
    "1. X不做头，左子树的最大子搜索 或 左子树的最大子搜索：需要左ans，右ans\n",
    "2. X做头，X树是搜索二叉树：需要左最大值，右最小值，左是否，右是否，左节点数，右节点数"
   ]
  },
  {
   "cell_type": "code",
   "execution_count": 13,
   "metadata": {
    "collapsed": true
   },
   "outputs": [],
   "source": [
    "# ans, size, 最大,最小（隐含条件，当ans=size，是搜索二叉树\n",
    "def maxBSTSubSize(head):\n",
    "    if not head:\n",
    "        return 0,0,None,None\n",
    "    left_flag = False\n",
    "    right_flag = False \n",
    "    left_ans, left_size, left_max, left_min = maxDistance(head.left)\n",
    "    right_ans, right_size, right_max, right_min = maxDistance(head.left)\n",
    "    if left_max is None:\n",
    "        left_max = head.val\n",
    "        left_less = True\n",
    "    else:\n",
    "        left_less = left_max < head.val\n",
    "    if left_min is None:\n",
    "        left_min = head.val\n",
    "    if right_max is None:\n",
    "        right_max = head.val\n",
    "    if right_min is None:\n",
    "        right_min = head.val\n",
    "        right_more = True\n",
    "    else:\n",
    "        right_more = right_min > head.val\n",
    "    if left_ans == left_size:\n",
    "        left_flag = True\n",
    "    if right_ans == right_size:\n",
    "        right_flag = True\n",
    "    my_ans = 0\n",
    "    my_size = left_size + right_size + 1\n",
    "    my_max = max(max(left_max, right_max), head.val)\n",
    "    my_min = max(max(left_min, right_min), head.val)    \n",
    "    if left_flag and right_flag and left_less and right_more:\n",
    "        my_ans = my_size\n",
    "    return max(max(left_ans, right_ans), my_ans), my_size, my_max, my_min"
   ]
  },
  {
   "cell_type": "code",
   "execution_count": null,
   "metadata": {
    "collapsed": true
   },
   "outputs": [],
   "source": []
  }
 ],
 "metadata": {
  "kernelspec": {
   "display_name": "Python 3",
   "language": "python",
   "name": "python3"
  },
  "language_info": {
   "codemirror_mode": {
    "name": "ipython",
    "version": 3
   },
   "file_extension": ".py",
   "mimetype": "text/x-python",
   "name": "python",
   "nbconvert_exporter": "python",
   "pygments_lexer": "ipython3",
   "version": "3.6.1"
  }
 },
 "nbformat": 4,
 "nbformat_minor": 2
}
