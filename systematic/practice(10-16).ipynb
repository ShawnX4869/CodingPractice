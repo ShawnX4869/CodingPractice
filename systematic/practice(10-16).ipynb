{
 "cells": [
  {
   "cell_type": "markdown",
   "metadata": {},
   "source": [
    "### 判断链表是否为回文结构"
   ]
  },
  {
   "cell_type": "code",
   "execution_count": 56,
   "metadata": {},
   "outputs": [],
   "source": [
    "class Node:\n",
    "    def __init__(self, val=0, nxt=None):\n",
    "        self.val = val\n",
    "        self.next = nxt\n",
    "        \n",
    "\n",
    "def isPalindrome2(node):\n",
    "    if not node or not node.next:\n",
    "        return True\n",
    "    ans = True\n",
    "    slow = node\n",
    "    fast = node\n",
    "    while fast.next and fast.next.next:\n",
    "        slow = slow.next\n",
    "        fast = fast.next.next\n",
    "    cur = slow\n",
    "    pre = None\n",
    "    while cur.next:\n",
    "        nxt = cur.next\n",
    "        cur.next = pre\n",
    "        pre = cur\n",
    "        cur = nxt\n",
    "    cur.next = pre\n",
    "    head1 = node\n",
    "    head2 = cur\n",
    "    print(head1.val, head2.val)\n",
    "    while head1 and head2:\n",
    "        if head1.val != head2.val:\n",
    "            print(head1.val, head2.val)\n",
    "            ans = False\n",
    "            break\n",
    "        head1 = head1.next\n",
    "        head2 = head2.next\n",
    "    rev = pre\n",
    "    pre = None\n",
    "    while rev != slow:\n",
    "        nxt = rev.next\n",
    "        rev.next = pre\n",
    "        pre = rev\n",
    "        rev = nxt\n",
    "    return ans\n"
   ]
  },
  {
   "cell_type": "code",
   "execution_count": 69,
   "metadata": {
    "collapsed": true
   },
   "outputs": [],
   "source": [
    "# #不使用容器\n",
    "# def isPalindrome(head):\n",
    "#     if not head or not head.next:\n",
    "#         return True\n",
    "#     n1 = head\n",
    "#     n2 = head\n",
    "#     while n2.next and n2.next.next:\n",
    "#         n1 = n1.next\n",
    "#         n2 = n2.next.next \n",
    "#     #n1上中点\n",
    "#     n2 = n1.next\n",
    "#     n1.next = None\n",
    "#     n3 = None\n",
    "#     while n2:\n",
    "#         n3 = n2.next #记住下一个\n",
    "#         n2.next = n1 #指回前一个\n",
    "#         n1 = n2\n",
    "#         n2 = n3\n",
    "#     n3 = n1 #n1此时是结尾\n",
    "#     n2 = head #n2此时是开始\n",
    "#     res = True\n",
    "#     while n1 and n2:\n",
    "#         if n1.val != n2.val:\n",
    "#             res = False\n",
    "#             break #不能return，要先把原链表变回\n",
    "#         n1 = n1.next\n",
    "#         n2 = n2.next\n",
    "    \n",
    "#     n1 = n3.next\n",
    "#     n3.next = None\n",
    "#     while n1:\n",
    "#         n2 = n1.next\n",
    "#         n1.next = n3\n",
    "#         n3 = n1\n",
    "#         n1 = n2\n",
    "#     return res\n",
    "        "
   ]
  },
  {
   "cell_type": "code",
   "execution_count": 68,
   "metadata": {},
   "outputs": [
    {
     "name": "stdout",
     "output_type": "stream",
     "text": [
      "1 1\n"
     ]
    },
    {
     "data": {
      "text/plain": [
       "True"
      ]
     },
     "execution_count": 68,
     "metadata": {},
     "output_type": "execute_result"
    }
   ],
   "source": [
    "head = Node(1)\n",
    "head.next = Node(3)\n",
    "head.next.next = Node(1)\n",
    "# head.next.next.next = Node(1)\n",
    "# head.next.next.next.next = Node(3)\n",
    "# head.next.next.next.next.next = Node(2)\n",
    "# head.next.next.next.next.next.next = Node(1)\n",
    "isPalindrome2(head)"
   ]
  },
  {
   "cell_type": "code",
   "execution_count": 22,
   "metadata": {},
   "outputs": [
    {
     "data": {
      "text/plain": [
       "1"
      ]
     },
     "execution_count": 22,
     "metadata": {},
     "output_type": "execute_result"
    }
   ],
   "source": [
    "count = 2\n",
    "(count + 1) // 2"
   ]
  },
  {
   "cell_type": "markdown",
   "metadata": {},
   "source": [
    "### 将单向链表按某值划分成左边小、中间相等、右边大的形式"
   ]
  },
  {
   "cell_type": "code",
   "execution_count": 84,
   "metadata": {
    "collapsed": true
   },
   "outputs": [],
   "source": [
    "def partitionNode(head, val):\n",
    "    if not head or not head.next:\n",
    "        return head\n",
    "    sH = None\n",
    "    sT = None\n",
    "    eH = None\n",
    "    eT = None\n",
    "    gH = None\n",
    "    gT = None\n",
    "    cur = head\n",
    "    while cur:\n",
    "        if cur.val == val:\n",
    "            if not eH:\n",
    "                eH = cur\n",
    "                eT = cur\n",
    "            else:\n",
    "                eT.next = cur\n",
    "                eT = cur\n",
    "        elif cur.val > val:\n",
    "            if not gH:\n",
    "                gH = cur\n",
    "                gT = cur\n",
    "            else:\n",
    "                gT.next = cur\n",
    "                gT = cur\n",
    "        else:\n",
    "            if not sH:\n",
    "                sH = cur\n",
    "                sT = cur\n",
    "            else:\n",
    "                sT.next = cur\n",
    "                sT = cur\n",
    "        nxt = cur.next \n",
    "        cur.next = None\n",
    "        cur = nxt\n",
    "    if sT:\n",
    "        head = sH\n",
    "        if eT:\n",
    "            sT.next = eH\n",
    "            eT.next = gH\n",
    "        else:\n",
    "            sT.next = gH\n",
    "    elif eT:\n",
    "        head = eH\n",
    "        eT.next = gH\n",
    "    else:\n",
    "        head = gH\n",
    "    return sH\n",
    "    \n",
    "def printNode(head):\n",
    "    while head:\n",
    "        print(head.val, end='->')\n",
    "        head = head.next"
   ]
  },
  {
   "cell_type": "code",
   "execution_count": 85,
   "metadata": {},
   "outputs": [
    {
     "name": "stdout",
     "output_type": "stream",
     "text": [
      "1->2->2->1->3->3->4->"
     ]
    }
   ],
   "source": [
    "head = Node(1)\n",
    "head.next = Node(2)\n",
    "head.next.next = Node(3)\n",
    "head.next.next.next = Node(4)\n",
    "head.next.next.next.next = Node(2)\n",
    "head.next.next.next.next.next = Node(3)\n",
    "head.next.next.next.next.next.next = Node(1)\n",
    "ans = partitionNode(head,3)\n",
    "printNode(ans)"
   ]
  },
  {
   "cell_type": "markdown",
   "metadata": {},
   "source": [
    "### 复制带随机指针的链表"
   ]
  },
  {
   "cell_type": "code",
   "execution_count": 101,
   "metadata": {
    "collapsed": true
   },
   "outputs": [],
   "source": [
    "def copyRandom(head):\n",
    "    if not head:\n",
    "        return head\n",
    "    cur = head\n",
    "    while cur:\n",
    "        nxt = cur.next\n",
    "        cur.next = Node(cur.val)\n",
    "        cur.next.next = nxt\n",
    "        cur = nxt\n",
    "    cur = head\n",
    "    while cur:\n",
    "        copy = cur.next\n",
    "        if cur.random:\n",
    "            copy.random = cur.random.next\n",
    "        cur = copy.next\n",
    "    \n",
    "    copyhead = head.next\n",
    "\n",
    "    copyPre = copyhead\n",
    "    \n",
    "    cur = head.next.next\n",
    "    head.next = cur\n",
    "    \n",
    "    while cur:\n",
    "        copy = cur.next\n",
    "        cur.next = cur.next.next\n",
    "        copyPre.next = copy\n",
    "        copyPre = copy\n",
    "        cur = cur.next\n",
    "    return copyhead\n",
    "\n",
    "def printNodeWithRandom(head):\n",
    "    while head:\n",
    "        if head.next:\n",
    "            next_val = head.next.val\n",
    "        else:\n",
    "            next_val = \"null\"\n",
    "        if head.random:\n",
    "            random_val = head.random.val\n",
    "        else:\n",
    "            random_val = \"null\"\n",
    "        print(\"cur val: \", head.val,\"next val: \", next_val, \"random val: \",random_val)\n",
    "        head = head.next\n",
    "\n",
    "class RandomNode:\n",
    "    def __init__(self, val=0, next=None, random=None):\n",
    "        self.val = val\n",
    "        self.next = next\n",
    "        self.random = random"
   ]
  },
  {
   "cell_type": "code",
   "execution_count": 95,
   "metadata": {},
   "outputs": [
    {
     "name": "stdout",
     "output_type": "stream",
     "text": [
      "cur val:  1 next val:  3 random val:  8\n",
      "cur val:  3 next val:  8 random val:  4\n",
      "cur val:  8 next val:  4 random val:  8\n",
      "cur val:  4 next val:  5 random val:  1\n",
      "cur val:  5 next val:  1 random val:  1\n",
      "cur val:  1 next val:  9 random val:  8\n",
      "cur val:  9 next val:  null random val:  1\n"
     ]
    }
   ],
   "source": [
    "head = RandomNode(1)\n",
    "head.next = RandomNode(3)\n",
    "head.next.next = RandomNode(8)\n",
    "head.next.next.next = RandomNode(4)\n",
    "head.next.next.next.next = RandomNode(5)\n",
    "head.next.next.next.next.next = RandomNode(1)\n",
    "head.next.next.next.next.next.next = RandomNode(9)\n",
    "head.random = head.next.next\n",
    "head.next.random = head.next.next.next\n",
    "head.next.next.random = head.next.next\n",
    "head.next.next.next.random = head.next.next.next.next.next\n",
    "head.next.next.next.next.random = head\n",
    "head.next.next.next.next.next.random = head.next.next\n",
    "head.next.next.next.next.next.next.random = head.next.next.next.next.next\n",
    "\n",
    "printNodeWithRandom(head)"
   ]
  },
  {
   "cell_type": "code",
   "execution_count": 96,
   "metadata": {
    "collapsed": true
   },
   "outputs": [],
   "source": [
    "new_head, copy_head = copyRandom(head)"
   ]
  },
  {
   "cell_type": "code",
   "execution_count": 100,
   "metadata": {},
   "outputs": [
    {
     "name": "stdout",
     "output_type": "stream",
     "text": [
      "cur val:  1 next val:  3 random val:  8\n",
      "cur val:  3 next val:  8 random val:  4\n",
      "cur val:  8 next val:  4 random val:  8\n",
      "cur val:  4 next val:  5 random val:  1\n",
      "cur val:  5 next val:  1 random val:  1\n",
      "cur val:  1 next val:  9 random val:  8\n",
      "cur val:  9 next val:  null random val:  1\n"
     ]
    }
   ],
   "source": [
    "printNodeWithRandom(head)"
   ]
  },
  {
   "cell_type": "markdown",
   "metadata": {},
   "source": [
    "### 两个可能有环的单链表相交的第一个节点"
   ]
  },
  {
   "cell_type": "code",
   "execution_count": 102,
   "metadata": {
    "collapsed": true
   },
   "outputs": [],
   "source": [
    "def encounter(head1, head2):\n",
    "    '''\n",
    "    所需信息：两链表是否有环， 环交点\n",
    "        情况1：都无环，\n",
    "            1.1 next到头没相等 ==> 不相交\n",
    "            1.2 next到头相等 ==> 相交\n",
    "        情况2：一个有环，一个无环 ==> 不相交\n",
    "        情况3：都有环 ==> \n",
    "            3.0 环交点相同。交点在环之前，同1.2\n",
    "            3.1 环交点不同，也无交点\n",
    "            3.2 环交点不同，环上处处是交点  ==>  从一个交点出发，如果绕到自己没遇到另一个交点 即为3.2\n",
    "    '''\n",
    "    if not head1 or not head2:\n",
    "        return None\n",
    "    circle1 = hasCircle(head1)\n",
    "    circle2 = hasCircle(head2)\n",
    "    if not circle1 and not circle2:\n",
    "        return hasEncounter(head1, head2)\n",
    "    if circle1 and circle2:\n",
    "        if circle1 == circle2: #3.0 环交点相同。交点在环之前，同1.2\n",
    "            return encounterFirst(head1, head2, circle1)\n",
    "        else:\n",
    "            return twoCircles(circle1, circle2)\n",
    "    return None\n",
    "\n",
    "def hasCircle(head):\n",
    "    if not head:\n",
    "        return head\n",
    "    slow = head\n",
    "    fast = head\n",
    "    hasCycle = False\n",
    "    while fast.next and fast.next.next:\n",
    "        slow = slow.next\n",
    "        fast = fast.next.next\n",
    "        if slow == fast:\n",
    "            hasCycle = True\n",
    "        break\n",
    "    if not hasCycle:\n",
    "        return None\n",
    "    fast = head\n",
    "    while slow != fast:\n",
    "        slow = slow.next\n",
    "        fast = fast.next\n",
    "    return slow\n",
    "\n",
    "def hasEncounter(head1, head2):\n",
    "    count1 = 0\n",
    "    count2 = 0\n",
    "    cur1 = head1\n",
    "    cur2 = head2\n",
    "    while cur1:\n",
    "        cur1 = cur1.next\n",
    "        count1+=1 \n",
    "    while cur2:\n",
    "        cur2 = cur2.next\n",
    "        count2+=1\n",
    "    if cur1 != cur2:\n",
    "        return None\n",
    "    longer = head1 if count1 >= count2 else head2\n",
    "    shorter = head1 if count1 < count2 else head2\n",
    "    diff = abs(count1-count2)\n",
    "    while diff!=0:\n",
    "        longer = longer.next\n",
    "        diff -= 1\n",
    "    while longer!=shorter:\n",
    "        longer = longer.next\n",
    "        shorter = shorter.next\n",
    "    return longer\n",
    "\n",
    "def encounterFirst(head1, head2, circle):\n",
    "    count1 = 0\n",
    "    count2 = 0\n",
    "    cur1 = head1\n",
    "    cur2 = head2\n",
    "    while cur1 != circle:\n",
    "        cur1 = cur1.next\n",
    "        count1+=1 \n",
    "    while cur2 != circle:\n",
    "        cur2 = cur2.next\n",
    "        count2+=1\n",
    "    longer = head1 if count1 >= count2 else head2\n",
    "    shorter = head1 if count1 < count2 else head2\n",
    "    diff = abs(count1-count2)\n",
    "    while diff!=0:\n",
    "        longer = longer.next\n",
    "        diff -= 1\n",
    "    while longer!=shorter:\n",
    "        longer = longer.next\n",
    "        shorter = shorter.next\n",
    "    return longer\n",
    "\n",
    "def twoCircles(circle1, circle2):\n",
    "    cur = circle1.next\n",
    "    while cur != circle1:\n",
    "        if cur == circle2:\n",
    "            return circle1\n",
    "        cur = cur.next\n",
    "    return None"
   ]
  },
  {
   "cell_type": "markdown",
   "metadata": {},
   "source": [
    "### 非递归方式实现二叉树的三序遍历"
   ]
  },
  {
   "cell_type": "code",
   "execution_count": 104,
   "metadata": {
    "collapsed": true
   },
   "outputs": [],
   "source": [
    "# 递归\n",
    "#先序中左右\n",
    "def preProcess(head):\n",
    "    if not head:\n",
    "        return\n",
    "    print(head.val, end=\",\")\n",
    "    preProcess(head.left)\n",
    "    preProcess(head.right)\n",
    "    return\n",
    "\n",
    "def preOrder(head):\n",
    "    if not head:\n",
    "        return\n",
    "    stack = list()\n",
    "    stack.append(head)\n",
    "    while stack:\n",
    "        cur = stack.pop()\n",
    "        print(cur.val, end=\",\")\n",
    "        if cur.right:\n",
    "            stack.append(cur.right)\n",
    "        if cur.left:\n",
    "            stack.append(cur.left)\n",
    "    return"
   ]
  },
  {
   "cell_type": "code",
   "execution_count": 106,
   "metadata": {
    "collapsed": true
   },
   "outputs": [],
   "source": [
    "#中右左\n",
    "def posOrder(head):\n",
    "    if not head:\n",
    "        return\n",
    "    stack = list()\n",
    "    stack.append(head)\n",
    "    ans = []\n",
    "    while stack:\n",
    "        cur = stack.pop()\n",
    "        ans.append(cur.val)\n",
    "        if cur.left:\n",
    "            stack.append(cur.left)\n",
    "        if cur.right:\n",
    "            stack.append(cur.right)\n",
    "    for i in range(len(ans)-1, -1, -1):\n",
    "        print(ans[i], end=\",\")\n",
    "    return\n",
    "#只用一个栈\n",
    "def postOrder2(head):\n",
    "    if not head:\n",
    "        return\n",
    "    stack = list()\n",
    "    stack.append(stack)\n",
    "    lastPrint = None\n",
    "    while stack:\n",
    "        cur = stack[-1]\n",
    "        if cur.left and cur.left != lastPrint and cur.right != lastPrint:\n",
    "            stack.append(cur.left)\n",
    "        elif cur.right and cur.right != lastPrint:\n",
    "            stack.append(cur.right)\n",
    "        else:\n",
    "            print(cur.val)\n",
    "            lastPrint = stack.pop()\n",
    "    return"
   ]
  },
  {
   "cell_type": "code",
   "execution_count": 107,
   "metadata": {
    "collapsed": true
   },
   "outputs": [],
   "source": [
    "#左中右\n",
    "def inOrder(head):\n",
    "    if not head:\n",
    "        return\n",
    "    stack = list()\n",
    "    cur = head\n",
    "    while stack or cur:\n",
    "        if cur:\n",
    "            stack.append(cur)\n",
    "            cur = cur.left\n",
    "        else:\n",
    "            cur = stack.pop()\n",
    "            print(cur.val)\n",
    "            cur = cur.right\n",
    "    return"
   ]
  },
  {
   "cell_type": "markdown",
   "metadata": {},
   "source": [
    "### 实现二叉树的按层遍历"
   ]
  },
  {
   "cell_type": "code",
   "execution_count": 108,
   "metadata": {
    "collapsed": true
   },
   "outputs": [],
   "source": [
    "from collections import deque\n",
    "def level(head):\n",
    "    if not head:\n",
    "        return\n",
    "    printDeque = deque()\n",
    "    printDeque.append(head)\n",
    "    while printDeque:\n",
    "        cur = printDeque.popleft()\n",
    "        print(cur.val)\n",
    "        if cur.left:\n",
    "            printDeque.append(cur.left)\n",
    "        if cur.right:\n",
    "            printDeque.append(cur.right)\n",
    "    return"
   ]
  },
  {
   "cell_type": "markdown",
   "metadata": {},
   "source": [
    "### 二叉树的序列化和反序列化"
   ]
  },
  {
   "cell_type": "code",
   "execution_count": 126,
   "metadata": {
    "collapsed": true
   },
   "outputs": [],
   "source": [
    "#先序\n",
    "def encPre(head):\n",
    "    if not head:\n",
    "        return [\"#\"]\n",
    "    ans = list()\n",
    "    ans.append(str(head.val))\n",
    "    ans += encPre(head.left)\n",
    "    ans += encPre(head.right)\n",
    "    return ans"
   ]
  },
  {
   "cell_type": "code",
   "execution_count": 127,
   "metadata": {
    "collapsed": true
   },
   "outputs": [],
   "source": [
    "class BinaryNode:\n",
    "    def __init__(self, val=0, left=None, right=None):\n",
    "        self.val = val\n",
    "        self.left = left\n",
    "        self.right = right"
   ]
  },
  {
   "cell_type": "code",
   "execution_count": 128,
   "metadata": {
    "collapsed": true
   },
   "outputs": [],
   "source": [
    "head = BinaryNode(3)\n",
    "head.left = BinaryNode(4)\n",
    "head.right = BinaryNode(5)\n",
    "head.left.left = BinaryNode(1)\n",
    "head.left.right = BinaryNode(2)\n",
    "head.right.right = BinaryNode(0)\n",
    "\n"
   ]
  },
  {
   "cell_type": "code",
   "execution_count": 129,
   "metadata": {},
   "outputs": [
    {
     "data": {
      "text/plain": [
       "['3', '4', '1', '#', '#', '2', '#', '#', '5', '#', '0', '#', '#']"
      ]
     },
     "execution_count": 129,
     "metadata": {},
     "output_type": "execute_result"
    }
   ],
   "source": [
    "encPre(head)"
   ]
  },
  {
   "cell_type": "code",
   "execution_count": 139,
   "metadata": {
    "collapsed": true
   },
   "outputs": [],
   "source": [
    "def decPre(strList):\n",
    "    if not strList:\n",
    "        return None\n",
    "    val = strList.pop(0)\n",
    "    cur = None if  val == \"#\" else BinaryNode(int(val))\n",
    "    if cur:\n",
    "        cur.left = decPre(strList)\n",
    "        cur.right = decPre(strList)\n",
    "    return cur"
   ]
  },
  {
   "cell_type": "code",
   "execution_count": 140,
   "metadata": {},
   "outputs": [],
   "source": [
    "a = decPre(['3', '4', '1', '#', '#', '2', '#', '#', '5', '#', '0', '#', '#'])"
   ]
  },
  {
   "cell_type": "code",
   "execution_count": 141,
   "metadata": {
    "collapsed": true
   },
   "outputs": [],
   "source": [
    "def getSpace(num):\n",
    "    space = \"\"\n",
    "    for i in range(num):\n",
    "        space+= \" \"\n",
    "    return space\n",
    "    \n",
    "\n",
    "def printInOrder(head, height, to, length):\n",
    "    if head is None:\n",
    "        return \n",
    "    printInOrder(head.right, height+1, \"↓\", length)\n",
    "    val = to + str(head.val) + to\n",
    "    lenM= len(str(head.val))\n",
    "    lenL = (length - lenM) // 2\n",
    "    lenR = length - lenM - lenL\n",
    "    val = getSpace(lenL) + val + getSpace(lenR)\n",
    "    print(getSpace(height * length) + val)\n",
    "    printInOrder(head.left, height+1, \"↑\", length)\n",
    "def printBinaryTree(head):\n",
    "    print(\"Binary Tree: \")\n",
    "    printInOrder(head, 0, \"H\", 15)\n",
    "    print()"
   ]
  },
  {
   "cell_type": "code",
   "execution_count": 142,
   "metadata": {},
   "outputs": [
    {
     "name": "stdout",
     "output_type": "stream",
     "text": [
      "Binary Tree: \n",
      "                                     ↓0↓       \n",
      "                      ↓5↓       \n",
      "       H3H       \n",
      "                                     ↓2↓       \n",
      "                      ↑4↑       \n",
      "                                     ↑1↑       \n",
      "\n"
     ]
    }
   ],
   "source": [
    "printBinaryTree(a)"
   ]
  },
  {
   "cell_type": "code",
   "execution_count": 155,
   "metadata": {
    "collapsed": true
   },
   "outputs": [],
   "source": [
    "#后序\n",
    "def encPosOrder(head, ans):\n",
    "    if not head:\n",
    "        ans.append(None)\n",
    "        return \n",
    "    encPosOrder(head.left,ans)\n",
    "    encPosOrder(head.right,ans)\n",
    "    ans.append(head.val)\n",
    "    return\n",
    "\n",
    "def encPos(head):\n",
    "    ans = list()\n",
    "    encPosOrder(head, ans)\n",
    "    return ans\n",
    "\n",
    "def decPos(valList):\n",
    "    if not valList:\n",
    "        return None\n",
    "    val = valList.pop()\n",
    "    cur = None if val is None else BinaryNode(val)\n",
    "    if cur:\n",
    "        cur.right = decPos(valList)\n",
    "        cur.left = decPos(valList)\n",
    "    return cur"
   ]
  },
  {
   "cell_type": "code",
   "execution_count": 156,
   "metadata": {
    "collapsed": true
   },
   "outputs": [],
   "source": [
    "head = BinaryNode(3)\n",
    "head.left = BinaryNode(4)\n",
    "head.right = BinaryNode(5)\n",
    "head.left.left = BinaryNode(1)\n",
    "head.left.right = BinaryNode(2)\n",
    "head.right.right = BinaryNode(0)"
   ]
  },
  {
   "cell_type": "code",
   "execution_count": 154,
   "metadata": {},
   "outputs": [
    {
     "data": {
      "text/plain": [
       "[None, None, 1, None, None, 2, 4, None, None, None, 0, 5, 3]"
      ]
     },
     "execution_count": 154,
     "metadata": {},
     "output_type": "execute_result"
    }
   ],
   "source": [
    "encPos(head)"
   ]
  },
  {
   "cell_type": "code",
   "execution_count": 157,
   "metadata": {
    "collapsed": true
   },
   "outputs": [],
   "source": [
    "b = decPos([None, None, 1, None, None, 2, 4, None, None, None, 0, 5, 3])"
   ]
  },
  {
   "cell_type": "code",
   "execution_count": 158,
   "metadata": {},
   "outputs": [
    {
     "name": "stdout",
     "output_type": "stream",
     "text": [
      "Binary Tree: \n",
      "                                     ↓0↓       \n",
      "                      ↓5↓       \n",
      "       H3H       \n",
      "                                     ↓2↓       \n",
      "                      ↑4↑       \n",
      "                                     ↑1↑       \n",
      "\n"
     ]
    }
   ],
   "source": [
    "printBinaryTree(b)"
   ]
  },
  {
   "cell_type": "markdown",
   "metadata": {},
   "source": [
    "### 按层序列化"
   ]
  },
  {
   "cell_type": "code",
   "execution_count": 161,
   "metadata": {
    "collapsed": true
   },
   "outputs": [],
   "source": [
    "def encLevelOrder(head, ans):\n",
    "    if not head:\n",
    "        ans.append(None)\n",
    "        return \n",
    "    queue = deque()\n",
    "    queue.append(head)\n",
    "    ans.append(head.val)\n",
    "    while queue:\n",
    "        cur = queue.popleft()\n",
    "        if cur.left:\n",
    "            ans.append(cur.left.val)\n",
    "            queue.append(cur.left)\n",
    "        else:\n",
    "            ans.append(None)\n",
    "        if cur.right:\n",
    "            ans.append(cur.right.val)\n",
    "            queue.append(cur.right)\n",
    "        else:\n",
    "            ans.append(None) \n",
    "    return ans\n",
    "def encLevel(head):\n",
    "    ans = list()\n",
    "    encLevelOrder(head, ans)\n",
    "    return ans\n",
    "\n",
    "def decLevel(valList):\n",
    "    if not valList:\n",
    "        return None\n",
    "    val = valList.pop(0)\n",
    "    head = None if val is None else BinaryNode(val)\n",
    "    queue = deque()\n",
    "    if head:\n",
    "        queue.append(head)\n",
    "    while queue:\n",
    "        head = queue.popleft()\n",
    "        val = valList.pop(0)\n",
    "        head.left = None if val is None else BinaryNode(val)\n",
    "        if head.left:\n",
    "            queue.append(head.left)\n",
    "        val = valList.pop(0)\n",
    "        head.right = None if val is None else BinaryNode(val)\n",
    "        if head.right:\n",
    "            queue.append(head.right)\n",
    "    return head\n",
    "        \n",
    "    "
   ]
  },
  {
   "cell_type": "markdown",
   "metadata": {},
   "source": [
    "### 将 N 叉树编码为二叉树"
   ]
  },
  {
   "cell_type": "code",
   "execution_count": 166,
   "metadata": {
    "collapsed": true
   },
   "outputs": [],
   "source": [
    "#所有孩子，放在左树右边界\n",
    "class MultiNode:\n",
    "    def __init__(self, val, children):\n",
    "        self.val = val\n",
    "        self.children = children #list\n",
    "        \n",
    "class TreeNode:\n",
    "    def __init__(self, val, left=None, right=None):\n",
    "        self.val = val\n",
    "        self.left = left\n",
    "        self.right = right\n",
    "        \n",
    "def enc(children):\n",
    "    if not children:\n",
    "        return None\n",
    "    head = None\n",
    "    pre = None\n",
    "    for child in children:\n",
    "        tNode = TreeNode(child.val)\n",
    "        if not head:\n",
    "            head = tNode\n",
    "            pre = tNode\n",
    "        else:\n",
    "            pre.right = tNode\n",
    "            pre = tNode\n",
    "        if child.children:\n",
    "            tNode.left = enc(child.children)\n",
    "    return head\n",
    "            \n",
    "\n",
    "def encode(head):\n",
    "    if not head:\n",
    "        return None\n",
    "    root = TreeNode(head.val)\n",
    "    root.left = enc(head.children)\n",
    "    return root\n",
    "\n",
    "def dec(root):\n",
    "    children = list()\n",
    "    while root:\n",
    "        node = MultiNode(root.val, dec(root.left))\n",
    "        children.append(node)\n",
    "        root = root.right\n",
    "    return children\n",
    "\n",
    "def decode(root):\n",
    "    if not root:\n",
    "        return\n",
    "    \n",
    "    return MultiNode(root.val, dec(root.left))"
   ]
  },
  {
   "cell_type": "markdown",
   "metadata": {},
   "source": [
    "### 二叉树最宽的层有多少个节点"
   ]
  },
  {
   "cell_type": "code",
   "execution_count": 172,
   "metadata": {},
   "outputs": [],
   "source": [
    "def maxWidth(head, level, ansMap):\n",
    "    if not head:\n",
    "        return\n",
    "    ansMap[head] = level\n",
    "    if head.left:\n",
    "        maxWidth(head.left, level+1, ansMap)\n",
    "    if head.right:\n",
    "        maxWidth(head.right, level+1, ansMap)\n",
    "    return\n",
    "def maxW(head):\n",
    "    if not head:\n",
    "        return 0\n",
    "    ansMap=dict()\n",
    "    maxWidth(head, 1, ansMap)\n",
    "    count = [0] * (len(set(ansMap.values())) + 1)\n",
    "    for item in ansMap.items():\n",
    "        count[item[1]] += 1\n",
    "    print(count)\n",
    "    return max(count)\n",
    "    "
   ]
  },
  {
   "cell_type": "code",
   "execution_count": 174,
   "metadata": {},
   "outputs": [
    {
     "name": "stdout",
     "output_type": "stream",
     "text": [
      "[0, 1, 2, 4, 2]\n"
     ]
    },
    {
     "data": {
      "text/plain": [
       "4"
      ]
     },
     "execution_count": 174,
     "metadata": {},
     "output_type": "execute_result"
    }
   ],
   "source": [
    "head = BinaryNode(3)\n",
    "head.left = BinaryNode(4)\n",
    "head.right = BinaryNode(5)\n",
    "head.left.left = BinaryNode(1)\n",
    "head.left.right = BinaryNode(2)\n",
    "head.right.left = BinaryNode(26)\n",
    "head.right.right = BinaryNode(0)\n",
    "head.left.left.left = BinaryNode(2)\n",
    "head.left.left.right = BinaryNode(14)\n",
    "\n",
    "maxW(head)"
   ]
  },
  {
   "cell_type": "code",
   "execution_count": 176,
   "metadata": {
    "collapsed": true
   },
   "outputs": [],
   "source": [
    "def maxWidthNums(head):\n",
    "    if not head:\n",
    "        return 0 \n",
    "    maxCount = 0\n",
    "    cur_last = head\n",
    "    next_last = head\n",
    "    cur_count = 0\n",
    "    queue = deque()\n",
    "    queue.append(head)\n",
    "    while queue:\n",
    "        cur = queue.popleft()\n",
    "        cur_count += 1\n",
    "        if cur.left:\n",
    "            next_last = cur.left\n",
    "            queue.append(cur.left)\n",
    "        if cur.right:\n",
    "            next_last = cur.right\n",
    "            queue.append(cur.right)\n",
    "        if cur_last == cur:\n",
    "            maxCount = max(maxCount, cur_count)\n",
    "            cur_count = 0\n",
    "            cur_last = next_last\n",
    "    return maxCount\n",
    "        "
   ]
  },
  {
   "cell_type": "code",
   "execution_count": 177,
   "metadata": {},
   "outputs": [
    {
     "data": {
      "text/plain": [
       "4"
      ]
     },
     "execution_count": 177,
     "metadata": {},
     "output_type": "execute_result"
    }
   ],
   "source": [
    "head = BinaryNode(3)\n",
    "head.left = BinaryNode(4)\n",
    "head.right = BinaryNode(5)\n",
    "head.left.left = BinaryNode(1)\n",
    "head.left.right = BinaryNode(2)\n",
    "head.right.left = BinaryNode(26)\n",
    "head.right.right = BinaryNode(0)\n",
    "head.left.left.left = BinaryNode(2)\n",
    "head.left.left.right = BinaryNode(14)\n",
    "\n",
    "maxWidthNums(head)"
   ]
  },
  {
   "cell_type": "markdown",
   "metadata": {},
   "source": [
    "### 返回中序序列上节点X的后继节点\n",
    "题意Node定义增加一个父指针\n",
    "某种(先中后序)序列化，查询x的后继节点"
   ]
  },
  {
   "cell_type": "code",
   "execution_count": 181,
   "metadata": {},
   "outputs": [],
   "source": [
    "class Node:\n",
    "    def __init__(self, val, p=None, left=None, right=None):\n",
    "        self.val = val\n",
    "        self.left = left\n",
    "        self.right = right\n",
    "        self.parent = p\n",
    "\n",
    "'''\n",
    "左中右\n",
    "情况1：当前节点有右树，那么是右树的最左边界节点\n",
    "情况2：当前节点没右树，当前节点作为father的左树，那么下一个是father\n",
    "情况3：当前节点没右树，当前节点作为father的右树，向上追溯，到作为新father的左树或根节点停止\n",
    "'''\n",
    "def findNext(head):\n",
    "    if not head:\n",
    "        return None\n",
    "    if head.right: #情况1\n",
    "        cur = head.right\n",
    "        while cur.left:\n",
    "            cur = cur.left\n",
    "        return cur\n",
    "    #情况2\n",
    "    father = head.parent\n",
    "    while father and father.left != head:\n",
    "        father = father.parent\n",
    "        head = head.parent\n",
    "    return father"
   ]
  },
  {
   "cell_type": "markdown",
   "metadata": {},
   "source": [
    "### 从上到下打印对折纸条所有折痕的方向"
   ]
  },
  {
   "cell_type": "code",
   "execution_count": 182,
   "metadata": {
    "collapsed": true
   },
   "outputs": [],
   "source": [
    "def foldN(N, convex):\n",
    "    if N == 0:\n",
    "        return \n",
    "    foldN(N-1, True)\n",
    "    if convex:\n",
    "        print(\"凹\",end=',')\n",
    "    else:\n",
    "        print(\"凸\",end=',')\n",
    "    foldN(N-1, False)\n",
    "    return\n",
    "def fold(N):\n",
    "    if not N or N < 1:\n",
    "        return \n",
    "    foldN(N, True)\n",
    "    "
   ]
  },
  {
   "cell_type": "code",
   "execution_count": 185,
   "metadata": {},
   "outputs": [
    {
     "name": "stdout",
     "output_type": "stream",
     "text": [
      "凹,凹,凸,凹,凹,凸,凸,"
     ]
    }
   ],
   "source": [
    "fold(3)"
   ]
  },
  {
   "cell_type": "markdown",
   "metadata": {},
   "source": [
    "### 判断二叉树是不是平衡二叉树"
   ]
  },
  {
   "cell_type": "code",
   "execution_count": 187,
   "metadata": {
    "collapsed": true
   },
   "outputs": [],
   "source": [
    "def isBalance(head):\n",
    "    B, D = isBal(head)\n",
    "    return B\n",
    "\n",
    "def isBal(head):\n",
    "    if not head:\n",
    "        return True, 0 \n",
    "    leftB, leftD = isBal(head.left)\n",
    "    rightB, rightD = isBal(head.right)\n",
    "    return leftB and rightB and abs(leftB - rightD) <= 1, max(leftD, rightD)+1"
   ]
  },
  {
   "cell_type": "code",
   "execution_count": 188,
   "metadata": {},
   "outputs": [
    {
     "data": {
      "text/plain": [
       "True"
      ]
     },
     "execution_count": 188,
     "metadata": {},
     "output_type": "execute_result"
    }
   ],
   "source": [
    "isBalance(head)"
   ]
  },
  {
   "cell_type": "markdown",
   "metadata": {},
   "source": [
    "### 判断二叉树是不是搜索二叉树"
   ]
  },
  {
   "cell_type": "code",
   "execution_count": 190,
   "metadata": {
    "collapsed": true
   },
   "outputs": [],
   "source": [
    "def isSearch(head):\n",
    "    S, _,_ = isS(head)\n",
    "    return S\n",
    "\n",
    "def isS(head):\n",
    "    if not head:\n",
    "        return True, None, None\n",
    "    leftS, leftMax, leftMin = isBal(head.left)\n",
    "    rightS, rightMax, rightMin = isBal(head.right)\n",
    "    if leftMax is None:\n",
    "        leftMax = head.val\n",
    "    if leftMin is None:\n",
    "        leftMin = head.val \n",
    "    if rightMax is None:\n",
    "        rightMax = head.val \n",
    "    if rightMin is None:\n",
    "        rightMin = head.val \n",
    "    myMax = max([leftMax, rightMax, head.val])\n",
    "    myMin = min([leftMin, rightMin, head.val])\n",
    "    if not leftS or not rightS or leftMax > head.val or rightMin < head.val:\n",
    "        return False, myMax, myMin\n",
    "    return True, myMax, myMin\n",
    "    "
   ]
  },
  {
   "cell_type": "code",
   "execution_count": 208,
   "metadata": {
    "collapsed": true
   },
   "outputs": [],
   "source": [
    "def maxDistance(head):\n",
    "    if not head:\n",
    "        return 0,0\n",
    "    left_max, left_depth = maxDistance(head.left)\n",
    "    right_max, right_depth = maxDistance(head.right)    \n",
    "    depth = max(left_depth, right_depth) + 1\n",
    "    return max(max(left_max, right_max),left_depth+right_depth+1), depth"
   ]
  },
  {
   "cell_type": "code",
   "execution_count": 207,
   "metadata": {},
   "outputs": [
    {
     "data": {
      "text/plain": [
       "4"
      ]
     },
     "execution_count": 207,
     "metadata": {},
     "output_type": "execute_result"
    }
   ],
   "source": [
    "maxDistance2(head)"
   ]
  },
  {
   "cell_type": "code",
   "execution_count": 199,
   "metadata": {
    "scrolled": true
   },
   "outputs": [
    {
     "name": "stdout",
     "output_type": "stream",
     "text": [
      "Binary Tree: \n",
      "                                     ↓0↓       \n",
      "                      ↓5↓       \n",
      "                                    ↑26↑       \n",
      "       H3H       \n",
      "                                     ↓2↓       \n",
      "                      ↑4↑       \n",
      "                                                   ↓14↓       \n",
      "                                     ↑1↑       \n",
      "                                                    ↑2↑       \n",
      "\n"
     ]
    }
   ],
   "source": [
    "printBinaryTree(head)"
   ]
  },
  {
   "cell_type": "markdown",
   "metadata": {},
   "source": [
    "### 判断二叉树是不是满二叉树"
   ]
  },
  {
   "cell_type": "code",
   "execution_count": 210,
   "metadata": {},
   "outputs": [],
   "source": [
    "'''\n",
    "全满，size=2^n -1 \n",
    "\n",
    "'''\n",
    "def isFull(head):\n",
    "    if not head:\n",
    "        return True\n",
    "    D, S = isF(head)\n",
    "    return S == 2**D - 1\n",
    "\n",
    "def isF(head):\n",
    "    if not head:\n",
    "        return 0, 0\n",
    "    leftDepth, leftSize = isF(head.left)\n",
    "    rightDepth, rightSize = isF(head.right)\n",
    "    return max(leftDepth, rightDepth) + 1, leftSize+rightSize+1"
   ]
  },
  {
   "cell_type": "markdown",
   "metadata": {},
   "source": [
    "### 二叉树中最大的二叉搜索子树的大小"
   ]
  },
  {
   "cell_type": "code",
   "execution_count": 215,
   "metadata": {},
   "outputs": [],
   "source": [
    "\n",
    "def maxSearchSize(head):\n",
    "    if not head:\n",
    "        return 0\n",
    "    _,_,_,ans = maxS(head)\n",
    "    return ans\n",
    "def maxS(head):\n",
    "    if not head:\n",
    "        return True, None, None, 0\n",
    "    leftF, leftMax, leftMin, leftSize = maxS(head.left)\n",
    "    rightF, rightMax, rightMin, rightSize = maxS(head.right)\n",
    "    if leftMax is None:\n",
    "        leftMax = head.val\n",
    "    if leftMin is None:\n",
    "        leftMin = head.val \n",
    "    if rightMax is None:\n",
    "        rightMax = head.val \n",
    "    if rightMin is None:\n",
    "        rightMin = head.val \n",
    "    myMax = max([leftMax, rightMax, head.val])\n",
    "    myMin = max([leftMin, rightMin, head.val])\n",
    "    if not leftF or not rightF or leftMax > head.val or rightMin < head.val:\n",
    "        return False, myMax, myMin, max(leftSize, rightSize)\n",
    "    return True, myMax, myMin, leftSize+rightSize+1"
   ]
  },
  {
   "cell_type": "code",
   "execution_count": 216,
   "metadata": {},
   "outputs": [
    {
     "data": {
      "text/plain": [
       "1"
      ]
     },
     "execution_count": 216,
     "metadata": {},
     "output_type": "execute_result"
    }
   ],
   "source": [
    "maxSearchSize(head)"
   ]
  },
  {
   "cell_type": "code",
   "execution_count": 219,
   "metadata": {
    "collapsed": true
   },
   "outputs": [],
   "source": [
    "# ans, size, 最大,最小（隐含条件，当ans=size，是搜索二叉树\n",
    "def maxBSTSubSize(head):\n",
    "    if not head:\n",
    "        return 0,0,None,None\n",
    "    left_flag = False\n",
    "    right_flag = False \n",
    "    left_ans, left_size, left_max, left_min = maxBSTSubSize(head.left)\n",
    "    right_ans, right_size, right_max, right_min = maxBSTSubSize(head.right)\n",
    "    if left_max is None:\n",
    "        left_max = head.val\n",
    "        left_less = True\n",
    "    else:\n",
    "        left_less = left_max < head.val\n",
    "    if left_min is None:\n",
    "        left_min = head.val\n",
    "    if right_max is None:\n",
    "        right_max = head.val\n",
    "    if right_min is None:\n",
    "        right_min = head.val\n",
    "        right_more = True\n",
    "    else:\n",
    "        right_more = right_min > head.val\n",
    "    if left_ans == left_size:\n",
    "        left_flag = True\n",
    "    if right_ans == right_size:\n",
    "        right_flag = True\n",
    "    my_ans = 0\n",
    "    my_size = left_size + right_size + 1\n",
    "    my_max = max(max(left_max, right_max), head.val)\n",
    "    my_min = max(max(left_min, right_min), head.val)    \n",
    "    if left_flag and right_flag and left_less and right_more:\n",
    "        my_ans = my_size\n",
    "    return max(max(left_ans, right_ans), my_ans), my_size, my_max, my_min"
   ]
  },
  {
   "cell_type": "code",
   "execution_count": 220,
   "metadata": {},
   "outputs": [
    {
     "data": {
      "text/plain": [
       "(1, 9, 26, 26)"
      ]
     },
     "execution_count": 220,
     "metadata": {},
     "output_type": "execute_result"
    }
   ],
   "source": [
    "maxBSTSubSize(head)"
   ]
  },
  {
   "cell_type": "code",
   "execution_count": 222,
   "metadata": {},
   "outputs": [],
   "source": [
    "\n",
    "\"\"\"\n",
    "Definition of TreeNode:\n",
    "class TreeNode:\n",
    "    def __init__(self, val):\n",
    "        self.val = val\n",
    "        self.left, self.right = None, None\n",
    "\"\"\"\n",
    "'''\n",
    "情况1：左满，右满，左深=右深\n",
    "情况2：左满，右满，左深=右深+1\n",
    "\n",
    "情况3：左不满（需要是完成），右必须满，且左深=右深+1\n",
    "情况4：左满，右不满（需要是完成），且左深= 右深\n",
    "'''\n",
    "class Solution:\n",
    "    \"\"\"\n",
    "    @param root: the root of binary tree.\n",
    "    @return: true if it is a complete binary tree, or false.\n",
    "    \"\"\"\n",
    "    def is_complete(self, root: TreeNode) -> bool:\n",
    "        # write your code here\n",
    "        \n",
    "        def isC(root):\n",
    "            if not root:\n",
    "                return True,True,0\n",
    "            leftFull, leftCom, leftDepth = isC(root.left)\n",
    "            rightFull, rightCom, rightDepth = isC(root.right) \n",
    "            isFull = leftFull and rightFull and leftDepth==rightDepth\n",
    "            #isCom\n",
    "            isCom = isFull\n",
    "            if leftFull and rightFull and leftDepth==(rightDepth+1):\n",
    "                isCom = True\n",
    "            elif leftCom and rightFull and leftDepth==(rightDepth+1):\n",
    "                isCom = True\n",
    "            elif leftFull and rightCom and leftDepth==rightDepth:\n",
    "                isCom = True\n",
    "            return isFull,isCom,max(leftDepth,rightDepth)+1\n",
    "        if not root:\n",
    "            return True\n",
    "        _, ans, _ = isC(root)\n",
    "        return ans\n",
    "            "
   ]
  },
  {
   "cell_type": "code",
   "execution_count": 223,
   "metadata": {
    "collapsed": true
   },
   "outputs": [],
   "source": [
    "\n",
    "\"\"\"\n",
    "Definition of TreeNode:\n",
    "class TreeNode:\n",
    "    def __init__(self, val):\n",
    "        self.val = val\n",
    "        self.left, self.right = None, None\n",
    "\"\"\"\n",
    "'''\n",
    "层遍历，没有孩子开启，后续都不能再有\n",
    "'''\n",
    "class Solution:\n",
    "    \"\"\"\n",
    "    @param root: the root of binary tree.\n",
    "    @return: true if it is a complete binary tree, or false.\n",
    "    \"\"\"\n",
    "    def is_complete(self, root: TreeNode) -> bool:\n",
    "        # write your code here\n",
    "        if not root:\n",
    "            return True\n",
    "        from collections import deque\n",
    "        leaf = False\n",
    "        queue = deque()\n",
    "        queue.append(root)\n",
    "        while queue:\n",
    "            cur = queue.popleft()\n",
    "            if leaf:\n",
    "                if cur.left or cur.right:\n",
    "                    return False\n",
    "            if not cur.left and cur.right:\n",
    "                return False\n",
    "            \n",
    "            if cur.left:\n",
    "                queue.append(cur.left)\n",
    "            else:\n",
    "                leaf = True\n",
    "            if cur.right:\n",
    "                queue.append(cur.right)\n",
    "            else:\n",
    "                leaf = True\n",
    "                \n",
    "        return True\n",
    "            "
   ]
  },
  {
   "cell_type": "markdown",
   "metadata": {},
   "source": [
    "### 二叉树中最大的二叉搜索子树的头节点"
   ]
  },
  {
   "cell_type": "code",
   "execution_count": 225,
   "metadata": {
    "collapsed": true
   },
   "outputs": [],
   "source": [
    "def maxSearchHead(head):\n",
    "    if not head:\n",
    "        return head\n",
    "    myHead, mySize, myMax, myMin = maxSHead(head)\n",
    "    return myHead\n",
    "#大小值，最大头节点，\n",
    "def maxSHead(head):\n",
    "    if not head:\n",
    "        return None, 0, None, None\n",
    "    leftHead, leftSize, leftMax, leftMin = maxSHead(head.left)\n",
    "    rightHead, rightSize, rightMax, rightMin = maxSHead(head.right)  \n",
    "    leftF = leftHead == head.left\n",
    "    rightF = rightHead == head.right\n",
    "    if leftMax is None:\n",
    "        leftMax = head.val\n",
    "    if leftMin is None:\n",
    "        leftMin = head.val \n",
    "    if rightMax is None:\n",
    "        rightMax = head.val \n",
    "    if rightMin is None:\n",
    "        rightMin = head.val \n",
    "    myMax = max([leftMax,rightMax,head.val])\n",
    "    myMin = min([leftMin,rightMin,head.val])\n",
    "    myHead = leftHead if leftSize >= rightSize else rightHead\n",
    "    mySize = leftSize if leftSize >= rightSize else rightSize\n",
    "    if not leftF or not rightF or leftMax > head.val or rightMin < head.val:\n",
    "        maxHead = leftHead if leftSize >= rightSize else rightHead\n",
    "        maxSize = leftSize if leftSize >= rightSize else rightSize\n",
    "        return myHead, mySize, myMax, myMin\n",
    "    myHead = head\n",
    "    mySize = leftSize + rightSize + 1\n",
    "    return myHead, mySize, myMax, myMin"
   ]
  },
  {
   "cell_type": "markdown",
   "metadata": {},
   "source": [
    "### 二叉树上两个节点的最低公共祖先"
   ]
  },
  {
   "cell_type": "code",
   "execution_count": 226,
   "metadata": {
    "collapsed": true
   },
   "outputs": [],
   "source": [
    "'''\n",
    "情况1： 在x：左有1个右有1个\n",
    "情况2： 不在x：左有俩 或 右有俩 ==> 会在左或右；或者 还没遇到\n",
    "'''\n",
    "\n",
    "def closestAnc(head, head1, head2):\n",
    "    if not head or not head1 or not head2:\n",
    "        return None\n",
    "    _,_,ans = closest(head, head1, head2)\n",
    "def closest(head, head1, head2):\n",
    "    if not head:\n",
    "        return False, False, None\n",
    "    leftA, leftB, leftAns = closest(head.left, head1, head2)\n",
    "    rightA, rightB, rightAns = closest(head.right, head1, head2)\n",
    "    if leftA or rightA or head == head1:\n",
    "        findA = True\n",
    "    else:\n",
    "        findA = False\n",
    "    if leftB or rightB or head == head2:\n",
    "        findB = True\n",
    "    else:\n",
    "        findB = False\n",
    "    ans = None\n",
    "    if leftAns is not None:\n",
    "        ans = leftAns\n",
    "    elif rightAns is not None:\n",
    "        ans = rightAns\n",
    "    else:\n",
    "        if findA and findB:\n",
    "            ans = head\n",
    "    return findA, findB, ans\n",
    "    \n",
    "    "
   ]
  },
  {
   "cell_type": "markdown",
   "metadata": {},
   "source": [
    "### 派对的最大快乐值"
   ]
  },
  {
   "cell_type": "code",
   "execution_count": 227,
   "metadata": {
    "collapsed": true
   },
   "outputs": [],
   "source": [
    "def maxHappy(head):\n",
    "    if not head:\n",
    "        return 0\n",
    "    myY, myN = maxH(head)\n",
    "    return max(myY, myN)\n",
    "def maxH(head):\n",
    "    if not head:\n",
    "        return 0,0\n",
    "    leftY, leftN = maxH(head.left)\n",
    "    rightY, rightN = maxH(head.right)\n",
    "    myY = leftN + rightN + head.val\n",
    "    myN = max(leftY,leftN) + max(rightY, rightN)\n",
    "    return myY, myN"
   ]
  },
  {
   "cell_type": "markdown",
   "metadata": {},
   "source": [
    "### 字符串组成的数组拼接后字典序最小的结果"
   ]
  },
  {
   "cell_type": "code",
   "execution_count": 259,
   "metadata": {},
   "outputs": [
    {
     "data": {
      "text/plain": [
       "[101, 22, 23]"
      ]
     },
     "execution_count": 259,
     "metadata": {},
     "output_type": "execute_result"
    }
   ],
   "source": [
    "def compare(x, y):\n",
    "    return (x * getDigit(y) + y) - (y * getDigit(x)  +x )\n",
    "from functools import cmp_to_key\n",
    "l = [23, 22, 101]\n",
    "sorted(l, key=cmp_to_key(compare))"
   ]
  },
  {
   "cell_type": "code",
   "execution_count": 233,
   "metadata": {},
   "outputs": [
    {
     "data": {
      "text/plain": [
       "True"
      ]
     },
     "execution_count": 233,
     "metadata": {},
     "output_type": "execute_result"
    }
   ],
   "source": [
    "\"a\" + \"b\" < \"b\" + \"a\""
   ]
  },
  {
   "cell_type": "code",
   "execution_count": 266,
   "metadata": {},
   "outputs": [
    {
     "data": {
      "text/plain": [
       "['ba', 'b']"
      ]
     },
     "execution_count": 266,
     "metadata": {},
     "output_type": "execute_result"
    }
   ],
   "source": [
    "def compare_(x, y):\n",
    "    if x + y > y + x:\n",
    "        return 1\n",
    "    elif x + y < y + x:\n",
    "        return -1\n",
    "    else:\n",
    "        return 0\n",
    "\n",
    "from functools import cmp_to_key\n",
    "l = [\"b\",\"ba\"]\n",
    "sorted(l, key=cmp_to_key(compare_))"
   ]
  },
  {
   "cell_type": "markdown",
   "metadata": {},
   "source": [
    "### 朋友圈"
   ]
  },
  {
   "cell_type": "code",
   "execution_count": 277,
   "metadata": {
    "collapsed": true
   },
   "outputs": [],
   "source": [
    "class UnionFind:\n",
    "    def __init__(self, matrix):\n",
    "        self.N = len(matrix)\n",
    "        self.M = len(matrix[0])\n",
    "        self.parent = [None] * (self.N * self.M)\n",
    "        self.size = [0] * (self.N * self.M)\n",
    "        self.help = [None] * (self.N * self.M)\n",
    "        self.sets = 0\n",
    "        \n",
    "        for i in range(self.N):\n",
    "            for j in range(self.M):\n",
    "                if matrix[i][j] == \"1\":\n",
    "                    self.parent[i * self.M + j] = i * self.M + j\n",
    "                    self.size[i * self.M + j] = 1\n",
    "                    self.sets += 1\n",
    "    def find(self, x, y):\n",
    "        index = self.getIndex(x, y)\n",
    "        hi = 0\n",
    "        while self.parent[index] != index:\n",
    "            self.help[hi] = index\n",
    "            hi += 1\n",
    "            index = self.parent[index]\n",
    "        for i in range(hi):\n",
    "            self.parent[self.help[i]] = index\n",
    "        return index\n",
    "    \n",
    "    def getIndex(self, x, y):\n",
    "        return x * self.M + y\n",
    "    \n",
    "    def union(self, x1, y1, x2, y2):\n",
    "        f1 = self.find(x1, y1)\n",
    "        f2 = self.find(x2, y2)\n",
    "        if f1 != f2:\n",
    "            if self.size[f1] >= self.size[f2]:\n",
    "                self.parent[f2] = f1\n",
    "                self.size[f1] += self.size[f2]\n",
    "            else:\n",
    "                self.parent[f1] = f2\n",
    "                self.size[f2] += self.size[f1]\n",
    "            self.sets -= 1\n",
    "        return \n",
    "        \n",
    "def friendCycle(matrix):\n",
    "    if not matrix or not matrix[0]:\n",
    "        return 0\n",
    "    uf = UnionFind(matrix)\n",
    "    for i in range(len(matrix)):\n",
    "        for j in range(len(matrix[0])):\n",
    "            if matrix[i][j] == \"1\" and i + 1 <= len(matrix) - 1 and matrix[i+1][j] ==\"1\":\n",
    "                uf.union(i,j,i+1,j)\n",
    "            if matrix[i][j] == \"1\" and j + 1 <= len(matrix[0]) -1  and matrix[i][j+1] ==\"1\":\n",
    "                uf.union(i,j,i,j+1)\n",
    "    print(uf.parent)\n",
    "    return uf.sets\n",
    "                \n",
    "    "
   ]
  },
  {
   "cell_type": "code",
   "execution_count": 278,
   "metadata": {},
   "outputs": [
    {
     "name": "stdout",
     "output_type": "stream",
     "text": [
      "[0, 0, None, None, None, 0, 0, None, None, None, None, None, 12, None, None, None, None, None, 18, 18]\n"
     ]
    },
    {
     "data": {
      "text/plain": [
       "3"
      ]
     },
     "execution_count": 278,
     "metadata": {},
     "output_type": "execute_result"
    }
   ],
   "source": [
    "friendCycle([[\"1\",\"1\",\"0\",\"0\",\"0\"],[\"1\",\"1\",\"0\",\"0\",\"0\"],[\"0\",\"0\",\"1\",\"0\",\"0\"],[\"0\",\"0\",\"0\",\"1\",\"1\"]])"
   ]
  },
  {
   "cell_type": "markdown",
   "metadata": {},
   "source": []
  }
 ],
 "metadata": {
  "kernelspec": {
   "display_name": "Python 3 (ipykernel)",
   "language": "python",
   "name": "python3"
  },
  "language_info": {
   "codemirror_mode": {
    "name": "ipython",
    "version": 3
   },
   "file_extension": ".py",
   "mimetype": "text/x-python",
   "name": "python",
   "nbconvert_exporter": "python",
   "pygments_lexer": "ipython3",
   "version": "3.9.12"
  }
 },
 "nbformat": 4,
 "nbformat_minor": 2
}
