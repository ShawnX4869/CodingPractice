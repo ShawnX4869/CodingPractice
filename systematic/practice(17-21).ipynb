{
 "cells": [
  {
   "cell_type": "markdown",
   "metadata": {},
   "source": [
    "### 图的拓扑排序算法"
   ]
  },
  {
   "cell_type": "code",
   "execution_count": 3,
   "metadata": {},
   "outputs": [],
   "source": [
    "\"\"\"\n",
    "class DirectedGraphNode:\n",
    "     def __init__(self, x):\n",
    "         self.label = x\n",
    "         self.neighbors = []\n",
    "\"\"\"\n",
    "\n",
    "class Solution:\n",
    "    \"\"\"\n",
    "    @param graph: A list of Directed graph node\n",
    "    @return: Any topological order for the given graph.\n",
    "    \"\"\"\n",
    "    def topSort(self, graph):\n",
    "        # write your code here\n",
    "        from collections import deque\n",
    "        if not graph:\n",
    "            return \n",
    "        count = dict()\n",
    "        for node in graph:\n",
    "            self.dfs(node, count)\n",
    "        ans = sorted(count.items(), key=lambda x:x[1], reverse=True)\n",
    "        res = [i[0] for i in ans]\n",
    "        return res\n",
    "    def dfs(self, node, count):\n",
    "        if node in count:\n",
    "            return count[node]\n",
    "        val = 0\n",
    "        if node.neighbors is not None:\n",
    "            for c in node.neighbors:\n",
    "                val += self.dfs(c, count)\n",
    "        count[node] = val + 1\n",
    "        return val + 1"
   ]
  },
  {
   "cell_type": "code",
   "execution_count": null,
   "metadata": {
    "collapsed": true
   },
   "outputs": [],
   "source": []
  },
  {
   "cell_type": "markdown",
   "metadata": {},
   "source": [
    "### 深度遍历"
   ]
  },
  {
   "cell_type": "code",
   "execution_count": null,
   "metadata": {
    "collapsed": true
   },
   "outputs": [],
   "source": [
    "def dfs(node):\n",
    "    if not node:\n",
    "        return \n",
    "    stack = list()\n",
    "    stack.append(node)\n",
    "    print(node.val)\n",
    "    set_ = set()\n",
    "    set_.add(node)\n",
    "    while stack:\n",
    "        cur = stack.pop()\n",
    "        for nxt in cur.nexts:\n",
    "            if nxt not in set_:\n",
    "                stack.append(cur)\n",
    "                stack.append(nxt)\n",
    "                set_.add(nxt)\n",
    "                print(nxt.val)\n",
    "                break\n",
    "    return "
   ]
  },
  {
   "cell_type": "markdown",
   "metadata": {},
   "source": [
    "### 最小生成树算法之Prim"
   ]
  },
  {
   "cell_type": "markdown",
   "metadata": {},
   "source": [
    "### 最小生成树算法之Kruskal"
   ]
  },
  {
   "cell_type": "markdown",
   "metadata": {},
   "source": [
    "### Djkstra算法"
   ]
  },
  {
   "cell_type": "markdown",
   "metadata": {},
   "source": [
    "### 逆序栈（不用辅助栈、只用递归）"
   ]
  },
  {
   "cell_type": "code",
   "execution_count": 4,
   "metadata": {
    "collapsed": true
   },
   "outputs": [],
   "source": [
    "def getLast(stack):\n",
    "    cur = stack.pop()\n",
    "    if not stack:\n",
    "        return cur\n",
    "    else:\n",
    "        last = getLast(stack)\n",
    "        stack.append(cur)\n",
    "        return last\n",
    "def reverseStack(stack):\n",
    "    if not stack:\n",
    "        return \n",
    "    last = getLast(stack)\n",
    "    reverseStack(stack)\n",
    "    stack.append(last)\n",
    "    return "
   ]
  },
  {
   "cell_type": "code",
   "execution_count": 5,
   "metadata": {},
   "outputs": [
    {
     "data": {
      "text/plain": [
       "[5, 4, 3, 2, 1]"
      ]
     },
     "execution_count": 5,
     "metadata": {},
     "output_type": "execute_result"
    }
   ],
   "source": [
    "a = [1,2,3,4,5]\n",
    "reverseStack(a)\n",
    "a"
   ]
  },
  {
   "cell_type": "markdown",
   "metadata": {},
   "source": [
    "### 机器人必须走 K 步，最终能来到P位置的方法有多少种"
   ]
  },
  {
   "cell_type": "code",
   "execution_count": 17,
   "metadata": {},
   "outputs": [],
   "source": [
    "def rob(arr, P, k, start):\n",
    "    if not arr or P > len(arr)-1 or k <= 0 or start < 0:\n",
    "        return 0\n",
    "    return Kstep(arr, P, start, k)\n",
    "def Kstep(arr, P, cur, rest):\n",
    "#     if cur < 0 or cur > len(arr) - 1:\n",
    "#         return 0\n",
    "    if rest == 0:\n",
    "        return 1 if cur == P else 0 \n",
    "    if cur == len(arr) - 1:\n",
    "        return Kstep(arr, P, cur-1, rest-1)\n",
    "    elif cur == 0:\n",
    "        return Kstep(arr, P, cur+1, rest-1)\n",
    "    else:\n",
    "        ways = Kstep(arr, P, cur-1,  rest-1)\n",
    "        ways += Kstep(arr,P, cur+1, rest -1)\n",
    "        return ways\n",
    "    "
   ]
  },
  {
   "cell_type": "code",
   "execution_count": 32,
   "metadata": {},
   "outputs": [
    {
     "data": {
      "text/plain": [
       "40"
      ]
     },
     "execution_count": 32,
     "metadata": {},
     "output_type": "execute_result"
    }
   ],
   "source": [
    "rob([0,1,2,3,4],4, 10, 0)"
   ]
  },
  {
   "cell_type": "code",
   "execution_count": 25,
   "metadata": {},
   "outputs": [],
   "source": [
    "def rob2(arr, P, k, start):\n",
    "    if not arr or P > len(arr)-1 or k <= 0 or start < 0:\n",
    "        return 0\n",
    "    N = len(arr)\n",
    "    dp = [[0] * N for _ in range(k+1)]\n",
    "    dp[0][P] = 1\n",
    "\n",
    "    for k in range(1, k+1):\n",
    "        dp[k][N-1] = dp[k-1][N-2]\n",
    "        dp[k][0] = dp[k-1][1]\n",
    "        for cur in range(1, N-1):\n",
    "            dp[k][cur] = dp[k-1][cur-1] + dp[k-1][cur+1]\n",
    "    return dp[k][0]"
   ]
  },
  {
   "cell_type": "code",
   "execution_count": 33,
   "metadata": {},
   "outputs": [
    {
     "data": {
      "text/plain": [
       "40"
      ]
     },
     "execution_count": 33,
     "metadata": {},
     "output_type": "execute_result"
    }
   ],
   "source": [
    "rob2([0,1,2,3,4], 4, 10, 0)"
   ]
  },
  {
   "cell_type": "markdown",
   "metadata": {},
   "source": [
    "### A,B玩家从左右两边拿纸牌,返回最后获胜者的分数"
   ]
  },
  {
   "cell_type": "code",
   "execution_count": 58,
   "metadata": {
    "collapsed": true
   },
   "outputs": [],
   "source": [
    "def cards(arr):\n",
    "    if not arr:\n",
    "        return 0\n",
    "    first = f(arr, 0, len(arr)-1)\n",
    "    last = g(arr, 0, len(arr)-1)\n",
    "    return max(first, last)\n",
    "\n",
    "def f(arr, i, j):\n",
    "    if i > j:\n",
    "        return 0\n",
    "    scorei = arr[i] + g(arr,i+1,j)\n",
    "    scorej = arr[j] + g(arr,i, j-1)\n",
    "    return max(scorei,scorej)\n",
    "\n",
    "def g(arr, i, j):\n",
    "    if i > j:\n",
    "        return 0\n",
    "    scorei = f(arr, i+1, j)\n",
    "    scorej = f(arr, i, j-1)\n",
    "    return min(scorei, scorej)"
   ]
  },
  {
   "cell_type": "code",
   "execution_count": 51,
   "metadata": {},
   "outputs": [
    {
     "data": {
      "text/plain": [
       "100"
      ]
     },
     "execution_count": 51,
     "metadata": {},
     "output_type": "execute_result"
    }
   ],
   "source": [
    "cards([10,100,10])"
   ]
  },
  {
   "cell_type": "code",
   "execution_count": 52,
   "metadata": {
    "collapsed": true
   },
   "outputs": [],
   "source": [
    "#根据规则返回获胜者的分数\n",
    "def win1(arr):\n",
    "    if not arr:\n",
    "        return 0\n",
    "    first = f1(arr,0,len(arr)-1)\n",
    "    second = g1(arr,0,len(arr)-1)\n",
    "    return max(first, second)\n",
    "\n",
    "#先手\n",
    "def f1(arr, L, R):\n",
    "    if L==R:\n",
    "        return arr[L]\n",
    "    p1 = arr[L] + g1(arr, L+1, R) #拿走L位置\n",
    "    p2 = arr[R] + g1(arr, L, R-1) #拿走R位置\n",
    "    return max(p1,p2)\n",
    "\n",
    "#后手\n",
    "def g1(arr, L, R):\n",
    "    if L==R:\n",
    "        return 0\n",
    "    p1 = f1(arr, L+1, R) #对手做完决定，拿到最好\n",
    "    p2 = f1(arr, L, R-1)\n",
    "    return min(p1,p2) #对手做决定，只能拿小的那个。两种可能里的最小能拿到最好的那个！\n",
    "        "
   ]
  },
  {
   "cell_type": "code",
   "execution_count": 53,
   "metadata": {},
   "outputs": [
    {
     "data": {
      "text/plain": [
       "100"
      ]
     },
     "execution_count": 53,
     "metadata": {},
     "output_type": "execute_result"
    }
   ],
   "source": [
    "win1([10,100,10])"
   ]
  },
  {
   "cell_type": "code",
   "execution_count": 71,
   "metadata": {},
   "outputs": [
    {
     "name": "stdout",
     "output_type": "stream",
     "text": [
      "succeed.\n"
     ]
    }
   ],
   "source": [
    "import random\n",
    "def generateRandomArr(maxLen, maxValue):\n",
    "    arr = list()\n",
    "    for i in range(maxLen):\n",
    "        arr.append(random.randint(-maxValue, maxValue))\n",
    "    return arr\n",
    "\n",
    "testTime = 100\n",
    "maxValue = 50\n",
    "maxLen = 15\n",
    "succeed=True\n",
    "for _ in range(testTime):\n",
    "    value = random.randint(0, maxValue)\n",
    "    length = random.randint(0, maxLen)\n",
    "    arr = generateRandomArr(length, value)\n",
    "    ans1 = win2(arr)\n",
    "    ans2 = win1(arr)\n",
    "    if ans1 != ans2:\n",
    "        print(ans1, ans2)\n",
    "        print(\"something wrong.\")\n",
    "        succeed = False\n",
    "        break\n",
    "if succeed:\n",
    "    print(\"succeed.\")"
   ]
  },
  {
   "cell_type": "code",
   "execution_count": null,
   "metadata": {
    "collapsed": true
   },
   "outputs": [],
   "source": [
    "#根据规则返回获胜者的分数\n",
    "def win1(arr):\n",
    "    if not arr:\n",
    "        return 0\n",
    "    first = f1(arr,0,len(arr)-1)\n",
    "    second = g1(arr,0,len(arr)-1)\n",
    "    return max(first, second)\n",
    "\n",
    "#先手\n",
    "def f1(arr, L, R):\n",
    "    if L==R:\n",
    "        return arr[L]\n",
    "    p1 = arr[L] + g1(arr, L+1, R) #拿走L位置\n",
    "    p2 = arr[R] + g1(arr, L, R-1) #拿走R位置\n",
    "    return max(p1,p2)\n",
    "\n",
    "#后手\n",
    "def g1(arr, L, R):\n",
    "    if L==R:\n",
    "        return 0\n",
    "    p1 = f1(arr, L+1, R) #对手做完决定，拿到最好\n",
    "    p2 = f1(arr, L, R-1)\n",
    "    return min(p1,p2) #对手做决定，只能拿小的那个。两种可能里的最小能拿到最好的那个！\n",
    "        "
   ]
  },
  {
   "cell_type": "code",
   "execution_count": 68,
   "metadata": {},
   "outputs": [],
   "source": [
    "def win2(arr):\n",
    "    if not arr:\n",
    "        return 0\n",
    "    N = len(arr)\n",
    "    f = [[None] * N for _ in range(N)]\n",
    "    g = [[None] * N for _ in range(N)]\n",
    "    for i in range(N):\n",
    "        f[i][i] = arr[i]\n",
    "        g[i][i] = 0\n",
    "    for i in range(N-2, -1, -1):\n",
    "        for j in range(i+1, N):\n",
    "            if i == j:\n",
    "                continue\n",
    "            f[i][j] = max(arr[i] + g[i+1][j], arr[j] + g[i][j-1])\n",
    "            g[i][j] = min(f[i+1][j], f[i][j-1])\n",
    "    return max(f[0][N-1],g[0][N-1])"
   ]
  },
  {
   "cell_type": "markdown",
   "metadata": {},
   "source": [
    "### 背包能装下最多的价值"
   ]
  },
  {
   "cell_type": "code",
   "execution_count": 84,
   "metadata": {
    "collapsed": true
   },
   "outputs": [],
   "source": [
    "def packVal(arr, M):\n",
    "    if not arr:\n",
    "        return 0\n",
    "    return pack(arr, 0, 0, M)\n",
    "\n",
    "def pack(arr, i, cur, M):\n",
    "    if cur > M:\n",
    "        return -1\n",
    "    if cur == M:\n",
    "        return cur\n",
    "    \n",
    "    if i == len(arr):\n",
    "        return cur\n",
    "    \n",
    "    p1 = pack(arr, i+1, cur+arr[i],M)\n",
    "    p2 = pack(arr, i+1, cur,M)\n",
    "    return max(p1,p2)\n",
    "    "
   ]
  },
  {
   "cell_type": "code",
   "execution_count": 83,
   "metadata": {},
   "outputs": [
    {
     "data": {
      "text/plain": [
       "0"
      ]
     },
     "execution_count": 83,
     "metadata": {},
     "output_type": "execute_result"
    }
   ],
   "source": [
    "a = [12,12]\n",
    "packVal(a, 11)"
   ]
  },
  {
   "cell_type": "code",
   "execution_count": 86,
   "metadata": {},
   "outputs": [],
   "source": [
    "def packVal2(arr,M):\n",
    "    if not arr:\n",
    "        return 0\n",
    "    N = len(arr)\n",
    "    dp = [[0] * (M+1) for _ in range(N+1)]\n",
    "    for i in range(N+1):\n",
    "        dp[i][M] = M\n",
    "    for i in range(M+1):\n",
    "        dp[N][i] = i\n",
    "    for i in range(N-1, -1, -1):\n",
    "        for cur in range(M):\n",
    "            p2 = dp[i+1][cur]\n",
    "            p1 = -1\n",
    "            if cur + arr[i] <= M:\n",
    "                p1 = dp[i+1][cur + arr[i]]\n",
    "            dp[i][cur] = max(p1,p2)\n",
    "    return dp[0][0]\n",
    "                \n",
    "            \n",
    "    "
   ]
  },
  {
   "cell_type": "code",
   "execution_count": 87,
   "metadata": {},
   "outputs": [
    {
     "data": {
      "text/plain": [
       "0"
      ]
     },
     "execution_count": 87,
     "metadata": {},
     "output_type": "execute_result"
    }
   ],
   "source": [
    "packVal2(a, 11)"
   ]
  },
  {
   "cell_type": "code",
   "execution_count": 88,
   "metadata": {},
   "outputs": [
    {
     "name": "stdout",
     "output_type": "stream",
     "text": [
      "succeed.\n"
     ]
    }
   ],
   "source": [
    "import random\n",
    "def generatePosRandomArr(maxLen, maxValue):\n",
    "    arr = list()\n",
    "    for i in range(maxLen):\n",
    "        arr.append(random.randint(0, maxValue))\n",
    "    return arr\n",
    "testTime = 100\n",
    "maxValue = 50\n",
    "maxM = 200\n",
    "maxLen = 15\n",
    "succeed=True\n",
    "for _ in range(testTime):\n",
    "    value = random.randint(0, maxValue)\n",
    "    length = random.randint(0, maxLen)\n",
    "    arr = generatePosRandomArr(length, value)\n",
    "    M = random.randint(0, maxM)\n",
    "    ans1 = packVal(arr, M)\n",
    "    ans2 = packVal2(arr, M)\n",
    "    if ans1 != ans2:\n",
    "        print(ans1, ans2)\n",
    "        print(\"something wrong.\")\n",
    "        succeed = False\n",
    "        break\n",
    "if succeed:\n",
    "    print(\"succeed.\")"
   ]
  },
  {
   "cell_type": "code",
   "execution_count": null,
   "metadata": {
    "collapsed": true
   },
   "outputs": [],
   "source": []
  },
  {
   "cell_type": "code",
   "execution_count": 91,
   "metadata": {
    "collapsed": true
   },
   "outputs": [],
   "source": [
    "def maxValue(w, v, bag):\n",
    "    if not w or not v or bag <= 0:\n",
    "        return 0\n",
    "    return maxV(w,v,0,bag)\n",
    "\n",
    "def maxV(w, v, i, rest):\n",
    "    if i == len(w):\n",
    "        return 0\n",
    "    if w[i] > rest:\n",
    "        return maxV(w, v, i+1, rest)\n",
    "    p1 = maxV(w,v,i+1,rest-w[i]) + v[i]\n",
    "    p2 = maxV(w,v,i+1,rest)\n",
    "    return max(p1,p2)"
   ]
  },
  {
   "cell_type": "code",
   "execution_count": 92,
   "metadata": {},
   "outputs": [
    {
     "data": {
      "text/plain": [
       "42"
      ]
     },
     "execution_count": 92,
     "metadata": {},
     "output_type": "execute_result"
    }
   ],
   "source": [
    "w = [3,2,4, 7, 3,1,7]\n",
    "v = [5,6,3,19,12,4,2]\n",
    "bag = 15\n",
    "maxValue(w,v,bag)"
   ]
  },
  {
   "cell_type": "code",
   "execution_count": 95,
   "metadata": {
    "collapsed": true
   },
   "outputs": [],
   "source": [
    "def maxValue2(w,v,bag):\n",
    "    if not w or not v or bag <= 0:\n",
    "        return 0\n",
    "    N = len(w)\n",
    "    dp = [[None] * (bag+1) for _ in range(N+1)]\n",
    "    for rest in range(bag+1):\n",
    "        dp[N][rest] = 0\n",
    "    for i in range(N-1, -1, -1):\n",
    "        for rest in range(bag+1):\n",
    "            if w[i] > rest:\n",
    "                dp[i][rest] = dp[i+1][rest]\n",
    "            else:\n",
    "                dp[i][rest] = max(dp[i+1][rest], dp[i+1][rest-w[i]] + v[i])\n",
    "    return dp[0][bag]"
   ]
  },
  {
   "cell_type": "code",
   "execution_count": 96,
   "metadata": {},
   "outputs": [
    {
     "data": {
      "text/plain": [
       "42"
      ]
     },
     "execution_count": 96,
     "metadata": {},
     "output_type": "execute_result"
    }
   ],
   "source": [
    "w = [3,2,4, 7, 3,1,7]\n",
    "v = [5,6,3,19,12,4,2]\n",
    "bag = 15\n",
    "maxValue2(w,v,bag)"
   ]
  },
  {
   "cell_type": "markdown",
   "metadata": {},
   "source": [
    "### 数字转换字符串\n",
    "1对应A，2对应B，3对应C...26对应Z\n",
    "那么一个数字字符串比如“111”可以转化为“AAA”、“KA”和”AK“\n",
    "给定一个数组的字符串，返回有多少转化结果"
   ]
  },
  {
   "cell_type": "code",
   "execution_count": 111,
   "metadata": {
    "collapsed": true
   },
   "outputs": [],
   "source": [
    "def transferKinds(string):\n",
    "    if not string:\n",
    "        return 0\n",
    "    return transfer(string, 0)\n",
    "\n",
    "def transfer(string, i):\n",
    "    if i == len(string):\n",
    "        return 1\n",
    "    if string[i] == \"0\":\n",
    "        return 0\n",
    "    else:\n",
    "        ways = transfer(string, i+1) #i自己\n",
    "        if i < len(string) - 1 and 1 <= int(string[i:i+2]) <= 26:\n",
    "            ways += transfer(string, i+2)\n",
    "        return ways"
   ]
  },
  {
   "cell_type": "code",
   "execution_count": 112,
   "metadata": {},
   "outputs": [
    {
     "name": "stdout",
     "output_type": "stream",
     "text": [
      "0\n",
      "8\n",
      "3\n"
     ]
    }
   ],
   "source": [
    "print(transferKinds(\"7230231231232031203123\"))\n",
    "print(transferKinds(\"11111\"))\n",
    "print(transferKinds(\"111\"))"
   ]
  },
  {
   "cell_type": "code",
   "execution_count": 113,
   "metadata": {
    "collapsed": true
   },
   "outputs": [],
   "source": [
    "def transferKinds2(string):\n",
    "    if not string:\n",
    "        return 0\n",
    "    N = len(string)\n",
    "    dp = [0] * (N+1)\n",
    "    dp[N] = 1            \n",
    "    for i in range(N-1, -1, -1):\n",
    "        if string[i] == \"0\":\n",
    "            dp[i] = 0\n",
    "            continue\n",
    "        dp[i] = dp[i+1]\n",
    "        if i < N - 1 and 1 <= int(string[i:i+2]) <= 26:\n",
    "            dp[i] += dp[i+2]\n",
    "    return dp[0]\n",
    "    "
   ]
  },
  {
   "cell_type": "code",
   "execution_count": 114,
   "metadata": {},
   "outputs": [
    {
     "name": "stdout",
     "output_type": "stream",
     "text": [
      "0\n",
      "8\n",
      "3\n"
     ]
    }
   ],
   "source": [
    "print(transferKinds2(\"7230231231232031203123\"))\n",
    "print(transferKinds2(\"11111\"))\n",
    "print(transferKinds2(\"111\"))"
   ]
  },
  {
   "cell_type": "code",
   "execution_count": 139,
   "metadata": {},
   "outputs": [],
   "source": [
    "def stickersNum(stickers, target):\n",
    "    if not stickers:\n",
    "        return -1\n",
    "    sticker_list = list()\n",
    "    for st in stickers:\n",
    "        st_dict = dict()\n",
    "        for i in st:\n",
    "            if i not in st_dict:\n",
    "                st_dict[i] = 1\n",
    "            else:\n",
    "                st_dict[i] += 1\n",
    "        sticker_list.append(st_dict)\n",
    "    target_dict = dict()\n",
    "    for tar in target:\n",
    "        if tar not in target_dict:\n",
    "                target_dict[tar] = 1\n",
    "        else:\n",
    "            target_dict[tar] += 1\n",
    "    return s(sticker_list, 0, target_dict)\n",
    "def removeChar(sticker, times, rest):\n",
    "    now = rest.copy()\n",
    "    for char in sticker:\n",
    "        if char in now:\n",
    "            now[char] -= sticker[char] * times\n",
    "            if now[char] <= 0:\n",
    "                now.pop(char)\n",
    "    return now\n",
    "\n",
    "def s(stickers, i, rest):\n",
    "\n",
    "    if i == len(stickers):\n",
    "        return 0 if not rest else -1\n",
    "    if not rest:\n",
    "        return 0\n",
    "    p = s(stickers, i+1, rest)\n",
    "    maxNum = max(rest.values())\n",
    "    for nums in range(1, maxNum+1):\n",
    "        p2 = s(stickers, i+1, removeChar(stickers[i], nums, rest)) \n",
    "        if p2 != -1:\n",
    "            p2 += nums\n",
    "        if p == -1:\n",
    "            p = p2 \n",
    "        else:\n",
    "            if p2 == -1:\n",
    "                continue\n",
    "            else: \n",
    "                p = min(p, p2)\n",
    "    return p\n",
    "        \n",
    "       \n",
    "        "
   ]
  },
  {
   "cell_type": "code",
   "execution_count": 152,
   "metadata": {
    "collapsed": true
   },
   "outputs": [],
   "source": [
    "def stickersNum(stickers, target):\n",
    "    if not stickers:\n",
    "        return -1\n",
    "    dp = dict()\n",
    "    return s(stickers, 0, target, dp)\n",
    "\n",
    "def removeChar(sticker, times, rest):\n",
    "    count = [0] * 26\n",
    "    for i in rest:\n",
    "        count[ord(i)-ord(\"a\")] += 1\n",
    "    \n",
    "    for _ in range(times):\n",
    "        for a in sticker:\n",
    "            count[ord(a)-ord(\"a\")] -= 1\n",
    "    now = \"\"\n",
    "    for i in range(26):\n",
    "        if count[i] > 0:\n",
    "            now += (count[i] * chr(ord(\"a\") +i))\n",
    "    return now\n",
    "\n",
    "def s(stickers, i, rest, dp):\n",
    "    if (i,rest) in dp:\n",
    "        return dp[(i,rest)]\n",
    "    if i == len(stickers):\n",
    "        return 0 if not rest else -1\n",
    "    if not rest:\n",
    "        return 0\n",
    "    p = s(stickers, i+1, rest, dp)\n",
    "    maxNum = len(rest)\n",
    "    for nums in range(1, maxNum+1):\n",
    "        p2 = s(stickers, i+1, removeChar(stickers[i], nums, rest), dp) \n",
    "        if p2 != -1:\n",
    "            p2 += nums\n",
    "        if p == -1:\n",
    "            p = p2 \n",
    "        else:\n",
    "            if p2 == -1:\n",
    "                continue\n",
    "            else: \n",
    "                p = min(p, p2)\n",
    "    dp[(i,rest)] = p\n",
    "    return p\n",
    "        \n",
    "       \n",
    "        "
   ]
  },
  {
   "cell_type": "code",
   "execution_count": 154,
   "metadata": {},
   "outputs": [
    {
     "data": {
      "text/plain": [
       "4"
      ]
     },
     "execution_count": 154,
     "metadata": {},
     "output_type": "execute_result"
    }
   ],
   "source": [
    "stickers =[\"square\",\"human\",\"deal\",\"wall\",\"them\",\"brother\",\"high\",\"ring\",\"want\",\"family\",\"seem\",\"continent\",\"silent\",\"area\",\"ice\",\"arm\",\"to\",\"behind\",\"branch\",\"suit\",\"locate\",\"town\",\"we\",\"finish\",\"joy\",\"grand\",\"else\",\"quart\",\"small\",\"part\",\"every\",\"blood\",\"decide\",\"front\",\"copy\",\"class\",\"after\",\"count\",\"these\",\"ride\",\"dog\",\"bed\",\"keep\",\"edge\",\"iron\",\"wild\",\"problem\",\"my\",\"age\",\"came\"]\n",
    "target =\"spendneck\"\n",
    "\n",
    "stickersNum(stickers, target)"
   ]
  },
  {
   "cell_type": "code",
   "execution_count": 148,
   "metadata": {
    "collapsed": true
   },
   "outputs": [],
   "source": [
    "a = dict()"
   ]
  },
  {
   "cell_type": "code",
   "execution_count": 121,
   "metadata": {
    "collapsed": true
   },
   "outputs": [],
   "source": [
    "b =a.copy()"
   ]
  },
  {
   "cell_type": "code",
   "execution_count": 122,
   "metadata": {},
   "outputs": [
    {
     "data": {
      "text/plain": [
       "{}"
      ]
     },
     "execution_count": 122,
     "metadata": {},
     "output_type": "execute_result"
    }
   ],
   "source": [
    "b"
   ]
  },
  {
   "cell_type": "code",
   "execution_count": 141,
   "metadata": {},
   "outputs": [
    {
     "data": {
      "text/plain": [
       "'aaa'"
      ]
     },
     "execution_count": 141,
     "metadata": {},
     "output_type": "execute_result"
    }
   ],
   "source": [
    "\"a\" * 3"
   ]
  },
  {
   "cell_type": "markdown",
   "metadata": {},
   "source": [
    "### 最长公共子序列"
   ]
  },
  {
   "cell_type": "code",
   "execution_count": 156,
   "metadata": {
    "collapsed": true
   },
   "outputs": [],
   "source": [
    "def largerstM(string1, string2):\n",
    "    if not string1 or not string2:\n",
    "        return 0\n",
    "    return largerst(string1, string2, len(string1)-1, len(string2)-1)\n",
    "#从0...i,j 最长公共子序列\n",
    "def largerst(string1, string2, i, j):\n",
    "    if i == 0 and j == 0:\n",
    "        return 1 if string1[i] == string2[j] else 0\n",
    "    if i == 0:\n",
    "        if string1[i] == string2[j]:\n",
    "            return 1\n",
    "        else:\n",
    "            return largerst(string1, string2, i, j-1)\n",
    "    if j == 0:\n",
    "        if string1[i] == string2[j]:\n",
    "            return 1\n",
    "        else:\n",
    "            return largerst(string1, string2, i-1, j)\n",
    "    else:\n",
    "        p1 = largerst(string1, string2, i, j-1)\n",
    "        p2 = largerst(string1, string2, i-1, j)\n",
    "        p3 = largerst(string1, string2, i-1, j-1) if string1[i] == string2[j] else 0\n",
    "        return max([p1,p2,p3])"
   ]
  },
  {
   "cell_type": "code",
   "execution_count": 159,
   "metadata": {},
   "outputs": [],
   "source": [
    "def largerstCommon(string1, string2):\n",
    "    if not string1 or not string2:\n",
    "        return 0\n",
    "    N = len(string1)\n",
    "    M = len(string2)\n",
    "    dp = [[0]*(M) for _ in range(N)]\n",
    "    dp[0][0] = 1 if string1[0] == string2[0] else 0\n",
    "    for i in range(1, N):\n",
    "        j = 0\n",
    "        if string1[i] == string2[j]:\n",
    "            dp[i][j] = 1\n",
    "        else:\n",
    "            dp[i][j] = string[i-1][j]\n",
    "    for j in range(1, M):\n",
    "        i = 0\n",
    "        if string1[i] == string2[j]:\n",
    "            dp[i][j] = 1\n",
    "        else:\n",
    "            dp[i][j] = string[i][j-1]\n",
    "    for i in range(1, N):\n",
    "        for j in range(1, M):\n",
    "            p1 = dp[i][j-1]\n",
    "            p2 = dp[i-1][j]\n",
    "            p3 = dp[i-1][j-1] if string1[i] == string2[j] else 0\n",
    "            dp[i][j] = max([p1,p2,p3])\n",
    "    return dp[N-1][M-1]"
   ]
  },
  {
   "cell_type": "markdown",
   "metadata": {},
   "source": [
    "### 最长回文子序列长度"
   ]
  },
  {
   "cell_type": "code",
   "execution_count": 163,
   "metadata": {},
   "outputs": [],
   "source": [
    "def largestPalindrome(string):\n",
    "    if not string:\n",
    "        return 0\n",
    "    return largestP(string, 0, len(string)-1)\n",
    "def largestP(string, i, j):\n",
    "    if i > j:\n",
    "        return 0\n",
    "    if i == j:\n",
    "        return 1\n",
    "    if i == j-1:\n",
    "        return 2 if string[i] == string[j] else 0\n",
    "    p1 = largestP(string, i+1, j)\n",
    "    p2 = largestP(string, i, j-1)\n",
    "    p3 = largestP(string, i+1, j-1)\n",
    "    if string[i] == string[j]:\n",
    "        p4 = largestP(string, i+1, j-1) + 2\n",
    "    else:\n",
    "        p4 = 0\n",
    "    return max([p1,p2,p3,p4])"
   ]
  },
  {
   "cell_type": "code",
   "execution_count": 164,
   "metadata": {
    "collapsed": true
   },
   "outputs": [],
   "source": [
    "def largestPalindrome2(string):\n",
    "    if not string:\n",
    "        return 0\n",
    "    N = len(string)\n",
    "    dp = [[0]*(N) for _ in range(N)]\n",
    "    for i in range(N):\n",
    "        dp[i][i] = 1\n",
    "    for i in range(N-1):\n",
    "        dp[i][i+1] = 2 if string[i] == string[i+1] else 0\n",
    "    for i in range(N-3, -1, -1):\n",
    "        for j in range(i+2, N):\n",
    "            p1 = dp[i+1][j]\n",
    "            p2 = dp[i][j-1]\n",
    "            p3 = dp[i+1][j-1]\n",
    "            if string[i] == string[j]:\n",
    "                p4 = dp[i+1][j-1] + 2\n",
    "            else:\n",
    "                p4 = 0\n",
    "            dp[i][j] = max([p1,p2,p3,p4])\n",
    "    \n",
    "    return dp[0][len(string)-1]"
   ]
  },
  {
   "cell_type": "markdown",
   "metadata": {},
   "source": [
    "### 棋盘\n",
    "马走日，从(0,0)出发，步数=k，返回方法数。棋盘(10,9)"
   ]
  },
  {
   "cell_type": "code",
   "execution_count": 167,
   "metadata": {},
   "outputs": [],
   "source": [
    "def chess(a, b, k):\n",
    "    if a < 0 or b < 0 or a > 9 or b > 8 or k <= 0: \n",
    "        return 0\n",
    "    return ch(a,b,k,0,0)\n",
    "\n",
    "def ch(a,b,k,x,y):\n",
    "    if x < 0 or y < 0 or x > 9 or y > 8:\n",
    "        return 0\n",
    "    if k == 0:\n",
    "        return 1 if a == x and b == y else 0\n",
    "    p = ch(a,b,k-1,x - 2, y + 1)\n",
    "    p += ch(a,b,k-1,x + 2, y + 1)    \n",
    "    p += ch(a,b,k-1,x - 2, y - 1)    \n",
    "    p += ch(a,b,k-1,x + 2, y - 1)    \n",
    "    p += ch(a,b,k-1,x - 1, y + 2)    \n",
    "    p += ch(a,b,k-1,x - 1, y - 2)    \n",
    "    p += ch(a,b,k-1,x + 1, y + 2)    \n",
    "    p += ch(a,b,k-1,x + 1, y - 2)\n",
    "    return p\n",
    "    "
   ]
  },
  {
   "cell_type": "code",
   "execution_count": 168,
   "metadata": {
    "collapsed": true
   },
   "outputs": [],
   "source": [
    "def chess2(a,b,k):\n",
    "    if a < 0 or b < 0 or a > 9 or b > 8 or k <= 0: \n",
    "        return 0\n",
    "    dp = [[[0] * (k+1) for _ in range(9)] for _ in range(10)]\n",
    "    dp[a][b][0] = 1\n",
    "    for i in range(10):\n",
    "        for j in range(9):\n",
    "            for step in range(1, k):\n",
    "                dp[i][j][step] =  getNum(dp, x+2, y+1, step-1)\n",
    "                dp[i][j][step] += getNum(dp, x+2, y-1, step-1)\n",
    "                dp[i][j][step] += getNum(dp, x-2, y+1, step-1)\n",
    "                dp[i][j][step] += getNum(dp, x-2, y-1, step-1)\n",
    "                dp[i][j][step] += getNum(dp, x+1, y+2, step-1)\n",
    "                dp[i][j][step] += getNum(dp, x+1, y-2, step-1)\n",
    "                dp[i][j][step] += getNum(dp, x-1, y+2, step-1)\n",
    "                dp[i][j][step] += getNum(dp, x-1, y-2, step-1)\n",
    "    return dp[0][0][k]\n",
    "\n",
    "def getNum(dp, a, b, step):\n",
    "    if a < 0 or b < 0 or a > 9 or b > 8:\n",
    "        return 0\n",
    "    else:\n",
    "        return dp[a][b][step]"
   ]
  },
  {
   "cell_type": "code",
   "execution_count": null,
   "metadata": {
    "collapsed": true
   },
   "outputs": [],
   "source": []
  }
 ],
 "metadata": {
  "kernelspec": {
   "display_name": "Python 3",
   "language": "python",
   "name": "python3"
  },
  "language_info": {
   "codemirror_mode": {
    "name": "ipython",
    "version": 3
   },
   "file_extension": ".py",
   "mimetype": "text/x-python",
   "name": "python",
   "nbconvert_exporter": "python",
   "pygments_lexer": "ipython3",
   "version": "3.6.1"
  }
 },
 "nbformat": 4,
 "nbformat_minor": 2
}
