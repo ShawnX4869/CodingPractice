{
 "cells": [
  {
   "cell_type": "markdown",
   "id": "23fd50d7",
   "metadata": {},
   "source": [
    "### Manacher算法\n",
    "查找最长回文字符串子串，暴力解O(N2)，manacher:O(N)"
   ]
  },
  {
   "cell_type": "code",
   "execution_count": null,
   "id": "a0d4be2c",
   "metadata": {},
   "outputs": [],
   "source": [
    "'''\n",
    "1. 将字符串间隔添加#字符(为了偶数中间对称)，找到的长度/2向下取整。特殊字符永远只和特殊字符比对。\n",
    "2. 回文直径、半径。abc123def，直径为5，半径为3。\n",
    "3. 回文半径数组，记录每个位置的最长回文的半径。\n",
    "4. 最右回文边界，R=-1，遍历字符串查找当前值左右两边最长回文，每次更新推动R右扩\n",
    "5. 取得最右回文边界的中心，每次R更新，更新C\n",
    "\n",
    "以i位置往左右两边扩：\n",
    "1. i没被R罩住，无法优化，直接暴力左右扩 （比如R=-1，0位置时\n",
    "2. i被R罩住，根据i'储存在回文半径数组的信息分情况： i'...C...i..R，  i'必存在\n",
    "2.1 i'区域在L内, i能扩的区域和i'一样大： L  (  i' )  C   i  R\n",
    "比如： [ab(cdc)kstskcdcba]\n",
    "      L    i'   C   i   R\n",
    "2.2 i'区域在L外，i->R的距离就是i的回文半径：  (  L    i' C  i  ) R\n",
    "比如： (ab[cdedcba)tstabcdedcf]f\n",
    "         L  i'     C     i   R\n",
    "2.3 i'区域和L压线，i的回文半径至少是i->R的距离，继续往左右扩 ：  L(  i' ) C   i  R\n",
    "比如： x[(abcba)stsabcba]s\n",
    "       L   i'   C   i\n",
    "       \n",
    "证明复杂度：\n",
    "对于每个i，一定会失败N次\n",
    "成功时：\n",
    "情况1:i在R外，推高R\n",
    "情况2:2.1、2.2O(1)\n",
    "     2.3,R内不必验，直接从R外开始扩，继续推高R。\n",
    "所以成功时R从0->N一直扩，R不会退。所以整个过程O(N)\n",
    "'''"
   ]
  },
  {
   "cell_type": "code",
   "execution_count": 1,
   "id": "e54403a2",
   "metadata": {},
   "outputs": [],
   "source": [
    "import sys\n",
    "def manacher(s):\n",
    "    if not s or len(s) == 0:\n",
    "        return 0\n",
    "    string = manacherString(s)\n",
    "    #回文半径数组，最大值//2即原始串答案\n",
    "    pArr = [None] * len(string)\n",
    "    C = -1\n",
    "    R = -1 #讲述中R代表最右扩成功的位置，这里coding代表成功位置的下一个位置\n",
    "    maxP = -sys.maxsize\n",
    "    for i in range(len(string)):\n",
    "        if R > i: #讲述中的i在R内\n",
    "            pArr[i] = min(pArr[2 * C - i], R - i)  #2*C-i => i', R-i => R到i的距离\n",
    "        else:\n",
    "            pArr[i] = 1 #至少是1\n",
    "        #情况2.1、2.2直接会break    \n",
    "        while i + pArr[i] < len(string) and i - pArr[i] > -1: #i + pArr[i]右区域， i - pArr[i]=左区域\n",
    "            if string[i + pArr[i]] == string[i - pArr[i]]:\n",
    "                pArr[i] += 1\n",
    "            else:\n",
    "                break\n",
    "        \n",
    "        if i + pArr[i] > R:\n",
    "            R = i + pArr[i]\n",
    "            C = i\n",
    "        maxP = max(maxP, pArr[i])\n",
    "        \n",
    "    return maxP - 1 #处理字符串的半径-1 = 原始字符串的半径\n",
    "    "
   ]
  },
  {
   "cell_type": "markdown",
   "id": "dc1a9f01",
   "metadata": {},
   "source": [
    "#### 字符串变为回文需要在后面添加的最少字符\n",
    "即求必须包含最后一个字符，最长回文字符串是多长。加上（前面不是的逆序）即为答案"
   ]
  },
  {
   "cell_type": "code",
   "execution_count": null,
   "id": "e194761c",
   "metadata": {},
   "outputs": [],
   "source": [
    "'''\n",
    "思路：\n",
    "manacher过程中，R(coding) = len(string)时，即停。 (end-1)//2 即原始串对应位置\n",
    "'''"
   ]
  },
  {
   "cell_type": "markdown",
   "id": "fabb4114",
   "metadata": {},
   "source": [
    "### kmp练习"
   ]
  },
  {
   "cell_type": "markdown",
   "id": "2f1b13a3",
   "metadata": {},
   "source": [
    "#### 判断字符串s1是否是s2的旋转字符串\n",
    "12345的旋转串有，12345、23451、34512、45123、51234"
   ]
  },
  {
   "cell_type": "code",
   "execution_count": null,
   "id": "081a0ed6",
   "metadata": {},
   "outputs": [],
   "source": [
    "'''\n",
    "思路：\n",
    "1. 判断长度是否相等\n",
    "2. 生成s1+s1，判断s2是否是s1+s1的子串\n",
    "'''"
   ]
  },
  {
   "cell_type": "markdown",
   "id": "8c0dd273",
   "metadata": {},
   "source": [
    "#### 两棵二叉树是否有一致结构的子树"
   ]
  },
  {
   "cell_type": "code",
   "execution_count": null,
   "id": "f8e2d10e",
   "metadata": {},
   "outputs": [],
   "source": [
    "'''\n",
    "先序序列化两棵树，如果一棵树序列是另一棵的子串，则有一致结构子树\n",
    "'''"
   ]
  }
 ],
 "metadata": {
  "kernelspec": {
   "display_name": "Python 3 (ipykernel)",
   "language": "python",
   "name": "python3"
  },
  "language_info": {
   "codemirror_mode": {
    "name": "ipython",
    "version": 3
   },
   "file_extension": ".py",
   "mimetype": "text/x-python",
   "name": "python",
   "nbconvert_exporter": "python",
   "pygments_lexer": "ipython3",
   "version": "3.9.12"
  },
  "toc": {
   "base_numbering": 1,
   "nav_menu": {},
   "number_sections": true,
   "sideBar": true,
   "skip_h1_title": false,
   "title_cell": "Table of Contents",
   "title_sidebar": "Contents",
   "toc_cell": false,
   "toc_position": {},
   "toc_section_display": true,
   "toc_window_display": false
  }
 },
 "nbformat": 4,
 "nbformat_minor": 5
}
