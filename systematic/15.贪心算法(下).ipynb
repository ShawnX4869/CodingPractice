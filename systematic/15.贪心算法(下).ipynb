{
 "cells": [
  {
   "cell_type": "markdown",
   "metadata": {},
   "source": [
    "## 1.贪心"
   ]
  },
  {
   "cell_type": "markdown",
   "metadata": {},
   "source": [
    "### 1.1 会议安排\n",
    "一个会议的开始结束时间[x,y]，怎样安排会议室让会议最多"
   ]
  },
  {
   "cell_type": "code",
   "execution_count": 1,
   "metadata": {
    "collapsed": true
   },
   "outputs": [],
   "source": [
    "#思路 选结束时间最早的"
   ]
  },
  {
   "cell_type": "code",
   "execution_count": 2,
   "metadata": {
    "collapsed": true
   },
   "outputs": [],
   "source": [
    "class Program:\n",
    "    def __init__(self,s,e):\n",
    "        self.start = s\n",
    "        self.end = e"
   ]
  },
  {
   "cell_type": "code",
   "execution_count": 4,
   "metadata": {},
   "outputs": [],
   "source": [
    "def bestArrange(programs):\n",
    "    timeline = 0\n",
    "    result = 0\n",
    "    arr = sorted(programs,key=lambda x:x.end)\n",
    "    for i in arr:\n",
    "        if timeline <= i.start:\n",
    "            result+=1\n",
    "            timeline = i.end\n",
    "    return result"
   ]
  },
  {
   "cell_type": "markdown",
   "metadata": {},
   "source": [
    "### 1.2 切金条\n",
    "一块金条由长度为N的正数数组，长度为数组和sum。要求将金条切成最终数组形式的N段，每次只能切一刀，成本是被切的长度。求成本最小的切法下成本是多少。例如 [10,30,20]， 60长度的金条可以切30、30，然后再将30切成10、20，总成本是90。（另一种切法是60=>10、50；50=>20、30，成本是110）。"
   ]
  },
  {
   "cell_type": "code",
   "execution_count": 29,
   "metadata": {},
   "outputs": [],
   "source": [
    "'''\n",
    "思路：哈夫曼编码\n",
    "1.准备小根堆，将数组的数依次压入。\n",
    "2.每次弹出两个数，将两个数合成，再压回小根堆。\n",
    "3.直到小根堆只剩一个数停止。 每次第二步合成的值，即为成本\n",
    "'''\n",
    "import heapq\n",
    "def lessMoney(arr):\n",
    "    pq = list()\n",
    "    for i in arr:\n",
    "        heapq.heappush(pq, i)\n",
    "    res = 0\n",
    "    cur = 0\n",
    "    while len(pq) > 1:\n",
    "        cur = heapq.heappop(pq) + heapq.heappop(pq)\n",
    "        res += cur\n",
    "        heapq.heappush(pq, cur)\n",
    "    return res\n",
    "        "
   ]
  },
  {
   "cell_type": "code",
   "execution_count": 30,
   "metadata": {},
   "outputs": [
    {
     "data": {
      "text/plain": [
       "90"
      ]
     },
     "execution_count": 30,
     "metadata": {},
     "output_type": "execute_result"
    }
   ],
   "source": [
    "lessMoney([10,20,30])"
   ]
  },
  {
   "cell_type": "markdown",
   "metadata": {},
   "source": [
    "### 1.3 最大项目收益\n",
    "* 输入：正数数组costs、profits、正数K、M\n",
    "* cost[i]、profits[i]表示i号项目的花费与收益(扣除过花费)，K表示最多只能串行K个项目。M表示初始资金。\n",
    "* 每做完一个项目，马上获得收益，可以支持下一个项目中。不能并行做项目。\n",
    "* 输出最后获得的最大钱数"
   ]
  },
  {
   "cell_type": "code",
   "execution_count": 38,
   "metadata": {},
   "outputs": [],
   "source": [
    "'''\n",
    "思路：\n",
    "把所有项目压入小根堆按花费排序，手里的钱满足花费的所有项目弹出，压入按收益排序的大根堆。\n",
    "每个时间节点，大根堆内不为空，弹出一个项目，加上收益。然后再看小根堆是否有新满足的项目弹出、压入大根堆。\n",
    "直到大根堆内没有项目或已完成K个项目，停止\n",
    "'''\n",
    "class Cost:\n",
    "    def __init__(self, index, cost):\n",
    "        self.index = index\n",
    "        self.cost = cost\n",
    "    def __lt__(self, other):\n",
    "        return self.index < other.index if self.cost == other.cost else self.cost < other.cost\n",
    "\n",
    "class Profit:\n",
    "    def __init__(self, index, profit):\n",
    "        self.index = index\n",
    "        self.profit = profit\n",
    "    def __lt__(self, other):\n",
    "        return self.index < other.index if self.profit == other.profit else self.profit > other.profit\n",
    "\n",
    "def mostMoney(costs, profits, K, M):\n",
    "    allPro = list()\n",
    "    waitPro = list()\n",
    "    earn = M\n",
    "    for i in range(len(costs)):\n",
    "        heapq.heappush(allPro, Cost(i, costs[i]))\n",
    "    while allPro and heapq.nsmallest(1, allPro)[0].cost <= M:\n",
    "        cur = heapq.heappop(allPro)\n",
    "        heapq.heappush(waitPro, Profit(cur.index, profits[cur.index]))\n",
    "    for time in range(K):\n",
    "        if waitPro:\n",
    "            cur = heapq.heappop(waitPro)\n",
    "            earn += cur.profit\n",
    "            if allPro:\n",
    "                while allPro and heapq.nsmallest(1, allPro)[0].cost <= earn:\n",
    "                    cur = heapq.heappop(allPro)\n",
    "                    heapq.heappush(waitPro, Profit(cur.index, profits[cur.index]))\n",
    "        else:\n",
    "            return earn\n",
    "    return earn\n"
   ]
  },
  {
   "cell_type": "code",
   "execution_count": 40,
   "metadata": {},
   "outputs": [
    {
     "data": {
      "text/plain": [
       "11"
      ]
     },
     "execution_count": 40,
     "metadata": {},
     "output_type": "execute_result"
    }
   ],
   "source": [
    "costs =   [3,6,14,8,9,10]\n",
    "profits = [3,2,5,1,2,1]\n",
    "K = 4\n",
    "M = 3\n",
    "mostMoney(costs, profits, K, M)"
   ]
  },
  {
   "cell_type": "markdown",
   "metadata": {},
   "source": [
    "### 1.4 点灯\n",
    "给定一个字符串，只由\"X\"和\".\"两种字符构成。\n",
    "* \"X\"表示墙， 不能放灯，也不需要被点亮,\n",
    "* \".\"表示居民点，可以放灯，需要被点亮。\n",
    "* 如果灯放在i位置，可以让i-1、i和i+1三个位置被点亮。\n",
    "* 返回如果想点亮str中所有需要点亮的位置，至少需要几盏灯。"
   ]
  },
  {
   "cell_type": "code",
   "execution_count": 42,
   "metadata": {},
   "outputs": [],
   "source": [
    "'''\n",
    "思路：\n",
    "如果i位置是X，跳过；\n",
    "如果i位置是. i+1位置是X            一定i放灯， 跳到i+2\n",
    "           i+1位置是. i+2位置是x，    i放灯，跳到i+3 \n",
    "           i+1位置是. i+2位置是.， 一定i+1放灯，跳到i+4\n",
    "'''\n",
    "def minLight(road):\n",
    "    roadList = list(road)\n",
    "    index = 0\n",
    "    light =0\n",
    "    while index < len(roadList):\n",
    "        if roadList[index] == \"X\":\n",
    "            index += 1\n",
    "        else:\n",
    "            light += 1\n",
    "            if index + 1 == len(roadList):\n",
    "                break\n",
    "            else:\n",
    "                if roadList[index + 1] == \"X\":\n",
    "                    index = index + 2\n",
    "                else:\n",
    "                    index = index + 3\n",
    "    return light"
   ]
  },
  {
   "cell_type": "markdown",
   "metadata": {},
   "source": [
    "## 2. 并查集\n",
    "1. isSameSet(A,B): AB是否属于同一集合\n",
    "2. union(A,B): 将AB聚合为一个集合\n",
    "3. 单次查询平均O(1)"
   ]
  },
  {
   "cell_type": "code",
   "execution_count": 50,
   "metadata": {
    "collapsed": true
   },
   "outputs": [],
   "source": [
    "# size小挂大,保证链长度增长最慢慢\n",
    "# union时小的代表节点 指向大的代表节点\n",
    "# findAncestor时，不光返回代表节点，也把沿途遇到的父节点直接指向查到代表节点，保证下次查询不会再遍历（加速，只痛一次"
   ]
  },
  {
   "cell_type": "code",
   "execution_count": 43,
   "metadata": {
    "collapsed": true
   },
   "outputs": [],
   "source": [
    "class Node:\n",
    "    def __init__(self, val):\n",
    "        self.val = val"
   ]
  },
  {
   "cell_type": "code",
   "execution_count": 49,
   "metadata": {
    "collapsed": true
   },
   "outputs": [],
   "source": [
    "from collections import deque\n",
    "class UnionSet:\n",
    "    def __init__(self, values):\n",
    "        self.nodes = dict()\n",
    "        self.parents = dict() #(node:parentNode)\n",
    "        self.sizeMap = dict()    #(representativeNode:size)\n",
    "        for cur in values:\n",
    "            node = Node(cur)\n",
    "            self.nodes[cur] = node\n",
    "            self.parents[node] = [node]\n",
    "            self.sizeMap[node] = 1\n",
    "    #给一个节点，找到代表节点返回（每次查找后，把沿途node的父亲指向代表节点\n",
    "    def findAncestor(node):\n",
    "        path = deque()\n",
    "        cur = node\n",
    "        while cur != self.parents.get(cur):\n",
    "            path.append(cur)\n",
    "            cur = self.parents.get(cur)\n",
    "        while len(path) > 0:\n",
    "            self.parents[path.pop()] = cur\n",
    "        return cur\n",
    "    \n",
    "    def isSameSet(a, b): #传入为value而非node\n",
    "        return findAncestor(self.nodes.get(a)) == findAncestor(self.nodes.get(b))\n",
    "    \n",
    "    def union(a, b): #传入为value而非node\n",
    "        aHead = findAncestor(self.nodes.get(a))\n",
    "        bHead = findAncestor(self.nodes.get(b))\n",
    "        if aHead != bHead:\n",
    "            aSetSize= self.sizeMap.get(aHead)\n",
    "            bSetSize= self.sizeMap.get(bHead)\n",
    "            if aSetSize >= bSetSize:\n",
    "                big = aHead\n",
    "                small = bHead\n",
    "            else:\n",
    "                big = bHead\n",
    "                small = aHead\n",
    "            self.parents[small] = big\n",
    "            self.sizeMap[big] = aSetSize + bSetSize\n",
    "            self.sizeMap.pop(small)\n",
    "            \n",
    "        "
   ]
  },
  {
   "cell_type": "code",
   "execution_count": 48,
   "metadata": {},
   "outputs": [
    {
     "data": {
      "text/plain": [
       "3"
      ]
     },
     "execution_count": 48,
     "metadata": {},
     "output_type": "execute_result"
    }
   ],
   "source": [
    "a = dict({1:3,2:4})\n",
    "a.pop(1)"
   ]
  },
  {
   "cell_type": "code",
   "execution_count": null,
   "metadata": {
    "collapsed": true
   },
   "outputs": [],
   "source": []
  }
 ],
 "metadata": {
  "kernelspec": {
   "display_name": "Python 3",
   "language": "python",
   "name": "python3"
  },
  "language_info": {
   "codemirror_mode": {
    "name": "ipython",
    "version": 3
   },
   "file_extension": ".py",
   "mimetype": "text/x-python",
   "name": "python",
   "nbconvert_exporter": "python",
   "pygments_lexer": "ipython3",
   "version": "3.6.1"
  }
 },
 "nbformat": 4,
 "nbformat_minor": 2
}
