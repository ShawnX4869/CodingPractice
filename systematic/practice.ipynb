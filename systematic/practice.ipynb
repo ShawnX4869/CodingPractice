{
 "cells": [
  {
   "cell_type": "markdown",
   "metadata": {},
   "source": [
    "### 阶乘计算"
   ]
  },
  {
   "cell_type": "code",
   "execution_count": 1,
   "metadata": {
    "collapsed": true
   },
   "outputs": [],
   "source": [
    "# n * n-1 * n2...*2 * 1"
   ]
  },
  {
   "cell_type": "code",
   "execution_count": 14,
   "metadata": {},
   "outputs": [
    {
     "name": "stdout",
     "output_type": "stream",
     "text": [
      "succeed.\n"
     ]
    }
   ],
   "source": [
    "import random\n",
    "def factorial(n):\n",
    "    if n == 1:\n",
    "        return 1\n",
    "    ans = [0] * (n+1)\n",
    "    ans[1] = 1\n",
    "    for i in range(2, n+1):\n",
    "        ans[i] = ans[i-1] * i\n",
    "    return ans[n]\n",
    "\n",
    "def factorialTest(n):\n",
    "    if n == 1:\n",
    "        return 1\n",
    "    return n * factorialTest(n-1)\n",
    "\n",
    "testTime = 10000\n",
    "maxValue = 100\n",
    "succeed=True\n",
    "for _ in range(testTime):\n",
    "    n = random.randint(1, maxValue)\n",
    "    ans1 = factorial(n)\n",
    "    ans2 = factorialTest(n)\n",
    "    if ans1 != ans2:\n",
    "        print(n, ans1, ans2)\n",
    "        print(\"something wrong.\")\n",
    "        succeed = False\n",
    "        break\n",
    "if succeed:\n",
    "    print(\"succeed.\")"
   ]
  },
  {
   "cell_type": "markdown",
   "metadata": {},
   "source": [
    "### 前缀和数组"
   ]
  },
  {
   "cell_type": "code",
   "execution_count": 23,
   "metadata": {},
   "outputs": [
    {
     "name": "stdout",
     "output_type": "stream",
     "text": [
      "succeed.\n"
     ]
    }
   ],
   "source": [
    "def preSum(arr):\n",
    "    if not arr:\n",
    "        return list()\n",
    "    ans = 0\n",
    "    preSum = list()\n",
    "    for i in range(len(arr)):\n",
    "        ans+= arr[i]\n",
    "        preSum.append(ans)\n",
    "    return preSum\n",
    "\n",
    "def preSumTest(arr):\n",
    "    ans = list()\n",
    "    for i in range(1, len(arr)+1):\n",
    "        ans.append(sum(arr[:i]))\n",
    "    return ans\n",
    "\n",
    "def generateRandomArr(maxLen, maxValue):\n",
    "    arr = list()\n",
    "    for i in range(maxLen):\n",
    "        arr.append(random.randint(-maxValue, maxValue))\n",
    "    return arr\n",
    "\n",
    "testTime = 10000\n",
    "maxValue = 100\n",
    "maxLen = 20\n",
    "succeed=True\n",
    "for _ in range(testTime):\n",
    "    value = random.randint(0, maxValue)\n",
    "    length = random.randint(0, maxLen)\n",
    "    arr = generateRandomArr(length, value)\n",
    "    ans1 = preSum(arr)\n",
    "    ans2 = preSumTest(arr)\n",
    "    if ans1 != ans2:\n",
    "        print(n, ans1, ans2)\n",
    "        print(\"something wrong.\")\n",
    "        succeed = False\n",
    "        break\n",
    "if succeed:\n",
    "    print(\"succeed.\")"
   ]
  },
  {
   "cell_type": "code",
   "execution_count": 18,
   "metadata": {},
   "outputs": [
    {
     "data": {
      "text/plain": [
       "[1, 3, 7, 13, 18, 24, 31]"
      ]
     },
     "execution_count": 18,
     "metadata": {},
     "output_type": "execute_result"
    }
   ],
   "source": [
    "preSum([1,2,4,6,5,6,7])"
   ]
  },
  {
   "cell_type": "markdown",
   "metadata": {},
   "source": [
    "### 调整数出现的概率从x调整为x^2"
   ]
  },
  {
   "cell_type": "code",
   "execution_count": 25,
   "metadata": {},
   "outputs": [
    {
     "name": "stdout",
     "output_type": "stream",
     "text": [
      "0.0 0.0\n",
      "0.5 0.25\n",
      "0.8 0.64\n",
      "0.9 0.81\n",
      "0.8 0.64\n",
      "0.2 0.04\n",
      "0.2 0.04\n",
      "0.8 0.64\n",
      "0.7 0.49\n",
      "0.9 0.81\n"
     ]
    }
   ],
   "source": [
    "def f(x):\n",
    "    return random.random() <= x\n",
    "\n",
    "def f2(x):\n",
    "    return f(x) and f(x)\n",
    "\n",
    "testTime = 100000\n",
    "for _ in range(10):\n",
    "    countTrue = 0\n",
    "    countFalse = 0\n",
    "    x = round(random.random(),1)\n",
    "    for _ in range(testTime):\n",
    "        if f2(x):\n",
    "            countTrue += 1\n",
    "        else:\n",
    "            countFalse += 1\n",
    "    print(x, round(countTrue * 1.0 / (countTrue+countFalse),2))"
   ]
  },
  {
   "cell_type": "markdown",
   "metadata": {},
   "source": [
    "### 01不等概率随机到01等概率随机"
   ]
  },
  {
   "cell_type": "code",
   "execution_count": 41,
   "metadata": {},
   "outputs": [],
   "source": [
    "def noEqual():\n",
    "    n = random.random()\n",
    "    if n <= 0.1: #0.1\n",
    "        return 1\n",
    "    elif n <= 0.8: #0.7\n",
    "        return 2 #0.2\n",
    "    else: \n",
    "        return 3\n",
    "def equal():\n",
    "    ans = noEqual() <= 2 #True 0.8 False 0.2\n",
    "    while (noEqual() <= 2) == ans:\n",
    "        ans = noEqual() <= 2\n",
    "    return ans"
   ]
  },
  {
   "cell_type": "code",
   "execution_count": 44,
   "metadata": {},
   "outputs": [
    {
     "name": "stdout",
     "output_type": "stream",
     "text": [
      "0.50021\n"
     ]
    }
   ],
   "source": [
    "\n",
    "testTime = 100000\n",
    "countTrue = 0\n",
    "for _ in range(testTime):\n",
    "    if equal()==True:\n",
    "        countTrue+=1\n",
    "print(countTrue*1.0/testTime)"
   ]
  },
  {
   "cell_type": "markdown",
   "metadata": {},
   "source": [
    "### 有序数组中找到num"
   ]
  },
  {
   "cell_type": "code",
   "execution_count": 64,
   "metadata": {},
   "outputs": [
    {
     "name": "stdout",
     "output_type": "stream",
     "text": [
      "succeed.\n"
     ]
    }
   ],
   "source": [
    "def binarySearch(arr, num):\n",
    "    if not arr:\n",
    "        return False\n",
    "    L = 0\n",
    "    R = len(arr)-1\n",
    "    arrSorted = sorted(arr)\n",
    "    while L <= R:\n",
    "        mid = L + ((R-L) >> 1)\n",
    "        if arrSorted[mid] == num:\n",
    "            return True\n",
    "        elif arrSorted[mid] < num:\n",
    "            L = mid + 1\n",
    "        else:\n",
    "            R = mid - 1\n",
    "    return False\n",
    "\n",
    "def binarySearchTest(arr, num):\n",
    "    if not arr:\n",
    "        return False\n",
    "    for i in range(len(arr)):\n",
    "        if arr[i] == num:\n",
    "            return True\n",
    "    return False\n",
    "\n",
    "testTime = 10000\n",
    "maxValue = 50\n",
    "maxLen = 200\n",
    "succeed=True\n",
    "for _ in range(testTime):\n",
    "    value = random.randint(0, maxValue)\n",
    "    length = random.randint(0, maxLen)\n",
    "    arr = generateRandomArr(length, value)\n",
    "    num = random.randint(-maxValue, maxValue)\n",
    "    ans1 = binarySearch(arr, num)\n",
    "    ans2 = binarySearchTest(arr, num)\n",
    "    if ans1 != ans2:\n",
    "        print(num, arr, ans1, ans2)\n",
    "        print(\"something wrong.\")\n",
    "        succeed = False\n",
    "        break\n",
    "if succeed:\n",
    "    print(\"succeed.\")"
   ]
  },
  {
   "cell_type": "markdown",
   "metadata": {},
   "source": [
    "### 有序数组中找到＞=num最左的位置"
   ]
  },
  {
   "cell_type": "code",
   "execution_count": 75,
   "metadata": {},
   "outputs": [
    {
     "name": "stdout",
     "output_type": "stream",
     "text": [
      "succeed.\n"
     ]
    }
   ],
   "source": [
    "def findMostLeftGE(arr, num):\n",
    "    if not arr:\n",
    "        return False\n",
    "    L = 0\n",
    "    R = len(arr)-1\n",
    "    ans = -1\n",
    "    while L <= R:\n",
    "        mid = L + ((R-L) >> 1)\n",
    "        if arr[mid] >= num:\n",
    "            ans = mid\n",
    "            R = mid - 1\n",
    "        else:\n",
    "            L = mid + 1\n",
    "    return ans\n",
    "\n",
    "def findMostLeftGETest(arr, num):\n",
    "    if not arr:\n",
    "        return False\n",
    "    index = len(arr)\n",
    "    while index-1 >= 0 and arr[index-1] >= num:\n",
    "        index -= 1\n",
    "    if index == len(arr):\n",
    "        return -1\n",
    "    return index\n",
    "\n",
    "testTime = 10000\n",
    "maxValue = 50\n",
    "maxLen = 200\n",
    "succeed=True\n",
    "for _ in range(testTime):\n",
    "    value = random.randint(0, maxValue)\n",
    "    length = random.randint(0, maxLen)\n",
    "    arr = sorted(generateRandomArr(length, value))\n",
    "    num = random.randint(-maxValue, maxValue)\n",
    "    ans1 = findMostLeftGE(arr, num)\n",
    "    ans2 = findMostLeftGETest(arr, num)\n",
    "    if ans1 != ans2:\n",
    "        print(num, arr, ans1, ans2)\n",
    "        print(\"something wrong.\")\n",
    "        succeed = False\n",
    "        break\n",
    "if succeed:\n",
    "    print(\"succeed.\")"
   ]
  },
  {
   "cell_type": "markdown",
   "metadata": {},
   "source": [
    "### 有序数组中找到<=num最右的位置¶"
   ]
  },
  {
   "cell_type": "code",
   "execution_count": 77,
   "metadata": {},
   "outputs": [
    {
     "name": "stdout",
     "output_type": "stream",
     "text": [
      "succeed.\n"
     ]
    }
   ],
   "source": [
    "def findMostRightLE(arr, num):\n",
    "    if not arr:\n",
    "        return -1\n",
    "    L = 0\n",
    "    R = len(arr) - 1\n",
    "    ans = -1\n",
    "    while L <= R:\n",
    "        mid = L +((R-L)>>1)\n",
    "        if arr[mid] <= num:\n",
    "            ans = mid\n",
    "            L = mid+1\n",
    "        else:\n",
    "            R = mid-1\n",
    "    return ans\n",
    "def findMostRightLETest(arr, num):\n",
    "    if not arr:\n",
    "        return -1\n",
    "    index = -1\n",
    "    while index + 1 <= len(arr)-1 and arr[index+1] <= num:\n",
    "        index += 1\n",
    "    return index\n",
    "\n",
    "testTime = 10000\n",
    "maxValue = 50\n",
    "maxLen = 200\n",
    "succeed=True\n",
    "for _ in range(testTime):\n",
    "    value = random.randint(0, maxValue)\n",
    "    length = random.randint(0, maxLen)\n",
    "    arr = sorted(generateRandomArr(length, value))\n",
    "    num = random.randint(-maxValue, maxValue)\n",
    "    ans1 = findMostRightLE(arr, num)\n",
    "    ans2 = findMostRightLETest(arr, num)\n",
    "    if ans1 != ans2:\n",
    "        print(num, arr, ans1, ans2)\n",
    "        print(\"something wrong.\")\n",
    "        succeed = False\n",
    "        break\n",
    "if succeed:\n",
    "    print(\"succeed.\")"
   ]
  },
  {
   "cell_type": "markdown",
   "metadata": {},
   "source": [
    "### 用单链表结构实现队列跟栈结构"
   ]
  },
  {
   "cell_type": "code",
   "execution_count": 78,
   "metadata": {
    "collapsed": true
   },
   "outputs": [],
   "source": [
    "class Node:\n",
    "    def __init__(self, val, nxt=None):\n",
    "        self.val = val\n",
    "        self.next = nxt"
   ]
  },
  {
   "cell_type": "code",
   "execution_count": 79,
   "metadata": {
    "collapsed": true
   },
   "outputs": [],
   "source": [
    "class NodeStack:\n",
    "    def __init__(self):\n",
    "        self.head = None\n",
    "        self.tail = None\n",
    "    def add(self, node):\n",
    "        if not self.head:\n",
    "            self.head = node\n",
    "            self.tail = node\n",
    "        else:\n",
    "            node.next = self.head\n",
    "            self.head = node\n",
    "    def pop(self):\n",
    "        if not self.head:\n",
    "            raise Exception(\"no node to pop.\")\n",
    "        else:\n",
    "            if self.tail == self.head:\n",
    "                node = self.tail\n",
    "                self.tail = None\n",
    "                self.head = None\n",
    "                return node\n",
    "            else:\n",
    "                new_head = self.head.next\n",
    "                node = self.head\n",
    "                node.next = None\n",
    "                self.head = new_head\n",
    "                if not self.head:\n",
    "                    self.tail = None\n",
    "                return node\n",
    "    def peek(self):\n",
    "        return self.head\n",
    "        \n",
    "                "
   ]
  },
  {
   "cell_type": "code",
   "execution_count": 80,
   "metadata": {
    "collapsed": true
   },
   "outputs": [],
   "source": [
    "class NodeQueue:\n",
    "    def __init__(self):\n",
    "        self.head = None\n",
    "        self.tail = None\n",
    "    def add(self, node):\n",
    "        if not self.head:\n",
    "            self.head = node\n",
    "            self.tail = node\n",
    "        else:\n",
    "            self.tail.next = node\n",
    "            self.tail = node\n",
    "    def pop(self):\n",
    "        if not self.head:\n",
    "            raise Exception(\"no node to pop.\")\n",
    "        else:\n",
    "            if self.tail == self.head:\n",
    "                node = self.tail\n",
    "                self.tail = None\n",
    "                self.head = None\n",
    "                return node\n",
    "            else:\n",
    "                new_head = self.head.next\n",
    "                node = self.head\n",
    "                node.next = None\n",
    "                self.head = new_head\n",
    "                return node\n",
    "    def peek(self):\n",
    "        return self.head\n",
    "        \n",
    "             "
   ]
  },
  {
   "cell_type": "markdown",
   "metadata": {},
   "source": [
    "### 用双链表实现双端队列"
   ]
  },
  {
   "cell_type": "code",
   "execution_count": 82,
   "metadata": {
    "collapsed": true
   },
   "outputs": [],
   "source": [
    "class DoubleLinkedNode:\n",
    "    def __init__(self, val, nxt=None, last=None):\n",
    "        self.val = val\n",
    "        self.next = nxt\n",
    "        self.last = last"
   ]
  },
  {
   "cell_type": "code",
   "execution_count": 83,
   "metadata": {
    "collapsed": true
   },
   "outputs": [],
   "source": [
    "class NodeDeque:\n",
    "    def __init__(self):\n",
    "        self.head = None\n",
    "        self.tail = None\n",
    "    def appendleft(self, node):\n",
    "        if not self.head:\n",
    "            self.head = node\n",
    "            self.tail = node\n",
    "        else:\n",
    "            node.next = self.head\n",
    "            self.head.last = node\n",
    "            self.head = node\n",
    "    def popleft(self, node):\n",
    "        if not self.head:\n",
    "            raise Exception(\"no node to pop.\")\n",
    "        else:\n",
    "            if self.head == self.tail:\n",
    "                node = self.head\n",
    "                self.head = None\n",
    "                self.tail = None\n",
    "                return node\n",
    "            else:\n",
    "                new_head = self.head.next\n",
    "                new_head.last = None\n",
    "                node = self.head\n",
    "                node.next = None\n",
    "                self.head = new_head\n",
    "                return node\n",
    "    def appendright(self, node):\n",
    "        if not self.tail:\n",
    "            self.head = node\n",
    "            self.tail = node\n",
    "        else:\n",
    "            self.tail.next = node\n",
    "            node.last = self.tail\n",
    "            self.tail = node\n",
    "    def popright(self):\n",
    "        if not self.tail:\n",
    "            raise Exception(\"no node to pop.\")\n",
    "        else:\n",
    "            if self.tail == self.head:\n",
    "                node = self.tail\n",
    "                self.tail = None\n",
    "                self.head = None\n",
    "                return node\n",
    "            else:\n",
    "                new_tail = self.tail.last\n",
    "                new_tail.next = None\n",
    "                node = self.tail\n",
    "                node.last = None\n",
    "                self.tail = new_tail\n",
    "                return node"
   ]
  },
  {
   "cell_type": "markdown",
   "metadata": {},
   "source": [
    "### 单链表和双链表如何反转"
   ]
  },
  {
   "cell_type": "code",
   "execution_count": 85,
   "metadata": {
    "collapsed": true
   },
   "outputs": [],
   "source": [
    "def reverseNode(head):\n",
    "    if not head:\n",
    "        return head\n",
    "    pre = None\n",
    "    cur = head\n",
    "    while cur:\n",
    "        nxt = cur.next\n",
    "        cur.next = pre\n",
    "        pre = cur\n",
    "        cur = nxt\n",
    "    return pre\n",
    "\n",
    "def printNode(head):\n",
    "    if not head:\n",
    "        return\n",
    "    cur = head\n",
    "    while cur:\n",
    "        print(cur.val, end=\"->\")\n",
    "        cur = cur.next\n",
    "    return \n",
    "        "
   ]
  },
  {
   "cell_type": "code",
   "execution_count": 98,
   "metadata": {
    "collapsed": true
   },
   "outputs": [],
   "source": [
    "head = Node(1)\n",
    "head.next = Node(2)\n",
    "head.next.next = Node(3)\n",
    "head.next.next.next = Node(4)\n",
    "head.next.next.next.next = Node(5)\n",
    "head.next.next.next.next.next = Node(6)\n",
    "head.next.next.next.next.next.next = Node(7)"
   ]
  },
  {
   "cell_type": "code",
   "execution_count": 96,
   "metadata": {},
   "outputs": [
    {
     "name": "stdout",
     "output_type": "stream",
     "text": [
      "1->2->3->4->5->6->7->\n",
      "7->6->5->4->3->2->1->"
     ]
    }
   ],
   "source": [
    "printNode(head)\n",
    "re = reverseNode(head)\n",
    "print()\n",
    "printNode(re)"
   ]
  },
  {
   "cell_type": "code",
   "execution_count": 97,
   "metadata": {
    "collapsed": true
   },
   "outputs": [],
   "source": [
    "def reverseDoubleNode(head):\n",
    "    if not head:\n",
    "        return head\n",
    "    pre = None\n",
    "    cur = head\n",
    "    while cur:\n",
    "        nxt = cur.next\n",
    "        cur.next = pre\n",
    "        cur.last = nxt\n",
    "        pre = cur\n",
    "        cur = nxt\n",
    "    return pre"
   ]
  },
  {
   "cell_type": "code",
   "execution_count": 100,
   "metadata": {
    "collapsed": true
   },
   "outputs": [],
   "source": [
    "def printNodeBack(head):\n",
    "    if not head:\n",
    "        return\n",
    "    cur = head\n",
    "    while cur.next:\n",
    "        cur = cur.next\n",
    "    while cur:\n",
    "        print(cur.val, end=\"->\")\n",
    "        cur = cur.last\n",
    "    return"
   ]
  },
  {
   "cell_type": "code",
   "execution_count": 106,
   "metadata": {
    "collapsed": true
   },
   "outputs": [],
   "source": [
    "head = DoubleLinkedNode(1)\n",
    "\n",
    "head.next = DoubleLinkedNode(2)\n",
    "head.next.last = head\n",
    "\n",
    "head.next.next = DoubleLinkedNode(3)\n",
    "head.next.next.last = head.next\n",
    "\n",
    "head.next.next.next = DoubleLinkedNode(4)\n",
    "head.next.next.next.last = head.next.next\n",
    "\n",
    "head.next.next.next.next = DoubleLinkedNode(5)\n",
    "head.next.next.next.next.last =  head.next.next.next\n",
    "\n",
    "head.next.next.next.next.next = DoubleLinkedNode(6)\n",
    "head.next.next.next.next.next.last = head.next.next.next.next\n",
    "\n",
    "head.next.next.next.next.next.next = DoubleLinkedNode(7)\n",
    "head.next.next.next.next.next.next.last = head.next.next.next.next.next"
   ]
  },
  {
   "cell_type": "code",
   "execution_count": 107,
   "metadata": {},
   "outputs": [
    {
     "name": "stdout",
     "output_type": "stream",
     "text": [
      "1->2->3->4->5->6->7->\n",
      "7->6->5->4->3->2->1->\n",
      "7->6->5->4->3->2->1->\n",
      "1->2->3->4->5->6->7->"
     ]
    }
   ],
   "source": [
    "printNode(head)\n",
    "print()\n",
    "printNodeBack(head)\n",
    "\n",
    "re = reverseDoubleNode(head)\n",
    "print()\n",
    "printNode(re)\n",
    "print()\n",
    "printNodeBack(re)"
   ]
  },
  {
   "cell_type": "markdown",
   "metadata": {},
   "source": [
    "### K个节点的组内逆序调整"
   ]
  },
  {
   "cell_type": "code",
   "execution_count": 123,
   "metadata": {
    "collapsed": true
   },
   "outputs": [],
   "source": [
    "#return k end node\n",
    "def getKgroup(head, k):\n",
    "    #make sure head is not None\n",
    "    while k > 1 and head:  #head is the last one\n",
    "        k -= 1\n",
    "        head = head.next\n",
    "    return head\n",
    "def reverseTillEnd(head, end):\n",
    "    pre = None\n",
    "    cur = head\n",
    "    while cur != end:\n",
    "        nxt = cur.next\n",
    "        cur.next = pre\n",
    "        pre = cur\n",
    "        cur = nxt\n",
    "    #cur == end\n",
    "    return pre\n",
    "def getKReverse(head, k):\n",
    "    if not head:\n",
    "        return head\n",
    "    end = getKgroup(head, k)\n",
    "    if not end: #不足一组\n",
    "        return head\n",
    "    \n",
    "    nxt = end.next\n",
    "    pre = head\n",
    "    head = reverseTillEnd(head, nxt)\n",
    "    pre.next = nxt\n",
    "    while nxt:\n",
    "        end = getKgroup(nxt, k)#不足\n",
    "        if not end:\n",
    "            return head\n",
    "        else:\n",
    "            end = end.next\n",
    "            pre.next = reverseTillEnd(nxt, end)\n",
    "            nxt.next = end\n",
    "            pre = nxt\n",
    "            nxt = end   \n",
    "    return head"
   ]
  },
  {
   "cell_type": "code",
   "execution_count": 138,
   "metadata": {
    "collapsed": true
   },
   "outputs": [],
   "source": [
    "#return k end node\n",
    "def getKgroup(head, k):\n",
    "    #make sure head is not None\n",
    "    while k > 1 and head:  #head is the last one\n",
    "        k -= 1\n",
    "        head = head.next\n",
    "    return head\n",
    "def reverseTillEnd2(head, end):\n",
    "    pre = None\n",
    "    cur = head\n",
    "    end = end.next\n",
    "    while cur != end:\n",
    "        nxt = cur.next\n",
    "        cur.next = pre\n",
    "        pre = cur\n",
    "        cur = nxt\n",
    "    head.next = end #连好end再返回\n",
    "    #cur == end\n",
    "    return\n",
    "def getKReverse2(head, k):\n",
    "    if not head:\n",
    "        return head\n",
    "    end = getKgroup(head, k)\n",
    "    if not end: #不足一组\n",
    "        return head  \n",
    "    \n",
    "    start = head\n",
    "    reverseTillEnd2(start, end) #start已和end.next连好， 且end已知为头\n",
    "    head = end\n",
    "    \n",
    "    lastEnd = start\n",
    "    while lastEnd.next:\n",
    "        start = lastEnd.next\n",
    "        end = getKgroup(start, k)#不足\n",
    "        if not end:\n",
    "            return head\n",
    "        else:\n",
    "            \n",
    "            reverseTillEnd2(start, end)\n",
    "            lastEnd.next = end\n",
    "            lastEnd = start\n",
    "    return head"
   ]
  },
  {
   "cell_type": "code",
   "execution_count": 139,
   "metadata": {},
   "outputs": [
    {
     "name": "stdout",
     "output_type": "stream",
     "text": [
      "1->2->3->4->5->6->7->"
     ]
    }
   ],
   "source": [
    "head = Node(1)\n",
    "head.next = Node(2)\n",
    "head.next.next = Node(3)\n",
    "head.next.next.next = Node(4)\n",
    "head.next.next.next.next = Node(5)\n",
    "head.next.next.next.next.next = Node(6)\n",
    "head.next.next.next.next.next.next = Node(7)\n",
    "cur = getKReverse2(head,1)\n",
    "printNode(cur)"
   ]
  },
  {
   "cell_type": "code",
   "execution_count": 126,
   "metadata": {},
   "outputs": [
    {
     "name": "stdout",
     "output_type": "stream",
     "text": [
      "1->2->3->4->5->6->7->"
     ]
    }
   ],
   "source": [
    "head = Node(1)\n",
    "head.next = Node(2)\n",
    "head.next.next = Node(3)\n",
    "head.next.next.next = Node(4)\n",
    "head.next.next.next.next = Node(5)\n",
    "head.next.next.next.next.next = Node(6)\n",
    "head.next.next.next.next.next.next = Node(7)\n",
    "cur = getKReverse(head,1)\n",
    "printNode(cur)"
   ]
  },
  {
   "cell_type": "markdown",
   "metadata": {},
   "source": [
    "### 两个有序链表的合并"
   ]
  },
  {
   "cell_type": "code",
   "execution_count": 143,
   "metadata": {
    "collapsed": true
   },
   "outputs": [],
   "source": [
    "import time\n",
    "start_time = time.time()"
   ]
  },
  {
   "cell_type": "code",
   "execution_count": 140,
   "metadata": {
    "collapsed": true
   },
   "outputs": [],
   "source": [
    "def mergeTwoNodeList(node1, node2):\n",
    "    if not node1:\n",
    "        return node2\n",
    "    if not node2:\n",
    "        return node1\n",
    "    head = node1 if node1.val <= node2.val else node2\n",
    "    if head == node1:\n",
    "        node1 = node1.next\n",
    "    else:\n",
    "        node2 = node2.next\n",
    "    cur = head\n",
    "    while node1 and node2:\n",
    "        if node1.val <= node2.val:\n",
    "            cur.next = node1\n",
    "            node1 = node1.next\n",
    "        else:\n",
    "            cur.next = node2\n",
    "            node2 = node2.next\n",
    "        cur = cur.next\n",
    "    while node1:\n",
    "        cur.next = node1\n",
    "        node1 = node1.next\n",
    "        cur = cur.next\n",
    "    while node2:\n",
    "        cur.next = node2\n",
    "        node2 = node2.next\n",
    "        cur = cur.next\n",
    "    return head"
   ]
  },
  {
   "cell_type": "code",
   "execution_count": 141,
   "metadata": {},
   "outputs": [
    {
     "name": "stdout",
     "output_type": "stream",
     "text": [
      "1->2->3->4->6->7->8->8->9->11->14->14->15->20->"
     ]
    }
   ],
   "source": [
    "head1 = Node(1)\n",
    "head1.next = Node(4)\n",
    "head1.next.next = Node(6)\n",
    "head1.next.next.next = Node(8)\n",
    "head1.next.next.next.next = Node(9)\n",
    "head1.next.next.next.next.next = Node(11)\n",
    "head1.next.next.next.next.next.next = Node(15)\n",
    "\n",
    "head2 = Node(2)\n",
    "head2.next = Node(3)\n",
    "head2.next.next = Node(7)\n",
    "head2.next.next.next = Node(8)\n",
    "head2.next.next.next.next = Node(14)\n",
    "head2.next.next.next.next.next = Node(14)\n",
    "head2.next.next.next.next.next.next = Node(20)\n",
    "\n",
    "ans = mergeTwoNodeList(head1, head2)\n",
    "printNode(ans)"
   ]
  },
  {
   "cell_type": "code",
   "execution_count": 149,
   "metadata": {},
   "outputs": [
    {
     "name": "stdout",
     "output_type": "stream",
     "text": [
      "used time: 0.09\n"
     ]
    }
   ],
   "source": [
    "finish_time = time.time()\n",
    "print(\"used time: {}\".format(round((finish_time - start_time) / 60.0,2)))\n",
    "start_time = finish_time"
   ]
  },
  {
   "cell_type": "markdown",
   "metadata": {},
   "source": [
    "### 用位运算实现加减乘除\n",
    "* 链接 ：https://blog.csdn.net/xtj332/article/details/6639009?spm=1001.2101.3001.6650.11&utm_medium=distribute.pc_relevant.none-task-blog-2%7Edefault%7EBlogCommendFromBaidu%7Edefault-11-6639009-blog-104592314.pc_relevant_default&depth_1-utm_source=distribute.pc_relevant.none-task-blog-2%7Edefault%7EBlogCommendFromBaidu%7Edefault-11-6639009-blog-104592314.pc_relevant_default&utm_relevant_index=16"
   ]
  },
  {
   "cell_type": "code",
   "execution_count": 168,
   "metadata": {
    "scrolled": true
   },
   "outputs": [
    {
     "name": "stdout",
     "output_type": "stream",
     "text": [
      "33\n"
     ]
    }
   ],
   "source": [
    "a = 0x100000000\n",
    "count = 0\n",
    "while a != 0:\n",
    "    a = a // 2\n",
    "    count+=1\n",
    "print(count)\n"
   ]
  },
  {
   "cell_type": "code",
   "execution_count": null,
   "metadata": {
    "collapsed": true
   },
   "outputs": [],
   "source": [
    "15\n",
    "#        0x7FFFFFFF   #4*7=28 + 3 = 31位\n",
    "# 1111 = 8 + 4 + 2 + 1 = 15 = F\n",
    "#  111 = 4 + 2 + 1     = 7  = 7"
   ]
  },
  {
   "cell_type": "code",
   "execution_count": 167,
   "metadata": {},
   "outputs": [
    {
     "data": {
      "text/plain": [
       "4294967296"
      ]
     },
     "execution_count": 167,
     "metadata": {},
     "output_type": "execute_result"
    }
   ],
   "source": [
    "0x100000000 # 2^32"
   ]
  },
  {
   "cell_type": "code",
   "execution_count": 169,
   "metadata": {
    "scrolled": true
   },
   "outputs": [
    {
     "data": {
      "text/plain": [
       "-2"
      ]
     },
     "execution_count": 169,
     "metadata": {},
     "output_type": "execute_result"
    }
   ],
   "source": [
    "~1"
   ]
  },
  {
   "cell_type": "code",
   "execution_count": 188,
   "metadata": {},
   "outputs": [],
   "source": [
    "# 0000011   3\n",
    "# 0000111   7\n",
    "# -------\n",
    "# 0000100\n",
    "# 0000110\n",
    "# -------\n",
    "# 0000010\n",
    "# 0001000\n",
    "# -------\n",
    "# 0001010\n",
    "# 0000000\n",
    "\n",
    "\n",
    "def add(a, b):\n",
    "    #非负\n",
    "    MASK = 0x100000000  #2 ^ 32\n",
    "    MAX_INT = 0x7FFFFFFF\n",
    "    MIN_INT = 0x7FFFFFFF + 1\n",
    "\n",
    "    while b != 0:\n",
    "        carry = (a & b) << 1 \n",
    "        a = (a ^ b) % MASK\n",
    "        b = carry % MASK\n",
    "        \n",
    "    return a if a <= MAX_INT else ~(a ^ MASK)"
   ]
  },
  {
   "cell_type": "code",
   "execution_count": 190,
   "metadata": {},
   "outputs": [
    {
     "data": {
      "text/plain": [
       "113"
      ]
     },
     "execution_count": 190,
     "metadata": {},
     "output_type": "execute_result"
    }
   ],
   "source": [
    "add(104,9)"
   ]
  },
  {
   "cell_type": "code",
   "execution_count": null,
   "metadata": {
    "collapsed": true
   },
   "outputs": [],
   "source": []
  },
  {
   "cell_type": "code",
   "execution_count": 191,
   "metadata": {},
   "outputs": [
    {
     "name": "stdout",
     "output_type": "stream",
     "text": [
      "used time: 48.26\n"
     ]
    }
   ],
   "source": [
    "finish_time = time.time()\n",
    "print(\"used time: {}\".format(round((finish_time - start_time) / 60.0,2)))\n",
    "start_time = finish_time"
   ]
  },
  {
   "cell_type": "markdown",
   "metadata": {},
   "source": [
    "### 合并多个有序链表"
   ]
  },
  {
   "cell_type": "code",
   "execution_count": 203,
   "metadata": {},
   "outputs": [],
   "source": [
    "# Definition for singly-linked list.\n",
    "# class ListNode:\n",
    "#     def __init__(self, val=0, next=None):\n",
    "#         self.val = val\n",
    "#         self.next = next\n",
    "class Solution:\n",
    "    def mergeKLists(self, lists):\n",
    "    \n",
    "        class NodeExtension:\n",
    "            def __lt__(self, other):\n",
    "                return self.val <= other.val\n",
    "\n",
    "        import heapq\n",
    "    \n",
    "        ListNode.__lt__ = NodeExtension.__lt__\n",
    "        ListNode.__eq__ = NodeExtension.__eq__\n",
    "    \n",
    "        if not lists:\n",
    "            return None\n",
    "        wait = list()\n",
    "        for node in lists:\n",
    "            if node: #坑，有可能是[[], [1]]\n",
    "                heapq.heappush(wait, node)\n",
    "        if not wait: #坑，有可能是[[], []] 没有head\n",
    "            return None\n",
    "        head = heapq.heappop(wait)\n",
    "        if head.next is not None:\n",
    "            heapq.heappush(wait, head.next)\n",
    "        cur = head\n",
    "        while wait:\n",
    "            node = heapq.heappop(wait)\n",
    "            cur.next = node\n",
    "            cur = cur.next\n",
    "            if node.next:     \n",
    "                heapq.heappush(wait, node.next)\n",
    "        return head"
   ]
  },
  {
   "cell_type": "code",
   "execution_count": 204,
   "metadata": {},
   "outputs": [
    {
     "name": "stdout",
     "output_type": "stream",
     "text": [
      "used time: 25.52\n"
     ]
    }
   ],
   "source": [
    "finish_time = time.time()\n",
    "print(\"used time: {}\".format(round((finish_time - start_time) / 60.0,2)))\n",
    "start_time = finish_time"
   ]
  },
  {
   "cell_type": "code",
   "execution_count": 208,
   "metadata": {},
   "outputs": [],
   "source": [
    "# Definition for a binary tree node.\n",
    "#超时\n",
    "class TreeNode:\n",
    "    def __init__(self, val=0, left=None, right=None):\n",
    "        self.val = val\n",
    "        self.left = left\n",
    "        self.right = right\n",
    "        \n",
    "class Solution:\n",
    "    def isSameTree(self, p: TreeNode, q: TreeNode) -> bool:\n",
    "        def preOrder(node, pre):\n",
    "            if not node:\n",
    "                return pre\n",
    "            pre += str(node.val)\n",
    "            pre += preOrder(node.left, pre)\n",
    "            pre += preOrder(node.right, pre)\n",
    "            return pre\n",
    "        preP = preOrder(p, \"\")\n",
    "        preQ = preOrder(q, \"\")\n",
    "        return preP==preQ\n",
    "            "
   ]
  },
  {
   "cell_type": "code",
   "execution_count": 209,
   "metadata": {
    "collapsed": true
   },
   "outputs": [],
   "source": [
    "# Definition for a binary tree node.\n",
    "# class TreeNode:\n",
    "#     def __init__(self, val=0, left=None, right=None):\n",
    "#         self.val = val\n",
    "#         self.left = left\n",
    "#         self.right = right\n",
    "class Solution:\n",
    "    def isSameTree(self, p: TreeNode, q: TreeNode) -> bool:\n",
    "        if not p and not q:\n",
    "            return True\n",
    "        if not p or not q:\n",
    "            return False\n",
    "        if p.val != q.val:\n",
    "            return False\n",
    "        return self.isSameTree(p.left, q.left) and self.isSameTree(p.right, q.right)"
   ]
  },
  {
   "cell_type": "code",
   "execution_count": 210,
   "metadata": {},
   "outputs": [
    {
     "name": "stdout",
     "output_type": "stream",
     "text": [
      "used time: 12.99\n"
     ]
    }
   ],
   "source": [
    "finish_time = time.time()\n",
    "print(\"used time: {}\".format(round((finish_time - start_time) / 60.0,2)))\n",
    "start_time = finish_time"
   ]
  },
  {
   "cell_type": "markdown",
   "metadata": {},
   "source": [
    "### 判断两树是否镜面"
   ]
  },
  {
   "cell_type": "code",
   "execution_count": 215,
   "metadata": {},
   "outputs": [],
   "source": [
    "# Definition for a binary tree node.\n",
    "# class TreeNode:\n",
    "#     def __init__(self, val=0, left=None, right=None):\n",
    "#         self.val = val\n",
    "#         self.left = left\n",
    "#         self.right = right\n",
    "class Solution:\n",
    "    def isSymmetric(self, root: Optional[TreeNode]) -> bool:\n",
    "\n",
    "        if not root:\n",
    "            return True\n",
    "        return self.isMirror(root.left, root.right)\n",
    "    \n",
    "    def isMirror(self, left, right):\n",
    "        if not left and not right:\n",
    "            return True\n",
    "        if not left or not right:\n",
    "            return False\n",
    "        return left.val == right.val and self.isMirror(left.left, right.right) and self.isMirror(left.right, right.left)"
   ]
  },
  {
   "cell_type": "code",
   "execution_count": 219,
   "metadata": {},
   "outputs": [],
   "source": [
    "#方法二 层遍历\n",
    "# Definition for a binary tree node.\n",
    "# class TreeNode:\n",
    "#     def __init__(self, val=0, left=None, right=None):\n",
    "#         self.val = val\n",
    "#         self.left = left\n",
    "#         self.right = right\n",
    "class Solution:\n",
    "    def isSymmetric(self, root: TreeNode) -> bool:\n",
    "\n",
    "        if not root:\n",
    "            return True\n",
    "        allNode = list()\n",
    "        if not root.left and not root.right:\n",
    "            return True\n",
    "        if not root.left or not root.right:\n",
    "            return False\n",
    "        return self.isMirror2(root.left, root.right)\n",
    "    \n",
    "    def isMirror2(self, left, right):\n",
    "        leftlist = [left]\n",
    "        rightlist = [right]\n",
    "        while leftlist and rightlist:\n",
    "            curL = leftlist.pop(0)\n",
    "            curR = rightlist.pop(0)\n",
    "            if curL is None and curR is None:\n",
    "                continue\n",
    "            if curL is None and curR is not None:\n",
    "                return False\n",
    "            if curR is None and curL is not None:\n",
    "                return False\n",
    "            if curL.val != curR.val:\n",
    "                return False\n",
    "            if curL.left:\n",
    "                leftlist.append(curL.left)\n",
    "            else:\n",
    "                leftlist.append(None)\n",
    "            if curL.right:\n",
    "                leftlist.append(curL.right)\n",
    "            else:\n",
    "                leftlist.append(None)\n",
    "            if curR.right:\n",
    "                rightlist.append(curR.right)\n",
    "            else:\n",
    "                rightlist.append(None)\n",
    "            if curR.left:\n",
    "                rightlist.append(curR.left)\n",
    "            else:\n",
    "                rightlist.append(None)\n",
    "        if leftlist:\n",
    "            return False\n",
    "        if rightlist:\n",
    "            return False\n",
    "        return True"
   ]
  },
  {
   "cell_type": "code",
   "execution_count": 218,
   "metadata": {},
   "outputs": [
    {
     "name": "stdout",
     "output_type": "stream",
     "text": [
      "used time: 19.75\n"
     ]
    }
   ],
   "source": [
    "finish_time = time.time()\n",
    "print(\"used time: {}\".format(round((finish_time - start_time) / 60.0,2)))\n",
    "start_time = finish_time"
   ]
  },
  {
   "cell_type": "markdown",
   "metadata": {},
   "source": [
    "### 返回一棵树的最大深度"
   ]
  },
  {
   "cell_type": "code",
   "execution_count": 221,
   "metadata": {},
   "outputs": [],
   "source": [
    "# Definition for a binary tree node.\n",
    "# class TreeNode:\n",
    "#     def __init__(self, val=0, left=None, right=None):\n",
    "#         self.val = val\n",
    "#         self.left = left\n",
    "#         self.right = right\n",
    "class Solution:\n",
    "    def maxDepth(self, root: TreeNode) -> int:\n",
    "        if not root:\n",
    "            return 0\n",
    "        return max(self.maxDepth(root.left), self.maxDepth(root.right)) + 1"
   ]
  },
  {
   "cell_type": "code",
   "execution_count": 222,
   "metadata": {},
   "outputs": [
    {
     "name": "stdout",
     "output_type": "stream",
     "text": [
      "used time: 2.22\n"
     ]
    }
   ],
   "source": [
    "finish_time = time.time()\n",
    "print(\"used time: {}\".format(round((finish_time - start_time) / 60.0,2)))\n",
    "start_time = finish_time"
   ]
  },
  {
   "cell_type": "markdown",
   "metadata": {},
   "source": [
    "### 从前序与中序遍历序列构造二叉树"
   ]
  },
  {
   "cell_type": "code",
   "execution_count": 228,
   "metadata": {},
   "outputs": [],
   "source": [
    "# Definition for a binary tree node.\n",
    "# class TreeNode:\n",
    "#     def __init__(self, val=0, left=None, right=None):\n",
    "#         self.val = val\n",
    "#         self.left = left\n",
    "#         self.right = right\n",
    "class Solution:\n",
    "    def buildTree(self, preorder, inorder) -> TreeNode:\n",
    "        if not preorder or not inorder:\n",
    "            return None\n",
    "        head = self.build(preorder, inorder, 0, len(preorder)-1, 0, len(inorder)-1)\n",
    "        return head\n",
    "    def build(self, preorder, inorder, L1, R1, L2, R2):\n",
    "        if L1 > R1:\n",
    "            return None\n",
    "        head = TreeNode(preorder[L1])\n",
    "        if L1 == R1:\n",
    "            return head\n",
    "        mid = inorder.index(preorder[L1])\n",
    "        head.left = self.build(preorder, inorder, L1+1, L1+mid-L2, L2, mid-1)\n",
    "        head.right = self.build(preorder, inorder, L1+mid-L2+1, R1, mid+1, R2)\n",
    "        return head\n",
    "        "
   ]
  },
  {
   "cell_type": "markdown",
   "metadata": {},
   "source": [
    "### 二叉树按层遍历"
   ]
  },
  {
   "cell_type": "markdown",
   "metadata": {},
   "source": [
    "### 从下到上添加"
   ]
  },
  {
   "cell_type": "code",
   "execution_count": 232,
   "metadata": {},
   "outputs": [
    {
     "name": "stdout",
     "output_type": "stream",
     "text": [
      "used time: 43.09\n"
     ]
    }
   ],
   "source": [
    "finish_time = time.time()\n",
    "print(\"used time: {}\".format(round((finish_time - start_time) / 60.0,2)))\n",
    "start_time = finish_time"
   ]
  },
  {
   "cell_type": "code",
   "execution_count": 244,
   "metadata": {},
   "outputs": [],
   "source": [
    "# Definition for a binary tree node.\n",
    "# class TreeNode:\n",
    "#     def __init__(self, val=0, left=None, right=None):\n",
    "#         self.val = val\n",
    "#         self.left = left\n",
    "#         self.right = right\n",
    "from collections import deque\n",
    "class Solution:\n",
    "    def levelOrderBottom(self, root: TreeNode):\n",
    "        if not root:\n",
    "            return list()\n",
    "        ans = list()\n",
    "        queue = deque()\n",
    "        queue.append(root)\n",
    "        last_node = root\n",
    "        next_node = None\n",
    "        cur_level = list()\n",
    "        while queue:\n",
    "            cur = queue.popleft()\n",
    "            cur_level.append(cur.val)\n",
    "            if cur.left:\n",
    "                queue.append(cur.left)\n",
    "                next_node = cur.left\n",
    "            if cur.right:\n",
    "                queue.append(cur.right)\n",
    "                next_node = cur.right\n",
    "            if cur == last_node:\n",
    "                ans.append(cur_level[:])\n",
    "                cur_level = list()\n",
    "                last_node = next_node\n",
    "            \n",
    "        ans.reverse()\n",
    "        return ans\n",
    "            \n",
    "            \n",
    "        "
   ]
  },
  {
   "cell_type": "code",
   "execution_count": 248,
   "metadata": {},
   "outputs": [
    {
     "name": "stdout",
     "output_type": "stream",
     "text": [
      "used time: 28.49\n"
     ]
    }
   ],
   "source": [
    "finish_time = time.time()\n",
    "print(\"used time: {}\".format(round((finish_time - start_time) / 60.0,2)))\n",
    "start_time = finish_time"
   ]
  },
  {
   "cell_type": "code",
   "execution_count": null,
   "metadata": {
    "collapsed": true
   },
   "outputs": [],
   "source": [
    "# Definition for a binary tree node.\n",
    "# class TreeNode:\n",
    "#     def __init__(self, val=0, left=None, right=None):\n",
    "#         self.val = val\n",
    "#         self.left = left\n",
    "#         self.right = right\n",
    "from collections import deque\n",
    "class Solution:\n",
    "    def levelOrderBottom(self, root: TreeNode):\n",
    "        if not root:\n",
    "            return list()\n",
    "        ans = list()\n",
    "        self.dfs(root, 0, ans)\n",
    "        return ans\n",
    "    def dfs(self, root, depth, ans):\n",
    "        if not root:\n",
    "            return \n",
    "        if depth == len(ans):\n",
    "            ans.insert(0, list())\n",
    "        ans[len(ans) - depth -1].append(root.val)\n",
    "        self.dfs(root.left, depth+1, ans)\n",
    "        self.dfs(root.right, depth+1, ans)        \n",
    "            \n",
    "            \n",
    "        "
   ]
  },
  {
   "cell_type": "code",
   "execution_count": 249,
   "metadata": {},
   "outputs": [
    {
     "name": "stdout",
     "output_type": "stream",
     "text": [
      "used time: 19.98\n"
     ]
    }
   ],
   "source": [
    "finish_time = time.time()\n",
    "print(\"used time: {}\".format(round((finish_time - start_time) / 60.0,2)))\n",
    "start_time = finish_time"
   ]
  },
  {
   "cell_type": "markdown",
   "metadata": {},
   "source": [
    "### 是否平衡二叉树 "
   ]
  },
  {
   "cell_type": "code",
   "execution_count": 251,
   "metadata": {
    "collapsed": true
   },
   "outputs": [],
   "source": [
    "# Definition for a binary tree node.\n",
    "# class TreeNode:\n",
    "#     def __init__(self, val=0, left=None, right=None):\n",
    "#         self.val = val\n",
    "#         self.left = left\n",
    "#         self.right = right\n",
    "class Solution:\n",
    "    def isBalanced(self, root: TreeNode) -> bool:\n",
    "        if not root:\n",
    "            return True\n",
    "        ans,_ = self.isB(root)\n",
    "        return ans\n",
    "    def isB(self, root):\n",
    "        if not root:\n",
    "            return True, 0\n",
    "        left, leftD = self.isB(root.left)\n",
    "        right, rightD = self.isB(root.right)\n",
    "        if not left or not right:\n",
    "            return False, 0 #skip\n",
    "        if abs(leftD - rightD) > 1:\n",
    "            return False, 0 #skip\n",
    "        depth = max(leftD, rightD) + 1\n",
    "        return True, depth"
   ]
  },
  {
   "cell_type": "code",
   "execution_count": 252,
   "metadata": {},
   "outputs": [
    {
     "name": "stdout",
     "output_type": "stream",
     "text": [
      "used time: 5.21\n"
     ]
    }
   ],
   "source": [
    "finish_time = time.time()\n",
    "print(\"used time: {}\".format(round((finish_time - start_time) / 60.0,2)))\n",
    "start_time = finish_time"
   ]
  },
  {
   "cell_type": "markdown",
   "metadata": {},
   "source": [
    "### 能否组成路径和\n",
    "给你二叉树的根节点 root 和一个表示目标和的整数 targetSum 。\n",
    "判断该树中是否存在 根节点到叶子节点 的路径"
   ]
  },
  {
   "cell_type": "code",
   "execution_count": 255,
   "metadata": {},
   "outputs": [],
   "source": [
    "# Definition for a binary tree node.\n",
    "# class TreeNode:\n",
    "#     def __init__(self, val=0, left=None, right=None):\n",
    "#         self.val = val\n",
    "#         self.left = left\n",
    "#         self.right = right\n",
    "class Solution:\n",
    "    def hasPathSum(self, root: TreeNode, targetSum: int) -> bool:\n",
    "        return self.pathSum(root, targetSum)\n",
    "    \n",
    "    def pathSum(self, root, rest):\n",
    "        if not root:\n",
    "            return False\n",
    "        rest -= root.val\n",
    "        if not root.left and not root.right:\n",
    "            return rest == 0\n",
    "        left = self.pathSum(root.left, rest)\n",
    "        right = self.pathSum(root.right, rest)\n",
    "        return left or right"
   ]
  },
  {
   "cell_type": "code",
   "execution_count": 256,
   "metadata": {},
   "outputs": [
    {
     "name": "stdout",
     "output_type": "stream",
     "text": [
      "used time: 17.23\n"
     ]
    }
   ],
   "source": [
    "finish_time = time.time()\n",
    "print(\"used time: {}\".format(round((finish_time - start_time) / 60.0,2)))\n",
    "start_time = finish_time"
   ]
  },
  {
   "cell_type": "markdown",
   "metadata": {},
   "source": [
    "### 返回达标路径和的所有路径\n",
    "给你二叉树的根节点 root 和一个整数目标和 targetSum ，找出所有 从根节点到叶子节点 路径总和等于给定目标和的路径。"
   ]
  },
  {
   "cell_type": "code",
   "execution_count": 98,
   "metadata": {
    "collapsed": true
   },
   "outputs": [],
   "source": [
    "class Solution:\n",
    "    def pathSum(self, root, targetSum):\n",
    "        ans = list()\n",
    "        if not root:\n",
    "            return ans\n",
    "        self.path(root, [], targetSum, ans)\n",
    "        return ans\n",
    "    def path(self, node, pre, rest, ans):\n",
    "        if not node:\n",
    "            return \n",
    "        if not node.left and not node.right and node.val == rest:\n",
    "            ans.append(pre+[node.val]) #这里实际新建了list()\n",
    "        self.path(node.left, pre+[node.val], rest-node.val, ans)\n",
    "        self.path(node.right, pre+[node.val], rest-node.val, ans)\n",
    "        return\n",
    "            "
   ]
  },
  {
   "cell_type": "code",
   "execution_count": null,
   "metadata": {
    "collapsed": true
   },
   "outputs": [],
   "source": [
    "#练习回溯\n",
    "\n",
    "class Solution:\n",
    "    def pathSum(self, root, targetSum):\n",
    "        ans = list()\n",
    "        if not root:\n",
    "            return ans\n",
    "        self.path(root, [], targetSum, ans)\n",
    "        return ans\n",
    "    def path(self, node, pre, rest, ans):\n",
    "        if not node:\n",
    "            return \n",
    "        if not node.left and not node.right and node.val == rest:\n",
    "            ans.append(pre+[node.val]) #这里实际新建了list()\n",
    "        pre += [node.val]\n",
    "        self.path(node.left, pre, rest-node.val, ans)\n",
    "        self.path(node.right, pre, rest-node.val, ans)\n",
    "        pre.pop()\n",
    "        return\n",
    "            "
   ]
  },
  {
   "cell_type": "code",
   "execution_count": 257,
   "metadata": {},
   "outputs": [
    {
     "name": "stdout",
     "output_type": "stream",
     "text": [
      "used time: 32.32\n"
     ]
    }
   ],
   "source": [
    "finish_time = time.time()\n",
    "print(\"used time: {}\".format(round((finish_time - start_time) / 60.0,2)))\n",
    "start_time = finish_time"
   ]
  },
  {
   "cell_type": "markdown",
   "metadata": {},
   "source": [
    "### 排序"
   ]
  },
  {
   "cell_type": "code",
   "execution_count": 264,
   "metadata": {},
   "outputs": [
    {
     "name": "stdout",
     "output_type": "stream",
     "text": [
      "succeed.\n"
     ]
    }
   ],
   "source": [
    "def swap(arr, i, j):\n",
    "    t = arr[i]\n",
    "    arr[i] = arr[j]\n",
    "    arr[j] = t\n",
    "    return\n",
    "def selectionSort(arr):\n",
    "    if not arr:\n",
    "        return \n",
    "    for index in range(len(arr)):\n",
    "        min_index = index\n",
    "        for move in range(index + 1, len(arr)):\n",
    "            if arr[min_index] > arr[move]:\n",
    "                min_index = move\n",
    "        swap(arr, index, min_index)\n",
    "    return \n",
    "\n",
    "def bubbleSort(arr):\n",
    "    if not arr:\n",
    "        return arr\n",
    "    for i in range(len(arr), -1, -1):\n",
    "        for j in range(1, i):\n",
    "            if arr[j-1] > arr[j]:\n",
    "                swap(arr, j-1, j)\n",
    "    return\n",
    "\n",
    "def insertSort(arr):\n",
    "    if not arr:\n",
    "        return arr\n",
    "    for i in range(1, len(arr)):\n",
    "        for j in range(i, 0, -1):\n",
    "            if arr[j-1] > arr[j]:\n",
    "                swap(arr, j-1, j)\n",
    "    return \n",
    "\n",
    "testTime = 10000\n",
    "maxValue = 50\n",
    "maxLen = 5\n",
    "succeed=True\n",
    "for _ in range(testTime):\n",
    "    value = random.randint(0, maxValue)\n",
    "    length = random.randint(0, maxLen)\n",
    "    arr = generateRandomArr(length, value)\n",
    "    arr1 = arr[:]\n",
    "    arr2 = arr[:]\n",
    "    arr3 = arr[:]\n",
    "    selectionSort(arr1)\n",
    "    bubbleSort(arr2)\n",
    "    insertSort(arr3) \n",
    "    if arr1 != arr2 or arr2 != arr3:\n",
    "        print(arr1, arr2,arr3)\n",
    "        print(\"something wrong.\")\n",
    "        succeed = False\n",
    "        break\n",
    "if succeed:\n",
    "    print(\"succeed.\")"
   ]
  },
  {
   "cell_type": "code",
   "execution_count": 265,
   "metadata": {},
   "outputs": [
    {
     "name": "stdout",
     "output_type": "stream",
     "text": [
      "used time: 151.34\n"
     ]
    }
   ],
   "source": [
    "finish_time = time.time()\n",
    "print(\"used time: {}\".format(round((finish_time - start_time) / 60.0,2)))\n",
    "start_time = finish_time"
   ]
  },
  {
   "cell_type": "markdown",
   "metadata": {},
   "source": [
    "### 局部最小值问题"
   ]
  },
  {
   "cell_type": "code",
   "execution_count": null,
   "metadata": {
    "collapsed": true
   },
   "outputs": [],
   "source": [
    "def findMin(arr):\n",
    "    if not arr:\n",
    "        return -1\n",
    "    if len(arr) == 1:\n",
    "        return 0\n",
    "    if arr[0] < arr[1]:\n",
    "        return 0\n",
    "    if arr[-1] < arr[-2]:\n",
    "        return len(arr)-1\n",
    "    L = 1\n",
    "    R = len(arr)-2\n",
    "    mid = L+((R-L)>>1)\n",
    "    while L < R:\n",
    "        if arr[mid] < arr[mid-1] and arr[mid] < arr[mid+1]:\n",
    "            return mid\n",
    "        elif arr[mid] > arr[mid-1]:\n",
    "            R = mid-1\n",
    "        elif arr[mid] > arr[mid+1]\n",
    "            L = mid+1\n",
    "    return left\n",
    "        "
   ]
  },
  {
   "cell_type": "code",
   "execution_count": 266,
   "metadata": {},
   "outputs": [
    {
     "name": "stdout",
     "output_type": "stream",
     "text": [
      "used time: 21.36\n"
     ]
    }
   ],
   "source": [
    "finish_time = time.time()\n",
    "print(\"used time: {}\".format(round((finish_time - start_time) / 60.0,2)))\n",
    "start_time = finish_time"
   ]
  },
  {
   "cell_type": "markdown",
   "metadata": {},
   "source": [
    "### 一个数组中出现了奇数次的数"
   ]
  },
  {
   "cell_type": "code",
   "execution_count": 267,
   "metadata": {
    "collapsed": true
   },
   "outputs": [],
   "source": [
    "def findSingle(arr):\n",
    "    if not arr:\n",
    "        return None\n",
    "    if len(arr) == 1:\n",
    "        return arr[0]\n",
    "    if len(arr) % 2 == 0:\n",
    "        return None\n",
    "    exor = 0\n",
    "    for i in arr:\n",
    "        exor ^= i\n",
    "    return exor"
   ]
  },
  {
   "cell_type": "code",
   "execution_count": 268,
   "metadata": {},
   "outputs": [
    {
     "name": "stdout",
     "output_type": "stream",
     "text": [
      "used time: 2.8\n"
     ]
    }
   ],
   "source": [
    "finish_time = time.time()\n",
    "print(\"used time: {}\".format(round((finish_time - start_time) / 60.0,2)))\n",
    "start_time = finish_time"
   ]
  },
  {
   "cell_type": "markdown",
   "metadata": {},
   "source": [
    "### 一个数组中出现奇数次的两个数"
   ]
  },
  {
   "cell_type": "code",
   "execution_count": 271,
   "metadata": {
    "collapsed": true
   },
   "outputs": [],
   "source": [
    "def findTwo(arr):\n",
    "    if not arr:\n",
    "        return None\n",
    "    if len(arr) == 1:\n",
    "        return arr[0]\n",
    "    if len(arr) % 2 == 1:\n",
    "        return None\n",
    "    exor = 0\n",
    "    for i in arr:\n",
    "        exor ^= i\n",
    "    mostRight = exor&(-exor)\n",
    "    exor1 = 0\n",
    "    for i in arr:\n",
    "        if i & mostRight == mostRight:\n",
    "            exor1 ^= i\n",
    "    return exor1, exor1^exor"
   ]
  },
  {
   "cell_type": "code",
   "execution_count": 270,
   "metadata": {},
   "outputs": [
    {
     "name": "stdout",
     "output_type": "stream",
     "text": [
      "used time: 2.19\n"
     ]
    }
   ],
   "source": [
    "finish_time = time.time()\n",
    "print(\"used time: {}\".format(round((finish_time - start_time) / 60.0,2)))\n",
    "start_time = finish_time"
   ]
  },
  {
   "cell_type": "markdown",
   "metadata": {},
   "source": [
    "### 一个数组有一个数出现了K次，其他数都出现了M次，找到K次的数\n"
   ]
  },
  {
   "cell_type": "code",
   "execution_count": 273,
   "metadata": {
    "collapsed": true
   },
   "outputs": [],
   "source": [
    "def findKtimes(arr, k, m):\n",
    "    if not arr:\n",
    "        return None\n",
    "    l = [0] * 32\n",
    "    for i in range(31):\n",
    "        rightOne = 1 << i\n",
    "        for num in arr:\n",
    "            if num < 0:\n",
    "                num = -num\n",
    "                times[31] += 1\n",
    "            if num & rightOne == rightOne:\n",
    "                l[i] += 1\n",
    "    ans = 0\n",
    "    for i in range(31):\n",
    "        if l[i] % m != 0:\n",
    "            ans |= 1 << i\n",
    "    if l[i] % m != 0:\n",
    "        ans = -ans\n",
    "    return ans\n",
    "            "
   ]
  },
  {
   "cell_type": "code",
   "execution_count": null,
   "metadata": {
    "collapsed": true
   },
   "outputs": [],
   "source": []
  }
 ],
 "metadata": {
  "kernelspec": {
   "display_name": "Python 3",
   "language": "python",
   "name": "python3"
  },
  "language_info": {
   "codemirror_mode": {
    "name": "ipython",
    "version": 3
   },
   "file_extension": ".py",
   "mimetype": "text/x-python",
   "name": "python",
   "nbconvert_exporter": "python",
   "pygments_lexer": "ipython3",
   "version": "3.6.1"
  }
 },
 "nbformat": 4,
 "nbformat_minor": 2
}
