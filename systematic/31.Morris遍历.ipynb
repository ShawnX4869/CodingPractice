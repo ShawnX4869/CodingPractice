{
 "cells": [
  {
   "cell_type": "markdown",
   "id": "8a76fc3a",
   "metadata": {},
   "source": [
    "### Morris遍历\n",
    "假设来到当前节点cur，开始时cur来到头节点位置\n",
    "1. 如果cur没有左孩子，cur向右移动(cur = cur.right)\n",
    "2. 如果cur有左孩子，找到左子树上的最右的节点mostRight：\n",
    "    * 如果mostRight的右指针指向空，让其指向cur，然后cur向左移动(cur = cur.left)\n",
    "    * 如果mostRight的右指针指向cur，让其指向空，然后cur向右移动(cur = cur.right)\n",
    "3. cur为空时遍历停止"
   ]
  },
  {
   "cell_type": "code",
   "execution_count": null,
   "id": "f248168d",
   "metadata": {},
   "outputs": [],
   "source": [
    "'''\n",
    "递归方法遍历额外空间复杂度占用logN(高度)，时间O(N);\n",
    "Morris 时间还是O(N)，但额外空间O(1)。本质上是利用树本身的空闲节点。\n",
    "\n",
    "\n",
    "        a\n",
    "      ↙️  ↘️\n",
    "     b     c        特点：任何节点有左数，那么就会来到这个节点两次\n",
    "   ↙️ ↘️  ↙️ ↘️      本质：让左数的最右节点是否指向自己，表明是否第一次来到自己\n",
    "  d    e f   g      ==> a,b,d,b,e,a,c,f,c,g\n",
    "'''"
   ]
  },
  {
   "cell_type": "code",
   "execution_count": 2,
   "id": "f4588943",
   "metadata": {},
   "outputs": [],
   "source": [
    "def morris(head):\n",
    "    if not head:\n",
    "        return None\n",
    "    cur = head\n",
    "    mostRight = None\n",
    "    while cur:\n",
    "        mostRight = cur.left\n",
    "        if mostRight:\n",
    "            while mostRight.right and mostRight.right != cur:\n",
    "                mostRight = mostRight.right\n",
    "            if not mostRight.right:\n",
    "                mostRight.right = cur\n",
    "                cur = cur.left\n",
    "                continue\n",
    "            else: #mostRight.right == cur\n",
    "                mostRight.right = None\n",
    "        cur = cur.right\n",
    "            "
   ]
  },
  {
   "cell_type": "markdown",
   "id": "e2dbf692",
   "metadata": {},
   "source": [
    "#### morris输出先序\n",
    "对于能到两次的节点(有左数)：第一次来到节点，打印。第二次跳过；对于能到一次的节点，直接打印"
   ]
  },
  {
   "cell_type": "code",
   "execution_count": 3,
   "id": "0b651eb9",
   "metadata": {},
   "outputs": [],
   "source": [
    "def morrisPre(head):\n",
    "    if not head:\n",
    "        return None\n",
    "    cur = head\n",
    "    mostRight = None\n",
    "    while cur:\n",
    "        mostRight = cur.left\n",
    "        if mostRight:\n",
    "            while mostRight.right and mostRight.right != cur:\n",
    "                mostRight = mostRight.right\n",
    "            if not mostRight.right:\n",
    "                print(cur.val)  #<===两次节点的第一次时打印\n",
    "                mostRight.right = cur\n",
    "                cur = cur.left\n",
    "                continue\n",
    "            else: #mostRight.right == cur\n",
    "                mostRight.right = None\n",
    "        else:\n",
    "            print(cur.val)     #<===一次节点的第一次打印\n",
    "        cur = cur.right\n",
    "    return None"
   ]
  },
  {
   "cell_type": "markdown",
   "id": "35d876a9",
   "metadata": {},
   "source": [
    "#### morris输出中序\n",
    "对于能到两次的节点(有左数)：第一次来到节点，跳过。第二次打印；对于能到一次的节点，直接打印"
   ]
  },
  {
   "cell_type": "code",
   "execution_count": 4,
   "id": "d3088f5c",
   "metadata": {},
   "outputs": [],
   "source": [
    "def morrisIn(head):\n",
    "    if not head:\n",
    "        return None\n",
    "    cur = head\n",
    "    mostRight = None\n",
    "    while cur:\n",
    "        mostRight = cur.left\n",
    "        if mostRight:\n",
    "            while mostRight.right and mostRight.right != cur:\n",
    "                mostRight = mostRight.right\n",
    "            if not mostRight.right:\n",
    "                mostRight.right = cur\n",
    "                cur = cur.left\n",
    "                continue\n",
    "            else: #mostRight.right == cur\n",
    "                mostRight.right = None \n",
    "        print(cur.val)             #<===一次节点的第一次打印；二次节点的第二次才会遇到，第一次时会碰continue跳过\n",
    "        cur = cur.right\n",
    "    return None"
   ]
  },
  {
   "cell_type": "markdown",
   "id": "78861de0",
   "metadata": {},
   "source": [
    "#### morris输出后序\n",
    "1. 只在第二次到达节点时处理：逆序打印左子树的右边界。\n",
    "2. morris遍历完成后，逆序打印整体树的右边界。\n",
    "3. 逆序打印不能用栈，因为要保证O(1)的额外空间。所以需要链表逆转后，打印，再转回去。"
   ]
  },
  {
   "cell_type": "code",
   "execution_count": 6,
   "id": "7715bdeb",
   "metadata": {},
   "outputs": [],
   "source": [
    "def morrisPos(head):\n",
    "    if not head:\n",
    "        return None\n",
    "    cur = head\n",
    "    mostRight = None\n",
    "    while cur:\n",
    "        mostRight = cur.left\n",
    "        if mostRight:\n",
    "            while mostRight.right and mostRight.right != cur:\n",
    "                mostRight = mostRight.right\n",
    "            if not mostRight:\n",
    "                mostRight.right = cur\n",
    "                cur = cur.left\n",
    "                continue\n",
    "            else:\n",
    "                mostRight.right = None\n",
    "                printEdge(cur.left)\n",
    "        cur = cur.right\n",
    "    printEdge(head)\n",
    "    return None\n",
    "\n",
    "def printEdge(head):\n",
    "    tail = reverseEdge(head)\n",
    "    cur = tail\n",
    "    while cur:\n",
    "        print(cur.val)\n",
    "        cur = cur.right\n",
    "    reverseEdge(tail)\n",
    "    return None\n",
    "\n",
    "def reverseEdge(head):\n",
    "    pre = None\n",
    "    nxt = None\n",
    "    while head:\n",
    "        nxt = head.right\n",
    "        head.right = pre\n",
    "        pre = head\n",
    "        head = nxt\n",
    "    return pre"
   ]
  },
  {
   "cell_type": "markdown",
   "id": "72406999",
   "metadata": {},
   "source": [
    "#### 判断一棵树是否是搜索二叉树"
   ]
  },
  {
   "cell_type": "code",
   "execution_count": 7,
   "id": "f5a06312",
   "metadata": {},
   "outputs": [],
   "source": [
    "#中序遍历是否递增\n",
    "def isBST(head):\n",
    "    if not head:\n",
    "        return True\n",
    "    cur = head\n",
    "    mostRight = None\n",
    "    preVal = None\n",
    "    ans = True\n",
    "    while cur:\n",
    "        mostRight = cur.left\n",
    "        if mostRight:\n",
    "            while mostRight.right and mostRight.right != cur:\n",
    "                mostRight = mostRight.right\n",
    "            if not mostRight.right:\n",
    "                mostRight.right = cur\n",
    "                cur = cur.left\n",
    "                continue\n",
    "            else:\n",
    "                mostRight.right = None\n",
    "        if preVal is not None and preVal >= cur.val:\n",
    "            ans = False  #不能直接返回，因为morris遍历有改节点行为\n",
    "        preVal = cur.val\n",
    "        cur = cur.right\n",
    "    return ans"
   ]
  },
  {
   "cell_type": "markdown",
   "id": "d75f6f44",
   "metadata": {},
   "source": [
    "#### 求以head为头的二叉树树中，最小深度是多少"
   ]
  },
  {
   "cell_type": "code",
   "execution_count": 8,
   "id": "359b102a",
   "metadata": {},
   "outputs": [],
   "source": [
    "'''\n",
    "思路：\n",
    "问题1. 要搞定当前节点在第几层\n",
    "问题2. 判断是否是叶节点 + 每次尝试更新最低的层数\n",
    "\n",
    "解决问题1:\n",
    "情况1. X的层数为7，当Y为X的左孩子，则Y的层数一定为7+1=8；\n",
    "情况2.           当Y为X的右孩子，不一定！因为Y有可能是X向上指回去时的右孩子(要第二次回到Y的时候)：\n",
    "情况2.1          当Y的左树的最右节点不是X时，层数为7+1=8\n",
    "情况2.2          当Y的左树的最右节点是X时，X的左树所在右边界有几个节点(Z)，7-Z即为层数。\n",
    "\n",
    "解决问题2:因为改过节点，无法通过无双子判断是否叶节点\n",
    "对于能回到两次的节点，在第二次恢复左树最右节点的右节点后，再看其是否是叶节点。\n",
    "最后单独检查整棵树的最右边界是否是叶节点\n",
    "\n",
    "'''\n",
    "def minHeight(head):\n",
    "    pass"
   ]
  },
  {
   "cell_type": "markdown",
   "id": "4c96ed57",
   "metadata": {},
   "source": [
    "### 判断二叉树题目是用递归套路还是Morris遍历\n",
    "需要整合X节点的左树、右树信息后，才能知道X的信息。\n"
   ]
  },
  {
   "cell_type": "code",
   "execution_count": null,
   "id": "d9644df4",
   "metadata": {},
   "outputs": [],
   "source": []
  }
 ],
 "metadata": {
  "kernelspec": {
   "display_name": "Python 3 (ipykernel)",
   "language": "python",
   "name": "python3"
  },
  "language_info": {
   "codemirror_mode": {
    "name": "ipython",
    "version": 3
   },
   "file_extension": ".py",
   "mimetype": "text/x-python",
   "name": "python",
   "nbconvert_exporter": "python",
   "pygments_lexer": "ipython3",
   "version": "3.9.12"
  },
  "toc": {
   "base_numbering": 1,
   "nav_menu": {},
   "number_sections": true,
   "sideBar": true,
   "skip_h1_title": false,
   "title_cell": "Table of Contents",
   "title_sidebar": "Contents",
   "toc_cell": false,
   "toc_position": {},
   "toc_section_display": true,
   "toc_window_display": false
  }
 },
 "nbformat": 4,
 "nbformat_minor": 5
}
