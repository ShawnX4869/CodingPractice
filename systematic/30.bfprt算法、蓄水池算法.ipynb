{
 "cells": [
  {
   "cell_type": "markdown",
   "id": "bf7553d6",
   "metadata": {},
   "source": [
    "### 无序数组中求第K小的数"
   ]
  },
  {
   "cell_type": "markdown",
   "id": "dbf9ecba",
   "metadata": {},
   "source": [
    "#### 方法一：改写快排"
   ]
  },
  {
   "cell_type": "code",
   "execution_count": 6,
   "id": "9a1d659f",
   "metadata": {},
   "outputs": [],
   "source": [
    "'''\n",
    "思路：\n",
    "1.随机选一个数V，做荷兰国旗问题。 时间O(N)，空间O(1)\n",
    "2.看这个数V的等于区间是否包含K，若包含即为V。若不是根据K在哪侧，重新对哪侧选随机数，直到新区域包含K。\n",
    "3.快排时间复杂度为O(NlogN)，因为跑了两侧。这里只需要跑一次，略证明，时间复杂度是O(N)\n",
    "'''\n",
    "import random\n",
    "def minKth(array, k):\n",
    "    arr = array.copy()\n",
    "    return process(arr, 0, len(arr)-1, k-1) #k从1开始\n",
    "\n",
    "def process(arr, L, R, index):\n",
    "    if L == R: #==index\n",
    "        return arr[L]\n",
    "    pivot = arr[L+random.randint(0, R-L)]\n",
    "    \n",
    "    equalL, equalR = partition(arr, L, R, pivot)\n",
    "    if index >= equalL and equalR >= index:\n",
    "        return arr[index]\n",
    "    elif index < equalL:\n",
    "        return process(arr, L, equalL-1, index) #可以改迭代\n",
    "    else:\n",
    "        return process(arr, equalR+1, R, index)\n",
    "    \n",
    "def partition(arr, L, R, num):\n",
    "    pass"
   ]
  },
  {
   "cell_type": "markdown",
   "id": "e8662f31",
   "metadata": {},
   "source": [
    "#### 方法二：bfprt算法"
   ]
  },
  {
   "cell_type": "code",
   "execution_count": null,
   "id": "56c3f8cc",
   "metadata": {},
   "outputs": [],
   "source": [
    "'''\n",
    "改快排第一个选数阶段，替代随机选数：\n",
    "bfprt(N, K)\n",
    "1. 5个数一组，arr = [{abcde},{fghij},{klmno},{pqrs}] (19)\n",
    "2. 每一组内部排序，5个数排序O(1)，有N/5个组， 所以代价O(N): arr=[{edbac},{jihfg},{mnolk},{rqps}]\n",
    "3. 每个小组的中位数拿出来，组成新数组M，长度N/5. M = [b,h,o,q] (4)\n",
    "4. 求M的中位数，即X = bfprt(M, N/10)  X = bfprt(M, 2)\n",
    "5. X作为划分值进入快排中的partition\n",
    "\n",
    "这样选择的X左右两侧：\n",
    "1. 估计<X有几个数：求>=X有多少数，3N/10. 所以<X有7N/10个数\n",
    "2. 同理>X有几个数：求<=X有多少数，3N/10. 所以>X有7N/10个数\n",
    "3. 所以每次至少淘汰3N/10的数\n",
    "\n",
    "整体复杂度\n",
    "T(N) = T(N/5) + T(7N/10) + O(N) = O(N)\n",
    "1. 5数一组O(N)\n",
    "2. 组内排序O(N)\n",
    "3. 中位数取出O(N/5)作为M数组\n",
    "4. 求M数组中位数T(N*1/5)\n",
    "5. partition过程O(N)\n",
    "6. 如果未命中，重复1-5过程T(N*7/10)\n",
    "\n",
    "\n",
    "'''\n",
    "#arr[L..R] 如果排序的话，位于index位置的数是什么，返回\n",
    "def bfprt(arr, L, R, index):\n",
    "    if L == R:\n",
    "        return arr[L]\n",
    "    # L..R每五个数一组，每一个小组内部排好序，每个小组的中位数组成新数组，返回新数组的中位数\n",
    "    pivot = medianOfMedians(arr, L, R)\n",
    "    equalL, equalR = partition(arr, L, R, pivot)\n",
    "    if index >= equalL and equalR >= index:\n",
    "        return arr[index]\n",
    "    elif index < equalL:\n",
    "        return bfprt(arr, L, equalL-1, index) #可以改迭代\n",
    "    else:\n",
    "        return bfprt(arr, equalR+1, R, index) \n",
    "    \n",
    "def medianOfMedians(arr, L, R):\n",
    "    size = R - L + 1\n",
    "    offset = 0 if size % 5 == 0 else 1\n",
    "    mArr = [None] * (size // 5 + offset)\n",
    "    for team in range(len(mArr)):\n",
    "        teamFirst = L + team * 5\n",
    "        mArr[team] = getMedian(arr, teamFirst, min(R, teamFirst+4))\n",
    "        \n",
    "    return bfprt(mArr, 0, len(mArr)-1, len(mArr) // 2)\n",
    "\n",
    "def getMedian(arr, L, R):\n",
    "    insertionSort(arr, L, R)\n",
    "    return arr[(L+R)//2]\n",
    "    \n",
    "    "
   ]
  },
  {
   "cell_type": "markdown",
   "id": "ebf8a11e",
   "metadata": {},
   "source": [
    "### 无序数组topK个最大的数\n",
    "不同时间复杂度三个方法：\n",
    "1. O(N*logN)：直接排序\n",
    "2. O(N+K*logN)：从底向上将无序数组调整为大根堆代价O(N)+弹k次，每次大根堆调整O(logN)。整体O(N+K(logN)\n",
    "3. O(N+K*logK)：先用bfprt找到第K大的数是多少，然后遍历数组，只要比这个数大的就记录，一定会找到<=K-1个数。不足K个的用第k大补。然后k个数内做排序返回"
   ]
  },
  {
   "cell_type": "markdown",
   "id": "b99516a4",
   "metadata": {},
   "source": [
    "### 蓄水池算法\n",
    "解决问题：假设有一个不断吐出不同球的机器，只有装下10个球的袋子，每次吐出的球，要么放入袋子，要么永远扔掉\n",
    "如何做到机器吐出每个球之后，所有吐出的球都等概率被放进袋子里"
   ]
  },
  {
   "cell_type": "code",
   "execution_count": null,
   "id": "fe755a48",
   "metadata": {},
   "outputs": [],
   "source": [
    "'''\n",
    "1~10直接进袋子\n",
    "1. 吐出i号球，以 10/i的概率决定要不要进袋子。f(i)：随机1~i，如果>10不进袋子。1~10进袋子。\n",
    "2. 满袋子中10个球等概率弹出一个，i号球进袋子。\n",
    "\n",
    "证明：\n",
    "1729号球吐出，3号球还在袋子里的概率：\n",
    "1~10，3进袋子的概率是1. \n",
    "11号球吐，3号弹出的概率是10/11(11进) * 1/10(3出) = 1/11，所以11号吐时，3在袋子的概率是10/11\n",
    "12号球吐，3号弹出的概率是10/12(12进) * 1/10(3出) = 1/12，所以11号吐时，3在袋子的概率是11/12\n",
    "...\n",
    "1728号球吐，3号弹出的概率是10/1728(1728进) * 1/10(3出) = 1/1728，所以1728号吐时，3在袋子的概率是1727/1728\n",
    "1729号球吐，3号弹出的概率是10/1729(1729进) * 1/10(3出) = 1/1729，所以1729号吐时，3在袋子的概率是1728/1729\n",
    "累乘得到....1729号球吐时，3号球在袋子里的概率是 10/1729；\n",
    "\n",
    "1729号球吐出，17号球还在袋子里的概率：\n",
    "17号球要先进袋子，概率是10/17\n",
    "18号球吐，17号弹出的概率是10/18(18进) * 1/10(17出) = 1/18，所以18号吐时，17在袋子的概率是17/18\n",
    "...\n",
    "1728号球吐，3号弹出的概率是10/1728(1728进) * 1/10(3出) = 1/1728，所以1728号吐时，3在袋子的概率是1727/1728\n",
    "1729号球吐，3号弹出的概率是10/1729(1729进) * 1/10(3出) = 1/1729，所以1729号吐时，3在袋子的概率是1728/1729\n",
    "累乘得到....1729号球吐时，3号球在袋子里的概率是 10/1729；\n",
    "\n",
    "应用：\n",
    "抽奖，1月1日0:00~1月2日0:00开奖，期间登陆过的用户等概率中奖。\n",
    "'''"
   ]
  },
  {
   "cell_type": "code",
   "execution_count": null,
   "id": "788d7917",
   "metadata": {},
   "outputs": [],
   "source": [
    "'''\n",
    "uuid系统吐出每一个号码一定不一样。同一时间可能有多个服务器，请求多个uuid。要求重复率0.\n",
    "'''"
   ]
  },
  {
   "cell_type": "code",
   "execution_count": null,
   "id": "87cf05af",
   "metadata": {},
   "outputs": [],
   "source": []
  },
  {
   "cell_type": "code",
   "execution_count": null,
   "id": "5f3efd9b",
   "metadata": {},
   "outputs": [],
   "source": []
  }
 ],
 "metadata": {
  "kernelspec": {
   "display_name": "Python 3 (ipykernel)",
   "language": "python",
   "name": "python3"
  },
  "language_info": {
   "codemirror_mode": {
    "name": "ipython",
    "version": 3
   },
   "file_extension": ".py",
   "mimetype": "text/x-python",
   "name": "python",
   "nbconvert_exporter": "python",
   "pygments_lexer": "ipython3",
   "version": "3.9.12"
  },
  "toc": {
   "base_numbering": 1,
   "nav_menu": {},
   "number_sections": true,
   "sideBar": true,
   "skip_h1_title": false,
   "title_cell": "Table of Contents",
   "title_sidebar": "Contents",
   "toc_cell": false,
   "toc_position": {},
   "toc_section_display": true,
   "toc_window_display": false
  }
 },
 "nbformat": 4,
 "nbformat_minor": 5
}
