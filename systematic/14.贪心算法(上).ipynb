{
 "cells": [
  {
   "cell_type": "markdown",
   "metadata": {},
   "source": [
    "## 1. 二叉树递归套路(续)"
   ]
  },
  {
   "cell_type": "code",
   "execution_count": 2,
   "metadata": {
    "collapsed": true
   },
   "outputs": [],
   "source": [
    "class Node:\n",
    "    def __init__(self, val, left=None, right=None):\n",
    "        self.val = val\n",
    "        self.left = left\n",
    "        self.right = right"
   ]
  },
  {
   "cell_type": "markdown",
   "metadata": {},
   "source": [
    "### 1.1 判断是否完全二叉树\n",
    "使用递归套路（之前用遍历节点实现，以节点视角判断）"
   ]
  },
  {
   "cell_type": "code",
   "execution_count": 18,
   "metadata": {},
   "outputs": [],
   "source": [
    "'''\n",
    "完全二叉树情况：\n",
    "1. 左、右树都是满二叉树，且左右高度相等：整棵树是满二叉树\n",
    "2. 左树完全二叉树(不满)，右树满，左树=右树高度+1\n",
    "3. 左树满二叉树，右树满，左树高度=右树高度+1  ==> 2\\3合并 左树完全，右树满，左树高度=右树高度+1\n",
    "4.左树满二叉树，右树完全二叉树(不满)，左树高度=右树高度\n",
    "===>\n",
    "左、右满不满、完不完全、以及高度\n",
    "'''\n",
    "# isFull, isCBT, height\n",
    "def process(x):\n",
    "    if x is None:\n",
    "        return True, True, 0\n",
    "    left_isFull, left_isCBT, left_height = process(x.left)\n",
    "    right_isFull, right_isCBT, right_height = process(x.right)\n",
    "    height = max(left_height, right_height) + 1\n",
    "    isFull = True if left_isFull and right_isFull and left_height == right_height else False\n",
    "    isCBT = isFull #情况1\n",
    "    #情况2&3\n",
    "    if left_isCBT and right_isFull and left_height == right_height+1:\n",
    "        isCBT = True\n",
    "    #情况4\n",
    "    if left_isFull and right_isCBT and left_height == right_height:\n",
    "        isCBT = True\n",
    "    return isFull,isCBT,height\n",
    "    \n",
    "    \n",
    "def isCompleteBinaryTree(head):\n",
    "    isFull, isCBT, height = process(head)\n",
    "    return isCBT"
   ]
  },
  {
   "cell_type": "code",
   "execution_count": 43,
   "metadata": {
    "collapsed": true
   },
   "outputs": [],
   "source": [
    "from collections import deque\n",
    "def isComplete(head):\n",
    "    if not head:\n",
    "        return True\n",
    "    queue = deque()\n",
    "    leaf = False\n",
    "    left = None\n",
    "    right = None    \n",
    "    queue.append(head)\n",
    "    while queue:\n",
    "        head = queue.popleft()\n",
    "        left = head.left\n",
    "        right = head.right\n",
    "        print\n",
    "        if (leaf and (left or right)) or (not left and right):\n",
    "            return False\n",
    "        if left:\n",
    "            queue.append(left)\n",
    "        if right:\n",
    "            queue.append(right)\n",
    "        if not left or not right:\n",
    "            leaf = True\n",
    "    return True"
   ]
  },
  {
   "cell_type": "markdown",
   "metadata": {},
   "source": [
    "### 1.2 最大二叉搜索子树的头节点\n",
    "给定一颗二叉树的头节点head，返回这颗树中最大的二叉搜索子树的头节点"
   ]
  },
  {
   "cell_type": "code",
   "execution_count": 92,
   "metadata": {
    "collapsed": true
   },
   "outputs": [],
   "source": [
    "'''\n",
    "思路(self practice)：\n",
    "    搜索树：左_max<中<右_min ==> 需要max,min,isSearch\n",
    "    最大的 ==> 需要size\n",
    "    ==>需要头节点\n",
    "    \n",
    "    \n",
    "情况1: 左右都是二叉搜索 and 左max<头<右min, 返回本棵树信息(size+size+1) ！++如果左右子为空，不用判断\n",
    "情况2: 左右都是二叉树 但不满足左max<头<右min， 返回左右size更大的\n",
    "情况3: 左是右不是，返回左\n",
    "情况4: 右是左不是，返回右\n",
    "情况5: 左右都不是，返回 头\n",
    "'''\n",
    "\n",
    "#child_max_head, child_max_size, max, min。#更新可以用x.child是否等于child_max_head省去一个isSearch的返回信息\n",
    "def process(x):\n",
    "    if not x:\n",
    "        return (None, 0, None, None)\n",
    "    if not x.left and not x.right:\n",
    "        return (x, 1, x.val, x.val)\n",
    "    \n",
    "    left_max_head, left_max_size, left_max, left_min = process(x.left)\n",
    "    right_max_head, right_max_size, right_max, right_min = process(x.right)\n",
    "    \n",
    "    if left_max is None:\n",
    "        left_max = x.val\n",
    "    if left_min is None:\n",
    "        left_min = x.val\n",
    "    if right_max is None:\n",
    "        right_max = x.val\n",
    "    if right_min is None:\n",
    "        right_min = x.val\n",
    "        \n",
    "    my_max = max([left_max, right_max, x.val])\n",
    "    my_min = min([left_min, right_min, x.val])\n",
    "    \n",
    "    if not left_max_head and x.right == right_max_head:\n",
    "        if x.val <= right_min:\n",
    "            return (x, 1+right_max_size, my_max, my_min)\n",
    "        else:\n",
    "            return (right_max_head, right_max_size, my_max, my_min)\n",
    "    \n",
    "    if not right_max_head and x.left == left_max_head:\n",
    "        if x.val >= left_max:\n",
    "            return (x, 1+left_max_size, my_max, my_min)\n",
    "        else:\n",
    "            return (left_max_head, left_max_size, my_max, my_min)\n",
    "    \n",
    "    if x.left == left_max_head and x.right == right_max_head: #情况1&2\n",
    "        if left_max <= x.val and right_min >= x.val: #情况1\n",
    "            return (x, left_max_size+right_max_size+1, my_max, my_min)\n",
    "    if left_max_size >= right_max_size:\n",
    "        max_head = left_max_head\n",
    "        max_size = left_max_size\n",
    "    else:\n",
    "        max_head = right_max_head\n",
    "        max_size = right_max_size\n",
    "    return (max_head, max_size, my_max, my_min)\n",
    "\n",
    "def maxBST(head):\n",
    "    max_head, max_size,_,_ = process(head)\n",
    "    return max_head, max_size"
   ]
  },
  {
   "cell_type": "code",
   "execution_count": 77,
   "metadata": {},
   "outputs": [],
   "source": [
    "# 对数器:bst中序递增\n",
    "from collections import deque\n",
    "def inOrder(head, arr):\n",
    "    if not head:\n",
    "        return\n",
    "    inOrder(head.left, arr)\n",
    "    arr.append(head.val)\n",
    "    inOrder(head.right, arr)\n",
    "    return\n",
    "\n",
    "def BSTSize(head):\n",
    "    if not head:\n",
    "        return 0\n",
    "    arr = [] \n",
    "    inOrder(head,arr)\n",
    "    for i in range(1, len(arr)):\n",
    "        if arr[i-1] > arr[i]:\n",
    "            return 0\n",
    "    return len(arr)\n",
    "\n",
    "def maxBSTSize(head):\n",
    "    if not head:\n",
    "        return head, 0\n",
    "    maxSize = 0\n",
    "    maxHead = None\n",
    "    arr = deque()\n",
    "    arr.append(head)\n",
    "    while arr:\n",
    "        cur = arr.popleft()\n",
    "        s = BSTSize(cur)\n",
    "        if s > maxSize:\n",
    "            maxSize = s\n",
    "            maxHead = cur\n",
    "        if cur.left:\n",
    "            arr.append(cur.left)\n",
    "        if cur.right:\n",
    "            arr.append(cur.right)\n",
    "    return maxHead, maxSize"
   ]
  },
  {
   "cell_type": "code",
   "execution_count": 12,
   "metadata": {},
   "outputs": [
    {
     "data": {
      "text/plain": [
       "6"
      ]
     },
     "execution_count": 12,
     "metadata": {},
     "output_type": "execute_result"
    }
   ],
   "source": [
    "import random\n",
    "random.randint(0,9)"
   ]
  },
  {
   "cell_type": "code",
   "execution_count": 14,
   "metadata": {
    "collapsed": true
   },
   "outputs": [],
   "source": [
    "import random\n",
    "def generateRandomNode(curLevel, maxLevel, maxValue):\n",
    "    if curLevel > maxLevel or random.random() < 0.5:\n",
    "        return None\n",
    "    node = Node(random.randint(0, maxValue))\n",
    "    node.left = generateRandomNode(curLevel+1, maxLevel, maxValue)\n",
    "    node.right = generateRandomNode(curLevel+1, maxLevel, maxValue)\n",
    "    return node\n",
    "def generateRandomBST(maxLevel, maxValue):\n",
    "    return generateRandomNode(1, maxLevel, maxValue)"
   ]
  },
  {
   "cell_type": "code",
   "execution_count": 45,
   "metadata": {
    "collapsed": true
   },
   "outputs": [],
   "source": [
    "def getSpace(num):\n",
    "    space = \"\"\n",
    "    for i in range(num):\n",
    "        space+= \" \"\n",
    "    return space\n",
    "    \n",
    "\n",
    "def printInOrder(head, height, to, length):\n",
    "    if head is None:\n",
    "        return \n",
    "    printInOrder(head.right, height+1, \"↓\", length)\n",
    "    val = to + str(head.val) + to\n",
    "    lenM= len(str(head.val))\n",
    "    lenL = (length - lenM) // 2\n",
    "    lenR = length - lenM - lenL\n",
    "    val = getSpace(lenL) + val + getSpace(lenR)\n",
    "    print(getSpace(height * length) + val)\n",
    "    printInOrder(head.left, height+1, \"↑\", length)\n",
    "def printBinaryTree(head):\n",
    "    print(\"Binary Tree: \")\n",
    "    printInOrder(head, 0, \"H\", 15)\n",
    "    print()"
   ]
  },
  {
   "cell_type": "code",
   "execution_count": 99,
   "metadata": {
    "scrolled": true
   },
   "outputs": [
    {
     "name": "stdout",
     "output_type": "stream",
     "text": [
      "succeed!\n"
     ]
    }
   ],
   "source": [
    "testTime = 1000\n",
    "maxLevel_ = 6\n",
    "maxValue_ = 200\n",
    "wrong_test = None\n",
    "for _ in range(testTime):\n",
    "    maxLevel = random.randint(0, maxLevel_)\n",
    "    maxValue = random.randint(0, maxValue_)\n",
    "    tree = generateRandomBST(maxLevel, maxValue)\n",
    "    _, max_size1 = maxBST(tree)\n",
    "    _, max_size2 = maxBSTSize(tree)\n",
    "    \n",
    "    if max_size1 != max_size2:\n",
    "        print(\"something wrong.\")\n",
    "        wrong_test = tree\n",
    "        break\n",
    "if not wrong_test:\n",
    "    print(\"succeed!\")"
   ]
  },
  {
   "cell_type": "code",
   "execution_count": 86,
   "metadata": {},
   "outputs": [
    {
     "data": {
      "text/plain": [
       "(<__main__.Node at 0x1022677f0>, 1)"
      ]
     },
     "execution_count": 86,
     "metadata": {},
     "output_type": "execute_result"
    }
   ],
   "source": [
    "maxBST(tree)"
   ]
  },
  {
   "cell_type": "code",
   "execution_count": 87,
   "metadata": {
    "scrolled": false
   },
   "outputs": [
    {
     "name": "stdout",
     "output_type": "stream",
     "text": [
      "Binary Tree: \n",
      "                      ↓0↓       \n",
      "       H0H       \n",
      "                                     ↓0↓       \n",
      "                      ↑0↑       \n",
      "                                     ↑1↑       \n",
      "\n"
     ]
    }
   ],
   "source": [
    "printBinaryTree(wrong_test)"
   ]
  },
  {
   "cell_type": "code",
   "execution_count": 30,
   "metadata": {},
   "outputs": [
    {
     "data": {
      "text/plain": [
       "True"
      ]
     },
     "execution_count": 30,
     "metadata": {},
     "output_type": "execute_result"
    }
   ],
   "source": [
    "ans2"
   ]
  },
  {
   "cell_type": "markdown",
   "metadata": {},
   "source": [
    "### 1.3 最低公共祖先"
   ]
  },
  {
   "cell_type": "code",
   "execution_count": 100,
   "metadata": {
    "collapsed": true
   },
   "outputs": [],
   "source": [
    "# 思路一：用map记住每个点的祖先，再将a的所有祖先(包括自己)扔进set，从b本身开始往上跳，如果出现在set中，找到的即最低"
   ]
  },
  {
   "cell_type": "code",
   "execution_count": 101,
   "metadata": {
    "collapsed": true
   },
   "outputs": [],
   "source": [
    "# 思路二：递归套路\n",
    "# 如果a,b的最低公共祖先出现在x树上，返回祖先节点，否则返回空\n",
    "# a是否出现在x中；b是否出现在x中\n",
    "\n",
    "#情况1：x无关，x不是最低祖先点；\n",
    "#   1.1：在x左树上汇聚\n",
    "#   1.2：在x右树上汇聚\n",
    "#   1.3：a,b 没有共同出现在x树上\n",
    "#情况2：与x有关，x是答案：\n",
    "#   2.1 左树出现一个，右树出现，在x汇聚\n",
    "#   2.2 x本身是a，左右出现了b\n",
    "#   2.3 x本身是b，左右出现了a\n",
    "\n",
    "#需要信息：x上有无a；有无b；有无发现最低祖先\n",
    "#返回findA, findB, ans\n",
    "    \n",
    "\n",
    "def process(x, a, b):\n",
    "    if not x:\n",
    "        return False, False, None\n",
    "    left_fa, left_fb, left_ans = process(x.left, a, b)\n",
    "    right_fa, right_fb, right_ans = process(x.right, a, b)\n",
    "    \n",
    "    if x == a or left_fa or right_fa:\n",
    "        findA = True\n",
    "    else:\n",
    "        findA = False\n",
    "        \n",
    "    if x == b or left_fb or right_fb:\n",
    "        findB = True\n",
    "    else:\n",
    "        findB = False\n",
    "    ans = None\n",
    "    if left_ans is not None:\n",
    "        ans = left_ans\n",
    "    elif right_ans is not None:\n",
    "        ans = right_ans\n",
    "    else:\n",
    "        if findA and findB:\n",
    "            ans = x\n",
    "    return findA, findB, ans\n",
    "    \n",
    "def lowestAncestor(head, a, b):\n",
    "    return process(head, a, b)"
   ]
  },
  {
   "cell_type": "markdown",
   "metadata": {},
   "source": [
    "### 1.4 公司派对\n",
    "多叉树，一个节点对应一个员工，节点值为happy；举办party，要求员工和直系领导不能同时到场。求happy最大值\n"
   ]
  },
  {
   "cell_type": "code",
   "execution_count": 102,
   "metadata": {
    "collapsed": true
   },
   "outputs": [],
   "source": [
    "class MultiNode:\n",
    "    def __init__(self, val, children=None):\n",
    "        self.val = val\n",
    "        self.children=children"
   ]
  },
  {
   "cell_type": "code",
   "execution_count": 103,
   "metadata": {
    "collapsed": true
   },
   "outputs": [],
   "source": [
    "# 情况1 x不来；情况2 x来。\n",
    "# 返回x来和不来的最大值\n",
    "def process(x):\n",
    "    if not x:\n",
    "        return 0,0\n",
    "    children_happinest = 0\n",
    "    my_happinest = x.val\n",
    "    for child in x.children:\n",
    "        child_yes, child_no = process(child)\n",
    "        my_happinest += child_no\n",
    "        children_happinest += max(child_yes, child_no)\n",
    "    return my_happinest, children_happinest\n",
    "\n",
    "def happinest(head):\n",
    "    yes, no = process(head)\n",
    "    return max(yes, no)\n",
    "       "
   ]
  },
  {
   "cell_type": "markdown",
   "metadata": {},
   "source": [
    "## 2. 贪心算法"
   ]
  },
  {
   "cell_type": "markdown",
   "metadata": {},
   "source": [
    "### 2.1 字符串拼接\n",
    "给定一个字符串组成的数组strs，必须把所有字符串拼接起来。返回拼接结果字典序最小的结果"
   ]
  },
  {
   "cell_type": "code",
   "execution_count": 108,
   "metadata": {},
   "outputs": [
    {
     "data": {
      "text/plain": [
       "False"
      ]
     },
     "execution_count": 108,
     "metadata": {},
     "output_type": "execute_result"
    }
   ],
   "source": [
    "\"ba\" < \"b\""
   ]
  },
  {
   "cell_type": "code",
   "execution_count": 107,
   "metadata": {},
   "outputs": [
    {
     "data": {
      "text/plain": [
       "['aaab', 'b']"
      ]
     },
     "execution_count": 107,
     "metadata": {},
     "output_type": "execute_result"
    }
   ],
   "source": [
    "sorted([\"aaab\" , \"b\"])"
   ]
  },
  {
   "cell_type": "code",
   "execution_count": null,
   "metadata": {
    "collapsed": true
   },
   "outputs": [],
   "source": [
    "#贪心策略： \n",
    "#失败贪心：排序数组strs，按顺序拼接。==> 不行！ 反例，[\"b\", \"ba\"]， 最优应该是bab；而不是bba\n",
    "#正确贪心：按a+b和b+a的排序，a.b < b.a时，a前，否则b前\n",
    "#传递性： a.b <= b.a, b.c <= c.b 可以推出  a.c <= c.a"
   ]
  },
  {
   "cell_type": "code",
   "execution_count": 111,
   "metadata": {
    "collapsed": true
   },
   "outputs": [],
   "source": [
    "from functools import cmp_to_key\n",
    "def compare_(a,b):\n",
    "    return a + b <= b + a"
   ]
  },
  {
   "cell_type": "code",
   "execution_count": 112,
   "metadata": {
    "collapsed": true
   },
   "outputs": [],
   "source": [
    "arr1= [\"ba\", \"b\"]"
   ]
  },
  {
   "cell_type": "code",
   "execution_count": 114,
   "metadata": {},
   "outputs": [],
   "source": [
    "arr2 = sorted(arr1, key=cmp_to_key(compare_))"
   ]
  },
  {
   "cell_type": "code",
   "execution_count": 115,
   "metadata": {},
   "outputs": [
    {
     "data": {
      "text/plain": [
       "['ba', 'b']"
      ]
     },
     "execution_count": 115,
     "metadata": {},
     "output_type": "execute_result"
    }
   ],
   "source": [
    "arr2"
   ]
  },
  {
   "cell_type": "code",
   "execution_count": null,
   "metadata": {
    "collapsed": true
   },
   "outputs": [],
   "source": []
  }
 ],
 "metadata": {
  "kernelspec": {
   "display_name": "Python 3",
   "language": "python",
   "name": "python3"
  },
  "language_info": {
   "codemirror_mode": {
    "name": "ipython",
    "version": 3
   },
   "file_extension": ".py",
   "mimetype": "text/x-python",
   "name": "python",
   "nbconvert_exporter": "python",
   "pygments_lexer": "ipython3",
   "version": "3.6.1"
  }
 },
 "nbformat": 4,
 "nbformat_minor": 2
}
