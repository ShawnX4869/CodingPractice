{
 "cells": [
  {
   "cell_type": "markdown",
   "metadata": {},
   "source": [
    "### 1. list生成方式决定内存申请大小"
   ]
  },
  {
   "cell_type": "code",
   "execution_count": 18,
   "metadata": {
    "collapsed": true
   },
   "outputs": [],
   "source": [
    "from sys import getsizeof\n",
    "#返回内存大小bytes"
   ]
  },
  {
   "cell_type": "code",
   "execution_count": 5,
   "metadata": {},
   "outputs": [
    {
     "name": "stdout",
     "output_type": "stream",
     "text": [
      "64\n",
      "96\n"
     ]
    }
   ],
   "source": [
    "#空字符串大小56\n",
    "sample = [] #多给一个\n",
    "print(getsizeof(sample))\n",
    "sample.append(0)\n",
    "print(getsizeof(sample))"
   ]
  },
  {
   "cell_type": "code",
   "execution_count": 15,
   "metadata": {},
   "outputs": [
    {
     "name": "stdout",
     "output_type": "stream",
     "text": [
      "88\n"
     ]
    }
   ],
   "source": [
    "a =[0] * 3\n",
    "print(getsizeof(a))"
   ]
  },
  {
   "cell_type": "code",
   "execution_count": 16,
   "metadata": {},
   "outputs": [
    {
     "name": "stdout",
     "output_type": "stream",
     "text": [
      "88\n"
     ]
    }
   ],
   "source": [
    "b =[0,0,0]\n",
    "print(getsizeof(b))"
   ]
  },
  {
   "cell_type": "code",
   "execution_count": 17,
   "metadata": {},
   "outputs": [
    {
     "name": "stdout",
     "output_type": "stream",
     "text": [
      "96\n"
     ]
    }
   ],
   "source": [
    "c =[0 for _ in range(3)]\n",
    "print(getsizeof(c))"
   ]
  },
  {
   "cell_type": "markdown",
   "metadata": {},
   "source": [
    "### 2. None最好用is None判断"
   ]
  },
  {
   "cell_type": "code",
   "execution_count": 19,
   "metadata": {},
   "outputs": [
    {
     "name": "stdout",
     "output_type": "stream",
     "text": [
      "False\n",
      "False\n",
      "False\n",
      "False\n",
      "False\n",
      "False\n",
      "False\n"
     ]
    }
   ],
   "source": [
    "# 常见if not xxx 判断为True\n",
    "items = [set(), list(), dict(), None, False, \"\", 0]\n",
    "for item in items:\n",
    "    if not item:\n",
    "        print(\"False\")"
   ]
  },
  {
   "cell_type": "code",
   "execution_count": 20,
   "metadata": {
    "collapsed": true
   },
   "outputs": [],
   "source": [
    "# if x == None 比 not好，但自定义obj时，如果重写了__eq__方法，就需要多加小心"
   ]
  },
  {
   "cell_type": "code",
   "execution_count": 21,
   "metadata": {
    "collapsed": true
   },
   "outputs": [],
   "source": [
    "# x is None 判断是最快的，如果是自定义obj，==涉及更复杂判断"
   ]
  },
  {
   "cell_type": "code",
   "execution_count": 35,
   "metadata": {
    "collapsed": true
   },
   "outputs": [],
   "source": [
    "class Fibonacci:\n",
    "    def __init__(self, cache=None):\n",
    "        if cache:\n",
    "            self.cache = cache\n",
    "        else:\n",
    "            self.cache = dict()\n",
    "        \n",
    "    def fib(self, n):\n",
    "        if n in self.cache:\n",
    "            return self.cache[n]\n",
    "        elif n <= 2:\n",
    "            return 1\n",
    "        else:\n",
    "            print(\"calculating {}.\".format(n))\n",
    "            ret = self.fib(n-1) +self.fib(n-2)\n",
    "            self.cache[n] = ret\n",
    "            return ret"
   ]
  },
  {
   "cell_type": "code",
   "execution_count": 37,
   "metadata": {
    "scrolled": true
   },
   "outputs": [
    {
     "name": "stdout",
     "output_type": "stream",
     "text": [
      "calculating 10.\n",
      "calculating 9.\n",
      "calculating 8.\n",
      "calculating 7.\n",
      "calculating 6.\n",
      "calculating 5.\n",
      "calculating 4.\n",
      "calculating 3.\n",
      "55\n",
      "calculating 10.\n",
      "calculating 9.\n",
      "calculating 8.\n",
      "calculating 7.\n",
      "calculating 6.\n",
      "calculating 5.\n",
      "calculating 4.\n",
      "calculating 3.\n",
      "55\n"
     ]
    }
   ],
   "source": [
    "# cache 并没有被复用：因为第一次的dict()被判空。\n",
    "cache = dict()\n",
    "fc1 = Fibonacci(cache)\n",
    "fc2 = Fibonacci(cache)\n",
    "print(fc1.fib(10))\n",
    "print(fc2.fib(10))\n"
   ]
  },
  {
   "cell_type": "code",
   "execution_count": 38,
   "metadata": {
    "collapsed": true
   },
   "outputs": [],
   "source": [
    "class Fibonacci:\n",
    "    def __init__(self, cache=None):\n",
    "        if cache is not None:\n",
    "            self.cache = cache\n",
    "        else:\n",
    "            self.cache = dict()\n",
    "        \n",
    "    def fib(self, n):\n",
    "        if n in self.cache:\n",
    "            return self.cache[n]\n",
    "        elif n <= 2:\n",
    "            return 1\n",
    "        else:\n",
    "            print(\"calculating {}.\".format(n))\n",
    "            ret = self.fib(n-1) +self.fib(n-2)\n",
    "            self.cache[n] = ret\n",
    "            return ret"
   ]
  },
  {
   "cell_type": "code",
   "execution_count": 39,
   "metadata": {},
   "outputs": [
    {
     "name": "stdout",
     "output_type": "stream",
     "text": [
      "calculating 10.\n",
      "calculating 9.\n",
      "calculating 8.\n",
      "calculating 7.\n",
      "calculating 6.\n",
      "calculating 5.\n",
      "calculating 4.\n",
      "calculating 3.\n",
      "55\n",
      "55\n"
     ]
    }
   ],
   "source": [
    "# cache直接复用，实例共享cache\n",
    "cache = dict()\n",
    "fc1 = Fibonacci(cache)\n",
    "fc2 = Fibonacci(cache)\n",
    "print(fc1.fib(10))\n",
    "print(fc2.fib(10))\n"
   ]
  },
  {
   "cell_type": "markdown",
   "metadata": {},
   "source": [
    "### 3. 自定义类时默认值要给基础类型"
   ]
  },
  {
   "cell_type": "code",
   "execution_count": 32,
   "metadata": {},
   "outputs": [
    {
     "name": "stdout",
     "output_type": "stream",
     "text": [
      "Player a has:  []\n",
      "Player b has:  []\n",
      "Player c has:  ['sword']\n",
      "===================================\n",
      "Player a has:  ['sword', 'shield']  <--\n",
      "Player b has:  ['sword', 'shield']  <--\n",
      "Player c has:  ['sword']\n"
     ]
    }
   ],
   "source": [
    "#自定义类的【默认参数】是在定义时生成，且只会调用一次。\n",
    "#所以a和b共用了一个list\n",
    "class Player:\n",
    "    def __init__(self, name, items=[]): #应该用None\n",
    "        self.name = name\n",
    "        self.items = items\n",
    "\n",
    "a = Player(\"a\")\n",
    "b = Player(\"b\")\n",
    "c = Player(\"c\", [\"sword\"])\n",
    "print(\"Player a has: \", a.items)\n",
    "print(\"Player b has: \", b.items)\n",
    "print(\"Player c has: \", c.items)\n",
    "print(\"===================================\")\n",
    "a.items.append(\"sword\")\n",
    "b.items.append(\"shield\")\n",
    "print(\"Player a has: \", a.items, end=\"  <--\\n\")\n",
    "print(\"Player b has: \", b.items, end=\"  <--\\n\")\n",
    "print(\"Player c has: \", c.items)"
   ]
  },
  {
   "cell_type": "code",
   "execution_count": null,
   "metadata": {
    "collapsed": true
   },
   "outputs": [],
   "source": []
  }
 ],
 "metadata": {
  "kernelspec": {
   "display_name": "Python 3",
   "language": "python",
   "name": "python3"
  },
  "language_info": {
   "codemirror_mode": {
    "name": "ipython",
    "version": 3
   },
   "file_extension": ".py",
   "mimetype": "text/x-python",
   "name": "python",
   "nbconvert_exporter": "python",
   "pygments_lexer": "ipython3",
   "version": "3.6.1"
  }
 },
 "nbformat": 4,
 "nbformat_minor": 2
}
