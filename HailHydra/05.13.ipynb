{
 "cells": [
  {
   "cell_type": "markdown",
   "metadata": {},
   "source": [
    "python虚拟机是stack base，以栈为基础"
   ]
  },
  {
   "cell_type": "markdown",
   "metadata": {},
   "source": [
    "## CodeObject"
   ]
  },
  {
   "cell_type": "code",
   "execution_count": 1,
   "metadata": {
    "collapsed": true
   },
   "outputs": [],
   "source": [
    "def double(x):\n",
    "    return x * 2"
   ]
  },
  {
   "cell_type": "code",
   "execution_count": 2,
   "metadata": {},
   "outputs": [
    {
     "data": {
      "text/plain": [
       "<function __main__.double>"
      ]
     },
     "execution_count": 2,
     "metadata": {},
     "output_type": "execute_result"
    }
   ],
   "source": [
    "'''\n",
    "定义函数：即定义一个function object(函数对象)保存在变量中(从code object中load，load本身函数和名称)\n",
    "'''\n",
    "double"
   ]
  },
  {
   "cell_type": "code",
   "execution_count": 3,
   "metadata": {
    "scrolled": true
   },
   "outputs": [
    {
     "name": "stdout",
     "output_type": "stream",
     "text": [
      "  2           0 LOAD_FAST                0 (x)\n",
      "              2 LOAD_CONST               1 (2)\n",
      "              4 BINARY_MULTIPLY\n",
      "              6 RETURN_VALUE\n"
     ]
    }
   ],
   "source": [
    "import dis\n",
    "dis.dis(double)"
   ]
  },
  {
   "cell_type": "code",
   "execution_count": 4,
   "metadata": {},
   "outputs": [
    {
     "name": "stdout",
     "output_type": "stream",
     "text": [
      "  1           0 LOAD_NAME                0 (max)\n",
      "              2 LOAD_CONST               0 (1)\n",
      "              4 LOAD_CONST               0 (1)\n",
      "              6 CALL_FUNCTION            2\n",
      "              8 RETURN_VALUE\n"
     ]
    }
   ],
   "source": [
    "dis.dis(\"max(1,1)\")"
   ]
  },
  {
   "cell_type": "code",
   "execution_count": 5,
   "metadata": {},
   "outputs": [
    {
     "name": "stdout",
     "output_type": "stream",
     "text": [
      "  1           0 LOAD_CONST               0 (1)\n",
      "              2 CALL_FUNCTION            0\n",
      "              4 RETURN_VALUE\n"
     ]
    }
   ],
   "source": [
    "'''\n",
    "python中所有对象都可以调用，如果对象是callable则正常load，然后进行调用；\n",
    "                        如果对象并非callable，如下面的1，可以正常load对象，然后会在call_function的runtime时报错\n",
    "'''\n",
    "dis.dis(\"1()\")\n"
   ]
  },
  {
   "cell_type": "code",
   "execution_count": 6,
   "metadata": {},
   "outputs": [
    {
     "name": "stdout",
     "output_type": "stream",
     "text": [
      "4\n"
     ]
    }
   ],
   "source": [
    "'''\n",
    "所以函数可以作为参数，传入其他函数\n",
    "'''\n",
    "def cal_number(func, x):\n",
    "    print(func(x))\n",
    "cal_number(double, 2)\n"
   ]
  },
  {
   "cell_type": "code",
   "execution_count": 7,
   "metadata": {},
   "outputs": [
    {
     "name": "stdout",
     "output_type": "stream",
     "text": [
      "10\n",
      "15\n"
     ]
    }
   ],
   "source": [
    "'''\n",
    "函数不光可以作为变量传入，也可以作为返回值传出\n",
    "'''\n",
    "def get_multiple_func(n):\n",
    "    def multiple(x):\n",
    "        return n * x\n",
    "    return multiple\n",
    "double = get_multiple_func(2) #2为n，传给multiple，然后返回multiple(x):return x *2\n",
    "triple = get_multiple_func(3)\n",
    "\n",
    "print(double(5))\n",
    "print(triple(5))"
   ]
  },
  {
   "cell_type": "code",
   "execution_count": 8,
   "metadata": {},
   "outputs": [
    {
     "name": "stdout",
     "output_type": "stream",
     "text": [
      "<code object f at 0x10ced75d0, file \"<ipython-input-8-847fb160c0f0>\", line 1>\n"
     ]
    }
   ],
   "source": [
    "def f():\n",
    "    pass\n",
    "print(f.__code__)"
   ]
  },
  {
   "cell_type": "markdown",
   "metadata": {},
   "source": [
    "## decorator装饰器"
   ]
  },
  {
   "cell_type": "code",
   "execution_count": 25,
   "metadata": {
    "collapsed": true
   },
   "outputs": [],
   "source": [
    "def decorator(f):\n",
    "    pass"
   ]
  },
  {
   "cell_type": "code",
   "execution_count": 26,
   "metadata": {},
   "outputs": [
    {
     "name": "stdout",
     "output_type": "stream",
     "text": [
      "  2           0 LOAD_CONST               0 (None)\n",
      "              2 RETURN_VALUE\n"
     ]
    }
   ],
   "source": [
    "dis.dis(decorator)"
   ]
  },
  {
   "cell_type": "code",
   "execution_count": 27,
   "metadata": {},
   "outputs": [
    {
     "name": "stdout",
     "output_type": "stream",
     "text": [
      "  1           0 LOAD_NAME                0 (dis)\n",
      "              2 LOAD_ATTR                0 (dis)\n",
      "    -->       4 LOAD_NAME                1 (decorator)\n",
      "              6 CALL_FUNCTION            1\n",
      "              8 PRINT_EXPR\n",
      "             10 LOAD_CONST               0 (None)\n",
      "             12 RETURN_VALUE\n"
     ]
    }
   ],
   "source": [
    "@decoartor\n",
    "def double(x):\n",
    "    return x * 2\n",
    "dis.dis(double)"
   ]
  },
  {
   "cell_type": "code",
   "execution_count": 28,
   "metadata": {},
   "outputs": [],
   "source": [
    "'''\n",
    "以上等价于\n",
    "'''\n",
    "double4 = decorator(double)"
   ]
  },
  {
   "cell_type": "code",
   "execution_count": 29,
   "metadata": {},
   "outputs": [
    {
     "name": "stdout",
     "output_type": "stream",
     "text": [
      "  1           0 LOAD_NAME                0 (dis)\n",
      "              2 LOAD_ATTR                0 (dis)\n",
      "    -->       4 LOAD_NAME                1 (decorator)\n",
      "              6 CALL_FUNCTION            1\n",
      "              8 PRINT_EXPR\n",
      "             10 LOAD_CONST               0 (None)\n",
      "             12 RETURN_VALUE\n"
     ]
    }
   ],
   "source": [
    "dis.dis(double4)"
   ]
  },
  {
   "cell_type": "code",
   "execution_count": 36,
   "metadata": {},
   "outputs": [
    {
     "name": "stdout",
     "output_type": "stream",
     "text": [
      "运行时间: 1.0042610168457031\n"
     ]
    }
   ],
   "source": [
    "'''\n",
    "实际上decorator的入参、返回都是函数\n",
    "'''\n",
    "\n",
    "import time\n",
    "\n",
    "def timeit(f): #入参f函数\n",
    "    def wrapper(x): #入参x\n",
    "        start = time.time()\n",
    "        ret = f(x)  #调用f(入参为x)的函数变量\n",
    "        print(\"运行时间:\", time.time() - start)\n",
    "        return ret #返回函数结果\n",
    "    return wrapper #返回wrapper函数\n",
    "\n",
    "#等价于 my_funct = timeit(my_funct)  ==> wrapper中的f为myfunct\n",
    "@timeit\n",
    "def my_func(x):\n",
    "    time.sleep(x)\n",
    "\n",
    "my_func(1)"
   ]
  },
  {
   "cell_type": "code",
   "execution_count": 37,
   "metadata": {},
   "outputs": [
    {
     "name": "stdout",
     "output_type": "stream",
     "text": [
      "运行时间: 9.5367431640625e-07\n",
      "6\n"
     ]
    }
   ],
   "source": [
    "@timeit\n",
    "def other_func(x):\n",
    "    return x * 2\n",
    "print(other_func(3))"
   ]
  },
  {
   "cell_type": "code",
   "execution_count": 68,
   "metadata": {},
   "outputs": [
    {
     "name": "stdout",
     "output_type": "stream",
     "text": [
      "运行时间: 2.004676103591919\n",
      "None\n",
      "===========================\n",
      "运行时间: 2.1457672119140625e-06\n",
      "5\n"
     ]
    }
   ],
   "source": [
    "def timeit2(f):\n",
    "    '''\n",
    "    *args：把所有的参数按出现顺序打包成list\n",
    "    **kargs：把所有的key=value形式的参数打包成一个dict\n",
    "    '''\n",
    "    def wrapper(*args, **kwargs): # *\n",
    "        start = time.time()\n",
    "        ret = f(*args, **kwargs)  #调用f(入参为x)的函数变量\n",
    "        print(\"运行时间:\", time.time() - start)\n",
    "        return ret #返回函数结果\n",
    "    \n",
    "    return wrapper #返回wrapper函数\n",
    "\n",
    "@timeit2\n",
    "def my_func(x):\n",
    "    time.sleep(x)\n",
    "    \n",
    "@timeit2\n",
    "def my_add(x,y):\n",
    "    return x+y\n",
    "print(my_func(2))\n",
    "print(\"===========================\")\n",
    "print(my_add(2,3))\n",
    "print(\"===========================\")"
   ]
  },
  {
   "cell_type": "code",
   "execution_count": 73,
   "metadata": {},
   "outputs": [
    {
     "name": "stdout",
     "output_type": "stream",
     "text": [
      "运行时间: 0.00022792816162109375\n"
     ]
    },
    {
     "data": {
      "text/plain": [
       "2000"
      ]
     },
     "execution_count": 73,
     "metadata": {},
     "output_type": "execute_result"
    }
   ],
   "source": [
    "#带参数的decorator\n",
    "def timeit3(iteration):\n",
    "    \n",
    "    def inner(f):\n",
    "        \n",
    "        def wrapper(*args, **kwargs): # *\n",
    "            start = time.time()\n",
    "            ret = 0\n",
    "            for _ in range(iteration):\n",
    "                ret += f(*args, **kwargs)  #调用f(入参为x)的函数变量\n",
    "            print(\"运行时间:\", time.time() - start)\n",
    "            return ret #返回函数结果\n",
    "    \n",
    "        return wrapper #返回wrapper函数\n",
    "    \n",
    "    return inner\n",
    "\n",
    "'''\n",
    "不带参数的@timeit会直接调用double\n",
    "带参数10的@timeit会先调用timeit(10)，然后返回一个函数inner，用这个函数再调用double\n",
    "'''\n",
    "\n",
    "@timeit3(1000)\n",
    "def double(x):\n",
    "    return x * 2\n",
    "\n",
    "double(1)\n",
    "#等价于 double = timeit3(10)(double)\n",
    "#=====================================\n",
    "#等价于 inner = timeit3(10)\n",
    "# 加上 double = inner(double)\n",
    "\n"
   ]
  },
  {
   "cell_type": "code",
   "execution_count": null,
   "metadata": {
    "collapsed": true
   },
   "outputs": [],
   "source": []
  },
  {
   "cell_type": "code",
   "execution_count": 67,
   "metadata": {
    "collapsed": true
   },
   "outputs": [],
   "source": [
    "#*args,  **kwargs用法\n",
    "def a(*args,  **kwargs):\n",
    "    print(\"======*args========\")\n",
    "    print(args)\n",
    "    print(\"=====**kwargs======\")\n",
    "    print(kwargs)"
   ]
  },
  {
   "cell_type": "code",
   "execution_count": 63,
   "metadata": {},
   "outputs": [
    {
     "name": "stdout",
     "output_type": "stream",
     "text": [
      "======*args========\n",
      "(3, 4, 5)\n",
      "=====**kwargs======\n",
      "{}\n"
     ]
    }
   ],
   "source": [
    "a(*[3,4,5])\n",
    "# 或者直接a(3,4,5)，默认进*args"
   ]
  },
  {
   "cell_type": "code",
   "execution_count": 60,
   "metadata": {},
   "outputs": [
    {
     "name": "stdout",
     "output_type": "stream",
     "text": [
      "======*args========\n",
      "()\n",
      "=====**kwargs======\n",
      "{'a': 3, 'b': 4, 'c': 5}\n"
     ]
    }
   ],
   "source": [
    "a(**{\"a\":3,\"b\":4,\"c\":5})"
   ]
  },
  {
   "cell_type": "markdown",
   "metadata": {},
   "source": [
    "辅助解释：https://www.jb51.net/article/134782.htm"
   ]
  },
  {
   "cell_type": "code",
   "execution_count": null,
   "metadata": {
    "collapsed": true
   },
   "outputs": [],
   "source": [
    "def "
   ]
  }
 ],
 "metadata": {
  "kernelspec": {
   "display_name": "Python 3",
   "language": "python",
   "name": "python3"
  },
  "language_info": {
   "codemirror_mode": {
    "name": "ipython",
    "version": 3
   },
   "file_extension": ".py",
   "mimetype": "text/x-python",
   "name": "python",
   "nbconvert_exporter": "python",
   "pygments_lexer": "ipython3",
   "version": "3.6.1"
  }
 },
 "nbformat": 4,
 "nbformat_minor": 2
}
