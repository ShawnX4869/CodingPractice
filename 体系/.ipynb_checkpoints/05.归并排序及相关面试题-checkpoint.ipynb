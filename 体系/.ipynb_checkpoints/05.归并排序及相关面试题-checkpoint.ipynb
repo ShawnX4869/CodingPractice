{
 "cells": [
  {
   "cell_type": "markdown",
   "metadata": {},
   "source": [
    "## 1. 归并排序O(N*logN)"
   ]
  },
  {
   "cell_type": "code",
   "execution_count": 62,
   "metadata": {
    "collapsed": true
   },
   "outputs": [],
   "source": [
    "def merge(arr, L, M, R):\n",
    "    helpArr = [None] * (R - L + 1) \n",
    "    index = 0\n",
    "    P1 = L\n",
    "    P2 = M+1\n",
    "    while P1 <= M and P2 <= R:\n",
    "        if arr[P1] <= arr[P2]:\n",
    "            helpArr[index] = arr[P1]\n",
    "            P1 += 1\n",
    "        else:\n",
    "            helpArr[index] = arr[P2]\n",
    "            P2 += 1\n",
    "        index += 1\n",
    "    while P1 <= M:\n",
    "        helpArr[index] = arr[P1]\n",
    "        P1 += 1\n",
    "        index += 1\n",
    "    while P2 <= R:\n",
    "        helpArr[index] = arr[P2]\n",
    "        P2 += 1\n",
    "        index += 1\n",
    "    for i in range(R-L+1):\n",
    "        arr[L+i] = helpArr[i]\n",
    "    return\n",
    "\n",
    "# 递归版    \n",
    "def process(arr, L, R):\n",
    "    if L == R:\n",
    "        return\n",
    "    mid = L + ((R-L)>>1)\n",
    "    process(arr, L, mid)\n",
    "    process(arr, mid+1, R)\n",
    "    merge(arr, L, mid, R)\n",
    "    return\n",
    "# T(N) = 2*T(N/2) + O(N) ==> O(logN*N)\n",
    "# 比较行为相比O(N^2)的排序算法，并没有浪费\n",
    "def mergeSort(arr):\n",
    "    if not arr or len(arr) == 1:\n",
    "        return\n",
    "    process(arr, 0, len(arr) - 1)\n",
    "    return \n",
    "\n",
    "# 迭代版\n",
    "def mergeSort2(arr):\n",
    "    if not arr or len(arr) == 1:\n",
    "        return\n",
    "    N = len(arr)\n",
    "    mergeSize = 1\n",
    "    while mergeSize < N:\n",
    "        L = 0\n",
    "        while L < N - 1: #L不是最后一个数\n",
    "            # L...M 左组\n",
    "            M = L + mergeSize - 1\n",
    "            if M >= N - 1:\n",
    "                break\n",
    "            # M+1...R 右组\n",
    "            R = min(M + mergeSize, N-1)\n",
    "            merge(arr, L, M, R)\n",
    "            L = R + 1\n",
    "        if mergeSize > (N // 2):\n",
    "            break\n",
    "        mergeSize <<= 1  # 等价于 1 << mergeSize\n",
    "            "
   ]
  },
  {
   "cell_type": "code",
   "execution_count": 63,
   "metadata": {},
   "outputs": [
    {
     "name": "stdout",
     "output_type": "stream",
     "text": [
      "[1, 2, 3, 6, 6, 7]\n",
      "[1, 2, 3, 6, 6, 7]\n"
     ]
    }
   ],
   "source": [
    "arr=[6,3,2,1,6,7]\n",
    "arr2 = arr[:]\n",
    "mergeSort(arr)\n",
    "mergeSort2(arr2)\n",
    "print(arr)\n",
    "print(arr2)"
   ]
  },
  {
   "cell_type": "markdown",
   "metadata": {},
   "source": [
    "## 2.面试题"
   ]
  },
  {
   "cell_type": "markdown",
   "metadata": {},
   "source": [
    "### 2.1 小和问题\n",
    "每个数左边小于这个数的和为小和，一个数组所有的小和累加是多少即为小和问题。\n",
    "* 数组 = [6,3,2,1,6,7]\n",
    "* 小和 = [0,0,0,0,6,18]\n",
    "* 返回 = 6 + 18 = 24"
   ]
  },
  {
   "cell_type": "code",
   "execution_count": 99,
   "metadata": {
    "collapsed": true
   },
   "outputs": [],
   "source": [
    "#思路： 原题可转换为 一个数的右边有几个比当前数大，即产生sum(几个*当前数)的小和\n",
    "#mergeSort的merge过程中，\n",
    "#左值(indexLeft) < 右值(indexRight)时， 产生小和，且产生(R-indexRight+1)个左值；\n",
    "#左值            >= 右值时，直接拷贝。相对需要先拷贝右边，因为这样才能让左值正确遇到第一个比他大时，通过R-indexRight算出多少个比他大\n",
    "'''\n",
    "只盯着x\n",
    "x,5,6,3,2,3,4,5\n",
    "  ^            第一次merge，x考虑5是否比他大\n",
    "    ^ ^        第二次merge，x考虑6,3是否比他大\n",
    "        ^ ^ ^ ^第三次merge，x考虑2,3,4,5是否比他大\n",
    "当x为数组内的每个数，所有数的小和都被考虑了！\n",
    "'''\n",
    "def merge(arr, L, M, R):\n",
    "    helpArr = [None] * (R - L + 1) \n",
    "    index = 0\n",
    "    P1 = L\n",
    "    P2 = M+1\n",
    "    #新加: 相比原merge\n",
    "    res = 0\n",
    "    print(L,R)\n",
    "    while P1 <= M and P2 <= R:\n",
    "        if arr[P1] < arr[P2]:\n",
    "            #新加: 相比原merge多一行res\n",
    "            print((R - P2 + 1), \"*\", arr[P1])  \n",
    "            res += ((R - P2 + 1) * arr[P1])            \n",
    "            helpArr[index] = arr[P1]\n",
    "            P1 += 1\n",
    "        else:\n",
    "            helpArr[index] = arr[P2]\n",
    "            P2 += 1\n",
    "        index += 1\n",
    "    while P1 <= M:\n",
    "        helpArr[index] = arr[P1]\n",
    "        P1 += 1\n",
    "        index += 1\n",
    "    while P2 <= R:\n",
    "        helpArr[index] = arr[P2]\n",
    "        P2 += 1\n",
    "        index += 1\n",
    "    for i in range(R-L+1):\n",
    "        arr[L+i] = helpArr[i]\n",
    "    return res\n",
    "\n",
    "#既L...R排好序，又要求小和返回\n",
    "def process(arr, L, R):\n",
    "    if L == R:\n",
    "        return 0\n",
    "    mid = L + ((R-L)>>1)\n",
    "    return process(arr, L, mid) + process(arr, mid+1, R) + merge(arr, L, mid, R)\n",
    "\n",
    "def smallSum(arr):\n",
    "    if not arr or len(arr) < 2:\n",
    "        return 0\n",
    "    return process(arr, 0, len(arr)-1)"
   ]
  },
  {
   "cell_type": "code",
   "execution_count": null,
   "metadata": {
    "collapsed": true
   },
   "outputs": [],
   "source": [
    "# 注意 如果需要返回个数，那么sort过程可以加速；但如果是需要遍历出所有小和对，则无法加速，不排序无影响"
   ]
  },
  {
   "cell_type": "markdown",
   "metadata": {},
   "source": [
    "### 2.2 逆序对\n",
    "每个数与右侧比自己小的数，可以形成逆序对\n",
    "* 数组 = [6,3,2,1,6,7]\n",
    "* 逆序对 = [(6,3),(6,2),(6,1),(3,2),(3,1),(2,1)]\n",
    "* 返回 = 6"
   ]
  },
  {
   "cell_type": "code",
   "execution_count": 119,
   "metadata": {
    "collapsed": true
   },
   "outputs": [],
   "source": [
    "# 思路： mergeSort过程中，左侧数比右侧数大，产生(R-indexRight+1)个逆序对。\n",
    "# 注意： 要从右往左拷贝，谁大拷贝谁，且相等时先拷贝右侧，因为要保证左侧遇到第一个比自己小的后才能拷贝\n",
    "\n",
    "def merge(arr, L, M, R):\n",
    "    helpArr = [None] * (R - L + 1) \n",
    "    index = (R - L)\n",
    "    P1 = M\n",
    "    P2 = R\n",
    "    res = 0\n",
    "    #新加: 相比原merge\n",
    "    while P1 >= L and P2 >= M+1:\n",
    "        if arr[P1] > arr[P2]:\n",
    "            #新加: 相比原merge\n",
    "            res += (P2-M)\n",
    "            helpArr[index] = arr[P1]\n",
    "            P1 -= 1\n",
    "        else:\n",
    "            helpArr[index] = arr[P2]\n",
    "            P2 -= 1\n",
    "        index -= 1\n",
    "    while P1 >= L:\n",
    "        helpArr[index] = arr[P1]\n",
    "        P1 -= 1\n",
    "        index -=1\n",
    "    while P2 >= M+1:\n",
    "        helpArr[index] = arr[P2]\n",
    "        P2 -=1\n",
    "        index -= 1\n",
    "    for i in range(R-L+1):\n",
    "        arr[L+i] = helpArr[i]\n",
    "    return res\n",
    "def process(arr, L, R):\n",
    "    if L == R:\n",
    "        return 0\n",
    "    mid = L + ((R-L)>>1)\n",
    "    return process(arr, L, mid)+process(arr, mid+1, R)+merge(arr, L, mid, R)\n",
    "\n",
    "def reversePair(arr):\n",
    "    if not arr or len(arr) < 2:\n",
    "        return 0\n",
    "    ans = process(arr, 0, len(arr)-1)\n",
    "    return ans\n"
   ]
  },
  {
   "cell_type": "code",
   "execution_count": 120,
   "metadata": {},
   "outputs": [
    {
     "data": {
      "text/plain": [
       "6"
      ]
     },
     "execution_count": 120,
     "metadata": {},
     "output_type": "execute_result"
    }
   ],
   "source": [
    "reversePair([6,3,2,1,6,7])"
   ]
  },
  {
   "cell_type": "markdown",
   "metadata": {},
   "source": [
    "### 2.3 左数>右数*2的(左,右)对数\n",
    "* 数组 = [6,3,2,1,6,7]\n",
    "* 组对 = [(6,2),(6,1),(3,1)]\n",
    "* 返回 = 3\n"
   ]
  },
  {
   "cell_type": "code",
   "execution_count": 1,
   "metadata": {
    "collapsed": true
   },
   "outputs": [],
   "source": [
    "#思路： 两侧数组保持有序，左侧指针指第一个数，右侧指针放在-1(0之前)；对于每个左数，右侧尝试往右划，划不动时计算对数\n",
    "def merge(arr, L, M, R):\n",
    "    res = 0\n",
    "    w2 = M + 1\n",
    "    #w2表示 window[w1, w2)， 到不了w2\n",
    "    for w1 in range(L, M+1):\n",
    "        while w2 <= R and arr[w1] > (arr[w2]*2): #w2不回退技巧！O(N)\n",
    "            w2 += 1\n",
    "        #对于w1，划到了可以划的最右侧\n",
    "        res += (w2 - M - 1)\n",
    "    helpArr = [None] * (R - L + 1)\n",
    "    index = 0\n",
    "    P1 = L\n",
    "    P2 = M+1\n",
    "    while P1 <= M and P2 <= R:\n",
    "        if arr[P1] <= arr[P2]:\n",
    "            helpArr[index] = arr[P1]\n",
    "            P1 += 1\n",
    "        else:\n",
    "            helpArr[index] = arr[P2]\n",
    "            P2 += 1\n",
    "        index += 1\n",
    "    while P1 <= M:\n",
    "        helpArr[index] = arr[P1]\n",
    "        P1 += 1\n",
    "        index += 1\n",
    "    while P2 <= R:\n",
    "        helpArr[index] = arr[P2]\n",
    "        P2 += 1\n",
    "        index += 1\n",
    "    for i in range(R-L+1):\n",
    "        arr[L+i] = helpArr[i]\n",
    "    return res\n",
    "\n",
    "def process(arr, L, R):\n",
    "    if L == R:\n",
    "        return 0\n",
    "    mid = L + ((R - L)>>1)\n",
    "    return process(arr, L, mid) + process(arr, mid+1, R) + merge(arr, L, mid, R)\n",
    "\n",
    "\n",
    "def biggerThanTwice(arr):\n",
    "    if not arr or len(arr) < 2:\n",
    "        return 0\n",
    "    return process(arr, 0, len(arr)-1)"
   ]
  },
  {
   "cell_type": "code",
   "execution_count": 124,
   "metadata": {},
   "outputs": [
    {
     "data": {
      "text/plain": [
       "3"
      ]
     },
     "execution_count": 124,
     "metadata": {},
     "output_type": "execute_result"
    }
   ],
   "source": [
    "arr = [6,3,2,1,6,7]\n",
    "biggerThanTwice(arr)"
   ]
  },
  {
   "cell_type": "code",
   "execution_count": 125,
   "metadata": {},
   "outputs": [
    {
     "data": {
      "text/plain": [
       "12"
      ]
     },
     "execution_count": 125,
     "metadata": {},
     "output_type": "execute_result"
    }
   ],
   "source": [
    "arr = [1,3,9,13,1,1,1,4,5]\n",
    "biggerThanTwice(arr)"
   ]
  },
  {
   "cell_type": "code",
   "execution_count": null,
   "metadata": {
    "collapsed": true
   },
   "outputs": [],
   "source": []
  }
 ],
 "metadata": {
  "kernelspec": {
   "display_name": "Python 3",
   "language": "python",
   "name": "python3"
  },
  "language_info": {
   "codemirror_mode": {
    "name": "ipython",
    "version": 3
   },
   "file_extension": ".py",
   "mimetype": "text/x-python",
   "name": "python",
   "nbconvert_exporter": "python",
   "pygments_lexer": "ipython3",
   "version": "3.6.1"
  }
 },
 "nbformat": 4,
 "nbformat_minor": 2
}
