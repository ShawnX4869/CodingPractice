{
 "cells": [
  {
   "cell_type": "markdown",
   "metadata": {},
   "source": [
    "## 1. 拆分集合\n",
    "* 给定一个正数数组arr，请把arr中的所有数分成两个集合，尽可能让两个集合的累加和接近。\n",
    "* 在最接近的情况下，返回较小的那个集合的累加和"
   ]
  },
  {
   "cell_type": "code",
   "execution_count": 10,
   "metadata": {},
   "outputs": [],
   "source": [
    "def splitSumClosed(arr):\n",
    "    if not arr or len(arr) < 2:\n",
    "        return 0\n",
    "    s = 0\n",
    "    for i in arr:\n",
    "        s += i \n",
    "    return process(arr, 0, int(s / 2)) #，s >> 2 不行，因为s = -1时， s>>2=-1\n",
    "\n",
    "#arr[i,...]自由选择，返回尽量接近rest但不能超过rest的情况下，最接近的累加和是多少\n",
    "\n",
    "def process(arr, i, rest):\n",
    "    if i == len(arr):\n",
    "        return 0\n",
    "    else:\n",
    "        p1 = process(arr, i+1, rest)\n",
    "        p2 = 0 if res - arr[i] < 0 else process(arr, i+1, rest - arr[i]) + arr[i]\n",
    "        return max(p1,p2)\n",
    "    \n",
    "def dp(arr):\n",
    "    if not arr or len(arr) < 2:\n",
    "        return 0\n",
    "    s = 0\n",
    "    for i in arr:\n",
    "        s += i \n",
    "    aim = int(s / 2)\n",
    "    N = len(arr)\n",
    "    dp = [[0]*(aim+1) for _ in range(N+1)]\n",
    "    #dp[N][rest] = 0\n",
    "    for index in range(N-1, -1, 0):\n",
    "        for rest in range(aim + 1):\n",
    "            dp[index][rest] = dp[index+1][rest]\n",
    "            if rest - arr[i] >= 0:\n",
    "                dp[index][rest] = max(dp[index][rest], dp[index+1][rest - arr[i]] + arr[i])\n",
    "    return dp[0][aim]"
   ]
  },
  {
   "cell_type": "markdown",
   "metadata": {},
   "source": [
    "## 2.拆分集合(要求个数接近)\n",
    "给定一个正数数组arr，请把arr中的所有数分成两个集合，尽可能让两个集合的累加和接近。\n",
    "* 要求arr长度为偶数，两个集合个数一样多；长度为奇数，两个集合的个数只差一个\n",
    "* 在最接近的情况下，返回较小的那个集合的累加和"
   ]
  },
  {
   "cell_type": "code",
   "execution_count": 16,
   "metadata": {},
   "outputs": [],
   "source": [
    "#第一题加上最多挑x个的限制\n",
    "def process(arr, i, picks, rest):\n",
    "    if i == len(arr):\n",
    "        return 0 if picks == 0 else -1\n",
    "    else:\n",
    "        p1 = process(arr, i+1, picks, rest)\n",
    "        p2 = -1\n",
    "        if rest - arr[i]>= 0:\n",
    "            nxt = process(arr, i+1, picks - 1, rest - arr[i])\n",
    "        if nxt != -1:\n",
    "            p2 = nxt + arr[i]\n",
    "        return max(p1,p2)\n",
    "        \n",
    "    \n",
    "def splitNumClosedLimit(arr):\n",
    "    if not arr or len(arr) < 2:\n",
    "        return 0\n",
    "    s = 0\n",
    "    for i in arr:\n",
    "        s+= i\n",
    "    aim = int(s / 2)\n",
    "    if len(arr) & 1 == 0:\n",
    "        return process(arr, 0, length//2, aim)\n",
    "    else:\n",
    "        p1 = process(arr, 0, length//2, aim)\n",
    "        p2 = process(arr, 0, length//2 + 1, aim)\n",
    "        return max(p1,p2)\n",
    "    \n",
    "def dp(arr):\n",
    "    if not arr or len(arr) < 2:\n",
    "        return 0\n",
    "    s = 0\n",
    "    for i in arr:\n",
    "        s+= i\n",
    "    aim = int(s / 2)\n",
    "    N = len(arr)\n",
    "    M = N // 2 + 1 #picks向上取整\n",
    "    dp = [[-1] * (aim+1) for _ in range(M+1) for _ in range(N+1)]\n",
    "    for rest in range(aim+1):\n",
    "        dp[N][0][rest] = 0\n",
    "    for index in range(N-1, -1, -1):\n",
    "        for picks in range(1, M+1):\n",
    "            for rest in range(aim+1):\n",
    "                p1 = dp[index+1][picks][rest]\n",
    "                p2 = -1\n",
    "                nxt = -1\n",
    "                if arr[index] <= rest:\n",
    "                    nxt = dp[index+1][picks-1][rest - arr[index]]\n",
    "                if nxt != -1:\n",
    "                    p2 = arr[index] + nxt\n",
    "                dp[index][picks][rest] = max(p1,p2)\n",
    "    if len(arr) & 1 == 0:\n",
    "        return dp[0][length//2][aim]\n",
    "    else:\n",
    "        p1 = dp[0][length//2][aim]\n",
    "        p2 = dp[0][length//2 + 1][aim]\n",
    "        return max(p1,p2) "
   ]
  },
  {
   "cell_type": "markdown",
   "metadata": {},
   "source": [
    "尝试模型\n",
    "1. 从左到右：要或不要，背包问题\n",
    "2. 范围尝试：掐L...R一起往中间,共同组成情况1、2、3...最长回文子序列问题\n",
    "3. 样本对应：[0...i][0...j] i、j分别怎样，最长公共子序列问题\n",
    "4. 业务限制:咖啡机"
   ]
  },
  {
   "cell_type": "markdown",
   "metadata": {},
   "source": [
    "## 3.N皇后问题"
   ]
  },
  {
   "cell_type": "code",
   "execution_count": null,
   "metadata": {
    "collapsed": true
   },
   "outputs": [],
   "source": []
  }
 ],
 "metadata": {
  "kernelspec": {
   "display_name": "Python 3",
   "language": "python",
   "name": "python3"
  },
  "language_info": {
   "codemirror_mode": {
    "name": "ipython",
    "version": 3
   },
   "file_extension": ".py",
   "mimetype": "text/x-python",
   "name": "python",
   "nbconvert_exporter": "python",
   "pygments_lexer": "ipython3",
   "version": "3.6.1"
  }
 },
 "nbformat": 4,
 "nbformat_minor": 2
}
