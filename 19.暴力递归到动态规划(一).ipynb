{
 "cells": [
  {
   "cell_type": "markdown",
   "metadata": {},
   "source": [
    "## 动态规划\n",
    "1. 重复做的事缓存进表，不再展开\n",
    "2. 从尝试入手"
   ]
  },
  {
   "cell_type": "markdown",
   "metadata": {},
   "source": [
    "### 1.机器人问题\n",
    "* 一共有N个位置，有个机器人的位置在start，目标位置在aim，需要走的步数是K。\n",
    "* 小人如果步数剩余必须动，在1位置下一步必须走到2，在N位置下一步必须走到N-1。其余位置可左可右。\n",
    "* 返回start到aim的所有走法"
   ]
  },
  {
   "cell_type": "code",
   "execution_count": 32,
   "metadata": {
    "collapsed": true
   },
   "outputs": [],
   "source": [
    "#尝试过程\n",
    "#机器人当前位置cur，还有rest步要走，有1~N的位置。\n",
    "#返回从cur出发，走rest步后，最终停到aim的方法数？\n",
    "def process1(cur, rest, aim, N):\n",
    "    #走完了\n",
    "    if rest == 0:\n",
    "        return 1 if cur == aim else 0\n",
    "    #rest > 0\n",
    "    if cur == 1:\n",
    "        return process1(2, rest-1, aim, N)\n",
    "    if cur == N:\n",
    "        return process1(N-1, rest-1, aim, N)\n",
    "    #中间位置上\n",
    "    return process1(cur-1, rest-1, aim, N) + process1(cur+1, rest-1, aim, N)\n",
    "\n",
    "def ways1(N, start, aim, K):\n",
    "    if N < 2 or start < 1 or start > N or aim < 1 or aim > N or K < 1:\n",
    "        return -1\n",
    "    return process1(start, K, aim, N)"
   ]
  },
  {
   "cell_type": "code",
   "execution_count": 18,
   "metadata": {
    "collapsed": true
   },
   "outputs": [],
   "source": [
    "#尝试改傻缓存 == 记忆化搜索 == 从顶向下的动态规划"
   ]
  },
  {
   "cell_type": "code",
   "execution_count": 31,
   "metadata": {
    "collapsed": true
   },
   "outputs": [],
   "source": [
    "def process2(cur, rest, aim, N, dp):\n",
    "    if dp[cur][rest] != -1:\n",
    "        return dp[cur][rest]\n",
    "    #走完了\n",
    "    if rest == 0:\n",
    "        ans = 1 if cur == aim else 0\n",
    "    #rest > 0\n",
    "    elif cur == 1:\n",
    "        ans = process2(2, rest-1, aim, N, dp)\n",
    "    elif cur == N:\n",
    "        ans = process2(N-1, rest-1, aim, N, dp)\n",
    "    #中间位置上\n",
    "    else:\n",
    "        ans = process2(cur-1, rest-1, aim, N, dp) + process2(cur+1, rest-1, aim, N, dp)\n",
    "    #注意修改缓存表\n",
    "    dp[cur][rest] = ans\n",
    "    return ans\n",
    "\n",
    "def ways2(N, start, aim, K):\n",
    "    if N < 2 or start < 1 or start > N or aim < 1 or aim > N or K < 1:\n",
    "        return -1\n",
    "    dp = [[-1] * (K+1) for _ in range(aim+2)]\n",
    "    #dp[i][j]==-1 -> process1没算过\n",
    "    return process2(start, K, aim, N, dp)"
   ]
  },
  {
   "cell_type": "code",
   "execution_count": 30,
   "metadata": {
    "collapsed": true
   },
   "outputs": [],
   "source": [
    "# 根据位置依赖直接填表，避免递归\n",
    "def ways3(N, start, aim, K):\n",
    "    if N < 2 or start < 1 or start > N or aim < 1 or aim > N or K < 1:\n",
    "        return -1\n",
    "    dp = [[0] * (K+1) for _ in range(aim+2)]\n",
    "    #dp[i][j]==-1 -> process1没算过\n",
    "    dp[aim][0] = 1 #dp[...][0] = 0, dp[aim][0]=1\n",
    "    for rest in range(1, K+1):\n",
    "        dp[1][rest] = dp[2][res-1]\n",
    "        for cur in range(2, N):\n",
    "            dp[cur][res] = dp[cur-1][res-1]+dp[cur+1][res-1]\n",
    "        dp[N][rest-1] = dp[N-1][rest-1]\n",
    "        \n",
    "    return dp[start][K]"
   ]
  },
  {
   "cell_type": "code",
   "execution_count": 29,
   "metadata": {},
   "outputs": [
    {
     "name": "stdout",
     "output_type": "stream",
     "text": [
      "13\n",
      "13\n",
      "13\n"
     ]
    }
   ],
   "source": [
    "print(ways1(5,2,4,6))\n",
    "print(ways2(5,2,4,6))\n",
    "print(ways2(5,2,4,6))"
   ]
  },
  {
   "cell_type": "markdown",
   "metadata": {},
   "source": [
    "### 2.纸牌问题\n",
    "* 给定一个整数arr(>=0)，代表不同数值的纸牌排成一行。玩家AB依次拿走左侧或右侧的牌\n",
    "* 规定A先拿，B后拿。AB都很聪明，都拿最优解\n",
    "* 返回谁会赢"
   ]
  },
  {
   "cell_type": "code",
   "execution_count": 34,
   "metadata": {
    "collapsed": true
   },
   "outputs": [],
   "source": [
    "#根据规则返回获胜者的分数\n",
    "def win1(arr):\n",
    "    if not arr:\n",
    "        return 0\n",
    "    first = f(arr,0,len(arr)-1)\n",
    "    second = g(arr,0,len(arr)-1)\n",
    "    return max(first, second)\n",
    "\n",
    "#先手\n",
    "def f(arr, L, R):\n",
    "    if L==R:\n",
    "        return arr[L]\n",
    "    p1 = arr[L] + g(arr, L+1, R) #拿走L位置\n",
    "    p2 = arr[R] + g(arr, L, R-1) #拿走R位置\n",
    "    return max(p1,p2)\n",
    "\n",
    "#后手\n",
    "def g(arr, L, R):\n",
    "    if L==R:\n",
    "        return 0\n",
    "    p1 = f(arr, L+1, R) #对手做完决定，拿到最好\n",
    "    p2 = f(arr, L, R-1)\n",
    "    return min(p1,p2) #对手做决定，只能拿小的那个。两种可能里的最小能拿到最好的那个！\n",
    "        "
   ]
  },
  {
   "cell_type": "code",
   "execution_count": 43,
   "metadata": {
    "collapsed": true
   },
   "outputs": [],
   "source": [
    "#傻缓存法,f/g分别建表\n",
    "import numpy as np\n",
    "def win2(arr):\n",
    "    if not arr:\n",
    "        return 0\n",
    "    N = len(arr)\n",
    "    fmap = np.ones((N,N)) * (-1)\n",
    "    gmap = np.ones((N,N)) * (-1)\n",
    "    first = f2(arr,0,len(arr)-1, fmap, gmap)\n",
    "    second = g2(arr,0,len(arr)-1, fmap, gmap)\n",
    "    return max(first, second)\n",
    "\n",
    "#先手\n",
    "def f2(arr, L, R, fmap, gmap):\n",
    "    if fmap[L][R] != -1:\n",
    "        return fmap[L][R]\n",
    "    if L==R:\n",
    "        ans = arr[L]\n",
    "    else:\n",
    "        p1 = arr[L] + g2(arr, L+1, R, fmap, gmap) #拿走L位置\n",
    "        p2 = arr[R] + g2(arr, L, R-1, fmap, gmap) #拿走R位置\n",
    "        ans = max(p1,p2)\n",
    "    fmap[L][R] = ans\n",
    "    return ans\n",
    "\n",
    "#后手\n",
    "def g2(arr, L, R, fmap, gmap):\n",
    "    if gmap[L][R] != -1:\n",
    "        return gmap[L][R]\n",
    "    if L==R:\n",
    "        ans = 0\n",
    "    else:\n",
    "        p1 = f2(arr, L+1, R, fmap, gmap) #对手做完决定，拿到最好\n",
    "        p2 = f2(arr, L, R-1, fmap, gmap)\n",
    "        ans = min(p1, p2)\n",
    "    gmap[L][R] = ans\n",
    "    return ans #对手做决定，只能拿小的那个。两种可能里的最小能拿到最好的那个！\n",
    "        "
   ]
  },
  {
   "cell_type": "code",
   "execution_count": 47,
   "metadata": {
    "collapsed": true
   },
   "outputs": [],
   "source": [
    "#看base case填表\n",
    "def win3(arr):\n",
    "    if not arr:\n",
    "        return 0\n",
    "    N = len(arr)\n",
    "    fmap = np.ones((N,N)) * (-1)\n",
    "    gmap = np.ones((N,N)) * (-1)\n",
    "    for i in range(N):\n",
    "        fmap[i][i] = arr[i]\n",
    "        gmap[i][i] = 0    \n",
    "    for startCol in range(1, N):\n",
    "        L = 0\n",
    "        R = startCol\n",
    "        while R < N:\n",
    "            fmap[L][R] = max(arr[L] + gmap[L+1][R], arr[R] + gmap[L][R-1])\n",
    "            gmap[L][R] = min(fmap[L+1][R], fmap[L][R-1])\n",
    "            L += 1\n",
    "            R += 1\n",
    "    return max(fmap[0][N-1], gmap[0][N-1])"
   ]
  },
  {
   "cell_type": "code",
   "execution_count": 48,
   "metadata": {},
   "outputs": [
    {
     "name": "stdout",
     "output_type": "stream",
     "text": [
      "32\n",
      "32.0\n",
      "32.0\n"
     ]
    }
   ],
   "source": [
    "arr =[5,7,4,5,8,1,6,0,3,4,6,1,7]\n",
    "print(win1(arr))\n",
    "print(win2(arr))\n",
    "print(win3(arr))"
   ]
  },
  {
   "cell_type": "code",
   "execution_count": 42,
   "metadata": {},
   "outputs": [
    {
     "data": {
      "text/plain": [
       "array([[-1., -1.],\n",
       "       [-1., -1.]])"
      ]
     },
     "execution_count": 42,
     "metadata": {},
     "output_type": "execute_result"
    }
   ],
   "source": [
    "np.ones((2,2)) * -1"
   ]
  },
  {
   "cell_type": "code",
   "execution_count": null,
   "metadata": {
    "collapsed": true
   },
   "outputs": [],
   "source": []
  }
 ],
 "metadata": {
  "kernelspec": {
   "display_name": "Python 3",
   "language": "python",
   "name": "python3"
  },
  "language_info": {
   "codemirror_mode": {
    "name": "ipython",
    "version": 3
   },
   "file_extension": ".py",
   "mimetype": "text/x-python",
   "name": "python",
   "nbconvert_exporter": "python",
   "pygments_lexer": "ipython3",
   "version": "3.6.1"
  }
 },
 "nbformat": 4,
 "nbformat_minor": 2
}
