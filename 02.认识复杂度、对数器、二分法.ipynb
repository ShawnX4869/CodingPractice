{
 "cells": [
  {
   "cell_type": "code",
   "execution_count": 1,
   "metadata": {},
   "outputs": [
    {
     "data": {
      "text/plain": [
       "'\\n评价算法优劣的核心指标：\\n1.时间复杂度\\n2.额外空间复杂度\\n3.常数项时间\\n'"
      ]
     },
     "execution_count": 1,
     "metadata": {},
     "output_type": "execute_result"
    }
   ],
   "source": [
    "'''\n",
    "评价算法优劣的核心指标：\n",
    "1.时间复杂度\n",
    "2.额外空间复杂度\n",
    "3.常数项时间\n",
    "'''"
   ]
  },
  {
   "cell_type": "markdown",
   "metadata": {},
   "source": [
    "## 1.排序"
   ]
  },
  {
   "cell_type": "code",
   "execution_count": 2,
   "metadata": {
    "collapsed": true
   },
   "outputs": [],
   "source": [
    "def swap(arr, i, j):\n",
    "    temp = arr[i]\n",
    "    arr[i] = arr[j]\n",
    "    arr[j] = temp"
   ]
  },
  {
   "cell_type": "markdown",
   "metadata": {},
   "source": [
    "### 1.1 选择排序O(n2)"
   ]
  },
  {
   "cell_type": "code",
   "execution_count": 4,
   "metadata": {
    "collapsed": true
   },
   "outputs": [],
   "source": [
    "def selectionSort(arr):\n",
    "    if not arr or len(arr) < 2:\n",
    "        return\n",
    "    fit_index = 0\n",
    "    while fit_index < len(arr):\n",
    "        min_index = fit_index\n",
    "        for index in range(min_index + 1, len(arr)):\n",
    "            if arr[min_index] > arr[index]:\n",
    "                min_index = index\n",
    "        swap(arr, fit_index, min_index)\n",
    "        fit_index+= 1\n",
    "    return"
   ]
  },
  {
   "cell_type": "markdown",
   "metadata": {},
   "source": [
    "### 1.2 冒泡排序O(n2)"
   ]
  },
  {
   "cell_type": "code",
   "execution_count": 6,
   "metadata": {
    "collapsed": true
   },
   "outputs": [],
   "source": [
    "def bubbleSort(arr):\n",
    "    if not arr or len(arr) < 2:\n",
    "        return\n",
    "    fit_index = len(arr) - 1\n",
    "    while fit_index >= 0:\n",
    "        for index in range(0, fit_index):\n",
    "            if arr[index] > arr[index+1]:\n",
    "                swap(arr,index,index+1)\n",
    "        fit_index -= 1\n",
    "    return "
   ]
  },
  {
   "cell_type": "markdown",
   "metadata": {},
   "source": [
    "### 1.3 插入排序(n2)"
   ]
  },
  {
   "cell_type": "code",
   "execution_count": 26,
   "metadata": {
    "collapsed": true
   },
   "outputs": [],
   "source": [
    "def insertSort(arr):\n",
    "    if not arr or len(arr) < 2:\n",
    "        return\n",
    "    insert_index = 1\n",
    "    while insert_index < len(arr):\n",
    "        for index in range(insert_index,0,-1):\n",
    "            if arr[index-1] > arr[index]:\n",
    "                swap(arr, index, index-1)\n",
    "            else:\n",
    "                break\n",
    "        insert_index += 1\n",
    "    return"
   ]
  },
  {
   "cell_type": "markdown",
   "metadata": {},
   "source": [
    "## 2. 对数器"
   ]
  },
  {
   "cell_type": "code",
   "execution_count": 28,
   "metadata": {
    "collapsed": true
   },
   "outputs": [],
   "source": [
    "# 1 < logN < N < N * log < n^2 < N^3 < N^k < 2^N < 3^N"
   ]
  },
  {
   "cell_type": "code",
   "execution_count": 18,
   "metadata": {
    "collapsed": true
   },
   "outputs": [],
   "source": [
    "import random\n",
    "\n",
    "def generateRandomArray(maxSize, maxValue):\n",
    "    size = random.randint(0, maxSize) #[0, maxSize]\n",
    "    arr = [random.randint(-maxValue, maxValue) for _ in range(size)]\n",
    "    return arr"
   ]
  },
  {
   "cell_type": "code",
   "execution_count": 27,
   "metadata": {},
   "outputs": [
    {
     "name": "stdout",
     "output_type": "stream",
     "text": [
      "nice!\n"
     ]
    }
   ],
   "source": [
    "testTime = 10000\n",
    "maxSize = 100\n",
    "maxValue = 50\n",
    "succeed = True\n",
    "for _ in range(testTime):\n",
    "    arr = generateRandomArray(maxSize, maxValue)\n",
    "    arr2 = arr[:]\n",
    "    arr3 = arr[:]\n",
    "    selectionSort(arr)\n",
    "    bubbleSort(arr2)\n",
    "    insertSort(arr3)\n",
    "    if arr != arr2 or arr2 != arr3:\n",
    "        print(\"something wrong:\")\n",
    "        print(\"selectionSort: \", arr)\n",
    "        print(\"bubbleSort: \", arr2)        \n",
    "        print(\"insertSort: \", arr3)   \n",
    "        succeed = False\n",
    "        break\n",
    "if succeed:\n",
    "    print(\"nice!\")\n"
   ]
  },
  {
   "cell_type": "markdown",
   "metadata": {},
   "source": [
    "## 3.二分法"
   ]
  },
  {
   "cell_type": "markdown",
   "metadata": {},
   "source": [
    "### 3.1找到有序数组中某个值存在不存在"
   ]
  },
  {
   "cell_type": "code",
   "execution_count": 29,
   "metadata": {
    "collapsed": true
   },
   "outputs": [],
   "source": [
    "def binarySearch(sortedArr, num):\n",
    "    if not sortedArr or len(sortedArr) == 0:\n",
    "        return False\n",
    "    L = 0\n",
    "    R = len(sortedArr) - 1\n",
    "    while L <= R:\n",
    "        mid = L + ((R - L) >> 1)\n",
    "        if sortedArr[mid] == num:\n",
    "            return True\n",
    "        elif sortedArr[mid] > num:\n",
    "            L = mid + 1\n",
    "        else:\n",
    "            R = mid - 1\n",
    "    return False"
   ]
  },
  {
   "cell_type": "markdown",
   "metadata": {},
   "source": [
    "### 3.2 有序数组找到>=value的最左端"
   ]
  },
  {
   "cell_type": "code",
   "execution_count": 30,
   "metadata": {
    "collapsed": true
   },
   "outputs": [],
   "source": [
    "def findGreaterMostLeft(sortedArr, num):\n",
    "    if not sortedArr or len(sortedArr) == 0:\n",
    "        return -1\n",
    "    ans = -1\n",
    "    L = 0\n",
    "    R = len(sortedArr) - 1\n",
    "    while L <= R:\n",
    "        mid = L + ((R - L) >> 1)\n",
    "        if sortedArr[mid] >= num:\n",
    "            ans = mid\n",
    "            R = mid - 1\n",
    "        else:\n",
    "            L = mid + 1\n",
    "    return ans"
   ]
  },
  {
   "cell_type": "markdown",
   "metadata": {},
   "source": [
    "### 3.3 无序数组(无重复值)找到局部最小值"
   ]
  },
  {
   "cell_type": "code",
   "execution_count": 31,
   "metadata": {
    "collapsed": true
   },
   "outputs": [],
   "source": [
    "# 局部最小条件\n",
    "# [0]   <  [1]\n",
    "# [N-2] > [N-1]\n",
    "#以上都没中，中间一定存在最小值\n",
    "#   01...N-2N-1\n",
    "#     ↘...↙\n",
    "# [i-1] > [i] < [i + 1]\n",
    "\n",
    "def localMin(arr):\n",
    "    if not arr or len(arr) == 0:\n",
    "        return -1\n",
    "    if len(arr) == 1:\n",
    "        return 0\n",
    "    if arr[0] < arr[1]:\n",
    "        return 0\n",
    "    N = len(arr)\n",
    "    if arr[N-2] > arr[N-1]:\n",
    "        return N-1\n",
    "    L = 1\n",
    "    R = N - 2\n",
    "    while L < R:\n",
    "        mid = L + ((R - L)>>1)\n",
    "        if arr[mid] > arr[mid-1]:\n",
    "            R = mid - 1\n",
    "        elif arr[mid] > arr[mid+1]:\n",
    "            L = mid + 1\n",
    "        else:\n",
    "            return mid\n",
    "    return L"
   ]
  },
  {
   "cell_type": "code",
   "execution_count": null,
   "metadata": {
    "collapsed": true
   },
   "outputs": [],
   "source": []
  }
 ],
 "metadata": {
  "kernelspec": {
   "display_name": "Python 3",
   "language": "python",
   "name": "python3"
  },
  "language_info": {
   "codemirror_mode": {
    "name": "ipython",
    "version": 3
   },
   "file_extension": ".py",
   "mimetype": "text/x-python",
   "name": "python",
   "nbconvert_exporter": "python",
   "pygments_lexer": "ipython3",
   "version": "3.6.1"
  }
 },
 "nbformat": 4,
 "nbformat_minor": 2
}
