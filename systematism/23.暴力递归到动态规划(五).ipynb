{
 "cells": [
  {
   "cell_type": "markdown",
   "metadata": {},
   "source": [
    "## 1.打怪兽\n",
    "* 给定三个参数，N，M，K。怪兽有N滴血，等着英雄来砍。\n",
    "* 英雄每打一次，都会让怪兽流失[0~M]的血量，到底流多少？每次在[0~M]上等概率获得一个值。\n",
    "* 问K次打击后，英雄把怪兽砍死的概率（没到k次也算砍死了）"
   ]
  },
  {
   "cell_type": "code",
   "execution_count": 20,
   "metadata": {
    "collapsed": true
   },
   "outputs": [],
   "source": [
    "# (M+1)^K， 答案 = 砍死次数/(M+1)^K\n",
    "def beatPosbility(N,M,K):\n",
    "    if N < 1 or M < 1 or K < 1:\n",
    "        return 0\n",
    "    allBlood = (M+1)**K\n",
    "    killSucc = process(K,M,N)\n",
    "    return killSucc * 1.0 / allBlood\n",
    "#剩N滴血，M等概率掉血，还可以砍K次\n",
    "def process(times,M,hp):\n",
    "    if times == 0:\n",
    "        return 1 if hp <= 0 else 0\n",
    "    if hp <= 0:\n",
    "        return (M+1)**times\n",
    "    ways = 0 \n",
    "    for i in range(M+1): #模拟M等概率掉血\n",
    "        ways += process(times-1, M, hp-i)\n",
    "    return ways"
   ]
  },
  {
   "cell_type": "code",
   "execution_count": 21,
   "metadata": {
    "collapsed": true
   },
   "outputs": [],
   "source": [
    "def dp1(N,M,K):\n",
    "    if N < 1 or M < 1 or K < 1:\n",
    "        return 0\n",
    "    allBlood = (M+1)**K\n",
    "    \n",
    "    dp = [[0] * (N+1) for _ in range(K+1)]\n",
    "    dp[0][0] = 1\n",
    "    for times in range(1, K+1):\n",
    "        dp[times][0] = (M+1) ** times\n",
    "        for hp in range(1, N+1):\n",
    "            ways = 0\n",
    "            for i in range(M+1):#枚举行为继续优化\n",
    "                if hp - i >=0:\n",
    "                    ways += dp[times-1][hp-i]\n",
    "                else:\n",
    "                    ways += (M+1) ** (times-1)\n",
    "            dp[times][hp] = ways\n",
    "    killSucc = dp[K][N]\n",
    "\n",
    "    return  killSucc * 1.0 / allBlood * 1.0\n",
    "\n"
   ]
  },
  {
   "cell_type": "code",
   "execution_count": 22,
   "metadata": {},
   "outputs": [
    {
     "name": "stdout",
     "output_type": "stream",
     "text": [
      "0.2850486096724866\n",
      "0.2850486096724866\n"
     ]
    }
   ],
   "source": [
    "N = 35\n",
    "M = 10\n",
    "K = 6\n",
    "print(beatPosbility(N,M,K))\n",
    "print(dp1(N,M,K))"
   ]
  },
  {
   "cell_type": "code",
   "execution_count": 24,
   "metadata": {
    "collapsed": true
   },
   "outputs": [],
   "source": [
    "def dp2(N,M,K):\n",
    "    if N < 1 or M < 1 or K < 1:\n",
    "        return 0\n",
    "    allBlood = (M+1)**K\n",
    "    \n",
    "    dp = [[0] * (N+1) for _ in range(K+1)]\n",
    "    dp[0][0] = 1\n",
    "    for times in range(1, K+1):\n",
    "        dp[times][0] = (M+1) ** times\n",
    "        for hp in range(1, N+1):\n",
    "            dp[times][hp] = dp[times][hp-1] + dp[times-1][hp]\n",
    "            if hp-1-M >=0:\n",
    "                dp[times][hp] -=dp[times-1][hp-1-M] \n",
    "            else:\n",
    "                dp[times][hp] -= (M+1)**(times-1) #越界情况\n",
    "    killSucc = dp[K][N]\n",
    "\n",
    "    return  killSucc * 1.0 / allBlood * 1.0\n",
    "\n"
   ]
  },
  {
   "cell_type": "code",
   "execution_count": 25,
   "metadata": {},
   "outputs": [
    {
     "name": "stdout",
     "output_type": "stream",
     "text": [
      "0.2850486096724866\n",
      "0.2850486096724866\n",
      "0.2850486096724866\n"
     ]
    }
   ],
   "source": [
    "N = 35\n",
    "M = 10\n",
    "K = 6\n",
    "print(beatPosbility(N,M,K))\n",
    "print(dp1(N,M,K))\n",
    "print(dp2(N,M,K))"
   ]
  },
  {
   "cell_type": "markdown",
   "metadata": {},
   "source": [
    "## 2.货币数\n",
    "一个面值数组，里面的每种面值无限张。返回组成aim的最少货币张数。"
   ]
  },
  {
   "cell_type": "code",
   "execution_count": 33,
   "metadata": {},
   "outputs": [],
   "source": [
    "#同样从第一种面值出发，<=aim的张数一次尝试：方法数是求和，张数是求最小值\n",
    "from sys import maxsize as MAX_VALUE\n",
    "def minCoins(arr, aim):\n",
    "    return process(arr, 0, aim)\n",
    "\n",
    "def process(arr, index, rest):\n",
    "    if index == len(arr):\n",
    "        return 0 if rest == 0 else None\n",
    "    ans = None\n",
    "    for nums in range(rest // arr[index] + 1):\n",
    "        nxt = process(arr, index+1, rest - nums * arr[index])\n",
    "        if nxt is not None:\n",
    "            if ans is None:\n",
    "                ans = nxt+nums\n",
    "            else:\n",
    "                ans = min(ans, nxt+nums)\n",
    "    return ans\n",
    "\n",
    "def dp(arr, aim):\n",
    "    if aim == 0:\n",
    "        return 0\n",
    "    N = len(arr)\n",
    "    dp = [[None] * (aim+1) for _ in range(N+1)]\n",
    "    dp[N][0] = 0\n",
    "    for index in range(N-1, -1, -1):\n",
    "        for rest in range(aim+1):\n",
    "            ans = None\n",
    "            for nums in range(rest // arr[index] + 1):\n",
    "                nxt = dp[index+1][rest - nums * arr[index]]\n",
    "                if nxt is not None:\n",
    "                    if ans is None:\n",
    "                        ans = nxt+nums #剩余+当前张数\n",
    "                    else:\n",
    "                        ans = min(ans, nxt+nums)\n",
    "            dp[index][rest] = ans\n",
    "    return dp[0][aim]\n",
    "            "
   ]
  },
  {
   "cell_type": "code",
   "execution_count": 34,
   "metadata": {
    "collapsed": true
   },
   "outputs": [],
   "source": [
    "def dp2(arr, aim):\n",
    "    if aim == 0:\n",
    "        return 0\n",
    "    N = len(arr)\n",
    "    dp = [[None] * (aim+1) for _ in range(N+1)]\n",
    "    dp[N][0] = 0\n",
    "    for index in range(N-1, -1, -1):\n",
    "        for rest in range(aim+1):\n",
    "            dp[index][rest] = [index+1][rest]\n",
    "            if rest - arr[index] >= 0 and dp[index][rest - arr[index]] is not None: #dp[index][rest]左边有效\n",
    "                dp[index][rest] = min(dp[index][rest], dp[index][rest - arr[index]]+1) \n",
    "    return dp[0][aim]\n",
    "        "
   ]
  },
  {
   "cell_type": "code",
   "execution_count": 28,
   "metadata": {},
   "outputs": [
    {
     "data": {
      "text/plain": [
       "9223372036854775807"
      ]
     },
     "execution_count": 28,
     "metadata": {},
     "output_type": "execute_result"
    }
   ],
   "source": [
    "MAX_VALUE"
   ]
  },
  {
   "cell_type": "markdown",
   "metadata": {},
   "source": [
    "## 3.裂开数字的方法数\n",
    "1. 给定一个正数1，裂开的方法有一种；\n",
    "2. 给定一个正数2，裂开的方法有两种，{1和1}、{2}；\n",
    "3. 给定一个正数3，裂开的方法有三种，{1,1,1}、{1,2}、{3}；\n",
    "4. 给定一个正数4，裂开的方法有五种，{1,1,1,1}、{1,1,2}、{1,3}、{2,2}、{4}\n",
    "5. 求正数n的裂开方法数"
   ]
  },
  {
   "cell_type": "code",
   "execution_count": 40,
   "metadata": {},
   "outputs": [],
   "source": [
    "def splitNum(n):\n",
    "    if n < 0:\n",
    "        return 0\n",
    "    if n == 1:\n",
    "        return 1\n",
    "    return process(1,n)\n",
    "#上一个拆出来的数是pre，还剩rest去拆\n",
    "def process(pre, rest):\n",
    "    if rest == 0:\n",
    "        return 1\n",
    "    if pre > rest:\n",
    "        return 0\n",
    "    # pre < rest\n",
    "    ways = 0\n",
    "    for first in range(pre, rest+1):\n",
    "        ways += process(first, rest - first) \n",
    "    return ways\n",
    "  \n",
    "def dp(n):\n",
    "    if n < 0:\n",
    "        return 0\n",
    "    if n == 1:\n",
    "        return 1\n",
    "    dp = [[0]*(n+1) for _ in range(n+1)]\n",
    "    #dp[0]无效\n",
    "    #dp[1..N][0] = 1\n",
    "    #dp[pre][rest] = 0, where pre>rest\n",
    "    #dp[pre][rest] = 1, where pre = rest\n",
    "    for pre in range(n+1):\n",
    "        dp[pre][0] = 1\n",
    "        dp[pre][pre] = 1\n",
    "    for pre in range(n-1, 0, -1):\n",
    "        for rest in range(pre+1, n+1):\n",
    "            ways = 0\n",
    "            for first in range(pre, rest+1):\n",
    "                ways += dp[first][rest - first]\n",
    "            dp[pre][rest] = ways\n",
    "        \n",
    "    return dp[1][n]\n",
    "    \n",
    "def dp2(n):\n",
    "    if n < 0:\n",
    "        return 0\n",
    "    if n == 1:\n",
    "        return 1\n",
    "    dp = [[0]*(n+1) for _ in range(n+1)]\n",
    "    #dp[0]无效\n",
    "    #dp[1..N][0] = 1\n",
    "    #dp[pre][rest] = 0, where pre>rest\n",
    "    #dp[pre][rest] = 1, where pre = rest\n",
    "    for pre in range(n+1):\n",
    "        dp[pre][0] = 1\n",
    "        dp[pre][pre] = 1\n",
    "    for pre in range(n-1, 0, -1):\n",
    "        for rest in range(pre+1, n+1):\n",
    "            dp[pre][rest] = dp[pre+1][rest]\n",
    "            dp[pre][rest] += dp[pre][rest - pre]\n",
    "        \n",
    "    return dp[1][n]    "
   ]
  },
  {
   "cell_type": "code",
   "execution_count": 39,
   "metadata": {},
   "outputs": [
    {
     "name": "stdout",
     "output_type": "stream",
     "text": [
      "101\n",
      "101\n"
     ]
    }
   ],
   "source": [
    "print(splitNum(13))\n",
    "print(dp(13))"
   ]
  },
  {
   "cell_type": "code",
   "execution_count": null,
   "metadata": {
    "collapsed": true
   },
   "outputs": [],
   "source": []
  }
 ],
 "metadata": {
  "kernelspec": {
   "display_name": "Python 3",
   "language": "python",
   "name": "python3"
  },
  "language_info": {
   "codemirror_mode": {
    "name": "ipython",
    "version": 3
   },
   "file_extension": ".py",
   "mimetype": "text/x-python",
   "name": "python",
   "nbconvert_exporter": "python",
   "pygments_lexer": "ipython3",
   "version": "3.6.1"
  }
 },
 "nbformat": 4,
 "nbformat_minor": 2
}
