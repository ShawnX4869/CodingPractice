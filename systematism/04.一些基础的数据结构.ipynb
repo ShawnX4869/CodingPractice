{
 "cells": [
  {
   "cell_type": "markdown",
   "metadata": {},
   "source": [
    "## 1.单双链表"
   ]
  },
  {
   "cell_type": "code",
   "execution_count": 3,
   "metadata": {
    "collapsed": true
   },
   "outputs": [],
   "source": [
    "class LinkedNode:\n",
    "    def __init__(self, val, next=None):\n",
    "        self.val = val\n",
    "        self.next = next\n",
    "\n",
    "class DoubleLinkedNode:\n",
    "    def __init__(self, val, next=None, last=None):\n",
    "        self.val = val\n",
    "        self.next = next\n",
    "        self.last = last\n",
    "        \n"
   ]
  },
  {
   "cell_type": "markdown",
   "metadata": {},
   "source": [
    "### 1.1 反转链表"
   ]
  },
  {
   "cell_type": "code",
   "execution_count": 4,
   "metadata": {
    "collapsed": true
   },
   "outputs": [],
   "source": [
    "def reverseLinkedList(root):\n",
    "    if not root:\n",
    "        return root\n",
    "    pre = None\n",
    "    nxt = None\n",
    "    cur = root\n",
    "    while cur:\n",
    "        nxt = cur.next\n",
    "        cur.next = pre\n",
    "        pre = cur\n",
    "        cur = nxt\n",
    "    return pre\n",
    "\n",
    "def reverseDoubleLinkedList(root):\n",
    "    if not root:\n",
    "        return root\n",
    "    pre = None\n",
    "    nxt = None\n",
    "    cur = root\n",
    "    while cur:\n",
    "        nxt = cur.next\n",
    "        cur.next = pre\n",
    "        cur.last = nxt\n",
    "        pre = cur\n",
    "        cur = nxt\n",
    "    return pre"
   ]
  },
  {
   "cell_type": "markdown",
   "metadata": {},
   "source": [
    "### 1.2 删除指定value的Node"
   ]
  },
  {
   "cell_type": "code",
   "execution_count": 5,
   "metadata": {
    "collapsed": true
   },
   "outputs": [],
   "source": [
    "def deleteNode_self(root, value):\n",
    "    if not root:\n",
    "        return root\n",
    "    while root.val == value:\n",
    "        tmp = root.next\n",
    "        root.next = None\n",
    "        root = tmp\n",
    "    #此时root！=value\n",
    "    cur = root.next\n",
    "    pre = root\n",
    "    while cur:\n",
    "        if cur.val == value:\n",
    "            nxt = cur.next\n",
    "            cur.next = None #cur释放\n",
    "            pre.next = nxt\n",
    "            cur = nxt\n",
    "        else:\n",
    "            pre = cur\n",
    "            cur = cur.next\n",
    "    return root\n",
    "\n",
    "\n",
    "def deleteNode_official(head, num):\n",
    "    while head:\n",
    "        if head.val != num:\n",
    "            break\n",
    "        head = head.next\n",
    "    #head！=value\n",
    "    pre = head\n",
    "    cur = head\n",
    "    while cur:\n",
    "        if cur.val == num:\n",
    "            pre.next = cur.next\n",
    "        else:\n",
    "            pre = cur\n",
    "        cur = cur.next\n",
    "    return head    \n",
    "        "
   ]
  },
  {
   "cell_type": "markdown",
   "metadata": {},
   "source": [
    "## 2.栈和队列的实现"
   ]
  },
  {
   "cell_type": "markdown",
   "metadata": {},
   "source": [
    "### 2.1 双链表实现"
   ]
  },
  {
   "cell_type": "code",
   "execution_count": 7,
   "metadata": {
    "collapsed": true
   },
   "outputs": [],
   "source": [
    "class Stack:\n",
    "    def __init__(self, node=None):\n",
    "        self.head = node\n",
    "        self.tail = node\n",
    "        self.size = 0\n",
    "        if node:\n",
    "            self.size += 1\n",
    "            \n",
    "    def size(self):\n",
    "        return self.size\n",
    "    \n",
    "    def add(self, node):\n",
    "        if not self.head:\n",
    "            self.head = node\n",
    "            self.tail = node\n",
    "            self.size += 1\n",
    "        else:\n",
    "            self.head.last = node\n",
    "            node.next = self.head\n",
    "            self.head = node\n",
    "            self.size += 1\n",
    "    def pop(self):\n",
    "        if self.size == 0:\n",
    "            print(\"there is no node to pop.\")\n",
    "            return None\n",
    "        if self.size == 1:\n",
    "            node = self.head\n",
    "            self.head = None\n",
    "            self.tail = None\n",
    "            return node\n",
    "        #self.size > 1, 与tail无关\n",
    "        node = self.head\n",
    "        self.head = self.head.next\n",
    "        self.head.last = None\n",
    "        return node\n",
    "            \n",
    "    def peek(self):\n",
    "        if self.size == 0:\n",
    "            print(\"there is no node in stack.\") \n",
    "            return None\n",
    "        return self.head\n",
    "      \n",
    "        \n",
    "class Queue:\n",
    "    def __init__(self, node=None):\n",
    "        self.head = node\n",
    "        self.tail = node\n",
    "        self.size = 0\n",
    "        if node:\n",
    "            self.size += 1\n",
    "            \n",
    "    def size(self):\n",
    "        return self.size\n",
    "    \n",
    "    def add(self, node):\n",
    "        if not self.head:\n",
    "            self.head = node\n",
    "            self.tail = node\n",
    "            self.size += 1\n",
    "        else:\n",
    "            self.tail.next = node\n",
    "            node.last = self.tail\n",
    "            self.tail = node\n",
    "            self.size += 1\n",
    "    def poll(self):\n",
    "        if self.size == 0:\n",
    "            print(\"there is no node to poll.\")\n",
    "            return None\n",
    "        if self.size == 1:\n",
    "            node = self.head\n",
    "            self.head = None\n",
    "            self.tail = None\n",
    "            return node\n",
    "        #self.size > 1, 与tail无关\n",
    "        node = self.head\n",
    "        self.head = self.head.next\n",
    "        self.head.last = None\n",
    "        return node\n",
    "            \n",
    "    def peek(self):\n",
    "        if self.size == 0:\n",
    "            print(\"there is no node in queue.\") \n",
    "            return None\n",
    "        return self.head"
   ]
  },
  {
   "cell_type": "markdown",
   "metadata": {},
   "source": [
    "### 2.2 数组实现"
   ]
  },
  {
   "cell_type": "code",
   "execution_count": 24,
   "metadata": {
    "collapsed": true
   },
   "outputs": [],
   "source": [
    "#固定空间数组 实现队列 ，即弹出后空间再利用\n",
    "\n",
    "class MyQueue:\n",
    "    def __init__(self, limit=5):\n",
    "        self.arr = [None] * limit\n",
    "        self.pushi = 0\n",
    "        self.polli = 0\n",
    "        self.size = 0\n",
    "        self.limit = limit\n",
    "    def __nextIndex__(self, i):\n",
    "        return i + 1 if i < self.limit - 1 else 0\n",
    "        \n",
    "    def push(self, value):\n",
    "        if self.size == self.limit:\n",
    "            raise Exception(\"There is no space to add new value.\")\n",
    "        self.size += 1\n",
    "        self.arr[self.pushi] = value\n",
    "        self.pushi = self.__nextIndex__(self.pushi)\n",
    "        \n",
    "    def pop(self):\n",
    "        if self.size == 0:\n",
    "            raise Exception(\"There is no value to pop.\")\n",
    "        self.size -= 1\n",
    "        ans = self.arr[self.polli]\n",
    "        self.polli = self.__nextIndex__(self.polli)\n",
    "        return ans\n",
    "    \n",
    "    def isEmpty(self):\n",
    "        return self.size==0"
   ]
  },
  {
   "cell_type": "markdown",
   "metadata": {},
   "source": [
    "### 2.3 实现一个特殊的栈，在基础功能上，实现返回栈中最小元素的附加功能\n",
    "1. 要求pop、push、getMin操作的时间复杂度都是O(1)\n",
    "2. 设计的栈类型可以使用现成的栈结构"
   ]
  },
  {
   "cell_type": "code",
   "execution_count": null,
   "metadata": {
    "collapsed": true
   },
   "outputs": [],
   "source": [
    "#设计思路： 多加一个最小栈，每次压入时，最小栈压入min(栈顶，新压入)；\n",
    "#                                 最小栈弹出时，同步弹出两个栈\n",
    "\n",
    "class getMinStack:\n",
    "    def __init__(self, limit=5):\n",
    "        self.arr = [None] * limit\n",
    "        self.min = [None] * limit\n",
    "        self.index = 0\n",
    "        self.limit = limit\n",
    "        \n",
    "    def push(self, value):\n",
    "        if self.index == self.limit:\n",
    "            raise Exception(\"There is no space to add new value.\")\n",
    "        self.arr[self.index] = value\n",
    "        if self.index == 0:\n",
    "            self.min[self.index] = value\n",
    "        else:\n",
    "            self.min[self.index] = min(self.min[self.index-1], value)\n",
    "        self.index += 1\n",
    "        \n",
    "    def pop(self):\n",
    "        if self.index == 0:\n",
    "            raise Exception(\"There is no value to pop.\")\n",
    "        ans = self.arr[self.index - 1]\n",
    "        self.index -= 1\n",
    "        return ans\n",
    "    \n",
    "    def getMin(self):\n",
    "        if self.index == 0:\n",
    "            raise Exception(\"There is no value in stack.\")\n",
    "        ans = self.min[self.index - 1]\n",
    "        return ans\n",
    "    \n"
   ]
  },
  {
   "cell_type": "code",
   "execution_count": 34,
   "metadata": {},
   "outputs": [
    {
     "name": "stdout",
     "output_type": "stream",
     "text": [
      "[4, 2, 3] 1\n"
     ]
    }
   ],
   "source": [
    "a = [1,2,3]\n",
    "b = a[0]\n",
    "a[0] = 4\n",
    "print(a,b)"
   ]
  },
  {
   "cell_type": "code",
   "execution_count": 45,
   "metadata": {
    "collapsed": true
   },
   "outputs": [],
   "source": [
    "from collections import deque"
   ]
  },
  {
   "cell_type": "code",
   "execution_count": 52,
   "metadata": {
    "collapsed": true
   },
   "outputs": [],
   "source": [
    "a = deque(maxlen=5)"
   ]
  },
  {
   "cell_type": "code",
   "execution_count": 53,
   "metadata": {
    "collapsed": true
   },
   "outputs": [],
   "source": [
    "a.extend([5,3,4,5])"
   ]
  },
  {
   "cell_type": "code",
   "execution_count": 54,
   "metadata": {},
   "outputs": [
    {
     "data": {
      "text/plain": [
       "deque([5, 3, 4, 5])"
      ]
     },
     "execution_count": 54,
     "metadata": {},
     "output_type": "execute_result"
    }
   ],
   "source": [
    "a"
   ]
  },
  {
   "cell_type": "code",
   "execution_count": 55,
   "metadata": {
    "collapsed": true
   },
   "outputs": [],
   "source": [
    "n = 2\n",
    "a.rotate(n)\n",
    "# 整体向右移动n步，原右侧的n个数转回左侧"
   ]
  },
  {
   "cell_type": "code",
   "execution_count": 56,
   "metadata": {},
   "outputs": [
    {
     "data": {
      "text/plain": [
       "deque([4, 5, 5, 3])"
      ]
     },
     "execution_count": 56,
     "metadata": {},
     "output_type": "execute_result"
    }
   ],
   "source": [
    "a"
   ]
  },
  {
   "cell_type": "markdown",
   "metadata": {},
   "source": [
    "### 2.4 使用栈、队列结构互相转换\n",
    "注意:\n",
    "1. 图的宽度优先遍历，理论上用 队列实现， 可以用栈实现队列，再宽度\n",
    "2. 图的深度优先遍历，理论上用 栈实现，   可以用队列实现栈，再深度"
   ]
  },
  {
   "cell_type": "code",
   "execution_count": 66,
   "metadata": {
    "collapsed": true
   },
   "outputs": [],
   "source": [
    "# 使用 栈 实现 队列\n",
    "#https://leetcode.com/problems/implement-queue-using-stacks/\n",
    "\n",
    "#思路： push栈，pop栈\n",
    "# 当push时， 不断向push栈压入即可\n",
    "# 当pop时，如果pop栈不为空，弹出即可；若pop栈为空，则将push栈依次弹出，压入pop栈，再从pop栈弹出（push栈到pop栈会逆序\n",
    "\n",
    "class MyQueue:\n",
    "    def __init__(self):\n",
    "        self.pushStack = list()\n",
    "        self.popStack = list()\n",
    "        \n",
    "    def __pushToPop__(self):\n",
    "        if not self.popStack:\n",
    "            while self.pushStack:\n",
    "                self.popStack.append(self.pushStack.pop())\n",
    "    \n",
    "    def push(self, x):\n",
    "        self.pushStack.append(x)\n",
    "        self.__pushToPop__()\n",
    "        \n",
    "    def pop(self):\n",
    "        if not self.pushStack and not self.popStack:\n",
    "            raise Exception(\"Queue is empty!\")\n",
    "        self.__pushToPop__()\n",
    "        ans = self.popStack.pop()\n",
    "        return ans\n",
    "    \n",
    "    def peek(self):\n",
    "        if not self.pushStack and not self.popStack:\n",
    "            raise Exception(\"Queue is empty!\")\n",
    "        self.__pushToPop__()\n",
    "        return self.popStack[-1]\n",
    "    \n",
    "    def empty(self):\n",
    "        return not self.pushStack and not self.popStack"
   ]
  },
  {
   "cell_type": "code",
   "execution_count": 69,
   "metadata": {
    "collapsed": true
   },
   "outputs": [],
   "source": [
    "# 使用 队列 实现 栈\n",
    "# https://leetcode.com/problems/implement-stack-using-queues/\n",
    "class MyStack:\n",
    "    def __init__(self):\n",
    "        self.queue = list()\n",
    "        self.help = list()\n",
    "    def push(self, x: int) -> None:\n",
    "        self.queue.append(x)\n",
    "    def pop(self) -> int:\n",
    "        if not self.queue:\n",
    "            raise Exception(\"Stack is empty!\")\n",
    "        while len(self.queue)>1:\n",
    "            self.help.append(self.queue.pop(0))\n",
    "        ans = self.queue.pop(0)\n",
    "        tmp = self.help\n",
    "        self.help = self.queue\n",
    "        self.queue = tmp\n",
    "        return ans\n",
    "\n",
    "    def top(self) -> int:\n",
    "        if not self.queue:\n",
    "            raise Exception(\"Stack is empty!\")\n",
    "        while len(self.queue)>1:\n",
    "            self.help.append(self.queue.pop(0))\n",
    "        ans = self.queue.pop(0)\n",
    "        self.help.append(ans)\n",
    "        tmp = self.help\n",
    "        self.help = self.queue\n",
    "        self.queue = tmp\n",
    "        return ans\n",
    "\n",
    "    def empty(self) -> bool:\n",
    "        return not self.queue\n",
    "    \n",
    "    \n",
    "#leetcode discussion\n",
    "class Stack:\n",
    "    def __init__(self):\n",
    "        self._queue = collections.deque()\n",
    "    def push(self, x):\n",
    "        q = self._queue\n",
    "        q.append(x)\n",
    "        # q.rotate(1) 可代替以下for循环\n",
    "        for _ in range(len(q) - 1):\n",
    "            q.append(q.popleft())\n",
    "        \n",
    "    def pop(self):\n",
    "        return self._queue.popleft()\n",
    "\n",
    "    def top(self):\n",
    "        return self._queue[0]\n",
    "    \n",
    "    def empty(self):\n",
    "        return not len(self._queue)"
   ]
  },
  {
   "cell_type": "markdown",
   "metadata": {},
   "source": [
    "## 3. 递归\n",
    "任何递归都能改成非递归"
   ]
  },
  {
   "cell_type": "code",
   "execution_count": null,
   "metadata": {
    "collapsed": true
   },
   "outputs": [],
   "source": [
    "'''\n",
    "Master公式: 分析递归函数的时间复杂度\n",
    "T(N) = a * T(N/b) + O(N^d)， 要求T(N/b)子问题规模一致\n",
    "\n",
    "1. logb(a) < d ==> O(N^d)\n",
    "2. logb(a) > d ==> O(N^(logb(a)))\n",
    "3. logb(a) = d ==> O( (N^d) * log(N) ) \n",
    "'''\n"
   ]
  },
  {
   "cell_type": "markdown",
   "metadata": {},
   "source": [
    "## 4.哈希表\n",
    "1. 如果key是基础类型，哈希表的key为值传递\n",
    "2. 如果key是对象类型，哈希表的key为引用传递\n",
    "3. 增删改查O(1)"
   ]
  },
  {
   "cell_type": "code",
   "execution_count": 8,
   "metadata": {
    "collapsed": true
   },
   "outputs": [],
   "source": [
    "a = 1\n",
    "b = 1"
   ]
  },
  {
   "cell_type": "code",
   "execution_count": 15,
   "metadata": {},
   "outputs": [
    {
     "name": "stdout",
     "output_type": "stream",
     "text": [
      "4461291560 4461292456\n"
     ]
    }
   ],
   "source": [
    "print(id(a), id(b))"
   ]
  },
  {
   "cell_type": "code",
   "execution_count": 9,
   "metadata": {
    "collapsed": true
   },
   "outputs": [],
   "source": [
    "d = dict()"
   ]
  },
  {
   "cell_type": "code",
   "execution_count": 10,
   "metadata": {
    "collapsed": true
   },
   "outputs": [],
   "source": [
    "d[a] = 321"
   ]
  },
  {
   "cell_type": "code",
   "execution_count": 11,
   "metadata": {},
   "outputs": [
    {
     "data": {
      "text/plain": [
       "321"
      ]
     },
     "execution_count": 11,
     "metadata": {},
     "output_type": "execute_result"
    }
   ],
   "source": [
    "d[b]"
   ]
  },
  {
   "cell_type": "code",
   "execution_count": 12,
   "metadata": {
    "collapsed": true
   },
   "outputs": [],
   "source": [
    "a = LinkedNode(5)\n",
    "b = LinkedNode(5)"
   ]
  },
  {
   "cell_type": "code",
   "execution_count": 13,
   "metadata": {
    "collapsed": true
   },
   "outputs": [],
   "source": [
    "d[a] = 321"
   ]
  },
  {
   "cell_type": "code",
   "execution_count": 14,
   "metadata": {},
   "outputs": [
    {
     "ename": "KeyError",
     "evalue": "<__main__.LinkedNode object at 0x109e9eba8>",
     "output_type": "error",
     "traceback": [
      "\u001b[0;31m---------------------------------------------------------------------------\u001b[0m",
      "\u001b[0;31mKeyError\u001b[0m                                  Traceback (most recent call last)",
      "\u001b[0;32m<ipython-input-14-f23df7077ea7>\u001b[0m in \u001b[0;36m<module>\u001b[0;34m()\u001b[0m\n\u001b[0;32m----> 1\u001b[0;31m \u001b[0md\u001b[0m\u001b[0;34m[\u001b[0m\u001b[0mb\u001b[0m\u001b[0;34m]\u001b[0m\u001b[0;34m\u001b[0m\u001b[0m\n\u001b[0m",
      "\u001b[0;31mKeyError\u001b[0m: <__main__.LinkedNode object at 0x109e9eba8>"
     ]
    }
   ],
   "source": [
    "d[b]"
   ]
  },
  {
   "cell_type": "markdown",
   "metadata": {},
   "source": [
    "## 5. 有序表\n",
    "增删改查O(logN)，内部有序，可以得到最小值、最大值，最接近某个key的floorkey、ceilingkey的值"
   ]
  },
  {
   "cell_type": "code",
   "execution_count": null,
   "metadata": {
    "collapsed": true
   },
   "outputs": [],
   "source": []
  }
 ],
 "metadata": {
  "kernelspec": {
   "display_name": "Python 3",
   "language": "python",
   "name": "python3"
  },
  "language_info": {
   "codemirror_mode": {
    "name": "ipython",
    "version": 3
   },
   "file_extension": ".py",
   "mimetype": "text/x-python",
   "name": "python",
   "nbconvert_exporter": "python",
   "pygments_lexer": "ipython3",
   "version": "3.6.1"
  }
 },
 "nbformat": 4,
 "nbformat_minor": 2
}
