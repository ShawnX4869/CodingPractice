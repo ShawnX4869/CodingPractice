{
 "cells": [
  {
   "cell_type": "markdown",
   "metadata": {},
   "source": [
    "## 1. 链表"
   ]
  },
  {
   "cell_type": "markdown",
   "metadata": {},
   "source": [
    "### 1.1 逆序单链表"
   ]
  },
  {
   "cell_type": "code",
   "execution_count": 54,
   "metadata": {
    "collapsed": true
   },
   "outputs": [],
   "source": [
    "class Node:\n",
    "    def __init__(self, value, next_node=None):\n",
    "        self.value = value\n",
    "        self.next = next_node\n",
    "                \n",
    "def reverseLinkedList(node):\n",
    "    if not node:\n",
    "        return node\n",
    "    nxt = None\n",
    "    pre = None\n",
    "    cur = node\n",
    "    while cur:\n",
    "        nxt = cur.next\n",
    "        cur.next = pre\n",
    "        pre = cur\n",
    "        cur = nxt\n",
    "    return pre\n",
    "    "
   ]
  },
  {
   "cell_type": "code",
   "execution_count": 55,
   "metadata": {
    "collapsed": true
   },
   "outputs": [],
   "source": [
    "def printLinkedList(node):\n",
    "    if not node:\n",
    "        print(\"List is empty.\")\n",
    "    cur = node\n",
    "    while cur:\n",
    "        print(cur.value, end=\"\")\n",
    "        if cur.next:\n",
    "            print(\"->\",end=\"\")\n",
    "        cur = cur.next\n",
    "    print()\n",
    "    print(\"All done.\")"
   ]
  },
  {
   "cell_type": "code",
   "execution_count": 56,
   "metadata": {
    "collapsed": true
   },
   "outputs": [],
   "source": [
    "n1 = Node(1)\n",
    "n1.next = Node(2)\n",
    "n1.next.next = Node(3)\n",
    "n1.next.next.next = Node(4)"
   ]
  },
  {
   "cell_type": "code",
   "execution_count": 57,
   "metadata": {},
   "outputs": [
    {
     "name": "stdout",
     "output_type": "stream",
     "text": [
      "1->2->3->4\n",
      "All done.\n"
     ]
    }
   ],
   "source": [
    "printLinkedList(n1)"
   ]
  },
  {
   "cell_type": "code",
   "execution_count": 58,
   "metadata": {
    "collapsed": true
   },
   "outputs": [],
   "source": [
    "n2 = reverseLinkedList(n1)"
   ]
  },
  {
   "cell_type": "code",
   "execution_count": 59,
   "metadata": {},
   "outputs": [
    {
     "name": "stdout",
     "output_type": "stream",
     "text": [
      "1\n",
      "All done.\n"
     ]
    }
   ],
   "source": [
    "printLinkedList(n1)"
   ]
  },
  {
   "cell_type": "code",
   "execution_count": 60,
   "metadata": {},
   "outputs": [
    {
     "name": "stdout",
     "output_type": "stream",
     "text": [
      "4->3->2->1\n",
      "All done.\n",
      "4->3->2->1\n",
      "All done.\n"
     ]
    }
   ],
   "source": [
    "printLinkedList(n2)\n",
    "def f(n1):\n",
    "    #这里的f的参数为值引用\n",
    "    n1 = n1.next\n",
    "f(n2)\n",
    "printLinkedList(n2)"
   ]
  },
  {
   "cell_type": "markdown",
   "metadata": {},
   "source": [
    "### 1.2 逆序双链表"
   ]
  },
  {
   "cell_type": "code",
   "execution_count": 61,
   "metadata": {
    "collapsed": true
   },
   "outputs": [],
   "source": [
    "class doubleNode:\n",
    "    def __init__(self, value, last_node=None, next_node=None):\n",
    "        self.value = value\n",
    "        self.next = next_node\n",
    "        self.last = last_node\n",
    "\n",
    "def reverseDoubleLinkedList(node):\n",
    "    if not node:\n",
    "        return node\n",
    "    # 1<->2<->3\n",
    "    cur = node\n",
    "    pre = None\n",
    "    nxt = None\n",
    "    while cur:\n",
    "        nxt = cur.next\n",
    "        cur.next = pre\n",
    "        cur.last = nxt\n",
    "        pre = cur\n",
    "        cur = nxt\n",
    "    return pre"
   ]
  },
  {
   "cell_type": "markdown",
   "metadata": {},
   "source": [
    "### 1.3单链表实现队列"
   ]
  },
  {
   "cell_type": "code",
   "execution_count": null,
   "metadata": {
    "collapsed": true
   },
   "outputs": [],
   "source": [
    "class Node:\n",
    "    def __init__(self, value, next_node = None):\n",
    "        self.value = value\n",
    "        self.next = next_node\n",
    "class MyQueue:\n",
    "    def __init__(self):\n",
    "        self.head = None\n",
    "        self.tail = None\n",
    "        self.size = 0\n",
    "        \n",
    "    def isEmpty(self):\n",
    "        return self.size == 0\n",
    "    \n",
    "    def size(self):\n",
    "        return self.size\n",
    "    \n",
    "    def offer(self, value):\n",
    "        node = Node(value)\n",
    "        if not self.head:\n",
    "            self.head = node\n",
    "            self.tail = node\n",
    "        else:\n",
    "            self.tail.next = node\n",
    "            self.tail = node\n",
    "        self.size += 1\n",
    "    \n",
    "    def poll(self):\n",
    "        ans = None\n",
    "        if self.head:\n",
    "            ans = self.head.value\n",
    "            self.head = self.head.next\n",
    "            self.size -= 1\n",
    "        if not self.head:\n",
    "            self.tail = None\n",
    "        return ans\n",
    "    \n",
    "    def peek(self):\n",
    "        return self.head.value\n",
    "            "
   ]
  },
  {
   "cell_type": "markdown",
   "metadata": {},
   "source": [
    "### 1.4单链表实现栈"
   ]
  },
  {
   "cell_type": "code",
   "execution_count": null,
   "metadata": {
    "collapsed": true
   },
   "outputs": [],
   "source": [
    "class Node:\n",
    "    def __init__(self, value, next_node = None):\n",
    "        self.value = value\n",
    "        self.next = next_node\n",
    "class MyQueue:\n",
    "    def __init__(self):\n",
    "        self.head = None\n",
    "        self.size = 0\n",
    "        \n",
    "    def isEmpty(self):\n",
    "        return self.size == 0\n",
    "    \n",
    "    def size(self):\n",
    "        return self.size\n",
    "    \n",
    "    def push(self, value):\n",
    "        node = Node(value)\n",
    "        if not self.head:\n",
    "            self.head = node\n",
    "        else:\n",
    "            node.next = self.head\n",
    "            self.head = node\n",
    "        self.size += 1\n",
    "    \n",
    "    def pop(self):\n",
    "        ans = None\n",
    "        if self.head:\n",
    "            ans = self.head.value\n",
    "            self.head = self.head.next\n",
    "            self.size -= 1\n",
    "        return ans\n",
    "    \n",
    "    def peek(self):\n",
    "        return self.head.value\n",
    "    "
   ]
  },
  {
   "cell_type": "markdown",
   "metadata": {},
   "source": [
    "### 1.5 双链表实现双端队列"
   ]
  },
  {
   "cell_type": "code",
   "execution_count": null,
   "metadata": {
    "collapsed": true
   },
   "outputs": [],
   "source": [
    "class doubleNode:\n",
    "    def __init__(self, value, next_node=None, last_node=None):\n",
    "        self.value = self.value\n",
    "        self.next = next_node\n",
    "        self.last = last_node\n",
    "        \n",
    "#单链表实现双端队列，不能做到O(1)复杂度尾部删除node\n",
    "class myDeque:\n",
    "    def __init__(self):\n",
    "        self.head = None\n",
    "        self.size = None\n",
    "        self.size = 0\n",
    "        \n",
    "    def isEmpyty(self):\n",
    "        return self.size == 0\n",
    "    \n",
    "    def size(self):\n",
    "        return self.size\n",
    "    \n",
    "    def pushHead(self, value):\n",
    "        node = doubleNode(value)\n",
    "        if self.head:\n",
    "            node.next = self.head\n",
    "            self.head.last = node\n",
    "            self.head = node\n",
    "        else:\n",
    "            self.head = node\n",
    "            self.tail = node\n",
    "        self.size += 1\n",
    "    \n",
    "    def pushTail(self, value):\n",
    "        node = doubleNode(value)\n",
    "        if self.tail:\n",
    "            self.tail.next = node\n",
    "            node.last = self.tail\n",
    "            self.tail = node\n",
    "        else:\n",
    "            self.head = node\n",
    "            self.tail = node\n",
    "        self.size += 1\n",
    "        \n",
    "    def pollHead(self):\n",
    "        ans = None\n",
    "        if not self.head:\n",
    "            return ans\n",
    "        self.size -= 1\n",
    "        ans = self.head.value\n",
    "        if self.head == self.tail:\n",
    "            self.head = None\n",
    "            self.tail = None\n",
    "        else:\n",
    "            self.head = self.head.next\n",
    "            self.head.last = None\n",
    "        return ans\n",
    "#         personal\n",
    "#         ans = None\n",
    "#         if self.head:\n",
    "#             ans = self.head.value\n",
    "#             self.head = self.head.next\n",
    "#             self.size -= 1\n",
    "#         if self.head:\n",
    "#             self.head.last = None\n",
    "#         else:\n",
    "#             self.tail = None\n",
    "#         return ans\n",
    "\n",
    "    \n",
    "     def pollTail(self):\n",
    "        ans = None\n",
    "        if not self.tail\n",
    "            return ans\n",
    "        self.size -= 1\n",
    "        ans = self.tail.value\n",
    "        if self.head == self.tail:\n",
    "            self.head = None\n",
    "            self.tail = None\n",
    "        else:\n",
    "            self.tail = self.tail.last\n",
    "            self.tail.next = None\n",
    "        return ans\n",
    "#         personal\n",
    "#         ans = None\n",
    "#         if self.tail:\n",
    "#             ans = self.tail.value\n",
    "#             self.tail = self.tail.last\n",
    "#             self.size -= 1\n",
    "#         if self.tail:\n",
    "#             self.tail.next = None\n",
    "#         else:\n",
    "#             self.tail = None \n",
    "#         return ans\n",
    "    \n",
    "    def peekHead(self):\n",
    "        return self.head.value\n",
    "    \n",
    "    def peekTail(self):\n",
    "        return self.tail.value"
   ]
  },
  {
   "cell_type": "markdown",
   "metadata": {},
   "source": [
    "## 2.K个节点内反转链表"
   ]
  },
  {
   "cell_type": "code",
   "execution_count": 76,
   "metadata": {
    "collapsed": true
   },
   "outputs": [],
   "source": [
    "# 3->2->1->5->6->7->8->9， K=3\n",
    "# 满K个节点，反转，剩余不足K忽略\n",
    "# 反转链表至 1->2>3->7->6->5->8->9， 返回head node 1\n",
    "# https://leetcode.com/problems/reverse-nodes-in-k-group/\n",
    "\n",
    "#personal answer!!\n",
    "\n",
    "# Definition for singly-linked list.\n",
    "class ListNode:\n",
    "    def __init__(self, val=0, next=None):\n",
    "        self.val = val\n",
    "        self.next = next\n",
    "\n",
    "class Solution:\n",
    "    def reverseKGroup(self, head, k):\n",
    "        size_all = 0\n",
    "        if not head or k <= 1:\n",
    "            return head\n",
    "        cur = head\n",
    "        while cur:\n",
    "            size_all+=1\n",
    "            cur = cur.next\n",
    "        remainder = size_all % k\n",
    "        new_nodes = list()\n",
    "        cur = head\n",
    "        pre = None\n",
    "        nxt = None\n",
    "        change_size = 0\n",
    "        while size_all != remainder:\n",
    "            nxt = cur.next\n",
    "            cur.next = pre\n",
    "            pre = cur\n",
    "            cur = nxt\n",
    "            change_size += 1\n",
    "            size_all -= 1\n",
    "            if change_size == k:\n",
    "                change_size = 0\n",
    "                new_nodes.append(pre)\n",
    "                pre = None\n",
    "        new_nodes.append(cur)\n",
    "        head = new_nodes[0]\n",
    "        for i in range(len(new_nodes)-1):\n",
    "            cur = new_nodes[i]\n",
    "            while cur.next:\n",
    "                cur = cur.next\n",
    "            cur.next = new_nodes[i+1]\n",
    "        return head"
   ]
  },
  {
   "cell_type": "code",
   "execution_count": 77,
   "metadata": {
    "collapsed": true,
    "scrolled": true
   },
   "outputs": [],
   "source": [
    "# 3->2->1->5->6->7->8->9， K=3\n",
    "# 满K个节点，反转，剩余不足K忽略\n",
    "# 反转链表至 1->2>3->7->6->5->8->9， 返回head node 1\n",
    "# https://leetcode.com/problems/reverse-nodes-in-k-group/\n",
    "\n",
    "#class answer\n",
    "\n",
    "# Definition for singly-linked list.\n",
    "class ListNode:\n",
    "    def __init__(self, val=0, next=None):\n",
    "        self.val = val\n",
    "        self.next = next\n",
    "\n",
    "class Solution:\n",
    "    def reverseKGroup(self, head, k):\n",
    "        #返回k个的最后一个\n",
    "        def getKGroupEnd(start, k):\n",
    "            while k-1!=0 and start:\n",
    "                start = start.next\n",
    "                k-=1\n",
    "            return start\n",
    "        def reverse(start, end):\n",
    "            #函数外保证end不为空，反转后start变为end，与end.next直接相连\n",
    "            end = end.next\n",
    "            pre = None\n",
    "            nxt = None\n",
    "            cur = start\n",
    "            while cur != end:\n",
    "                nxt = cur.next\n",
    "                cur.next = pre\n",
    "                pre = cur\n",
    "                cur = nxt\n",
    "            start.next = end\n",
    "        # a->b->c->d->e->f->g, k=3\n",
    "        start = head\n",
    "        end = getKGroupEnd(start, k)\n",
    "        #第一组就没凑齐\n",
    "        if not end:\n",
    "            return head\n",
    "        #第一组凑齐了，head不变了\n",
    "        head = end\n",
    "        reverse(start, end)\n",
    "        #  此时c->b->a->d->e->f->g\n",
    "        # 上一组的结尾节点，即a\n",
    "        lastEnd = start\n",
    "        while lastEnd.next:\n",
    "            start = lastEnd.next\n",
    "            # start = d\n",
    "            end = getKGroupEnd(start,k)\n",
    "            # end = f\n",
    "            if not end:\n",
    "                # 凑不齐了，前面也反转完了，直接返回新head\n",
    "                return head\n",
    "            reverse(start, end)\n",
    "            # 此时c->b->a  f->e->d->g\n",
    "            lastEnd.next = end\n",
    "            # a -> f\n",
    "            # 此时c->b->a->f->e->d->g\n",
    "            lastEnd = start\n",
    "            # 此时结尾节点变为 d\n",
    "        return head"
   ]
  },
  {
   "cell_type": "markdown",
   "metadata": {},
   "source": [
    "## 3.两个链表相加"
   ]
  },
  {
   "cell_type": "code",
   "execution_count": 78,
   "metadata": {
    "collapsed": true
   },
   "outputs": [],
   "source": [
    "# 给head1 和 head2\n",
    "# 从左到右，认为是某个数字从低位到高到，返回相加后的链表\n",
    "#     4->3->6, 2->5->3\n",
    "# 返回 6->8->9\n",
    "# 解释 634 + 352 = 986\n",
    "'''\n",
    "思路：1.先把长链表找到\n",
    "     2.同时遍历，可能遇到三种情况：\n",
    "         a. longer有， shorter有\n",
    "         b. longer有， shorter无\n",
    "         c. longer无， shorter无\n",
    "      若无，则贡献0。 记录第三个进位信息， longer+shorter+进位 % 10 为 当前位， 进位信息更新参与下一高位计算\n",
    "                                     longer+shorter+进位 // 10 为 进位信息\n",
    "'''\n",
    "\n",
    "class ListNode:\n",
    "    def __init__(self, val=0, next=None):\n",
    "        self.val = val\n",
    "        self.next = next\n",
    "\n",
    "def listLength(head):\n",
    "    length = 0\n",
    "    while head:\n",
    "        length += 1\n",
    "        head = head.next\n",
    "    return length\n",
    "\n",
    "def addTwoNumbers(head1, head2):\n",
    "    #把结果改为长链表并返回\n",
    "    len1 = listLength(head1)\n",
    "    len2 = listLength(head2)\n",
    "    (longer, shorter) = (head1,head2) if len1 >= len2 else (head2,head1) \n",
    "    curL = longer\n",
    "    curS = shorter\n",
    "    last = curL\n",
    "    carry = 0 #进位\n",
    "    curNum = 0\n",
    "    while curS:\n",
    "        curNum = curL.val + curS.val + carry\n",
    "        curL.val = curNum % 10\n",
    "        carry = curNum // 10\n",
    "        last = curL\n",
    "        curL = curL.next\n",
    "        curS = curS.next  \n",
    "    while curL:\n",
    "        curNum = curL.val + carry\n",
    "        curL.val = curNum % 10\n",
    "        carry = curNum // 10\n",
    "        last = curL\n",
    "        curL = curL.next\n",
    "    if carry:\n",
    "        last.next = ListNode(1)\n",
    "    return longer"
   ]
  },
  {
   "cell_type": "markdown",
   "metadata": {},
   "source": [
    "## 4.两个有序链表合并，且仍保持顺序"
   ]
  },
  {
   "cell_type": "code",
   "execution_count": 79,
   "metadata": {
    "collapsed": true
   },
   "outputs": [],
   "source": [
    "class ListNode:\n",
    "    def __init__(self, val=0, next=None):\n",
    "        self.val = val\n",
    "        self.next = next\n",
    "        \n",
    "def mergerTwoLists(head1, head2):\n",
    "    if not head1:\n",
    "        return head2\n",
    "    if not head2:\n",
    "        return head1\n",
    "    head = head1 if head1.val <= head2.val else head2\n",
    "    cur1 = head.next\n",
    "    cur2 = head2 if head1 == head else head1\n",
    "    pre = head\n",
    "    while cur1 and cur2:\n",
    "        if cur1 <= cur2:\n",
    "            pre.next = cur1\n",
    "            cur1 = cur1.next\n",
    "        else:\n",
    "            pre.next = cur2\n",
    "            cur2 = cur2.next\n",
    "        pre = pre.next\n",
    "    pre.next = cur1 if cur1 else cur2\n",
    "    return head"
   ]
  }
 ],
 "metadata": {
  "kernelspec": {
   "display_name": "Python 3",
   "language": "python",
   "name": "python3"
  },
  "language_info": {
   "codemirror_mode": {
    "name": "ipython",
    "version": 3
   },
   "file_extension": ".py",
   "mimetype": "text/x-python",
   "name": "python",
   "nbconvert_exporter": "python",
   "pygments_lexer": "ipython3",
   "version": "3.6.1"
  }
 },
 "nbformat": 4,
 "nbformat_minor": 2
}
