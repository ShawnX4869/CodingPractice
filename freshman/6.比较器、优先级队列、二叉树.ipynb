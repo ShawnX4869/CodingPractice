{
 "cells": [
  {
   "cell_type": "markdown",
   "metadata": {},
   "source": [
    "## 1.比较器"
   ]
  },
  {
   "cell_type": "code",
   "execution_count": 55,
   "metadata": {},
   "outputs": [
    {
     "name": "stdout",
     "output_type": "stream",
     "text": [
      "张三,5,27\n",
      "李四,1,17\n",
      "王五,3,29\n",
      "赵六,3,9\n",
      "左七,2,34\n",
      "======================================================\n",
      "李四,1,17\n",
      "左七,2,34\n",
      "王五,3,29\n",
      "赵六,3,9\n",
      "张三,5,27\n"
     ]
    }
   ],
   "source": [
    "def IdComparator(s1, s2):\n",
    "    if s1.id < s2.id:\n",
    "        return -1\n",
    "    elif s1.id > s2.id:\n",
    "        return 1\n",
    "    else:\n",
    "        return 0\n",
    "\n",
    "class Student:\n",
    "    def __init__(self, name, id, age):\n",
    "        self.name = name\n",
    "        self.id = id\n",
    "        self.age = age\n",
    "        \n",
    "    def __str__(self):\n",
    "        return ('name={}, id={}, age={}'.format(self.name,self.id,self.age))\n",
    " \n",
    "    def __lt__(self, other):\n",
    "        return self.id < other.id if self.id != other.id else self.age < other.age\n",
    " \n",
    "    def __gt__(self, other):\n",
    "        return self.id > other.id if self.id != other.id else self.age > other.age\n",
    " \n",
    "    def __ge__(self, other):\n",
    "        return self.id >= other.id if self.id != other.xid else self.age >= other.age\n",
    " \n",
    "    def __eq__(self, other):\n",
    "        return self.id == other.id and self.age == other.age\n",
    " \n",
    "    def __le__(self, other):\n",
    "        return self.id <= other.id if self.id != other.id else self.age <= other.age\n",
    "\n",
    "\n",
    "def printStudents(students):\n",
    "    for i in range(len(students)):\n",
    "        print(students[i].name + \",\" + str(students[i].id) + \",\" + str(students[i].age))\n",
    "s1 = Student(\"张三\",5,27)\n",
    "s2 = Student(\"李四\",1,17)\n",
    "s3 = Student(\"王五\",3,29)\n",
    "s4 = Student(\"赵六\",3,9)\n",
    "s5 = Student(\"左七\",2,34)\n",
    "\n",
    "students = [s1,s2,s3,s4,s5]\n",
    "printStudents(students)\n",
    "print(\"======================================================\")\n",
    "#pythonic: python3 cancels cmp\n",
    "from functools import cmp_to_key\n",
    "students_id = sorted(students, key=cmp_to_key(IdComparator))\n",
    "printStudents(students_id)"
   ]
  },
  {
   "cell_type": "code",
   "execution_count": 56,
   "metadata": {},
   "outputs": [
    {
     "name": "stdout",
     "output_type": "stream",
     "text": [
      "name=张三, id=5, age=27\n",
      "name=李四, id=1, age=17\n",
      "name=王五, id=3, age=29\n",
      "name=赵六, id=3, age=9\n",
      "name=左七, id=2, age=34\n",
      "======================================================\n",
      "name=李四, id=1, age=17\n",
      "name=左七, id=2, age=34\n",
      "name=赵六, id=3, age=9\n",
      "name=王五, id=3, age=29\n",
      "name=张三, id=5, age=27\n"
     ]
    }
   ],
   "source": [
    "for i in students:\n",
    "    print(i)\n",
    "print(\"======================================================\")\n",
    "#定义好比较函数后，sorted可以支持（因为内部调的就是这个对象的比较函数）\n",
    "for i in sorted(students):\n",
    "    print(i)"
   ]
  },
  {
   "cell_type": "code",
   "execution_count": 8,
   "metadata": {},
   "outputs": [],
   "source": [
    "students_sortedbyid = sorted(students, key=lambda x: x.id)"
   ]
  },
  {
   "cell_type": "code",
   "execution_count": 9,
   "metadata": {
    "scrolled": true
   },
   "outputs": [
    {
     "name": "stdout",
     "output_type": "stream",
     "text": [
      "李四,1,17\n",
      "左七,2,34\n",
      "赵六,3,9\n",
      "王五,4,29\n",
      "张三,5,27\n"
     ]
    }
   ],
   "source": [
    "printStudents(students_sortedbyid)"
   ]
  },
  {
   "cell_type": "markdown",
   "metadata": {},
   "source": [
    "## 2.优先级队列"
   ]
  },
  {
   "cell_type": "code",
   "execution_count": 19,
   "metadata": {},
   "outputs": [
    {
     "name": "stdout",
     "output_type": "stream",
     "text": [
      "[0, 6, 3, 2]\n",
      "[0, 2, 3, 6]\n",
      "0\n",
      "2\n",
      "3\n",
      "6\n",
      "======================================================\n"
     ]
    }
   ],
   "source": [
    "#内部为堆结构\n",
    "#heapq简单介绍：https://blog.csdn.net/weixin_43247928/article/details/122501741\n",
    "from heapq import *\n",
    "a=[0,6,3,2]\n",
    "print(a)\n",
    "heapify(a)\n",
    "print(a)\n",
    "while len(a)>0:\n",
    "    print(heappop(a))\n",
    "print(\"======================================================\")"
   ]
  },
  {
   "cell_type": "code",
   "execution_count": 23,
   "metadata": {},
   "outputs": [
    {
     "name": "stdout",
     "output_type": "stream",
     "text": [
      "[0, 2, 3, 5]\n",
      "<class 'list'>\n",
      "0\n",
      "2\n",
      "3\n",
      "5\n",
      "======================================================\n"
     ]
    }
   ],
   "source": [
    "#b仍然是list结构\n",
    "b=[]\n",
    "heappush(b,5)\n",
    "heappush(b,3)\n",
    "heappush(b,2)\n",
    "heappush(b,0)\n",
    "print(b)\n",
    "print(type(b))\n",
    "while len(b)>0:\n",
    "    print(heappop(b))\n",
    "print(\"======================================================\")"
   ]
  },
  {
   "cell_type": "code",
   "execution_count": 28,
   "metadata": {},
   "outputs": [
    {
     "name": "stdout",
     "output_type": "stream",
     "text": [
      "0\n",
      "3\n",
      "3\n",
      "2\n",
      "3\n",
      "4\n",
      "5\n"
     ]
    }
   ],
   "source": [
    "#若未heapify，则heappush会直接插入第一个符合的位置\n",
    "#              heappop也只会从[0]开始按顺序弹出\n",
    "c=[0,3,3,2,3,5]\n",
    "heappush(c,4)\n",
    "while len(c)>0:\n",
    "    print(heappop(c))"
   ]
  },
  {
   "cell_type": "code",
   "execution_count": 43,
   "metadata": {},
   "outputs": [
    {
     "name": "stdout",
     "output_type": "stream",
     "text": [
      "get wrong answer:\n",
      "[0, 0, 0, 2, 3, 3, 3, 2, 1, 5, 5, 6, 3, 2]\n",
      "======================================================\n",
      "[0, 2, 3, 6]\n",
      "[0, 2, 3, 5]\n",
      "[0, 1, 3, 2, 3, 5]\n",
      "<generator object merge at 0x1114eaeb8>\n",
      "[0, 0, 0, 1, 2, 2, 3, 3, 3, 2, 3, 5, 5, 6]\n",
      "======================================================\n",
      "5\n",
      "3\n",
      "======================================================\n",
      "0\n",
      "1\n",
      "======================================================\n"
     ]
    }
   ],
   "source": [
    "a=[0,6,3,2]\n",
    "b=[]\n",
    "heappush(b,5)\n",
    "heappush(b,3)\n",
    "heappush(b,2)\n",
    "heappush(b,0)\n",
    "c=[0,3,3,2,1,5]\n",
    "#merge前需要保证abc有序\n",
    "print(\"get wrong answer:\")\n",
    "print(list(merge(a,b,c)))\n",
    "print(\"======================================================\")\n",
    "heapify(a)\n",
    "heapify(b)\n",
    "heapify(c)\n",
    "print(a)\n",
    "print(b)\n",
    "#注意，小根堆并非严格从小到大！\n",
    "print(c)\n",
    "d = merge(a,b,c)\n",
    "print(d) #d为generator\n",
    "print(list(d))\n",
    "print(\"======================================================\")\n",
    "for i in nlargest(2,c):\n",
    "    print(i)\n",
    "print(\"======================================================\")\n",
    "    \n",
    "for i in nsmallest(2,c):\n",
    "    print(i)\n",
    "print(\"======================================================\")\n"
   ]
  },
  {
   "cell_type": "code",
   "execution_count": 57,
   "metadata": {},
   "outputs": [],
   "source": [
    "heapify(students) #同sorted"
   ]
  },
  {
   "cell_type": "markdown",
   "metadata": {},
   "source": [
    "### 2.1 merge多个有序链表\n"
   ]
  },
  {
   "cell_type": "code",
   "execution_count": 59,
   "metadata": {
    "collapsed": true
   },
   "outputs": [],
   "source": [
    "#https://leetcode.com/problems/merge-k-sorted-lists/\n",
    "#使用小根堆\n",
    "#leetCode上的ListNode类默认注释掉，需要外传__lt__\n",
    "class ListNode:\n",
    "    def __init__(self, val, next):\n",
    "        self.val = val\n",
    "        self.next = next\n",
    "class ListNodeExtension(ListNode):\n",
    "    def __lt__(self, other):\n",
    "        return self.val < other.val\n",
    "    def __eq__(self, other):\n",
    "        return self.val == other.val\n",
    "\n",
    "class Solution:\n",
    "    def mergeKLists(self, lists: List[ListNode]) -> ListNode:\n",
    "        ListNode.__lt__ = ListNodeExtension.__lt__\n",
    "        ListNode.__eq__ = ListNodeExtension.__eq__\n",
    "        heap = []\n",
    "        for n in lists:\n",
    "            if n:\n",
    "                heapq.heappush(heap, n)\n",
    "        \n",
    "        head = tail = ListNode(0) # Result pointers\n",
    "        while heap:\n",
    "            tail.next = heapq.heappop(heap)\n",
    "            tail = tail.next\n",
    "            if tail.next:\n",
    "                heapq.heappush(heap, tail.next)\n",
    "                \n",
    "        return head.next"
   ]
  },
  {
   "cell_type": "markdown",
   "metadata": {},
   "source": [
    "## 3.二叉树"
   ]
  },
  {
   "cell_type": "code",
   "execution_count": 79,
   "metadata": {
    "collapsed": true
   },
   "outputs": [],
   "source": [
    "class Node:\n",
    "    def __init__(self, value, left=None, right=None):\n",
    "        self.value = value\n",
    "        self.left = left\n",
    "        self.right = right\n",
    "        \n",
    "# 先序： 头 左 右，第一次来到节点打印\n",
    "# 中序： 左 头 右，第二次来到节点打印\n",
    "# 后序： 左 右 头，第三次来到节点打印"
   ]
  },
  {
   "cell_type": "markdown",
   "metadata": {},
   "source": [
    "### 3.1判断两树是否相同"
   ]
  },
  {
   "cell_type": "code",
   "execution_count": 90,
   "metadata": {
    "collapsed": true
   },
   "outputs": [],
   "source": [
    "#https://leetcode.com/problems/same-tree/\n",
    "def isSameTree(p, q):\n",
    "    if (not p) ^ (not q):\n",
    "        return False\n",
    "    if (not p) & (not q):\n",
    "        return True\n",
    "    #都不为空\n",
    "    return (p.val == q.val) & isSameTree(p.left, q.left) & isSameTree(p.right, q.right)"
   ]
  },
  {
   "cell_type": "markdown",
   "metadata": {},
   "source": [
    "### 3.2判断两树是否镜面"
   ]
  },
  {
   "cell_type": "code",
   "execution_count": 91,
   "metadata": {
    "collapsed": true
   },
   "outputs": [],
   "source": [
    "#https://leetcode.com/problems/symmetric-tree/\n",
    "def isSymmetric(root):\n",
    "    if not root:\n",
    "        return True\n",
    "    return isMirror(root.left, root.right)\n",
    "def isMirror(p, q):\n",
    "    if (not p) ^ (not q):\n",
    "        return False\n",
    "    if (not p) & (not q):\n",
    "        return True\n",
    "    return (p.val == q.val) & isMirror(p.left, q.right) & isMirror(q.left, p.right)"
   ]
  },
  {
   "cell_type": "markdown",
   "metadata": {},
   "source": [
    "### 3.3 返回树最大深度"
   ]
  },
  {
   "cell_type": "code",
   "execution_count": 92,
   "metadata": {
    "collapsed": true
   },
   "outputs": [],
   "source": [
    "#https://leetcode.com/problems/maximum-depth-of-binary-tree/\n",
    "def maxDepth(root):\n",
    "    if not root:\n",
    "        return 0\n",
    "    return max(maxDepth(root.left), maxDepth(root.right))+1"
   ]
  },
  {
   "cell_type": "markdown",
   "metadata": {},
   "source": [
    "### 3.4 根据先序、中序构建二叉树"
   ]
  },
  {
   "cell_type": "code",
   "execution_count": 94,
   "metadata": {
    "collapsed": true
   },
   "outputs": [],
   "source": [
    "#https://leetcode.com/problems/construct-binary-tree-from-preorder-and-inorder-traversal\n",
    "#无重复值\n",
    "#先：1245367\n",
    "#中：4251637\n",
    "#1. 先[0]为头\n",
    "#2. 中的头的位置，左侧部分为左树，右侧部分为右树\n",
    "def f(preOrder, L1, R1, inOrder, L2, R2):\n",
    "    '''\n",
    "    preOrder先序结果[L1...R1]\n",
    "    inOrder 中序结果[L2...R2]\n",
    "    '''\n",
    "    #没有左树，head_index_inOrder = L2时， L1+1，即新L1 > L1+head_index_inOrder-L2，即新R1\n",
    "    if L1 > R1:\n",
    "        return None\n",
    "    head = Node(preOrder[L1])\n",
    "    if L1 == R1:\n",
    "        return head\n",
    "    head_index_inOrder = L2\n",
    "    while inOrder[head_index_inOrder] != preOrder[L1]:\n",
    "        head_index_inOrder += 1\n",
    "    head.left = f(preOrder, L1+1, L1+head_index_inOrder-L2, inOrder, L2, head_index_inOrder-1)\n",
    "    head.right = f(preOrder, L1+head_index_inOrder-L2+1, R1, inOrder, head_index_inOrder+1, R2)\n",
    "    return head\n",
    "def buildTree(preOrder, inOrder):\n",
    "    if (not preOrder) | (not inOrder) | (len(preOrder) != len(inOrder)):\n",
    "        return None\n",
    "    return f(preOrder, 0, len(preOrder)-1, inOrder, 0, len(inOrder)-1)\n",
    "\n",
    "#优化，查找中序头部时不用遍历,使用dict\n",
    "\n",
    "def f2(preOrder, L1, R1, inOrder, L2, R2, nodeMap):\n",
    "    '''\n",
    "    preOrder先序结果[L1...R1]\n",
    "    inOrder 中序结果[L2...R2]\n",
    "    '''\n",
    "    #没有左树，head_index_inOrder = L2时， L1+1，即新L1 > L1+head_index_inOrder-L2，即新R1\n",
    "    if L1 > R1:\n",
    "        return None\n",
    "    head = Node(preOrder[L1])\n",
    "    if L1 == R1:\n",
    "        return head\n",
    "    head_index_inOrder = nodeMap.get(preOrder[L1])\n",
    "    head.left = f2(preOrder, L1+1, L1+head_index_inOrder-L2, inOrder, L2, head_index_inOrder-1, nodeMap)\n",
    "    head.right = f2(preOrder, L1+head_index_inOrder-L2+1, R1, inOrder, head_index_inOrder+1, R2, nodeMap)\n",
    "    return head\n",
    "\n",
    "def buildTree2(preOrder, inOrder):\n",
    "    if (not preOrder) | (not inOrder) | (len(preOrder) != len(inOrder)):\n",
    "        return None\n",
    "    nodeMap = dict()\n",
    "    for i in range(len(inOrder)):\n",
    "        nodeMap[inOrder[i]] = i\n",
    "    return f2(preOrder, 0, len(preOrder)-1, inOrder, 0, len(inOrder)-1, nodeMap)"
   ]
  },
  {
   "cell_type": "code",
   "execution_count": null,
   "metadata": {
    "collapsed": true
   },
   "outputs": [],
   "source": []
  }
 ],
 "metadata": {
  "kernelspec": {
   "display_name": "Python 3 (ipykernel)",
   "language": "python",
   "name": "python3"
  },
  "language_info": {
   "codemirror_mode": {
    "name": "ipython",
    "version": 3
   },
   "file_extension": ".py",
   "mimetype": "text/x-python",
   "name": "python",
   "nbconvert_exporter": "python",
   "pygments_lexer": "ipython3",
   "version": "3.8.13"
  },
  "toc": {
   "base_numbering": 1,
   "nav_menu": {},
   "number_sections": true,
   "sideBar": true,
   "skip_h1_title": false,
   "title_cell": "Table of Contents",
   "title_sidebar": "Contents",
   "toc_cell": false,
   "toc_position": {},
   "toc_section_display": true,
   "toc_window_display": false
  }
 },
 "nbformat": 4,
 "nbformat_minor": 2
}
