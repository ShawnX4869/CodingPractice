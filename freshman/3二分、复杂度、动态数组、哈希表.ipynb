{
 "cells": [
  {
   "cell_type": "markdown",
   "metadata": {},
   "source": [
    "## 1.二分法"
   ]
  },
  {
   "cell_type": "code",
   "execution_count": 1,
   "metadata": {
    "collapsed": true
   },
   "outputs": [],
   "source": [
    "def testSearch(seq, num):\n",
    "    if not seq:\n",
    "        return False\n",
    "    for i in seq:\n",
    "        if i == num:\n",
    "            return True\n",
    "    return False"
   ]
  },
  {
   "cell_type": "code",
   "execution_count": 2,
   "metadata": {
    "collapsed": true
   },
   "outputs": [],
   "source": [
    "def binarySearch(seq, num):\n",
    "    if not seq:\n",
    "        return False\n",
    "    L = 0\n",
    "    R = len(seq) - 1\n",
    "    while L <= R:\n",
    "        mid = (L + R) // 2\n",
    "        if seq[mid] == num:\n",
    "            return True\n",
    "        elif seq[mid] < num:\n",
    "            L = mid + 1\n",
    "        else:\n",
    "            R = mid - 1\n",
    "    return False"
   ]
  },
  {
   "cell_type": "markdown",
   "metadata": {},
   "source": [
    "### 1.1 二分查找"
   ]
  },
  {
   "cell_type": "code",
   "execution_count": 35,
   "metadata": {},
   "outputs": [
    {
     "name": "stdout",
     "output_type": "stream",
     "text": [
      "Nice\n"
     ]
    }
   ],
   "source": [
    "import random\n",
    "def generateRandomArray(maxSize, maxValue):\n",
    "    seq = list()\n",
    "    size = int(random.random() * maxSize+1)\n",
    "    for i in range(size):\n",
    "        seq.append(int(random.random() * maxValue+1))\n",
    "    return seq\n",
    "testTime = 500000\n",
    "maxSize = 10\n",
    "maxValue = 100\n",
    "succeed = True\n",
    "for i in range(testTime):\n",
    "    seq = generateRandomArray(maxSize, maxValue)\n",
    "    seq.sort()\n",
    "    value = int((maxValue + 1) * random.random() - maxValue * random.random())\n",
    "    if testSearch(seq, value) != binarySearch(seq, value):\n",
    "        print(\"出错了\")\n",
    "        succeed = False\n",
    "        break\n",
    "if succeed:\n",
    "    print(\"Nice\")\n",
    "else:\n",
    "    print(\"Fail\")"
   ]
  },
  {
   "cell_type": "markdown",
   "metadata": {},
   "source": [
    "### 1.2 二分找 >=num 最左"
   ]
  },
  {
   "cell_type": "code",
   "execution_count": 21,
   "metadata": {},
   "outputs": [
    {
     "name": "stdout",
     "output_type": "stream",
     "text": [
      "Nice\n"
     ]
    }
   ],
   "source": [
    "def mostLeftNoLessNumIndex(seq, num):\n",
    "    if not seq:\n",
    "        return -1\n",
    "    L = 0\n",
    "    R = len(seq) - 1\n",
    "    ans = -1\n",
    "    while L <= R:\n",
    "        mid = (L+R)//2\n",
    "        if seq[mid] >= num:\n",
    "            ans = mid\n",
    "            R = mid - 1\n",
    "        else:\n",
    "            L = mid + 1\n",
    "    return ans \n",
    "\n",
    "def testLeftNoLessNumIndex(seq, num):\n",
    "    if not seq:\n",
    "        return -1\n",
    "    for i in range(len(seq)):\n",
    "        if seq[i] >= num:\n",
    "            return i\n",
    "    return -1\n",
    "\n",
    "testTime = 500000\n",
    "maxSize = 100\n",
    "maxValue = 100\n",
    "succeed = True\n",
    "for i in range(testTime):\n",
    "    seq = generateRandomArray(maxSize, maxValue)\n",
    "    seq.sort()\n",
    "    value = int((maxValue + 1) * random.random() - maxValue * random.random())\n",
    "    if testLeftNoLessNumIndex(seq, value) != mostLeftNoLessNumIndex(seq, value):\n",
    "        print(\"出错了\")\n",
    "        succeed = False\n",
    "        break\n",
    "if succeed:\n",
    "    print(\"Nice\")\n",
    "else:\n",
    "    print(\"Fail\")"
   ]
  },
  {
   "cell_type": "markdown",
   "metadata": {},
   "source": [
    "### 1.3 局部最小值"
   ]
  },
  {
   "cell_type": "code",
   "execution_count": 45,
   "metadata": {},
   "outputs": [
    {
     "name": "stdout",
     "output_type": "stream",
     "text": [
      "Nice\n"
     ]
    }
   ],
   "source": [
    "# 无序列表，相邻不等， 返回【某一个】局部最小值\n",
    "# [0] < [1] 0即局部最小\n",
    "# [N-2] > [N-1] N-1即局部最小\n",
    "# [i-1] > [i] < [i+1] i即局部最小\n",
    "\n",
    "# 先判断 0、1位置，若0不是局小，则起始位置趋势↘\n",
    "\n",
    "# 再判断 N-1、N-2位置，若N-1不是局小，则末尾位置趋势↙\n",
    "\n",
    "# 则整体必存在 局小，因为 0↘...i...↙end *******\n",
    "\n",
    "# 二分查找，当mid -1 > mid < mid + 1， 则mid为局小\n",
    "# 若mid不为局小，情况1， mid -1 < mid，           此时 0↘...i...↙mid\n",
    "#              情况2，          mid > mid + 1, 此时  ↘mid+1...i...↙end\n",
    "def searchOneMinestIndex(seq):\n",
    "    if not seq:\n",
    "        return -1\n",
    "    if len(seq) == 1:\n",
    "        return 0\n",
    "    if seq[0] < seq[1]:\n",
    "        return 0\n",
    "    if seq[-2] > seq[-1]:\n",
    "        return len(seq) - 1\n",
    "    #此时整体必存在局部最小\n",
    "    #len >= 3\n",
    "    L = 0\n",
    "    R = len(seq) - 1\n",
    "    while L < R - 1: #此处新加限制要大于等于3个数\n",
    "        mid = (L+R)//2\n",
    "        if seq[mid] < seq[mid + 1] and seq[mid-1] > seq[mid]: #此处如果只剩俩数时mid=0，mid-1=-1，陷入死循环\n",
    "            return mid\n",
    "        #这里如果LR使用L <= R判断，则mid-1可能会超出L；m+1超出R\n",
    "        if seq[mid-1] < seq[mid]:\n",
    "            R = mid - 1\n",
    "            continue\n",
    "        if seq[mid] > seq[mid+1]:\n",
    "            L = mid + 1\n",
    "            continue\n",
    "    ans = L if seq[L] < seq[R] else R\n",
    "    return ans\n",
    "\n",
    "def generateRandomDistinctArray(maxSize, maxValue):\n",
    "    seq = list()\n",
    "    size = int(random.random() * (maxSize+1))\n",
    "    next_value = int(random.random() * (maxValue+1))\n",
    "    if size > 0 :\n",
    "        seq.append(next_value)\n",
    "        for i in range(1, size):\n",
    "            next_value = int(random.random() * (maxValue+1))\n",
    "            while next_value == seq[i-1]:\n",
    "                next_value = int(random.random() * (maxValue+1))\n",
    "            seq.append(next_value)\n",
    "    return seq\n",
    "\n",
    "def checkIndexAns(seq, minIndex):\n",
    "    if not seq:\n",
    "        return minIndex == -1\n",
    "    left = minIndex - 1\n",
    "    right = minIndex + 1\n",
    "    left_bigger = True\n",
    "    right_bigger = True\n",
    "    if left >= 0 and seq[left] < seq[minIndex]:\n",
    "        left_bigger = False\n",
    "    if right <= len(seq) -1 and seq[minIndex] > seq[right]:\n",
    "        right_bigger = False\n",
    "    return left_bigger and right_bigger\n",
    "\n",
    "testTime = 100000\n",
    "maxSize = 200\n",
    "maxValue = 1\n",
    "succeed = True\n",
    "for _ in range(testTime):\n",
    "    seq = generateRandomDistinctArray(maxSize, maxValue)\n",
    "    ans = searchOneMinestIndex(seq)\n",
    "    if not checkIndexAns(seq, ans):\n",
    "        succeed = False\n",
    "        print(seq, ans)\n",
    "        break\n",
    "if succeed:\n",
    "    print(\"Nice\")\n",
    "else:\n",
    "    print(\"Fail\")"
   ]
  },
  {
   "cell_type": "code",
   "execution_count": null,
   "metadata": {
    "collapsed": true
   },
   "outputs": [],
   "source": [
    "# 二分的使用前提只要确定有一侧一定存在即可；"
   ]
  },
  {
   "cell_type": "markdown",
   "metadata": {},
   "source": [
    "## 2. 动态数组"
   ]
  },
  {
   "cell_type": "code",
   "execution_count": null,
   "metadata": {
    "collapsed": true
   },
   "outputs": [],
   "source": [
    "# 动态数组 扩容代价为 1+ 2+ 4+ ... N -> O(N)\n",
    "# 平摊到每次 插入， 时间复杂度每步操作接近O(1)。"
   ]
  },
  {
   "cell_type": "code",
   "execution_count": null,
   "metadata": {
    "collapsed": true
   },
   "outputs": [],
   "source": []
  }
 ],
 "metadata": {
  "kernelspec": {
   "display_name": "Python 3",
   "language": "python",
   "name": "python3"
  },
  "language_info": {
   "codemirror_mode": {
    "name": "ipython",
    "version": 3
   },
   "file_extension": ".py",
   "mimetype": "text/x-python",
   "name": "python",
   "nbconvert_exporter": "python",
   "pygments_lexer": "ipython3",
   "version": "3.6.1"
  }
 },
 "nbformat": 4,
 "nbformat_minor": 2
}
