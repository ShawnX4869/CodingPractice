{
 "cells": [
  {
   "cell_type": "markdown",
   "metadata": {},
   "source": [
    "## 1.位运算"
   ]
  },
  {
   "cell_type": "markdown",
   "metadata": {},
   "source": [
    "### 1.1 打印2进制的32位"
   ]
  },
  {
   "cell_type": "code",
   "execution_count": 23,
   "metadata": {},
   "outputs": [
    {
     "name": "stdout",
     "output_type": "stream",
     "text": [
      "11111111111111111111111111111111"
     ]
    }
   ],
   "source": [
    "num = -1\n",
    "def print2(num):\n",
    "    for i in range(31, -1, -1):\n",
    "        print(\"0\" if num & (1 << i) == 0 else \"1\", end=\"\")\n",
    "print2(num)"
   ]
  },
  {
   "cell_type": "markdown",
   "metadata": {},
   "source": [
    "### 1.2反码与补码"
   ]
  },
  {
   "cell_type": "code",
   "execution_count": 30,
   "metadata": {},
   "outputs": [
    {
     "name": "stdout",
     "output_type": "stream",
     "text": [
      "-2147483648\n",
      "-5\n"
     ]
    }
   ],
   "source": [
    "import numpy as np\n",
    "#负数：第一位符号位为1\n",
    "#负值：除符号位后面的值取反 + 1\n",
    "#之所以这样定义，是因为计算机底层都是2进制运算，定义取反+1保证了在加减乘除的各个运算中若遇到正、负数时，可以用一套机制解决。\n",
    "num_str = \"10000000000000000000000000000000\"\n",
    "def print_neg(num_str):\n",
    "    base = 2\n",
    "    num = 0\n",
    "    flag = \"1\" if num_str[0] == \"0\" else \"0\"\n",
    "    for i in range(31, 0, -1):\n",
    "        if num_str[i] == flag: #取反\n",
    "            num += base ** (31 - i)\n",
    "    num += 0  if num_str[0] == \"0\" else 1\n",
    "    num *= 1 if num_str[0] == \"0\" else -1\n",
    "    print(num)\n",
    "print_neg(num_str)\n",
    "# >> 带符号右移（以符号位填充最左）\n",
    "# >>> 不带符号右移\n",
    "# 相反数，正数变负数 或 负数变正数 ==> 取反+1\n",
    "pos = 5\n",
    "print(~pos + 1)\n",
    "# 5 = 000000...00000...0101\n",
    "#-5 = 111111...11111...1011\n",
    "#例外： ”系统最小整数“ -(2^31) 和 0 的相反数 仍然是 -(2^31) 和 0 他自己； "
   ]
  },
  {
   "cell_type": "markdown",
   "metadata": {},
   "source": [
    "### 1.3 返回N的阶乘"
   ]
  },
  {
   "cell_type": "code",
   "execution_count": 33,
   "metadata": {},
   "outputs": [
    {
     "data": {
      "text/plain": [
       "9"
      ]
     },
     "execution_count": 33,
     "metadata": {},
     "output_type": "execute_result"
    }
   ],
   "source": [
    "def factorial(N):\n",
    "    ans = 0\n",
    "    cur = 1\n",
    "    for i in range(1, N+1):\n",
    "        cur*= i\n",
    "        ans+= cur\n",
    "    return ans\n",
    "factorial(3)"
   ]
  },
  {
   "cell_type": "markdown",
   "metadata": {},
   "source": [
    "## 2.简单排序"
   ]
  },
  {
   "cell_type": "markdown",
   "metadata": {},
   "source": [
    "### 2.1选择排序"
   ]
  },
  {
   "cell_type": "code",
   "execution_count": 91,
   "metadata": {},
   "outputs": [
    {
     "data": {
      "text/plain": [
       "[-3, -2, 0, 1, 2, 4, 5, 6, 7, 8]"
      ]
     },
     "execution_count": 91,
     "metadata": {},
     "output_type": "execute_result"
    }
   ],
   "source": [
    "# 0到N-1选择最小值，交换到0位置\n",
    "# 1到N-1选择最小值，交换到1位置\n",
    "# 2到N-1选择最小值...\n",
    "def selectionSort(seq):\n",
    "    if not seq or len(seq) < 2:\n",
    "        return seq\n",
    "    for index_start in range(len(seq)):\n",
    "        index_min = index_start\n",
    "        value_min = seq[index_start]\n",
    "        for index_cur in range(index_start+1, len(seq)):\n",
    "            if seq[index_cur] < value_min:\n",
    "                index_min = index_cur\n",
    "                value_min = seq[index_cur]\n",
    "        if index_min != index_start:\n",
    "            seq[index_start] ^= seq[index_min]\n",
    "            seq[index_min] ^= seq[index_start] \n",
    "            seq[index_start] ^= seq[index_min]\n",
    "    return seq\n",
    "seq = [0,5,4,6,7,8,-2,2,1,-3]\n",
    "selectionSort(seq)\n",
    "# 异或，相同为0，不同为1\n",
    "# 000101  甲\n",
    "# 001011  乙\n",
    "# ------\n",
    "# 001110  异或结果\n",
    "# 001011  乙\n",
    "# ------\n",
    "# 000101  异或结果 == 甲"
   ]
  },
  {
   "cell_type": "markdown",
   "metadata": {},
   "source": [
    "### 2.2 冒泡排序"
   ]
  },
  {
   "cell_type": "code",
   "execution_count": 93,
   "metadata": {},
   "outputs": [
    {
     "name": "stdout",
     "output_type": "stream",
     "text": [
      "correct!\n"
     ]
    }
   ],
   "source": [
    "# 0到N-1，依次将i与i+1位置的较大值交换至i+1位置\n",
    "# 0到N-2，依次将i与i+1位置的较大值交换至i+1位置\n",
    "# 0到N-3...\n",
    "def bubbleSort(seq):\n",
    "    if not seq or len(seq) < 2:\n",
    "        return seq\n",
    "    for index_end in range(len(seq)-1, 0, -1):\n",
    "        for i in range(0, index_end):\n",
    "#             print(i, \"vs\", i+1)\n",
    "            if seq[i] > seq[i+1]:\n",
    "                seq[i] ^= seq[i+1]\n",
    "                seq[i+1] ^= seq[i]\n",
    "                seq[i] ^= seq[i+1]\n",
    "    return seq\n",
    "\n",
    "seq1 = [random.randint(0,100) for _ in range(100)]\n",
    "seq2[:] = seq1[:]\n",
    "ans1 = selectionSort(seq1)\n",
    "ans2 = bubbleSort(seq2)\n",
    "all_pass = True\n",
    "for i in range(len(ans1)):\n",
    "    if ans1[i]!=ans2[i]:\n",
    "        print(ans1[i], ans2[i])\n",
    "        all_pass = False\n",
    "        break\n",
    "if all_pass:\n",
    "    print(\"correct!\")"
   ]
  },
  {
   "cell_type": "markdown",
   "metadata": {},
   "source": [
    "### 2.3 插入排序"
   ]
  },
  {
   "cell_type": "code",
   "execution_count": 107,
   "metadata": {},
   "outputs": [
    {
     "name": "stdout",
     "output_type": "stream",
     "text": [
      "[72, 51, 89, 22, 45]\n",
      "correct!\n"
     ]
    }
   ],
   "source": [
    "# 让0到0有序\n",
    "# 让0到1有序，\n",
    "# 让0到2有序，因为0到1已经有序，让2插入到合适位置，即2先与1对比，若2<1，交换，再2与0对比...直到2的左边比2小\n",
    "# ...\n",
    "def insertSort(seq):\n",
    "    if not seq or len(seq) < 2:\n",
    "        return seq\n",
    "    for index_target in range(1, len(seq)):\n",
    "        for index_last in range(index_target-1, -1, -1):\n",
    "#             print(index_target,\"vs\",index_last)\n",
    "            if seq[index_last] > seq[index_target]:\n",
    "#                 print(\"交换\")\n",
    "                seq[index_target] ^= seq[index_last]\n",
    "                seq[index_last] ^= seq[index_target] \n",
    "                seq[index_target] ^= seq[index_last]\n",
    "                index_target = index_last\n",
    "            else:\n",
    "                break\n",
    "    return seq\n",
    "\n",
    "seq1 = [random.randint(0,100) for _ in range(100)]\n",
    "print(seq1[:5])\n",
    "seq2[:] = seq1[:]\n",
    "ans1 = selectionSort(seq1)\n",
    "ans2 = insertSort(seq2)\n",
    "all_pass = True\n",
    "for i in range(len(ans1)):\n",
    "    if ans1[i]!=ans2[i]:\n",
    "        print(ans1[i], ans2[i])\n",
    "        all_pass = False\n",
    "        break\n",
    "if all_pass:\n",
    "    print(\"correct!\")"
   ]
  },
  {
   "cell_type": "code",
   "execution_count": null,
   "metadata": {
    "collapsed": true
   },
   "outputs": [],
   "source": []
  }
 ],
 "metadata": {
  "kernelspec": {
   "display_name": "Python 3",
   "language": "python",
   "name": "python3"
  },
  "language_info": {
   "codemirror_mode": {
    "name": "ipython",
    "version": 3
   },
   "file_extension": ".py",
   "mimetype": "text/x-python",
   "name": "python",
   "nbconvert_exporter": "python",
   "pygments_lexer": "ipython3",
   "version": "3.6.1"
  }
 },
 "nbformat": 4,
 "nbformat_minor": 2
}
