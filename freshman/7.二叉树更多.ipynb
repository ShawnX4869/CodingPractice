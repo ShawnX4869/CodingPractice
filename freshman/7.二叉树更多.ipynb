{
 "cells": [
  {
   "cell_type": "markdown",
   "metadata": {
    "collapsed": true
   },
   "source": [
    "### 1.二叉树按层遍历并收集节点"
   ]
  },
  {
   "cell_type": "code",
   "execution_count": 15,
   "metadata": {},
   "outputs": [],
   "source": [
    "\n",
    "'''\n",
    "同层节点在一个集合中，如：[a],[b,c],[d,e,f,g]...\n",
    "bottom-up: [d,e,f,g], [b,c], [a],\n",
    "组成：\n",
    "       a\n",
    "     ↙  ↘\n",
    "     b    c\n",
    "   ↙ ↘ ↙ ↘\n",
    "   d  e f   g\n",
    "简单思路：\n",
    "1. 拿出此时队列的size\n",
    "2. 每层逐次弹出size次，每次先添加左节点，然后再右节点 到队列。此层弹出的节点，共成为一层的节点集合\n",
    "3. 如果想得到从下往上的每层节点，\n",
    "3.1 可以将收集到的逐层节点集合的list，从[0]、[N-1]开始交换，0+=1，N-1-=1，直到list中间停止\n",
    "3.2 或者在存储节点集合时，使用linkedlist，即收集第二层后，让第二层的next指向第一层（不能用list是因为ArrayList向前添加代价高(java中)，\n",
    "    python中直接用insert的代价为O(n)，也很高\n",
    "'''\n",
    "#https://leetcode.com/problems/binary-tree-level-order-traversal-ii/\n",
    "\n",
    "class TreeNode:\n",
    "    def __init__(self, val=0, left=None, right=None):\n",
    "        self.val = val\n",
    "        self.left = left\n",
    "        self.right = right\n",
    "\n",
    "# class LinkedNode:\n",
    "#     def __init__(self, val=0, next=None):\n",
    "#         self.val = val\n",
    "#         self.next\n",
    "\n",
    "# class LinkedList:\n",
    "#     def __init__(self, l=list(), next=None):\n",
    "#         self.list = l\n",
    "#         self.next = next\n",
    "    \n",
    "#     def __len__(self):\n",
    "#         return len(self.list)\n",
    "import heapq\n",
    "   \n",
    "def levelOrderBottom(root):\n",
    "    ans = list()\n",
    "    if not root:\n",
    "        return ans\n",
    "    queue = list()\n",
    "    queue.append(root)\n",
    "    while queue:\n",
    "        curAns = list()\n",
    "        size = len(queue)\n",
    "        for i in range(size):\n",
    "            curNode = queue.pop(0)\n",
    "            curAns.append(curNode.val)\n",
    "            if curNode.left:\n",
    "                queue.append(curNode.left)\n",
    "            if curNode.right:\n",
    "                queue.append(curNode.right)\n",
    "        ans.insert(0, curAns)\n",
    "    return ans\n"
   ]
  },
  {
   "cell_type": "markdown",
   "metadata": {},
   "source": [
    "### 2.判断是否平衡搜索二叉树"
   ]
  },
  {
   "cell_type": "markdown",
   "metadata": {},
   "source": [
    "#### 2.1 判断是否是平衡树"
   ]
  },
  {
   "cell_type": "code",
   "execution_count": 21,
   "metadata": {
    "collapsed": true
   },
   "outputs": [],
   "source": [
    "#平衡树： 每一颗树 是否 |左树 - 右树| <= 1\n",
    "class TreeNode:\n",
    "    def __init__(self, val=0, left=None, right=None):\n",
    "        self.val = val\n",
    "        self.left = left\n",
    "        self.right = right\n",
    "        \n",
    "def process(root):\n",
    "    if not root:\n",
    "        return True,0 #isBalanced, height\n",
    "    left_balanced, left_height = process(root.left)\n",
    "    right_balanced, right_height = process(root.right)   \n",
    "    cur_height = max(left_height, right_height) + 1\n",
    "    cur_balanced = left_balanced & right_balanced & (abs(left_height - right_height) <= 1)\n",
    "    return cur_balanced, cur_height\n",
    "\n",
    "def isBalanced(root):\n",
    "    return process(root)[0]\n"
   ]
  },
  {
   "cell_type": "markdown",
   "metadata": {},
   "source": [
    "### 2.2 判断是否是搜索树"
   ]
  },
  {
   "cell_type": "code",
   "execution_count": 22,
   "metadata": {
    "collapsed": true
   },
   "outputs": [],
   "source": [
    "#搜索树：每一棵树 的是否 左树的所有节点 比我小，右树所有节点比我大\n",
    "'''\n",
    "第一种思路：中序遍历严格递增\n",
    "\n",
    "第二种思路：递归判断\n",
    "         左树是搜索二叉树 and 左树max < x\n",
    "         右树是搜索二叉树 and 右树min > x\n",
    "'''\n",
    "def process(root):\n",
    "    if not root:\n",
    "        return None #交由上游自己判空\n",
    "    leftInfo = process(root.left)\n",
    "    rightInfo = process(root.right)\n",
    "    max_val = root.val\n",
    "    min_val = root.val\n",
    "    if leftInfo is not None:\n",
    "        max_val = max(leftInfo[1], max_val)\n",
    "        min_val = min(leftInfo[2], min_val)\n",
    "    if rightInfo is not None:\n",
    "        max_val = max(rightInfo[1], max_val)\n",
    "        min_val = min(rightInfo[2], min_val)\n",
    "    isSearch = True\n",
    "    #一旦发现false 实际上可以跳过后续直接返回false\n",
    "    if leftInfo is not None and (not leftInfo[0]):\n",
    "        isSearch = False\n",
    "    if rightInfo is not None and (not rightInfo[0]):\n",
    "        isSearch = False\n",
    "    leftMaxLessRoot = True if not leftInfo else leftInfo[1] < root.val\n",
    "    rightMinGreaterRoot = True if not rightInfo else rightInfo[2] > root.val\n",
    "    if (not leftMaxLessRoot) | (not rightMinGreaterRoot):\n",
    "        isSearch = False\n",
    "    return isSearch, max_val, min_val\n",
    "\n",
    "def isValidBST(root):\n",
    "    if not root:\n",
    "        return True\n",
    "    return process(root)[0]"
   ]
  },
  {
   "cell_type": "markdown",
   "metadata": {},
   "source": [
    "### 3.能否组成路径和"
   ]
  },
  {
   "cell_type": "code",
   "execution_count": 24,
   "metadata": {},
   "outputs": [],
   "source": [
    "#https://leetcode.com/problems/path-sum/\n",
    "#某一条路径，头节点到某个叶节点的所有途径节点和,判断是否存在路径和\n",
    "\n",
    "        \n",
    "\n",
    "# Definition for a binary tree node.\n",
    "# class TreeNode:\n",
    "#     def __init__(self, val=0, left=None, right=None):\n",
    "#         self.val = val\n",
    "#         self.left = left\n",
    "#         self.right = right\n",
    "class Solution:\n",
    "    def hasPathSum(self, root, targetSum):\n",
    "        if not root:\n",
    "            return False\n",
    "        \n",
    "        def process(root,preSum,tarSum):\n",
    "            if (not root.left) and (not root.right):\n",
    "                if root.val + preSum == tarSum:\n",
    "                    return True\n",
    "            #root非叶节点\n",
    "            preSum += root.val\n",
    "            left = False\n",
    "            right = False\n",
    "            if root.left:\n",
    "                left = process(root.left, preSum, tarSum)\n",
    "            if root.right:\n",
    "                right = process(root.right, preSum, tarSum)\n",
    "            return left | right\n",
    "        \n",
    "        \n",
    "        isSum = process(root, 0, targetSum)\n",
    "        return isSum"
   ]
  },
  {
   "cell_type": "markdown",
   "metadata": {},
   "source": [
    "### 4.返回所有存在路径和的路径"
   ]
  },
  {
   "cell_type": "code",
   "execution_count": 25,
   "metadata": {
    "collapsed": true
   },
   "outputs": [],
   "source": [
    "#https://leetcode.com/problems/path-sum-ii/\n",
    "#某一条路径，头节点到某个叶节点的所有途径节点和， 返回所有可以的路径\n",
    "\n",
    "# Definition for a binary tree node.\n",
    "# class TreeNode:\n",
    "#     def __init__(self, val=0, left=None, right=None):\n",
    "#         self.val = val\n",
    "#         self.left = left\n",
    "#         self.right = right\n",
    "class Solution:\n",
    "    def pathSum(self, root, targetSum):\n",
    "        ans = list()\n",
    "        if not root:\n",
    "            return ans\n",
    "        \n",
    "        def process(root, path, preSum, targetSum, ans):\n",
    "            if (not root.left) and (not root.right):\n",
    "                if(preSum + root.val == targetSum):\n",
    "                    path.append(root.val)\n",
    "                    ans.append(path[:])\n",
    "                    #恢复现场\n",
    "                    path.pop()\n",
    "                return\n",
    "            # root 非叶节点\n",
    "            path.append(root.val)\n",
    "            preSum += root.val\n",
    "            if root.left:\n",
    "                process(root.left, path, preSum, targetSum, ans)\n",
    "            if root.right:\n",
    "                process(root.right, path, preSum, targetSum, ans) \n",
    "            #恢复现场\n",
    "            path.pop()\n",
    "            return \n",
    "\n",
    "        process(root, list(), 0, targetSum, ans)\n",
    "        return ans\n",
    "        "
   ]
  },
  {
   "cell_type": "code",
   "execution_count": null,
   "metadata": {
    "collapsed": true
   },
   "outputs": [],
   "source": []
  }
 ],
 "metadata": {
  "kernelspec": {
   "display_name": "Python 3",
   "language": "python",
   "name": "python3"
  },
  "language_info": {
   "codemirror_mode": {
    "name": "ipython",
    "version": 3
   },
   "file_extension": ".py",
   "mimetype": "text/x-python",
   "name": "python",
   "nbconvert_exporter": "python",
   "pygments_lexer": "ipython3",
   "version": "3.6.1"
  }
 },
 "nbformat": 4,
 "nbformat_minor": 2
}
