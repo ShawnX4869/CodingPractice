{
 "cells": [
  {
   "cell_type": "markdown",
   "metadata": {},
   "source": [
    "## 1.数据结构"
   ]
  },
  {
   "cell_type": "code",
   "execution_count": null,
   "metadata": {
    "collapsed": true
   },
   "outputs": [],
   "source": [
    "# 数据结构均由 连续 + 跳表 结构构成。\n",
    "# 数组： 便于寻址，不便于增删数据\n",
    "# 链表： 便于增删数据，不便于寻址"
   ]
  },
  {
   "cell_type": "markdown",
   "metadata": {},
   "source": [
    "### 1.1 累加和"
   ]
  },
  {
   "cell_type": "code",
   "execution_count": 1,
   "metadata": {
    "collapsed": true
   },
   "outputs": [],
   "source": [
    "# 有一个数组arr，需要频繁查询从L到R的累加和：SUM(arr, L, R)\n",
    "#####预处理结构######\n",
    "# 第一种：正方形\n",
    "# 长为L，宽为R；rect[L,R+1] = rect[L,R] + arr[L,R+1]\n",
    "\n",
    "# 第二种：一维前缀和数组\n",
    "# 长为arr.length的help数组，每个数代表从0到i位置的累加和\n",
    "# help[i] = help[i-1] + arr[i], help[0] = arr[0]\n",
    "# 所以x到i的累加和 = help[i] - help[x-1]\n",
    "\n",
    "# 如果查询特别特别频繁，查询次数 > power(arr.length,2)，第一种好\n",
    "def preSum(seq):\n",
    "    if not seq:\n",
    "        return list()\n",
    "    preSum = list()\n",
    "    preSum.append(seq[0])\n",
    "    for i in range(1, len(seq)):\n",
    "        preSum.append(preSum[i-1]+seq[i])\n",
    "    return preSum\n",
    "def rangeSum(seq, L, R):\n",
    "    if not seq:\n",
    "        return 0\n",
    "    preSum = preSum(seq)\n",
    "    if L == 0:\n",
    "        return preSum[R]\n",
    "    else:\n",
    "        return preSum[R] - preSum[L-1]"
   ]
  },
  {
   "cell_type": "markdown",
   "metadata": {},
   "source": [
    "## 2. 随机函数"
   ]
  },
  {
   "cell_type": "markdown",
   "metadata": {},
   "source": [
    "### 2.1 x概率 -> 概率x^2"
   ]
  },
  {
   "cell_type": "code",
   "execution_count": 16,
   "metadata": {},
   "outputs": [
    {
     "name": "stdout",
     "output_type": "stream",
     "text": [
      "0.49084\n"
     ]
    }
   ],
   "source": [
    "# random.random() 返回(0,1)的小数\n",
    "# random.randint(x,y) 随机生成在范围之内的整数,包含x,y\n",
    "# random.choice(list) 从序列中随机抽选一个数\n",
    "# random.randrange(x,y,z)， 随机产生范围[x,y]步长为z的序列中的一个数。例如randrange(0,11,2)输出（0,2,4,6,8,10）中一个\n",
    "import random\n",
    "def powerX2(x):\n",
    "    return max(random.random(), random.random()) <= x\n",
    "count = 0\n",
    "for i in range(100000):\n",
    "    if powerX2(0.7):\n",
    "        count+=1\n",
    "print(count / 100000.0 )"
   ]
  },
  {
   "cell_type": "markdown",
   "metadata": {},
   "source": [
    "### 2.2 从1~5的f()得到1~7"
   ]
  },
  {
   "cell_type": "code",
   "execution_count": 35,
   "metadata": {
    "scrolled": true
   },
   "outputs": [
    {
     "name": "stdout",
     "output_type": "stream",
     "text": [
      "0.49986\n",
      "1.0\n"
     ]
    }
   ],
   "source": [
    "# 先将f改为01等概率\n",
    "def f(): #1~5\n",
    "    return int(random.random() * 5) + 1\n",
    "\n",
    "def f_01(): #0~1\n",
    "    ans = f()\n",
    "    while ans == 3:\n",
    "        ans = f()\n",
    "    return int(ans < 3)\n",
    "\n",
    "count = 0 \n",
    "for i in range(100000):\n",
    "    if f_help() == 0:\n",
    "        count+=1\n",
    "print(count / 100000.0 )\n",
    "\n",
    "def f_binary(): #0~7\n",
    "    ans = (f_help() << 2) + (f_help() << 1) + (f_help() << 0)\n",
    "    return ans\n",
    "\n",
    "count = 0\n",
    "for i in range(100000):\n",
    "    if f_binary() <= 7:\n",
    "        count+=1\n",
    "print(count / 100000.0 )\n",
    "\n",
    "def f_target(): #1~7\n",
    "    ans = f_binary()\n",
    "    while ans == 0:\n",
    "        ans = f_binary()\n",
    "    return ans\n",
    "\n",
    "#通用：想让[x,y]等概率 ==> [z, k]\n",
    "# [x,y]等概率 ==> [0,1]等概率 ==> [0, 2^(int(log_2(k-z)+1))] 等概率 ==> [0, k-z]等概率 + z"
   ]
  },
  {
   "cell_type": "markdown",
   "metadata": {},
   "source": [
    "### 2.3 不等概率01 得到 等概率"
   ]
  },
  {
   "cell_type": "code",
   "execution_count": 45,
   "metadata": {},
   "outputs": [
    {
     "name": "stdout",
     "output_type": "stream",
     "text": [
      "0.49806\n"
     ]
    }
   ],
   "source": [
    "# f() 0->P, 1-> 1-P\n",
    "# 两次f()为00、11 扔掉， 01返回0,10返回1\n",
    "def f():\n",
    "    return random.random() < 0.3\n",
    "def f_binary():\n",
    "    ans = f()\n",
    "    while f() == ans:\n",
    "        ans = f()\n",
    "    return ans\n",
    "\n",
    "count = 0\n",
    "for i in range(100000):\n",
    "    if f_binary() ==1:\n",
    "        count+=1\n",
    "print(count / 100000.0 )"
   ]
  },
  {
   "cell_type": "code",
   "execution_count": 48,
   "metadata": {},
   "outputs": [
    {
     "data": {
      "text/plain": [
       "0"
      ]
     },
     "execution_count": 48,
     "metadata": {},
     "output_type": "execute_result"
    }
   ],
   "source": []
  },
  {
   "cell_type": "code",
   "execution_count": null,
   "metadata": {
    "collapsed": true
   },
   "outputs": [],
   "source": []
  }
 ],
 "metadata": {
  "kernelspec": {
   "display_name": "Python 3",
   "language": "python",
   "name": "python3"
  },
  "language_info": {
   "codemirror_mode": {
    "name": "ipython",
    "version": 3
   },
   "file_extension": ".py",
   "mimetype": "text/x-python",
   "name": "python",
   "nbconvert_exporter": "python",
   "pygments_lexer": "ipython3",
   "version": "3.6.1"
  }
 },
 "nbformat": 4,
 "nbformat_minor": 2
}
