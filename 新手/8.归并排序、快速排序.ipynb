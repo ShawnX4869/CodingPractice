{
 "cells": [
  {
   "cell_type": "markdown",
   "metadata": {},
   "source": [
    "## 1. 归并排序"
   ]
  },
  {
   "cell_type": "code",
   "execution_count": 18,
   "metadata": {
    "collapsed": true
   },
   "outputs": [],
   "source": [
    "# 43102 | 56012\n",
    "# 01234 | 01256\n",
    "# 0011223456    <-- merge\n",
    "# 递归写法\n",
    "def merge(arr, L, M, R):\n",
    "    P1 = L\n",
    "    P2 = M+1\n",
    "    help_arr = list()\n",
    "    while P1 <= M and P2 <= R:\n",
    "        if arr[P1] <= arr[P2]:\n",
    "            help_arr.append(arr[P1])\n",
    "            P1+=1\n",
    "        else:\n",
    "            help_arr.append(arr[P2])\n",
    "            P2+=1\n",
    "    while P1 <= M:\n",
    "        help_arr.append(arr[P1])\n",
    "        P1+=1\n",
    "    while P2 <= R:\n",
    "        help_arr.append(arr[P2])\n",
    "        P2+=1\n",
    "    arr[L:R+1] = help_arr[:]\n",
    "\n",
    "def process(arr, L, R):\n",
    "    if L == R:\n",
    "        return\n",
    "    mid = L + ((R - L) >> 1)\n",
    "    process(arr, L, mid)\n",
    "    process(arr, mid+1, R)\n",
    "    merge(arr, L, mid, R)\n",
    "\n",
    "def mergeSort(arr):\n",
    "    if not arr or len(arr) < 2:\n",
    "        return\n",
    "    process(arr, 0, len(arr)-1)\n",
    "    return \n",
    "# 非递归写法\n",
    "# 利用步长达到 两两归并， 步长表示左、右组内数的个数\n",
    "# 当步长大于等于序列长度， 停止\n",
    "\n",
    "def mergeSort2(arr):\n",
    "    if not arr or len(arr) < 2:\n",
    "        return\n",
    "    step = 1\n",
    "    N = len(arr)\n",
    "    while step < N:\n",
    "        L = 0\n",
    "        while L < N:\n",
    "            if N - L >= step:#这里是判断是为了防止 L+step-1越界(L + step - 1 <= N - 1)\n",
    "                M = L+step-1 #凑的够左组 \n",
    "            else:\n",
    "                M = N-1      #没凑够左组 直接break\n",
    "                break\n",
    "            # M+1 ... R\n",
    "            if N - 1 - M >= step: #(M+step <= N-1)\n",
    "                R = M + step #凑得够右组\n",
    "            else:\n",
    "                R = N-1      #凑不够右组，但仍然merge本次，后续再停止\n",
    "            # L...M | M+1...R\n",
    "            merge(arr, L, M, R)\n",
    "            \n",
    "            if R == N-1: #防越界\n",
    "                break\n",
    "            else:\n",
    "                L = R+1 #继续划分下一组\n",
    "        if step > (N // 2): #java防溢出问题\n",
    "            break \n",
    "        step *=2\n",
    "    return\n"
   ]
  },
  {
   "cell_type": "code",
   "execution_count": 19,
   "metadata": {},
   "outputs": [
    {
     "name": "stdout",
     "output_type": "stream",
     "text": [
      "[0, 1, 1, 2, 3, 4, 5, 7]\n"
     ]
    }
   ],
   "source": [
    "arr = [1,4,5,2,3,7,0,1]\n",
    "mergeSort2(arr)\n",
    "print(arr)"
   ]
  },
  {
   "cell_type": "markdown",
   "metadata": {},
   "source": [
    "## 2.快速排序"
   ]
  },
  {
   "cell_type": "code",
   "execution_count": 30,
   "metadata": {},
   "outputs": [
    {
     "name": "stdout",
     "output_type": "stream",
     "text": [
      "[1, 2, 3, 2, 2, 3, 4, 4, 4, 5, 6, 5, 6]\n"
     ]
    }
   ],
   "source": [
    "# 原理：左部分小于等于中点，右部分大于中点\n",
    "# 实现 1. 从左往右，最右端为P，当前数 <= P，当前数与下一个数交换，当前数指针向右移动（用一个指针变量记录左侧为<=区\n",
    "#     2.                   当前数 > P， 当前数指针向下一个跳\n",
    "\n",
    "def swap(arr, i, j):\n",
    "    #注意，如果i，j有可能相当，那么要写base case。不然异或自己会变为0\n",
    "    if i == j:\n",
    "        return\n",
    "    arr[i] ^= arr[j]\n",
    "    arr[j] ^= arr[i]\n",
    "    arr[i] ^= arr[j]\n",
    "    \n",
    "def splitNum(arr):\n",
    "    lessEqualR = -1\n",
    "    index = 0\n",
    "    mostR = len(arr) - 1\n",
    "    while index < len(arr): #当index来到mostR，将mostR换到lessEqualR侧\n",
    "        if arr[index] <= arr[mostR]:\n",
    "            swap(arr, lessEqualR + 1, index)\n",
    "            lessEqualR += 1\n",
    "            index += 1\n",
    "        else:\n",
    "            index += 1\n",
    "\n",
    "# 升级版本 左边小于中，中间等于中，右边大于中\n",
    "# 实现 1. 从左往右，最右端为P，当前数 < P，当前数与下一个数交换，小于区向右扩，当前数指针向右移动（用一个指针变量记录左侧为<区\n",
    "#     2.                   当前数 > P， 当前数与大于区前一个数，大于区往左扩， 当前数指针不变（因为当前数是大于区的前面一个换来的，还没判断\n",
    "#     3.                   当前数 = P， 当前数直接跳下一个\n",
    "#     4. 当当前数 = 大于区边界，当前数 与 P交换， 完成\n",
    "\n",
    "def splitNum2(arr):\n",
    "    lessR = -1\n",
    "    N = len(arr)\n",
    "    moreL = N - 1\n",
    "    index = 0\n",
    "    while index < moreL:\n",
    "        if arr[index] < arr[N-1]:\n",
    "            swap(arr, lessR+1, index)\n",
    "            lessR += 1\n",
    "            index += 1\n",
    "        elif arr[index] > arr[N-1]:\n",
    "            swap(arr, moreL-1, index)\n",
    "            moreL -= 1\n",
    "        else:\n",
    "            index += 1\n",
    "    #index == moreL\n",
    "    swap(arr, moreL, N-1)\n",
    "\n",
    "arr=[1,2,5,6,4,4,2,3,5,6,2,3,4]\n",
    "splitNum2(arr)\n",
    "print(arr)"
   ]
  },
  {
   "cell_type": "code",
   "execution_count": 25,
   "metadata": {},
   "outputs": [
    {
     "name": "stdout",
     "output_type": "stream",
     "text": [
      "[1, 3, 2]\n"
     ]
    }
   ],
   "source": [
    "a = [1,2,3]\n",
    "a[1] ^= a[2]\n",
    "a[2] ^= a[1]\n",
    "a[1] ^= a[2]\n",
    "print(a)"
   ]
  },
  {
   "cell_type": "code",
   "execution_count": 32,
   "metadata": {
    "collapsed": true
   },
   "outputs": [],
   "source": [
    "# 快排， 选定n-1，做partition。partition后中间区域为等于区域，已有序。左侧、右侧分别继续做partition\n",
    "def partition(arr, L, R):\n",
    "    #在arr[L...R]上以R做划分值，做partition\n",
    "    #返回中间区域的左右边界\n",
    "    lessR = L - 1\n",
    "    moreL = R\n",
    "    index = L\n",
    "    while index < moreL:\n",
    "        if arr[index] < arr[R]:\n",
    "            swap(arr, lessR+1, index)\n",
    "            lessR += 1\n",
    "            index += 1\n",
    "        elif arr[index] > arr[R]:\n",
    "            swap(arr, moreL-1, index)\n",
    "            moreL -= 1\n",
    "        else:\n",
    "            index += 1\n",
    "    swap(arr, moreL, R)\n",
    "    return lessR+1, moreL\n",
    "\n",
    "def process(arr, L, R):\n",
    "    if L >= R:\n",
    "        return \n",
    "    # L < R #有大于1个数\n",
    "    equalL, equalR = partition(arr, L, R)\n",
    "    process(arr, L, equalL - 1)\n",
    "    process(arr, equalL + 1, R)\n",
    "        \n",
    "\n",
    "def quickSort(arr):\n",
    "    if not arr or len(arr) < 2:\n",
    "        return \n",
    "    process(arr, 0, len(arr) - 1)\n",
    "    return"
   ]
  },
  {
   "cell_type": "code",
   "execution_count": 33,
   "metadata": {},
   "outputs": [
    {
     "name": "stdout",
     "output_type": "stream",
     "text": [
      "[1, 2, 2, 2, 3, 3, 4, 4, 4, 5, 5, 6, 6]\n"
     ]
    }
   ],
   "source": [
    "arr=[1,2,5,6,4,4,2,3,5,6,2,3,4]\n",
    "quickSort(arr)\n",
    "print(arr)"
   ]
  },
  {
   "cell_type": "code",
   "execution_count": 36,
   "metadata": {
    "collapsed": true
   },
   "outputs": [],
   "source": [
    "# 非递归版本 快排\n",
    "# 每次递归都有L...R的partition任务。将所有任务放到栈\n",
    "# class sortJob:\n",
    "#     def __init__(self, L, R):\n",
    "#         self.L = L\n",
    "#         self.R = R\n",
    "\n",
    "#partition不变\n",
    "\n",
    "def quickSort2(arr):\n",
    "    if not arr or len(arr) < 2:\n",
    "        return \n",
    "    jobList = list()\n",
    "    jobList.append((0, len(arr)-1))\n",
    "    while jobList:\n",
    "        job = jobList.pop(0)\n",
    "        L, R = job[0], job[1]\n",
    "        equalL, equalR = partition(arr, L, R)\n",
    "        #注意可能没有小于区域\n",
    "        if equalL > L: #才有小于区域\n",
    "            jobList.append((L, equalL-1))\n",
    "        if equalR < R: #才有大于区域\n",
    "            jobList.append((equalR+1, R))\n",
    "    return"
   ]
  },
  {
   "cell_type": "code",
   "execution_count": 37,
   "metadata": {},
   "outputs": [
    {
     "name": "stdout",
     "output_type": "stream",
     "text": [
      "[1, 2, 2, 2, 3, 3, 4, 4, 4, 5, 5, 6, 6]\n"
     ]
    }
   ],
   "source": [
    "arr=[1,2,5,6,4,4,2,3,5,6,2,3,4]\n",
    "quickSort2(arr)\n",
    "print(arr)"
   ]
  },
  {
   "cell_type": "code",
   "execution_count": null,
   "metadata": {
    "collapsed": true
   },
   "outputs": [],
   "source": []
  }
 ],
 "metadata": {
  "kernelspec": {
   "display_name": "Python 3",
   "language": "python",
   "name": "python3"
  },
  "language_info": {
   "codemirror_mode": {
    "name": "ipython",
    "version": 3
   },
   "file_extension": ".py",
   "mimetype": "text/x-python",
   "name": "python",
   "nbconvert_exporter": "python",
   "pygments_lexer": "ipython3",
   "version": "3.6.1"
  }
 },
 "nbformat": 4,
 "nbformat_minor": 2
}
