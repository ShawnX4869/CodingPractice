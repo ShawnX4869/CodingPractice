{
 "cells": [
  {
   "cell_type": "markdown",
   "id": "f206040f",
   "metadata": {},
   "source": [
    "### 一根长度为K的绳子，最多能盖住几个点\n",
    "给定一个有序数组arr，代表坐落在X轴上的点，给定一个正数K，代表绳子的长度，返回绳子最多压中几个点？\n",
    "即使绳子边缘处盖住点也算盖住"
   ]
  },
  {
   "cell_type": "code",
   "execution_count": 83,
   "id": "2dce2c2d",
   "metadata": {},
   "outputs": [],
   "source": [
    "'''\n",
    "思路: 贪心， 绳子作为窗口从左到右压住点的个数\n",
    "'''\n",
    "import random \n",
    "\n",
    "def generateRandomIntArr(max_len, max_value, neg=False):\n",
    "    length = random.randint(0, max_len)\n",
    "    arr = []\n",
    "    for _ in range(length):\n",
    "        arr.append(random.randint(-max_value * neg, max_value))\n",
    "    return arr\n",
    "\n",
    "def CordCoverMaxPoint(arr, K):\n",
    "    if not arr or K <= 0:\n",
    "        return 0\n",
    "    L = 0\n",
    "    R = 0\n",
    "    ans = 0\n",
    "    while L <= len(arr) - 1:\n",
    "        while R <= len(arr) - 1 and arr[R] - arr[L] <= K :\n",
    "            R += 1\n",
    "        else:\n",
    "            ans = max(ans, R - L)\n",
    "            L += 1\n",
    "    return ans\n",
    "        \n"
   ]
  },
  {
   "cell_type": "code",
   "execution_count": 84,
   "id": "79fa611a",
   "metadata": {},
   "outputs": [],
   "source": [
    "arr = sorted(generateRandomIntArr(6, 5, False))"
   ]
  },
  {
   "cell_type": "code",
   "execution_count": 85,
   "id": "ac253c2b",
   "metadata": {},
   "outputs": [
    {
     "data": {
      "text/plain": [
       "[0, 5]"
      ]
     },
     "execution_count": 85,
     "metadata": {},
     "output_type": "execute_result"
    }
   ],
   "source": [
    "arr"
   ]
  },
  {
   "cell_type": "code",
   "execution_count": 86,
   "id": "9bd7d96b",
   "metadata": {},
   "outputs": [
    {
     "data": {
      "text/plain": [
       "1"
      ]
     },
     "execution_count": 86,
     "metadata": {},
     "output_type": "execute_result"
    }
   ],
   "source": [
    "CordCoverMaxPoint(arr, 3)"
   ]
  },
  {
   "cell_type": "code",
   "execution_count": null,
   "id": "fe5ae367",
   "metadata": {},
   "outputs": [],
   "source": []
  }
 ],
 "metadata": {
  "kernelspec": {
   "display_name": "Python 3 (ipykernel)",
   "language": "python",
   "name": "python3"
  },
  "language_info": {
   "codemirror_mode": {
    "name": "ipython",
    "version": 3
   },
   "file_extension": ".py",
   "mimetype": "text/x-python",
   "name": "python",
   "nbconvert_exporter": "python",
   "pygments_lexer": "ipython3",
   "version": "3.9.12"
  },
  "toc": {
   "base_numbering": 1,
   "nav_menu": {},
   "number_sections": true,
   "sideBar": true,
   "skip_h1_title": false,
   "title_cell": "Table of Contents",
   "title_sidebar": "Contents",
   "toc_cell": false,
   "toc_position": {},
   "toc_section_display": true,
   "toc_window_display": false
  }
 },
 "nbformat": 4,
 "nbformat_minor": 5
}
